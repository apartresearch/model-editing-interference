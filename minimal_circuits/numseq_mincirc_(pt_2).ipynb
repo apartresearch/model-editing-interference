{
  "nbformat": 4,
  "nbformat_minor": 0,
  "metadata": {
    "colab": {
      "provenance": [],
      "machine_shape": "hm",
      "gpuType": "T4",
      "collapsed_sections": [
        "DcZG9rm2IAiA",
        "OLkInsdjyHMx"
      ]
    },
    "kernelspec": {
      "name": "python3",
      "display_name": "Python 3"
    },
    "language_info": {
      "name": "python"
    },
    "accelerator": "GPU",
    "widgets": {
      "application/vnd.jupyter.widget-state+json": {
        "9a5e11ffad3f44639276e791b02b2d45": {
          "model_module": "@jupyter-widgets/controls",
          "model_name": "HBoxModel",
          "model_module_version": "1.5.0",
          "state": {
            "_dom_classes": [],
            "_model_module": "@jupyter-widgets/controls",
            "_model_module_version": "1.5.0",
            "_model_name": "HBoxModel",
            "_view_count": null,
            "_view_module": "@jupyter-widgets/controls",
            "_view_module_version": "1.5.0",
            "_view_name": "HBoxView",
            "box_style": "",
            "children": [
              "IPY_MODEL_3256e520945a4ce08316dc80bc6b287c",
              "IPY_MODEL_d0f8c22d3ad54551855d18e029f5abdc",
              "IPY_MODEL_8adc1efefb7d43498b16dcc51d96fef0"
            ],
            "layout": "IPY_MODEL_2ed1618fe80745218f8b77c41335d20f"
          }
        },
        "3256e520945a4ce08316dc80bc6b287c": {
          "model_module": "@jupyter-widgets/controls",
          "model_name": "HTMLModel",
          "model_module_version": "1.5.0",
          "state": {
            "_dom_classes": [],
            "_model_module": "@jupyter-widgets/controls",
            "_model_module_version": "1.5.0",
            "_model_name": "HTMLModel",
            "_view_count": null,
            "_view_module": "@jupyter-widgets/controls",
            "_view_module_version": "1.5.0",
            "_view_name": "HTMLView",
            "description": "",
            "description_tooltip": null,
            "layout": "IPY_MODEL_442cbb0226064a2496a7c650c398beba",
            "placeholder": "​",
            "style": "IPY_MODEL_58d4790c1754457e8222f9683a39a8a9",
            "value": "Downloading (…)lve/main/config.json: 100%"
          }
        },
        "d0f8c22d3ad54551855d18e029f5abdc": {
          "model_module": "@jupyter-widgets/controls",
          "model_name": "FloatProgressModel",
          "model_module_version": "1.5.0",
          "state": {
            "_dom_classes": [],
            "_model_module": "@jupyter-widgets/controls",
            "_model_module_version": "1.5.0",
            "_model_name": "FloatProgressModel",
            "_view_count": null,
            "_view_module": "@jupyter-widgets/controls",
            "_view_module_version": "1.5.0",
            "_view_name": "ProgressView",
            "bar_style": "success",
            "description": "",
            "description_tooltip": null,
            "layout": "IPY_MODEL_c6bf2157639e47979a02ab29a2b720ca",
            "max": 665,
            "min": 0,
            "orientation": "horizontal",
            "style": "IPY_MODEL_7b114d98e96144acade5618370ffb08c",
            "value": 665
          }
        },
        "8adc1efefb7d43498b16dcc51d96fef0": {
          "model_module": "@jupyter-widgets/controls",
          "model_name": "HTMLModel",
          "model_module_version": "1.5.0",
          "state": {
            "_dom_classes": [],
            "_model_module": "@jupyter-widgets/controls",
            "_model_module_version": "1.5.0",
            "_model_name": "HTMLModel",
            "_view_count": null,
            "_view_module": "@jupyter-widgets/controls",
            "_view_module_version": "1.5.0",
            "_view_name": "HTMLView",
            "description": "",
            "description_tooltip": null,
            "layout": "IPY_MODEL_45d7c44977bc4ba3b34d7e3c91514603",
            "placeholder": "​",
            "style": "IPY_MODEL_aba890528ed24c4d8b2427fe8fc1d846",
            "value": " 665/665 [00:00&lt;00:00, 47.8kB/s]"
          }
        },
        "2ed1618fe80745218f8b77c41335d20f": {
          "model_module": "@jupyter-widgets/base",
          "model_name": "LayoutModel",
          "model_module_version": "1.2.0",
          "state": {
            "_model_module": "@jupyter-widgets/base",
            "_model_module_version": "1.2.0",
            "_model_name": "LayoutModel",
            "_view_count": null,
            "_view_module": "@jupyter-widgets/base",
            "_view_module_version": "1.2.0",
            "_view_name": "LayoutView",
            "align_content": null,
            "align_items": null,
            "align_self": null,
            "border": null,
            "bottom": null,
            "display": null,
            "flex": null,
            "flex_flow": null,
            "grid_area": null,
            "grid_auto_columns": null,
            "grid_auto_flow": null,
            "grid_auto_rows": null,
            "grid_column": null,
            "grid_gap": null,
            "grid_row": null,
            "grid_template_areas": null,
            "grid_template_columns": null,
            "grid_template_rows": null,
            "height": null,
            "justify_content": null,
            "justify_items": null,
            "left": null,
            "margin": null,
            "max_height": null,
            "max_width": null,
            "min_height": null,
            "min_width": null,
            "object_fit": null,
            "object_position": null,
            "order": null,
            "overflow": null,
            "overflow_x": null,
            "overflow_y": null,
            "padding": null,
            "right": null,
            "top": null,
            "visibility": null,
            "width": null
          }
        },
        "442cbb0226064a2496a7c650c398beba": {
          "model_module": "@jupyter-widgets/base",
          "model_name": "LayoutModel",
          "model_module_version": "1.2.0",
          "state": {
            "_model_module": "@jupyter-widgets/base",
            "_model_module_version": "1.2.0",
            "_model_name": "LayoutModel",
            "_view_count": null,
            "_view_module": "@jupyter-widgets/base",
            "_view_module_version": "1.2.0",
            "_view_name": "LayoutView",
            "align_content": null,
            "align_items": null,
            "align_self": null,
            "border": null,
            "bottom": null,
            "display": null,
            "flex": null,
            "flex_flow": null,
            "grid_area": null,
            "grid_auto_columns": null,
            "grid_auto_flow": null,
            "grid_auto_rows": null,
            "grid_column": null,
            "grid_gap": null,
            "grid_row": null,
            "grid_template_areas": null,
            "grid_template_columns": null,
            "grid_template_rows": null,
            "height": null,
            "justify_content": null,
            "justify_items": null,
            "left": null,
            "margin": null,
            "max_height": null,
            "max_width": null,
            "min_height": null,
            "min_width": null,
            "object_fit": null,
            "object_position": null,
            "order": null,
            "overflow": null,
            "overflow_x": null,
            "overflow_y": null,
            "padding": null,
            "right": null,
            "top": null,
            "visibility": null,
            "width": null
          }
        },
        "58d4790c1754457e8222f9683a39a8a9": {
          "model_module": "@jupyter-widgets/controls",
          "model_name": "DescriptionStyleModel",
          "model_module_version": "1.5.0",
          "state": {
            "_model_module": "@jupyter-widgets/controls",
            "_model_module_version": "1.5.0",
            "_model_name": "DescriptionStyleModel",
            "_view_count": null,
            "_view_module": "@jupyter-widgets/base",
            "_view_module_version": "1.2.0",
            "_view_name": "StyleView",
            "description_width": ""
          }
        },
        "c6bf2157639e47979a02ab29a2b720ca": {
          "model_module": "@jupyter-widgets/base",
          "model_name": "LayoutModel",
          "model_module_version": "1.2.0",
          "state": {
            "_model_module": "@jupyter-widgets/base",
            "_model_module_version": "1.2.0",
            "_model_name": "LayoutModel",
            "_view_count": null,
            "_view_module": "@jupyter-widgets/base",
            "_view_module_version": "1.2.0",
            "_view_name": "LayoutView",
            "align_content": null,
            "align_items": null,
            "align_self": null,
            "border": null,
            "bottom": null,
            "display": null,
            "flex": null,
            "flex_flow": null,
            "grid_area": null,
            "grid_auto_columns": null,
            "grid_auto_flow": null,
            "grid_auto_rows": null,
            "grid_column": null,
            "grid_gap": null,
            "grid_row": null,
            "grid_template_areas": null,
            "grid_template_columns": null,
            "grid_template_rows": null,
            "height": null,
            "justify_content": null,
            "justify_items": null,
            "left": null,
            "margin": null,
            "max_height": null,
            "max_width": null,
            "min_height": null,
            "min_width": null,
            "object_fit": null,
            "object_position": null,
            "order": null,
            "overflow": null,
            "overflow_x": null,
            "overflow_y": null,
            "padding": null,
            "right": null,
            "top": null,
            "visibility": null,
            "width": null
          }
        },
        "7b114d98e96144acade5618370ffb08c": {
          "model_module": "@jupyter-widgets/controls",
          "model_name": "ProgressStyleModel",
          "model_module_version": "1.5.0",
          "state": {
            "_model_module": "@jupyter-widgets/controls",
            "_model_module_version": "1.5.0",
            "_model_name": "ProgressStyleModel",
            "_view_count": null,
            "_view_module": "@jupyter-widgets/base",
            "_view_module_version": "1.2.0",
            "_view_name": "StyleView",
            "bar_color": null,
            "description_width": ""
          }
        },
        "45d7c44977bc4ba3b34d7e3c91514603": {
          "model_module": "@jupyter-widgets/base",
          "model_name": "LayoutModel",
          "model_module_version": "1.2.0",
          "state": {
            "_model_module": "@jupyter-widgets/base",
            "_model_module_version": "1.2.0",
            "_model_name": "LayoutModel",
            "_view_count": null,
            "_view_module": "@jupyter-widgets/base",
            "_view_module_version": "1.2.0",
            "_view_name": "LayoutView",
            "align_content": null,
            "align_items": null,
            "align_self": null,
            "border": null,
            "bottom": null,
            "display": null,
            "flex": null,
            "flex_flow": null,
            "grid_area": null,
            "grid_auto_columns": null,
            "grid_auto_flow": null,
            "grid_auto_rows": null,
            "grid_column": null,
            "grid_gap": null,
            "grid_row": null,
            "grid_template_areas": null,
            "grid_template_columns": null,
            "grid_template_rows": null,
            "height": null,
            "justify_content": null,
            "justify_items": null,
            "left": null,
            "margin": null,
            "max_height": null,
            "max_width": null,
            "min_height": null,
            "min_width": null,
            "object_fit": null,
            "object_position": null,
            "order": null,
            "overflow": null,
            "overflow_x": null,
            "overflow_y": null,
            "padding": null,
            "right": null,
            "top": null,
            "visibility": null,
            "width": null
          }
        },
        "aba890528ed24c4d8b2427fe8fc1d846": {
          "model_module": "@jupyter-widgets/controls",
          "model_name": "DescriptionStyleModel",
          "model_module_version": "1.5.0",
          "state": {
            "_model_module": "@jupyter-widgets/controls",
            "_model_module_version": "1.5.0",
            "_model_name": "DescriptionStyleModel",
            "_view_count": null,
            "_view_module": "@jupyter-widgets/base",
            "_view_module_version": "1.2.0",
            "_view_name": "StyleView",
            "description_width": ""
          }
        },
        "238536b2787b43f9bfd784fb485f94c2": {
          "model_module": "@jupyter-widgets/controls",
          "model_name": "HBoxModel",
          "model_module_version": "1.5.0",
          "state": {
            "_dom_classes": [],
            "_model_module": "@jupyter-widgets/controls",
            "_model_module_version": "1.5.0",
            "_model_name": "HBoxModel",
            "_view_count": null,
            "_view_module": "@jupyter-widgets/controls",
            "_view_module_version": "1.5.0",
            "_view_name": "HBoxView",
            "box_style": "",
            "children": [
              "IPY_MODEL_69dd5b31d6a241cc859cc6ab4e9e4e8d",
              "IPY_MODEL_28f7d70c48ac4a288fd902ad358ce396",
              "IPY_MODEL_20a9e138a7914e5c8d40c17d01424cf5"
            ],
            "layout": "IPY_MODEL_544f67859cf143b5b9d1433e22e4ea2d"
          }
        },
        "69dd5b31d6a241cc859cc6ab4e9e4e8d": {
          "model_module": "@jupyter-widgets/controls",
          "model_name": "HTMLModel",
          "model_module_version": "1.5.0",
          "state": {
            "_dom_classes": [],
            "_model_module": "@jupyter-widgets/controls",
            "_model_module_version": "1.5.0",
            "_model_name": "HTMLModel",
            "_view_count": null,
            "_view_module": "@jupyter-widgets/controls",
            "_view_module_version": "1.5.0",
            "_view_name": "HTMLView",
            "description": "",
            "description_tooltip": null,
            "layout": "IPY_MODEL_8a3406b441ad45cda29ca241205e7e4b",
            "placeholder": "​",
            "style": "IPY_MODEL_746934dcd5534012b1fec11a8241e7ff",
            "value": "Downloading model.safetensors: 100%"
          }
        },
        "28f7d70c48ac4a288fd902ad358ce396": {
          "model_module": "@jupyter-widgets/controls",
          "model_name": "FloatProgressModel",
          "model_module_version": "1.5.0",
          "state": {
            "_dom_classes": [],
            "_model_module": "@jupyter-widgets/controls",
            "_model_module_version": "1.5.0",
            "_model_name": "FloatProgressModel",
            "_view_count": null,
            "_view_module": "@jupyter-widgets/controls",
            "_view_module_version": "1.5.0",
            "_view_name": "ProgressView",
            "bar_style": "success",
            "description": "",
            "description_tooltip": null,
            "layout": "IPY_MODEL_8d6318d6d63c40c7b546b635a2ada529",
            "max": 548105171,
            "min": 0,
            "orientation": "horizontal",
            "style": "IPY_MODEL_16763e816242479682e5932f2788462c",
            "value": 548105171
          }
        },
        "20a9e138a7914e5c8d40c17d01424cf5": {
          "model_module": "@jupyter-widgets/controls",
          "model_name": "HTMLModel",
          "model_module_version": "1.5.0",
          "state": {
            "_dom_classes": [],
            "_model_module": "@jupyter-widgets/controls",
            "_model_module_version": "1.5.0",
            "_model_name": "HTMLModel",
            "_view_count": null,
            "_view_module": "@jupyter-widgets/controls",
            "_view_module_version": "1.5.0",
            "_view_name": "HTMLView",
            "description": "",
            "description_tooltip": null,
            "layout": "IPY_MODEL_27356e880cb349988a225fcadd2d868e",
            "placeholder": "​",
            "style": "IPY_MODEL_69ee318b7316433da2f0b058e8cfd276",
            "value": " 548M/548M [00:01&lt;00:00, 429MB/s]"
          }
        },
        "544f67859cf143b5b9d1433e22e4ea2d": {
          "model_module": "@jupyter-widgets/base",
          "model_name": "LayoutModel",
          "model_module_version": "1.2.0",
          "state": {
            "_model_module": "@jupyter-widgets/base",
            "_model_module_version": "1.2.0",
            "_model_name": "LayoutModel",
            "_view_count": null,
            "_view_module": "@jupyter-widgets/base",
            "_view_module_version": "1.2.0",
            "_view_name": "LayoutView",
            "align_content": null,
            "align_items": null,
            "align_self": null,
            "border": null,
            "bottom": null,
            "display": null,
            "flex": null,
            "flex_flow": null,
            "grid_area": null,
            "grid_auto_columns": null,
            "grid_auto_flow": null,
            "grid_auto_rows": null,
            "grid_column": null,
            "grid_gap": null,
            "grid_row": null,
            "grid_template_areas": null,
            "grid_template_columns": null,
            "grid_template_rows": null,
            "height": null,
            "justify_content": null,
            "justify_items": null,
            "left": null,
            "margin": null,
            "max_height": null,
            "max_width": null,
            "min_height": null,
            "min_width": null,
            "object_fit": null,
            "object_position": null,
            "order": null,
            "overflow": null,
            "overflow_x": null,
            "overflow_y": null,
            "padding": null,
            "right": null,
            "top": null,
            "visibility": null,
            "width": null
          }
        },
        "8a3406b441ad45cda29ca241205e7e4b": {
          "model_module": "@jupyter-widgets/base",
          "model_name": "LayoutModel",
          "model_module_version": "1.2.0",
          "state": {
            "_model_module": "@jupyter-widgets/base",
            "_model_module_version": "1.2.0",
            "_model_name": "LayoutModel",
            "_view_count": null,
            "_view_module": "@jupyter-widgets/base",
            "_view_module_version": "1.2.0",
            "_view_name": "LayoutView",
            "align_content": null,
            "align_items": null,
            "align_self": null,
            "border": null,
            "bottom": null,
            "display": null,
            "flex": null,
            "flex_flow": null,
            "grid_area": null,
            "grid_auto_columns": null,
            "grid_auto_flow": null,
            "grid_auto_rows": null,
            "grid_column": null,
            "grid_gap": null,
            "grid_row": null,
            "grid_template_areas": null,
            "grid_template_columns": null,
            "grid_template_rows": null,
            "height": null,
            "justify_content": null,
            "justify_items": null,
            "left": null,
            "margin": null,
            "max_height": null,
            "max_width": null,
            "min_height": null,
            "min_width": null,
            "object_fit": null,
            "object_position": null,
            "order": null,
            "overflow": null,
            "overflow_x": null,
            "overflow_y": null,
            "padding": null,
            "right": null,
            "top": null,
            "visibility": null,
            "width": null
          }
        },
        "746934dcd5534012b1fec11a8241e7ff": {
          "model_module": "@jupyter-widgets/controls",
          "model_name": "DescriptionStyleModel",
          "model_module_version": "1.5.0",
          "state": {
            "_model_module": "@jupyter-widgets/controls",
            "_model_module_version": "1.5.0",
            "_model_name": "DescriptionStyleModel",
            "_view_count": null,
            "_view_module": "@jupyter-widgets/base",
            "_view_module_version": "1.2.0",
            "_view_name": "StyleView",
            "description_width": ""
          }
        },
        "8d6318d6d63c40c7b546b635a2ada529": {
          "model_module": "@jupyter-widgets/base",
          "model_name": "LayoutModel",
          "model_module_version": "1.2.0",
          "state": {
            "_model_module": "@jupyter-widgets/base",
            "_model_module_version": "1.2.0",
            "_model_name": "LayoutModel",
            "_view_count": null,
            "_view_module": "@jupyter-widgets/base",
            "_view_module_version": "1.2.0",
            "_view_name": "LayoutView",
            "align_content": null,
            "align_items": null,
            "align_self": null,
            "border": null,
            "bottom": null,
            "display": null,
            "flex": null,
            "flex_flow": null,
            "grid_area": null,
            "grid_auto_columns": null,
            "grid_auto_flow": null,
            "grid_auto_rows": null,
            "grid_column": null,
            "grid_gap": null,
            "grid_row": null,
            "grid_template_areas": null,
            "grid_template_columns": null,
            "grid_template_rows": null,
            "height": null,
            "justify_content": null,
            "justify_items": null,
            "left": null,
            "margin": null,
            "max_height": null,
            "max_width": null,
            "min_height": null,
            "min_width": null,
            "object_fit": null,
            "object_position": null,
            "order": null,
            "overflow": null,
            "overflow_x": null,
            "overflow_y": null,
            "padding": null,
            "right": null,
            "top": null,
            "visibility": null,
            "width": null
          }
        },
        "16763e816242479682e5932f2788462c": {
          "model_module": "@jupyter-widgets/controls",
          "model_name": "ProgressStyleModel",
          "model_module_version": "1.5.0",
          "state": {
            "_model_module": "@jupyter-widgets/controls",
            "_model_module_version": "1.5.0",
            "_model_name": "ProgressStyleModel",
            "_view_count": null,
            "_view_module": "@jupyter-widgets/base",
            "_view_module_version": "1.2.0",
            "_view_name": "StyleView",
            "bar_color": null,
            "description_width": ""
          }
        },
        "27356e880cb349988a225fcadd2d868e": {
          "model_module": "@jupyter-widgets/base",
          "model_name": "LayoutModel",
          "model_module_version": "1.2.0",
          "state": {
            "_model_module": "@jupyter-widgets/base",
            "_model_module_version": "1.2.0",
            "_model_name": "LayoutModel",
            "_view_count": null,
            "_view_module": "@jupyter-widgets/base",
            "_view_module_version": "1.2.0",
            "_view_name": "LayoutView",
            "align_content": null,
            "align_items": null,
            "align_self": null,
            "border": null,
            "bottom": null,
            "display": null,
            "flex": null,
            "flex_flow": null,
            "grid_area": null,
            "grid_auto_columns": null,
            "grid_auto_flow": null,
            "grid_auto_rows": null,
            "grid_column": null,
            "grid_gap": null,
            "grid_row": null,
            "grid_template_areas": null,
            "grid_template_columns": null,
            "grid_template_rows": null,
            "height": null,
            "justify_content": null,
            "justify_items": null,
            "left": null,
            "margin": null,
            "max_height": null,
            "max_width": null,
            "min_height": null,
            "min_width": null,
            "object_fit": null,
            "object_position": null,
            "order": null,
            "overflow": null,
            "overflow_x": null,
            "overflow_y": null,
            "padding": null,
            "right": null,
            "top": null,
            "visibility": null,
            "width": null
          }
        },
        "69ee318b7316433da2f0b058e8cfd276": {
          "model_module": "@jupyter-widgets/controls",
          "model_name": "DescriptionStyleModel",
          "model_module_version": "1.5.0",
          "state": {
            "_model_module": "@jupyter-widgets/controls",
            "_model_module_version": "1.5.0",
            "_model_name": "DescriptionStyleModel",
            "_view_count": null,
            "_view_module": "@jupyter-widgets/base",
            "_view_module_version": "1.2.0",
            "_view_name": "StyleView",
            "description_width": ""
          }
        },
        "87250f5e54804570a0ad4d52e49381dc": {
          "model_module": "@jupyter-widgets/controls",
          "model_name": "HBoxModel",
          "model_module_version": "1.5.0",
          "state": {
            "_dom_classes": [],
            "_model_module": "@jupyter-widgets/controls",
            "_model_module_version": "1.5.0",
            "_model_name": "HBoxModel",
            "_view_count": null,
            "_view_module": "@jupyter-widgets/controls",
            "_view_module_version": "1.5.0",
            "_view_name": "HBoxView",
            "box_style": "",
            "children": [
              "IPY_MODEL_949883048e7a438fb9a15c3f67f16601",
              "IPY_MODEL_4ed760614af341ab87850f9074d96017",
              "IPY_MODEL_87a523433113451a9af45a33f3e55ce0"
            ],
            "layout": "IPY_MODEL_bf5e3792590e441e8f0321ef7f54b1a4"
          }
        },
        "949883048e7a438fb9a15c3f67f16601": {
          "model_module": "@jupyter-widgets/controls",
          "model_name": "HTMLModel",
          "model_module_version": "1.5.0",
          "state": {
            "_dom_classes": [],
            "_model_module": "@jupyter-widgets/controls",
            "_model_module_version": "1.5.0",
            "_model_name": "HTMLModel",
            "_view_count": null,
            "_view_module": "@jupyter-widgets/controls",
            "_view_module_version": "1.5.0",
            "_view_name": "HTMLView",
            "description": "",
            "description_tooltip": null,
            "layout": "IPY_MODEL_5a76b7b775d64316888c897657319f4f",
            "placeholder": "​",
            "style": "IPY_MODEL_ad02459beb91481f8ba98fcae6d554e9",
            "value": "Downloading (…)neration_config.json: 100%"
          }
        },
        "4ed760614af341ab87850f9074d96017": {
          "model_module": "@jupyter-widgets/controls",
          "model_name": "FloatProgressModel",
          "model_module_version": "1.5.0",
          "state": {
            "_dom_classes": [],
            "_model_module": "@jupyter-widgets/controls",
            "_model_module_version": "1.5.0",
            "_model_name": "FloatProgressModel",
            "_view_count": null,
            "_view_module": "@jupyter-widgets/controls",
            "_view_module_version": "1.5.0",
            "_view_name": "ProgressView",
            "bar_style": "success",
            "description": "",
            "description_tooltip": null,
            "layout": "IPY_MODEL_517146d0de3e4a63b88563bcce24aefd",
            "max": 124,
            "min": 0,
            "orientation": "horizontal",
            "style": "IPY_MODEL_bde3912a1a0e4581a0068413bc617b51",
            "value": 124
          }
        },
        "87a523433113451a9af45a33f3e55ce0": {
          "model_module": "@jupyter-widgets/controls",
          "model_name": "HTMLModel",
          "model_module_version": "1.5.0",
          "state": {
            "_dom_classes": [],
            "_model_module": "@jupyter-widgets/controls",
            "_model_module_version": "1.5.0",
            "_model_name": "HTMLModel",
            "_view_count": null,
            "_view_module": "@jupyter-widgets/controls",
            "_view_module_version": "1.5.0",
            "_view_name": "HTMLView",
            "description": "",
            "description_tooltip": null,
            "layout": "IPY_MODEL_87ccf4c534f042e188ea95797d7618a8",
            "placeholder": "​",
            "style": "IPY_MODEL_d0731c1989e94fa7b6cb1cf4726863d4",
            "value": " 124/124 [00:00&lt;00:00, 10.7kB/s]"
          }
        },
        "bf5e3792590e441e8f0321ef7f54b1a4": {
          "model_module": "@jupyter-widgets/base",
          "model_name": "LayoutModel",
          "model_module_version": "1.2.0",
          "state": {
            "_model_module": "@jupyter-widgets/base",
            "_model_module_version": "1.2.0",
            "_model_name": "LayoutModel",
            "_view_count": null,
            "_view_module": "@jupyter-widgets/base",
            "_view_module_version": "1.2.0",
            "_view_name": "LayoutView",
            "align_content": null,
            "align_items": null,
            "align_self": null,
            "border": null,
            "bottom": null,
            "display": null,
            "flex": null,
            "flex_flow": null,
            "grid_area": null,
            "grid_auto_columns": null,
            "grid_auto_flow": null,
            "grid_auto_rows": null,
            "grid_column": null,
            "grid_gap": null,
            "grid_row": null,
            "grid_template_areas": null,
            "grid_template_columns": null,
            "grid_template_rows": null,
            "height": null,
            "justify_content": null,
            "justify_items": null,
            "left": null,
            "margin": null,
            "max_height": null,
            "max_width": null,
            "min_height": null,
            "min_width": null,
            "object_fit": null,
            "object_position": null,
            "order": null,
            "overflow": null,
            "overflow_x": null,
            "overflow_y": null,
            "padding": null,
            "right": null,
            "top": null,
            "visibility": null,
            "width": null
          }
        },
        "5a76b7b775d64316888c897657319f4f": {
          "model_module": "@jupyter-widgets/base",
          "model_name": "LayoutModel",
          "model_module_version": "1.2.0",
          "state": {
            "_model_module": "@jupyter-widgets/base",
            "_model_module_version": "1.2.0",
            "_model_name": "LayoutModel",
            "_view_count": null,
            "_view_module": "@jupyter-widgets/base",
            "_view_module_version": "1.2.0",
            "_view_name": "LayoutView",
            "align_content": null,
            "align_items": null,
            "align_self": null,
            "border": null,
            "bottom": null,
            "display": null,
            "flex": null,
            "flex_flow": null,
            "grid_area": null,
            "grid_auto_columns": null,
            "grid_auto_flow": null,
            "grid_auto_rows": null,
            "grid_column": null,
            "grid_gap": null,
            "grid_row": null,
            "grid_template_areas": null,
            "grid_template_columns": null,
            "grid_template_rows": null,
            "height": null,
            "justify_content": null,
            "justify_items": null,
            "left": null,
            "margin": null,
            "max_height": null,
            "max_width": null,
            "min_height": null,
            "min_width": null,
            "object_fit": null,
            "object_position": null,
            "order": null,
            "overflow": null,
            "overflow_x": null,
            "overflow_y": null,
            "padding": null,
            "right": null,
            "top": null,
            "visibility": null,
            "width": null
          }
        },
        "ad02459beb91481f8ba98fcae6d554e9": {
          "model_module": "@jupyter-widgets/controls",
          "model_name": "DescriptionStyleModel",
          "model_module_version": "1.5.0",
          "state": {
            "_model_module": "@jupyter-widgets/controls",
            "_model_module_version": "1.5.0",
            "_model_name": "DescriptionStyleModel",
            "_view_count": null,
            "_view_module": "@jupyter-widgets/base",
            "_view_module_version": "1.2.0",
            "_view_name": "StyleView",
            "description_width": ""
          }
        },
        "517146d0de3e4a63b88563bcce24aefd": {
          "model_module": "@jupyter-widgets/base",
          "model_name": "LayoutModel",
          "model_module_version": "1.2.0",
          "state": {
            "_model_module": "@jupyter-widgets/base",
            "_model_module_version": "1.2.0",
            "_model_name": "LayoutModel",
            "_view_count": null,
            "_view_module": "@jupyter-widgets/base",
            "_view_module_version": "1.2.0",
            "_view_name": "LayoutView",
            "align_content": null,
            "align_items": null,
            "align_self": null,
            "border": null,
            "bottom": null,
            "display": null,
            "flex": null,
            "flex_flow": null,
            "grid_area": null,
            "grid_auto_columns": null,
            "grid_auto_flow": null,
            "grid_auto_rows": null,
            "grid_column": null,
            "grid_gap": null,
            "grid_row": null,
            "grid_template_areas": null,
            "grid_template_columns": null,
            "grid_template_rows": null,
            "height": null,
            "justify_content": null,
            "justify_items": null,
            "left": null,
            "margin": null,
            "max_height": null,
            "max_width": null,
            "min_height": null,
            "min_width": null,
            "object_fit": null,
            "object_position": null,
            "order": null,
            "overflow": null,
            "overflow_x": null,
            "overflow_y": null,
            "padding": null,
            "right": null,
            "top": null,
            "visibility": null,
            "width": null
          }
        },
        "bde3912a1a0e4581a0068413bc617b51": {
          "model_module": "@jupyter-widgets/controls",
          "model_name": "ProgressStyleModel",
          "model_module_version": "1.5.0",
          "state": {
            "_model_module": "@jupyter-widgets/controls",
            "_model_module_version": "1.5.0",
            "_model_name": "ProgressStyleModel",
            "_view_count": null,
            "_view_module": "@jupyter-widgets/base",
            "_view_module_version": "1.2.0",
            "_view_name": "StyleView",
            "bar_color": null,
            "description_width": ""
          }
        },
        "87ccf4c534f042e188ea95797d7618a8": {
          "model_module": "@jupyter-widgets/base",
          "model_name": "LayoutModel",
          "model_module_version": "1.2.0",
          "state": {
            "_model_module": "@jupyter-widgets/base",
            "_model_module_version": "1.2.0",
            "_model_name": "LayoutModel",
            "_view_count": null,
            "_view_module": "@jupyter-widgets/base",
            "_view_module_version": "1.2.0",
            "_view_name": "LayoutView",
            "align_content": null,
            "align_items": null,
            "align_self": null,
            "border": null,
            "bottom": null,
            "display": null,
            "flex": null,
            "flex_flow": null,
            "grid_area": null,
            "grid_auto_columns": null,
            "grid_auto_flow": null,
            "grid_auto_rows": null,
            "grid_column": null,
            "grid_gap": null,
            "grid_row": null,
            "grid_template_areas": null,
            "grid_template_columns": null,
            "grid_template_rows": null,
            "height": null,
            "justify_content": null,
            "justify_items": null,
            "left": null,
            "margin": null,
            "max_height": null,
            "max_width": null,
            "min_height": null,
            "min_width": null,
            "object_fit": null,
            "object_position": null,
            "order": null,
            "overflow": null,
            "overflow_x": null,
            "overflow_y": null,
            "padding": null,
            "right": null,
            "top": null,
            "visibility": null,
            "width": null
          }
        },
        "d0731c1989e94fa7b6cb1cf4726863d4": {
          "model_module": "@jupyter-widgets/controls",
          "model_name": "DescriptionStyleModel",
          "model_module_version": "1.5.0",
          "state": {
            "_model_module": "@jupyter-widgets/controls",
            "_model_module_version": "1.5.0",
            "_model_name": "DescriptionStyleModel",
            "_view_count": null,
            "_view_module": "@jupyter-widgets/base",
            "_view_module_version": "1.2.0",
            "_view_name": "StyleView",
            "description_width": ""
          }
        },
        "d8a39dfdae8b4c4bad7bddbaed0f3ae7": {
          "model_module": "@jupyter-widgets/controls",
          "model_name": "HBoxModel",
          "model_module_version": "1.5.0",
          "state": {
            "_dom_classes": [],
            "_model_module": "@jupyter-widgets/controls",
            "_model_module_version": "1.5.0",
            "_model_name": "HBoxModel",
            "_view_count": null,
            "_view_module": "@jupyter-widgets/controls",
            "_view_module_version": "1.5.0",
            "_view_name": "HBoxView",
            "box_style": "",
            "children": [
              "IPY_MODEL_67529e83a15d44ca99948c1883037190",
              "IPY_MODEL_6b807cb037794d73b450be7393c894da",
              "IPY_MODEL_39585cbd1e974170a1f2bfb6807d8519"
            ],
            "layout": "IPY_MODEL_937175bec7e94670a9f89ff48ee54932"
          }
        },
        "67529e83a15d44ca99948c1883037190": {
          "model_module": "@jupyter-widgets/controls",
          "model_name": "HTMLModel",
          "model_module_version": "1.5.0",
          "state": {
            "_dom_classes": [],
            "_model_module": "@jupyter-widgets/controls",
            "_model_module_version": "1.5.0",
            "_model_name": "HTMLModel",
            "_view_count": null,
            "_view_module": "@jupyter-widgets/controls",
            "_view_module_version": "1.5.0",
            "_view_name": "HTMLView",
            "description": "",
            "description_tooltip": null,
            "layout": "IPY_MODEL_b85da1bb45a44a5d89e0822702c10e95",
            "placeholder": "​",
            "style": "IPY_MODEL_9cf43b0bebaa4bc5b54b0f02dd737659",
            "value": "Downloading (…)olve/main/vocab.json: 100%"
          }
        },
        "6b807cb037794d73b450be7393c894da": {
          "model_module": "@jupyter-widgets/controls",
          "model_name": "FloatProgressModel",
          "model_module_version": "1.5.0",
          "state": {
            "_dom_classes": [],
            "_model_module": "@jupyter-widgets/controls",
            "_model_module_version": "1.5.0",
            "_model_name": "FloatProgressModel",
            "_view_count": null,
            "_view_module": "@jupyter-widgets/controls",
            "_view_module_version": "1.5.0",
            "_view_name": "ProgressView",
            "bar_style": "success",
            "description": "",
            "description_tooltip": null,
            "layout": "IPY_MODEL_7db3d87207fd448389111bb0b29cc96a",
            "max": 1042301,
            "min": 0,
            "orientation": "horizontal",
            "style": "IPY_MODEL_f7b4efcc14b048b0a25145b92836bb48",
            "value": 1042301
          }
        },
        "39585cbd1e974170a1f2bfb6807d8519": {
          "model_module": "@jupyter-widgets/controls",
          "model_name": "HTMLModel",
          "model_module_version": "1.5.0",
          "state": {
            "_dom_classes": [],
            "_model_module": "@jupyter-widgets/controls",
            "_model_module_version": "1.5.0",
            "_model_name": "HTMLModel",
            "_view_count": null,
            "_view_module": "@jupyter-widgets/controls",
            "_view_module_version": "1.5.0",
            "_view_name": "HTMLView",
            "description": "",
            "description_tooltip": null,
            "layout": "IPY_MODEL_3ab4d937fc51418aad46a3bf574594e4",
            "placeholder": "​",
            "style": "IPY_MODEL_bb4d806bbd9345e6abe12eac109e60b2",
            "value": " 1.04M/1.04M [00:00&lt;00:00, 4.14MB/s]"
          }
        },
        "937175bec7e94670a9f89ff48ee54932": {
          "model_module": "@jupyter-widgets/base",
          "model_name": "LayoutModel",
          "model_module_version": "1.2.0",
          "state": {
            "_model_module": "@jupyter-widgets/base",
            "_model_module_version": "1.2.0",
            "_model_name": "LayoutModel",
            "_view_count": null,
            "_view_module": "@jupyter-widgets/base",
            "_view_module_version": "1.2.0",
            "_view_name": "LayoutView",
            "align_content": null,
            "align_items": null,
            "align_self": null,
            "border": null,
            "bottom": null,
            "display": null,
            "flex": null,
            "flex_flow": null,
            "grid_area": null,
            "grid_auto_columns": null,
            "grid_auto_flow": null,
            "grid_auto_rows": null,
            "grid_column": null,
            "grid_gap": null,
            "grid_row": null,
            "grid_template_areas": null,
            "grid_template_columns": null,
            "grid_template_rows": null,
            "height": null,
            "justify_content": null,
            "justify_items": null,
            "left": null,
            "margin": null,
            "max_height": null,
            "max_width": null,
            "min_height": null,
            "min_width": null,
            "object_fit": null,
            "object_position": null,
            "order": null,
            "overflow": null,
            "overflow_x": null,
            "overflow_y": null,
            "padding": null,
            "right": null,
            "top": null,
            "visibility": null,
            "width": null
          }
        },
        "b85da1bb45a44a5d89e0822702c10e95": {
          "model_module": "@jupyter-widgets/base",
          "model_name": "LayoutModel",
          "model_module_version": "1.2.0",
          "state": {
            "_model_module": "@jupyter-widgets/base",
            "_model_module_version": "1.2.0",
            "_model_name": "LayoutModel",
            "_view_count": null,
            "_view_module": "@jupyter-widgets/base",
            "_view_module_version": "1.2.0",
            "_view_name": "LayoutView",
            "align_content": null,
            "align_items": null,
            "align_self": null,
            "border": null,
            "bottom": null,
            "display": null,
            "flex": null,
            "flex_flow": null,
            "grid_area": null,
            "grid_auto_columns": null,
            "grid_auto_flow": null,
            "grid_auto_rows": null,
            "grid_column": null,
            "grid_gap": null,
            "grid_row": null,
            "grid_template_areas": null,
            "grid_template_columns": null,
            "grid_template_rows": null,
            "height": null,
            "justify_content": null,
            "justify_items": null,
            "left": null,
            "margin": null,
            "max_height": null,
            "max_width": null,
            "min_height": null,
            "min_width": null,
            "object_fit": null,
            "object_position": null,
            "order": null,
            "overflow": null,
            "overflow_x": null,
            "overflow_y": null,
            "padding": null,
            "right": null,
            "top": null,
            "visibility": null,
            "width": null
          }
        },
        "9cf43b0bebaa4bc5b54b0f02dd737659": {
          "model_module": "@jupyter-widgets/controls",
          "model_name": "DescriptionStyleModel",
          "model_module_version": "1.5.0",
          "state": {
            "_model_module": "@jupyter-widgets/controls",
            "_model_module_version": "1.5.0",
            "_model_name": "DescriptionStyleModel",
            "_view_count": null,
            "_view_module": "@jupyter-widgets/base",
            "_view_module_version": "1.2.0",
            "_view_name": "StyleView",
            "description_width": ""
          }
        },
        "7db3d87207fd448389111bb0b29cc96a": {
          "model_module": "@jupyter-widgets/base",
          "model_name": "LayoutModel",
          "model_module_version": "1.2.0",
          "state": {
            "_model_module": "@jupyter-widgets/base",
            "_model_module_version": "1.2.0",
            "_model_name": "LayoutModel",
            "_view_count": null,
            "_view_module": "@jupyter-widgets/base",
            "_view_module_version": "1.2.0",
            "_view_name": "LayoutView",
            "align_content": null,
            "align_items": null,
            "align_self": null,
            "border": null,
            "bottom": null,
            "display": null,
            "flex": null,
            "flex_flow": null,
            "grid_area": null,
            "grid_auto_columns": null,
            "grid_auto_flow": null,
            "grid_auto_rows": null,
            "grid_column": null,
            "grid_gap": null,
            "grid_row": null,
            "grid_template_areas": null,
            "grid_template_columns": null,
            "grid_template_rows": null,
            "height": null,
            "justify_content": null,
            "justify_items": null,
            "left": null,
            "margin": null,
            "max_height": null,
            "max_width": null,
            "min_height": null,
            "min_width": null,
            "object_fit": null,
            "object_position": null,
            "order": null,
            "overflow": null,
            "overflow_x": null,
            "overflow_y": null,
            "padding": null,
            "right": null,
            "top": null,
            "visibility": null,
            "width": null
          }
        },
        "f7b4efcc14b048b0a25145b92836bb48": {
          "model_module": "@jupyter-widgets/controls",
          "model_name": "ProgressStyleModel",
          "model_module_version": "1.5.0",
          "state": {
            "_model_module": "@jupyter-widgets/controls",
            "_model_module_version": "1.5.0",
            "_model_name": "ProgressStyleModel",
            "_view_count": null,
            "_view_module": "@jupyter-widgets/base",
            "_view_module_version": "1.2.0",
            "_view_name": "StyleView",
            "bar_color": null,
            "description_width": ""
          }
        },
        "3ab4d937fc51418aad46a3bf574594e4": {
          "model_module": "@jupyter-widgets/base",
          "model_name": "LayoutModel",
          "model_module_version": "1.2.0",
          "state": {
            "_model_module": "@jupyter-widgets/base",
            "_model_module_version": "1.2.0",
            "_model_name": "LayoutModel",
            "_view_count": null,
            "_view_module": "@jupyter-widgets/base",
            "_view_module_version": "1.2.0",
            "_view_name": "LayoutView",
            "align_content": null,
            "align_items": null,
            "align_self": null,
            "border": null,
            "bottom": null,
            "display": null,
            "flex": null,
            "flex_flow": null,
            "grid_area": null,
            "grid_auto_columns": null,
            "grid_auto_flow": null,
            "grid_auto_rows": null,
            "grid_column": null,
            "grid_gap": null,
            "grid_row": null,
            "grid_template_areas": null,
            "grid_template_columns": null,
            "grid_template_rows": null,
            "height": null,
            "justify_content": null,
            "justify_items": null,
            "left": null,
            "margin": null,
            "max_height": null,
            "max_width": null,
            "min_height": null,
            "min_width": null,
            "object_fit": null,
            "object_position": null,
            "order": null,
            "overflow": null,
            "overflow_x": null,
            "overflow_y": null,
            "padding": null,
            "right": null,
            "top": null,
            "visibility": null,
            "width": null
          }
        },
        "bb4d806bbd9345e6abe12eac109e60b2": {
          "model_module": "@jupyter-widgets/controls",
          "model_name": "DescriptionStyleModel",
          "model_module_version": "1.5.0",
          "state": {
            "_model_module": "@jupyter-widgets/controls",
            "_model_module_version": "1.5.0",
            "_model_name": "DescriptionStyleModel",
            "_view_count": null,
            "_view_module": "@jupyter-widgets/base",
            "_view_module_version": "1.2.0",
            "_view_name": "StyleView",
            "description_width": ""
          }
        },
        "7cbe5afafefa42ec9d3ba3a3de1c1f64": {
          "model_module": "@jupyter-widgets/controls",
          "model_name": "HBoxModel",
          "model_module_version": "1.5.0",
          "state": {
            "_dom_classes": [],
            "_model_module": "@jupyter-widgets/controls",
            "_model_module_version": "1.5.0",
            "_model_name": "HBoxModel",
            "_view_count": null,
            "_view_module": "@jupyter-widgets/controls",
            "_view_module_version": "1.5.0",
            "_view_name": "HBoxView",
            "box_style": "",
            "children": [
              "IPY_MODEL_3c317596a3134384b4f5bb650bb69314",
              "IPY_MODEL_a8a8162439994b5abf364321fff219d2",
              "IPY_MODEL_3c6b67b81c08445cb8712173695d39a3"
            ],
            "layout": "IPY_MODEL_aab376b9c2e54325b51f170aa222efb6"
          }
        },
        "3c317596a3134384b4f5bb650bb69314": {
          "model_module": "@jupyter-widgets/controls",
          "model_name": "HTMLModel",
          "model_module_version": "1.5.0",
          "state": {
            "_dom_classes": [],
            "_model_module": "@jupyter-widgets/controls",
            "_model_module_version": "1.5.0",
            "_model_name": "HTMLModel",
            "_view_count": null,
            "_view_module": "@jupyter-widgets/controls",
            "_view_module_version": "1.5.0",
            "_view_name": "HTMLView",
            "description": "",
            "description_tooltip": null,
            "layout": "IPY_MODEL_917bf26a905e4240b6951f05ce26af9d",
            "placeholder": "​",
            "style": "IPY_MODEL_fc0e1f7591fb4fa791cb83714a6a5fc9",
            "value": "Downloading (…)olve/main/merges.txt: 100%"
          }
        },
        "a8a8162439994b5abf364321fff219d2": {
          "model_module": "@jupyter-widgets/controls",
          "model_name": "FloatProgressModel",
          "model_module_version": "1.5.0",
          "state": {
            "_dom_classes": [],
            "_model_module": "@jupyter-widgets/controls",
            "_model_module_version": "1.5.0",
            "_model_name": "FloatProgressModel",
            "_view_count": null,
            "_view_module": "@jupyter-widgets/controls",
            "_view_module_version": "1.5.0",
            "_view_name": "ProgressView",
            "bar_style": "success",
            "description": "",
            "description_tooltip": null,
            "layout": "IPY_MODEL_c60a84fd547046948cc6d325bebdd0a5",
            "max": 456318,
            "min": 0,
            "orientation": "horizontal",
            "style": "IPY_MODEL_32b7ba6bdef942a396d1cd44a5c623d6",
            "value": 456318
          }
        },
        "3c6b67b81c08445cb8712173695d39a3": {
          "model_module": "@jupyter-widgets/controls",
          "model_name": "HTMLModel",
          "model_module_version": "1.5.0",
          "state": {
            "_dom_classes": [],
            "_model_module": "@jupyter-widgets/controls",
            "_model_module_version": "1.5.0",
            "_model_name": "HTMLModel",
            "_view_count": null,
            "_view_module": "@jupyter-widgets/controls",
            "_view_module_version": "1.5.0",
            "_view_name": "HTMLView",
            "description": "",
            "description_tooltip": null,
            "layout": "IPY_MODEL_c7927708aebc40ef87c11c7f0043741c",
            "placeholder": "​",
            "style": "IPY_MODEL_3b14c6abc71b491d8b75f1b9f784c072",
            "value": " 456k/456k [00:00&lt;00:00, 28.3MB/s]"
          }
        },
        "aab376b9c2e54325b51f170aa222efb6": {
          "model_module": "@jupyter-widgets/base",
          "model_name": "LayoutModel",
          "model_module_version": "1.2.0",
          "state": {
            "_model_module": "@jupyter-widgets/base",
            "_model_module_version": "1.2.0",
            "_model_name": "LayoutModel",
            "_view_count": null,
            "_view_module": "@jupyter-widgets/base",
            "_view_module_version": "1.2.0",
            "_view_name": "LayoutView",
            "align_content": null,
            "align_items": null,
            "align_self": null,
            "border": null,
            "bottom": null,
            "display": null,
            "flex": null,
            "flex_flow": null,
            "grid_area": null,
            "grid_auto_columns": null,
            "grid_auto_flow": null,
            "grid_auto_rows": null,
            "grid_column": null,
            "grid_gap": null,
            "grid_row": null,
            "grid_template_areas": null,
            "grid_template_columns": null,
            "grid_template_rows": null,
            "height": null,
            "justify_content": null,
            "justify_items": null,
            "left": null,
            "margin": null,
            "max_height": null,
            "max_width": null,
            "min_height": null,
            "min_width": null,
            "object_fit": null,
            "object_position": null,
            "order": null,
            "overflow": null,
            "overflow_x": null,
            "overflow_y": null,
            "padding": null,
            "right": null,
            "top": null,
            "visibility": null,
            "width": null
          }
        },
        "917bf26a905e4240b6951f05ce26af9d": {
          "model_module": "@jupyter-widgets/base",
          "model_name": "LayoutModel",
          "model_module_version": "1.2.0",
          "state": {
            "_model_module": "@jupyter-widgets/base",
            "_model_module_version": "1.2.0",
            "_model_name": "LayoutModel",
            "_view_count": null,
            "_view_module": "@jupyter-widgets/base",
            "_view_module_version": "1.2.0",
            "_view_name": "LayoutView",
            "align_content": null,
            "align_items": null,
            "align_self": null,
            "border": null,
            "bottom": null,
            "display": null,
            "flex": null,
            "flex_flow": null,
            "grid_area": null,
            "grid_auto_columns": null,
            "grid_auto_flow": null,
            "grid_auto_rows": null,
            "grid_column": null,
            "grid_gap": null,
            "grid_row": null,
            "grid_template_areas": null,
            "grid_template_columns": null,
            "grid_template_rows": null,
            "height": null,
            "justify_content": null,
            "justify_items": null,
            "left": null,
            "margin": null,
            "max_height": null,
            "max_width": null,
            "min_height": null,
            "min_width": null,
            "object_fit": null,
            "object_position": null,
            "order": null,
            "overflow": null,
            "overflow_x": null,
            "overflow_y": null,
            "padding": null,
            "right": null,
            "top": null,
            "visibility": null,
            "width": null
          }
        },
        "fc0e1f7591fb4fa791cb83714a6a5fc9": {
          "model_module": "@jupyter-widgets/controls",
          "model_name": "DescriptionStyleModel",
          "model_module_version": "1.5.0",
          "state": {
            "_model_module": "@jupyter-widgets/controls",
            "_model_module_version": "1.5.0",
            "_model_name": "DescriptionStyleModel",
            "_view_count": null,
            "_view_module": "@jupyter-widgets/base",
            "_view_module_version": "1.2.0",
            "_view_name": "StyleView",
            "description_width": ""
          }
        },
        "c60a84fd547046948cc6d325bebdd0a5": {
          "model_module": "@jupyter-widgets/base",
          "model_name": "LayoutModel",
          "model_module_version": "1.2.0",
          "state": {
            "_model_module": "@jupyter-widgets/base",
            "_model_module_version": "1.2.0",
            "_model_name": "LayoutModel",
            "_view_count": null,
            "_view_module": "@jupyter-widgets/base",
            "_view_module_version": "1.2.0",
            "_view_name": "LayoutView",
            "align_content": null,
            "align_items": null,
            "align_self": null,
            "border": null,
            "bottom": null,
            "display": null,
            "flex": null,
            "flex_flow": null,
            "grid_area": null,
            "grid_auto_columns": null,
            "grid_auto_flow": null,
            "grid_auto_rows": null,
            "grid_column": null,
            "grid_gap": null,
            "grid_row": null,
            "grid_template_areas": null,
            "grid_template_columns": null,
            "grid_template_rows": null,
            "height": null,
            "justify_content": null,
            "justify_items": null,
            "left": null,
            "margin": null,
            "max_height": null,
            "max_width": null,
            "min_height": null,
            "min_width": null,
            "object_fit": null,
            "object_position": null,
            "order": null,
            "overflow": null,
            "overflow_x": null,
            "overflow_y": null,
            "padding": null,
            "right": null,
            "top": null,
            "visibility": null,
            "width": null
          }
        },
        "32b7ba6bdef942a396d1cd44a5c623d6": {
          "model_module": "@jupyter-widgets/controls",
          "model_name": "ProgressStyleModel",
          "model_module_version": "1.5.0",
          "state": {
            "_model_module": "@jupyter-widgets/controls",
            "_model_module_version": "1.5.0",
            "_model_name": "ProgressStyleModel",
            "_view_count": null,
            "_view_module": "@jupyter-widgets/base",
            "_view_module_version": "1.2.0",
            "_view_name": "StyleView",
            "bar_color": null,
            "description_width": ""
          }
        },
        "c7927708aebc40ef87c11c7f0043741c": {
          "model_module": "@jupyter-widgets/base",
          "model_name": "LayoutModel",
          "model_module_version": "1.2.0",
          "state": {
            "_model_module": "@jupyter-widgets/base",
            "_model_module_version": "1.2.0",
            "_model_name": "LayoutModel",
            "_view_count": null,
            "_view_module": "@jupyter-widgets/base",
            "_view_module_version": "1.2.0",
            "_view_name": "LayoutView",
            "align_content": null,
            "align_items": null,
            "align_self": null,
            "border": null,
            "bottom": null,
            "display": null,
            "flex": null,
            "flex_flow": null,
            "grid_area": null,
            "grid_auto_columns": null,
            "grid_auto_flow": null,
            "grid_auto_rows": null,
            "grid_column": null,
            "grid_gap": null,
            "grid_row": null,
            "grid_template_areas": null,
            "grid_template_columns": null,
            "grid_template_rows": null,
            "height": null,
            "justify_content": null,
            "justify_items": null,
            "left": null,
            "margin": null,
            "max_height": null,
            "max_width": null,
            "min_height": null,
            "min_width": null,
            "object_fit": null,
            "object_position": null,
            "order": null,
            "overflow": null,
            "overflow_x": null,
            "overflow_y": null,
            "padding": null,
            "right": null,
            "top": null,
            "visibility": null,
            "width": null
          }
        },
        "3b14c6abc71b491d8b75f1b9f784c072": {
          "model_module": "@jupyter-widgets/controls",
          "model_name": "DescriptionStyleModel",
          "model_module_version": "1.5.0",
          "state": {
            "_model_module": "@jupyter-widgets/controls",
            "_model_module_version": "1.5.0",
            "_model_name": "DescriptionStyleModel",
            "_view_count": null,
            "_view_module": "@jupyter-widgets/base",
            "_view_module_version": "1.2.0",
            "_view_name": "StyleView",
            "description_width": ""
          }
        },
        "3c11eda24a714e53a1c764ba57c00f7f": {
          "model_module": "@jupyter-widgets/controls",
          "model_name": "HBoxModel",
          "model_module_version": "1.5.0",
          "state": {
            "_dom_classes": [],
            "_model_module": "@jupyter-widgets/controls",
            "_model_module_version": "1.5.0",
            "_model_name": "HBoxModel",
            "_view_count": null,
            "_view_module": "@jupyter-widgets/controls",
            "_view_module_version": "1.5.0",
            "_view_name": "HBoxView",
            "box_style": "",
            "children": [
              "IPY_MODEL_216ba6032e3f4cbf9b9224c53da70652",
              "IPY_MODEL_c18763ab028b4e70b0b84b43df3046a9",
              "IPY_MODEL_859cd420e112487b9bc35ddc1240553a"
            ],
            "layout": "IPY_MODEL_2a524e45608c465ba7f2d4884b2e2b9c"
          }
        },
        "216ba6032e3f4cbf9b9224c53da70652": {
          "model_module": "@jupyter-widgets/controls",
          "model_name": "HTMLModel",
          "model_module_version": "1.5.0",
          "state": {
            "_dom_classes": [],
            "_model_module": "@jupyter-widgets/controls",
            "_model_module_version": "1.5.0",
            "_model_name": "HTMLModel",
            "_view_count": null,
            "_view_module": "@jupyter-widgets/controls",
            "_view_module_version": "1.5.0",
            "_view_name": "HTMLView",
            "description": "",
            "description_tooltip": null,
            "layout": "IPY_MODEL_8f9fe2d80e524217bdea5fd5ea25f212",
            "placeholder": "​",
            "style": "IPY_MODEL_bfe5281ab8f744e78cd2e1dc9e2ffe4a",
            "value": "Downloading (…)/main/tokenizer.json: 100%"
          }
        },
        "c18763ab028b4e70b0b84b43df3046a9": {
          "model_module": "@jupyter-widgets/controls",
          "model_name": "FloatProgressModel",
          "model_module_version": "1.5.0",
          "state": {
            "_dom_classes": [],
            "_model_module": "@jupyter-widgets/controls",
            "_model_module_version": "1.5.0",
            "_model_name": "FloatProgressModel",
            "_view_count": null,
            "_view_module": "@jupyter-widgets/controls",
            "_view_module_version": "1.5.0",
            "_view_name": "ProgressView",
            "bar_style": "success",
            "description": "",
            "description_tooltip": null,
            "layout": "IPY_MODEL_d94eb88e1407406581924e0d09a53b2f",
            "max": 1355256,
            "min": 0,
            "orientation": "horizontal",
            "style": "IPY_MODEL_2f8f8b6a9caa48e5b90cba9bbdccfb3f",
            "value": 1355256
          }
        },
        "859cd420e112487b9bc35ddc1240553a": {
          "model_module": "@jupyter-widgets/controls",
          "model_name": "HTMLModel",
          "model_module_version": "1.5.0",
          "state": {
            "_dom_classes": [],
            "_model_module": "@jupyter-widgets/controls",
            "_model_module_version": "1.5.0",
            "_model_name": "HTMLModel",
            "_view_count": null,
            "_view_module": "@jupyter-widgets/controls",
            "_view_module_version": "1.5.0",
            "_view_name": "HTMLView",
            "description": "",
            "description_tooltip": null,
            "layout": "IPY_MODEL_fee7783f04a2457e8de48d823bb0dc56",
            "placeholder": "​",
            "style": "IPY_MODEL_c133e40f1b494de6b5ff1523333d8f0d",
            "value": " 1.36M/1.36M [00:00&lt;00:00, 5.38MB/s]"
          }
        },
        "2a524e45608c465ba7f2d4884b2e2b9c": {
          "model_module": "@jupyter-widgets/base",
          "model_name": "LayoutModel",
          "model_module_version": "1.2.0",
          "state": {
            "_model_module": "@jupyter-widgets/base",
            "_model_module_version": "1.2.0",
            "_model_name": "LayoutModel",
            "_view_count": null,
            "_view_module": "@jupyter-widgets/base",
            "_view_module_version": "1.2.0",
            "_view_name": "LayoutView",
            "align_content": null,
            "align_items": null,
            "align_self": null,
            "border": null,
            "bottom": null,
            "display": null,
            "flex": null,
            "flex_flow": null,
            "grid_area": null,
            "grid_auto_columns": null,
            "grid_auto_flow": null,
            "grid_auto_rows": null,
            "grid_column": null,
            "grid_gap": null,
            "grid_row": null,
            "grid_template_areas": null,
            "grid_template_columns": null,
            "grid_template_rows": null,
            "height": null,
            "justify_content": null,
            "justify_items": null,
            "left": null,
            "margin": null,
            "max_height": null,
            "max_width": null,
            "min_height": null,
            "min_width": null,
            "object_fit": null,
            "object_position": null,
            "order": null,
            "overflow": null,
            "overflow_x": null,
            "overflow_y": null,
            "padding": null,
            "right": null,
            "top": null,
            "visibility": null,
            "width": null
          }
        },
        "8f9fe2d80e524217bdea5fd5ea25f212": {
          "model_module": "@jupyter-widgets/base",
          "model_name": "LayoutModel",
          "model_module_version": "1.2.0",
          "state": {
            "_model_module": "@jupyter-widgets/base",
            "_model_module_version": "1.2.0",
            "_model_name": "LayoutModel",
            "_view_count": null,
            "_view_module": "@jupyter-widgets/base",
            "_view_module_version": "1.2.0",
            "_view_name": "LayoutView",
            "align_content": null,
            "align_items": null,
            "align_self": null,
            "border": null,
            "bottom": null,
            "display": null,
            "flex": null,
            "flex_flow": null,
            "grid_area": null,
            "grid_auto_columns": null,
            "grid_auto_flow": null,
            "grid_auto_rows": null,
            "grid_column": null,
            "grid_gap": null,
            "grid_row": null,
            "grid_template_areas": null,
            "grid_template_columns": null,
            "grid_template_rows": null,
            "height": null,
            "justify_content": null,
            "justify_items": null,
            "left": null,
            "margin": null,
            "max_height": null,
            "max_width": null,
            "min_height": null,
            "min_width": null,
            "object_fit": null,
            "object_position": null,
            "order": null,
            "overflow": null,
            "overflow_x": null,
            "overflow_y": null,
            "padding": null,
            "right": null,
            "top": null,
            "visibility": null,
            "width": null
          }
        },
        "bfe5281ab8f744e78cd2e1dc9e2ffe4a": {
          "model_module": "@jupyter-widgets/controls",
          "model_name": "DescriptionStyleModel",
          "model_module_version": "1.5.0",
          "state": {
            "_model_module": "@jupyter-widgets/controls",
            "_model_module_version": "1.5.0",
            "_model_name": "DescriptionStyleModel",
            "_view_count": null,
            "_view_module": "@jupyter-widgets/base",
            "_view_module_version": "1.2.0",
            "_view_name": "StyleView",
            "description_width": ""
          }
        },
        "d94eb88e1407406581924e0d09a53b2f": {
          "model_module": "@jupyter-widgets/base",
          "model_name": "LayoutModel",
          "model_module_version": "1.2.0",
          "state": {
            "_model_module": "@jupyter-widgets/base",
            "_model_module_version": "1.2.0",
            "_model_name": "LayoutModel",
            "_view_count": null,
            "_view_module": "@jupyter-widgets/base",
            "_view_module_version": "1.2.0",
            "_view_name": "LayoutView",
            "align_content": null,
            "align_items": null,
            "align_self": null,
            "border": null,
            "bottom": null,
            "display": null,
            "flex": null,
            "flex_flow": null,
            "grid_area": null,
            "grid_auto_columns": null,
            "grid_auto_flow": null,
            "grid_auto_rows": null,
            "grid_column": null,
            "grid_gap": null,
            "grid_row": null,
            "grid_template_areas": null,
            "grid_template_columns": null,
            "grid_template_rows": null,
            "height": null,
            "justify_content": null,
            "justify_items": null,
            "left": null,
            "margin": null,
            "max_height": null,
            "max_width": null,
            "min_height": null,
            "min_width": null,
            "object_fit": null,
            "object_position": null,
            "order": null,
            "overflow": null,
            "overflow_x": null,
            "overflow_y": null,
            "padding": null,
            "right": null,
            "top": null,
            "visibility": null,
            "width": null
          }
        },
        "2f8f8b6a9caa48e5b90cba9bbdccfb3f": {
          "model_module": "@jupyter-widgets/controls",
          "model_name": "ProgressStyleModel",
          "model_module_version": "1.5.0",
          "state": {
            "_model_module": "@jupyter-widgets/controls",
            "_model_module_version": "1.5.0",
            "_model_name": "ProgressStyleModel",
            "_view_count": null,
            "_view_module": "@jupyter-widgets/base",
            "_view_module_version": "1.2.0",
            "_view_name": "StyleView",
            "bar_color": null,
            "description_width": ""
          }
        },
        "fee7783f04a2457e8de48d823bb0dc56": {
          "model_module": "@jupyter-widgets/base",
          "model_name": "LayoutModel",
          "model_module_version": "1.2.0",
          "state": {
            "_model_module": "@jupyter-widgets/base",
            "_model_module_version": "1.2.0",
            "_model_name": "LayoutModel",
            "_view_count": null,
            "_view_module": "@jupyter-widgets/base",
            "_view_module_version": "1.2.0",
            "_view_name": "LayoutView",
            "align_content": null,
            "align_items": null,
            "align_self": null,
            "border": null,
            "bottom": null,
            "display": null,
            "flex": null,
            "flex_flow": null,
            "grid_area": null,
            "grid_auto_columns": null,
            "grid_auto_flow": null,
            "grid_auto_rows": null,
            "grid_column": null,
            "grid_gap": null,
            "grid_row": null,
            "grid_template_areas": null,
            "grid_template_columns": null,
            "grid_template_rows": null,
            "height": null,
            "justify_content": null,
            "justify_items": null,
            "left": null,
            "margin": null,
            "max_height": null,
            "max_width": null,
            "min_height": null,
            "min_width": null,
            "object_fit": null,
            "object_position": null,
            "order": null,
            "overflow": null,
            "overflow_x": null,
            "overflow_y": null,
            "padding": null,
            "right": null,
            "top": null,
            "visibility": null,
            "width": null
          }
        },
        "c133e40f1b494de6b5ff1523333d8f0d": {
          "model_module": "@jupyter-widgets/controls",
          "model_name": "DescriptionStyleModel",
          "model_module_version": "1.5.0",
          "state": {
            "_model_module": "@jupyter-widgets/controls",
            "_model_module_version": "1.5.0",
            "_model_name": "DescriptionStyleModel",
            "_view_count": null,
            "_view_module": "@jupyter-widgets/base",
            "_view_module_version": "1.2.0",
            "_view_name": "StyleView",
            "description_width": ""
          }
        }
      }
    }
  },
  "cells": [
    {
      "cell_type": "markdown",
      "metadata": {
        "id": "b13177b7"
      },
      "source": [
        "<a href=\"https://colab.research.google.com/github/wlg100/numseqcont_circuit_expms/blob/main/notebook_templates/minimal_circuit_template.ipynb\"><img src=\"https://colab.research.google.com/assets/colab-badge.svg\" align=\"left\"/></a>&nbsp;or in a local notebook."
      ]
    },
    {
      "cell_type": "markdown",
      "metadata": {
        "id": "DcZG9rm2IAiA"
      },
      "source": [
        "# Setup\n",
        "(No need to change anything)"
      ]
    },
    {
      "cell_type": "code",
      "execution_count": 12,
      "metadata": {
        "id": "rMcpSDdjIAiA",
        "colab": {
          "base_uri": "https://localhost:8080/"
        },
        "outputId": "f339e841-ac84-406d-fc41-c9ebe99f32c4"
      },
      "outputs": [
        {
          "output_type": "stream",
          "name": "stdout",
          "text": [
            "Running as a Colab notebook\n",
            "Collecting git+https://github.com/neelnanda-io/TransformerLens.git\n",
            "  Cloning https://github.com/neelnanda-io/TransformerLens.git to /tmp/pip-req-build-ygtusyr7\n",
            "  Running command git clone --filter=blob:none --quiet https://github.com/neelnanda-io/TransformerLens.git /tmp/pip-req-build-ygtusyr7\n",
            "  Resolved https://github.com/neelnanda-io/TransformerLens.git to commit e9bbd6a95058ab0b5d6ba44223ee05564384f2ce\n",
            "  Installing build dependencies ... \u001b[?25l\u001b[?25hdone\n",
            "  Getting requirements to build wheel ... \u001b[?25l\u001b[?25hdone\n",
            "  Preparing metadata (pyproject.toml) ... \u001b[?25l\u001b[?25hdone\n",
            "Collecting beartype<0.15.0,>=0.14.1 (from transformer-lens==0.0.0)\n",
            "  Downloading beartype-0.14.1-py3-none-any.whl (739 kB)\n",
            "\u001b[2K     \u001b[90m━━━━━━━━━━━━━━━━━━━━━━━━━━━━━━━━━━━━━━\u001b[0m \u001b[32m739.7/739.7 kB\u001b[0m \u001b[31m12.7 MB/s\u001b[0m eta \u001b[36m0:00:00\u001b[0m\n",
            "\u001b[?25hCollecting datasets>=2.7.1 (from transformer-lens==0.0.0)\n",
            "  Downloading datasets-2.14.5-py3-none-any.whl (519 kB)\n",
            "\u001b[2K     \u001b[90m━━━━━━━━━━━━━━━━━━━━━━━━━━━━━━━━━━━━━━\u001b[0m \u001b[32m519.6/519.6 kB\u001b[0m \u001b[31m23.4 MB/s\u001b[0m eta \u001b[36m0:00:00\u001b[0m\n",
            "\u001b[?25hCollecting einops>=0.6.0 (from transformer-lens==0.0.0)\n",
            "  Downloading einops-0.7.0-py3-none-any.whl (44 kB)\n",
            "\u001b[2K     \u001b[90m━━━━━━━━━━━━━━━━━━━━━━━━━━━━━━━━━━━━━━━━\u001b[0m \u001b[32m44.6/44.6 kB\u001b[0m \u001b[31m5.3 MB/s\u001b[0m eta \u001b[36m0:00:00\u001b[0m\n",
            "\u001b[?25hCollecting fancy-einsum>=0.0.3 (from transformer-lens==0.0.0)\n",
            "  Downloading fancy_einsum-0.0.3-py3-none-any.whl (6.2 kB)\n",
            "Collecting jaxtyping>=0.2.11 (from transformer-lens==0.0.0)\n",
            "  Downloading jaxtyping-0.2.22-py3-none-any.whl (25 kB)\n",
            "Requirement already satisfied: numpy>=1.23 in /usr/local/lib/python3.10/dist-packages (from transformer-lens==0.0.0) (1.23.5)\n",
            "Requirement already satisfied: pandas>=1.1.5 in /usr/local/lib/python3.10/dist-packages (from transformer-lens==0.0.0) (1.5.3)\n",
            "Requirement already satisfied: rich>=12.6.0 in /usr/local/lib/python3.10/dist-packages (from transformer-lens==0.0.0) (13.5.2)\n",
            "Requirement already satisfied: torch>=1.10 in /usr/local/lib/python3.10/dist-packages (from transformer-lens==0.0.0) (2.0.1+cu118)\n",
            "Requirement already satisfied: tqdm>=4.64.1 in /usr/local/lib/python3.10/dist-packages (from transformer-lens==0.0.0) (4.66.1)\n",
            "Collecting transformers>=4.25.1 (from transformer-lens==0.0.0)\n",
            "  Downloading transformers-4.33.3-py3-none-any.whl (7.6 MB)\n",
            "\u001b[2K     \u001b[90m━━━━━━━━━━━━━━━━━━━━━━━━━━━━━━━━━━━━━━━━\u001b[0m \u001b[32m7.6/7.6 MB\u001b[0m \u001b[31m83.0 MB/s\u001b[0m eta \u001b[36m0:00:00\u001b[0m\n",
            "\u001b[?25hCollecting wandb>=0.13.5 (from transformer-lens==0.0.0)\n",
            "  Downloading wandb-0.15.11-py3-none-any.whl (2.1 MB)\n",
            "\u001b[2K     \u001b[90m━━━━━━━━━━━━━━━━━━━━━━━━━━━━━━━━━━━━━━━━\u001b[0m \u001b[32m2.1/2.1 MB\u001b[0m \u001b[31m82.3 MB/s\u001b[0m eta \u001b[36m0:00:00\u001b[0m\n",
            "\u001b[?25hRequirement already satisfied: pyarrow>=8.0.0 in /usr/local/lib/python3.10/dist-packages (from datasets>=2.7.1->transformer-lens==0.0.0) (9.0.0)\n",
            "Collecting dill<0.3.8,>=0.3.0 (from datasets>=2.7.1->transformer-lens==0.0.0)\n",
            "  Downloading dill-0.3.7-py3-none-any.whl (115 kB)\n",
            "\u001b[2K     \u001b[90m━━━━━━━━━━━━━━━━━━━━━━━━━━━━━━━━━━━━━━\u001b[0m \u001b[32m115.3/115.3 kB\u001b[0m \u001b[31m15.6 MB/s\u001b[0m eta \u001b[36m0:00:00\u001b[0m\n",
            "\u001b[?25hRequirement already satisfied: requests>=2.19.0 in /usr/local/lib/python3.10/dist-packages (from datasets>=2.7.1->transformer-lens==0.0.0) (2.31.0)\n",
            "Collecting xxhash (from datasets>=2.7.1->transformer-lens==0.0.0)\n",
            "  Downloading xxhash-3.3.0-cp310-cp310-manylinux_2_17_x86_64.manylinux2014_x86_64.whl (194 kB)\n",
            "\u001b[2K     \u001b[90m━━━━━━━━━━━━━━━━━━━━━━━━━━━━━━━━━━━━━━\u001b[0m \u001b[32m194.1/194.1 kB\u001b[0m \u001b[31m24.4 MB/s\u001b[0m eta \u001b[36m0:00:00\u001b[0m\n",
            "\u001b[?25hCollecting multiprocess (from datasets>=2.7.1->transformer-lens==0.0.0)\n",
            "  Downloading multiprocess-0.70.15-py310-none-any.whl (134 kB)\n",
            "\u001b[2K     \u001b[90m━━━━━━━━━━━━━━━━━━━━━━━━━━━━━━━━━━━━━━\u001b[0m \u001b[32m134.8/134.8 kB\u001b[0m \u001b[31m18.5 MB/s\u001b[0m eta \u001b[36m0:00:00\u001b[0m\n",
            "\u001b[?25hRequirement already satisfied: fsspec[http]<2023.9.0,>=2023.1.0 in /usr/local/lib/python3.10/dist-packages (from datasets>=2.7.1->transformer-lens==0.0.0) (2023.6.0)\n",
            "Requirement already satisfied: aiohttp in /usr/local/lib/python3.10/dist-packages (from datasets>=2.7.1->transformer-lens==0.0.0) (3.8.5)\n",
            "Collecting huggingface-hub<1.0.0,>=0.14.0 (from datasets>=2.7.1->transformer-lens==0.0.0)\n",
            "  Downloading huggingface_hub-0.17.3-py3-none-any.whl (295 kB)\n",
            "\u001b[2K     \u001b[90m━━━━━━━━━━━━━━━━━━━━━━━━━━━━━━━━━━━━━━\u001b[0m \u001b[32m295.0/295.0 kB\u001b[0m \u001b[31m35.0 MB/s\u001b[0m eta \u001b[36m0:00:00\u001b[0m\n",
            "\u001b[?25hRequirement already satisfied: packaging in /usr/local/lib/python3.10/dist-packages (from datasets>=2.7.1->transformer-lens==0.0.0) (23.1)\n",
            "Requirement already satisfied: pyyaml>=5.1 in /usr/local/lib/python3.10/dist-packages (from datasets>=2.7.1->transformer-lens==0.0.0) (6.0.1)\n",
            "Collecting typeguard>=2.13.3 (from jaxtyping>=0.2.11->transformer-lens==0.0.0)\n",
            "  Downloading typeguard-4.1.5-py3-none-any.whl (34 kB)\n",
            "Requirement already satisfied: typing-extensions>=3.7.4.1 in /usr/local/lib/python3.10/dist-packages (from jaxtyping>=0.2.11->transformer-lens==0.0.0) (4.5.0)\n",
            "Requirement already satisfied: python-dateutil>=2.8.1 in /usr/local/lib/python3.10/dist-packages (from pandas>=1.1.5->transformer-lens==0.0.0) (2.8.2)\n",
            "Requirement already satisfied: pytz>=2020.1 in /usr/local/lib/python3.10/dist-packages (from pandas>=1.1.5->transformer-lens==0.0.0) (2023.3.post1)\n",
            "Requirement already satisfied: markdown-it-py>=2.2.0 in /usr/local/lib/python3.10/dist-packages (from rich>=12.6.0->transformer-lens==0.0.0) (3.0.0)\n",
            "Requirement already satisfied: pygments<3.0.0,>=2.13.0 in /usr/local/lib/python3.10/dist-packages (from rich>=12.6.0->transformer-lens==0.0.0) (2.16.1)\n",
            "Requirement already satisfied: filelock in /usr/local/lib/python3.10/dist-packages (from torch>=1.10->transformer-lens==0.0.0) (3.12.2)\n",
            "Requirement already satisfied: sympy in /usr/local/lib/python3.10/dist-packages (from torch>=1.10->transformer-lens==0.0.0) (1.12)\n",
            "Requirement already satisfied: networkx in /usr/local/lib/python3.10/dist-packages (from torch>=1.10->transformer-lens==0.0.0) (3.1)\n",
            "Requirement already satisfied: jinja2 in /usr/local/lib/python3.10/dist-packages (from torch>=1.10->transformer-lens==0.0.0) (3.1.2)\n",
            "Requirement already satisfied: triton==2.0.0 in /usr/local/lib/python3.10/dist-packages (from torch>=1.10->transformer-lens==0.0.0) (2.0.0)\n",
            "Requirement already satisfied: cmake in /usr/local/lib/python3.10/dist-packages (from triton==2.0.0->torch>=1.10->transformer-lens==0.0.0) (3.27.4.1)\n",
            "Requirement already satisfied: lit in /usr/local/lib/python3.10/dist-packages (from triton==2.0.0->torch>=1.10->transformer-lens==0.0.0) (16.0.6)\n",
            "Requirement already satisfied: regex!=2019.12.17 in /usr/local/lib/python3.10/dist-packages (from transformers>=4.25.1->transformer-lens==0.0.0) (2023.6.3)\n",
            "Collecting tokenizers!=0.11.3,<0.14,>=0.11.1 (from transformers>=4.25.1->transformer-lens==0.0.0)\n",
            "  Downloading tokenizers-0.13.3-cp310-cp310-manylinux_2_17_x86_64.manylinux2014_x86_64.whl (7.8 MB)\n",
            "\u001b[2K     \u001b[90m━━━━━━━━━━━━━━━━━━━━━━━━━━━━━━━━━━━━━━━━\u001b[0m \u001b[32m7.8/7.8 MB\u001b[0m \u001b[31m110.2 MB/s\u001b[0m eta \u001b[36m0:00:00\u001b[0m\n",
            "\u001b[?25hCollecting safetensors>=0.3.1 (from transformers>=4.25.1->transformer-lens==0.0.0)\n",
            "  Downloading safetensors-0.3.3-cp310-cp310-manylinux_2_17_x86_64.manylinux2014_x86_64.whl (1.3 MB)\n",
            "\u001b[2K     \u001b[90m━━━━━━━━━━━━━━━━━━━━━━━━━━━━━━━━━━━━━━━━\u001b[0m \u001b[32m1.3/1.3 MB\u001b[0m \u001b[31m74.6 MB/s\u001b[0m eta \u001b[36m0:00:00\u001b[0m\n",
            "\u001b[?25hRequirement already satisfied: Click!=8.0.0,>=7.1 in /usr/local/lib/python3.10/dist-packages (from wandb>=0.13.5->transformer-lens==0.0.0) (8.1.7)\n",
            "Collecting GitPython!=3.1.29,>=1.0.0 (from wandb>=0.13.5->transformer-lens==0.0.0)\n",
            "  Downloading GitPython-3.1.37-py3-none-any.whl (190 kB)\n",
            "\u001b[2K     \u001b[90m━━━━━━━━━━━━━━━━━━━━━━━━━━━━━━━━━━━━━━\u001b[0m \u001b[32m190.0/190.0 kB\u001b[0m \u001b[31m22.6 MB/s\u001b[0m eta \u001b[36m0:00:00\u001b[0m\n",
            "\u001b[?25hRequirement already satisfied: psutil>=5.0.0 in /usr/local/lib/python3.10/dist-packages (from wandb>=0.13.5->transformer-lens==0.0.0) (5.9.5)\n",
            "Collecting sentry-sdk>=1.0.0 (from wandb>=0.13.5->transformer-lens==0.0.0)\n",
            "  Downloading sentry_sdk-1.31.0-py2.py3-none-any.whl (224 kB)\n",
            "\u001b[2K     \u001b[90m━━━━━━━━━━━━━━━━━━━━━━━━━━━━━━━━━━━━━━\u001b[0m \u001b[32m224.8/224.8 kB\u001b[0m \u001b[31m25.7 MB/s\u001b[0m eta \u001b[36m0:00:00\u001b[0m\n",
            "\u001b[?25hCollecting docker-pycreds>=0.4.0 (from wandb>=0.13.5->transformer-lens==0.0.0)\n",
            "  Downloading docker_pycreds-0.4.0-py2.py3-none-any.whl (9.0 kB)\n",
            "Collecting pathtools (from wandb>=0.13.5->transformer-lens==0.0.0)\n",
            "  Downloading pathtools-0.1.2.tar.gz (11 kB)\n",
            "  Preparing metadata (setup.py) ... \u001b[?25l\u001b[?25hdone\n",
            "Collecting setproctitle (from wandb>=0.13.5->transformer-lens==0.0.0)\n",
            "  Downloading setproctitle-1.3.2-cp310-cp310-manylinux_2_5_x86_64.manylinux1_x86_64.manylinux_2_17_x86_64.manylinux2014_x86_64.whl (30 kB)\n",
            "Requirement already satisfied: setuptools in /usr/local/lib/python3.10/dist-packages (from wandb>=0.13.5->transformer-lens==0.0.0) (67.7.2)\n",
            "Requirement already satisfied: appdirs>=1.4.3 in /usr/local/lib/python3.10/dist-packages (from wandb>=0.13.5->transformer-lens==0.0.0) (1.4.4)\n",
            "Requirement already satisfied: protobuf!=4.21.0,<5,>=3.19.0 in /usr/local/lib/python3.10/dist-packages (from wandb>=0.13.5->transformer-lens==0.0.0) (3.20.3)\n",
            "Requirement already satisfied: six>=1.4.0 in /usr/local/lib/python3.10/dist-packages (from docker-pycreds>=0.4.0->wandb>=0.13.5->transformer-lens==0.0.0) (1.16.0)\n",
            "Requirement already satisfied: attrs>=17.3.0 in /usr/local/lib/python3.10/dist-packages (from aiohttp->datasets>=2.7.1->transformer-lens==0.0.0) (23.1.0)\n",
            "Requirement already satisfied: charset-normalizer<4.0,>=2.0 in /usr/local/lib/python3.10/dist-packages (from aiohttp->datasets>=2.7.1->transformer-lens==0.0.0) (3.2.0)\n",
            "Requirement already satisfied: multidict<7.0,>=4.5 in /usr/local/lib/python3.10/dist-packages (from aiohttp->datasets>=2.7.1->transformer-lens==0.0.0) (6.0.4)\n",
            "Requirement already satisfied: async-timeout<5.0,>=4.0.0a3 in /usr/local/lib/python3.10/dist-packages (from aiohttp->datasets>=2.7.1->transformer-lens==0.0.0) (4.0.3)\n",
            "Requirement already satisfied: yarl<2.0,>=1.0 in /usr/local/lib/python3.10/dist-packages (from aiohttp->datasets>=2.7.1->transformer-lens==0.0.0) (1.9.2)\n",
            "Requirement already satisfied: frozenlist>=1.1.1 in /usr/local/lib/python3.10/dist-packages (from aiohttp->datasets>=2.7.1->transformer-lens==0.0.0) (1.4.0)\n",
            "Requirement already satisfied: aiosignal>=1.1.2 in /usr/local/lib/python3.10/dist-packages (from aiohttp->datasets>=2.7.1->transformer-lens==0.0.0) (1.3.1)\n",
            "Collecting gitdb<5,>=4.0.1 (from GitPython!=3.1.29,>=1.0.0->wandb>=0.13.5->transformer-lens==0.0.0)\n",
            "  Downloading gitdb-4.0.10-py3-none-any.whl (62 kB)\n",
            "\u001b[2K     \u001b[90m━━━━━━━━━━━━━━━━━━━━━━━━━━━━━━━━━━━━━━━━\u001b[0m \u001b[32m62.7/62.7 kB\u001b[0m \u001b[31m7.2 MB/s\u001b[0m eta \u001b[36m0:00:00\u001b[0m\n",
            "\u001b[?25hRequirement already satisfied: mdurl~=0.1 in /usr/local/lib/python3.10/dist-packages (from markdown-it-py>=2.2.0->rich>=12.6.0->transformer-lens==0.0.0) (0.1.2)\n",
            "Requirement already satisfied: idna<4,>=2.5 in /usr/local/lib/python3.10/dist-packages (from requests>=2.19.0->datasets>=2.7.1->transformer-lens==0.0.0) (3.4)\n",
            "Requirement already satisfied: urllib3<3,>=1.21.1 in /usr/local/lib/python3.10/dist-packages (from requests>=2.19.0->datasets>=2.7.1->transformer-lens==0.0.0) (2.0.4)\n",
            "Requirement already satisfied: certifi>=2017.4.17 in /usr/local/lib/python3.10/dist-packages (from requests>=2.19.0->datasets>=2.7.1->transformer-lens==0.0.0) (2023.7.22)\n",
            "Collecting typing-extensions>=3.7.4.1 (from jaxtyping>=0.2.11->transformer-lens==0.0.0)\n",
            "  Downloading typing_extensions-4.8.0-py3-none-any.whl (31 kB)\n",
            "Requirement already satisfied: MarkupSafe>=2.0 in /usr/local/lib/python3.10/dist-packages (from jinja2->torch>=1.10->transformer-lens==0.0.0) (2.1.3)\n",
            "Requirement already satisfied: mpmath>=0.19 in /usr/local/lib/python3.10/dist-packages (from sympy->torch>=1.10->transformer-lens==0.0.0) (1.3.0)\n",
            "Collecting smmap<6,>=3.0.1 (from gitdb<5,>=4.0.1->GitPython!=3.1.29,>=1.0.0->wandb>=0.13.5->transformer-lens==0.0.0)\n",
            "  Downloading smmap-5.0.1-py3-none-any.whl (24 kB)\n",
            "Building wheels for collected packages: transformer-lens, pathtools\n",
            "  Building wheel for transformer-lens (pyproject.toml) ... \u001b[?25l\u001b[?25hdone\n",
            "  Created wheel for transformer-lens: filename=transformer_lens-0.0.0-py3-none-any.whl size=110239 sha256=f951eab6f45540d4872b5d08def2a2a3e28647bd7e138bc84dc4387997ef8852\n",
            "  Stored in directory: /tmp/pip-ephem-wheel-cache-6c3_ydnb/wheels/8a/1e/37/ffb9c15454a1725b13a9d9f5e74fb91725048884ad734b8c1f\n",
            "  Building wheel for pathtools (setup.py) ... \u001b[?25l\u001b[?25hdone\n",
            "  Created wheel for pathtools: filename=pathtools-0.1.2-py3-none-any.whl size=8791 sha256=3f00c293d82dd00fb96582121bf3505ae142ebe8764ab790e3302cc6df798307\n",
            "  Stored in directory: /root/.cache/pip/wheels/e7/f3/22/152153d6eb222ee7a56ff8617d80ee5207207a8c00a7aab794\n",
            "Successfully built transformer-lens pathtools\n",
            "Installing collected packages: tokenizers, safetensors, pathtools, xxhash, typing-extensions, smmap, setproctitle, sentry-sdk, fancy-einsum, einops, docker-pycreds, dill, beartype, typeguard, multiprocess, huggingface-hub, gitdb, transformers, jaxtyping, GitPython, wandb, datasets, transformer-lens\n",
            "  Attempting uninstall: typing-extensions\n",
            "    Found existing installation: typing_extensions 4.5.0\n",
            "    Uninstalling typing_extensions-4.5.0:\n",
            "      Successfully uninstalled typing_extensions-4.5.0\n",
            "\u001b[31mERROR: pip's dependency resolver does not currently take into account all the packages that are installed. This behaviour is the source of the following dependency conflicts.\n",
            "tensorflow 2.13.0 requires typing-extensions<4.6.0,>=3.6.6, but you have typing-extensions 4.8.0 which is incompatible.\u001b[0m\u001b[31m\n",
            "\u001b[0mSuccessfully installed GitPython-3.1.37 beartype-0.14.1 datasets-2.14.5 dill-0.3.7 docker-pycreds-0.4.0 einops-0.7.0 fancy-einsum-0.0.3 gitdb-4.0.10 huggingface-hub-0.17.3 jaxtyping-0.2.22 multiprocess-0.70.15 pathtools-0.1.2 safetensors-0.3.3 sentry-sdk-1.31.0 setproctitle-1.3.2 smmap-5.0.1 tokenizers-0.13.3 transformer-lens-0.0.0 transformers-4.33.3 typeguard-4.1.5 typing-extensions-4.8.0 wandb-0.15.11 xxhash-3.3.0\n",
            "\n",
            "\u001b[1m\u001b[31m================================================================================\u001b[m\n",
            "\u001b[1m\u001b[31m▓▓▓▓▓▓▓▓▓▓▓▓▓▓▓▓▓▓▓▓▓▓▓▓▓▓▓▓▓▓▓▓▓▓▓▓▓▓▓▓▓▓▓▓▓▓▓▓▓▓▓▓▓▓▓▓▓▓▓▓▓▓▓▓▓▓▓▓▓▓▓▓▓▓▓▓▓▓▓▓\u001b[m\n",
            "\u001b[1m\u001b[31m================================================================================\u001b[m\n",
            "\n",
            "  \u001b[1m\u001b[33m                         \u001b[4mSCRIPT DEPRECATION WARNING\u001b[m                    \u001b[m\n",
            "\n",
            "  \n",
            "  This script, located at \u001b[1mhttps://deb.nodesource.com/setup_X\u001b[m, used to\n",
            "  install Node.js is deprecated now and will eventually be made inactive.\n",
            "\n",
            "  Please visit the NodeSource \u001b[1mdistributions\u001b[m Github and follow the\n",
            "  instructions to migrate your repo.\n",
            "  \u001b[4m\u001b[32m\u001b[1mhttps://github.com/nodesource/distributions\u001b[m\n",
            "\n",
            "  The \u001b[1mNodeSource\u001b[m Node.js Linux distributions GitHub repository contains\n",
            "  information about which versions of Node.js and which Linux distributions\n",
            "  are supported and how to install it.\n",
            "  \u001b[4m\u001b[32m\u001b[1mhttps://github.com/nodesource/distributions\u001b[m\n",
            "\n",
            "\n",
            "                          \u001b[4m\u001b[1m\u001b[33mSCRIPT DEPRECATION WARNING\u001b[m\n",
            "\n",
            "\u001b[1m\u001b[31m================================================================================\u001b[m\n",
            "\u001b[1m\u001b[31m▓▓▓▓▓▓▓▓▓▓▓▓▓▓▓▓▓▓▓▓▓▓▓▓▓▓▓▓▓▓▓▓▓▓▓▓▓▓▓▓▓▓▓▓▓▓▓▓▓▓▓▓▓▓▓▓▓▓▓▓▓▓▓▓▓▓▓▓▓▓▓▓▓▓▓▓▓▓▓▓\u001b[m\n",
            "\u001b[1m\u001b[31m================================================================================\u001b[m\n",
            "\n",
            "\u001b[36m\u001b[1mTO AVOID THIS WAIT MIGRATE THE SCRIPT\u001b[m\n",
            "Continuing in 60 seconds (press Ctrl-C to abort) ...\n",
            "\n",
            "\n",
            "## Installing the NodeSource Node.js 16.x repo...\n",
            "\n",
            "\n",
            "## Populating apt-get cache...\n",
            "\n",
            "+ apt-get update\n",
            "Get:1 https://cloud.r-project.org/bin/linux/ubuntu jammy-cran40/ InRelease [3,626 B]\n",
            "Get:2 https://developer.download.nvidia.com/compute/cuda/repos/ubuntu2204/x86_64  InRelease [1,581 B]\n",
            "Get:3 https://developer.download.nvidia.com/compute/cuda/repos/ubuntu2204/x86_64  Packages [517 kB]\n",
            "Get:4 http://security.ubuntu.com/ubuntu jammy-security InRelease [110 kB]\n",
            "Hit:5 http://archive.ubuntu.com/ubuntu jammy InRelease\n",
            "Get:6 https://ppa.launchpadcontent.net/c2d4u.team/c2d4u4.0+/ubuntu jammy InRelease [18.1 kB]\n",
            "Get:7 http://archive.ubuntu.com/ubuntu jammy-updates InRelease [119 kB]\n",
            "Get:8 http://security.ubuntu.com/ubuntu jammy-security/multiverse amd64 Packages [44.0 kB]\n",
            "Hit:9 https://ppa.launchpadcontent.net/deadsnakes/ppa/ubuntu jammy InRelease\n",
            "Get:10 http://archive.ubuntu.com/ubuntu jammy-backports InRelease [109 kB]\n",
            "Get:11 http://security.ubuntu.com/ubuntu jammy-security/restricted amd64 Packages [1,144 kB]\n",
            "Get:12 http://archive.ubuntu.com/ubuntu jammy-updates/restricted amd64 Packages [1,165 kB]\n",
            "Get:13 https://ppa.launchpadcontent.net/graphics-drivers/ppa/ubuntu jammy InRelease [24.3 kB]\n",
            "Get:14 http://security.ubuntu.com/ubuntu jammy-security/main amd64 Packages [1,016 kB]\n",
            "Get:15 http://archive.ubuntu.com/ubuntu jammy-updates/universe amd64 Packages [1,264 kB]\n",
            "Hit:16 https://ppa.launchpadcontent.net/ubuntugis/ppa/ubuntu jammy InRelease\n",
            "Get:17 http://archive.ubuntu.com/ubuntu jammy-updates/main amd64 Packages [1,287 kB]\n",
            "Get:18 http://archive.ubuntu.com/ubuntu jammy-updates/multiverse amd64 Packages [49.8 kB]\n",
            "Get:19 https://ppa.launchpadcontent.net/c2d4u.team/c2d4u4.0+/ubuntu jammy/main Sources [2,197 kB]\n",
            "Get:20 https://ppa.launchpadcontent.net/c2d4u.team/c2d4u4.0+/ubuntu jammy/main amd64 Packages [1,128 kB]\n",
            "Get:21 https://ppa.launchpadcontent.net/graphics-drivers/ppa/ubuntu jammy/main amd64 Packages [37.7 kB]\n",
            "Fetched 10.2 MB in 8s (1,282 kB/s)\n",
            "Reading package lists... Done\n",
            "\n",
            "## Confirming \"jammy\" is supported...\n",
            "\n",
            "+ curl -sLf -o /dev/null 'https://deb.nodesource.com/node_16.x/dists/jammy/Release'\n",
            "\n",
            "## Adding the NodeSource signing key to your keyring...\n",
            "\n",
            "+ curl -s https://deb.nodesource.com/gpgkey/nodesource.gpg.key | gpg --dearmor | tee /usr/share/keyrings/nodesource.gpg >/dev/null\n",
            "\n",
            "## Creating apt sources list file for the NodeSource Node.js 16.x repo...\n",
            "\n",
            "+ echo 'deb [signed-by=/usr/share/keyrings/nodesource.gpg] https://deb.nodesource.com/node_16.x jammy main' > /etc/apt/sources.list.d/nodesource.list\n",
            "+ echo 'deb-src [signed-by=/usr/share/keyrings/nodesource.gpg] https://deb.nodesource.com/node_16.x jammy main' >> /etc/apt/sources.list.d/nodesource.list\n",
            "\n",
            "## Running `apt-get update` for you...\n",
            "\n",
            "+ apt-get update\n",
            "Hit:1 https://cloud.r-project.org/bin/linux/ubuntu jammy-cran40/ InRelease\n",
            "Get:2 https://deb.nodesource.com/node_16.x jammy InRelease [4,583 B]\n",
            "Hit:3 https://developer.download.nvidia.com/compute/cuda/repos/ubuntu2204/x86_64  InRelease\n",
            "Get:4 https://deb.nodesource.com/node_16.x jammy/main amd64 Packages [776 B]\n",
            "Hit:5 http://security.ubuntu.com/ubuntu jammy-security InRelease\n",
            "Hit:6 http://archive.ubuntu.com/ubuntu jammy InRelease\n",
            "Hit:7 http://archive.ubuntu.com/ubuntu jammy-updates InRelease\n",
            "Hit:8 https://ppa.launchpadcontent.net/c2d4u.team/c2d4u4.0+/ubuntu jammy InRelease\n",
            "Hit:9 http://archive.ubuntu.com/ubuntu jammy-backports InRelease\n",
            "Hit:10 https://ppa.launchpadcontent.net/deadsnakes/ppa/ubuntu jammy InRelease\n",
            "Hit:11 https://ppa.launchpadcontent.net/graphics-drivers/ppa/ubuntu jammy InRelease\n",
            "Hit:12 https://ppa.launchpadcontent.net/ubuntugis/ppa/ubuntu jammy InRelease\n",
            "Fetched 5,359 B in 3s (1,947 B/s)\n",
            "Reading package lists... Done\n",
            "\n",
            "## Run `\u001b[1msudo apt-get install -y nodejs\u001b[m` to install Node.js 16.x and npm\n",
            "## You may also need development tools to build native addons:\n",
            "     sudo apt-get install gcc g++ make\n",
            "## To install the Yarn package manager, run:\n",
            "     curl -sL https://dl.yarnpkg.com/debian/pubkey.gpg | gpg --dearmor | sudo tee /usr/share/keyrings/yarnkey.gpg >/dev/null\n",
            "     echo \"deb [signed-by=/usr/share/keyrings/yarnkey.gpg] https://dl.yarnpkg.com/debian stable main\" | sudo tee /etc/apt/sources.list.d/yarn.list\n",
            "     sudo apt-get update && sudo apt-get install yarn\n",
            "\n",
            "\n",
            "Reading package lists... Done\n",
            "Building dependency tree... Done\n",
            "Reading state information... Done\n",
            "The following NEW packages will be installed:\n",
            "  nodejs\n",
            "0 upgraded, 1 newly installed, 0 to remove and 19 not upgraded.\n",
            "Need to get 27.2 MB of archives.\n",
            "After this operation, 128 MB of additional disk space will be used.\n",
            "Get:1 https://deb.nodesource.com/node_16.x jammy/main amd64 nodejs amd64 16.20.2-deb-1nodesource1 [27.2 MB]\n",
            "Fetched 27.2 MB in 0s (88.3 MB/s)\n",
            "debconf: unable to initialize frontend: Dialog\n",
            "debconf: (No usable dialog-like program is installed, so the dialog based frontend cannot be used. at /usr/share/perl5/Debconf/FrontEnd/Dialog.pm line 78, <> line 1.)\n",
            "debconf: falling back to frontend: Readline\n",
            "debconf: unable to initialize frontend: Readline\n",
            "debconf: (This frontend requires a controlling tty.)\n",
            "debconf: falling back to frontend: Teletype\n",
            "dpkg-preconfigure: unable to re-open stdin: \n",
            "Selecting previously unselected package nodejs.\n",
            "(Reading database ... 120895 files and directories currently installed.)\n",
            "Preparing to unpack .../nodejs_16.20.2-deb-1nodesource1_amd64.deb ...\n",
            "Unpacking nodejs (16.20.2-deb-1nodesource1) ...\n",
            "Setting up nodejs (16.20.2-deb-1nodesource1) ...\n",
            "Processing triggers for man-db (2.10.2-1) ...\n",
            "Collecting git+https://github.com/neelnanda-io/PySvelte.git\n",
            "  Cloning https://github.com/neelnanda-io/PySvelte.git to /tmp/pip-req-build-qrsud24q\n",
            "  Running command git clone --filter=blob:none --quiet https://github.com/neelnanda-io/PySvelte.git /tmp/pip-req-build-qrsud24q\n",
            "  Resolved https://github.com/neelnanda-io/PySvelte.git to commit 6f5d971a148d40fb7481d400ae74551b37340e83\n",
            "  Preparing metadata (setup.py) ... \u001b[?25l\u001b[?25hdone\n",
            "Requirement already satisfied: einops in /usr/local/lib/python3.10/dist-packages (from PySvelte==1.0.0) (0.7.0)\n",
            "Requirement already satisfied: numpy in /usr/local/lib/python3.10/dist-packages (from PySvelte==1.0.0) (1.23.5)\n",
            "Requirement already satisfied: torch in /usr/local/lib/python3.10/dist-packages (from PySvelte==1.0.0) (2.0.1+cu118)\n",
            "Requirement already satisfied: datasets in /usr/local/lib/python3.10/dist-packages (from PySvelte==1.0.0) (2.14.5)\n",
            "Requirement already satisfied: transformers in /usr/local/lib/python3.10/dist-packages (from PySvelte==1.0.0) (4.33.3)\n",
            "Requirement already satisfied: tqdm in /usr/local/lib/python3.10/dist-packages (from PySvelte==1.0.0) (4.66.1)\n",
            "Requirement already satisfied: pandas in /usr/local/lib/python3.10/dist-packages (from PySvelte==1.0.0) (1.5.3)\n",
            "Collecting typeguard~=2.0 (from PySvelte==1.0.0)\n",
            "  Downloading typeguard-2.13.3-py3-none-any.whl (17 kB)\n",
            "Requirement already satisfied: pyarrow>=8.0.0 in /usr/local/lib/python3.10/dist-packages (from datasets->PySvelte==1.0.0) (9.0.0)\n",
            "Requirement already satisfied: dill<0.3.8,>=0.3.0 in /usr/local/lib/python3.10/dist-packages (from datasets->PySvelte==1.0.0) (0.3.7)\n",
            "Requirement already satisfied: requests>=2.19.0 in /usr/local/lib/python3.10/dist-packages (from datasets->PySvelte==1.0.0) (2.31.0)\n",
            "Requirement already satisfied: xxhash in /usr/local/lib/python3.10/dist-packages (from datasets->PySvelte==1.0.0) (3.3.0)\n",
            "Requirement already satisfied: multiprocess in /usr/local/lib/python3.10/dist-packages (from datasets->PySvelte==1.0.0) (0.70.15)\n",
            "Requirement already satisfied: fsspec[http]<2023.9.0,>=2023.1.0 in /usr/local/lib/python3.10/dist-packages (from datasets->PySvelte==1.0.0) (2023.6.0)\n",
            "Requirement already satisfied: aiohttp in /usr/local/lib/python3.10/dist-packages (from datasets->PySvelte==1.0.0) (3.8.5)\n",
            "Requirement already satisfied: huggingface-hub<1.0.0,>=0.14.0 in /usr/local/lib/python3.10/dist-packages (from datasets->PySvelte==1.0.0) (0.17.3)\n",
            "Requirement already satisfied: packaging in /usr/local/lib/python3.10/dist-packages (from datasets->PySvelte==1.0.0) (23.1)\n",
            "Requirement already satisfied: pyyaml>=5.1 in /usr/local/lib/python3.10/dist-packages (from datasets->PySvelte==1.0.0) (6.0.1)\n",
            "Requirement already satisfied: python-dateutil>=2.8.1 in /usr/local/lib/python3.10/dist-packages (from pandas->PySvelte==1.0.0) (2.8.2)\n",
            "Requirement already satisfied: pytz>=2020.1 in /usr/local/lib/python3.10/dist-packages (from pandas->PySvelte==1.0.0) (2023.3.post1)\n",
            "Requirement already satisfied: filelock in /usr/local/lib/python3.10/dist-packages (from torch->PySvelte==1.0.0) (3.12.2)\n",
            "Requirement already satisfied: typing-extensions in /usr/local/lib/python3.10/dist-packages (from torch->PySvelte==1.0.0) (4.8.0)\n",
            "Requirement already satisfied: sympy in /usr/local/lib/python3.10/dist-packages (from torch->PySvelte==1.0.0) (1.12)\n",
            "Requirement already satisfied: networkx in /usr/local/lib/python3.10/dist-packages (from torch->PySvelte==1.0.0) (3.1)\n",
            "Requirement already satisfied: jinja2 in /usr/local/lib/python3.10/dist-packages (from torch->PySvelte==1.0.0) (3.1.2)\n",
            "Requirement already satisfied: triton==2.0.0 in /usr/local/lib/python3.10/dist-packages (from torch->PySvelte==1.0.0) (2.0.0)\n",
            "Requirement already satisfied: cmake in /usr/local/lib/python3.10/dist-packages (from triton==2.0.0->torch->PySvelte==1.0.0) (3.27.4.1)\n",
            "Requirement already satisfied: lit in /usr/local/lib/python3.10/dist-packages (from triton==2.0.0->torch->PySvelte==1.0.0) (16.0.6)\n",
            "Requirement already satisfied: regex!=2019.12.17 in /usr/local/lib/python3.10/dist-packages (from transformers->PySvelte==1.0.0) (2023.6.3)\n",
            "Requirement already satisfied: tokenizers!=0.11.3,<0.14,>=0.11.1 in /usr/local/lib/python3.10/dist-packages (from transformers->PySvelte==1.0.0) (0.13.3)\n",
            "Requirement already satisfied: safetensors>=0.3.1 in /usr/local/lib/python3.10/dist-packages (from transformers->PySvelte==1.0.0) (0.3.3)\n",
            "Requirement already satisfied: attrs>=17.3.0 in /usr/local/lib/python3.10/dist-packages (from aiohttp->datasets->PySvelte==1.0.0) (23.1.0)\n",
            "Requirement already satisfied: charset-normalizer<4.0,>=2.0 in /usr/local/lib/python3.10/dist-packages (from aiohttp->datasets->PySvelte==1.0.0) (3.2.0)\n",
            "Requirement already satisfied: multidict<7.0,>=4.5 in /usr/local/lib/python3.10/dist-packages (from aiohttp->datasets->PySvelte==1.0.0) (6.0.4)\n",
            "Requirement already satisfied: async-timeout<5.0,>=4.0.0a3 in /usr/local/lib/python3.10/dist-packages (from aiohttp->datasets->PySvelte==1.0.0) (4.0.3)\n",
            "Requirement already satisfied: yarl<2.0,>=1.0 in /usr/local/lib/python3.10/dist-packages (from aiohttp->datasets->PySvelte==1.0.0) (1.9.2)\n",
            "Requirement already satisfied: frozenlist>=1.1.1 in /usr/local/lib/python3.10/dist-packages (from aiohttp->datasets->PySvelte==1.0.0) (1.4.0)\n",
            "Requirement already satisfied: aiosignal>=1.1.2 in /usr/local/lib/python3.10/dist-packages (from aiohttp->datasets->PySvelte==1.0.0) (1.3.1)\n",
            "Requirement already satisfied: six>=1.5 in /usr/local/lib/python3.10/dist-packages (from python-dateutil>=2.8.1->pandas->PySvelte==1.0.0) (1.16.0)\n",
            "Requirement already satisfied: idna<4,>=2.5 in /usr/local/lib/python3.10/dist-packages (from requests>=2.19.0->datasets->PySvelte==1.0.0) (3.4)\n",
            "Requirement already satisfied: urllib3<3,>=1.21.1 in /usr/local/lib/python3.10/dist-packages (from requests>=2.19.0->datasets->PySvelte==1.0.0) (2.0.4)\n",
            "Requirement already satisfied: certifi>=2017.4.17 in /usr/local/lib/python3.10/dist-packages (from requests>=2.19.0->datasets->PySvelte==1.0.0) (2023.7.22)\n",
            "Requirement already satisfied: MarkupSafe>=2.0 in /usr/local/lib/python3.10/dist-packages (from jinja2->torch->PySvelte==1.0.0) (2.1.3)\n",
            "Requirement already satisfied: mpmath>=0.19 in /usr/local/lib/python3.10/dist-packages (from sympy->torch->PySvelte==1.0.0) (1.3.0)\n",
            "Building wheels for collected packages: PySvelte\n",
            "  Building wheel for PySvelte (setup.py) ... \u001b[?25l\u001b[?25hdone\n",
            "  Created wheel for PySvelte: filename=PySvelte-1.0.0-py3-none-any.whl size=158305 sha256=2b747bb823b9416d12c66c3a8ef7932ffe20e00af458aa6357493e9ef536d0ba\n",
            "  Stored in directory: /tmp/pip-ephem-wheel-cache-_s1hjaae/wheels/fa/f6/f2/673ef7aeb78d7503b6e3e42387132822fdc38d3ee283d3e5b4\n",
            "Successfully built PySvelte\n",
            "Installing collected packages: typeguard, PySvelte\n",
            "  Attempting uninstall: typeguard\n",
            "    Found existing installation: typeguard 4.1.5\n",
            "    Uninstalling typeguard-4.1.5:\n",
            "      Successfully uninstalled typeguard-4.1.5\n",
            "Successfully installed PySvelte-1.0.0 typeguard-2.13.3\n"
          ]
        }
      ],
      "source": [
        "# Janky code to do different setup when run in a Colab notebook vs VSCode\n",
        "DEBUG_MODE = False\n",
        "try:\n",
        "    import google.colab\n",
        "    IN_COLAB = True\n",
        "    print(\"Running as a Colab notebook\")\n",
        "    %pip install git+https://github.com/neelnanda-io/TransformerLens.git\n",
        "    # Install another version of node that makes PySvelte work way faster\n",
        "    !curl -fsSL https://deb.nodesource.com/setup_16.x | sudo -E bash -; sudo apt-get install -y nodejs\n",
        "    %pip install git+https://github.com/neelnanda-io/PySvelte.git\n",
        "except:\n",
        "    IN_COLAB = False\n",
        "    print(\"Running as a Jupyter notebook - intended for development only!\")\n",
        "    from IPython import get_ipython\n",
        "\n",
        "    ipython = get_ipython()\n",
        "    # Code to automatically update the HookedTransformer code as its edited without restarting the kernel\n",
        "    ipython.magic(\"load_ext autoreload\")\n",
        "    ipython.magic(\"autoreload 2\")"
      ]
    },
    {
      "cell_type": "code",
      "execution_count": 13,
      "metadata": {
        "id": "xKoTs7VBIAiD"
      },
      "outputs": [],
      "source": [
        "# Plotly needs a different renderer for VSCode/Notebooks vs Colab argh\n",
        "import plotly.io as pio\n",
        "\n",
        "if IN_COLAB or not DEBUG_MODE:\n",
        "    # Thanks to annoying rendering issues, Plotly graphics will either show up in colab OR Vscode depending on the renderer - this is bad for developing demos! Thus creating a debug mode.\n",
        "    pio.renderers.default = \"colab\"\n",
        "else:\n",
        "    pio.renderers.default = \"png\""
      ]
    },
    {
      "cell_type": "code",
      "execution_count": 14,
      "metadata": {
        "id": "Z6b1n2tvIAiD"
      },
      "outputs": [],
      "source": [
        "# Import stuff\n",
        "import torch\n",
        "import torch.nn as nn\n",
        "import torch.nn.functional as F\n",
        "import torch.optim as optim\n",
        "import numpy as np\n",
        "import einops\n",
        "from fancy_einsum import einsum\n",
        "import tqdm.notebook as tqdm\n",
        "import random\n",
        "from pathlib import Path\n",
        "import plotly.express as px\n",
        "from torch.utils.data import DataLoader\n",
        "\n",
        "from jaxtyping import Float, Int\n",
        "from typing import List, Union, Optional\n",
        "from functools import partial\n",
        "import copy\n",
        "\n",
        "import itertools\n",
        "from transformers import AutoModelForCausalLM, AutoConfig, AutoTokenizer\n",
        "import dataclasses\n",
        "import datasets\n",
        "from IPython.display import HTML"
      ]
    },
    {
      "cell_type": "code",
      "execution_count": 15,
      "metadata": {
        "id": "zuhzYxbsIAiE"
      },
      "outputs": [],
      "source": [
        "import pysvelte\n",
        "\n",
        "import transformer_lens\n",
        "import transformer_lens.utils as utils\n",
        "from transformer_lens.hook_points import (\n",
        "    HookedRootModule,\n",
        "    HookPoint,\n",
        ")  # Hooking utilities\n",
        "from transformer_lens import HookedTransformer, HookedTransformerConfig, FactoredMatrix, ActivationCache"
      ]
    },
    {
      "cell_type": "markdown",
      "metadata": {
        "id": "hccba0v-IAiF"
      },
      "source": [
        "We turn automatic differentiation off, to save GPU memory, as this notebook focuses on model inference not model training."
      ]
    },
    {
      "cell_type": "code",
      "execution_count": 16,
      "metadata": {
        "id": "cFMTUcQiIAiF",
        "outputId": "aa866bb1-8197-4c04-ddd1-2271518ede0d",
        "colab": {
          "base_uri": "https://localhost:8080/"
        }
      },
      "outputs": [
        {
          "output_type": "execute_result",
          "data": {
            "text/plain": [
              "<torch.autograd.grad_mode.set_grad_enabled at 0x7884180bff70>"
            ]
          },
          "metadata": {},
          "execution_count": 16
        }
      ],
      "source": [
        "torch.set_grad_enabled(False)"
      ]
    },
    {
      "cell_type": "markdown",
      "metadata": {
        "id": "zyKb4C51IAiG"
      },
      "source": [
        "Plotting helper functions:"
      ]
    },
    {
      "cell_type": "code",
      "execution_count": 17,
      "metadata": {
        "id": "KFs9BrbzIAiH"
      },
      "outputs": [],
      "source": [
        "def imshow(tensor, renderer=None, **kwargs):\n",
        "    px.imshow(utils.to_numpy(tensor), color_continuous_midpoint=0.0, color_continuous_scale=\"RdBu\", **kwargs).show(renderer)\n",
        "\n",
        "def line(tensor, renderer=None, **kwargs):\n",
        "    px.line(y=utils.to_numpy(tensor), **kwargs).show(renderer)\n",
        "\n",
        "def scatter(x, y, xaxis=\"\", yaxis=\"\", caxis=\"\", renderer=None, **kwargs):\n",
        "    x = utils.to_numpy(x)\n",
        "    y = utils.to_numpy(y)\n",
        "    px.scatter(y=y, x=x, labels={\"x\":xaxis, \"y\":yaxis, \"color\":caxis}, **kwargs).show(renderer)"
      ]
    },
    {
      "cell_type": "markdown",
      "source": [
        "# Load Model"
      ],
      "metadata": {
        "id": "OLkInsdjyHMx"
      }
    },
    {
      "cell_type": "markdown",
      "source": [
        "Decide which model to use (eg. gpt2-small vs -medium)"
      ],
      "metadata": {
        "id": "ssJgoKr2yI8O"
      }
    },
    {
      "cell_type": "code",
      "execution_count": 18,
      "metadata": {
        "id": "xLwDyosvIAiJ",
        "colab": {
          "base_uri": "https://localhost:8080/",
          "referenced_widgets": [
            "9a5e11ffad3f44639276e791b02b2d45",
            "3256e520945a4ce08316dc80bc6b287c",
            "d0f8c22d3ad54551855d18e029f5abdc",
            "8adc1efefb7d43498b16dcc51d96fef0",
            "2ed1618fe80745218f8b77c41335d20f",
            "442cbb0226064a2496a7c650c398beba",
            "58d4790c1754457e8222f9683a39a8a9",
            "c6bf2157639e47979a02ab29a2b720ca",
            "7b114d98e96144acade5618370ffb08c",
            "45d7c44977bc4ba3b34d7e3c91514603",
            "aba890528ed24c4d8b2427fe8fc1d846",
            "238536b2787b43f9bfd784fb485f94c2",
            "69dd5b31d6a241cc859cc6ab4e9e4e8d",
            "28f7d70c48ac4a288fd902ad358ce396",
            "20a9e138a7914e5c8d40c17d01424cf5",
            "544f67859cf143b5b9d1433e22e4ea2d",
            "8a3406b441ad45cda29ca241205e7e4b",
            "746934dcd5534012b1fec11a8241e7ff",
            "8d6318d6d63c40c7b546b635a2ada529",
            "16763e816242479682e5932f2788462c",
            "27356e880cb349988a225fcadd2d868e",
            "69ee318b7316433da2f0b058e8cfd276",
            "87250f5e54804570a0ad4d52e49381dc",
            "949883048e7a438fb9a15c3f67f16601",
            "4ed760614af341ab87850f9074d96017",
            "87a523433113451a9af45a33f3e55ce0",
            "bf5e3792590e441e8f0321ef7f54b1a4",
            "5a76b7b775d64316888c897657319f4f",
            "ad02459beb91481f8ba98fcae6d554e9",
            "517146d0de3e4a63b88563bcce24aefd",
            "bde3912a1a0e4581a0068413bc617b51",
            "87ccf4c534f042e188ea95797d7618a8",
            "d0731c1989e94fa7b6cb1cf4726863d4",
            "d8a39dfdae8b4c4bad7bddbaed0f3ae7",
            "67529e83a15d44ca99948c1883037190",
            "6b807cb037794d73b450be7393c894da",
            "39585cbd1e974170a1f2bfb6807d8519",
            "937175bec7e94670a9f89ff48ee54932",
            "b85da1bb45a44a5d89e0822702c10e95",
            "9cf43b0bebaa4bc5b54b0f02dd737659",
            "7db3d87207fd448389111bb0b29cc96a",
            "f7b4efcc14b048b0a25145b92836bb48",
            "3ab4d937fc51418aad46a3bf574594e4",
            "bb4d806bbd9345e6abe12eac109e60b2",
            "7cbe5afafefa42ec9d3ba3a3de1c1f64",
            "3c317596a3134384b4f5bb650bb69314",
            "a8a8162439994b5abf364321fff219d2",
            "3c6b67b81c08445cb8712173695d39a3",
            "aab376b9c2e54325b51f170aa222efb6",
            "917bf26a905e4240b6951f05ce26af9d",
            "fc0e1f7591fb4fa791cb83714a6a5fc9",
            "c60a84fd547046948cc6d325bebdd0a5",
            "32b7ba6bdef942a396d1cd44a5c623d6",
            "c7927708aebc40ef87c11c7f0043741c",
            "3b14c6abc71b491d8b75f1b9f784c072",
            "3c11eda24a714e53a1c764ba57c00f7f",
            "216ba6032e3f4cbf9b9224c53da70652",
            "c18763ab028b4e70b0b84b43df3046a9",
            "859cd420e112487b9bc35ddc1240553a",
            "2a524e45608c465ba7f2d4884b2e2b9c",
            "8f9fe2d80e524217bdea5fd5ea25f212",
            "bfe5281ab8f744e78cd2e1dc9e2ffe4a",
            "d94eb88e1407406581924e0d09a53b2f",
            "2f8f8b6a9caa48e5b90cba9bbdccfb3f",
            "fee7783f04a2457e8de48d823bb0dc56",
            "c133e40f1b494de6b5ff1523333d8f0d"
          ],
          "height": 0
        },
        "outputId": "d3d2189e-08e3-48f9-ca62-ef6d217b8e01"
      },
      "outputs": [
        {
          "output_type": "display_data",
          "data": {
            "text/plain": [
              "Downloading (…)lve/main/config.json:   0%|          | 0.00/665 [00:00<?, ?B/s]"
            ],
            "application/vnd.jupyter.widget-view+json": {
              "version_major": 2,
              "version_minor": 0,
              "model_id": "9a5e11ffad3f44639276e791b02b2d45"
            }
          },
          "metadata": {}
        },
        {
          "output_type": "display_data",
          "data": {
            "text/plain": [
              "Downloading model.safetensors:   0%|          | 0.00/548M [00:00<?, ?B/s]"
            ],
            "application/vnd.jupyter.widget-view+json": {
              "version_major": 2,
              "version_minor": 0,
              "model_id": "238536b2787b43f9bfd784fb485f94c2"
            }
          },
          "metadata": {}
        },
        {
          "output_type": "display_data",
          "data": {
            "text/plain": [
              "Downloading (…)neration_config.json:   0%|          | 0.00/124 [00:00<?, ?B/s]"
            ],
            "application/vnd.jupyter.widget-view+json": {
              "version_major": 2,
              "version_minor": 0,
              "model_id": "87250f5e54804570a0ad4d52e49381dc"
            }
          },
          "metadata": {}
        },
        {
          "output_type": "display_data",
          "data": {
            "text/plain": [
              "Downloading (…)olve/main/vocab.json:   0%|          | 0.00/1.04M [00:00<?, ?B/s]"
            ],
            "application/vnd.jupyter.widget-view+json": {
              "version_major": 2,
              "version_minor": 0,
              "model_id": "d8a39dfdae8b4c4bad7bddbaed0f3ae7"
            }
          },
          "metadata": {}
        },
        {
          "output_type": "display_data",
          "data": {
            "text/plain": [
              "Downloading (…)olve/main/merges.txt:   0%|          | 0.00/456k [00:00<?, ?B/s]"
            ],
            "application/vnd.jupyter.widget-view+json": {
              "version_major": 2,
              "version_minor": 0,
              "model_id": "7cbe5afafefa42ec9d3ba3a3de1c1f64"
            }
          },
          "metadata": {}
        },
        {
          "output_type": "display_data",
          "data": {
            "text/plain": [
              "Downloading (…)/main/tokenizer.json:   0%|          | 0.00/1.36M [00:00<?, ?B/s]"
            ],
            "application/vnd.jupyter.widget-view+json": {
              "version_major": 2,
              "version_minor": 0,
              "model_id": "3c11eda24a714e53a1c764ba57c00f7f"
            }
          },
          "metadata": {}
        },
        {
          "output_type": "stream",
          "name": "stderr",
          "text": [
            "Using pad_token, but it is not set yet.\n"
          ]
        },
        {
          "output_type": "stream",
          "name": "stdout",
          "text": [
            "Loaded pretrained model gpt2-small into HookedTransformer\n"
          ]
        }
      ],
      "source": [
        "model = HookedTransformer.from_pretrained(\n",
        "    \"gpt2-small\",\n",
        "    center_unembed=True,\n",
        "    center_writing_weights=True,\n",
        "    fold_ln=True,\n",
        "    refactor_factored_attn_matrices=True,\n",
        ")"
      ]
    },
    {
      "cell_type": "markdown",
      "source": [
        "# Import functions from repo"
      ],
      "metadata": {
        "id": "Z4iJEGh6b56v"
      }
    },
    {
      "cell_type": "code",
      "source": [
        "!git clone https://github.com/callummcdougall/ARENA_2.0.git"
      ],
      "metadata": {
        "colab": {
          "base_uri": "https://localhost:8080/"
        },
        "id": "Fdh5--MfYw7-",
        "outputId": "9a90155d-d1bd-4a51-9472-d629b000acfc"
      },
      "execution_count": 19,
      "outputs": [
        {
          "output_type": "stream",
          "name": "stdout",
          "text": [
            "Cloning into 'ARENA_2.0'...\n",
            "remote: Enumerating objects: 9006, done.\u001b[K\n",
            "remote: Counting objects: 100% (9006/9006), done.\u001b[K\n",
            "remote: Compressing objects: 100% (3496/3496), done.\u001b[K\n",
            "remote: Total 9006 (delta 5468), reused 8861 (delta 5413), pack-reused 0\u001b[K\n",
            "Receiving objects: 100% (9006/9006), 155.22 MiB | 15.37 MiB/s, done.\n",
            "Resolving deltas: 100% (5468/5468), done.\n"
          ]
        }
      ]
    },
    {
      "cell_type": "code",
      "source": [
        "cd ARENA_2.0/chapter1_transformers/exercises/part3_indirect_object_identification"
      ],
      "metadata": {
        "colab": {
          "base_uri": "https://localhost:8080/"
        },
        "id": "iZ4C_bsXZFfj",
        "outputId": "67dbf214-f6c4-4b3c-b7cb-74038eade062"
      },
      "execution_count": 20,
      "outputs": [
        {
          "output_type": "stream",
          "name": "stdout",
          "text": [
            "/content/ARENA_2.0/chapter1_transformers/exercises/part3_indirect_object_identification\n"
          ]
        }
      ]
    },
    {
      "cell_type": "code",
      "source": [
        "import ioi_circuit_extraction as ioi_circuit_extraction"
      ],
      "metadata": {
        "id": "OT0Sn571ZnkV"
      },
      "execution_count": 21,
      "outputs": []
    },
    {
      "cell_type": "markdown",
      "source": [
        "# Generate dataset with multiple prompts"
      ],
      "metadata": {
        "id": "cGX9iHAz_UKX"
      }
    },
    {
      "cell_type": "code",
      "source": [
        "class Dataset:\n",
        "    def __init__(self, prompts, tokenizer, S1_is_first=False):\n",
        "        self.prompts = prompts\n",
        "        self.tokenizer = tokenizer\n",
        "        self.N = len(prompts)\n",
        "        self.max_len = max(\n",
        "            [\n",
        "                len(self.tokenizer(prompt[\"text\"]).input_ids)\n",
        "                for prompt in self.prompts\n",
        "            ]\n",
        "        )\n",
        "        # all_ids = [prompt[\"TEMPLATE_IDX\"] for prompt in self.ioi_prompts]\n",
        "        all_ids = [0 for prompt in self.prompts] # only 1 template\n",
        "        all_ids_ar = np.array(all_ids)\n",
        "        self.groups = []\n",
        "        for id in list(set(all_ids)):\n",
        "            self.groups.append(np.where(all_ids_ar == id)[0])\n",
        "\n",
        "        texts = [ prompt[\"text\"] for prompt in self.prompts ]\n",
        "        self.toks = torch.Tensor(self.tokenizer(texts, padding=True).input_ids).type(\n",
        "            torch.int\n",
        "        )\n",
        "        self.io_tokenIDs = [\n",
        "            self.tokenizer.encode(\" \" + prompt[\"S5\"])[0] for prompt in self.prompts\n",
        "        ]\n",
        "        self.s_tokenIDs = [\n",
        "            self.tokenizer.encode(\" \" + prompt[\"S4\"])[0] for prompt in self.prompts\n",
        "        ]\n",
        "\n",
        "        # word_idx: for every prompt, find the token index of each target token and \"end\"\n",
        "        # word_idx is a tensor with an element for each prompt. The element is the targ token's ind at that prompt\n",
        "        self.word_idx = {}\n",
        "        for targ in [key for key in self.prompts[0].keys() if (key != 'text' and key != 'S5')]:\n",
        "            targ_lst = []\n",
        "            for prompt in self.prompts:\n",
        "                input_text = prompt[\"text\"]\n",
        "                tokens = model.tokenizer.tokenize(input_text)\n",
        "                if S1_is_first and targ == \"S1\":  # only use this if first token doesn't have space Ġ in front\n",
        "                    target_token = prompt[targ]\n",
        "                else:\n",
        "                    target_token = \"Ġ\" + prompt[targ]\n",
        "                target_index = tokens.index(target_token)\n",
        "                targ_lst.append(target_index)\n",
        "            self.word_idx[targ] = torch.tensor(targ_lst)\n",
        "\n",
        "        targ_lst = []\n",
        "        for prompt in self.prompts:\n",
        "            input_text = prompt[\"text\"]\n",
        "            tokens = self.tokenizer.tokenize(input_text)\n",
        "            end_token_index = len(tokens) - 1\n",
        "            targ_lst.append(end_token_index)\n",
        "        self.word_idx[\"end\"] = torch.tensor(targ_lst)\n",
        "\n",
        "    def __len__(self):\n",
        "        return self.N"
      ],
      "metadata": {
        "id": "4wXBNWj5FwVn"
      },
      "execution_count": 23,
      "outputs": []
    },
    {
      "cell_type": "markdown",
      "source": [
        "Repalce io_tokens with correct answer (next, which is '5') and s_tokens with incorrect (current, which repeats)"
      ],
      "metadata": {
        "id": "exuTCQ_XmmFP"
      }
    },
    {
      "cell_type": "code",
      "source": [
        "def generate_prompts_list(x ,y):\n",
        "    prompts_list = []\n",
        "    for i in range(x, y):\n",
        "        prompt_dict = {\n",
        "            'S1': str(i),\n",
        "            'S2': str(i+1),\n",
        "            'S3': str(i+2),\n",
        "            'S4': str(i+3),\n",
        "            'S5': str(i+4),\n",
        "            'text': f\"{i} {i+1} {i+2} {i+3}\"\n",
        "        }\n",
        "        prompts_list.append(prompt_dict)\n",
        "    return prompts_list\n",
        "\n",
        "prompts_list = generate_prompts_list(1, 11)\n",
        "dataset = Dataset(prompts_list, model.tokenizer, S1_is_first=True)"
      ],
      "metadata": {
        "id": "u0NPSKcZ1iDe"
      },
      "execution_count": 24,
      "outputs": []
    },
    {
      "cell_type": "code",
      "source": [
        "def generate_prompts_list_corr(x ,y):\n",
        "    prompts_list = []\n",
        "    for i in range(x, y):\n",
        "        prompt_dict = {\n",
        "            'S1': str(i),\n",
        "            'S2': str(i+1),\n",
        "            'S3': str(i+2),\n",
        "            'S4': str(i+2),\n",
        "            'S5': str(i+3),\n",
        "            'text': f\"{i} {i+1} {i+2} {i+2}\"\n",
        "        }\n",
        "        prompts_list.append(prompt_dict)\n",
        "    return prompts_list\n",
        "\n",
        "prompts_list_2 = generate_prompts_list_corr(1, 11)\n",
        "dataset_2 = Dataset(prompts_list_2, model.tokenizer, S1_is_first=True)"
      ],
      "metadata": {
        "id": "dzzLlCqZS_wl"
      },
      "execution_count": 25,
      "outputs": []
    },
    {
      "cell_type": "markdown",
      "source": [
        "Logit diff is correct - incorr token. Here, correct is S5, and incorr is S4.\n",
        "\n",
        "Because of this, it's possible to have logit diffs HIGHER than the \"full circuit\" because the correct token will still be at first place, but the logit scores assigned will just be bigger (perhaps incorrect is scored even lower in the non-full circuit with a higher logit diff score)?"
      ],
      "metadata": {
        "id": "A0W-GaM6Vfm-"
      }
    },
    {
      "cell_type": "markdown",
      "source": [
        "# Ablate the model and compare with original"
      ],
      "metadata": {
        "id": "Lk3bffnCYq-p"
      }
    },
    {
      "cell_type": "markdown",
      "source": [
        "## Ablation Expm Functions"
      ],
      "metadata": {
        "id": "GCCCoO0V7L7J"
      }
    },
    {
      "cell_type": "code",
      "source": [
        "from torch import Tensor\n",
        "\n",
        "def logits_to_ave_logit_diff_2(logits: Float[Tensor, \"batch seq d_vocab\"], dataset: Dataset, per_prompt=False):\n",
        "    '''\n",
        "    Returns logit difference between the correct and incorrect answer.\n",
        "\n",
        "    If per_prompt=True, return the array of differences rather than the average.\n",
        "    '''\n",
        "\n",
        "    # Only the final logits are relevant for the answer\n",
        "    # Get the logits corresponding to the indirect object / subject tokens respectively\n",
        "    io_logits: Float[Tensor, \"batch\"] = logits[range(logits.size(0)), dataset.word_idx[\"end\"], dataset.io_tokenIDs]\n",
        "    s_logits: Float[Tensor, \"batch\"] = logits[range(logits.size(0)), dataset.word_idx[\"end\"], dataset.s_tokenIDs]\n",
        "    # Find logit difference\n",
        "    answer_logit_diff = io_logits - s_logits\n",
        "    return answer_logit_diff if per_prompt else answer_logit_diff.mean()"
      ],
      "metadata": {
        "id": "CgD41x5nbKKP"
      },
      "execution_count": 26,
      "outputs": []
    },
    {
      "cell_type": "code",
      "source": [
        "def mean_ablate_by_lst(lst, model, print_output=True):\n",
        "    CIRCUIT = {\n",
        "        \"number mover\": lst,\n",
        "        \"number mover 4\": lst,\n",
        "        \"number mover 3\": lst,\n",
        "        \"number mover 2\": lst,\n",
        "        \"number mover 1\": lst,\n",
        "    }\n",
        "\n",
        "    SEQ_POS_TO_KEEP = {\n",
        "        \"number mover\": \"end\",\n",
        "        \"number mover 4\": \"S4\",\n",
        "        \"number mover 3\": \"S3\",\n",
        "        \"number mover 2\": \"S2\",\n",
        "        \"number mover 1\": \"S1\",\n",
        "    }\n",
        "\n",
        "    model.reset_hooks(including_permanent=True)  #must do this after running with mean ablation hook\n",
        "\n",
        "    ioi_logits_original, ioi_cache = model.run_with_cache(dataset.toks)\n",
        "\n",
        "    model = ioi_circuit_extraction.add_mean_ablation_hook(model, means_dataset=dataset_2, circuit=CIRCUIT, seq_pos_to_keep=SEQ_POS_TO_KEEP)\n",
        "    ioi_logits_minimal = model(dataset.toks)\n",
        "\n",
        "    orig_score = logits_to_ave_logit_diff_2(ioi_logits_original, dataset)\n",
        "    new_score = logits_to_ave_logit_diff_2(ioi_logits_minimal, dataset)\n",
        "    if print_output:\n",
        "        print(f\"Average logit difference (IOI dataset, using entire model): {orig_score:.4f}\")\n",
        "        print(f\"Average logit difference (IOI dataset, only using circuit): {new_score:.4f}\")\n",
        "    return new_score"
      ],
      "metadata": {
        "id": "LqsdFmbVMntG"
      },
      "execution_count": 27,
      "outputs": []
    },
    {
      "cell_type": "markdown",
      "source": [
        "## Ablate by combos in L0; test via Brute Force"
      ],
      "metadata": {
        "id": "8293qqJoGlA_"
      }
    },
    {
      "cell_type": "markdown",
      "source": [
        "Which combo of heads has the biggest contribution? Remember, looking at one head's combo in isolation isn't enough, as that head may have a huge contribution when paired when another head, and this \"emergent\" effect can't be guessed just by looking at adding them separately from one another."
      ],
      "metadata": {
        "id": "CFgaT2DPIJRz"
      }
    },
    {
      "cell_type": "markdown",
      "source": [
        "We want to automate this search process by having the script check the score against a threshold. If we try brute force of 12 heads in L0 for all possible subset sizes, this is around 4000, which is feasible to compute (but does not scale up, esp when we want to find paths in later layers which depend on combinations ACROSS layers, not just in 1 layer). We can first try brute force and rank the top 10 combos."
      ],
      "metadata": {
        "id": "NqbzB20IIeUp"
      }
    },
    {
      "cell_type": "code",
      "source": [
        "from itertools import combinations\n",
        "\n",
        "heads = range(12)\n",
        "all_combinations = []\n",
        "\n",
        "for r in range(1, len(heads) + 1):\n",
        "    for combo in combinations(heads, r):\n",
        "        all_combinations.append([(0, head) for head in combo])\n",
        "\n",
        "print(all_combinations)"
      ],
      "metadata": {
        "colab": {
          "base_uri": "https://localhost:8080/"
        },
        "id": "xRMdgX7oOa2Q",
        "outputId": "5b5b1e98-2299-44b5-a4be-04b4cff1168a"
      },
      "execution_count": 28,
      "outputs": [
        {
          "output_type": "stream",
          "name": "stdout",
          "text": [
            "[[(0, 0)], [(0, 1)], [(0, 2)], [(0, 3)], [(0, 4)], [(0, 5)], [(0, 6)], [(0, 7)], [(0, 8)], [(0, 9)], [(0, 10)], [(0, 11)], [(0, 0), (0, 1)], [(0, 0), (0, 2)], [(0, 0), (0, 3)], [(0, 0), (0, 4)], [(0, 0), (0, 5)], [(0, 0), (0, 6)], [(0, 0), (0, 7)], [(0, 0), (0, 8)], [(0, 0), (0, 9)], [(0, 0), (0, 10)], [(0, 0), (0, 11)], [(0, 1), (0, 2)], [(0, 1), (0, 3)], [(0, 1), (0, 4)], [(0, 1), (0, 5)], [(0, 1), (0, 6)], [(0, 1), (0, 7)], [(0, 1), (0, 8)], [(0, 1), (0, 9)], [(0, 1), (0, 10)], [(0, 1), (0, 11)], [(0, 2), (0, 3)], [(0, 2), (0, 4)], [(0, 2), (0, 5)], [(0, 2), (0, 6)], [(0, 2), (0, 7)], [(0, 2), (0, 8)], [(0, 2), (0, 9)], [(0, 2), (0, 10)], [(0, 2), (0, 11)], [(0, 3), (0, 4)], [(0, 3), (0, 5)], [(0, 3), (0, 6)], [(0, 3), (0, 7)], [(0, 3), (0, 8)], [(0, 3), (0, 9)], [(0, 3), (0, 10)], [(0, 3), (0, 11)], [(0, 4), (0, 5)], [(0, 4), (0, 6)], [(0, 4), (0, 7)], [(0, 4), (0, 8)], [(0, 4), (0, 9)], [(0, 4), (0, 10)], [(0, 4), (0, 11)], [(0, 5), (0, 6)], [(0, 5), (0, 7)], [(0, 5), (0, 8)], [(0, 5), (0, 9)], [(0, 5), (0, 10)], [(0, 5), (0, 11)], [(0, 6), (0, 7)], [(0, 6), (0, 8)], [(0, 6), (0, 9)], [(0, 6), (0, 10)], [(0, 6), (0, 11)], [(0, 7), (0, 8)], [(0, 7), (0, 9)], [(0, 7), (0, 10)], [(0, 7), (0, 11)], [(0, 8), (0, 9)], [(0, 8), (0, 10)], [(0, 8), (0, 11)], [(0, 9), (0, 10)], [(0, 9), (0, 11)], [(0, 10), (0, 11)], [(0, 0), (0, 1), (0, 2)], [(0, 0), (0, 1), (0, 3)], [(0, 0), (0, 1), (0, 4)], [(0, 0), (0, 1), (0, 5)], [(0, 0), (0, 1), (0, 6)], [(0, 0), (0, 1), (0, 7)], [(0, 0), (0, 1), (0, 8)], [(0, 0), (0, 1), (0, 9)], [(0, 0), (0, 1), (0, 10)], [(0, 0), (0, 1), (0, 11)], [(0, 0), (0, 2), (0, 3)], [(0, 0), (0, 2), (0, 4)], [(0, 0), (0, 2), (0, 5)], [(0, 0), (0, 2), (0, 6)], [(0, 0), (0, 2), (0, 7)], [(0, 0), (0, 2), (0, 8)], [(0, 0), (0, 2), (0, 9)], [(0, 0), (0, 2), (0, 10)], [(0, 0), (0, 2), (0, 11)], [(0, 0), (0, 3), (0, 4)], [(0, 0), (0, 3), (0, 5)], [(0, 0), (0, 3), (0, 6)], [(0, 0), (0, 3), (0, 7)], [(0, 0), (0, 3), (0, 8)], [(0, 0), (0, 3), (0, 9)], [(0, 0), (0, 3), (0, 10)], [(0, 0), (0, 3), (0, 11)], [(0, 0), (0, 4), (0, 5)], [(0, 0), (0, 4), (0, 6)], [(0, 0), (0, 4), (0, 7)], [(0, 0), (0, 4), (0, 8)], [(0, 0), (0, 4), (0, 9)], [(0, 0), (0, 4), (0, 10)], [(0, 0), (0, 4), (0, 11)], [(0, 0), (0, 5), (0, 6)], [(0, 0), (0, 5), (0, 7)], [(0, 0), (0, 5), (0, 8)], [(0, 0), (0, 5), (0, 9)], [(0, 0), (0, 5), (0, 10)], [(0, 0), (0, 5), (0, 11)], [(0, 0), (0, 6), (0, 7)], [(0, 0), (0, 6), (0, 8)], [(0, 0), (0, 6), (0, 9)], [(0, 0), (0, 6), (0, 10)], [(0, 0), (0, 6), (0, 11)], [(0, 0), (0, 7), (0, 8)], [(0, 0), (0, 7), (0, 9)], [(0, 0), (0, 7), (0, 10)], [(0, 0), (0, 7), (0, 11)], [(0, 0), (0, 8), (0, 9)], [(0, 0), (0, 8), (0, 10)], [(0, 0), (0, 8), (0, 11)], [(0, 0), (0, 9), (0, 10)], [(0, 0), (0, 9), (0, 11)], [(0, 0), (0, 10), (0, 11)], [(0, 1), (0, 2), (0, 3)], [(0, 1), (0, 2), (0, 4)], [(0, 1), (0, 2), (0, 5)], [(0, 1), (0, 2), (0, 6)], [(0, 1), (0, 2), (0, 7)], [(0, 1), (0, 2), (0, 8)], [(0, 1), (0, 2), (0, 9)], [(0, 1), (0, 2), (0, 10)], [(0, 1), (0, 2), (0, 11)], [(0, 1), (0, 3), (0, 4)], [(0, 1), (0, 3), (0, 5)], [(0, 1), (0, 3), (0, 6)], [(0, 1), (0, 3), (0, 7)], [(0, 1), (0, 3), (0, 8)], [(0, 1), (0, 3), (0, 9)], [(0, 1), (0, 3), (0, 10)], [(0, 1), (0, 3), (0, 11)], [(0, 1), (0, 4), (0, 5)], [(0, 1), (0, 4), (0, 6)], [(0, 1), (0, 4), (0, 7)], [(0, 1), (0, 4), (0, 8)], [(0, 1), (0, 4), (0, 9)], [(0, 1), (0, 4), (0, 10)], [(0, 1), (0, 4), (0, 11)], [(0, 1), (0, 5), (0, 6)], [(0, 1), (0, 5), (0, 7)], [(0, 1), (0, 5), (0, 8)], [(0, 1), (0, 5), (0, 9)], [(0, 1), (0, 5), (0, 10)], [(0, 1), (0, 5), (0, 11)], [(0, 1), (0, 6), (0, 7)], [(0, 1), (0, 6), (0, 8)], [(0, 1), (0, 6), (0, 9)], [(0, 1), (0, 6), (0, 10)], [(0, 1), (0, 6), (0, 11)], [(0, 1), (0, 7), (0, 8)], [(0, 1), (0, 7), (0, 9)], [(0, 1), (0, 7), (0, 10)], [(0, 1), (0, 7), (0, 11)], [(0, 1), (0, 8), (0, 9)], [(0, 1), (0, 8), (0, 10)], [(0, 1), (0, 8), (0, 11)], [(0, 1), (0, 9), (0, 10)], [(0, 1), (0, 9), (0, 11)], [(0, 1), (0, 10), (0, 11)], [(0, 2), (0, 3), (0, 4)], [(0, 2), (0, 3), (0, 5)], [(0, 2), (0, 3), (0, 6)], [(0, 2), (0, 3), (0, 7)], [(0, 2), (0, 3), (0, 8)], [(0, 2), (0, 3), (0, 9)], [(0, 2), (0, 3), (0, 10)], [(0, 2), (0, 3), (0, 11)], [(0, 2), (0, 4), (0, 5)], [(0, 2), (0, 4), (0, 6)], [(0, 2), (0, 4), (0, 7)], [(0, 2), (0, 4), (0, 8)], [(0, 2), (0, 4), (0, 9)], [(0, 2), (0, 4), (0, 10)], [(0, 2), (0, 4), (0, 11)], [(0, 2), (0, 5), (0, 6)], [(0, 2), (0, 5), (0, 7)], [(0, 2), (0, 5), (0, 8)], [(0, 2), (0, 5), (0, 9)], [(0, 2), (0, 5), (0, 10)], [(0, 2), (0, 5), (0, 11)], [(0, 2), (0, 6), (0, 7)], [(0, 2), (0, 6), (0, 8)], [(0, 2), (0, 6), (0, 9)], [(0, 2), (0, 6), (0, 10)], [(0, 2), (0, 6), (0, 11)], [(0, 2), (0, 7), (0, 8)], [(0, 2), (0, 7), (0, 9)], [(0, 2), (0, 7), (0, 10)], [(0, 2), (0, 7), (0, 11)], [(0, 2), (0, 8), (0, 9)], [(0, 2), (0, 8), (0, 10)], [(0, 2), (0, 8), (0, 11)], [(0, 2), (0, 9), (0, 10)], [(0, 2), (0, 9), (0, 11)], [(0, 2), (0, 10), (0, 11)], [(0, 3), (0, 4), (0, 5)], [(0, 3), (0, 4), (0, 6)], [(0, 3), (0, 4), (0, 7)], [(0, 3), (0, 4), (0, 8)], [(0, 3), (0, 4), (0, 9)], [(0, 3), (0, 4), (0, 10)], [(0, 3), (0, 4), (0, 11)], [(0, 3), (0, 5), (0, 6)], [(0, 3), (0, 5), (0, 7)], [(0, 3), (0, 5), (0, 8)], [(0, 3), (0, 5), (0, 9)], [(0, 3), (0, 5), (0, 10)], [(0, 3), (0, 5), (0, 11)], [(0, 3), (0, 6), (0, 7)], [(0, 3), (0, 6), (0, 8)], [(0, 3), (0, 6), (0, 9)], [(0, 3), (0, 6), (0, 10)], [(0, 3), (0, 6), (0, 11)], [(0, 3), (0, 7), (0, 8)], [(0, 3), (0, 7), (0, 9)], [(0, 3), (0, 7), (0, 10)], [(0, 3), (0, 7), (0, 11)], [(0, 3), (0, 8), (0, 9)], [(0, 3), (0, 8), (0, 10)], [(0, 3), (0, 8), (0, 11)], [(0, 3), (0, 9), (0, 10)], [(0, 3), (0, 9), (0, 11)], [(0, 3), (0, 10), (0, 11)], [(0, 4), (0, 5), (0, 6)], [(0, 4), (0, 5), (0, 7)], [(0, 4), (0, 5), (0, 8)], [(0, 4), (0, 5), (0, 9)], [(0, 4), (0, 5), (0, 10)], [(0, 4), (0, 5), (0, 11)], [(0, 4), (0, 6), (0, 7)], [(0, 4), (0, 6), (0, 8)], [(0, 4), (0, 6), (0, 9)], [(0, 4), (0, 6), (0, 10)], [(0, 4), (0, 6), (0, 11)], [(0, 4), (0, 7), (0, 8)], [(0, 4), (0, 7), (0, 9)], [(0, 4), (0, 7), (0, 10)], [(0, 4), (0, 7), (0, 11)], [(0, 4), (0, 8), (0, 9)], [(0, 4), (0, 8), (0, 10)], [(0, 4), (0, 8), (0, 11)], [(0, 4), (0, 9), (0, 10)], [(0, 4), (0, 9), (0, 11)], [(0, 4), (0, 10), (0, 11)], [(0, 5), (0, 6), (0, 7)], [(0, 5), (0, 6), (0, 8)], [(0, 5), (0, 6), (0, 9)], [(0, 5), (0, 6), (0, 10)], [(0, 5), (0, 6), (0, 11)], [(0, 5), (0, 7), (0, 8)], [(0, 5), (0, 7), (0, 9)], [(0, 5), (0, 7), (0, 10)], [(0, 5), (0, 7), (0, 11)], [(0, 5), (0, 8), (0, 9)], [(0, 5), (0, 8), (0, 10)], [(0, 5), (0, 8), (0, 11)], [(0, 5), (0, 9), (0, 10)], [(0, 5), (0, 9), (0, 11)], [(0, 5), (0, 10), (0, 11)], [(0, 6), (0, 7), (0, 8)], [(0, 6), (0, 7), (0, 9)], [(0, 6), (0, 7), (0, 10)], [(0, 6), (0, 7), (0, 11)], [(0, 6), (0, 8), (0, 9)], [(0, 6), (0, 8), (0, 10)], [(0, 6), (0, 8), (0, 11)], [(0, 6), (0, 9), (0, 10)], [(0, 6), (0, 9), (0, 11)], [(0, 6), (0, 10), (0, 11)], [(0, 7), (0, 8), (0, 9)], [(0, 7), (0, 8), (0, 10)], [(0, 7), (0, 8), (0, 11)], [(0, 7), (0, 9), (0, 10)], [(0, 7), (0, 9), (0, 11)], [(0, 7), (0, 10), (0, 11)], [(0, 8), (0, 9), (0, 10)], [(0, 8), (0, 9), (0, 11)], [(0, 8), (0, 10), (0, 11)], [(0, 9), (0, 10), (0, 11)], [(0, 0), (0, 1), (0, 2), (0, 3)], [(0, 0), (0, 1), (0, 2), (0, 4)], [(0, 0), (0, 1), (0, 2), (0, 5)], [(0, 0), (0, 1), (0, 2), (0, 6)], [(0, 0), (0, 1), (0, 2), (0, 7)], [(0, 0), (0, 1), (0, 2), (0, 8)], [(0, 0), (0, 1), (0, 2), (0, 9)], [(0, 0), (0, 1), (0, 2), (0, 10)], [(0, 0), (0, 1), (0, 2), (0, 11)], [(0, 0), (0, 1), (0, 3), (0, 4)], [(0, 0), (0, 1), (0, 3), (0, 5)], [(0, 0), (0, 1), (0, 3), (0, 6)], [(0, 0), (0, 1), (0, 3), (0, 7)], [(0, 0), (0, 1), (0, 3), (0, 8)], [(0, 0), (0, 1), (0, 3), (0, 9)], [(0, 0), (0, 1), (0, 3), (0, 10)], [(0, 0), (0, 1), (0, 3), (0, 11)], [(0, 0), (0, 1), (0, 4), (0, 5)], [(0, 0), (0, 1), (0, 4), (0, 6)], [(0, 0), (0, 1), (0, 4), (0, 7)], [(0, 0), (0, 1), (0, 4), (0, 8)], [(0, 0), (0, 1), (0, 4), (0, 9)], [(0, 0), (0, 1), (0, 4), (0, 10)], [(0, 0), (0, 1), (0, 4), (0, 11)], [(0, 0), (0, 1), (0, 5), (0, 6)], [(0, 0), (0, 1), (0, 5), (0, 7)], [(0, 0), (0, 1), (0, 5), (0, 8)], [(0, 0), (0, 1), (0, 5), (0, 9)], [(0, 0), (0, 1), (0, 5), (0, 10)], [(0, 0), (0, 1), (0, 5), (0, 11)], [(0, 0), (0, 1), (0, 6), (0, 7)], [(0, 0), (0, 1), (0, 6), (0, 8)], [(0, 0), (0, 1), (0, 6), (0, 9)], [(0, 0), (0, 1), (0, 6), (0, 10)], [(0, 0), (0, 1), (0, 6), (0, 11)], [(0, 0), (0, 1), (0, 7), (0, 8)], [(0, 0), (0, 1), (0, 7), (0, 9)], [(0, 0), (0, 1), (0, 7), (0, 10)], [(0, 0), (0, 1), (0, 7), (0, 11)], [(0, 0), (0, 1), (0, 8), (0, 9)], [(0, 0), (0, 1), (0, 8), (0, 10)], [(0, 0), (0, 1), (0, 8), (0, 11)], [(0, 0), (0, 1), (0, 9), (0, 10)], [(0, 0), (0, 1), (0, 9), (0, 11)], [(0, 0), (0, 1), (0, 10), (0, 11)], [(0, 0), (0, 2), (0, 3), (0, 4)], [(0, 0), (0, 2), (0, 3), (0, 5)], [(0, 0), (0, 2), (0, 3), (0, 6)], [(0, 0), (0, 2), (0, 3), (0, 7)], [(0, 0), (0, 2), (0, 3), (0, 8)], [(0, 0), (0, 2), (0, 3), (0, 9)], [(0, 0), (0, 2), (0, 3), (0, 10)], [(0, 0), (0, 2), (0, 3), (0, 11)], [(0, 0), (0, 2), (0, 4), (0, 5)], [(0, 0), (0, 2), (0, 4), (0, 6)], [(0, 0), (0, 2), (0, 4), (0, 7)], [(0, 0), (0, 2), (0, 4), (0, 8)], [(0, 0), (0, 2), (0, 4), (0, 9)], [(0, 0), (0, 2), (0, 4), (0, 10)], [(0, 0), (0, 2), (0, 4), (0, 11)], [(0, 0), (0, 2), (0, 5), (0, 6)], [(0, 0), (0, 2), (0, 5), (0, 7)], [(0, 0), (0, 2), (0, 5), (0, 8)], [(0, 0), (0, 2), (0, 5), (0, 9)], [(0, 0), (0, 2), (0, 5), (0, 10)], [(0, 0), (0, 2), (0, 5), (0, 11)], [(0, 0), (0, 2), (0, 6), (0, 7)], [(0, 0), (0, 2), (0, 6), (0, 8)], [(0, 0), (0, 2), (0, 6), (0, 9)], [(0, 0), (0, 2), (0, 6), (0, 10)], [(0, 0), (0, 2), (0, 6), (0, 11)], [(0, 0), (0, 2), (0, 7), (0, 8)], [(0, 0), (0, 2), (0, 7), (0, 9)], [(0, 0), (0, 2), (0, 7), (0, 10)], [(0, 0), (0, 2), (0, 7), (0, 11)], [(0, 0), (0, 2), (0, 8), (0, 9)], [(0, 0), (0, 2), (0, 8), (0, 10)], [(0, 0), (0, 2), (0, 8), (0, 11)], [(0, 0), (0, 2), (0, 9), (0, 10)], [(0, 0), (0, 2), (0, 9), (0, 11)], [(0, 0), (0, 2), (0, 10), (0, 11)], [(0, 0), (0, 3), (0, 4), (0, 5)], [(0, 0), (0, 3), (0, 4), (0, 6)], [(0, 0), (0, 3), (0, 4), (0, 7)], [(0, 0), (0, 3), (0, 4), (0, 8)], [(0, 0), (0, 3), (0, 4), (0, 9)], [(0, 0), (0, 3), (0, 4), (0, 10)], [(0, 0), (0, 3), (0, 4), (0, 11)], [(0, 0), (0, 3), (0, 5), (0, 6)], [(0, 0), (0, 3), (0, 5), (0, 7)], [(0, 0), (0, 3), (0, 5), (0, 8)], [(0, 0), (0, 3), (0, 5), (0, 9)], [(0, 0), (0, 3), (0, 5), (0, 10)], [(0, 0), (0, 3), (0, 5), (0, 11)], [(0, 0), (0, 3), (0, 6), (0, 7)], [(0, 0), (0, 3), (0, 6), (0, 8)], [(0, 0), (0, 3), (0, 6), (0, 9)], [(0, 0), (0, 3), (0, 6), (0, 10)], [(0, 0), (0, 3), (0, 6), (0, 11)], [(0, 0), (0, 3), (0, 7), (0, 8)], [(0, 0), (0, 3), (0, 7), (0, 9)], [(0, 0), (0, 3), (0, 7), (0, 10)], [(0, 0), (0, 3), (0, 7), (0, 11)], [(0, 0), (0, 3), (0, 8), (0, 9)], [(0, 0), (0, 3), (0, 8), (0, 10)], [(0, 0), (0, 3), (0, 8), (0, 11)], [(0, 0), (0, 3), (0, 9), (0, 10)], [(0, 0), (0, 3), (0, 9), (0, 11)], [(0, 0), (0, 3), (0, 10), (0, 11)], [(0, 0), (0, 4), (0, 5), (0, 6)], [(0, 0), (0, 4), (0, 5), (0, 7)], [(0, 0), (0, 4), (0, 5), (0, 8)], [(0, 0), (0, 4), (0, 5), (0, 9)], [(0, 0), (0, 4), (0, 5), (0, 10)], [(0, 0), (0, 4), (0, 5), (0, 11)], [(0, 0), (0, 4), (0, 6), (0, 7)], [(0, 0), (0, 4), (0, 6), (0, 8)], [(0, 0), (0, 4), (0, 6), (0, 9)], [(0, 0), (0, 4), (0, 6), (0, 10)], [(0, 0), (0, 4), (0, 6), (0, 11)], [(0, 0), (0, 4), (0, 7), (0, 8)], [(0, 0), (0, 4), (0, 7), (0, 9)], [(0, 0), (0, 4), (0, 7), (0, 10)], [(0, 0), (0, 4), (0, 7), (0, 11)], [(0, 0), (0, 4), (0, 8), (0, 9)], [(0, 0), (0, 4), (0, 8), (0, 10)], [(0, 0), (0, 4), (0, 8), (0, 11)], [(0, 0), (0, 4), (0, 9), (0, 10)], [(0, 0), (0, 4), (0, 9), (0, 11)], [(0, 0), (0, 4), (0, 10), (0, 11)], [(0, 0), (0, 5), (0, 6), (0, 7)], [(0, 0), (0, 5), (0, 6), (0, 8)], [(0, 0), (0, 5), (0, 6), (0, 9)], [(0, 0), (0, 5), (0, 6), (0, 10)], [(0, 0), (0, 5), (0, 6), (0, 11)], [(0, 0), (0, 5), (0, 7), (0, 8)], [(0, 0), (0, 5), (0, 7), (0, 9)], [(0, 0), (0, 5), (0, 7), (0, 10)], [(0, 0), (0, 5), (0, 7), (0, 11)], [(0, 0), (0, 5), (0, 8), (0, 9)], [(0, 0), (0, 5), (0, 8), (0, 10)], [(0, 0), (0, 5), (0, 8), (0, 11)], [(0, 0), (0, 5), (0, 9), (0, 10)], [(0, 0), (0, 5), (0, 9), (0, 11)], [(0, 0), (0, 5), (0, 10), (0, 11)], [(0, 0), (0, 6), (0, 7), (0, 8)], [(0, 0), (0, 6), (0, 7), (0, 9)], [(0, 0), (0, 6), (0, 7), (0, 10)], [(0, 0), (0, 6), (0, 7), (0, 11)], [(0, 0), (0, 6), (0, 8), (0, 9)], [(0, 0), (0, 6), (0, 8), (0, 10)], [(0, 0), (0, 6), (0, 8), (0, 11)], [(0, 0), (0, 6), (0, 9), (0, 10)], [(0, 0), (0, 6), (0, 9), (0, 11)], [(0, 0), (0, 6), (0, 10), (0, 11)], [(0, 0), (0, 7), (0, 8), (0, 9)], [(0, 0), (0, 7), (0, 8), (0, 10)], [(0, 0), (0, 7), (0, 8), (0, 11)], [(0, 0), (0, 7), (0, 9), (0, 10)], [(0, 0), (0, 7), (0, 9), (0, 11)], [(0, 0), (0, 7), (0, 10), (0, 11)], [(0, 0), (0, 8), (0, 9), (0, 10)], [(0, 0), (0, 8), (0, 9), (0, 11)], [(0, 0), (0, 8), (0, 10), (0, 11)], [(0, 0), (0, 9), (0, 10), (0, 11)], [(0, 1), (0, 2), (0, 3), (0, 4)], [(0, 1), (0, 2), (0, 3), (0, 5)], [(0, 1), (0, 2), (0, 3), (0, 6)], [(0, 1), (0, 2), (0, 3), (0, 7)], [(0, 1), (0, 2), (0, 3), (0, 8)], [(0, 1), (0, 2), (0, 3), (0, 9)], [(0, 1), (0, 2), (0, 3), (0, 10)], [(0, 1), (0, 2), (0, 3), (0, 11)], [(0, 1), (0, 2), (0, 4), (0, 5)], [(0, 1), (0, 2), (0, 4), (0, 6)], [(0, 1), (0, 2), (0, 4), (0, 7)], [(0, 1), (0, 2), (0, 4), (0, 8)], [(0, 1), (0, 2), (0, 4), (0, 9)], [(0, 1), (0, 2), (0, 4), (0, 10)], [(0, 1), (0, 2), (0, 4), (0, 11)], [(0, 1), (0, 2), (0, 5), (0, 6)], [(0, 1), (0, 2), (0, 5), (0, 7)], [(0, 1), (0, 2), (0, 5), (0, 8)], [(0, 1), (0, 2), (0, 5), (0, 9)], [(0, 1), (0, 2), (0, 5), (0, 10)], [(0, 1), (0, 2), (0, 5), (0, 11)], [(0, 1), (0, 2), (0, 6), (0, 7)], [(0, 1), (0, 2), (0, 6), (0, 8)], [(0, 1), (0, 2), (0, 6), (0, 9)], [(0, 1), (0, 2), (0, 6), (0, 10)], [(0, 1), (0, 2), (0, 6), (0, 11)], [(0, 1), (0, 2), (0, 7), (0, 8)], [(0, 1), (0, 2), (0, 7), (0, 9)], [(0, 1), (0, 2), (0, 7), (0, 10)], [(0, 1), (0, 2), (0, 7), (0, 11)], [(0, 1), (0, 2), (0, 8), (0, 9)], [(0, 1), (0, 2), (0, 8), (0, 10)], [(0, 1), (0, 2), (0, 8), (0, 11)], [(0, 1), (0, 2), (0, 9), (0, 10)], [(0, 1), (0, 2), (0, 9), (0, 11)], [(0, 1), (0, 2), (0, 10), (0, 11)], [(0, 1), (0, 3), (0, 4), (0, 5)], [(0, 1), (0, 3), (0, 4), (0, 6)], [(0, 1), (0, 3), (0, 4), (0, 7)], [(0, 1), (0, 3), (0, 4), (0, 8)], [(0, 1), (0, 3), (0, 4), (0, 9)], [(0, 1), (0, 3), (0, 4), (0, 10)], [(0, 1), (0, 3), (0, 4), (0, 11)], [(0, 1), (0, 3), (0, 5), (0, 6)], [(0, 1), (0, 3), (0, 5), (0, 7)], [(0, 1), (0, 3), (0, 5), (0, 8)], [(0, 1), (0, 3), (0, 5), (0, 9)], [(0, 1), (0, 3), (0, 5), (0, 10)], [(0, 1), (0, 3), (0, 5), (0, 11)], [(0, 1), (0, 3), (0, 6), (0, 7)], [(0, 1), (0, 3), (0, 6), (0, 8)], [(0, 1), (0, 3), (0, 6), (0, 9)], [(0, 1), (0, 3), (0, 6), (0, 10)], [(0, 1), (0, 3), (0, 6), (0, 11)], [(0, 1), (0, 3), (0, 7), (0, 8)], [(0, 1), (0, 3), (0, 7), (0, 9)], [(0, 1), (0, 3), (0, 7), (0, 10)], [(0, 1), (0, 3), (0, 7), (0, 11)], [(0, 1), (0, 3), (0, 8), (0, 9)], [(0, 1), (0, 3), (0, 8), (0, 10)], [(0, 1), (0, 3), (0, 8), (0, 11)], [(0, 1), (0, 3), (0, 9), (0, 10)], [(0, 1), (0, 3), (0, 9), (0, 11)], [(0, 1), (0, 3), (0, 10), (0, 11)], [(0, 1), (0, 4), (0, 5), (0, 6)], [(0, 1), (0, 4), (0, 5), (0, 7)], [(0, 1), (0, 4), (0, 5), (0, 8)], [(0, 1), (0, 4), (0, 5), (0, 9)], [(0, 1), (0, 4), (0, 5), (0, 10)], [(0, 1), (0, 4), (0, 5), (0, 11)], [(0, 1), (0, 4), (0, 6), (0, 7)], [(0, 1), (0, 4), (0, 6), (0, 8)], [(0, 1), (0, 4), (0, 6), (0, 9)], [(0, 1), (0, 4), (0, 6), (0, 10)], [(0, 1), (0, 4), (0, 6), (0, 11)], [(0, 1), (0, 4), (0, 7), (0, 8)], [(0, 1), (0, 4), (0, 7), (0, 9)], [(0, 1), (0, 4), (0, 7), (0, 10)], [(0, 1), (0, 4), (0, 7), (0, 11)], [(0, 1), (0, 4), (0, 8), (0, 9)], [(0, 1), (0, 4), (0, 8), (0, 10)], [(0, 1), (0, 4), (0, 8), (0, 11)], [(0, 1), (0, 4), (0, 9), (0, 10)], [(0, 1), (0, 4), (0, 9), (0, 11)], [(0, 1), (0, 4), (0, 10), (0, 11)], [(0, 1), (0, 5), (0, 6), (0, 7)], [(0, 1), (0, 5), (0, 6), (0, 8)], [(0, 1), (0, 5), (0, 6), (0, 9)], [(0, 1), (0, 5), (0, 6), (0, 10)], [(0, 1), (0, 5), (0, 6), (0, 11)], [(0, 1), (0, 5), (0, 7), (0, 8)], [(0, 1), (0, 5), (0, 7), (0, 9)], [(0, 1), (0, 5), (0, 7), (0, 10)], [(0, 1), (0, 5), (0, 7), (0, 11)], [(0, 1), (0, 5), (0, 8), (0, 9)], [(0, 1), (0, 5), (0, 8), (0, 10)], [(0, 1), (0, 5), (0, 8), (0, 11)], [(0, 1), (0, 5), (0, 9), (0, 10)], [(0, 1), (0, 5), (0, 9), (0, 11)], [(0, 1), (0, 5), (0, 10), (0, 11)], [(0, 1), (0, 6), (0, 7), (0, 8)], [(0, 1), (0, 6), (0, 7), (0, 9)], [(0, 1), (0, 6), (0, 7), (0, 10)], [(0, 1), (0, 6), (0, 7), (0, 11)], [(0, 1), (0, 6), (0, 8), (0, 9)], [(0, 1), (0, 6), (0, 8), (0, 10)], [(0, 1), (0, 6), (0, 8), (0, 11)], [(0, 1), (0, 6), (0, 9), (0, 10)], [(0, 1), (0, 6), (0, 9), (0, 11)], [(0, 1), (0, 6), (0, 10), (0, 11)], [(0, 1), (0, 7), (0, 8), (0, 9)], [(0, 1), (0, 7), (0, 8), (0, 10)], [(0, 1), (0, 7), (0, 8), (0, 11)], [(0, 1), (0, 7), (0, 9), (0, 10)], [(0, 1), (0, 7), (0, 9), (0, 11)], [(0, 1), (0, 7), (0, 10), (0, 11)], [(0, 1), (0, 8), (0, 9), (0, 10)], [(0, 1), (0, 8), (0, 9), (0, 11)], [(0, 1), (0, 8), (0, 10), (0, 11)], [(0, 1), (0, 9), (0, 10), (0, 11)], [(0, 2), (0, 3), (0, 4), (0, 5)], [(0, 2), (0, 3), (0, 4), (0, 6)], [(0, 2), (0, 3), (0, 4), (0, 7)], [(0, 2), (0, 3), (0, 4), (0, 8)], [(0, 2), (0, 3), (0, 4), (0, 9)], [(0, 2), (0, 3), (0, 4), (0, 10)], [(0, 2), (0, 3), (0, 4), (0, 11)], [(0, 2), (0, 3), (0, 5), (0, 6)], [(0, 2), (0, 3), (0, 5), (0, 7)], [(0, 2), (0, 3), (0, 5), (0, 8)], [(0, 2), (0, 3), (0, 5), (0, 9)], [(0, 2), (0, 3), (0, 5), (0, 10)], [(0, 2), (0, 3), (0, 5), (0, 11)], [(0, 2), (0, 3), (0, 6), (0, 7)], [(0, 2), (0, 3), (0, 6), (0, 8)], [(0, 2), (0, 3), (0, 6), (0, 9)], [(0, 2), (0, 3), (0, 6), (0, 10)], [(0, 2), (0, 3), (0, 6), (0, 11)], [(0, 2), (0, 3), (0, 7), (0, 8)], [(0, 2), (0, 3), (0, 7), (0, 9)], [(0, 2), (0, 3), (0, 7), (0, 10)], [(0, 2), (0, 3), (0, 7), (0, 11)], [(0, 2), (0, 3), (0, 8), (0, 9)], [(0, 2), (0, 3), (0, 8), (0, 10)], [(0, 2), (0, 3), (0, 8), (0, 11)], [(0, 2), (0, 3), (0, 9), (0, 10)], [(0, 2), (0, 3), (0, 9), (0, 11)], [(0, 2), (0, 3), (0, 10), (0, 11)], [(0, 2), (0, 4), (0, 5), (0, 6)], [(0, 2), (0, 4), (0, 5), (0, 7)], [(0, 2), (0, 4), (0, 5), (0, 8)], [(0, 2), (0, 4), (0, 5), (0, 9)], [(0, 2), (0, 4), (0, 5), (0, 10)], [(0, 2), (0, 4), (0, 5), (0, 11)], [(0, 2), (0, 4), (0, 6), (0, 7)], [(0, 2), (0, 4), (0, 6), (0, 8)], [(0, 2), (0, 4), (0, 6), (0, 9)], [(0, 2), (0, 4), (0, 6), (0, 10)], [(0, 2), (0, 4), (0, 6), (0, 11)], [(0, 2), (0, 4), (0, 7), (0, 8)], [(0, 2), (0, 4), (0, 7), (0, 9)], [(0, 2), (0, 4), (0, 7), (0, 10)], [(0, 2), (0, 4), (0, 7), (0, 11)], [(0, 2), (0, 4), (0, 8), (0, 9)], [(0, 2), (0, 4), (0, 8), (0, 10)], [(0, 2), (0, 4), (0, 8), (0, 11)], [(0, 2), (0, 4), (0, 9), (0, 10)], [(0, 2), (0, 4), (0, 9), (0, 11)], [(0, 2), (0, 4), (0, 10), (0, 11)], [(0, 2), (0, 5), (0, 6), (0, 7)], [(0, 2), (0, 5), (0, 6), (0, 8)], [(0, 2), (0, 5), (0, 6), (0, 9)], [(0, 2), (0, 5), (0, 6), (0, 10)], [(0, 2), (0, 5), (0, 6), (0, 11)], [(0, 2), (0, 5), (0, 7), (0, 8)], [(0, 2), (0, 5), (0, 7), (0, 9)], [(0, 2), (0, 5), (0, 7), (0, 10)], [(0, 2), (0, 5), (0, 7), (0, 11)], [(0, 2), (0, 5), (0, 8), (0, 9)], [(0, 2), (0, 5), (0, 8), (0, 10)], [(0, 2), (0, 5), (0, 8), (0, 11)], [(0, 2), (0, 5), (0, 9), (0, 10)], [(0, 2), (0, 5), (0, 9), (0, 11)], [(0, 2), (0, 5), (0, 10), (0, 11)], [(0, 2), (0, 6), (0, 7), (0, 8)], [(0, 2), (0, 6), (0, 7), (0, 9)], [(0, 2), (0, 6), (0, 7), (0, 10)], [(0, 2), (0, 6), (0, 7), (0, 11)], [(0, 2), (0, 6), (0, 8), (0, 9)], [(0, 2), (0, 6), (0, 8), (0, 10)], [(0, 2), (0, 6), (0, 8), (0, 11)], [(0, 2), (0, 6), (0, 9), (0, 10)], [(0, 2), (0, 6), (0, 9), (0, 11)], [(0, 2), (0, 6), (0, 10), (0, 11)], [(0, 2), (0, 7), (0, 8), (0, 9)], [(0, 2), (0, 7), (0, 8), (0, 10)], [(0, 2), (0, 7), (0, 8), (0, 11)], [(0, 2), (0, 7), (0, 9), (0, 10)], [(0, 2), (0, 7), (0, 9), (0, 11)], [(0, 2), (0, 7), (0, 10), (0, 11)], [(0, 2), (0, 8), (0, 9), (0, 10)], [(0, 2), (0, 8), (0, 9), (0, 11)], [(0, 2), (0, 8), (0, 10), (0, 11)], [(0, 2), (0, 9), (0, 10), (0, 11)], [(0, 3), (0, 4), (0, 5), (0, 6)], [(0, 3), (0, 4), (0, 5), (0, 7)], [(0, 3), (0, 4), (0, 5), (0, 8)], [(0, 3), (0, 4), (0, 5), (0, 9)], [(0, 3), (0, 4), (0, 5), (0, 10)], [(0, 3), (0, 4), (0, 5), (0, 11)], [(0, 3), (0, 4), (0, 6), (0, 7)], [(0, 3), (0, 4), (0, 6), (0, 8)], [(0, 3), (0, 4), (0, 6), (0, 9)], [(0, 3), (0, 4), (0, 6), (0, 10)], [(0, 3), (0, 4), (0, 6), (0, 11)], [(0, 3), (0, 4), (0, 7), (0, 8)], [(0, 3), (0, 4), (0, 7), (0, 9)], [(0, 3), (0, 4), (0, 7), (0, 10)], [(0, 3), (0, 4), (0, 7), (0, 11)], [(0, 3), (0, 4), (0, 8), (0, 9)], [(0, 3), (0, 4), (0, 8), (0, 10)], [(0, 3), (0, 4), (0, 8), (0, 11)], [(0, 3), (0, 4), (0, 9), (0, 10)], [(0, 3), (0, 4), (0, 9), (0, 11)], [(0, 3), (0, 4), (0, 10), (0, 11)], [(0, 3), (0, 5), (0, 6), (0, 7)], [(0, 3), (0, 5), (0, 6), (0, 8)], [(0, 3), (0, 5), (0, 6), (0, 9)], [(0, 3), (0, 5), (0, 6), (0, 10)], [(0, 3), (0, 5), (0, 6), (0, 11)], [(0, 3), (0, 5), (0, 7), (0, 8)], [(0, 3), (0, 5), (0, 7), (0, 9)], [(0, 3), (0, 5), (0, 7), (0, 10)], [(0, 3), (0, 5), (0, 7), (0, 11)], [(0, 3), (0, 5), (0, 8), (0, 9)], [(0, 3), (0, 5), (0, 8), (0, 10)], [(0, 3), (0, 5), (0, 8), (0, 11)], [(0, 3), (0, 5), (0, 9), (0, 10)], [(0, 3), (0, 5), (0, 9), (0, 11)], [(0, 3), (0, 5), (0, 10), (0, 11)], [(0, 3), (0, 6), (0, 7), (0, 8)], [(0, 3), (0, 6), (0, 7), (0, 9)], [(0, 3), (0, 6), (0, 7), (0, 10)], [(0, 3), (0, 6), (0, 7), (0, 11)], [(0, 3), (0, 6), (0, 8), (0, 9)], [(0, 3), (0, 6), (0, 8), (0, 10)], [(0, 3), (0, 6), (0, 8), (0, 11)], [(0, 3), (0, 6), (0, 9), (0, 10)], [(0, 3), (0, 6), (0, 9), (0, 11)], [(0, 3), (0, 6), (0, 10), (0, 11)], [(0, 3), (0, 7), (0, 8), (0, 9)], [(0, 3), (0, 7), (0, 8), (0, 10)], [(0, 3), (0, 7), (0, 8), (0, 11)], [(0, 3), (0, 7), (0, 9), (0, 10)], [(0, 3), (0, 7), (0, 9), (0, 11)], [(0, 3), (0, 7), (0, 10), (0, 11)], [(0, 3), (0, 8), (0, 9), (0, 10)], [(0, 3), (0, 8), (0, 9), (0, 11)], [(0, 3), (0, 8), (0, 10), (0, 11)], [(0, 3), (0, 9), (0, 10), (0, 11)], [(0, 4), (0, 5), (0, 6), (0, 7)], [(0, 4), (0, 5), (0, 6), (0, 8)], [(0, 4), (0, 5), (0, 6), (0, 9)], [(0, 4), (0, 5), (0, 6), (0, 10)], [(0, 4), (0, 5), (0, 6), (0, 11)], [(0, 4), (0, 5), (0, 7), (0, 8)], [(0, 4), (0, 5), (0, 7), (0, 9)], [(0, 4), (0, 5), (0, 7), (0, 10)], [(0, 4), (0, 5), (0, 7), (0, 11)], [(0, 4), (0, 5), (0, 8), (0, 9)], [(0, 4), (0, 5), (0, 8), (0, 10)], [(0, 4), (0, 5), (0, 8), (0, 11)], [(0, 4), (0, 5), (0, 9), (0, 10)], [(0, 4), (0, 5), (0, 9), (0, 11)], [(0, 4), (0, 5), (0, 10), (0, 11)], [(0, 4), (0, 6), (0, 7), (0, 8)], [(0, 4), (0, 6), (0, 7), (0, 9)], [(0, 4), (0, 6), (0, 7), (0, 10)], [(0, 4), (0, 6), (0, 7), (0, 11)], [(0, 4), (0, 6), (0, 8), (0, 9)], [(0, 4), (0, 6), (0, 8), (0, 10)], [(0, 4), (0, 6), (0, 8), (0, 11)], [(0, 4), (0, 6), (0, 9), (0, 10)], [(0, 4), (0, 6), (0, 9), (0, 11)], [(0, 4), (0, 6), (0, 10), (0, 11)], [(0, 4), (0, 7), (0, 8), (0, 9)], [(0, 4), (0, 7), (0, 8), (0, 10)], [(0, 4), (0, 7), (0, 8), (0, 11)], [(0, 4), (0, 7), (0, 9), (0, 10)], [(0, 4), (0, 7), (0, 9), (0, 11)], [(0, 4), (0, 7), (0, 10), (0, 11)], [(0, 4), (0, 8), (0, 9), (0, 10)], [(0, 4), (0, 8), (0, 9), (0, 11)], [(0, 4), (0, 8), (0, 10), (0, 11)], [(0, 4), (0, 9), (0, 10), (0, 11)], [(0, 5), (0, 6), (0, 7), (0, 8)], [(0, 5), (0, 6), (0, 7), (0, 9)], [(0, 5), (0, 6), (0, 7), (0, 10)], [(0, 5), (0, 6), (0, 7), (0, 11)], [(0, 5), (0, 6), (0, 8), (0, 9)], [(0, 5), (0, 6), (0, 8), (0, 10)], [(0, 5), (0, 6), (0, 8), (0, 11)], [(0, 5), (0, 6), (0, 9), (0, 10)], [(0, 5), (0, 6), (0, 9), (0, 11)], [(0, 5), (0, 6), (0, 10), (0, 11)], [(0, 5), (0, 7), (0, 8), (0, 9)], [(0, 5), (0, 7), (0, 8), (0, 10)], [(0, 5), (0, 7), (0, 8), (0, 11)], [(0, 5), (0, 7), (0, 9), (0, 10)], [(0, 5), (0, 7), (0, 9), (0, 11)], [(0, 5), (0, 7), (0, 10), (0, 11)], [(0, 5), (0, 8), (0, 9), (0, 10)], [(0, 5), (0, 8), (0, 9), (0, 11)], [(0, 5), (0, 8), (0, 10), (0, 11)], [(0, 5), (0, 9), (0, 10), (0, 11)], [(0, 6), (0, 7), (0, 8), (0, 9)], [(0, 6), (0, 7), (0, 8), (0, 10)], [(0, 6), (0, 7), (0, 8), (0, 11)], [(0, 6), (0, 7), (0, 9), (0, 10)], [(0, 6), (0, 7), (0, 9), (0, 11)], [(0, 6), (0, 7), (0, 10), (0, 11)], [(0, 6), (0, 8), (0, 9), (0, 10)], [(0, 6), (0, 8), (0, 9), (0, 11)], [(0, 6), (0, 8), (0, 10), (0, 11)], [(0, 6), (0, 9), (0, 10), (0, 11)], [(0, 7), (0, 8), (0, 9), (0, 10)], [(0, 7), (0, 8), (0, 9), (0, 11)], [(0, 7), (0, 8), (0, 10), (0, 11)], [(0, 7), (0, 9), (0, 10), (0, 11)], [(0, 8), (0, 9), (0, 10), (0, 11)], [(0, 0), (0, 1), (0, 2), (0, 3), (0, 4)], [(0, 0), (0, 1), (0, 2), (0, 3), (0, 5)], [(0, 0), (0, 1), (0, 2), (0, 3), (0, 6)], [(0, 0), (0, 1), (0, 2), (0, 3), (0, 7)], [(0, 0), (0, 1), (0, 2), (0, 3), (0, 8)], [(0, 0), (0, 1), (0, 2), (0, 3), (0, 9)], [(0, 0), (0, 1), (0, 2), (0, 3), (0, 10)], [(0, 0), (0, 1), (0, 2), (0, 3), (0, 11)], [(0, 0), (0, 1), (0, 2), (0, 4), (0, 5)], [(0, 0), (0, 1), (0, 2), (0, 4), (0, 6)], [(0, 0), (0, 1), (0, 2), (0, 4), (0, 7)], [(0, 0), (0, 1), (0, 2), (0, 4), (0, 8)], [(0, 0), (0, 1), (0, 2), (0, 4), (0, 9)], [(0, 0), (0, 1), (0, 2), (0, 4), (0, 10)], [(0, 0), (0, 1), (0, 2), (0, 4), (0, 11)], [(0, 0), (0, 1), (0, 2), (0, 5), (0, 6)], [(0, 0), (0, 1), (0, 2), (0, 5), (0, 7)], [(0, 0), (0, 1), (0, 2), (0, 5), (0, 8)], [(0, 0), (0, 1), (0, 2), (0, 5), (0, 9)], [(0, 0), (0, 1), (0, 2), (0, 5), (0, 10)], [(0, 0), (0, 1), (0, 2), (0, 5), (0, 11)], [(0, 0), (0, 1), (0, 2), (0, 6), (0, 7)], [(0, 0), (0, 1), (0, 2), (0, 6), (0, 8)], [(0, 0), (0, 1), (0, 2), (0, 6), (0, 9)], [(0, 0), (0, 1), (0, 2), (0, 6), (0, 10)], [(0, 0), (0, 1), (0, 2), (0, 6), (0, 11)], [(0, 0), (0, 1), (0, 2), (0, 7), (0, 8)], [(0, 0), (0, 1), (0, 2), (0, 7), (0, 9)], [(0, 0), (0, 1), (0, 2), (0, 7), (0, 10)], [(0, 0), (0, 1), (0, 2), (0, 7), (0, 11)], [(0, 0), (0, 1), (0, 2), (0, 8), (0, 9)], [(0, 0), (0, 1), (0, 2), (0, 8), (0, 10)], [(0, 0), (0, 1), (0, 2), (0, 8), (0, 11)], [(0, 0), (0, 1), (0, 2), (0, 9), (0, 10)], [(0, 0), (0, 1), (0, 2), (0, 9), (0, 11)], [(0, 0), (0, 1), (0, 2), (0, 10), (0, 11)], [(0, 0), (0, 1), (0, 3), (0, 4), (0, 5)], [(0, 0), (0, 1), (0, 3), (0, 4), (0, 6)], [(0, 0), (0, 1), (0, 3), (0, 4), (0, 7)], [(0, 0), (0, 1), (0, 3), (0, 4), (0, 8)], [(0, 0), (0, 1), (0, 3), (0, 4), (0, 9)], [(0, 0), (0, 1), (0, 3), (0, 4), (0, 10)], [(0, 0), (0, 1), (0, 3), (0, 4), (0, 11)], [(0, 0), (0, 1), (0, 3), (0, 5), (0, 6)], [(0, 0), (0, 1), (0, 3), (0, 5), (0, 7)], [(0, 0), (0, 1), (0, 3), (0, 5), (0, 8)], [(0, 0), (0, 1), (0, 3), (0, 5), (0, 9)], [(0, 0), (0, 1), (0, 3), (0, 5), (0, 10)], [(0, 0), (0, 1), (0, 3), (0, 5), (0, 11)], [(0, 0), (0, 1), (0, 3), (0, 6), (0, 7)], [(0, 0), (0, 1), (0, 3), (0, 6), (0, 8)], [(0, 0), (0, 1), (0, 3), (0, 6), (0, 9)], [(0, 0), (0, 1), (0, 3), (0, 6), (0, 10)], [(0, 0), (0, 1), (0, 3), (0, 6), (0, 11)], [(0, 0), (0, 1), (0, 3), (0, 7), (0, 8)], [(0, 0), (0, 1), (0, 3), (0, 7), (0, 9)], [(0, 0), (0, 1), (0, 3), (0, 7), (0, 10)], [(0, 0), (0, 1), (0, 3), (0, 7), (0, 11)], [(0, 0), (0, 1), (0, 3), (0, 8), (0, 9)], [(0, 0), (0, 1), (0, 3), (0, 8), (0, 10)], [(0, 0), (0, 1), (0, 3), (0, 8), (0, 11)], [(0, 0), (0, 1), (0, 3), (0, 9), (0, 10)], [(0, 0), (0, 1), (0, 3), (0, 9), (0, 11)], [(0, 0), (0, 1), (0, 3), (0, 10), (0, 11)], [(0, 0), (0, 1), (0, 4), (0, 5), (0, 6)], [(0, 0), (0, 1), (0, 4), (0, 5), (0, 7)], [(0, 0), (0, 1), (0, 4), (0, 5), (0, 8)], [(0, 0), (0, 1), (0, 4), (0, 5), (0, 9)], [(0, 0), (0, 1), (0, 4), (0, 5), (0, 10)], [(0, 0), (0, 1), (0, 4), (0, 5), (0, 11)], [(0, 0), (0, 1), (0, 4), (0, 6), (0, 7)], [(0, 0), (0, 1), (0, 4), (0, 6), (0, 8)], [(0, 0), (0, 1), (0, 4), (0, 6), (0, 9)], [(0, 0), (0, 1), (0, 4), (0, 6), (0, 10)], [(0, 0), (0, 1), (0, 4), (0, 6), (0, 11)], [(0, 0), (0, 1), (0, 4), (0, 7), (0, 8)], [(0, 0), (0, 1), (0, 4), (0, 7), (0, 9)], [(0, 0), (0, 1), (0, 4), (0, 7), (0, 10)], [(0, 0), (0, 1), (0, 4), (0, 7), (0, 11)], [(0, 0), (0, 1), (0, 4), (0, 8), (0, 9)], [(0, 0), (0, 1), (0, 4), (0, 8), (0, 10)], [(0, 0), (0, 1), (0, 4), (0, 8), (0, 11)], [(0, 0), (0, 1), (0, 4), (0, 9), (0, 10)], [(0, 0), (0, 1), (0, 4), (0, 9), (0, 11)], [(0, 0), (0, 1), (0, 4), (0, 10), (0, 11)], [(0, 0), (0, 1), (0, 5), (0, 6), (0, 7)], [(0, 0), (0, 1), (0, 5), (0, 6), (0, 8)], [(0, 0), (0, 1), (0, 5), (0, 6), (0, 9)], [(0, 0), (0, 1), (0, 5), (0, 6), (0, 10)], [(0, 0), (0, 1), (0, 5), (0, 6), (0, 11)], [(0, 0), (0, 1), (0, 5), (0, 7), (0, 8)], [(0, 0), (0, 1), (0, 5), (0, 7), (0, 9)], [(0, 0), (0, 1), (0, 5), (0, 7), (0, 10)], [(0, 0), (0, 1), (0, 5), (0, 7), (0, 11)], [(0, 0), (0, 1), (0, 5), (0, 8), (0, 9)], [(0, 0), (0, 1), (0, 5), (0, 8), (0, 10)], [(0, 0), (0, 1), (0, 5), (0, 8), (0, 11)], [(0, 0), (0, 1), (0, 5), (0, 9), (0, 10)], [(0, 0), (0, 1), (0, 5), (0, 9), (0, 11)], [(0, 0), (0, 1), (0, 5), (0, 10), (0, 11)], [(0, 0), (0, 1), (0, 6), (0, 7), (0, 8)], [(0, 0), (0, 1), (0, 6), (0, 7), (0, 9)], [(0, 0), (0, 1), (0, 6), (0, 7), (0, 10)], [(0, 0), (0, 1), (0, 6), (0, 7), (0, 11)], [(0, 0), (0, 1), (0, 6), (0, 8), (0, 9)], [(0, 0), (0, 1), (0, 6), (0, 8), (0, 10)], [(0, 0), (0, 1), (0, 6), (0, 8), (0, 11)], [(0, 0), (0, 1), (0, 6), (0, 9), (0, 10)], [(0, 0), (0, 1), (0, 6), (0, 9), (0, 11)], [(0, 0), (0, 1), (0, 6), (0, 10), (0, 11)], [(0, 0), (0, 1), (0, 7), (0, 8), (0, 9)], [(0, 0), (0, 1), (0, 7), (0, 8), (0, 10)], [(0, 0), (0, 1), (0, 7), (0, 8), (0, 11)], [(0, 0), (0, 1), (0, 7), (0, 9), (0, 10)], [(0, 0), (0, 1), (0, 7), (0, 9), (0, 11)], [(0, 0), (0, 1), (0, 7), (0, 10), (0, 11)], [(0, 0), (0, 1), (0, 8), (0, 9), (0, 10)], [(0, 0), (0, 1), (0, 8), (0, 9), (0, 11)], [(0, 0), (0, 1), (0, 8), (0, 10), (0, 11)], [(0, 0), (0, 1), (0, 9), (0, 10), (0, 11)], [(0, 0), (0, 2), (0, 3), (0, 4), (0, 5)], [(0, 0), (0, 2), (0, 3), (0, 4), (0, 6)], [(0, 0), (0, 2), (0, 3), (0, 4), (0, 7)], [(0, 0), (0, 2), (0, 3), (0, 4), (0, 8)], [(0, 0), (0, 2), (0, 3), (0, 4), (0, 9)], [(0, 0), (0, 2), (0, 3), (0, 4), (0, 10)], [(0, 0), (0, 2), (0, 3), (0, 4), (0, 11)], [(0, 0), (0, 2), (0, 3), (0, 5), (0, 6)], [(0, 0), (0, 2), (0, 3), (0, 5), (0, 7)], [(0, 0), (0, 2), (0, 3), (0, 5), (0, 8)], [(0, 0), (0, 2), (0, 3), (0, 5), (0, 9)], [(0, 0), (0, 2), (0, 3), (0, 5), (0, 10)], [(0, 0), (0, 2), (0, 3), (0, 5), (0, 11)], [(0, 0), (0, 2), (0, 3), (0, 6), (0, 7)], [(0, 0), (0, 2), (0, 3), (0, 6), (0, 8)], [(0, 0), (0, 2), (0, 3), (0, 6), (0, 9)], [(0, 0), (0, 2), (0, 3), (0, 6), (0, 10)], [(0, 0), (0, 2), (0, 3), (0, 6), (0, 11)], [(0, 0), (0, 2), (0, 3), (0, 7), (0, 8)], [(0, 0), (0, 2), (0, 3), (0, 7), (0, 9)], [(0, 0), (0, 2), (0, 3), (0, 7), (0, 10)], [(0, 0), (0, 2), (0, 3), (0, 7), (0, 11)], [(0, 0), (0, 2), (0, 3), (0, 8), (0, 9)], [(0, 0), (0, 2), (0, 3), (0, 8), (0, 10)], [(0, 0), (0, 2), (0, 3), (0, 8), (0, 11)], [(0, 0), (0, 2), (0, 3), (0, 9), (0, 10)], [(0, 0), (0, 2), (0, 3), (0, 9), (0, 11)], [(0, 0), (0, 2), (0, 3), (0, 10), (0, 11)], [(0, 0), (0, 2), (0, 4), (0, 5), (0, 6)], [(0, 0), (0, 2), (0, 4), (0, 5), (0, 7)], [(0, 0), (0, 2), (0, 4), (0, 5), (0, 8)], [(0, 0), (0, 2), (0, 4), (0, 5), (0, 9)], [(0, 0), (0, 2), (0, 4), (0, 5), (0, 10)], [(0, 0), (0, 2), (0, 4), (0, 5), (0, 11)], [(0, 0), (0, 2), (0, 4), (0, 6), (0, 7)], [(0, 0), (0, 2), (0, 4), (0, 6), (0, 8)], [(0, 0), (0, 2), (0, 4), (0, 6), (0, 9)], [(0, 0), (0, 2), (0, 4), (0, 6), (0, 10)], [(0, 0), (0, 2), (0, 4), (0, 6), (0, 11)], [(0, 0), (0, 2), (0, 4), (0, 7), (0, 8)], [(0, 0), (0, 2), (0, 4), (0, 7), (0, 9)], [(0, 0), (0, 2), (0, 4), (0, 7), (0, 10)], [(0, 0), (0, 2), (0, 4), (0, 7), (0, 11)], [(0, 0), (0, 2), (0, 4), (0, 8), (0, 9)], [(0, 0), (0, 2), (0, 4), (0, 8), (0, 10)], [(0, 0), (0, 2), (0, 4), (0, 8), (0, 11)], [(0, 0), (0, 2), (0, 4), (0, 9), (0, 10)], [(0, 0), (0, 2), (0, 4), (0, 9), (0, 11)], [(0, 0), (0, 2), (0, 4), (0, 10), (0, 11)], [(0, 0), (0, 2), (0, 5), (0, 6), (0, 7)], [(0, 0), (0, 2), (0, 5), (0, 6), (0, 8)], [(0, 0), (0, 2), (0, 5), (0, 6), (0, 9)], [(0, 0), (0, 2), (0, 5), (0, 6), (0, 10)], [(0, 0), (0, 2), (0, 5), (0, 6), (0, 11)], [(0, 0), (0, 2), (0, 5), (0, 7), (0, 8)], [(0, 0), (0, 2), (0, 5), (0, 7), (0, 9)], [(0, 0), (0, 2), (0, 5), (0, 7), (0, 10)], [(0, 0), (0, 2), (0, 5), (0, 7), (0, 11)], [(0, 0), (0, 2), (0, 5), (0, 8), (0, 9)], [(0, 0), (0, 2), (0, 5), (0, 8), (0, 10)], [(0, 0), (0, 2), (0, 5), (0, 8), (0, 11)], [(0, 0), (0, 2), (0, 5), (0, 9), (0, 10)], [(0, 0), (0, 2), (0, 5), (0, 9), (0, 11)], [(0, 0), (0, 2), (0, 5), (0, 10), (0, 11)], [(0, 0), (0, 2), (0, 6), (0, 7), (0, 8)], [(0, 0), (0, 2), (0, 6), (0, 7), (0, 9)], [(0, 0), (0, 2), (0, 6), (0, 7), (0, 10)], [(0, 0), (0, 2), (0, 6), (0, 7), (0, 11)], [(0, 0), (0, 2), (0, 6), (0, 8), (0, 9)], [(0, 0), (0, 2), (0, 6), (0, 8), (0, 10)], [(0, 0), (0, 2), (0, 6), (0, 8), (0, 11)], [(0, 0), (0, 2), (0, 6), (0, 9), (0, 10)], [(0, 0), (0, 2), (0, 6), (0, 9), (0, 11)], [(0, 0), (0, 2), (0, 6), (0, 10), (0, 11)], [(0, 0), (0, 2), (0, 7), (0, 8), (0, 9)], [(0, 0), (0, 2), (0, 7), (0, 8), (0, 10)], [(0, 0), (0, 2), (0, 7), (0, 8), (0, 11)], [(0, 0), (0, 2), (0, 7), (0, 9), (0, 10)], [(0, 0), (0, 2), (0, 7), (0, 9), (0, 11)], [(0, 0), (0, 2), (0, 7), (0, 10), (0, 11)], [(0, 0), (0, 2), (0, 8), (0, 9), (0, 10)], [(0, 0), (0, 2), (0, 8), (0, 9), (0, 11)], [(0, 0), (0, 2), (0, 8), (0, 10), (0, 11)], [(0, 0), (0, 2), (0, 9), (0, 10), (0, 11)], [(0, 0), (0, 3), (0, 4), (0, 5), (0, 6)], [(0, 0), (0, 3), (0, 4), (0, 5), (0, 7)], [(0, 0), (0, 3), (0, 4), (0, 5), (0, 8)], [(0, 0), (0, 3), (0, 4), (0, 5), (0, 9)], [(0, 0), (0, 3), (0, 4), (0, 5), (0, 10)], [(0, 0), (0, 3), (0, 4), (0, 5), (0, 11)], [(0, 0), (0, 3), (0, 4), (0, 6), (0, 7)], [(0, 0), (0, 3), (0, 4), (0, 6), (0, 8)], [(0, 0), (0, 3), (0, 4), (0, 6), (0, 9)], [(0, 0), (0, 3), (0, 4), (0, 6), (0, 10)], [(0, 0), (0, 3), (0, 4), (0, 6), (0, 11)], [(0, 0), (0, 3), (0, 4), (0, 7), (0, 8)], [(0, 0), (0, 3), (0, 4), (0, 7), (0, 9)], [(0, 0), (0, 3), (0, 4), (0, 7), (0, 10)], [(0, 0), (0, 3), (0, 4), (0, 7), (0, 11)], [(0, 0), (0, 3), (0, 4), (0, 8), (0, 9)], [(0, 0), (0, 3), (0, 4), (0, 8), (0, 10)], [(0, 0), (0, 3), (0, 4), (0, 8), (0, 11)], [(0, 0), (0, 3), (0, 4), (0, 9), (0, 10)], [(0, 0), (0, 3), (0, 4), (0, 9), (0, 11)], [(0, 0), (0, 3), (0, 4), (0, 10), (0, 11)], [(0, 0), (0, 3), (0, 5), (0, 6), (0, 7)], [(0, 0), (0, 3), (0, 5), (0, 6), (0, 8)], [(0, 0), (0, 3), (0, 5), (0, 6), (0, 9)], [(0, 0), (0, 3), (0, 5), (0, 6), (0, 10)], [(0, 0), (0, 3), (0, 5), (0, 6), (0, 11)], [(0, 0), (0, 3), (0, 5), (0, 7), (0, 8)], [(0, 0), (0, 3), (0, 5), (0, 7), (0, 9)], [(0, 0), (0, 3), (0, 5), (0, 7), (0, 10)], [(0, 0), (0, 3), (0, 5), (0, 7), (0, 11)], [(0, 0), (0, 3), (0, 5), (0, 8), (0, 9)], [(0, 0), (0, 3), (0, 5), (0, 8), (0, 10)], [(0, 0), (0, 3), (0, 5), (0, 8), (0, 11)], [(0, 0), (0, 3), (0, 5), (0, 9), (0, 10)], [(0, 0), (0, 3), (0, 5), (0, 9), (0, 11)], [(0, 0), (0, 3), (0, 5), (0, 10), (0, 11)], [(0, 0), (0, 3), (0, 6), (0, 7), (0, 8)], [(0, 0), (0, 3), (0, 6), (0, 7), (0, 9)], [(0, 0), (0, 3), (0, 6), (0, 7), (0, 10)], [(0, 0), (0, 3), (0, 6), (0, 7), (0, 11)], [(0, 0), (0, 3), (0, 6), (0, 8), (0, 9)], [(0, 0), (0, 3), (0, 6), (0, 8), (0, 10)], [(0, 0), (0, 3), (0, 6), (0, 8), (0, 11)], [(0, 0), (0, 3), (0, 6), (0, 9), (0, 10)], [(0, 0), (0, 3), (0, 6), (0, 9), (0, 11)], [(0, 0), (0, 3), (0, 6), (0, 10), (0, 11)], [(0, 0), (0, 3), (0, 7), (0, 8), (0, 9)], [(0, 0), (0, 3), (0, 7), (0, 8), (0, 10)], [(0, 0), (0, 3), (0, 7), (0, 8), (0, 11)], [(0, 0), (0, 3), (0, 7), (0, 9), (0, 10)], [(0, 0), (0, 3), (0, 7), (0, 9), (0, 11)], [(0, 0), (0, 3), (0, 7), (0, 10), (0, 11)], [(0, 0), (0, 3), (0, 8), (0, 9), (0, 10)], [(0, 0), (0, 3), (0, 8), (0, 9), (0, 11)], [(0, 0), (0, 3), (0, 8), (0, 10), (0, 11)], [(0, 0), (0, 3), (0, 9), (0, 10), (0, 11)], [(0, 0), (0, 4), (0, 5), (0, 6), (0, 7)], [(0, 0), (0, 4), (0, 5), (0, 6), (0, 8)], [(0, 0), (0, 4), (0, 5), (0, 6), (0, 9)], [(0, 0), (0, 4), (0, 5), (0, 6), (0, 10)], [(0, 0), (0, 4), (0, 5), (0, 6), (0, 11)], [(0, 0), (0, 4), (0, 5), (0, 7), (0, 8)], [(0, 0), (0, 4), (0, 5), (0, 7), (0, 9)], [(0, 0), (0, 4), (0, 5), (0, 7), (0, 10)], [(0, 0), (0, 4), (0, 5), (0, 7), (0, 11)], [(0, 0), (0, 4), (0, 5), (0, 8), (0, 9)], [(0, 0), (0, 4), (0, 5), (0, 8), (0, 10)], [(0, 0), (0, 4), (0, 5), (0, 8), (0, 11)], [(0, 0), (0, 4), (0, 5), (0, 9), (0, 10)], [(0, 0), (0, 4), (0, 5), (0, 9), (0, 11)], [(0, 0), (0, 4), (0, 5), (0, 10), (0, 11)], [(0, 0), (0, 4), (0, 6), (0, 7), (0, 8)], [(0, 0), (0, 4), (0, 6), (0, 7), (0, 9)], [(0, 0), (0, 4), (0, 6), (0, 7), (0, 10)], [(0, 0), (0, 4), (0, 6), (0, 7), (0, 11)], [(0, 0), (0, 4), (0, 6), (0, 8), (0, 9)], [(0, 0), (0, 4), (0, 6), (0, 8), (0, 10)], [(0, 0), (0, 4), (0, 6), (0, 8), (0, 11)], [(0, 0), (0, 4), (0, 6), (0, 9), (0, 10)], [(0, 0), (0, 4), (0, 6), (0, 9), (0, 11)], [(0, 0), (0, 4), (0, 6), (0, 10), (0, 11)], [(0, 0), (0, 4), (0, 7), (0, 8), (0, 9)], [(0, 0), (0, 4), (0, 7), (0, 8), (0, 10)], [(0, 0), (0, 4), (0, 7), (0, 8), (0, 11)], [(0, 0), (0, 4), (0, 7), (0, 9), (0, 10)], [(0, 0), (0, 4), (0, 7), (0, 9), (0, 11)], [(0, 0), (0, 4), (0, 7), (0, 10), (0, 11)], [(0, 0), (0, 4), (0, 8), (0, 9), (0, 10)], [(0, 0), (0, 4), (0, 8), (0, 9), (0, 11)], [(0, 0), (0, 4), (0, 8), (0, 10), (0, 11)], [(0, 0), (0, 4), (0, 9), (0, 10), (0, 11)], [(0, 0), (0, 5), (0, 6), (0, 7), (0, 8)], [(0, 0), (0, 5), (0, 6), (0, 7), (0, 9)], [(0, 0), (0, 5), (0, 6), (0, 7), (0, 10)], [(0, 0), (0, 5), (0, 6), (0, 7), (0, 11)], [(0, 0), (0, 5), (0, 6), (0, 8), (0, 9)], [(0, 0), (0, 5), (0, 6), (0, 8), (0, 10)], [(0, 0), (0, 5), (0, 6), (0, 8), (0, 11)], [(0, 0), (0, 5), (0, 6), (0, 9), (0, 10)], [(0, 0), (0, 5), (0, 6), (0, 9), (0, 11)], [(0, 0), (0, 5), (0, 6), (0, 10), (0, 11)], [(0, 0), (0, 5), (0, 7), (0, 8), (0, 9)], [(0, 0), (0, 5), (0, 7), (0, 8), (0, 10)], [(0, 0), (0, 5), (0, 7), (0, 8), (0, 11)], [(0, 0), (0, 5), (0, 7), (0, 9), (0, 10)], [(0, 0), (0, 5), (0, 7), (0, 9), (0, 11)], [(0, 0), (0, 5), (0, 7), (0, 10), (0, 11)], [(0, 0), (0, 5), (0, 8), (0, 9), (0, 10)], [(0, 0), (0, 5), (0, 8), (0, 9), (0, 11)], [(0, 0), (0, 5), (0, 8), (0, 10), (0, 11)], [(0, 0), (0, 5), (0, 9), (0, 10), (0, 11)], [(0, 0), (0, 6), (0, 7), (0, 8), (0, 9)], [(0, 0), (0, 6), (0, 7), (0, 8), (0, 10)], [(0, 0), (0, 6), (0, 7), (0, 8), (0, 11)], [(0, 0), (0, 6), (0, 7), (0, 9), (0, 10)], [(0, 0), (0, 6), (0, 7), (0, 9), (0, 11)], [(0, 0), (0, 6), (0, 7), (0, 10), (0, 11)], [(0, 0), (0, 6), (0, 8), (0, 9), (0, 10)], [(0, 0), (0, 6), (0, 8), (0, 9), (0, 11)], [(0, 0), (0, 6), (0, 8), (0, 10), (0, 11)], [(0, 0), (0, 6), (0, 9), (0, 10), (0, 11)], [(0, 0), (0, 7), (0, 8), (0, 9), (0, 10)], [(0, 0), (0, 7), (0, 8), (0, 9), (0, 11)], [(0, 0), (0, 7), (0, 8), (0, 10), (0, 11)], [(0, 0), (0, 7), (0, 9), (0, 10), (0, 11)], [(0, 0), (0, 8), (0, 9), (0, 10), (0, 11)], [(0, 1), (0, 2), (0, 3), (0, 4), (0, 5)], [(0, 1), (0, 2), (0, 3), (0, 4), (0, 6)], [(0, 1), (0, 2), (0, 3), (0, 4), (0, 7)], [(0, 1), (0, 2), (0, 3), (0, 4), (0, 8)], [(0, 1), (0, 2), (0, 3), (0, 4), (0, 9)], [(0, 1), (0, 2), (0, 3), (0, 4), (0, 10)], [(0, 1), (0, 2), (0, 3), (0, 4), (0, 11)], [(0, 1), (0, 2), (0, 3), (0, 5), (0, 6)], [(0, 1), (0, 2), (0, 3), (0, 5), (0, 7)], [(0, 1), (0, 2), (0, 3), (0, 5), (0, 8)], [(0, 1), (0, 2), (0, 3), (0, 5), (0, 9)], [(0, 1), (0, 2), (0, 3), (0, 5), (0, 10)], [(0, 1), (0, 2), (0, 3), (0, 5), (0, 11)], [(0, 1), (0, 2), (0, 3), (0, 6), (0, 7)], [(0, 1), (0, 2), (0, 3), (0, 6), (0, 8)], [(0, 1), (0, 2), (0, 3), (0, 6), (0, 9)], [(0, 1), (0, 2), (0, 3), (0, 6), (0, 10)], [(0, 1), (0, 2), (0, 3), (0, 6), (0, 11)], [(0, 1), (0, 2), (0, 3), (0, 7), (0, 8)], [(0, 1), (0, 2), (0, 3), (0, 7), (0, 9)], [(0, 1), (0, 2), (0, 3), (0, 7), (0, 10)], [(0, 1), (0, 2), (0, 3), (0, 7), (0, 11)], [(0, 1), (0, 2), (0, 3), (0, 8), (0, 9)], [(0, 1), (0, 2), (0, 3), (0, 8), (0, 10)], [(0, 1), (0, 2), (0, 3), (0, 8), (0, 11)], [(0, 1), (0, 2), (0, 3), (0, 9), (0, 10)], [(0, 1), (0, 2), (0, 3), (0, 9), (0, 11)], [(0, 1), (0, 2), (0, 3), (0, 10), (0, 11)], [(0, 1), (0, 2), (0, 4), (0, 5), (0, 6)], [(0, 1), (0, 2), (0, 4), (0, 5), (0, 7)], [(0, 1), (0, 2), (0, 4), (0, 5), (0, 8)], [(0, 1), (0, 2), (0, 4), (0, 5), (0, 9)], [(0, 1), (0, 2), (0, 4), (0, 5), (0, 10)], [(0, 1), (0, 2), (0, 4), (0, 5), (0, 11)], [(0, 1), (0, 2), (0, 4), (0, 6), (0, 7)], [(0, 1), (0, 2), (0, 4), (0, 6), (0, 8)], [(0, 1), (0, 2), (0, 4), (0, 6), (0, 9)], [(0, 1), (0, 2), (0, 4), (0, 6), (0, 10)], [(0, 1), (0, 2), (0, 4), (0, 6), (0, 11)], [(0, 1), (0, 2), (0, 4), (0, 7), (0, 8)], [(0, 1), (0, 2), (0, 4), (0, 7), (0, 9)], [(0, 1), (0, 2), (0, 4), (0, 7), (0, 10)], [(0, 1), (0, 2), (0, 4), (0, 7), (0, 11)], [(0, 1), (0, 2), (0, 4), (0, 8), (0, 9)], [(0, 1), (0, 2), (0, 4), (0, 8), (0, 10)], [(0, 1), (0, 2), (0, 4), (0, 8), (0, 11)], [(0, 1), (0, 2), (0, 4), (0, 9), (0, 10)], [(0, 1), (0, 2), (0, 4), (0, 9), (0, 11)], [(0, 1), (0, 2), (0, 4), (0, 10), (0, 11)], [(0, 1), (0, 2), (0, 5), (0, 6), (0, 7)], [(0, 1), (0, 2), (0, 5), (0, 6), (0, 8)], [(0, 1), (0, 2), (0, 5), (0, 6), (0, 9)], [(0, 1), (0, 2), (0, 5), (0, 6), (0, 10)], [(0, 1), (0, 2), (0, 5), (0, 6), (0, 11)], [(0, 1), (0, 2), (0, 5), (0, 7), (0, 8)], [(0, 1), (0, 2), (0, 5), (0, 7), (0, 9)], [(0, 1), (0, 2), (0, 5), (0, 7), (0, 10)], [(0, 1), (0, 2), (0, 5), (0, 7), (0, 11)], [(0, 1), (0, 2), (0, 5), (0, 8), (0, 9)], [(0, 1), (0, 2), (0, 5), (0, 8), (0, 10)], [(0, 1), (0, 2), (0, 5), (0, 8), (0, 11)], [(0, 1), (0, 2), (0, 5), (0, 9), (0, 10)], [(0, 1), (0, 2), (0, 5), (0, 9), (0, 11)], [(0, 1), (0, 2), (0, 5), (0, 10), (0, 11)], [(0, 1), (0, 2), (0, 6), (0, 7), (0, 8)], [(0, 1), (0, 2), (0, 6), (0, 7), (0, 9)], [(0, 1), (0, 2), (0, 6), (0, 7), (0, 10)], [(0, 1), (0, 2), (0, 6), (0, 7), (0, 11)], [(0, 1), (0, 2), (0, 6), (0, 8), (0, 9)], [(0, 1), (0, 2), (0, 6), (0, 8), (0, 10)], [(0, 1), (0, 2), (0, 6), (0, 8), (0, 11)], [(0, 1), (0, 2), (0, 6), (0, 9), (0, 10)], [(0, 1), (0, 2), (0, 6), (0, 9), (0, 11)], [(0, 1), (0, 2), (0, 6), (0, 10), (0, 11)], [(0, 1), (0, 2), (0, 7), (0, 8), (0, 9)], [(0, 1), (0, 2), (0, 7), (0, 8), (0, 10)], [(0, 1), (0, 2), (0, 7), (0, 8), (0, 11)], [(0, 1), (0, 2), (0, 7), (0, 9), (0, 10)], [(0, 1), (0, 2), (0, 7), (0, 9), (0, 11)], [(0, 1), (0, 2), (0, 7), (0, 10), (0, 11)], [(0, 1), (0, 2), (0, 8), (0, 9), (0, 10)], [(0, 1), (0, 2), (0, 8), (0, 9), (0, 11)], [(0, 1), (0, 2), (0, 8), (0, 10), (0, 11)], [(0, 1), (0, 2), (0, 9), (0, 10), (0, 11)], [(0, 1), (0, 3), (0, 4), (0, 5), (0, 6)], [(0, 1), (0, 3), (0, 4), (0, 5), (0, 7)], [(0, 1), (0, 3), (0, 4), (0, 5), (0, 8)], [(0, 1), (0, 3), (0, 4), (0, 5), (0, 9)], [(0, 1), (0, 3), (0, 4), (0, 5), (0, 10)], [(0, 1), (0, 3), (0, 4), (0, 5), (0, 11)], [(0, 1), (0, 3), (0, 4), (0, 6), (0, 7)], [(0, 1), (0, 3), (0, 4), (0, 6), (0, 8)], [(0, 1), (0, 3), (0, 4), (0, 6), (0, 9)], [(0, 1), (0, 3), (0, 4), (0, 6), (0, 10)], [(0, 1), (0, 3), (0, 4), (0, 6), (0, 11)], [(0, 1), (0, 3), (0, 4), (0, 7), (0, 8)], [(0, 1), (0, 3), (0, 4), (0, 7), (0, 9)], [(0, 1), (0, 3), (0, 4), (0, 7), (0, 10)], [(0, 1), (0, 3), (0, 4), (0, 7), (0, 11)], [(0, 1), (0, 3), (0, 4), (0, 8), (0, 9)], [(0, 1), (0, 3), (0, 4), (0, 8), (0, 10)], [(0, 1), (0, 3), (0, 4), (0, 8), (0, 11)], [(0, 1), (0, 3), (0, 4), (0, 9), (0, 10)], [(0, 1), (0, 3), (0, 4), (0, 9), (0, 11)], [(0, 1), (0, 3), (0, 4), (0, 10), (0, 11)], [(0, 1), (0, 3), (0, 5), (0, 6), (0, 7)], [(0, 1), (0, 3), (0, 5), (0, 6), (0, 8)], [(0, 1), (0, 3), (0, 5), (0, 6), (0, 9)], [(0, 1), (0, 3), (0, 5), (0, 6), (0, 10)], [(0, 1), (0, 3), (0, 5), (0, 6), (0, 11)], [(0, 1), (0, 3), (0, 5), (0, 7), (0, 8)], [(0, 1), (0, 3), (0, 5), (0, 7), (0, 9)], [(0, 1), (0, 3), (0, 5), (0, 7), (0, 10)], [(0, 1), (0, 3), (0, 5), (0, 7), (0, 11)], [(0, 1), (0, 3), (0, 5), (0, 8), (0, 9)], [(0, 1), (0, 3), (0, 5), (0, 8), (0, 10)], [(0, 1), (0, 3), (0, 5), (0, 8), (0, 11)], [(0, 1), (0, 3), (0, 5), (0, 9), (0, 10)], [(0, 1), (0, 3), (0, 5), (0, 9), (0, 11)], [(0, 1), (0, 3), (0, 5), (0, 10), (0, 11)], [(0, 1), (0, 3), (0, 6), (0, 7), (0, 8)], [(0, 1), (0, 3), (0, 6), (0, 7), (0, 9)], [(0, 1), (0, 3), (0, 6), (0, 7), (0, 10)], [(0, 1), (0, 3), (0, 6), (0, 7), (0, 11)], [(0, 1), (0, 3), (0, 6), (0, 8), (0, 9)], [(0, 1), (0, 3), (0, 6), (0, 8), (0, 10)], [(0, 1), (0, 3), (0, 6), (0, 8), (0, 11)], [(0, 1), (0, 3), (0, 6), (0, 9), (0, 10)], [(0, 1), (0, 3), (0, 6), (0, 9), (0, 11)], [(0, 1), (0, 3), (0, 6), (0, 10), (0, 11)], [(0, 1), (0, 3), (0, 7), (0, 8), (0, 9)], [(0, 1), (0, 3), (0, 7), (0, 8), (0, 10)], [(0, 1), (0, 3), (0, 7), (0, 8), (0, 11)], [(0, 1), (0, 3), (0, 7), (0, 9), (0, 10)], [(0, 1), (0, 3), (0, 7), (0, 9), (0, 11)], [(0, 1), (0, 3), (0, 7), (0, 10), (0, 11)], [(0, 1), (0, 3), (0, 8), (0, 9), (0, 10)], [(0, 1), (0, 3), (0, 8), (0, 9), (0, 11)], [(0, 1), (0, 3), (0, 8), (0, 10), (0, 11)], [(0, 1), (0, 3), (0, 9), (0, 10), (0, 11)], [(0, 1), (0, 4), (0, 5), (0, 6), (0, 7)], [(0, 1), (0, 4), (0, 5), (0, 6), (0, 8)], [(0, 1), (0, 4), (0, 5), (0, 6), (0, 9)], [(0, 1), (0, 4), (0, 5), (0, 6), (0, 10)], [(0, 1), (0, 4), (0, 5), (0, 6), (0, 11)], [(0, 1), (0, 4), (0, 5), (0, 7), (0, 8)], [(0, 1), (0, 4), (0, 5), (0, 7), (0, 9)], [(0, 1), (0, 4), (0, 5), (0, 7), (0, 10)], [(0, 1), (0, 4), (0, 5), (0, 7), (0, 11)], [(0, 1), (0, 4), (0, 5), (0, 8), (0, 9)], [(0, 1), (0, 4), (0, 5), (0, 8), (0, 10)], [(0, 1), (0, 4), (0, 5), (0, 8), (0, 11)], [(0, 1), (0, 4), (0, 5), (0, 9), (0, 10)], [(0, 1), (0, 4), (0, 5), (0, 9), (0, 11)], [(0, 1), (0, 4), (0, 5), (0, 10), (0, 11)], [(0, 1), (0, 4), (0, 6), (0, 7), (0, 8)], [(0, 1), (0, 4), (0, 6), (0, 7), (0, 9)], [(0, 1), (0, 4), (0, 6), (0, 7), (0, 10)], [(0, 1), (0, 4), (0, 6), (0, 7), (0, 11)], [(0, 1), (0, 4), (0, 6), (0, 8), (0, 9)], [(0, 1), (0, 4), (0, 6), (0, 8), (0, 10)], [(0, 1), (0, 4), (0, 6), (0, 8), (0, 11)], [(0, 1), (0, 4), (0, 6), (0, 9), (0, 10)], [(0, 1), (0, 4), (0, 6), (0, 9), (0, 11)], [(0, 1), (0, 4), (0, 6), (0, 10), (0, 11)], [(0, 1), (0, 4), (0, 7), (0, 8), (0, 9)], [(0, 1), (0, 4), (0, 7), (0, 8), (0, 10)], [(0, 1), (0, 4), (0, 7), (0, 8), (0, 11)], [(0, 1), (0, 4), (0, 7), (0, 9), (0, 10)], [(0, 1), (0, 4), (0, 7), (0, 9), (0, 11)], [(0, 1), (0, 4), (0, 7), (0, 10), (0, 11)], [(0, 1), (0, 4), (0, 8), (0, 9), (0, 10)], [(0, 1), (0, 4), (0, 8), (0, 9), (0, 11)], [(0, 1), (0, 4), (0, 8), (0, 10), (0, 11)], [(0, 1), (0, 4), (0, 9), (0, 10), (0, 11)], [(0, 1), (0, 5), (0, 6), (0, 7), (0, 8)], [(0, 1), (0, 5), (0, 6), (0, 7), (0, 9)], [(0, 1), (0, 5), (0, 6), (0, 7), (0, 10)], [(0, 1), (0, 5), (0, 6), (0, 7), (0, 11)], [(0, 1), (0, 5), (0, 6), (0, 8), (0, 9)], [(0, 1), (0, 5), (0, 6), (0, 8), (0, 10)], [(0, 1), (0, 5), (0, 6), (0, 8), (0, 11)], [(0, 1), (0, 5), (0, 6), (0, 9), (0, 10)], [(0, 1), (0, 5), (0, 6), (0, 9), (0, 11)], [(0, 1), (0, 5), (0, 6), (0, 10), (0, 11)], [(0, 1), (0, 5), (0, 7), (0, 8), (0, 9)], [(0, 1), (0, 5), (0, 7), (0, 8), (0, 10)], [(0, 1), (0, 5), (0, 7), (0, 8), (0, 11)], [(0, 1), (0, 5), (0, 7), (0, 9), (0, 10)], [(0, 1), (0, 5), (0, 7), (0, 9), (0, 11)], [(0, 1), (0, 5), (0, 7), (0, 10), (0, 11)], [(0, 1), (0, 5), (0, 8), (0, 9), (0, 10)], [(0, 1), (0, 5), (0, 8), (0, 9), (0, 11)], [(0, 1), (0, 5), (0, 8), (0, 10), (0, 11)], [(0, 1), (0, 5), (0, 9), (0, 10), (0, 11)], [(0, 1), (0, 6), (0, 7), (0, 8), (0, 9)], [(0, 1), (0, 6), (0, 7), (0, 8), (0, 10)], [(0, 1), (0, 6), (0, 7), (0, 8), (0, 11)], [(0, 1), (0, 6), (0, 7), (0, 9), (0, 10)], [(0, 1), (0, 6), (0, 7), (0, 9), (0, 11)], [(0, 1), (0, 6), (0, 7), (0, 10), (0, 11)], [(0, 1), (0, 6), (0, 8), (0, 9), (0, 10)], [(0, 1), (0, 6), (0, 8), (0, 9), (0, 11)], [(0, 1), (0, 6), (0, 8), (0, 10), (0, 11)], [(0, 1), (0, 6), (0, 9), (0, 10), (0, 11)], [(0, 1), (0, 7), (0, 8), (0, 9), (0, 10)], [(0, 1), (0, 7), (0, 8), (0, 9), (0, 11)], [(0, 1), (0, 7), (0, 8), (0, 10), (0, 11)], [(0, 1), (0, 7), (0, 9), (0, 10), (0, 11)], [(0, 1), (0, 8), (0, 9), (0, 10), (0, 11)], [(0, 2), (0, 3), (0, 4), (0, 5), (0, 6)], [(0, 2), (0, 3), (0, 4), (0, 5), (0, 7)], [(0, 2), (0, 3), (0, 4), (0, 5), (0, 8)], [(0, 2), (0, 3), (0, 4), (0, 5), (0, 9)], [(0, 2), (0, 3), (0, 4), (0, 5), (0, 10)], [(0, 2), (0, 3), (0, 4), (0, 5), (0, 11)], [(0, 2), (0, 3), (0, 4), (0, 6), (0, 7)], [(0, 2), (0, 3), (0, 4), (0, 6), (0, 8)], [(0, 2), (0, 3), (0, 4), (0, 6), (0, 9)], [(0, 2), (0, 3), (0, 4), (0, 6), (0, 10)], [(0, 2), (0, 3), (0, 4), (0, 6), (0, 11)], [(0, 2), (0, 3), (0, 4), (0, 7), (0, 8)], [(0, 2), (0, 3), (0, 4), (0, 7), (0, 9)], [(0, 2), (0, 3), (0, 4), (0, 7), (0, 10)], [(0, 2), (0, 3), (0, 4), (0, 7), (0, 11)], [(0, 2), (0, 3), (0, 4), (0, 8), (0, 9)], [(0, 2), (0, 3), (0, 4), (0, 8), (0, 10)], [(0, 2), (0, 3), (0, 4), (0, 8), (0, 11)], [(0, 2), (0, 3), (0, 4), (0, 9), (0, 10)], [(0, 2), (0, 3), (0, 4), (0, 9), (0, 11)], [(0, 2), (0, 3), (0, 4), (0, 10), (0, 11)], [(0, 2), (0, 3), (0, 5), (0, 6), (0, 7)], [(0, 2), (0, 3), (0, 5), (0, 6), (0, 8)], [(0, 2), (0, 3), (0, 5), (0, 6), (0, 9)], [(0, 2), (0, 3), (0, 5), (0, 6), (0, 10)], [(0, 2), (0, 3), (0, 5), (0, 6), (0, 11)], [(0, 2), (0, 3), (0, 5), (0, 7), (0, 8)], [(0, 2), (0, 3), (0, 5), (0, 7), (0, 9)], [(0, 2), (0, 3), (0, 5), (0, 7), (0, 10)], [(0, 2), (0, 3), (0, 5), (0, 7), (0, 11)], [(0, 2), (0, 3), (0, 5), (0, 8), (0, 9)], [(0, 2), (0, 3), (0, 5), (0, 8), (0, 10)], [(0, 2), (0, 3), (0, 5), (0, 8), (0, 11)], [(0, 2), (0, 3), (0, 5), (0, 9), (0, 10)], [(0, 2), (0, 3), (0, 5), (0, 9), (0, 11)], [(0, 2), (0, 3), (0, 5), (0, 10), (0, 11)], [(0, 2), (0, 3), (0, 6), (0, 7), (0, 8)], [(0, 2), (0, 3), (0, 6), (0, 7), (0, 9)], [(0, 2), (0, 3), (0, 6), (0, 7), (0, 10)], [(0, 2), (0, 3), (0, 6), (0, 7), (0, 11)], [(0, 2), (0, 3), (0, 6), (0, 8), (0, 9)], [(0, 2), (0, 3), (0, 6), (0, 8), (0, 10)], [(0, 2), (0, 3), (0, 6), (0, 8), (0, 11)], [(0, 2), (0, 3), (0, 6), (0, 9), (0, 10)], [(0, 2), (0, 3), (0, 6), (0, 9), (0, 11)], [(0, 2), (0, 3), (0, 6), (0, 10), (0, 11)], [(0, 2), (0, 3), (0, 7), (0, 8), (0, 9)], [(0, 2), (0, 3), (0, 7), (0, 8), (0, 10)], [(0, 2), (0, 3), (0, 7), (0, 8), (0, 11)], [(0, 2), (0, 3), (0, 7), (0, 9), (0, 10)], [(0, 2), (0, 3), (0, 7), (0, 9), (0, 11)], [(0, 2), (0, 3), (0, 7), (0, 10), (0, 11)], [(0, 2), (0, 3), (0, 8), (0, 9), (0, 10)], [(0, 2), (0, 3), (0, 8), (0, 9), (0, 11)], [(0, 2), (0, 3), (0, 8), (0, 10), (0, 11)], [(0, 2), (0, 3), (0, 9), (0, 10), (0, 11)], [(0, 2), (0, 4), (0, 5), (0, 6), (0, 7)], [(0, 2), (0, 4), (0, 5), (0, 6), (0, 8)], [(0, 2), (0, 4), (0, 5), (0, 6), (0, 9)], [(0, 2), (0, 4), (0, 5), (0, 6), (0, 10)], [(0, 2), (0, 4), (0, 5), (0, 6), (0, 11)], [(0, 2), (0, 4), (0, 5), (0, 7), (0, 8)], [(0, 2), (0, 4), (0, 5), (0, 7), (0, 9)], [(0, 2), (0, 4), (0, 5), (0, 7), (0, 10)], [(0, 2), (0, 4), (0, 5), (0, 7), (0, 11)], [(0, 2), (0, 4), (0, 5), (0, 8), (0, 9)], [(0, 2), (0, 4), (0, 5), (0, 8), (0, 10)], [(0, 2), (0, 4), (0, 5), (0, 8), (0, 11)], [(0, 2), (0, 4), (0, 5), (0, 9), (0, 10)], [(0, 2), (0, 4), (0, 5), (0, 9), (0, 11)], [(0, 2), (0, 4), (0, 5), (0, 10), (0, 11)], [(0, 2), (0, 4), (0, 6), (0, 7), (0, 8)], [(0, 2), (0, 4), (0, 6), (0, 7), (0, 9)], [(0, 2), (0, 4), (0, 6), (0, 7), (0, 10)], [(0, 2), (0, 4), (0, 6), (0, 7), (0, 11)], [(0, 2), (0, 4), (0, 6), (0, 8), (0, 9)], [(0, 2), (0, 4), (0, 6), (0, 8), (0, 10)], [(0, 2), (0, 4), (0, 6), (0, 8), (0, 11)], [(0, 2), (0, 4), (0, 6), (0, 9), (0, 10)], [(0, 2), (0, 4), (0, 6), (0, 9), (0, 11)], [(0, 2), (0, 4), (0, 6), (0, 10), (0, 11)], [(0, 2), (0, 4), (0, 7), (0, 8), (0, 9)], [(0, 2), (0, 4), (0, 7), (0, 8), (0, 10)], [(0, 2), (0, 4), (0, 7), (0, 8), (0, 11)], [(0, 2), (0, 4), (0, 7), (0, 9), (0, 10)], [(0, 2), (0, 4), (0, 7), (0, 9), (0, 11)], [(0, 2), (0, 4), (0, 7), (0, 10), (0, 11)], [(0, 2), (0, 4), (0, 8), (0, 9), (0, 10)], [(0, 2), (0, 4), (0, 8), (0, 9), (0, 11)], [(0, 2), (0, 4), (0, 8), (0, 10), (0, 11)], [(0, 2), (0, 4), (0, 9), (0, 10), (0, 11)], [(0, 2), (0, 5), (0, 6), (0, 7), (0, 8)], [(0, 2), (0, 5), (0, 6), (0, 7), (0, 9)], [(0, 2), (0, 5), (0, 6), (0, 7), (0, 10)], [(0, 2), (0, 5), (0, 6), (0, 7), (0, 11)], [(0, 2), (0, 5), (0, 6), (0, 8), (0, 9)], [(0, 2), (0, 5), (0, 6), (0, 8), (0, 10)], [(0, 2), (0, 5), (0, 6), (0, 8), (0, 11)], [(0, 2), (0, 5), (0, 6), (0, 9), (0, 10)], [(0, 2), (0, 5), (0, 6), (0, 9), (0, 11)], [(0, 2), (0, 5), (0, 6), (0, 10), (0, 11)], [(0, 2), (0, 5), (0, 7), (0, 8), (0, 9)], [(0, 2), (0, 5), (0, 7), (0, 8), (0, 10)], [(0, 2), (0, 5), (0, 7), (0, 8), (0, 11)], [(0, 2), (0, 5), (0, 7), (0, 9), (0, 10)], [(0, 2), (0, 5), (0, 7), (0, 9), (0, 11)], [(0, 2), (0, 5), (0, 7), (0, 10), (0, 11)], [(0, 2), (0, 5), (0, 8), (0, 9), (0, 10)], [(0, 2), (0, 5), (0, 8), (0, 9), (0, 11)], [(0, 2), (0, 5), (0, 8), (0, 10), (0, 11)], [(0, 2), (0, 5), (0, 9), (0, 10), (0, 11)], [(0, 2), (0, 6), (0, 7), (0, 8), (0, 9)], [(0, 2), (0, 6), (0, 7), (0, 8), (0, 10)], [(0, 2), (0, 6), (0, 7), (0, 8), (0, 11)], [(0, 2), (0, 6), (0, 7), (0, 9), (0, 10)], [(0, 2), (0, 6), (0, 7), (0, 9), (0, 11)], [(0, 2), (0, 6), (0, 7), (0, 10), (0, 11)], [(0, 2), (0, 6), (0, 8), (0, 9), (0, 10)], [(0, 2), (0, 6), (0, 8), (0, 9), (0, 11)], [(0, 2), (0, 6), (0, 8), (0, 10), (0, 11)], [(0, 2), (0, 6), (0, 9), (0, 10), (0, 11)], [(0, 2), (0, 7), (0, 8), (0, 9), (0, 10)], [(0, 2), (0, 7), (0, 8), (0, 9), (0, 11)], [(0, 2), (0, 7), (0, 8), (0, 10), (0, 11)], [(0, 2), (0, 7), (0, 9), (0, 10), (0, 11)], [(0, 2), (0, 8), (0, 9), (0, 10), (0, 11)], [(0, 3), (0, 4), (0, 5), (0, 6), (0, 7)], [(0, 3), (0, 4), (0, 5), (0, 6), (0, 8)], [(0, 3), (0, 4), (0, 5), (0, 6), (0, 9)], [(0, 3), (0, 4), (0, 5), (0, 6), (0, 10)], [(0, 3), (0, 4), (0, 5), (0, 6), (0, 11)], [(0, 3), (0, 4), (0, 5), (0, 7), (0, 8)], [(0, 3), (0, 4), (0, 5), (0, 7), (0, 9)], [(0, 3), (0, 4), (0, 5), (0, 7), (0, 10)], [(0, 3), (0, 4), (0, 5), (0, 7), (0, 11)], [(0, 3), (0, 4), (0, 5), (0, 8), (0, 9)], [(0, 3), (0, 4), (0, 5), (0, 8), (0, 10)], [(0, 3), (0, 4), (0, 5), (0, 8), (0, 11)], [(0, 3), (0, 4), (0, 5), (0, 9), (0, 10)], [(0, 3), (0, 4), (0, 5), (0, 9), (0, 11)], [(0, 3), (0, 4), (0, 5), (0, 10), (0, 11)], [(0, 3), (0, 4), (0, 6), (0, 7), (0, 8)], [(0, 3), (0, 4), (0, 6), (0, 7), (0, 9)], [(0, 3), (0, 4), (0, 6), (0, 7), (0, 10)], [(0, 3), (0, 4), (0, 6), (0, 7), (0, 11)], [(0, 3), (0, 4), (0, 6), (0, 8), (0, 9)], [(0, 3), (0, 4), (0, 6), (0, 8), (0, 10)], [(0, 3), (0, 4), (0, 6), (0, 8), (0, 11)], [(0, 3), (0, 4), (0, 6), (0, 9), (0, 10)], [(0, 3), (0, 4), (0, 6), (0, 9), (0, 11)], [(0, 3), (0, 4), (0, 6), (0, 10), (0, 11)], [(0, 3), (0, 4), (0, 7), (0, 8), (0, 9)], [(0, 3), (0, 4), (0, 7), (0, 8), (0, 10)], [(0, 3), (0, 4), (0, 7), (0, 8), (0, 11)], [(0, 3), (0, 4), (0, 7), (0, 9), (0, 10)], [(0, 3), (0, 4), (0, 7), (0, 9), (0, 11)], [(0, 3), (0, 4), (0, 7), (0, 10), (0, 11)], [(0, 3), (0, 4), (0, 8), (0, 9), (0, 10)], [(0, 3), (0, 4), (0, 8), (0, 9), (0, 11)], [(0, 3), (0, 4), (0, 8), (0, 10), (0, 11)], [(0, 3), (0, 4), (0, 9), (0, 10), (0, 11)], [(0, 3), (0, 5), (0, 6), (0, 7), (0, 8)], [(0, 3), (0, 5), (0, 6), (0, 7), (0, 9)], [(0, 3), (0, 5), (0, 6), (0, 7), (0, 10)], [(0, 3), (0, 5), (0, 6), (0, 7), (0, 11)], [(0, 3), (0, 5), (0, 6), (0, 8), (0, 9)], [(0, 3), (0, 5), (0, 6), (0, 8), (0, 10)], [(0, 3), (0, 5), (0, 6), (0, 8), (0, 11)], [(0, 3), (0, 5), (0, 6), (0, 9), (0, 10)], [(0, 3), (0, 5), (0, 6), (0, 9), (0, 11)], [(0, 3), (0, 5), (0, 6), (0, 10), (0, 11)], [(0, 3), (0, 5), (0, 7), (0, 8), (0, 9)], [(0, 3), (0, 5), (0, 7), (0, 8), (0, 10)], [(0, 3), (0, 5), (0, 7), (0, 8), (0, 11)], [(0, 3), (0, 5), (0, 7), (0, 9), (0, 10)], [(0, 3), (0, 5), (0, 7), (0, 9), (0, 11)], [(0, 3), (0, 5), (0, 7), (0, 10), (0, 11)], [(0, 3), (0, 5), (0, 8), (0, 9), (0, 10)], [(0, 3), (0, 5), (0, 8), (0, 9), (0, 11)], [(0, 3), (0, 5), (0, 8), (0, 10), (0, 11)], [(0, 3), (0, 5), (0, 9), (0, 10), (0, 11)], [(0, 3), (0, 6), (0, 7), (0, 8), (0, 9)], [(0, 3), (0, 6), (0, 7), (0, 8), (0, 10)], [(0, 3), (0, 6), (0, 7), (0, 8), (0, 11)], [(0, 3), (0, 6), (0, 7), (0, 9), (0, 10)], [(0, 3), (0, 6), (0, 7), (0, 9), (0, 11)], [(0, 3), (0, 6), (0, 7), (0, 10), (0, 11)], [(0, 3), (0, 6), (0, 8), (0, 9), (0, 10)], [(0, 3), (0, 6), (0, 8), (0, 9), (0, 11)], [(0, 3), (0, 6), (0, 8), (0, 10), (0, 11)], [(0, 3), (0, 6), (0, 9), (0, 10), (0, 11)], [(0, 3), (0, 7), (0, 8), (0, 9), (0, 10)], [(0, 3), (0, 7), (0, 8), (0, 9), (0, 11)], [(0, 3), (0, 7), (0, 8), (0, 10), (0, 11)], [(0, 3), (0, 7), (0, 9), (0, 10), (0, 11)], [(0, 3), (0, 8), (0, 9), (0, 10), (0, 11)], [(0, 4), (0, 5), (0, 6), (0, 7), (0, 8)], [(0, 4), (0, 5), (0, 6), (0, 7), (0, 9)], [(0, 4), (0, 5), (0, 6), (0, 7), (0, 10)], [(0, 4), (0, 5), (0, 6), (0, 7), (0, 11)], [(0, 4), (0, 5), (0, 6), (0, 8), (0, 9)], [(0, 4), (0, 5), (0, 6), (0, 8), (0, 10)], [(0, 4), (0, 5), (0, 6), (0, 8), (0, 11)], [(0, 4), (0, 5), (0, 6), (0, 9), (0, 10)], [(0, 4), (0, 5), (0, 6), (0, 9), (0, 11)], [(0, 4), (0, 5), (0, 6), (0, 10), (0, 11)], [(0, 4), (0, 5), (0, 7), (0, 8), (0, 9)], [(0, 4), (0, 5), (0, 7), (0, 8), (0, 10)], [(0, 4), (0, 5), (0, 7), (0, 8), (0, 11)], [(0, 4), (0, 5), (0, 7), (0, 9), (0, 10)], [(0, 4), (0, 5), (0, 7), (0, 9), (0, 11)], [(0, 4), (0, 5), (0, 7), (0, 10), (0, 11)], [(0, 4), (0, 5), (0, 8), (0, 9), (0, 10)], [(0, 4), (0, 5), (0, 8), (0, 9), (0, 11)], [(0, 4), (0, 5), (0, 8), (0, 10), (0, 11)], [(0, 4), (0, 5), (0, 9), (0, 10), (0, 11)], [(0, 4), (0, 6), (0, 7), (0, 8), (0, 9)], [(0, 4), (0, 6), (0, 7), (0, 8), (0, 10)], [(0, 4), (0, 6), (0, 7), (0, 8), (0, 11)], [(0, 4), (0, 6), (0, 7), (0, 9), (0, 10)], [(0, 4), (0, 6), (0, 7), (0, 9), (0, 11)], [(0, 4), (0, 6), (0, 7), (0, 10), (0, 11)], [(0, 4), (0, 6), (0, 8), (0, 9), (0, 10)], [(0, 4), (0, 6), (0, 8), (0, 9), (0, 11)], [(0, 4), (0, 6), (0, 8), (0, 10), (0, 11)], [(0, 4), (0, 6), (0, 9), (0, 10), (0, 11)], [(0, 4), (0, 7), (0, 8), (0, 9), (0, 10)], [(0, 4), (0, 7), (0, 8), (0, 9), (0, 11)], [(0, 4), (0, 7), (0, 8), (0, 10), (0, 11)], [(0, 4), (0, 7), (0, 9), (0, 10), (0, 11)], [(0, 4), (0, 8), (0, 9), (0, 10), (0, 11)], [(0, 5), (0, 6), (0, 7), (0, 8), (0, 9)], [(0, 5), (0, 6), (0, 7), (0, 8), (0, 10)], [(0, 5), (0, 6), (0, 7), (0, 8), (0, 11)], [(0, 5), (0, 6), (0, 7), (0, 9), (0, 10)], [(0, 5), (0, 6), (0, 7), (0, 9), (0, 11)], [(0, 5), (0, 6), (0, 7), (0, 10), (0, 11)], [(0, 5), (0, 6), (0, 8), (0, 9), (0, 10)], [(0, 5), (0, 6), (0, 8), (0, 9), (0, 11)], [(0, 5), (0, 6), (0, 8), (0, 10), (0, 11)], [(0, 5), (0, 6), (0, 9), (0, 10), (0, 11)], [(0, 5), (0, 7), (0, 8), (0, 9), (0, 10)], [(0, 5), (0, 7), (0, 8), (0, 9), (0, 11)], [(0, 5), (0, 7), (0, 8), (0, 10), (0, 11)], [(0, 5), (0, 7), (0, 9), (0, 10), (0, 11)], [(0, 5), (0, 8), (0, 9), (0, 10), (0, 11)], [(0, 6), (0, 7), (0, 8), (0, 9), (0, 10)], [(0, 6), (0, 7), (0, 8), (0, 9), (0, 11)], [(0, 6), (0, 7), (0, 8), (0, 10), (0, 11)], [(0, 6), (0, 7), (0, 9), (0, 10), (0, 11)], [(0, 6), (0, 8), (0, 9), (0, 10), (0, 11)], [(0, 7), (0, 8), (0, 9), (0, 10), (0, 11)], [(0, 0), (0, 1), (0, 2), (0, 3), (0, 4), (0, 5)], [(0, 0), (0, 1), (0, 2), (0, 3), (0, 4), (0, 6)], [(0, 0), (0, 1), (0, 2), (0, 3), (0, 4), (0, 7)], [(0, 0), (0, 1), (0, 2), (0, 3), (0, 4), (0, 8)], [(0, 0), (0, 1), (0, 2), (0, 3), (0, 4), (0, 9)], [(0, 0), (0, 1), (0, 2), (0, 3), (0, 4), (0, 10)], [(0, 0), (0, 1), (0, 2), (0, 3), (0, 4), (0, 11)], [(0, 0), (0, 1), (0, 2), (0, 3), (0, 5), (0, 6)], [(0, 0), (0, 1), (0, 2), (0, 3), (0, 5), (0, 7)], [(0, 0), (0, 1), (0, 2), (0, 3), (0, 5), (0, 8)], [(0, 0), (0, 1), (0, 2), (0, 3), (0, 5), (0, 9)], [(0, 0), (0, 1), (0, 2), (0, 3), (0, 5), (0, 10)], [(0, 0), (0, 1), (0, 2), (0, 3), (0, 5), (0, 11)], [(0, 0), (0, 1), (0, 2), (0, 3), (0, 6), (0, 7)], [(0, 0), (0, 1), (0, 2), (0, 3), (0, 6), (0, 8)], [(0, 0), (0, 1), (0, 2), (0, 3), (0, 6), (0, 9)], [(0, 0), (0, 1), (0, 2), (0, 3), (0, 6), (0, 10)], [(0, 0), (0, 1), (0, 2), (0, 3), (0, 6), (0, 11)], [(0, 0), (0, 1), (0, 2), (0, 3), (0, 7), (0, 8)], [(0, 0), (0, 1), (0, 2), (0, 3), (0, 7), (0, 9)], [(0, 0), (0, 1), (0, 2), (0, 3), (0, 7), (0, 10)], [(0, 0), (0, 1), (0, 2), (0, 3), (0, 7), (0, 11)], [(0, 0), (0, 1), (0, 2), (0, 3), (0, 8), (0, 9)], [(0, 0), (0, 1), (0, 2), (0, 3), (0, 8), (0, 10)], [(0, 0), (0, 1), (0, 2), (0, 3), (0, 8), (0, 11)], [(0, 0), (0, 1), (0, 2), (0, 3), (0, 9), (0, 10)], [(0, 0), (0, 1), (0, 2), (0, 3), (0, 9), (0, 11)], [(0, 0), (0, 1), (0, 2), (0, 3), (0, 10), (0, 11)], [(0, 0), (0, 1), (0, 2), (0, 4), (0, 5), (0, 6)], [(0, 0), (0, 1), (0, 2), (0, 4), (0, 5), (0, 7)], [(0, 0), (0, 1), (0, 2), (0, 4), (0, 5), (0, 8)], [(0, 0), (0, 1), (0, 2), (0, 4), (0, 5), (0, 9)], [(0, 0), (0, 1), (0, 2), (0, 4), (0, 5), (0, 10)], [(0, 0), (0, 1), (0, 2), (0, 4), (0, 5), (0, 11)], [(0, 0), (0, 1), (0, 2), (0, 4), (0, 6), (0, 7)], [(0, 0), (0, 1), (0, 2), (0, 4), (0, 6), (0, 8)], [(0, 0), (0, 1), (0, 2), (0, 4), (0, 6), (0, 9)], [(0, 0), (0, 1), (0, 2), (0, 4), (0, 6), (0, 10)], [(0, 0), (0, 1), (0, 2), (0, 4), (0, 6), (0, 11)], [(0, 0), (0, 1), (0, 2), (0, 4), (0, 7), (0, 8)], [(0, 0), (0, 1), (0, 2), (0, 4), (0, 7), (0, 9)], [(0, 0), (0, 1), (0, 2), (0, 4), (0, 7), (0, 10)], [(0, 0), (0, 1), (0, 2), (0, 4), (0, 7), (0, 11)], [(0, 0), (0, 1), (0, 2), (0, 4), (0, 8), (0, 9)], [(0, 0), (0, 1), (0, 2), (0, 4), (0, 8), (0, 10)], [(0, 0), (0, 1), (0, 2), (0, 4), (0, 8), (0, 11)], [(0, 0), (0, 1), (0, 2), (0, 4), (0, 9), (0, 10)], [(0, 0), (0, 1), (0, 2), (0, 4), (0, 9), (0, 11)], [(0, 0), (0, 1), (0, 2), (0, 4), (0, 10), (0, 11)], [(0, 0), (0, 1), (0, 2), (0, 5), (0, 6), (0, 7)], [(0, 0), (0, 1), (0, 2), (0, 5), (0, 6), (0, 8)], [(0, 0), (0, 1), (0, 2), (0, 5), (0, 6), (0, 9)], [(0, 0), (0, 1), (0, 2), (0, 5), (0, 6), (0, 10)], [(0, 0), (0, 1), (0, 2), (0, 5), (0, 6), (0, 11)], [(0, 0), (0, 1), (0, 2), (0, 5), (0, 7), (0, 8)], [(0, 0), (0, 1), (0, 2), (0, 5), (0, 7), (0, 9)], [(0, 0), (0, 1), (0, 2), (0, 5), (0, 7), (0, 10)], [(0, 0), (0, 1), (0, 2), (0, 5), (0, 7), (0, 11)], [(0, 0), (0, 1), (0, 2), (0, 5), (0, 8), (0, 9)], [(0, 0), (0, 1), (0, 2), (0, 5), (0, 8), (0, 10)], [(0, 0), (0, 1), (0, 2), (0, 5), (0, 8), (0, 11)], [(0, 0), (0, 1), (0, 2), (0, 5), (0, 9), (0, 10)], [(0, 0), (0, 1), (0, 2), (0, 5), (0, 9), (0, 11)], [(0, 0), (0, 1), (0, 2), (0, 5), (0, 10), (0, 11)], [(0, 0), (0, 1), (0, 2), (0, 6), (0, 7), (0, 8)], [(0, 0), (0, 1), (0, 2), (0, 6), (0, 7), (0, 9)], [(0, 0), (0, 1), (0, 2), (0, 6), (0, 7), (0, 10)], [(0, 0), (0, 1), (0, 2), (0, 6), (0, 7), (0, 11)], [(0, 0), (0, 1), (0, 2), (0, 6), (0, 8), (0, 9)], [(0, 0), (0, 1), (0, 2), (0, 6), (0, 8), (0, 10)], [(0, 0), (0, 1), (0, 2), (0, 6), (0, 8), (0, 11)], [(0, 0), (0, 1), (0, 2), (0, 6), (0, 9), (0, 10)], [(0, 0), (0, 1), (0, 2), (0, 6), (0, 9), (0, 11)], [(0, 0), (0, 1), (0, 2), (0, 6), (0, 10), (0, 11)], [(0, 0), (0, 1), (0, 2), (0, 7), (0, 8), (0, 9)], [(0, 0), (0, 1), (0, 2), (0, 7), (0, 8), (0, 10)], [(0, 0), (0, 1), (0, 2), (0, 7), (0, 8), (0, 11)], [(0, 0), (0, 1), (0, 2), (0, 7), (0, 9), (0, 10)], [(0, 0), (0, 1), (0, 2), (0, 7), (0, 9), (0, 11)], [(0, 0), (0, 1), (0, 2), (0, 7), (0, 10), (0, 11)], [(0, 0), (0, 1), (0, 2), (0, 8), (0, 9), (0, 10)], [(0, 0), (0, 1), (0, 2), (0, 8), (0, 9), (0, 11)], [(0, 0), (0, 1), (0, 2), (0, 8), (0, 10), (0, 11)], [(0, 0), (0, 1), (0, 2), (0, 9), (0, 10), (0, 11)], [(0, 0), (0, 1), (0, 3), (0, 4), (0, 5), (0, 6)], [(0, 0), (0, 1), (0, 3), (0, 4), (0, 5), (0, 7)], [(0, 0), (0, 1), (0, 3), (0, 4), (0, 5), (0, 8)], [(0, 0), (0, 1), (0, 3), (0, 4), (0, 5), (0, 9)], [(0, 0), (0, 1), (0, 3), (0, 4), (0, 5), (0, 10)], [(0, 0), (0, 1), (0, 3), (0, 4), (0, 5), (0, 11)], [(0, 0), (0, 1), (0, 3), (0, 4), (0, 6), (0, 7)], [(0, 0), (0, 1), (0, 3), (0, 4), (0, 6), (0, 8)], [(0, 0), (0, 1), (0, 3), (0, 4), (0, 6), (0, 9)], [(0, 0), (0, 1), (0, 3), (0, 4), (0, 6), (0, 10)], [(0, 0), (0, 1), (0, 3), (0, 4), (0, 6), (0, 11)], [(0, 0), (0, 1), (0, 3), (0, 4), (0, 7), (0, 8)], [(0, 0), (0, 1), (0, 3), (0, 4), (0, 7), (0, 9)], [(0, 0), (0, 1), (0, 3), (0, 4), (0, 7), (0, 10)], [(0, 0), (0, 1), (0, 3), (0, 4), (0, 7), (0, 11)], [(0, 0), (0, 1), (0, 3), (0, 4), (0, 8), (0, 9)], [(0, 0), (0, 1), (0, 3), (0, 4), (0, 8), (0, 10)], [(0, 0), (0, 1), (0, 3), (0, 4), (0, 8), (0, 11)], [(0, 0), (0, 1), (0, 3), (0, 4), (0, 9), (0, 10)], [(0, 0), (0, 1), (0, 3), (0, 4), (0, 9), (0, 11)], [(0, 0), (0, 1), (0, 3), (0, 4), (0, 10), (0, 11)], [(0, 0), (0, 1), (0, 3), (0, 5), (0, 6), (0, 7)], [(0, 0), (0, 1), (0, 3), (0, 5), (0, 6), (0, 8)], [(0, 0), (0, 1), (0, 3), (0, 5), (0, 6), (0, 9)], [(0, 0), (0, 1), (0, 3), (0, 5), (0, 6), (0, 10)], [(0, 0), (0, 1), (0, 3), (0, 5), (0, 6), (0, 11)], [(0, 0), (0, 1), (0, 3), (0, 5), (0, 7), (0, 8)], [(0, 0), (0, 1), (0, 3), (0, 5), (0, 7), (0, 9)], [(0, 0), (0, 1), (0, 3), (0, 5), (0, 7), (0, 10)], [(0, 0), (0, 1), (0, 3), (0, 5), (0, 7), (0, 11)], [(0, 0), (0, 1), (0, 3), (0, 5), (0, 8), (0, 9)], [(0, 0), (0, 1), (0, 3), (0, 5), (0, 8), (0, 10)], [(0, 0), (0, 1), (0, 3), (0, 5), (0, 8), (0, 11)], [(0, 0), (0, 1), (0, 3), (0, 5), (0, 9), (0, 10)], [(0, 0), (0, 1), (0, 3), (0, 5), (0, 9), (0, 11)], [(0, 0), (0, 1), (0, 3), (0, 5), (0, 10), (0, 11)], [(0, 0), (0, 1), (0, 3), (0, 6), (0, 7), (0, 8)], [(0, 0), (0, 1), (0, 3), (0, 6), (0, 7), (0, 9)], [(0, 0), (0, 1), (0, 3), (0, 6), (0, 7), (0, 10)], [(0, 0), (0, 1), (0, 3), (0, 6), (0, 7), (0, 11)], [(0, 0), (0, 1), (0, 3), (0, 6), (0, 8), (0, 9)], [(0, 0), (0, 1), (0, 3), (0, 6), (0, 8), (0, 10)], [(0, 0), (0, 1), (0, 3), (0, 6), (0, 8), (0, 11)], [(0, 0), (0, 1), (0, 3), (0, 6), (0, 9), (0, 10)], [(0, 0), (0, 1), (0, 3), (0, 6), (0, 9), (0, 11)], [(0, 0), (0, 1), (0, 3), (0, 6), (0, 10), (0, 11)], [(0, 0), (0, 1), (0, 3), (0, 7), (0, 8), (0, 9)], [(0, 0), (0, 1), (0, 3), (0, 7), (0, 8), (0, 10)], [(0, 0), (0, 1), (0, 3), (0, 7), (0, 8), (0, 11)], [(0, 0), (0, 1), (0, 3), (0, 7), (0, 9), (0, 10)], [(0, 0), (0, 1), (0, 3), (0, 7), (0, 9), (0, 11)], [(0, 0), (0, 1), (0, 3), (0, 7), (0, 10), (0, 11)], [(0, 0), (0, 1), (0, 3), (0, 8), (0, 9), (0, 10)], [(0, 0), (0, 1), (0, 3), (0, 8), (0, 9), (0, 11)], [(0, 0), (0, 1), (0, 3), (0, 8), (0, 10), (0, 11)], [(0, 0), (0, 1), (0, 3), (0, 9), (0, 10), (0, 11)], [(0, 0), (0, 1), (0, 4), (0, 5), (0, 6), (0, 7)], [(0, 0), (0, 1), (0, 4), (0, 5), (0, 6), (0, 8)], [(0, 0), (0, 1), (0, 4), (0, 5), (0, 6), (0, 9)], [(0, 0), (0, 1), (0, 4), (0, 5), (0, 6), (0, 10)], [(0, 0), (0, 1), (0, 4), (0, 5), (0, 6), (0, 11)], [(0, 0), (0, 1), (0, 4), (0, 5), (0, 7), (0, 8)], [(0, 0), (0, 1), (0, 4), (0, 5), (0, 7), (0, 9)], [(0, 0), (0, 1), (0, 4), (0, 5), (0, 7), (0, 10)], [(0, 0), (0, 1), (0, 4), (0, 5), (0, 7), (0, 11)], [(0, 0), (0, 1), (0, 4), (0, 5), (0, 8), (0, 9)], [(0, 0), (0, 1), (0, 4), (0, 5), (0, 8), (0, 10)], [(0, 0), (0, 1), (0, 4), (0, 5), (0, 8), (0, 11)], [(0, 0), (0, 1), (0, 4), (0, 5), (0, 9), (0, 10)], [(0, 0), (0, 1), (0, 4), (0, 5), (0, 9), (0, 11)], [(0, 0), (0, 1), (0, 4), (0, 5), (0, 10), (0, 11)], [(0, 0), (0, 1), (0, 4), (0, 6), (0, 7), (0, 8)], [(0, 0), (0, 1), (0, 4), (0, 6), (0, 7), (0, 9)], [(0, 0), (0, 1), (0, 4), (0, 6), (0, 7), (0, 10)], [(0, 0), (0, 1), (0, 4), (0, 6), (0, 7), (0, 11)], [(0, 0), (0, 1), (0, 4), (0, 6), (0, 8), (0, 9)], [(0, 0), (0, 1), (0, 4), (0, 6), (0, 8), (0, 10)], [(0, 0), (0, 1), (0, 4), (0, 6), (0, 8), (0, 11)], [(0, 0), (0, 1), (0, 4), (0, 6), (0, 9), (0, 10)], [(0, 0), (0, 1), (0, 4), (0, 6), (0, 9), (0, 11)], [(0, 0), (0, 1), (0, 4), (0, 6), (0, 10), (0, 11)], [(0, 0), (0, 1), (0, 4), (0, 7), (0, 8), (0, 9)], [(0, 0), (0, 1), (0, 4), (0, 7), (0, 8), (0, 10)], [(0, 0), (0, 1), (0, 4), (0, 7), (0, 8), (0, 11)], [(0, 0), (0, 1), (0, 4), (0, 7), (0, 9), (0, 10)], [(0, 0), (0, 1), (0, 4), (0, 7), (0, 9), (0, 11)], [(0, 0), (0, 1), (0, 4), (0, 7), (0, 10), (0, 11)], [(0, 0), (0, 1), (0, 4), (0, 8), (0, 9), (0, 10)], [(0, 0), (0, 1), (0, 4), (0, 8), (0, 9), (0, 11)], [(0, 0), (0, 1), (0, 4), (0, 8), (0, 10), (0, 11)], [(0, 0), (0, 1), (0, 4), (0, 9), (0, 10), (0, 11)], [(0, 0), (0, 1), (0, 5), (0, 6), (0, 7), (0, 8)], [(0, 0), (0, 1), (0, 5), (0, 6), (0, 7), (0, 9)], [(0, 0), (0, 1), (0, 5), (0, 6), (0, 7), (0, 10)], [(0, 0), (0, 1), (0, 5), (0, 6), (0, 7), (0, 11)], [(0, 0), (0, 1), (0, 5), (0, 6), (0, 8), (0, 9)], [(0, 0), (0, 1), (0, 5), (0, 6), (0, 8), (0, 10)], [(0, 0), (0, 1), (0, 5), (0, 6), (0, 8), (0, 11)], [(0, 0), (0, 1), (0, 5), (0, 6), (0, 9), (0, 10)], [(0, 0), (0, 1), (0, 5), (0, 6), (0, 9), (0, 11)], [(0, 0), (0, 1), (0, 5), (0, 6), (0, 10), (0, 11)], [(0, 0), (0, 1), (0, 5), (0, 7), (0, 8), (0, 9)], [(0, 0), (0, 1), (0, 5), (0, 7), (0, 8), (0, 10)], [(0, 0), (0, 1), (0, 5), (0, 7), (0, 8), (0, 11)], [(0, 0), (0, 1), (0, 5), (0, 7), (0, 9), (0, 10)], [(0, 0), (0, 1), (0, 5), (0, 7), (0, 9), (0, 11)], [(0, 0), (0, 1), (0, 5), (0, 7), (0, 10), (0, 11)], [(0, 0), (0, 1), (0, 5), (0, 8), (0, 9), (0, 10)], [(0, 0), (0, 1), (0, 5), (0, 8), (0, 9), (0, 11)], [(0, 0), (0, 1), (0, 5), (0, 8), (0, 10), (0, 11)], [(0, 0), (0, 1), (0, 5), (0, 9), (0, 10), (0, 11)], [(0, 0), (0, 1), (0, 6), (0, 7), (0, 8), (0, 9)], [(0, 0), (0, 1), (0, 6), (0, 7), (0, 8), (0, 10)], [(0, 0), (0, 1), (0, 6), (0, 7), (0, 8), (0, 11)], [(0, 0), (0, 1), (0, 6), (0, 7), (0, 9), (0, 10)], [(0, 0), (0, 1), (0, 6), (0, 7), (0, 9), (0, 11)], [(0, 0), (0, 1), (0, 6), (0, 7), (0, 10), (0, 11)], [(0, 0), (0, 1), (0, 6), (0, 8), (0, 9), (0, 10)], [(0, 0), (0, 1), (0, 6), (0, 8), (0, 9), (0, 11)], [(0, 0), (0, 1), (0, 6), (0, 8), (0, 10), (0, 11)], [(0, 0), (0, 1), (0, 6), (0, 9), (0, 10), (0, 11)], [(0, 0), (0, 1), (0, 7), (0, 8), (0, 9), (0, 10)], [(0, 0), (0, 1), (0, 7), (0, 8), (0, 9), (0, 11)], [(0, 0), (0, 1), (0, 7), (0, 8), (0, 10), (0, 11)], [(0, 0), (0, 1), (0, 7), (0, 9), (0, 10), (0, 11)], [(0, 0), (0, 1), (0, 8), (0, 9), (0, 10), (0, 11)], [(0, 0), (0, 2), (0, 3), (0, 4), (0, 5), (0, 6)], [(0, 0), (0, 2), (0, 3), (0, 4), (0, 5), (0, 7)], [(0, 0), (0, 2), (0, 3), (0, 4), (0, 5), (0, 8)], [(0, 0), (0, 2), (0, 3), (0, 4), (0, 5), (0, 9)], [(0, 0), (0, 2), (0, 3), (0, 4), (0, 5), (0, 10)], [(0, 0), (0, 2), (0, 3), (0, 4), (0, 5), (0, 11)], [(0, 0), (0, 2), (0, 3), (0, 4), (0, 6), (0, 7)], [(0, 0), (0, 2), (0, 3), (0, 4), (0, 6), (0, 8)], [(0, 0), (0, 2), (0, 3), (0, 4), (0, 6), (0, 9)], [(0, 0), (0, 2), (0, 3), (0, 4), (0, 6), (0, 10)], [(0, 0), (0, 2), (0, 3), (0, 4), (0, 6), (0, 11)], [(0, 0), (0, 2), (0, 3), (0, 4), (0, 7), (0, 8)], [(0, 0), (0, 2), (0, 3), (0, 4), (0, 7), (0, 9)], [(0, 0), (0, 2), (0, 3), (0, 4), (0, 7), (0, 10)], [(0, 0), (0, 2), (0, 3), (0, 4), (0, 7), (0, 11)], [(0, 0), (0, 2), (0, 3), (0, 4), (0, 8), (0, 9)], [(0, 0), (0, 2), (0, 3), (0, 4), (0, 8), (0, 10)], [(0, 0), (0, 2), (0, 3), (0, 4), (0, 8), (0, 11)], [(0, 0), (0, 2), (0, 3), (0, 4), (0, 9), (0, 10)], [(0, 0), (0, 2), (0, 3), (0, 4), (0, 9), (0, 11)], [(0, 0), (0, 2), (0, 3), (0, 4), (0, 10), (0, 11)], [(0, 0), (0, 2), (0, 3), (0, 5), (0, 6), (0, 7)], [(0, 0), (0, 2), (0, 3), (0, 5), (0, 6), (0, 8)], [(0, 0), (0, 2), (0, 3), (0, 5), (0, 6), (0, 9)], [(0, 0), (0, 2), (0, 3), (0, 5), (0, 6), (0, 10)], [(0, 0), (0, 2), (0, 3), (0, 5), (0, 6), (0, 11)], [(0, 0), (0, 2), (0, 3), (0, 5), (0, 7), (0, 8)], [(0, 0), (0, 2), (0, 3), (0, 5), (0, 7), (0, 9)], [(0, 0), (0, 2), (0, 3), (0, 5), (0, 7), (0, 10)], [(0, 0), (0, 2), (0, 3), (0, 5), (0, 7), (0, 11)], [(0, 0), (0, 2), (0, 3), (0, 5), (0, 8), (0, 9)], [(0, 0), (0, 2), (0, 3), (0, 5), (0, 8), (0, 10)], [(0, 0), (0, 2), (0, 3), (0, 5), (0, 8), (0, 11)], [(0, 0), (0, 2), (0, 3), (0, 5), (0, 9), (0, 10)], [(0, 0), (0, 2), (0, 3), (0, 5), (0, 9), (0, 11)], [(0, 0), (0, 2), (0, 3), (0, 5), (0, 10), (0, 11)], [(0, 0), (0, 2), (0, 3), (0, 6), (0, 7), (0, 8)], [(0, 0), (0, 2), (0, 3), (0, 6), (0, 7), (0, 9)], [(0, 0), (0, 2), (0, 3), (0, 6), (0, 7), (0, 10)], [(0, 0), (0, 2), (0, 3), (0, 6), (0, 7), (0, 11)], [(0, 0), (0, 2), (0, 3), (0, 6), (0, 8), (0, 9)], [(0, 0), (0, 2), (0, 3), (0, 6), (0, 8), (0, 10)], [(0, 0), (0, 2), (0, 3), (0, 6), (0, 8), (0, 11)], [(0, 0), (0, 2), (0, 3), (0, 6), (0, 9), (0, 10)], [(0, 0), (0, 2), (0, 3), (0, 6), (0, 9), (0, 11)], [(0, 0), (0, 2), (0, 3), (0, 6), (0, 10), (0, 11)], [(0, 0), (0, 2), (0, 3), (0, 7), (0, 8), (0, 9)], [(0, 0), (0, 2), (0, 3), (0, 7), (0, 8), (0, 10)], [(0, 0), (0, 2), (0, 3), (0, 7), (0, 8), (0, 11)], [(0, 0), (0, 2), (0, 3), (0, 7), (0, 9), (0, 10)], [(0, 0), (0, 2), (0, 3), (0, 7), (0, 9), (0, 11)], [(0, 0), (0, 2), (0, 3), (0, 7), (0, 10), (0, 11)], [(0, 0), (0, 2), (0, 3), (0, 8), (0, 9), (0, 10)], [(0, 0), (0, 2), (0, 3), (0, 8), (0, 9), (0, 11)], [(0, 0), (0, 2), (0, 3), (0, 8), (0, 10), (0, 11)], [(0, 0), (0, 2), (0, 3), (0, 9), (0, 10), (0, 11)], [(0, 0), (0, 2), (0, 4), (0, 5), (0, 6), (0, 7)], [(0, 0), (0, 2), (0, 4), (0, 5), (0, 6), (0, 8)], [(0, 0), (0, 2), (0, 4), (0, 5), (0, 6), (0, 9)], [(0, 0), (0, 2), (0, 4), (0, 5), (0, 6), (0, 10)], [(0, 0), (0, 2), (0, 4), (0, 5), (0, 6), (0, 11)], [(0, 0), (0, 2), (0, 4), (0, 5), (0, 7), (0, 8)], [(0, 0), (0, 2), (0, 4), (0, 5), (0, 7), (0, 9)], [(0, 0), (0, 2), (0, 4), (0, 5), (0, 7), (0, 10)], [(0, 0), (0, 2), (0, 4), (0, 5), (0, 7), (0, 11)], [(0, 0), (0, 2), (0, 4), (0, 5), (0, 8), (0, 9)], [(0, 0), (0, 2), (0, 4), (0, 5), (0, 8), (0, 10)], [(0, 0), (0, 2), (0, 4), (0, 5), (0, 8), (0, 11)], [(0, 0), (0, 2), (0, 4), (0, 5), (0, 9), (0, 10)], [(0, 0), (0, 2), (0, 4), (0, 5), (0, 9), (0, 11)], [(0, 0), (0, 2), (0, 4), (0, 5), (0, 10), (0, 11)], [(0, 0), (0, 2), (0, 4), (0, 6), (0, 7), (0, 8)], [(0, 0), (0, 2), (0, 4), (0, 6), (0, 7), (0, 9)], [(0, 0), (0, 2), (0, 4), (0, 6), (0, 7), (0, 10)], [(0, 0), (0, 2), (0, 4), (0, 6), (0, 7), (0, 11)], [(0, 0), (0, 2), (0, 4), (0, 6), (0, 8), (0, 9)], [(0, 0), (0, 2), (0, 4), (0, 6), (0, 8), (0, 10)], [(0, 0), (0, 2), (0, 4), (0, 6), (0, 8), (0, 11)], [(0, 0), (0, 2), (0, 4), (0, 6), (0, 9), (0, 10)], [(0, 0), (0, 2), (0, 4), (0, 6), (0, 9), (0, 11)], [(0, 0), (0, 2), (0, 4), (0, 6), (0, 10), (0, 11)], [(0, 0), (0, 2), (0, 4), (0, 7), (0, 8), (0, 9)], [(0, 0), (0, 2), (0, 4), (0, 7), (0, 8), (0, 10)], [(0, 0), (0, 2), (0, 4), (0, 7), (0, 8), (0, 11)], [(0, 0), (0, 2), (0, 4), (0, 7), (0, 9), (0, 10)], [(0, 0), (0, 2), (0, 4), (0, 7), (0, 9), (0, 11)], [(0, 0), (0, 2), (0, 4), (0, 7), (0, 10), (0, 11)], [(0, 0), (0, 2), (0, 4), (0, 8), (0, 9), (0, 10)], [(0, 0), (0, 2), (0, 4), (0, 8), (0, 9), (0, 11)], [(0, 0), (0, 2), (0, 4), (0, 8), (0, 10), (0, 11)], [(0, 0), (0, 2), (0, 4), (0, 9), (0, 10), (0, 11)], [(0, 0), (0, 2), (0, 5), (0, 6), (0, 7), (0, 8)], [(0, 0), (0, 2), (0, 5), (0, 6), (0, 7), (0, 9)], [(0, 0), (0, 2), (0, 5), (0, 6), (0, 7), (0, 10)], [(0, 0), (0, 2), (0, 5), (0, 6), (0, 7), (0, 11)], [(0, 0), (0, 2), (0, 5), (0, 6), (0, 8), (0, 9)], [(0, 0), (0, 2), (0, 5), (0, 6), (0, 8), (0, 10)], [(0, 0), (0, 2), (0, 5), (0, 6), (0, 8), (0, 11)], [(0, 0), (0, 2), (0, 5), (0, 6), (0, 9), (0, 10)], [(0, 0), (0, 2), (0, 5), (0, 6), (0, 9), (0, 11)], [(0, 0), (0, 2), (0, 5), (0, 6), (0, 10), (0, 11)], [(0, 0), (0, 2), (0, 5), (0, 7), (0, 8), (0, 9)], [(0, 0), (0, 2), (0, 5), (0, 7), (0, 8), (0, 10)], [(0, 0), (0, 2), (0, 5), (0, 7), (0, 8), (0, 11)], [(0, 0), (0, 2), (0, 5), (0, 7), (0, 9), (0, 10)], [(0, 0), (0, 2), (0, 5), (0, 7), (0, 9), (0, 11)], [(0, 0), (0, 2), (0, 5), (0, 7), (0, 10), (0, 11)], [(0, 0), (0, 2), (0, 5), (0, 8), (0, 9), (0, 10)], [(0, 0), (0, 2), (0, 5), (0, 8), (0, 9), (0, 11)], [(0, 0), (0, 2), (0, 5), (0, 8), (0, 10), (0, 11)], [(0, 0), (0, 2), (0, 5), (0, 9), (0, 10), (0, 11)], [(0, 0), (0, 2), (0, 6), (0, 7), (0, 8), (0, 9)], [(0, 0), (0, 2), (0, 6), (0, 7), (0, 8), (0, 10)], [(0, 0), (0, 2), (0, 6), (0, 7), (0, 8), (0, 11)], [(0, 0), (0, 2), (0, 6), (0, 7), (0, 9), (0, 10)], [(0, 0), (0, 2), (0, 6), (0, 7), (0, 9), (0, 11)], [(0, 0), (0, 2), (0, 6), (0, 7), (0, 10), (0, 11)], [(0, 0), (0, 2), (0, 6), (0, 8), (0, 9), (0, 10)], [(0, 0), (0, 2), (0, 6), (0, 8), (0, 9), (0, 11)], [(0, 0), (0, 2), (0, 6), (0, 8), (0, 10), (0, 11)], [(0, 0), (0, 2), (0, 6), (0, 9), (0, 10), (0, 11)], [(0, 0), (0, 2), (0, 7), (0, 8), (0, 9), (0, 10)], [(0, 0), (0, 2), (0, 7), (0, 8), (0, 9), (0, 11)], [(0, 0), (0, 2), (0, 7), (0, 8), (0, 10), (0, 11)], [(0, 0), (0, 2), (0, 7), (0, 9), (0, 10), (0, 11)], [(0, 0), (0, 2), (0, 8), (0, 9), (0, 10), (0, 11)], [(0, 0), (0, 3), (0, 4), (0, 5), (0, 6), (0, 7)], [(0, 0), (0, 3), (0, 4), (0, 5), (0, 6), (0, 8)], [(0, 0), (0, 3), (0, 4), (0, 5), (0, 6), (0, 9)], [(0, 0), (0, 3), (0, 4), (0, 5), (0, 6), (0, 10)], [(0, 0), (0, 3), (0, 4), (0, 5), (0, 6), (0, 11)], [(0, 0), (0, 3), (0, 4), (0, 5), (0, 7), (0, 8)], [(0, 0), (0, 3), (0, 4), (0, 5), (0, 7), (0, 9)], [(0, 0), (0, 3), (0, 4), (0, 5), (0, 7), (0, 10)], [(0, 0), (0, 3), (0, 4), (0, 5), (0, 7), (0, 11)], [(0, 0), (0, 3), (0, 4), (0, 5), (0, 8), (0, 9)], [(0, 0), (0, 3), (0, 4), (0, 5), (0, 8), (0, 10)], [(0, 0), (0, 3), (0, 4), (0, 5), (0, 8), (0, 11)], [(0, 0), (0, 3), (0, 4), (0, 5), (0, 9), (0, 10)], [(0, 0), (0, 3), (0, 4), (0, 5), (0, 9), (0, 11)], [(0, 0), (0, 3), (0, 4), (0, 5), (0, 10), (0, 11)], [(0, 0), (0, 3), (0, 4), (0, 6), (0, 7), (0, 8)], [(0, 0), (0, 3), (0, 4), (0, 6), (0, 7), (0, 9)], [(0, 0), (0, 3), (0, 4), (0, 6), (0, 7), (0, 10)], [(0, 0), (0, 3), (0, 4), (0, 6), (0, 7), (0, 11)], [(0, 0), (0, 3), (0, 4), (0, 6), (0, 8), (0, 9)], [(0, 0), (0, 3), (0, 4), (0, 6), (0, 8), (0, 10)], [(0, 0), (0, 3), (0, 4), (0, 6), (0, 8), (0, 11)], [(0, 0), (0, 3), (0, 4), (0, 6), (0, 9), (0, 10)], [(0, 0), (0, 3), (0, 4), (0, 6), (0, 9), (0, 11)], [(0, 0), (0, 3), (0, 4), (0, 6), (0, 10), (0, 11)], [(0, 0), (0, 3), (0, 4), (0, 7), (0, 8), (0, 9)], [(0, 0), (0, 3), (0, 4), (0, 7), (0, 8), (0, 10)], [(0, 0), (0, 3), (0, 4), (0, 7), (0, 8), (0, 11)], [(0, 0), (0, 3), (0, 4), (0, 7), (0, 9), (0, 10)], [(0, 0), (0, 3), (0, 4), (0, 7), (0, 9), (0, 11)], [(0, 0), (0, 3), (0, 4), (0, 7), (0, 10), (0, 11)], [(0, 0), (0, 3), (0, 4), (0, 8), (0, 9), (0, 10)], [(0, 0), (0, 3), (0, 4), (0, 8), (0, 9), (0, 11)], [(0, 0), (0, 3), (0, 4), (0, 8), (0, 10), (0, 11)], [(0, 0), (0, 3), (0, 4), (0, 9), (0, 10), (0, 11)], [(0, 0), (0, 3), (0, 5), (0, 6), (0, 7), (0, 8)], [(0, 0), (0, 3), (0, 5), (0, 6), (0, 7), (0, 9)], [(0, 0), (0, 3), (0, 5), (0, 6), (0, 7), (0, 10)], [(0, 0), (0, 3), (0, 5), (0, 6), (0, 7), (0, 11)], [(0, 0), (0, 3), (0, 5), (0, 6), (0, 8), (0, 9)], [(0, 0), (0, 3), (0, 5), (0, 6), (0, 8), (0, 10)], [(0, 0), (0, 3), (0, 5), (0, 6), (0, 8), (0, 11)], [(0, 0), (0, 3), (0, 5), (0, 6), (0, 9), (0, 10)], [(0, 0), (0, 3), (0, 5), (0, 6), (0, 9), (0, 11)], [(0, 0), (0, 3), (0, 5), (0, 6), (0, 10), (0, 11)], [(0, 0), (0, 3), (0, 5), (0, 7), (0, 8), (0, 9)], [(0, 0), (0, 3), (0, 5), (0, 7), (0, 8), (0, 10)], [(0, 0), (0, 3), (0, 5), (0, 7), (0, 8), (0, 11)], [(0, 0), (0, 3), (0, 5), (0, 7), (0, 9), (0, 10)], [(0, 0), (0, 3), (0, 5), (0, 7), (0, 9), (0, 11)], [(0, 0), (0, 3), (0, 5), (0, 7), (0, 10), (0, 11)], [(0, 0), (0, 3), (0, 5), (0, 8), (0, 9), (0, 10)], [(0, 0), (0, 3), (0, 5), (0, 8), (0, 9), (0, 11)], [(0, 0), (0, 3), (0, 5), (0, 8), (0, 10), (0, 11)], [(0, 0), (0, 3), (0, 5), (0, 9), (0, 10), (0, 11)], [(0, 0), (0, 3), (0, 6), (0, 7), (0, 8), (0, 9)], [(0, 0), (0, 3), (0, 6), (0, 7), (0, 8), (0, 10)], [(0, 0), (0, 3), (0, 6), (0, 7), (0, 8), (0, 11)], [(0, 0), (0, 3), (0, 6), (0, 7), (0, 9), (0, 10)], [(0, 0), (0, 3), (0, 6), (0, 7), (0, 9), (0, 11)], [(0, 0), (0, 3), (0, 6), (0, 7), (0, 10), (0, 11)], [(0, 0), (0, 3), (0, 6), (0, 8), (0, 9), (0, 10)], [(0, 0), (0, 3), (0, 6), (0, 8), (0, 9), (0, 11)], [(0, 0), (0, 3), (0, 6), (0, 8), (0, 10), (0, 11)], [(0, 0), (0, 3), (0, 6), (0, 9), (0, 10), (0, 11)], [(0, 0), (0, 3), (0, 7), (0, 8), (0, 9), (0, 10)], [(0, 0), (0, 3), (0, 7), (0, 8), (0, 9), (0, 11)], [(0, 0), (0, 3), (0, 7), (0, 8), (0, 10), (0, 11)], [(0, 0), (0, 3), (0, 7), (0, 9), (0, 10), (0, 11)], [(0, 0), (0, 3), (0, 8), (0, 9), (0, 10), (0, 11)], [(0, 0), (0, 4), (0, 5), (0, 6), (0, 7), (0, 8)], [(0, 0), (0, 4), (0, 5), (0, 6), (0, 7), (0, 9)], [(0, 0), (0, 4), (0, 5), (0, 6), (0, 7), (0, 10)], [(0, 0), (0, 4), (0, 5), (0, 6), (0, 7), (0, 11)], [(0, 0), (0, 4), (0, 5), (0, 6), (0, 8), (0, 9)], [(0, 0), (0, 4), (0, 5), (0, 6), (0, 8), (0, 10)], [(0, 0), (0, 4), (0, 5), (0, 6), (0, 8), (0, 11)], [(0, 0), (0, 4), (0, 5), (0, 6), (0, 9), (0, 10)], [(0, 0), (0, 4), (0, 5), (0, 6), (0, 9), (0, 11)], [(0, 0), (0, 4), (0, 5), (0, 6), (0, 10), (0, 11)], [(0, 0), (0, 4), (0, 5), (0, 7), (0, 8), (0, 9)], [(0, 0), (0, 4), (0, 5), (0, 7), (0, 8), (0, 10)], [(0, 0), (0, 4), (0, 5), (0, 7), (0, 8), (0, 11)], [(0, 0), (0, 4), (0, 5), (0, 7), (0, 9), (0, 10)], [(0, 0), (0, 4), (0, 5), (0, 7), (0, 9), (0, 11)], [(0, 0), (0, 4), (0, 5), (0, 7), (0, 10), (0, 11)], [(0, 0), (0, 4), (0, 5), (0, 8), (0, 9), (0, 10)], [(0, 0), (0, 4), (0, 5), (0, 8), (0, 9), (0, 11)], [(0, 0), (0, 4), (0, 5), (0, 8), (0, 10), (0, 11)], [(0, 0), (0, 4), (0, 5), (0, 9), (0, 10), (0, 11)], [(0, 0), (0, 4), (0, 6), (0, 7), (0, 8), (0, 9)], [(0, 0), (0, 4), (0, 6), (0, 7), (0, 8), (0, 10)], [(0, 0), (0, 4), (0, 6), (0, 7), (0, 8), (0, 11)], [(0, 0), (0, 4), (0, 6), (0, 7), (0, 9), (0, 10)], [(0, 0), (0, 4), (0, 6), (0, 7), (0, 9), (0, 11)], [(0, 0), (0, 4), (0, 6), (0, 7), (0, 10), (0, 11)], [(0, 0), (0, 4), (0, 6), (0, 8), (0, 9), (0, 10)], [(0, 0), (0, 4), (0, 6), (0, 8), (0, 9), (0, 11)], [(0, 0), (0, 4), (0, 6), (0, 8), (0, 10), (0, 11)], [(0, 0), (0, 4), (0, 6), (0, 9), (0, 10), (0, 11)], [(0, 0), (0, 4), (0, 7), (0, 8), (0, 9), (0, 10)], [(0, 0), (0, 4), (0, 7), (0, 8), (0, 9), (0, 11)], [(0, 0), (0, 4), (0, 7), (0, 8), (0, 10), (0, 11)], [(0, 0), (0, 4), (0, 7), (0, 9), (0, 10), (0, 11)], [(0, 0), (0, 4), (0, 8), (0, 9), (0, 10), (0, 11)], [(0, 0), (0, 5), (0, 6), (0, 7), (0, 8), (0, 9)], [(0, 0), (0, 5), (0, 6), (0, 7), (0, 8), (0, 10)], [(0, 0), (0, 5), (0, 6), (0, 7), (0, 8), (0, 11)], [(0, 0), (0, 5), (0, 6), (0, 7), (0, 9), (0, 10)], [(0, 0), (0, 5), (0, 6), (0, 7), (0, 9), (0, 11)], [(0, 0), (0, 5), (0, 6), (0, 7), (0, 10), (0, 11)], [(0, 0), (0, 5), (0, 6), (0, 8), (0, 9), (0, 10)], [(0, 0), (0, 5), (0, 6), (0, 8), (0, 9), (0, 11)], [(0, 0), (0, 5), (0, 6), (0, 8), (0, 10), (0, 11)], [(0, 0), (0, 5), (0, 6), (0, 9), (0, 10), (0, 11)], [(0, 0), (0, 5), (0, 7), (0, 8), (0, 9), (0, 10)], [(0, 0), (0, 5), (0, 7), (0, 8), (0, 9), (0, 11)], [(0, 0), (0, 5), (0, 7), (0, 8), (0, 10), (0, 11)], [(0, 0), (0, 5), (0, 7), (0, 9), (0, 10), (0, 11)], [(0, 0), (0, 5), (0, 8), (0, 9), (0, 10), (0, 11)], [(0, 0), (0, 6), (0, 7), (0, 8), (0, 9), (0, 10)], [(0, 0), (0, 6), (0, 7), (0, 8), (0, 9), (0, 11)], [(0, 0), (0, 6), (0, 7), (0, 8), (0, 10), (0, 11)], [(0, 0), (0, 6), (0, 7), (0, 9), (0, 10), (0, 11)], [(0, 0), (0, 6), (0, 8), (0, 9), (0, 10), (0, 11)], [(0, 0), (0, 7), (0, 8), (0, 9), (0, 10), (0, 11)], [(0, 1), (0, 2), (0, 3), (0, 4), (0, 5), (0, 6)], [(0, 1), (0, 2), (0, 3), (0, 4), (0, 5), (0, 7)], [(0, 1), (0, 2), (0, 3), (0, 4), (0, 5), (0, 8)], [(0, 1), (0, 2), (0, 3), (0, 4), (0, 5), (0, 9)], [(0, 1), (0, 2), (0, 3), (0, 4), (0, 5), (0, 10)], [(0, 1), (0, 2), (0, 3), (0, 4), (0, 5), (0, 11)], [(0, 1), (0, 2), (0, 3), (0, 4), (0, 6), (0, 7)], [(0, 1), (0, 2), (0, 3), (0, 4), (0, 6), (0, 8)], [(0, 1), (0, 2), (0, 3), (0, 4), (0, 6), (0, 9)], [(0, 1), (0, 2), (0, 3), (0, 4), (0, 6), (0, 10)], [(0, 1), (0, 2), (0, 3), (0, 4), (0, 6), (0, 11)], [(0, 1), (0, 2), (0, 3), (0, 4), (0, 7), (0, 8)], [(0, 1), (0, 2), (0, 3), (0, 4), (0, 7), (0, 9)], [(0, 1), (0, 2), (0, 3), (0, 4), (0, 7), (0, 10)], [(0, 1), (0, 2), (0, 3), (0, 4), (0, 7), (0, 11)], [(0, 1), (0, 2), (0, 3), (0, 4), (0, 8), (0, 9)], [(0, 1), (0, 2), (0, 3), (0, 4), (0, 8), (0, 10)], [(0, 1), (0, 2), (0, 3), (0, 4), (0, 8), (0, 11)], [(0, 1), (0, 2), (0, 3), (0, 4), (0, 9), (0, 10)], [(0, 1), (0, 2), (0, 3), (0, 4), (0, 9), (0, 11)], [(0, 1), (0, 2), (0, 3), (0, 4), (0, 10), (0, 11)], [(0, 1), (0, 2), (0, 3), (0, 5), (0, 6), (0, 7)], [(0, 1), (0, 2), (0, 3), (0, 5), (0, 6), (0, 8)], [(0, 1), (0, 2), (0, 3), (0, 5), (0, 6), (0, 9)], [(0, 1), (0, 2), (0, 3), (0, 5), (0, 6), (0, 10)], [(0, 1), (0, 2), (0, 3), (0, 5), (0, 6), (0, 11)], [(0, 1), (0, 2), (0, 3), (0, 5), (0, 7), (0, 8)], [(0, 1), (0, 2), (0, 3), (0, 5), (0, 7), (0, 9)], [(0, 1), (0, 2), (0, 3), (0, 5), (0, 7), (0, 10)], [(0, 1), (0, 2), (0, 3), (0, 5), (0, 7), (0, 11)], [(0, 1), (0, 2), (0, 3), (0, 5), (0, 8), (0, 9)], [(0, 1), (0, 2), (0, 3), (0, 5), (0, 8), (0, 10)], [(0, 1), (0, 2), (0, 3), (0, 5), (0, 8), (0, 11)], [(0, 1), (0, 2), (0, 3), (0, 5), (0, 9), (0, 10)], [(0, 1), (0, 2), (0, 3), (0, 5), (0, 9), (0, 11)], [(0, 1), (0, 2), (0, 3), (0, 5), (0, 10), (0, 11)], [(0, 1), (0, 2), (0, 3), (0, 6), (0, 7), (0, 8)], [(0, 1), (0, 2), (0, 3), (0, 6), (0, 7), (0, 9)], [(0, 1), (0, 2), (0, 3), (0, 6), (0, 7), (0, 10)], [(0, 1), (0, 2), (0, 3), (0, 6), (0, 7), (0, 11)], [(0, 1), (0, 2), (0, 3), (0, 6), (0, 8), (0, 9)], [(0, 1), (0, 2), (0, 3), (0, 6), (0, 8), (0, 10)], [(0, 1), (0, 2), (0, 3), (0, 6), (0, 8), (0, 11)], [(0, 1), (0, 2), (0, 3), (0, 6), (0, 9), (0, 10)], [(0, 1), (0, 2), (0, 3), (0, 6), (0, 9), (0, 11)], [(0, 1), (0, 2), (0, 3), (0, 6), (0, 10), (0, 11)], [(0, 1), (0, 2), (0, 3), (0, 7), (0, 8), (0, 9)], [(0, 1), (0, 2), (0, 3), (0, 7), (0, 8), (0, 10)], [(0, 1), (0, 2), (0, 3), (0, 7), (0, 8), (0, 11)], [(0, 1), (0, 2), (0, 3), (0, 7), (0, 9), (0, 10)], [(0, 1), (0, 2), (0, 3), (0, 7), (0, 9), (0, 11)], [(0, 1), (0, 2), (0, 3), (0, 7), (0, 10), (0, 11)], [(0, 1), (0, 2), (0, 3), (0, 8), (0, 9), (0, 10)], [(0, 1), (0, 2), (0, 3), (0, 8), (0, 9), (0, 11)], [(0, 1), (0, 2), (0, 3), (0, 8), (0, 10), (0, 11)], [(0, 1), (0, 2), (0, 3), (0, 9), (0, 10), (0, 11)], [(0, 1), (0, 2), (0, 4), (0, 5), (0, 6), (0, 7)], [(0, 1), (0, 2), (0, 4), (0, 5), (0, 6), (0, 8)], [(0, 1), (0, 2), (0, 4), (0, 5), (0, 6), (0, 9)], [(0, 1), (0, 2), (0, 4), (0, 5), (0, 6), (0, 10)], [(0, 1), (0, 2), (0, 4), (0, 5), (0, 6), (0, 11)], [(0, 1), (0, 2), (0, 4), (0, 5), (0, 7), (0, 8)], [(0, 1), (0, 2), (0, 4), (0, 5), (0, 7), (0, 9)], [(0, 1), (0, 2), (0, 4), (0, 5), (0, 7), (0, 10)], [(0, 1), (0, 2), (0, 4), (0, 5), (0, 7), (0, 11)], [(0, 1), (0, 2), (0, 4), (0, 5), (0, 8), (0, 9)], [(0, 1), (0, 2), (0, 4), (0, 5), (0, 8), (0, 10)], [(0, 1), (0, 2), (0, 4), (0, 5), (0, 8), (0, 11)], [(0, 1), (0, 2), (0, 4), (0, 5), (0, 9), (0, 10)], [(0, 1), (0, 2), (0, 4), (0, 5), (0, 9), (0, 11)], [(0, 1), (0, 2), (0, 4), (0, 5), (0, 10), (0, 11)], [(0, 1), (0, 2), (0, 4), (0, 6), (0, 7), (0, 8)], [(0, 1), (0, 2), (0, 4), (0, 6), (0, 7), (0, 9)], [(0, 1), (0, 2), (0, 4), (0, 6), (0, 7), (0, 10)], [(0, 1), (0, 2), (0, 4), (0, 6), (0, 7), (0, 11)], [(0, 1), (0, 2), (0, 4), (0, 6), (0, 8), (0, 9)], [(0, 1), (0, 2), (0, 4), (0, 6), (0, 8), (0, 10)], [(0, 1), (0, 2), (0, 4), (0, 6), (0, 8), (0, 11)], [(0, 1), (0, 2), (0, 4), (0, 6), (0, 9), (0, 10)], [(0, 1), (0, 2), (0, 4), (0, 6), (0, 9), (0, 11)], [(0, 1), (0, 2), (0, 4), (0, 6), (0, 10), (0, 11)], [(0, 1), (0, 2), (0, 4), (0, 7), (0, 8), (0, 9)], [(0, 1), (0, 2), (0, 4), (0, 7), (0, 8), (0, 10)], [(0, 1), (0, 2), (0, 4), (0, 7), (0, 8), (0, 11)], [(0, 1), (0, 2), (0, 4), (0, 7), (0, 9), (0, 10)], [(0, 1), (0, 2), (0, 4), (0, 7), (0, 9), (0, 11)], [(0, 1), (0, 2), (0, 4), (0, 7), (0, 10), (0, 11)], [(0, 1), (0, 2), (0, 4), (0, 8), (0, 9), (0, 10)], [(0, 1), (0, 2), (0, 4), (0, 8), (0, 9), (0, 11)], [(0, 1), (0, 2), (0, 4), (0, 8), (0, 10), (0, 11)], [(0, 1), (0, 2), (0, 4), (0, 9), (0, 10), (0, 11)], [(0, 1), (0, 2), (0, 5), (0, 6), (0, 7), (0, 8)], [(0, 1), (0, 2), (0, 5), (0, 6), (0, 7), (0, 9)], [(0, 1), (0, 2), (0, 5), (0, 6), (0, 7), (0, 10)], [(0, 1), (0, 2), (0, 5), (0, 6), (0, 7), (0, 11)], [(0, 1), (0, 2), (0, 5), (0, 6), (0, 8), (0, 9)], [(0, 1), (0, 2), (0, 5), (0, 6), (0, 8), (0, 10)], [(0, 1), (0, 2), (0, 5), (0, 6), (0, 8), (0, 11)], [(0, 1), (0, 2), (0, 5), (0, 6), (0, 9), (0, 10)], [(0, 1), (0, 2), (0, 5), (0, 6), (0, 9), (0, 11)], [(0, 1), (0, 2), (0, 5), (0, 6), (0, 10), (0, 11)], [(0, 1), (0, 2), (0, 5), (0, 7), (0, 8), (0, 9)], [(0, 1), (0, 2), (0, 5), (0, 7), (0, 8), (0, 10)], [(0, 1), (0, 2), (0, 5), (0, 7), (0, 8), (0, 11)], [(0, 1), (0, 2), (0, 5), (0, 7), (0, 9), (0, 10)], [(0, 1), (0, 2), (0, 5), (0, 7), (0, 9), (0, 11)], [(0, 1), (0, 2), (0, 5), (0, 7), (0, 10), (0, 11)], [(0, 1), (0, 2), (0, 5), (0, 8), (0, 9), (0, 10)], [(0, 1), (0, 2), (0, 5), (0, 8), (0, 9), (0, 11)], [(0, 1), (0, 2), (0, 5), (0, 8), (0, 10), (0, 11)], [(0, 1), (0, 2), (0, 5), (0, 9), (0, 10), (0, 11)], [(0, 1), (0, 2), (0, 6), (0, 7), (0, 8), (0, 9)], [(0, 1), (0, 2), (0, 6), (0, 7), (0, 8), (0, 10)], [(0, 1), (0, 2), (0, 6), (0, 7), (0, 8), (0, 11)], [(0, 1), (0, 2), (0, 6), (0, 7), (0, 9), (0, 10)], [(0, 1), (0, 2), (0, 6), (0, 7), (0, 9), (0, 11)], [(0, 1), (0, 2), (0, 6), (0, 7), (0, 10), (0, 11)], [(0, 1), (0, 2), (0, 6), (0, 8), (0, 9), (0, 10)], [(0, 1), (0, 2), (0, 6), (0, 8), (0, 9), (0, 11)], [(0, 1), (0, 2), (0, 6), (0, 8), (0, 10), (0, 11)], [(0, 1), (0, 2), (0, 6), (0, 9), (0, 10), (0, 11)], [(0, 1), (0, 2), (0, 7), (0, 8), (0, 9), (0, 10)], [(0, 1), (0, 2), (0, 7), (0, 8), (0, 9), (0, 11)], [(0, 1), (0, 2), (0, 7), (0, 8), (0, 10), (0, 11)], [(0, 1), (0, 2), (0, 7), (0, 9), (0, 10), (0, 11)], [(0, 1), (0, 2), (0, 8), (0, 9), (0, 10), (0, 11)], [(0, 1), (0, 3), (0, 4), (0, 5), (0, 6), (0, 7)], [(0, 1), (0, 3), (0, 4), (0, 5), (0, 6), (0, 8)], [(0, 1), (0, 3), (0, 4), (0, 5), (0, 6), (0, 9)], [(0, 1), (0, 3), (0, 4), (0, 5), (0, 6), (0, 10)], [(0, 1), (0, 3), (0, 4), (0, 5), (0, 6), (0, 11)], [(0, 1), (0, 3), (0, 4), (0, 5), (0, 7), (0, 8)], [(0, 1), (0, 3), (0, 4), (0, 5), (0, 7), (0, 9)], [(0, 1), (0, 3), (0, 4), (0, 5), (0, 7), (0, 10)], [(0, 1), (0, 3), (0, 4), (0, 5), (0, 7), (0, 11)], [(0, 1), (0, 3), (0, 4), (0, 5), (0, 8), (0, 9)], [(0, 1), (0, 3), (0, 4), (0, 5), (0, 8), (0, 10)], [(0, 1), (0, 3), (0, 4), (0, 5), (0, 8), (0, 11)], [(0, 1), (0, 3), (0, 4), (0, 5), (0, 9), (0, 10)], [(0, 1), (0, 3), (0, 4), (0, 5), (0, 9), (0, 11)], [(0, 1), (0, 3), (0, 4), (0, 5), (0, 10), (0, 11)], [(0, 1), (0, 3), (0, 4), (0, 6), (0, 7), (0, 8)], [(0, 1), (0, 3), (0, 4), (0, 6), (0, 7), (0, 9)], [(0, 1), (0, 3), (0, 4), (0, 6), (0, 7), (0, 10)], [(0, 1), (0, 3), (0, 4), (0, 6), (0, 7), (0, 11)], [(0, 1), (0, 3), (0, 4), (0, 6), (0, 8), (0, 9)], [(0, 1), (0, 3), (0, 4), (0, 6), (0, 8), (0, 10)], [(0, 1), (0, 3), (0, 4), (0, 6), (0, 8), (0, 11)], [(0, 1), (0, 3), (0, 4), (0, 6), (0, 9), (0, 10)], [(0, 1), (0, 3), (0, 4), (0, 6), (0, 9), (0, 11)], [(0, 1), (0, 3), (0, 4), (0, 6), (0, 10), (0, 11)], [(0, 1), (0, 3), (0, 4), (0, 7), (0, 8), (0, 9)], [(0, 1), (0, 3), (0, 4), (0, 7), (0, 8), (0, 10)], [(0, 1), (0, 3), (0, 4), (0, 7), (0, 8), (0, 11)], [(0, 1), (0, 3), (0, 4), (0, 7), (0, 9), (0, 10)], [(0, 1), (0, 3), (0, 4), (0, 7), (0, 9), (0, 11)], [(0, 1), (0, 3), (0, 4), (0, 7), (0, 10), (0, 11)], [(0, 1), (0, 3), (0, 4), (0, 8), (0, 9), (0, 10)], [(0, 1), (0, 3), (0, 4), (0, 8), (0, 9), (0, 11)], [(0, 1), (0, 3), (0, 4), (0, 8), (0, 10), (0, 11)], [(0, 1), (0, 3), (0, 4), (0, 9), (0, 10), (0, 11)], [(0, 1), (0, 3), (0, 5), (0, 6), (0, 7), (0, 8)], [(0, 1), (0, 3), (0, 5), (0, 6), (0, 7), (0, 9)], [(0, 1), (0, 3), (0, 5), (0, 6), (0, 7), (0, 10)], [(0, 1), (0, 3), (0, 5), (0, 6), (0, 7), (0, 11)], [(0, 1), (0, 3), (0, 5), (0, 6), (0, 8), (0, 9)], [(0, 1), (0, 3), (0, 5), (0, 6), (0, 8), (0, 10)], [(0, 1), (0, 3), (0, 5), (0, 6), (0, 8), (0, 11)], [(0, 1), (0, 3), (0, 5), (0, 6), (0, 9), (0, 10)], [(0, 1), (0, 3), (0, 5), (0, 6), (0, 9), (0, 11)], [(0, 1), (0, 3), (0, 5), (0, 6), (0, 10), (0, 11)], [(0, 1), (0, 3), (0, 5), (0, 7), (0, 8), (0, 9)], [(0, 1), (0, 3), (0, 5), (0, 7), (0, 8), (0, 10)], [(0, 1), (0, 3), (0, 5), (0, 7), (0, 8), (0, 11)], [(0, 1), (0, 3), (0, 5), (0, 7), (0, 9), (0, 10)], [(0, 1), (0, 3), (0, 5), (0, 7), (0, 9), (0, 11)], [(0, 1), (0, 3), (0, 5), (0, 7), (0, 10), (0, 11)], [(0, 1), (0, 3), (0, 5), (0, 8), (0, 9), (0, 10)], [(0, 1), (0, 3), (0, 5), (0, 8), (0, 9), (0, 11)], [(0, 1), (0, 3), (0, 5), (0, 8), (0, 10), (0, 11)], [(0, 1), (0, 3), (0, 5), (0, 9), (0, 10), (0, 11)], [(0, 1), (0, 3), (0, 6), (0, 7), (0, 8), (0, 9)], [(0, 1), (0, 3), (0, 6), (0, 7), (0, 8), (0, 10)], [(0, 1), (0, 3), (0, 6), (0, 7), (0, 8), (0, 11)], [(0, 1), (0, 3), (0, 6), (0, 7), (0, 9), (0, 10)], [(0, 1), (0, 3), (0, 6), (0, 7), (0, 9), (0, 11)], [(0, 1), (0, 3), (0, 6), (0, 7), (0, 10), (0, 11)], [(0, 1), (0, 3), (0, 6), (0, 8), (0, 9), (0, 10)], [(0, 1), (0, 3), (0, 6), (0, 8), (0, 9), (0, 11)], [(0, 1), (0, 3), (0, 6), (0, 8), (0, 10), (0, 11)], [(0, 1), (0, 3), (0, 6), (0, 9), (0, 10), (0, 11)], [(0, 1), (0, 3), (0, 7), (0, 8), (0, 9), (0, 10)], [(0, 1), (0, 3), (0, 7), (0, 8), (0, 9), (0, 11)], [(0, 1), (0, 3), (0, 7), (0, 8), (0, 10), (0, 11)], [(0, 1), (0, 3), (0, 7), (0, 9), (0, 10), (0, 11)], [(0, 1), (0, 3), (0, 8), (0, 9), (0, 10), (0, 11)], [(0, 1), (0, 4), (0, 5), (0, 6), (0, 7), (0, 8)], [(0, 1), (0, 4), (0, 5), (0, 6), (0, 7), (0, 9)], [(0, 1), (0, 4), (0, 5), (0, 6), (0, 7), (0, 10)], [(0, 1), (0, 4), (0, 5), (0, 6), (0, 7), (0, 11)], [(0, 1), (0, 4), (0, 5), (0, 6), (0, 8), (0, 9)], [(0, 1), (0, 4), (0, 5), (0, 6), (0, 8), (0, 10)], [(0, 1), (0, 4), (0, 5), (0, 6), (0, 8), (0, 11)], [(0, 1), (0, 4), (0, 5), (0, 6), (0, 9), (0, 10)], [(0, 1), (0, 4), (0, 5), (0, 6), (0, 9), (0, 11)], [(0, 1), (0, 4), (0, 5), (0, 6), (0, 10), (0, 11)], [(0, 1), (0, 4), (0, 5), (0, 7), (0, 8), (0, 9)], [(0, 1), (0, 4), (0, 5), (0, 7), (0, 8), (0, 10)], [(0, 1), (0, 4), (0, 5), (0, 7), (0, 8), (0, 11)], [(0, 1), (0, 4), (0, 5), (0, 7), (0, 9), (0, 10)], [(0, 1), (0, 4), (0, 5), (0, 7), (0, 9), (0, 11)], [(0, 1), (0, 4), (0, 5), (0, 7), (0, 10), (0, 11)], [(0, 1), (0, 4), (0, 5), (0, 8), (0, 9), (0, 10)], [(0, 1), (0, 4), (0, 5), (0, 8), (0, 9), (0, 11)], [(0, 1), (0, 4), (0, 5), (0, 8), (0, 10), (0, 11)], [(0, 1), (0, 4), (0, 5), (0, 9), (0, 10), (0, 11)], [(0, 1), (0, 4), (0, 6), (0, 7), (0, 8), (0, 9)], [(0, 1), (0, 4), (0, 6), (0, 7), (0, 8), (0, 10)], [(0, 1), (0, 4), (0, 6), (0, 7), (0, 8), (0, 11)], [(0, 1), (0, 4), (0, 6), (0, 7), (0, 9), (0, 10)], [(0, 1), (0, 4), (0, 6), (0, 7), (0, 9), (0, 11)], [(0, 1), (0, 4), (0, 6), (0, 7), (0, 10), (0, 11)], [(0, 1), (0, 4), (0, 6), (0, 8), (0, 9), (0, 10)], [(0, 1), (0, 4), (0, 6), (0, 8), (0, 9), (0, 11)], [(0, 1), (0, 4), (0, 6), (0, 8), (0, 10), (0, 11)], [(0, 1), (0, 4), (0, 6), (0, 9), (0, 10), (0, 11)], [(0, 1), (0, 4), (0, 7), (0, 8), (0, 9), (0, 10)], [(0, 1), (0, 4), (0, 7), (0, 8), (0, 9), (0, 11)], [(0, 1), (0, 4), (0, 7), (0, 8), (0, 10), (0, 11)], [(0, 1), (0, 4), (0, 7), (0, 9), (0, 10), (0, 11)], [(0, 1), (0, 4), (0, 8), (0, 9), (0, 10), (0, 11)], [(0, 1), (0, 5), (0, 6), (0, 7), (0, 8), (0, 9)], [(0, 1), (0, 5), (0, 6), (0, 7), (0, 8), (0, 10)], [(0, 1), (0, 5), (0, 6), (0, 7), (0, 8), (0, 11)], [(0, 1), (0, 5), (0, 6), (0, 7), (0, 9), (0, 10)], [(0, 1), (0, 5), (0, 6), (0, 7), (0, 9), (0, 11)], [(0, 1), (0, 5), (0, 6), (0, 7), (0, 10), (0, 11)], [(0, 1), (0, 5), (0, 6), (0, 8), (0, 9), (0, 10)], [(0, 1), (0, 5), (0, 6), (0, 8), (0, 9), (0, 11)], [(0, 1), (0, 5), (0, 6), (0, 8), (0, 10), (0, 11)], [(0, 1), (0, 5), (0, 6), (0, 9), (0, 10), (0, 11)], [(0, 1), (0, 5), (0, 7), (0, 8), (0, 9), (0, 10)], [(0, 1), (0, 5), (0, 7), (0, 8), (0, 9), (0, 11)], [(0, 1), (0, 5), (0, 7), (0, 8), (0, 10), (0, 11)], [(0, 1), (0, 5), (0, 7), (0, 9), (0, 10), (0, 11)], [(0, 1), (0, 5), (0, 8), (0, 9), (0, 10), (0, 11)], [(0, 1), (0, 6), (0, 7), (0, 8), (0, 9), (0, 10)], [(0, 1), (0, 6), (0, 7), (0, 8), (0, 9), (0, 11)], [(0, 1), (0, 6), (0, 7), (0, 8), (0, 10), (0, 11)], [(0, 1), (0, 6), (0, 7), (0, 9), (0, 10), (0, 11)], [(0, 1), (0, 6), (0, 8), (0, 9), (0, 10), (0, 11)], [(0, 1), (0, 7), (0, 8), (0, 9), (0, 10), (0, 11)], [(0, 2), (0, 3), (0, 4), (0, 5), (0, 6), (0, 7)], [(0, 2), (0, 3), (0, 4), (0, 5), (0, 6), (0, 8)], [(0, 2), (0, 3), (0, 4), (0, 5), (0, 6), (0, 9)], [(0, 2), (0, 3), (0, 4), (0, 5), (0, 6), (0, 10)], [(0, 2), (0, 3), (0, 4), (0, 5), (0, 6), (0, 11)], [(0, 2), (0, 3), (0, 4), (0, 5), (0, 7), (0, 8)], [(0, 2), (0, 3), (0, 4), (0, 5), (0, 7), (0, 9)], [(0, 2), (0, 3), (0, 4), (0, 5), (0, 7), (0, 10)], [(0, 2), (0, 3), (0, 4), (0, 5), (0, 7), (0, 11)], [(0, 2), (0, 3), (0, 4), (0, 5), (0, 8), (0, 9)], [(0, 2), (0, 3), (0, 4), (0, 5), (0, 8), (0, 10)], [(0, 2), (0, 3), (0, 4), (0, 5), (0, 8), (0, 11)], [(0, 2), (0, 3), (0, 4), (0, 5), (0, 9), (0, 10)], [(0, 2), (0, 3), (0, 4), (0, 5), (0, 9), (0, 11)], [(0, 2), (0, 3), (0, 4), (0, 5), (0, 10), (0, 11)], [(0, 2), (0, 3), (0, 4), (0, 6), (0, 7), (0, 8)], [(0, 2), (0, 3), (0, 4), (0, 6), (0, 7), (0, 9)], [(0, 2), (0, 3), (0, 4), (0, 6), (0, 7), (0, 10)], [(0, 2), (0, 3), (0, 4), (0, 6), (0, 7), (0, 11)], [(0, 2), (0, 3), (0, 4), (0, 6), (0, 8), (0, 9)], [(0, 2), (0, 3), (0, 4), (0, 6), (0, 8), (0, 10)], [(0, 2), (0, 3), (0, 4), (0, 6), (0, 8), (0, 11)], [(0, 2), (0, 3), (0, 4), (0, 6), (0, 9), (0, 10)], [(0, 2), (0, 3), (0, 4), (0, 6), (0, 9), (0, 11)], [(0, 2), (0, 3), (0, 4), (0, 6), (0, 10), (0, 11)], [(0, 2), (0, 3), (0, 4), (0, 7), (0, 8), (0, 9)], [(0, 2), (0, 3), (0, 4), (0, 7), (0, 8), (0, 10)], [(0, 2), (0, 3), (0, 4), (0, 7), (0, 8), (0, 11)], [(0, 2), (0, 3), (0, 4), (0, 7), (0, 9), (0, 10)], [(0, 2), (0, 3), (0, 4), (0, 7), (0, 9), (0, 11)], [(0, 2), (0, 3), (0, 4), (0, 7), (0, 10), (0, 11)], [(0, 2), (0, 3), (0, 4), (0, 8), (0, 9), (0, 10)], [(0, 2), (0, 3), (0, 4), (0, 8), (0, 9), (0, 11)], [(0, 2), (0, 3), (0, 4), (0, 8), (0, 10), (0, 11)], [(0, 2), (0, 3), (0, 4), (0, 9), (0, 10), (0, 11)], [(0, 2), (0, 3), (0, 5), (0, 6), (0, 7), (0, 8)], [(0, 2), (0, 3), (0, 5), (0, 6), (0, 7), (0, 9)], [(0, 2), (0, 3), (0, 5), (0, 6), (0, 7), (0, 10)], [(0, 2), (0, 3), (0, 5), (0, 6), (0, 7), (0, 11)], [(0, 2), (0, 3), (0, 5), (0, 6), (0, 8), (0, 9)], [(0, 2), (0, 3), (0, 5), (0, 6), (0, 8), (0, 10)], [(0, 2), (0, 3), (0, 5), (0, 6), (0, 8), (0, 11)], [(0, 2), (0, 3), (0, 5), (0, 6), (0, 9), (0, 10)], [(0, 2), (0, 3), (0, 5), (0, 6), (0, 9), (0, 11)], [(0, 2), (0, 3), (0, 5), (0, 6), (0, 10), (0, 11)], [(0, 2), (0, 3), (0, 5), (0, 7), (0, 8), (0, 9)], [(0, 2), (0, 3), (0, 5), (0, 7), (0, 8), (0, 10)], [(0, 2), (0, 3), (0, 5), (0, 7), (0, 8), (0, 11)], [(0, 2), (0, 3), (0, 5), (0, 7), (0, 9), (0, 10)], [(0, 2), (0, 3), (0, 5), (0, 7), (0, 9), (0, 11)], [(0, 2), (0, 3), (0, 5), (0, 7), (0, 10), (0, 11)], [(0, 2), (0, 3), (0, 5), (0, 8), (0, 9), (0, 10)], [(0, 2), (0, 3), (0, 5), (0, 8), (0, 9), (0, 11)], [(0, 2), (0, 3), (0, 5), (0, 8), (0, 10), (0, 11)], [(0, 2), (0, 3), (0, 5), (0, 9), (0, 10), (0, 11)], [(0, 2), (0, 3), (0, 6), (0, 7), (0, 8), (0, 9)], [(0, 2), (0, 3), (0, 6), (0, 7), (0, 8), (0, 10)], [(0, 2), (0, 3), (0, 6), (0, 7), (0, 8), (0, 11)], [(0, 2), (0, 3), (0, 6), (0, 7), (0, 9), (0, 10)], [(0, 2), (0, 3), (0, 6), (0, 7), (0, 9), (0, 11)], [(0, 2), (0, 3), (0, 6), (0, 7), (0, 10), (0, 11)], [(0, 2), (0, 3), (0, 6), (0, 8), (0, 9), (0, 10)], [(0, 2), (0, 3), (0, 6), (0, 8), (0, 9), (0, 11)], [(0, 2), (0, 3), (0, 6), (0, 8), (0, 10), (0, 11)], [(0, 2), (0, 3), (0, 6), (0, 9), (0, 10), (0, 11)], [(0, 2), (0, 3), (0, 7), (0, 8), (0, 9), (0, 10)], [(0, 2), (0, 3), (0, 7), (0, 8), (0, 9), (0, 11)], [(0, 2), (0, 3), (0, 7), (0, 8), (0, 10), (0, 11)], [(0, 2), (0, 3), (0, 7), (0, 9), (0, 10), (0, 11)], [(0, 2), (0, 3), (0, 8), (0, 9), (0, 10), (0, 11)], [(0, 2), (0, 4), (0, 5), (0, 6), (0, 7), (0, 8)], [(0, 2), (0, 4), (0, 5), (0, 6), (0, 7), (0, 9)], [(0, 2), (0, 4), (0, 5), (0, 6), (0, 7), (0, 10)], [(0, 2), (0, 4), (0, 5), (0, 6), (0, 7), (0, 11)], [(0, 2), (0, 4), (0, 5), (0, 6), (0, 8), (0, 9)], [(0, 2), (0, 4), (0, 5), (0, 6), (0, 8), (0, 10)], [(0, 2), (0, 4), (0, 5), (0, 6), (0, 8), (0, 11)], [(0, 2), (0, 4), (0, 5), (0, 6), (0, 9), (0, 10)], [(0, 2), (0, 4), (0, 5), (0, 6), (0, 9), (0, 11)], [(0, 2), (0, 4), (0, 5), (0, 6), (0, 10), (0, 11)], [(0, 2), (0, 4), (0, 5), (0, 7), (0, 8), (0, 9)], [(0, 2), (0, 4), (0, 5), (0, 7), (0, 8), (0, 10)], [(0, 2), (0, 4), (0, 5), (0, 7), (0, 8), (0, 11)], [(0, 2), (0, 4), (0, 5), (0, 7), (0, 9), (0, 10)], [(0, 2), (0, 4), (0, 5), (0, 7), (0, 9), (0, 11)], [(0, 2), (0, 4), (0, 5), (0, 7), (0, 10), (0, 11)], [(0, 2), (0, 4), (0, 5), (0, 8), (0, 9), (0, 10)], [(0, 2), (0, 4), (0, 5), (0, 8), (0, 9), (0, 11)], [(0, 2), (0, 4), (0, 5), (0, 8), (0, 10), (0, 11)], [(0, 2), (0, 4), (0, 5), (0, 9), (0, 10), (0, 11)], [(0, 2), (0, 4), (0, 6), (0, 7), (0, 8), (0, 9)], [(0, 2), (0, 4), (0, 6), (0, 7), (0, 8), (0, 10)], [(0, 2), (0, 4), (0, 6), (0, 7), (0, 8), (0, 11)], [(0, 2), (0, 4), (0, 6), (0, 7), (0, 9), (0, 10)], [(0, 2), (0, 4), (0, 6), (0, 7), (0, 9), (0, 11)], [(0, 2), (0, 4), (0, 6), (0, 7), (0, 10), (0, 11)], [(0, 2), (0, 4), (0, 6), (0, 8), (0, 9), (0, 10)], [(0, 2), (0, 4), (0, 6), (0, 8), (0, 9), (0, 11)], [(0, 2), (0, 4), (0, 6), (0, 8), (0, 10), (0, 11)], [(0, 2), (0, 4), (0, 6), (0, 9), (0, 10), (0, 11)], [(0, 2), (0, 4), (0, 7), (0, 8), (0, 9), (0, 10)], [(0, 2), (0, 4), (0, 7), (0, 8), (0, 9), (0, 11)], [(0, 2), (0, 4), (0, 7), (0, 8), (0, 10), (0, 11)], [(0, 2), (0, 4), (0, 7), (0, 9), (0, 10), (0, 11)], [(0, 2), (0, 4), (0, 8), (0, 9), (0, 10), (0, 11)], [(0, 2), (0, 5), (0, 6), (0, 7), (0, 8), (0, 9)], [(0, 2), (0, 5), (0, 6), (0, 7), (0, 8), (0, 10)], [(0, 2), (0, 5), (0, 6), (0, 7), (0, 8), (0, 11)], [(0, 2), (0, 5), (0, 6), (0, 7), (0, 9), (0, 10)], [(0, 2), (0, 5), (0, 6), (0, 7), (0, 9), (0, 11)], [(0, 2), (0, 5), (0, 6), (0, 7), (0, 10), (0, 11)], [(0, 2), (0, 5), (0, 6), (0, 8), (0, 9), (0, 10)], [(0, 2), (0, 5), (0, 6), (0, 8), (0, 9), (0, 11)], [(0, 2), (0, 5), (0, 6), (0, 8), (0, 10), (0, 11)], [(0, 2), (0, 5), (0, 6), (0, 9), (0, 10), (0, 11)], [(0, 2), (0, 5), (0, 7), (0, 8), (0, 9), (0, 10)], [(0, 2), (0, 5), (0, 7), (0, 8), (0, 9), (0, 11)], [(0, 2), (0, 5), (0, 7), (0, 8), (0, 10), (0, 11)], [(0, 2), (0, 5), (0, 7), (0, 9), (0, 10), (0, 11)], [(0, 2), (0, 5), (0, 8), (0, 9), (0, 10), (0, 11)], [(0, 2), (0, 6), (0, 7), (0, 8), (0, 9), (0, 10)], [(0, 2), (0, 6), (0, 7), (0, 8), (0, 9), (0, 11)], [(0, 2), (0, 6), (0, 7), (0, 8), (0, 10), (0, 11)], [(0, 2), (0, 6), (0, 7), (0, 9), (0, 10), (0, 11)], [(0, 2), (0, 6), (0, 8), (0, 9), (0, 10), (0, 11)], [(0, 2), (0, 7), (0, 8), (0, 9), (0, 10), (0, 11)], [(0, 3), (0, 4), (0, 5), (0, 6), (0, 7), (0, 8)], [(0, 3), (0, 4), (0, 5), (0, 6), (0, 7), (0, 9)], [(0, 3), (0, 4), (0, 5), (0, 6), (0, 7), (0, 10)], [(0, 3), (0, 4), (0, 5), (0, 6), (0, 7), (0, 11)], [(0, 3), (0, 4), (0, 5), (0, 6), (0, 8), (0, 9)], [(0, 3), (0, 4), (0, 5), (0, 6), (0, 8), (0, 10)], [(0, 3), (0, 4), (0, 5), (0, 6), (0, 8), (0, 11)], [(0, 3), (0, 4), (0, 5), (0, 6), (0, 9), (0, 10)], [(0, 3), (0, 4), (0, 5), (0, 6), (0, 9), (0, 11)], [(0, 3), (0, 4), (0, 5), (0, 6), (0, 10), (0, 11)], [(0, 3), (0, 4), (0, 5), (0, 7), (0, 8), (0, 9)], [(0, 3), (0, 4), (0, 5), (0, 7), (0, 8), (0, 10)], [(0, 3), (0, 4), (0, 5), (0, 7), (0, 8), (0, 11)], [(0, 3), (0, 4), (0, 5), (0, 7), (0, 9), (0, 10)], [(0, 3), (0, 4), (0, 5), (0, 7), (0, 9), (0, 11)], [(0, 3), (0, 4), (0, 5), (0, 7), (0, 10), (0, 11)], [(0, 3), (0, 4), (0, 5), (0, 8), (0, 9), (0, 10)], [(0, 3), (0, 4), (0, 5), (0, 8), (0, 9), (0, 11)], [(0, 3), (0, 4), (0, 5), (0, 8), (0, 10), (0, 11)], [(0, 3), (0, 4), (0, 5), (0, 9), (0, 10), (0, 11)], [(0, 3), (0, 4), (0, 6), (0, 7), (0, 8), (0, 9)], [(0, 3), (0, 4), (0, 6), (0, 7), (0, 8), (0, 10)], [(0, 3), (0, 4), (0, 6), (0, 7), (0, 8), (0, 11)], [(0, 3), (0, 4), (0, 6), (0, 7), (0, 9), (0, 10)], [(0, 3), (0, 4), (0, 6), (0, 7), (0, 9), (0, 11)], [(0, 3), (0, 4), (0, 6), (0, 7), (0, 10), (0, 11)], [(0, 3), (0, 4), (0, 6), (0, 8), (0, 9), (0, 10)], [(0, 3), (0, 4), (0, 6), (0, 8), (0, 9), (0, 11)], [(0, 3), (0, 4), (0, 6), (0, 8), (0, 10), (0, 11)], [(0, 3), (0, 4), (0, 6), (0, 9), (0, 10), (0, 11)], [(0, 3), (0, 4), (0, 7), (0, 8), (0, 9), (0, 10)], [(0, 3), (0, 4), (0, 7), (0, 8), (0, 9), (0, 11)], [(0, 3), (0, 4), (0, 7), (0, 8), (0, 10), (0, 11)], [(0, 3), (0, 4), (0, 7), (0, 9), (0, 10), (0, 11)], [(0, 3), (0, 4), (0, 8), (0, 9), (0, 10), (0, 11)], [(0, 3), (0, 5), (0, 6), (0, 7), (0, 8), (0, 9)], [(0, 3), (0, 5), (0, 6), (0, 7), (0, 8), (0, 10)], [(0, 3), (0, 5), (0, 6), (0, 7), (0, 8), (0, 11)], [(0, 3), (0, 5), (0, 6), (0, 7), (0, 9), (0, 10)], [(0, 3), (0, 5), (0, 6), (0, 7), (0, 9), (0, 11)], [(0, 3), (0, 5), (0, 6), (0, 7), (0, 10), (0, 11)], [(0, 3), (0, 5), (0, 6), (0, 8), (0, 9), (0, 10)], [(0, 3), (0, 5), (0, 6), (0, 8), (0, 9), (0, 11)], [(0, 3), (0, 5), (0, 6), (0, 8), (0, 10), (0, 11)], [(0, 3), (0, 5), (0, 6), (0, 9), (0, 10), (0, 11)], [(0, 3), (0, 5), (0, 7), (0, 8), (0, 9), (0, 10)], [(0, 3), (0, 5), (0, 7), (0, 8), (0, 9), (0, 11)], [(0, 3), (0, 5), (0, 7), (0, 8), (0, 10), (0, 11)], [(0, 3), (0, 5), (0, 7), (0, 9), (0, 10), (0, 11)], [(0, 3), (0, 5), (0, 8), (0, 9), (0, 10), (0, 11)], [(0, 3), (0, 6), (0, 7), (0, 8), (0, 9), (0, 10)], [(0, 3), (0, 6), (0, 7), (0, 8), (0, 9), (0, 11)], [(0, 3), (0, 6), (0, 7), (0, 8), (0, 10), (0, 11)], [(0, 3), (0, 6), (0, 7), (0, 9), (0, 10), (0, 11)], [(0, 3), (0, 6), (0, 8), (0, 9), (0, 10), (0, 11)], [(0, 3), (0, 7), (0, 8), (0, 9), (0, 10), (0, 11)], [(0, 4), (0, 5), (0, 6), (0, 7), (0, 8), (0, 9)], [(0, 4), (0, 5), (0, 6), (0, 7), (0, 8), (0, 10)], [(0, 4), (0, 5), (0, 6), (0, 7), (0, 8), (0, 11)], [(0, 4), (0, 5), (0, 6), (0, 7), (0, 9), (0, 10)], [(0, 4), (0, 5), (0, 6), (0, 7), (0, 9), (0, 11)], [(0, 4), (0, 5), (0, 6), (0, 7), (0, 10), (0, 11)], [(0, 4), (0, 5), (0, 6), (0, 8), (0, 9), (0, 10)], [(0, 4), (0, 5), (0, 6), (0, 8), (0, 9), (0, 11)], [(0, 4), (0, 5), (0, 6), (0, 8), (0, 10), (0, 11)], [(0, 4), (0, 5), (0, 6), (0, 9), (0, 10), (0, 11)], [(0, 4), (0, 5), (0, 7), (0, 8), (0, 9), (0, 10)], [(0, 4), (0, 5), (0, 7), (0, 8), (0, 9), (0, 11)], [(0, 4), (0, 5), (0, 7), (0, 8), (0, 10), (0, 11)], [(0, 4), (0, 5), (0, 7), (0, 9), (0, 10), (0, 11)], [(0, 4), (0, 5), (0, 8), (0, 9), (0, 10), (0, 11)], [(0, 4), (0, 6), (0, 7), (0, 8), (0, 9), (0, 10)], [(0, 4), (0, 6), (0, 7), (0, 8), (0, 9), (0, 11)], [(0, 4), (0, 6), (0, 7), (0, 8), (0, 10), (0, 11)], [(0, 4), (0, 6), (0, 7), (0, 9), (0, 10), (0, 11)], [(0, 4), (0, 6), (0, 8), (0, 9), (0, 10), (0, 11)], [(0, 4), (0, 7), (0, 8), (0, 9), (0, 10), (0, 11)], [(0, 5), (0, 6), (0, 7), (0, 8), (0, 9), (0, 10)], [(0, 5), (0, 6), (0, 7), (0, 8), (0, 9), (0, 11)], [(0, 5), (0, 6), (0, 7), (0, 8), (0, 10), (0, 11)], [(0, 5), (0, 6), (0, 7), (0, 9), (0, 10), (0, 11)], [(0, 5), (0, 6), (0, 8), (0, 9), (0, 10), (0, 11)], [(0, 5), (0, 7), (0, 8), (0, 9), (0, 10), (0, 11)], [(0, 6), (0, 7), (0, 8), (0, 9), (0, 10), (0, 11)], [(0, 0), (0, 1), (0, 2), (0, 3), (0, 4), (0, 5), (0, 6)], [(0, 0), (0, 1), (0, 2), (0, 3), (0, 4), (0, 5), (0, 7)], [(0, 0), (0, 1), (0, 2), (0, 3), (0, 4), (0, 5), (0, 8)], [(0, 0), (0, 1), (0, 2), (0, 3), (0, 4), (0, 5), (0, 9)], [(0, 0), (0, 1), (0, 2), (0, 3), (0, 4), (0, 5), (0, 10)], [(0, 0), (0, 1), (0, 2), (0, 3), (0, 4), (0, 5), (0, 11)], [(0, 0), (0, 1), (0, 2), (0, 3), (0, 4), (0, 6), (0, 7)], [(0, 0), (0, 1), (0, 2), (0, 3), (0, 4), (0, 6), (0, 8)], [(0, 0), (0, 1), (0, 2), (0, 3), (0, 4), (0, 6), (0, 9)], [(0, 0), (0, 1), (0, 2), (0, 3), (0, 4), (0, 6), (0, 10)], [(0, 0), (0, 1), (0, 2), (0, 3), (0, 4), (0, 6), (0, 11)], [(0, 0), (0, 1), (0, 2), (0, 3), (0, 4), (0, 7), (0, 8)], [(0, 0), (0, 1), (0, 2), (0, 3), (0, 4), (0, 7), (0, 9)], [(0, 0), (0, 1), (0, 2), (0, 3), (0, 4), (0, 7), (0, 10)], [(0, 0), (0, 1), (0, 2), (0, 3), (0, 4), (0, 7), (0, 11)], [(0, 0), (0, 1), (0, 2), (0, 3), (0, 4), (0, 8), (0, 9)], [(0, 0), (0, 1), (0, 2), (0, 3), (0, 4), (0, 8), (0, 10)], [(0, 0), (0, 1), (0, 2), (0, 3), (0, 4), (0, 8), (0, 11)], [(0, 0), (0, 1), (0, 2), (0, 3), (0, 4), (0, 9), (0, 10)], [(0, 0), (0, 1), (0, 2), (0, 3), (0, 4), (0, 9), (0, 11)], [(0, 0), (0, 1), (0, 2), (0, 3), (0, 4), (0, 10), (0, 11)], [(0, 0), (0, 1), (0, 2), (0, 3), (0, 5), (0, 6), (0, 7)], [(0, 0), (0, 1), (0, 2), (0, 3), (0, 5), (0, 6), (0, 8)], [(0, 0), (0, 1), (0, 2), (0, 3), (0, 5), (0, 6), (0, 9)], [(0, 0), (0, 1), (0, 2), (0, 3), (0, 5), (0, 6), (0, 10)], [(0, 0), (0, 1), (0, 2), (0, 3), (0, 5), (0, 6), (0, 11)], [(0, 0), (0, 1), (0, 2), (0, 3), (0, 5), (0, 7), (0, 8)], [(0, 0), (0, 1), (0, 2), (0, 3), (0, 5), (0, 7), (0, 9)], [(0, 0), (0, 1), (0, 2), (0, 3), (0, 5), (0, 7), (0, 10)], [(0, 0), (0, 1), (0, 2), (0, 3), (0, 5), (0, 7), (0, 11)], [(0, 0), (0, 1), (0, 2), (0, 3), (0, 5), (0, 8), (0, 9)], [(0, 0), (0, 1), (0, 2), (0, 3), (0, 5), (0, 8), (0, 10)], [(0, 0), (0, 1), (0, 2), (0, 3), (0, 5), (0, 8), (0, 11)], [(0, 0), (0, 1), (0, 2), (0, 3), (0, 5), (0, 9), (0, 10)], [(0, 0), (0, 1), (0, 2), (0, 3), (0, 5), (0, 9), (0, 11)], [(0, 0), (0, 1), (0, 2), (0, 3), (0, 5), (0, 10), (0, 11)], [(0, 0), (0, 1), (0, 2), (0, 3), (0, 6), (0, 7), (0, 8)], [(0, 0), (0, 1), (0, 2), (0, 3), (0, 6), (0, 7), (0, 9)], [(0, 0), (0, 1), (0, 2), (0, 3), (0, 6), (0, 7), (0, 10)], [(0, 0), (0, 1), (0, 2), (0, 3), (0, 6), (0, 7), (0, 11)], [(0, 0), (0, 1), (0, 2), (0, 3), (0, 6), (0, 8), (0, 9)], [(0, 0), (0, 1), (0, 2), (0, 3), (0, 6), (0, 8), (0, 10)], [(0, 0), (0, 1), (0, 2), (0, 3), (0, 6), (0, 8), (0, 11)], [(0, 0), (0, 1), (0, 2), (0, 3), (0, 6), (0, 9), (0, 10)], [(0, 0), (0, 1), (0, 2), (0, 3), (0, 6), (0, 9), (0, 11)], [(0, 0), (0, 1), (0, 2), (0, 3), (0, 6), (0, 10), (0, 11)], [(0, 0), (0, 1), (0, 2), (0, 3), (0, 7), (0, 8), (0, 9)], [(0, 0), (0, 1), (0, 2), (0, 3), (0, 7), (0, 8), (0, 10)], [(0, 0), (0, 1), (0, 2), (0, 3), (0, 7), (0, 8), (0, 11)], [(0, 0), (0, 1), (0, 2), (0, 3), (0, 7), (0, 9), (0, 10)], [(0, 0), (0, 1), (0, 2), (0, 3), (0, 7), (0, 9), (0, 11)], [(0, 0), (0, 1), (0, 2), (0, 3), (0, 7), (0, 10), (0, 11)], [(0, 0), (0, 1), (0, 2), (0, 3), (0, 8), (0, 9), (0, 10)], [(0, 0), (0, 1), (0, 2), (0, 3), (0, 8), (0, 9), (0, 11)], [(0, 0), (0, 1), (0, 2), (0, 3), (0, 8), (0, 10), (0, 11)], [(0, 0), (0, 1), (0, 2), (0, 3), (0, 9), (0, 10), (0, 11)], [(0, 0), (0, 1), (0, 2), (0, 4), (0, 5), (0, 6), (0, 7)], [(0, 0), (0, 1), (0, 2), (0, 4), (0, 5), (0, 6), (0, 8)], [(0, 0), (0, 1), (0, 2), (0, 4), (0, 5), (0, 6), (0, 9)], [(0, 0), (0, 1), (0, 2), (0, 4), (0, 5), (0, 6), (0, 10)], [(0, 0), (0, 1), (0, 2), (0, 4), (0, 5), (0, 6), (0, 11)], [(0, 0), (0, 1), (0, 2), (0, 4), (0, 5), (0, 7), (0, 8)], [(0, 0), (0, 1), (0, 2), (0, 4), (0, 5), (0, 7), (0, 9)], [(0, 0), (0, 1), (0, 2), (0, 4), (0, 5), (0, 7), (0, 10)], [(0, 0), (0, 1), (0, 2), (0, 4), (0, 5), (0, 7), (0, 11)], [(0, 0), (0, 1), (0, 2), (0, 4), (0, 5), (0, 8), (0, 9)], [(0, 0), (0, 1), (0, 2), (0, 4), (0, 5), (0, 8), (0, 10)], [(0, 0), (0, 1), (0, 2), (0, 4), (0, 5), (0, 8), (0, 11)], [(0, 0), (0, 1), (0, 2), (0, 4), (0, 5), (0, 9), (0, 10)], [(0, 0), (0, 1), (0, 2), (0, 4), (0, 5), (0, 9), (0, 11)], [(0, 0), (0, 1), (0, 2), (0, 4), (0, 5), (0, 10), (0, 11)], [(0, 0), (0, 1), (0, 2), (0, 4), (0, 6), (0, 7), (0, 8)], [(0, 0), (0, 1), (0, 2), (0, 4), (0, 6), (0, 7), (0, 9)], [(0, 0), (0, 1), (0, 2), (0, 4), (0, 6), (0, 7), (0, 10)], [(0, 0), (0, 1), (0, 2), (0, 4), (0, 6), (0, 7), (0, 11)], [(0, 0), (0, 1), (0, 2), (0, 4), (0, 6), (0, 8), (0, 9)], [(0, 0), (0, 1), (0, 2), (0, 4), (0, 6), (0, 8), (0, 10)], [(0, 0), (0, 1), (0, 2), (0, 4), (0, 6), (0, 8), (0, 11)], [(0, 0), (0, 1), (0, 2), (0, 4), (0, 6), (0, 9), (0, 10)], [(0, 0), (0, 1), (0, 2), (0, 4), (0, 6), (0, 9), (0, 11)], [(0, 0), (0, 1), (0, 2), (0, 4), (0, 6), (0, 10), (0, 11)], [(0, 0), (0, 1), (0, 2), (0, 4), (0, 7), (0, 8), (0, 9)], [(0, 0), (0, 1), (0, 2), (0, 4), (0, 7), (0, 8), (0, 10)], [(0, 0), (0, 1), (0, 2), (0, 4), (0, 7), (0, 8), (0, 11)], [(0, 0), (0, 1), (0, 2), (0, 4), (0, 7), (0, 9), (0, 10)], [(0, 0), (0, 1), (0, 2), (0, 4), (0, 7), (0, 9), (0, 11)], [(0, 0), (0, 1), (0, 2), (0, 4), (0, 7), (0, 10), (0, 11)], [(0, 0), (0, 1), (0, 2), (0, 4), (0, 8), (0, 9), (0, 10)], [(0, 0), (0, 1), (0, 2), (0, 4), (0, 8), (0, 9), (0, 11)], [(0, 0), (0, 1), (0, 2), (0, 4), (0, 8), (0, 10), (0, 11)], [(0, 0), (0, 1), (0, 2), (0, 4), (0, 9), (0, 10), (0, 11)], [(0, 0), (0, 1), (0, 2), (0, 5), (0, 6), (0, 7), (0, 8)], [(0, 0), (0, 1), (0, 2), (0, 5), (0, 6), (0, 7), (0, 9)], [(0, 0), (0, 1), (0, 2), (0, 5), (0, 6), (0, 7), (0, 10)], [(0, 0), (0, 1), (0, 2), (0, 5), (0, 6), (0, 7), (0, 11)], [(0, 0), (0, 1), (0, 2), (0, 5), (0, 6), (0, 8), (0, 9)], [(0, 0), (0, 1), (0, 2), (0, 5), (0, 6), (0, 8), (0, 10)], [(0, 0), (0, 1), (0, 2), (0, 5), (0, 6), (0, 8), (0, 11)], [(0, 0), (0, 1), (0, 2), (0, 5), (0, 6), (0, 9), (0, 10)], [(0, 0), (0, 1), (0, 2), (0, 5), (0, 6), (0, 9), (0, 11)], [(0, 0), (0, 1), (0, 2), (0, 5), (0, 6), (0, 10), (0, 11)], [(0, 0), (0, 1), (0, 2), (0, 5), (0, 7), (0, 8), (0, 9)], [(0, 0), (0, 1), (0, 2), (0, 5), (0, 7), (0, 8), (0, 10)], [(0, 0), (0, 1), (0, 2), (0, 5), (0, 7), (0, 8), (0, 11)], [(0, 0), (0, 1), (0, 2), (0, 5), (0, 7), (0, 9), (0, 10)], [(0, 0), (0, 1), (0, 2), (0, 5), (0, 7), (0, 9), (0, 11)], [(0, 0), (0, 1), (0, 2), (0, 5), (0, 7), (0, 10), (0, 11)], [(0, 0), (0, 1), (0, 2), (0, 5), (0, 8), (0, 9), (0, 10)], [(0, 0), (0, 1), (0, 2), (0, 5), (0, 8), (0, 9), (0, 11)], [(0, 0), (0, 1), (0, 2), (0, 5), (0, 8), (0, 10), (0, 11)], [(0, 0), (0, 1), (0, 2), (0, 5), (0, 9), (0, 10), (0, 11)], [(0, 0), (0, 1), (0, 2), (0, 6), (0, 7), (0, 8), (0, 9)], [(0, 0), (0, 1), (0, 2), (0, 6), (0, 7), (0, 8), (0, 10)], [(0, 0), (0, 1), (0, 2), (0, 6), (0, 7), (0, 8), (0, 11)], [(0, 0), (0, 1), (0, 2), (0, 6), (0, 7), (0, 9), (0, 10)], [(0, 0), (0, 1), (0, 2), (0, 6), (0, 7), (0, 9), (0, 11)], [(0, 0), (0, 1), (0, 2), (0, 6), (0, 7), (0, 10), (0, 11)], [(0, 0), (0, 1), (0, 2), (0, 6), (0, 8), (0, 9), (0, 10)], [(0, 0), (0, 1), (0, 2), (0, 6), (0, 8), (0, 9), (0, 11)], [(0, 0), (0, 1), (0, 2), (0, 6), (0, 8), (0, 10), (0, 11)], [(0, 0), (0, 1), (0, 2), (0, 6), (0, 9), (0, 10), (0, 11)], [(0, 0), (0, 1), (0, 2), (0, 7), (0, 8), (0, 9), (0, 10)], [(0, 0), (0, 1), (0, 2), (0, 7), (0, 8), (0, 9), (0, 11)], [(0, 0), (0, 1), (0, 2), (0, 7), (0, 8), (0, 10), (0, 11)], [(0, 0), (0, 1), (0, 2), (0, 7), (0, 9), (0, 10), (0, 11)], [(0, 0), (0, 1), (0, 2), (0, 8), (0, 9), (0, 10), (0, 11)], [(0, 0), (0, 1), (0, 3), (0, 4), (0, 5), (0, 6), (0, 7)], [(0, 0), (0, 1), (0, 3), (0, 4), (0, 5), (0, 6), (0, 8)], [(0, 0), (0, 1), (0, 3), (0, 4), (0, 5), (0, 6), (0, 9)], [(0, 0), (0, 1), (0, 3), (0, 4), (0, 5), (0, 6), (0, 10)], [(0, 0), (0, 1), (0, 3), (0, 4), (0, 5), (0, 6), (0, 11)], [(0, 0), (0, 1), (0, 3), (0, 4), (0, 5), (0, 7), (0, 8)], [(0, 0), (0, 1), (0, 3), (0, 4), (0, 5), (0, 7), (0, 9)], [(0, 0), (0, 1), (0, 3), (0, 4), (0, 5), (0, 7), (0, 10)], [(0, 0), (0, 1), (0, 3), (0, 4), (0, 5), (0, 7), (0, 11)], [(0, 0), (0, 1), (0, 3), (0, 4), (0, 5), (0, 8), (0, 9)], [(0, 0), (0, 1), (0, 3), (0, 4), (0, 5), (0, 8), (0, 10)], [(0, 0), (0, 1), (0, 3), (0, 4), (0, 5), (0, 8), (0, 11)], [(0, 0), (0, 1), (0, 3), (0, 4), (0, 5), (0, 9), (0, 10)], [(0, 0), (0, 1), (0, 3), (0, 4), (0, 5), (0, 9), (0, 11)], [(0, 0), (0, 1), (0, 3), (0, 4), (0, 5), (0, 10), (0, 11)], [(0, 0), (0, 1), (0, 3), (0, 4), (0, 6), (0, 7), (0, 8)], [(0, 0), (0, 1), (0, 3), (0, 4), (0, 6), (0, 7), (0, 9)], [(0, 0), (0, 1), (0, 3), (0, 4), (0, 6), (0, 7), (0, 10)], [(0, 0), (0, 1), (0, 3), (0, 4), (0, 6), (0, 7), (0, 11)], [(0, 0), (0, 1), (0, 3), (0, 4), (0, 6), (0, 8), (0, 9)], [(0, 0), (0, 1), (0, 3), (0, 4), (0, 6), (0, 8), (0, 10)], [(0, 0), (0, 1), (0, 3), (0, 4), (0, 6), (0, 8), (0, 11)], [(0, 0), (0, 1), (0, 3), (0, 4), (0, 6), (0, 9), (0, 10)], [(0, 0), (0, 1), (0, 3), (0, 4), (0, 6), (0, 9), (0, 11)], [(0, 0), (0, 1), (0, 3), (0, 4), (0, 6), (0, 10), (0, 11)], [(0, 0), (0, 1), (0, 3), (0, 4), (0, 7), (0, 8), (0, 9)], [(0, 0), (0, 1), (0, 3), (0, 4), (0, 7), (0, 8), (0, 10)], [(0, 0), (0, 1), (0, 3), (0, 4), (0, 7), (0, 8), (0, 11)], [(0, 0), (0, 1), (0, 3), (0, 4), (0, 7), (0, 9), (0, 10)], [(0, 0), (0, 1), (0, 3), (0, 4), (0, 7), (0, 9), (0, 11)], [(0, 0), (0, 1), (0, 3), (0, 4), (0, 7), (0, 10), (0, 11)], [(0, 0), (0, 1), (0, 3), (0, 4), (0, 8), (0, 9), (0, 10)], [(0, 0), (0, 1), (0, 3), (0, 4), (0, 8), (0, 9), (0, 11)], [(0, 0), (0, 1), (0, 3), (0, 4), (0, 8), (0, 10), (0, 11)], [(0, 0), (0, 1), (0, 3), (0, 4), (0, 9), (0, 10), (0, 11)], [(0, 0), (0, 1), (0, 3), (0, 5), (0, 6), (0, 7), (0, 8)], [(0, 0), (0, 1), (0, 3), (0, 5), (0, 6), (0, 7), (0, 9)], [(0, 0), (0, 1), (0, 3), (0, 5), (0, 6), (0, 7), (0, 10)], [(0, 0), (0, 1), (0, 3), (0, 5), (0, 6), (0, 7), (0, 11)], [(0, 0), (0, 1), (0, 3), (0, 5), (0, 6), (0, 8), (0, 9)], [(0, 0), (0, 1), (0, 3), (0, 5), (0, 6), (0, 8), (0, 10)], [(0, 0), (0, 1), (0, 3), (0, 5), (0, 6), (0, 8), (0, 11)], [(0, 0), (0, 1), (0, 3), (0, 5), (0, 6), (0, 9), (0, 10)], [(0, 0), (0, 1), (0, 3), (0, 5), (0, 6), (0, 9), (0, 11)], [(0, 0), (0, 1), (0, 3), (0, 5), (0, 6), (0, 10), (0, 11)], [(0, 0), (0, 1), (0, 3), (0, 5), (0, 7), (0, 8), (0, 9)], [(0, 0), (0, 1), (0, 3), (0, 5), (0, 7), (0, 8), (0, 10)], [(0, 0), (0, 1), (0, 3), (0, 5), (0, 7), (0, 8), (0, 11)], [(0, 0), (0, 1), (0, 3), (0, 5), (0, 7), (0, 9), (0, 10)], [(0, 0), (0, 1), (0, 3), (0, 5), (0, 7), (0, 9), (0, 11)], [(0, 0), (0, 1), (0, 3), (0, 5), (0, 7), (0, 10), (0, 11)], [(0, 0), (0, 1), (0, 3), (0, 5), (0, 8), (0, 9), (0, 10)], [(0, 0), (0, 1), (0, 3), (0, 5), (0, 8), (0, 9), (0, 11)], [(0, 0), (0, 1), (0, 3), (0, 5), (0, 8), (0, 10), (0, 11)], [(0, 0), (0, 1), (0, 3), (0, 5), (0, 9), (0, 10), (0, 11)], [(0, 0), (0, 1), (0, 3), (0, 6), (0, 7), (0, 8), (0, 9)], [(0, 0), (0, 1), (0, 3), (0, 6), (0, 7), (0, 8), (0, 10)], [(0, 0), (0, 1), (0, 3), (0, 6), (0, 7), (0, 8), (0, 11)], [(0, 0), (0, 1), (0, 3), (0, 6), (0, 7), (0, 9), (0, 10)], [(0, 0), (0, 1), (0, 3), (0, 6), (0, 7), (0, 9), (0, 11)], [(0, 0), (0, 1), (0, 3), (0, 6), (0, 7), (0, 10), (0, 11)], [(0, 0), (0, 1), (0, 3), (0, 6), (0, 8), (0, 9), (0, 10)], [(0, 0), (0, 1), (0, 3), (0, 6), (0, 8), (0, 9), (0, 11)], [(0, 0), (0, 1), (0, 3), (0, 6), (0, 8), (0, 10), (0, 11)], [(0, 0), (0, 1), (0, 3), (0, 6), (0, 9), (0, 10), (0, 11)], [(0, 0), (0, 1), (0, 3), (0, 7), (0, 8), (0, 9), (0, 10)], [(0, 0), (0, 1), (0, 3), (0, 7), (0, 8), (0, 9), (0, 11)], [(0, 0), (0, 1), (0, 3), (0, 7), (0, 8), (0, 10), (0, 11)], [(0, 0), (0, 1), (0, 3), (0, 7), (0, 9), (0, 10), (0, 11)], [(0, 0), (0, 1), (0, 3), (0, 8), (0, 9), (0, 10), (0, 11)], [(0, 0), (0, 1), (0, 4), (0, 5), (0, 6), (0, 7), (0, 8)], [(0, 0), (0, 1), (0, 4), (0, 5), (0, 6), (0, 7), (0, 9)], [(0, 0), (0, 1), (0, 4), (0, 5), (0, 6), (0, 7), (0, 10)], [(0, 0), (0, 1), (0, 4), (0, 5), (0, 6), (0, 7), (0, 11)], [(0, 0), (0, 1), (0, 4), (0, 5), (0, 6), (0, 8), (0, 9)], [(0, 0), (0, 1), (0, 4), (0, 5), (0, 6), (0, 8), (0, 10)], [(0, 0), (0, 1), (0, 4), (0, 5), (0, 6), (0, 8), (0, 11)], [(0, 0), (0, 1), (0, 4), (0, 5), (0, 6), (0, 9), (0, 10)], [(0, 0), (0, 1), (0, 4), (0, 5), (0, 6), (0, 9), (0, 11)], [(0, 0), (0, 1), (0, 4), (0, 5), (0, 6), (0, 10), (0, 11)], [(0, 0), (0, 1), (0, 4), (0, 5), (0, 7), (0, 8), (0, 9)], [(0, 0), (0, 1), (0, 4), (0, 5), (0, 7), (0, 8), (0, 10)], [(0, 0), (0, 1), (0, 4), (0, 5), (0, 7), (0, 8), (0, 11)], [(0, 0), (0, 1), (0, 4), (0, 5), (0, 7), (0, 9), (0, 10)], [(0, 0), (0, 1), (0, 4), (0, 5), (0, 7), (0, 9), (0, 11)], [(0, 0), (0, 1), (0, 4), (0, 5), (0, 7), (0, 10), (0, 11)], [(0, 0), (0, 1), (0, 4), (0, 5), (0, 8), (0, 9), (0, 10)], [(0, 0), (0, 1), (0, 4), (0, 5), (0, 8), (0, 9), (0, 11)], [(0, 0), (0, 1), (0, 4), (0, 5), (0, 8), (0, 10), (0, 11)], [(0, 0), (0, 1), (0, 4), (0, 5), (0, 9), (0, 10), (0, 11)], [(0, 0), (0, 1), (0, 4), (0, 6), (0, 7), (0, 8), (0, 9)], [(0, 0), (0, 1), (0, 4), (0, 6), (0, 7), (0, 8), (0, 10)], [(0, 0), (0, 1), (0, 4), (0, 6), (0, 7), (0, 8), (0, 11)], [(0, 0), (0, 1), (0, 4), (0, 6), (0, 7), (0, 9), (0, 10)], [(0, 0), (0, 1), (0, 4), (0, 6), (0, 7), (0, 9), (0, 11)], [(0, 0), (0, 1), (0, 4), (0, 6), (0, 7), (0, 10), (0, 11)], [(0, 0), (0, 1), (0, 4), (0, 6), (0, 8), (0, 9), (0, 10)], [(0, 0), (0, 1), (0, 4), (0, 6), (0, 8), (0, 9), (0, 11)], [(0, 0), (0, 1), (0, 4), (0, 6), (0, 8), (0, 10), (0, 11)], [(0, 0), (0, 1), (0, 4), (0, 6), (0, 9), (0, 10), (0, 11)], [(0, 0), (0, 1), (0, 4), (0, 7), (0, 8), (0, 9), (0, 10)], [(0, 0), (0, 1), (0, 4), (0, 7), (0, 8), (0, 9), (0, 11)], [(0, 0), (0, 1), (0, 4), (0, 7), (0, 8), (0, 10), (0, 11)], [(0, 0), (0, 1), (0, 4), (0, 7), (0, 9), (0, 10), (0, 11)], [(0, 0), (0, 1), (0, 4), (0, 8), (0, 9), (0, 10), (0, 11)], [(0, 0), (0, 1), (0, 5), (0, 6), (0, 7), (0, 8), (0, 9)], [(0, 0), (0, 1), (0, 5), (0, 6), (0, 7), (0, 8), (0, 10)], [(0, 0), (0, 1), (0, 5), (0, 6), (0, 7), (0, 8), (0, 11)], [(0, 0), (0, 1), (0, 5), (0, 6), (0, 7), (0, 9), (0, 10)], [(0, 0), (0, 1), (0, 5), (0, 6), (0, 7), (0, 9), (0, 11)], [(0, 0), (0, 1), (0, 5), (0, 6), (0, 7), (0, 10), (0, 11)], [(0, 0), (0, 1), (0, 5), (0, 6), (0, 8), (0, 9), (0, 10)], [(0, 0), (0, 1), (0, 5), (0, 6), (0, 8), (0, 9), (0, 11)], [(0, 0), (0, 1), (0, 5), (0, 6), (0, 8), (0, 10), (0, 11)], [(0, 0), (0, 1), (0, 5), (0, 6), (0, 9), (0, 10), (0, 11)], [(0, 0), (0, 1), (0, 5), (0, 7), (0, 8), (0, 9), (0, 10)], [(0, 0), (0, 1), (0, 5), (0, 7), (0, 8), (0, 9), (0, 11)], [(0, 0), (0, 1), (0, 5), (0, 7), (0, 8), (0, 10), (0, 11)], [(0, 0), (0, 1), (0, 5), (0, 7), (0, 9), (0, 10), (0, 11)], [(0, 0), (0, 1), (0, 5), (0, 8), (0, 9), (0, 10), (0, 11)], [(0, 0), (0, 1), (0, 6), (0, 7), (0, 8), (0, 9), (0, 10)], [(0, 0), (0, 1), (0, 6), (0, 7), (0, 8), (0, 9), (0, 11)], [(0, 0), (0, 1), (0, 6), (0, 7), (0, 8), (0, 10), (0, 11)], [(0, 0), (0, 1), (0, 6), (0, 7), (0, 9), (0, 10), (0, 11)], [(0, 0), (0, 1), (0, 6), (0, 8), (0, 9), (0, 10), (0, 11)], [(0, 0), (0, 1), (0, 7), (0, 8), (0, 9), (0, 10), (0, 11)], [(0, 0), (0, 2), (0, 3), (0, 4), (0, 5), (0, 6), (0, 7)], [(0, 0), (0, 2), (0, 3), (0, 4), (0, 5), (0, 6), (0, 8)], [(0, 0), (0, 2), (0, 3), (0, 4), (0, 5), (0, 6), (0, 9)], [(0, 0), (0, 2), (0, 3), (0, 4), (0, 5), (0, 6), (0, 10)], [(0, 0), (0, 2), (0, 3), (0, 4), (0, 5), (0, 6), (0, 11)], [(0, 0), (0, 2), (0, 3), (0, 4), (0, 5), (0, 7), (0, 8)], [(0, 0), (0, 2), (0, 3), (0, 4), (0, 5), (0, 7), (0, 9)], [(0, 0), (0, 2), (0, 3), (0, 4), (0, 5), (0, 7), (0, 10)], [(0, 0), (0, 2), (0, 3), (0, 4), (0, 5), (0, 7), (0, 11)], [(0, 0), (0, 2), (0, 3), (0, 4), (0, 5), (0, 8), (0, 9)], [(0, 0), (0, 2), (0, 3), (0, 4), (0, 5), (0, 8), (0, 10)], [(0, 0), (0, 2), (0, 3), (0, 4), (0, 5), (0, 8), (0, 11)], [(0, 0), (0, 2), (0, 3), (0, 4), (0, 5), (0, 9), (0, 10)], [(0, 0), (0, 2), (0, 3), (0, 4), (0, 5), (0, 9), (0, 11)], [(0, 0), (0, 2), (0, 3), (0, 4), (0, 5), (0, 10), (0, 11)], [(0, 0), (0, 2), (0, 3), (0, 4), (0, 6), (0, 7), (0, 8)], [(0, 0), (0, 2), (0, 3), (0, 4), (0, 6), (0, 7), (0, 9)], [(0, 0), (0, 2), (0, 3), (0, 4), (0, 6), (0, 7), (0, 10)], [(0, 0), (0, 2), (0, 3), (0, 4), (0, 6), (0, 7), (0, 11)], [(0, 0), (0, 2), (0, 3), (0, 4), (0, 6), (0, 8), (0, 9)], [(0, 0), (0, 2), (0, 3), (0, 4), (0, 6), (0, 8), (0, 10)], [(0, 0), (0, 2), (0, 3), (0, 4), (0, 6), (0, 8), (0, 11)], [(0, 0), (0, 2), (0, 3), (0, 4), (0, 6), (0, 9), (0, 10)], [(0, 0), (0, 2), (0, 3), (0, 4), (0, 6), (0, 9), (0, 11)], [(0, 0), (0, 2), (0, 3), (0, 4), (0, 6), (0, 10), (0, 11)], [(0, 0), (0, 2), (0, 3), (0, 4), (0, 7), (0, 8), (0, 9)], [(0, 0), (0, 2), (0, 3), (0, 4), (0, 7), (0, 8), (0, 10)], [(0, 0), (0, 2), (0, 3), (0, 4), (0, 7), (0, 8), (0, 11)], [(0, 0), (0, 2), (0, 3), (0, 4), (0, 7), (0, 9), (0, 10)], [(0, 0), (0, 2), (0, 3), (0, 4), (0, 7), (0, 9), (0, 11)], [(0, 0), (0, 2), (0, 3), (0, 4), (0, 7), (0, 10), (0, 11)], [(0, 0), (0, 2), (0, 3), (0, 4), (0, 8), (0, 9), (0, 10)], [(0, 0), (0, 2), (0, 3), (0, 4), (0, 8), (0, 9), (0, 11)], [(0, 0), (0, 2), (0, 3), (0, 4), (0, 8), (0, 10), (0, 11)], [(0, 0), (0, 2), (0, 3), (0, 4), (0, 9), (0, 10), (0, 11)], [(0, 0), (0, 2), (0, 3), (0, 5), (0, 6), (0, 7), (0, 8)], [(0, 0), (0, 2), (0, 3), (0, 5), (0, 6), (0, 7), (0, 9)], [(0, 0), (0, 2), (0, 3), (0, 5), (0, 6), (0, 7), (0, 10)], [(0, 0), (0, 2), (0, 3), (0, 5), (0, 6), (0, 7), (0, 11)], [(0, 0), (0, 2), (0, 3), (0, 5), (0, 6), (0, 8), (0, 9)], [(0, 0), (0, 2), (0, 3), (0, 5), (0, 6), (0, 8), (0, 10)], [(0, 0), (0, 2), (0, 3), (0, 5), (0, 6), (0, 8), (0, 11)], [(0, 0), (0, 2), (0, 3), (0, 5), (0, 6), (0, 9), (0, 10)], [(0, 0), (0, 2), (0, 3), (0, 5), (0, 6), (0, 9), (0, 11)], [(0, 0), (0, 2), (0, 3), (0, 5), (0, 6), (0, 10), (0, 11)], [(0, 0), (0, 2), (0, 3), (0, 5), (0, 7), (0, 8), (0, 9)], [(0, 0), (0, 2), (0, 3), (0, 5), (0, 7), (0, 8), (0, 10)], [(0, 0), (0, 2), (0, 3), (0, 5), (0, 7), (0, 8), (0, 11)], [(0, 0), (0, 2), (0, 3), (0, 5), (0, 7), (0, 9), (0, 10)], [(0, 0), (0, 2), (0, 3), (0, 5), (0, 7), (0, 9), (0, 11)], [(0, 0), (0, 2), (0, 3), (0, 5), (0, 7), (0, 10), (0, 11)], [(0, 0), (0, 2), (0, 3), (0, 5), (0, 8), (0, 9), (0, 10)], [(0, 0), (0, 2), (0, 3), (0, 5), (0, 8), (0, 9), (0, 11)], [(0, 0), (0, 2), (0, 3), (0, 5), (0, 8), (0, 10), (0, 11)], [(0, 0), (0, 2), (0, 3), (0, 5), (0, 9), (0, 10), (0, 11)], [(0, 0), (0, 2), (0, 3), (0, 6), (0, 7), (0, 8), (0, 9)], [(0, 0), (0, 2), (0, 3), (0, 6), (0, 7), (0, 8), (0, 10)], [(0, 0), (0, 2), (0, 3), (0, 6), (0, 7), (0, 8), (0, 11)], [(0, 0), (0, 2), (0, 3), (0, 6), (0, 7), (0, 9), (0, 10)], [(0, 0), (0, 2), (0, 3), (0, 6), (0, 7), (0, 9), (0, 11)], [(0, 0), (0, 2), (0, 3), (0, 6), (0, 7), (0, 10), (0, 11)], [(0, 0), (0, 2), (0, 3), (0, 6), (0, 8), (0, 9), (0, 10)], [(0, 0), (0, 2), (0, 3), (0, 6), (0, 8), (0, 9), (0, 11)], [(0, 0), (0, 2), (0, 3), (0, 6), (0, 8), (0, 10), (0, 11)], [(0, 0), (0, 2), (0, 3), (0, 6), (0, 9), (0, 10), (0, 11)], [(0, 0), (0, 2), (0, 3), (0, 7), (0, 8), (0, 9), (0, 10)], [(0, 0), (0, 2), (0, 3), (0, 7), (0, 8), (0, 9), (0, 11)], [(0, 0), (0, 2), (0, 3), (0, 7), (0, 8), (0, 10), (0, 11)], [(0, 0), (0, 2), (0, 3), (0, 7), (0, 9), (0, 10), (0, 11)], [(0, 0), (0, 2), (0, 3), (0, 8), (0, 9), (0, 10), (0, 11)], [(0, 0), (0, 2), (0, 4), (0, 5), (0, 6), (0, 7), (0, 8)], [(0, 0), (0, 2), (0, 4), (0, 5), (0, 6), (0, 7), (0, 9)], [(0, 0), (0, 2), (0, 4), (0, 5), (0, 6), (0, 7), (0, 10)], [(0, 0), (0, 2), (0, 4), (0, 5), (0, 6), (0, 7), (0, 11)], [(0, 0), (0, 2), (0, 4), (0, 5), (0, 6), (0, 8), (0, 9)], [(0, 0), (0, 2), (0, 4), (0, 5), (0, 6), (0, 8), (0, 10)], [(0, 0), (0, 2), (0, 4), (0, 5), (0, 6), (0, 8), (0, 11)], [(0, 0), (0, 2), (0, 4), (0, 5), (0, 6), (0, 9), (0, 10)], [(0, 0), (0, 2), (0, 4), (0, 5), (0, 6), (0, 9), (0, 11)], [(0, 0), (0, 2), (0, 4), (0, 5), (0, 6), (0, 10), (0, 11)], [(0, 0), (0, 2), (0, 4), (0, 5), (0, 7), (0, 8), (0, 9)], [(0, 0), (0, 2), (0, 4), (0, 5), (0, 7), (0, 8), (0, 10)], [(0, 0), (0, 2), (0, 4), (0, 5), (0, 7), (0, 8), (0, 11)], [(0, 0), (0, 2), (0, 4), (0, 5), (0, 7), (0, 9), (0, 10)], [(0, 0), (0, 2), (0, 4), (0, 5), (0, 7), (0, 9), (0, 11)], [(0, 0), (0, 2), (0, 4), (0, 5), (0, 7), (0, 10), (0, 11)], [(0, 0), (0, 2), (0, 4), (0, 5), (0, 8), (0, 9), (0, 10)], [(0, 0), (0, 2), (0, 4), (0, 5), (0, 8), (0, 9), (0, 11)], [(0, 0), (0, 2), (0, 4), (0, 5), (0, 8), (0, 10), (0, 11)], [(0, 0), (0, 2), (0, 4), (0, 5), (0, 9), (0, 10), (0, 11)], [(0, 0), (0, 2), (0, 4), (0, 6), (0, 7), (0, 8), (0, 9)], [(0, 0), (0, 2), (0, 4), (0, 6), (0, 7), (0, 8), (0, 10)], [(0, 0), (0, 2), (0, 4), (0, 6), (0, 7), (0, 8), (0, 11)], [(0, 0), (0, 2), (0, 4), (0, 6), (0, 7), (0, 9), (0, 10)], [(0, 0), (0, 2), (0, 4), (0, 6), (0, 7), (0, 9), (0, 11)], [(0, 0), (0, 2), (0, 4), (0, 6), (0, 7), (0, 10), (0, 11)], [(0, 0), (0, 2), (0, 4), (0, 6), (0, 8), (0, 9), (0, 10)], [(0, 0), (0, 2), (0, 4), (0, 6), (0, 8), (0, 9), (0, 11)], [(0, 0), (0, 2), (0, 4), (0, 6), (0, 8), (0, 10), (0, 11)], [(0, 0), (0, 2), (0, 4), (0, 6), (0, 9), (0, 10), (0, 11)], [(0, 0), (0, 2), (0, 4), (0, 7), (0, 8), (0, 9), (0, 10)], [(0, 0), (0, 2), (0, 4), (0, 7), (0, 8), (0, 9), (0, 11)], [(0, 0), (0, 2), (0, 4), (0, 7), (0, 8), (0, 10), (0, 11)], [(0, 0), (0, 2), (0, 4), (0, 7), (0, 9), (0, 10), (0, 11)], [(0, 0), (0, 2), (0, 4), (0, 8), (0, 9), (0, 10), (0, 11)], [(0, 0), (0, 2), (0, 5), (0, 6), (0, 7), (0, 8), (0, 9)], [(0, 0), (0, 2), (0, 5), (0, 6), (0, 7), (0, 8), (0, 10)], [(0, 0), (0, 2), (0, 5), (0, 6), (0, 7), (0, 8), (0, 11)], [(0, 0), (0, 2), (0, 5), (0, 6), (0, 7), (0, 9), (0, 10)], [(0, 0), (0, 2), (0, 5), (0, 6), (0, 7), (0, 9), (0, 11)], [(0, 0), (0, 2), (0, 5), (0, 6), (0, 7), (0, 10), (0, 11)], [(0, 0), (0, 2), (0, 5), (0, 6), (0, 8), (0, 9), (0, 10)], [(0, 0), (0, 2), (0, 5), (0, 6), (0, 8), (0, 9), (0, 11)], [(0, 0), (0, 2), (0, 5), (0, 6), (0, 8), (0, 10), (0, 11)], [(0, 0), (0, 2), (0, 5), (0, 6), (0, 9), (0, 10), (0, 11)], [(0, 0), (0, 2), (0, 5), (0, 7), (0, 8), (0, 9), (0, 10)], [(0, 0), (0, 2), (0, 5), (0, 7), (0, 8), (0, 9), (0, 11)], [(0, 0), (0, 2), (0, 5), (0, 7), (0, 8), (0, 10), (0, 11)], [(0, 0), (0, 2), (0, 5), (0, 7), (0, 9), (0, 10), (0, 11)], [(0, 0), (0, 2), (0, 5), (0, 8), (0, 9), (0, 10), (0, 11)], [(0, 0), (0, 2), (0, 6), (0, 7), (0, 8), (0, 9), (0, 10)], [(0, 0), (0, 2), (0, 6), (0, 7), (0, 8), (0, 9), (0, 11)], [(0, 0), (0, 2), (0, 6), (0, 7), (0, 8), (0, 10), (0, 11)], [(0, 0), (0, 2), (0, 6), (0, 7), (0, 9), (0, 10), (0, 11)], [(0, 0), (0, 2), (0, 6), (0, 8), (0, 9), (0, 10), (0, 11)], [(0, 0), (0, 2), (0, 7), (0, 8), (0, 9), (0, 10), (0, 11)], [(0, 0), (0, 3), (0, 4), (0, 5), (0, 6), (0, 7), (0, 8)], [(0, 0), (0, 3), (0, 4), (0, 5), (0, 6), (0, 7), (0, 9)], [(0, 0), (0, 3), (0, 4), (0, 5), (0, 6), (0, 7), (0, 10)], [(0, 0), (0, 3), (0, 4), (0, 5), (0, 6), (0, 7), (0, 11)], [(0, 0), (0, 3), (0, 4), (0, 5), (0, 6), (0, 8), (0, 9)], [(0, 0), (0, 3), (0, 4), (0, 5), (0, 6), (0, 8), (0, 10)], [(0, 0), (0, 3), (0, 4), (0, 5), (0, 6), (0, 8), (0, 11)], [(0, 0), (0, 3), (0, 4), (0, 5), (0, 6), (0, 9), (0, 10)], [(0, 0), (0, 3), (0, 4), (0, 5), (0, 6), (0, 9), (0, 11)], [(0, 0), (0, 3), (0, 4), (0, 5), (0, 6), (0, 10), (0, 11)], [(0, 0), (0, 3), (0, 4), (0, 5), (0, 7), (0, 8), (0, 9)], [(0, 0), (0, 3), (0, 4), (0, 5), (0, 7), (0, 8), (0, 10)], [(0, 0), (0, 3), (0, 4), (0, 5), (0, 7), (0, 8), (0, 11)], [(0, 0), (0, 3), (0, 4), (0, 5), (0, 7), (0, 9), (0, 10)], [(0, 0), (0, 3), (0, 4), (0, 5), (0, 7), (0, 9), (0, 11)], [(0, 0), (0, 3), (0, 4), (0, 5), (0, 7), (0, 10), (0, 11)], [(0, 0), (0, 3), (0, 4), (0, 5), (0, 8), (0, 9), (0, 10)], [(0, 0), (0, 3), (0, 4), (0, 5), (0, 8), (0, 9), (0, 11)], [(0, 0), (0, 3), (0, 4), (0, 5), (0, 8), (0, 10), (0, 11)], [(0, 0), (0, 3), (0, 4), (0, 5), (0, 9), (0, 10), (0, 11)], [(0, 0), (0, 3), (0, 4), (0, 6), (0, 7), (0, 8), (0, 9)], [(0, 0), (0, 3), (0, 4), (0, 6), (0, 7), (0, 8), (0, 10)], [(0, 0), (0, 3), (0, 4), (0, 6), (0, 7), (0, 8), (0, 11)], [(0, 0), (0, 3), (0, 4), (0, 6), (0, 7), (0, 9), (0, 10)], [(0, 0), (0, 3), (0, 4), (0, 6), (0, 7), (0, 9), (0, 11)], [(0, 0), (0, 3), (0, 4), (0, 6), (0, 7), (0, 10), (0, 11)], [(0, 0), (0, 3), (0, 4), (0, 6), (0, 8), (0, 9), (0, 10)], [(0, 0), (0, 3), (0, 4), (0, 6), (0, 8), (0, 9), (0, 11)], [(0, 0), (0, 3), (0, 4), (0, 6), (0, 8), (0, 10), (0, 11)], [(0, 0), (0, 3), (0, 4), (0, 6), (0, 9), (0, 10), (0, 11)], [(0, 0), (0, 3), (0, 4), (0, 7), (0, 8), (0, 9), (0, 10)], [(0, 0), (0, 3), (0, 4), (0, 7), (0, 8), (0, 9), (0, 11)], [(0, 0), (0, 3), (0, 4), (0, 7), (0, 8), (0, 10), (0, 11)], [(0, 0), (0, 3), (0, 4), (0, 7), (0, 9), (0, 10), (0, 11)], [(0, 0), (0, 3), (0, 4), (0, 8), (0, 9), (0, 10), (0, 11)], [(0, 0), (0, 3), (0, 5), (0, 6), (0, 7), (0, 8), (0, 9)], [(0, 0), (0, 3), (0, 5), (0, 6), (0, 7), (0, 8), (0, 10)], [(0, 0), (0, 3), (0, 5), (0, 6), (0, 7), (0, 8), (0, 11)], [(0, 0), (0, 3), (0, 5), (0, 6), (0, 7), (0, 9), (0, 10)], [(0, 0), (0, 3), (0, 5), (0, 6), (0, 7), (0, 9), (0, 11)], [(0, 0), (0, 3), (0, 5), (0, 6), (0, 7), (0, 10), (0, 11)], [(0, 0), (0, 3), (0, 5), (0, 6), (0, 8), (0, 9), (0, 10)], [(0, 0), (0, 3), (0, 5), (0, 6), (0, 8), (0, 9), (0, 11)], [(0, 0), (0, 3), (0, 5), (0, 6), (0, 8), (0, 10), (0, 11)], [(0, 0), (0, 3), (0, 5), (0, 6), (0, 9), (0, 10), (0, 11)], [(0, 0), (0, 3), (0, 5), (0, 7), (0, 8), (0, 9), (0, 10)], [(0, 0), (0, 3), (0, 5), (0, 7), (0, 8), (0, 9), (0, 11)], [(0, 0), (0, 3), (0, 5), (0, 7), (0, 8), (0, 10), (0, 11)], [(0, 0), (0, 3), (0, 5), (0, 7), (0, 9), (0, 10), (0, 11)], [(0, 0), (0, 3), (0, 5), (0, 8), (0, 9), (0, 10), (0, 11)], [(0, 0), (0, 3), (0, 6), (0, 7), (0, 8), (0, 9), (0, 10)], [(0, 0), (0, 3), (0, 6), (0, 7), (0, 8), (0, 9), (0, 11)], [(0, 0), (0, 3), (0, 6), (0, 7), (0, 8), (0, 10), (0, 11)], [(0, 0), (0, 3), (0, 6), (0, 7), (0, 9), (0, 10), (0, 11)], [(0, 0), (0, 3), (0, 6), (0, 8), (0, 9), (0, 10), (0, 11)], [(0, 0), (0, 3), (0, 7), (0, 8), (0, 9), (0, 10), (0, 11)], [(0, 0), (0, 4), (0, 5), (0, 6), (0, 7), (0, 8), (0, 9)], [(0, 0), (0, 4), (0, 5), (0, 6), (0, 7), (0, 8), (0, 10)], [(0, 0), (0, 4), (0, 5), (0, 6), (0, 7), (0, 8), (0, 11)], [(0, 0), (0, 4), (0, 5), (0, 6), (0, 7), (0, 9), (0, 10)], [(0, 0), (0, 4), (0, 5), (0, 6), (0, 7), (0, 9), (0, 11)], [(0, 0), (0, 4), (0, 5), (0, 6), (0, 7), (0, 10), (0, 11)], [(0, 0), (0, 4), (0, 5), (0, 6), (0, 8), (0, 9), (0, 10)], [(0, 0), (0, 4), (0, 5), (0, 6), (0, 8), (0, 9), (0, 11)], [(0, 0), (0, 4), (0, 5), (0, 6), (0, 8), (0, 10), (0, 11)], [(0, 0), (0, 4), (0, 5), (0, 6), (0, 9), (0, 10), (0, 11)], [(0, 0), (0, 4), (0, 5), (0, 7), (0, 8), (0, 9), (0, 10)], [(0, 0), (0, 4), (0, 5), (0, 7), (0, 8), (0, 9), (0, 11)], [(0, 0), (0, 4), (0, 5), (0, 7), (0, 8), (0, 10), (0, 11)], [(0, 0), (0, 4), (0, 5), (0, 7), (0, 9), (0, 10), (0, 11)], [(0, 0), (0, 4), (0, 5), (0, 8), (0, 9), (0, 10), (0, 11)], [(0, 0), (0, 4), (0, 6), (0, 7), (0, 8), (0, 9), (0, 10)], [(0, 0), (0, 4), (0, 6), (0, 7), (0, 8), (0, 9), (0, 11)], [(0, 0), (0, 4), (0, 6), (0, 7), (0, 8), (0, 10), (0, 11)], [(0, 0), (0, 4), (0, 6), (0, 7), (0, 9), (0, 10), (0, 11)], [(0, 0), (0, 4), (0, 6), (0, 8), (0, 9), (0, 10), (0, 11)], [(0, 0), (0, 4), (0, 7), (0, 8), (0, 9), (0, 10), (0, 11)], [(0, 0), (0, 5), (0, 6), (0, 7), (0, 8), (0, 9), (0, 10)], [(0, 0), (0, 5), (0, 6), (0, 7), (0, 8), (0, 9), (0, 11)], [(0, 0), (0, 5), (0, 6), (0, 7), (0, 8), (0, 10), (0, 11)], [(0, 0), (0, 5), (0, 6), (0, 7), (0, 9), (0, 10), (0, 11)], [(0, 0), (0, 5), (0, 6), (0, 8), (0, 9), (0, 10), (0, 11)], [(0, 0), (0, 5), (0, 7), (0, 8), (0, 9), (0, 10), (0, 11)], [(0, 0), (0, 6), (0, 7), (0, 8), (0, 9), (0, 10), (0, 11)], [(0, 1), (0, 2), (0, 3), (0, 4), (0, 5), (0, 6), (0, 7)], [(0, 1), (0, 2), (0, 3), (0, 4), (0, 5), (0, 6), (0, 8)], [(0, 1), (0, 2), (0, 3), (0, 4), (0, 5), (0, 6), (0, 9)], [(0, 1), (0, 2), (0, 3), (0, 4), (0, 5), (0, 6), (0, 10)], [(0, 1), (0, 2), (0, 3), (0, 4), (0, 5), (0, 6), (0, 11)], [(0, 1), (0, 2), (0, 3), (0, 4), (0, 5), (0, 7), (0, 8)], [(0, 1), (0, 2), (0, 3), (0, 4), (0, 5), (0, 7), (0, 9)], [(0, 1), (0, 2), (0, 3), (0, 4), (0, 5), (0, 7), (0, 10)], [(0, 1), (0, 2), (0, 3), (0, 4), (0, 5), (0, 7), (0, 11)], [(0, 1), (0, 2), (0, 3), (0, 4), (0, 5), (0, 8), (0, 9)], [(0, 1), (0, 2), (0, 3), (0, 4), (0, 5), (0, 8), (0, 10)], [(0, 1), (0, 2), (0, 3), (0, 4), (0, 5), (0, 8), (0, 11)], [(0, 1), (0, 2), (0, 3), (0, 4), (0, 5), (0, 9), (0, 10)], [(0, 1), (0, 2), (0, 3), (0, 4), (0, 5), (0, 9), (0, 11)], [(0, 1), (0, 2), (0, 3), (0, 4), (0, 5), (0, 10), (0, 11)], [(0, 1), (0, 2), (0, 3), (0, 4), (0, 6), (0, 7), (0, 8)], [(0, 1), (0, 2), (0, 3), (0, 4), (0, 6), (0, 7), (0, 9)], [(0, 1), (0, 2), (0, 3), (0, 4), (0, 6), (0, 7), (0, 10)], [(0, 1), (0, 2), (0, 3), (0, 4), (0, 6), (0, 7), (0, 11)], [(0, 1), (0, 2), (0, 3), (0, 4), (0, 6), (0, 8), (0, 9)], [(0, 1), (0, 2), (0, 3), (0, 4), (0, 6), (0, 8), (0, 10)], [(0, 1), (0, 2), (0, 3), (0, 4), (0, 6), (0, 8), (0, 11)], [(0, 1), (0, 2), (0, 3), (0, 4), (0, 6), (0, 9), (0, 10)], [(0, 1), (0, 2), (0, 3), (0, 4), (0, 6), (0, 9), (0, 11)], [(0, 1), (0, 2), (0, 3), (0, 4), (0, 6), (0, 10), (0, 11)], [(0, 1), (0, 2), (0, 3), (0, 4), (0, 7), (0, 8), (0, 9)], [(0, 1), (0, 2), (0, 3), (0, 4), (0, 7), (0, 8), (0, 10)], [(0, 1), (0, 2), (0, 3), (0, 4), (0, 7), (0, 8), (0, 11)], [(0, 1), (0, 2), (0, 3), (0, 4), (0, 7), (0, 9), (0, 10)], [(0, 1), (0, 2), (0, 3), (0, 4), (0, 7), (0, 9), (0, 11)], [(0, 1), (0, 2), (0, 3), (0, 4), (0, 7), (0, 10), (0, 11)], [(0, 1), (0, 2), (0, 3), (0, 4), (0, 8), (0, 9), (0, 10)], [(0, 1), (0, 2), (0, 3), (0, 4), (0, 8), (0, 9), (0, 11)], [(0, 1), (0, 2), (0, 3), (0, 4), (0, 8), (0, 10), (0, 11)], [(0, 1), (0, 2), (0, 3), (0, 4), (0, 9), (0, 10), (0, 11)], [(0, 1), (0, 2), (0, 3), (0, 5), (0, 6), (0, 7), (0, 8)], [(0, 1), (0, 2), (0, 3), (0, 5), (0, 6), (0, 7), (0, 9)], [(0, 1), (0, 2), (0, 3), (0, 5), (0, 6), (0, 7), (0, 10)], [(0, 1), (0, 2), (0, 3), (0, 5), (0, 6), (0, 7), (0, 11)], [(0, 1), (0, 2), (0, 3), (0, 5), (0, 6), (0, 8), (0, 9)], [(0, 1), (0, 2), (0, 3), (0, 5), (0, 6), (0, 8), (0, 10)], [(0, 1), (0, 2), (0, 3), (0, 5), (0, 6), (0, 8), (0, 11)], [(0, 1), (0, 2), (0, 3), (0, 5), (0, 6), (0, 9), (0, 10)], [(0, 1), (0, 2), (0, 3), (0, 5), (0, 6), (0, 9), (0, 11)], [(0, 1), (0, 2), (0, 3), (0, 5), (0, 6), (0, 10), (0, 11)], [(0, 1), (0, 2), (0, 3), (0, 5), (0, 7), (0, 8), (0, 9)], [(0, 1), (0, 2), (0, 3), (0, 5), (0, 7), (0, 8), (0, 10)], [(0, 1), (0, 2), (0, 3), (0, 5), (0, 7), (0, 8), (0, 11)], [(0, 1), (0, 2), (0, 3), (0, 5), (0, 7), (0, 9), (0, 10)], [(0, 1), (0, 2), (0, 3), (0, 5), (0, 7), (0, 9), (0, 11)], [(0, 1), (0, 2), (0, 3), (0, 5), (0, 7), (0, 10), (0, 11)], [(0, 1), (0, 2), (0, 3), (0, 5), (0, 8), (0, 9), (0, 10)], [(0, 1), (0, 2), (0, 3), (0, 5), (0, 8), (0, 9), (0, 11)], [(0, 1), (0, 2), (0, 3), (0, 5), (0, 8), (0, 10), (0, 11)], [(0, 1), (0, 2), (0, 3), (0, 5), (0, 9), (0, 10), (0, 11)], [(0, 1), (0, 2), (0, 3), (0, 6), (0, 7), (0, 8), (0, 9)], [(0, 1), (0, 2), (0, 3), (0, 6), (0, 7), (0, 8), (0, 10)], [(0, 1), (0, 2), (0, 3), (0, 6), (0, 7), (0, 8), (0, 11)], [(0, 1), (0, 2), (0, 3), (0, 6), (0, 7), (0, 9), (0, 10)], [(0, 1), (0, 2), (0, 3), (0, 6), (0, 7), (0, 9), (0, 11)], [(0, 1), (0, 2), (0, 3), (0, 6), (0, 7), (0, 10), (0, 11)], [(0, 1), (0, 2), (0, 3), (0, 6), (0, 8), (0, 9), (0, 10)], [(0, 1), (0, 2), (0, 3), (0, 6), (0, 8), (0, 9), (0, 11)], [(0, 1), (0, 2), (0, 3), (0, 6), (0, 8), (0, 10), (0, 11)], [(0, 1), (0, 2), (0, 3), (0, 6), (0, 9), (0, 10), (0, 11)], [(0, 1), (0, 2), (0, 3), (0, 7), (0, 8), (0, 9), (0, 10)], [(0, 1), (0, 2), (0, 3), (0, 7), (0, 8), (0, 9), (0, 11)], [(0, 1), (0, 2), (0, 3), (0, 7), (0, 8), (0, 10), (0, 11)], [(0, 1), (0, 2), (0, 3), (0, 7), (0, 9), (0, 10), (0, 11)], [(0, 1), (0, 2), (0, 3), (0, 8), (0, 9), (0, 10), (0, 11)], [(0, 1), (0, 2), (0, 4), (0, 5), (0, 6), (0, 7), (0, 8)], [(0, 1), (0, 2), (0, 4), (0, 5), (0, 6), (0, 7), (0, 9)], [(0, 1), (0, 2), (0, 4), (0, 5), (0, 6), (0, 7), (0, 10)], [(0, 1), (0, 2), (0, 4), (0, 5), (0, 6), (0, 7), (0, 11)], [(0, 1), (0, 2), (0, 4), (0, 5), (0, 6), (0, 8), (0, 9)], [(0, 1), (0, 2), (0, 4), (0, 5), (0, 6), (0, 8), (0, 10)], [(0, 1), (0, 2), (0, 4), (0, 5), (0, 6), (0, 8), (0, 11)], [(0, 1), (0, 2), (0, 4), (0, 5), (0, 6), (0, 9), (0, 10)], [(0, 1), (0, 2), (0, 4), (0, 5), (0, 6), (0, 9), (0, 11)], [(0, 1), (0, 2), (0, 4), (0, 5), (0, 6), (0, 10), (0, 11)], [(0, 1), (0, 2), (0, 4), (0, 5), (0, 7), (0, 8), (0, 9)], [(0, 1), (0, 2), (0, 4), (0, 5), (0, 7), (0, 8), (0, 10)], [(0, 1), (0, 2), (0, 4), (0, 5), (0, 7), (0, 8), (0, 11)], [(0, 1), (0, 2), (0, 4), (0, 5), (0, 7), (0, 9), (0, 10)], [(0, 1), (0, 2), (0, 4), (0, 5), (0, 7), (0, 9), (0, 11)], [(0, 1), (0, 2), (0, 4), (0, 5), (0, 7), (0, 10), (0, 11)], [(0, 1), (0, 2), (0, 4), (0, 5), (0, 8), (0, 9), (0, 10)], [(0, 1), (0, 2), (0, 4), (0, 5), (0, 8), (0, 9), (0, 11)], [(0, 1), (0, 2), (0, 4), (0, 5), (0, 8), (0, 10), (0, 11)], [(0, 1), (0, 2), (0, 4), (0, 5), (0, 9), (0, 10), (0, 11)], [(0, 1), (0, 2), (0, 4), (0, 6), (0, 7), (0, 8), (0, 9)], [(0, 1), (0, 2), (0, 4), (0, 6), (0, 7), (0, 8), (0, 10)], [(0, 1), (0, 2), (0, 4), (0, 6), (0, 7), (0, 8), (0, 11)], [(0, 1), (0, 2), (0, 4), (0, 6), (0, 7), (0, 9), (0, 10)], [(0, 1), (0, 2), (0, 4), (0, 6), (0, 7), (0, 9), (0, 11)], [(0, 1), (0, 2), (0, 4), (0, 6), (0, 7), (0, 10), (0, 11)], [(0, 1), (0, 2), (0, 4), (0, 6), (0, 8), (0, 9), (0, 10)], [(0, 1), (0, 2), (0, 4), (0, 6), (0, 8), (0, 9), (0, 11)], [(0, 1), (0, 2), (0, 4), (0, 6), (0, 8), (0, 10), (0, 11)], [(0, 1), (0, 2), (0, 4), (0, 6), (0, 9), (0, 10), (0, 11)], [(0, 1), (0, 2), (0, 4), (0, 7), (0, 8), (0, 9), (0, 10)], [(0, 1), (0, 2), (0, 4), (0, 7), (0, 8), (0, 9), (0, 11)], [(0, 1), (0, 2), (0, 4), (0, 7), (0, 8), (0, 10), (0, 11)], [(0, 1), (0, 2), (0, 4), (0, 7), (0, 9), (0, 10), (0, 11)], [(0, 1), (0, 2), (0, 4), (0, 8), (0, 9), (0, 10), (0, 11)], [(0, 1), (0, 2), (0, 5), (0, 6), (0, 7), (0, 8), (0, 9)], [(0, 1), (0, 2), (0, 5), (0, 6), (0, 7), (0, 8), (0, 10)], [(0, 1), (0, 2), (0, 5), (0, 6), (0, 7), (0, 8), (0, 11)], [(0, 1), (0, 2), (0, 5), (0, 6), (0, 7), (0, 9), (0, 10)], [(0, 1), (0, 2), (0, 5), (0, 6), (0, 7), (0, 9), (0, 11)], [(0, 1), (0, 2), (0, 5), (0, 6), (0, 7), (0, 10), (0, 11)], [(0, 1), (0, 2), (0, 5), (0, 6), (0, 8), (0, 9), (0, 10)], [(0, 1), (0, 2), (0, 5), (0, 6), (0, 8), (0, 9), (0, 11)], [(0, 1), (0, 2), (0, 5), (0, 6), (0, 8), (0, 10), (0, 11)], [(0, 1), (0, 2), (0, 5), (0, 6), (0, 9), (0, 10), (0, 11)], [(0, 1), (0, 2), (0, 5), (0, 7), (0, 8), (0, 9), (0, 10)], [(0, 1), (0, 2), (0, 5), (0, 7), (0, 8), (0, 9), (0, 11)], [(0, 1), (0, 2), (0, 5), (0, 7), (0, 8), (0, 10), (0, 11)], [(0, 1), (0, 2), (0, 5), (0, 7), (0, 9), (0, 10), (0, 11)], [(0, 1), (0, 2), (0, 5), (0, 8), (0, 9), (0, 10), (0, 11)], [(0, 1), (0, 2), (0, 6), (0, 7), (0, 8), (0, 9), (0, 10)], [(0, 1), (0, 2), (0, 6), (0, 7), (0, 8), (0, 9), (0, 11)], [(0, 1), (0, 2), (0, 6), (0, 7), (0, 8), (0, 10), (0, 11)], [(0, 1), (0, 2), (0, 6), (0, 7), (0, 9), (0, 10), (0, 11)], [(0, 1), (0, 2), (0, 6), (0, 8), (0, 9), (0, 10), (0, 11)], [(0, 1), (0, 2), (0, 7), (0, 8), (0, 9), (0, 10), (0, 11)], [(0, 1), (0, 3), (0, 4), (0, 5), (0, 6), (0, 7), (0, 8)], [(0, 1), (0, 3), (0, 4), (0, 5), (0, 6), (0, 7), (0, 9)], [(0, 1), (0, 3), (0, 4), (0, 5), (0, 6), (0, 7), (0, 10)], [(0, 1), (0, 3), (0, 4), (0, 5), (0, 6), (0, 7), (0, 11)], [(0, 1), (0, 3), (0, 4), (0, 5), (0, 6), (0, 8), (0, 9)], [(0, 1), (0, 3), (0, 4), (0, 5), (0, 6), (0, 8), (0, 10)], [(0, 1), (0, 3), (0, 4), (0, 5), (0, 6), (0, 8), (0, 11)], [(0, 1), (0, 3), (0, 4), (0, 5), (0, 6), (0, 9), (0, 10)], [(0, 1), (0, 3), (0, 4), (0, 5), (0, 6), (0, 9), (0, 11)], [(0, 1), (0, 3), (0, 4), (0, 5), (0, 6), (0, 10), (0, 11)], [(0, 1), (0, 3), (0, 4), (0, 5), (0, 7), (0, 8), (0, 9)], [(0, 1), (0, 3), (0, 4), (0, 5), (0, 7), (0, 8), (0, 10)], [(0, 1), (0, 3), (0, 4), (0, 5), (0, 7), (0, 8), (0, 11)], [(0, 1), (0, 3), (0, 4), (0, 5), (0, 7), (0, 9), (0, 10)], [(0, 1), (0, 3), (0, 4), (0, 5), (0, 7), (0, 9), (0, 11)], [(0, 1), (0, 3), (0, 4), (0, 5), (0, 7), (0, 10), (0, 11)], [(0, 1), (0, 3), (0, 4), (0, 5), (0, 8), (0, 9), (0, 10)], [(0, 1), (0, 3), (0, 4), (0, 5), (0, 8), (0, 9), (0, 11)], [(0, 1), (0, 3), (0, 4), (0, 5), (0, 8), (0, 10), (0, 11)], [(0, 1), (0, 3), (0, 4), (0, 5), (0, 9), (0, 10), (0, 11)], [(0, 1), (0, 3), (0, 4), (0, 6), (0, 7), (0, 8), (0, 9)], [(0, 1), (0, 3), (0, 4), (0, 6), (0, 7), (0, 8), (0, 10)], [(0, 1), (0, 3), (0, 4), (0, 6), (0, 7), (0, 8), (0, 11)], [(0, 1), (0, 3), (0, 4), (0, 6), (0, 7), (0, 9), (0, 10)], [(0, 1), (0, 3), (0, 4), (0, 6), (0, 7), (0, 9), (0, 11)], [(0, 1), (0, 3), (0, 4), (0, 6), (0, 7), (0, 10), (0, 11)], [(0, 1), (0, 3), (0, 4), (0, 6), (0, 8), (0, 9), (0, 10)], [(0, 1), (0, 3), (0, 4), (0, 6), (0, 8), (0, 9), (0, 11)], [(0, 1), (0, 3), (0, 4), (0, 6), (0, 8), (0, 10), (0, 11)], [(0, 1), (0, 3), (0, 4), (0, 6), (0, 9), (0, 10), (0, 11)], [(0, 1), (0, 3), (0, 4), (0, 7), (0, 8), (0, 9), (0, 10)], [(0, 1), (0, 3), (0, 4), (0, 7), (0, 8), (0, 9), (0, 11)], [(0, 1), (0, 3), (0, 4), (0, 7), (0, 8), (0, 10), (0, 11)], [(0, 1), (0, 3), (0, 4), (0, 7), (0, 9), (0, 10), (0, 11)], [(0, 1), (0, 3), (0, 4), (0, 8), (0, 9), (0, 10), (0, 11)], [(0, 1), (0, 3), (0, 5), (0, 6), (0, 7), (0, 8), (0, 9)], [(0, 1), (0, 3), (0, 5), (0, 6), (0, 7), (0, 8), (0, 10)], [(0, 1), (0, 3), (0, 5), (0, 6), (0, 7), (0, 8), (0, 11)], [(0, 1), (0, 3), (0, 5), (0, 6), (0, 7), (0, 9), (0, 10)], [(0, 1), (0, 3), (0, 5), (0, 6), (0, 7), (0, 9), (0, 11)], [(0, 1), (0, 3), (0, 5), (0, 6), (0, 7), (0, 10), (0, 11)], [(0, 1), (0, 3), (0, 5), (0, 6), (0, 8), (0, 9), (0, 10)], [(0, 1), (0, 3), (0, 5), (0, 6), (0, 8), (0, 9), (0, 11)], [(0, 1), (0, 3), (0, 5), (0, 6), (0, 8), (0, 10), (0, 11)], [(0, 1), (0, 3), (0, 5), (0, 6), (0, 9), (0, 10), (0, 11)], [(0, 1), (0, 3), (0, 5), (0, 7), (0, 8), (0, 9), (0, 10)], [(0, 1), (0, 3), (0, 5), (0, 7), (0, 8), (0, 9), (0, 11)], [(0, 1), (0, 3), (0, 5), (0, 7), (0, 8), (0, 10), (0, 11)], [(0, 1), (0, 3), (0, 5), (0, 7), (0, 9), (0, 10), (0, 11)], [(0, 1), (0, 3), (0, 5), (0, 8), (0, 9), (0, 10), (0, 11)], [(0, 1), (0, 3), (0, 6), (0, 7), (0, 8), (0, 9), (0, 10)], [(0, 1), (0, 3), (0, 6), (0, 7), (0, 8), (0, 9), (0, 11)], [(0, 1), (0, 3), (0, 6), (0, 7), (0, 8), (0, 10), (0, 11)], [(0, 1), (0, 3), (0, 6), (0, 7), (0, 9), (0, 10), (0, 11)], [(0, 1), (0, 3), (0, 6), (0, 8), (0, 9), (0, 10), (0, 11)], [(0, 1), (0, 3), (0, 7), (0, 8), (0, 9), (0, 10), (0, 11)], [(0, 1), (0, 4), (0, 5), (0, 6), (0, 7), (0, 8), (0, 9)], [(0, 1), (0, 4), (0, 5), (0, 6), (0, 7), (0, 8), (0, 10)], [(0, 1), (0, 4), (0, 5), (0, 6), (0, 7), (0, 8), (0, 11)], [(0, 1), (0, 4), (0, 5), (0, 6), (0, 7), (0, 9), (0, 10)], [(0, 1), (0, 4), (0, 5), (0, 6), (0, 7), (0, 9), (0, 11)], [(0, 1), (0, 4), (0, 5), (0, 6), (0, 7), (0, 10), (0, 11)], [(0, 1), (0, 4), (0, 5), (0, 6), (0, 8), (0, 9), (0, 10)], [(0, 1), (0, 4), (0, 5), (0, 6), (0, 8), (0, 9), (0, 11)], [(0, 1), (0, 4), (0, 5), (0, 6), (0, 8), (0, 10), (0, 11)], [(0, 1), (0, 4), (0, 5), (0, 6), (0, 9), (0, 10), (0, 11)], [(0, 1), (0, 4), (0, 5), (0, 7), (0, 8), (0, 9), (0, 10)], [(0, 1), (0, 4), (0, 5), (0, 7), (0, 8), (0, 9), (0, 11)], [(0, 1), (0, 4), (0, 5), (0, 7), (0, 8), (0, 10), (0, 11)], [(0, 1), (0, 4), (0, 5), (0, 7), (0, 9), (0, 10), (0, 11)], [(0, 1), (0, 4), (0, 5), (0, 8), (0, 9), (0, 10), (0, 11)], [(0, 1), (0, 4), (0, 6), (0, 7), (0, 8), (0, 9), (0, 10)], [(0, 1), (0, 4), (0, 6), (0, 7), (0, 8), (0, 9), (0, 11)], [(0, 1), (0, 4), (0, 6), (0, 7), (0, 8), (0, 10), (0, 11)], [(0, 1), (0, 4), (0, 6), (0, 7), (0, 9), (0, 10), (0, 11)], [(0, 1), (0, 4), (0, 6), (0, 8), (0, 9), (0, 10), (0, 11)], [(0, 1), (0, 4), (0, 7), (0, 8), (0, 9), (0, 10), (0, 11)], [(0, 1), (0, 5), (0, 6), (0, 7), (0, 8), (0, 9), (0, 10)], [(0, 1), (0, 5), (0, 6), (0, 7), (0, 8), (0, 9), (0, 11)], [(0, 1), (0, 5), (0, 6), (0, 7), (0, 8), (0, 10), (0, 11)], [(0, 1), (0, 5), (0, 6), (0, 7), (0, 9), (0, 10), (0, 11)], [(0, 1), (0, 5), (0, 6), (0, 8), (0, 9), (0, 10), (0, 11)], [(0, 1), (0, 5), (0, 7), (0, 8), (0, 9), (0, 10), (0, 11)], [(0, 1), (0, 6), (0, 7), (0, 8), (0, 9), (0, 10), (0, 11)], [(0, 2), (0, 3), (0, 4), (0, 5), (0, 6), (0, 7), (0, 8)], [(0, 2), (0, 3), (0, 4), (0, 5), (0, 6), (0, 7), (0, 9)], [(0, 2), (0, 3), (0, 4), (0, 5), (0, 6), (0, 7), (0, 10)], [(0, 2), (0, 3), (0, 4), (0, 5), (0, 6), (0, 7), (0, 11)], [(0, 2), (0, 3), (0, 4), (0, 5), (0, 6), (0, 8), (0, 9)], [(0, 2), (0, 3), (0, 4), (0, 5), (0, 6), (0, 8), (0, 10)], [(0, 2), (0, 3), (0, 4), (0, 5), (0, 6), (0, 8), (0, 11)], [(0, 2), (0, 3), (0, 4), (0, 5), (0, 6), (0, 9), (0, 10)], [(0, 2), (0, 3), (0, 4), (0, 5), (0, 6), (0, 9), (0, 11)], [(0, 2), (0, 3), (0, 4), (0, 5), (0, 6), (0, 10), (0, 11)], [(0, 2), (0, 3), (0, 4), (0, 5), (0, 7), (0, 8), (0, 9)], [(0, 2), (0, 3), (0, 4), (0, 5), (0, 7), (0, 8), (0, 10)], [(0, 2), (0, 3), (0, 4), (0, 5), (0, 7), (0, 8), (0, 11)], [(0, 2), (0, 3), (0, 4), (0, 5), (0, 7), (0, 9), (0, 10)], [(0, 2), (0, 3), (0, 4), (0, 5), (0, 7), (0, 9), (0, 11)], [(0, 2), (0, 3), (0, 4), (0, 5), (0, 7), (0, 10), (0, 11)], [(0, 2), (0, 3), (0, 4), (0, 5), (0, 8), (0, 9), (0, 10)], [(0, 2), (0, 3), (0, 4), (0, 5), (0, 8), (0, 9), (0, 11)], [(0, 2), (0, 3), (0, 4), (0, 5), (0, 8), (0, 10), (0, 11)], [(0, 2), (0, 3), (0, 4), (0, 5), (0, 9), (0, 10), (0, 11)], [(0, 2), (0, 3), (0, 4), (0, 6), (0, 7), (0, 8), (0, 9)], [(0, 2), (0, 3), (0, 4), (0, 6), (0, 7), (0, 8), (0, 10)], [(0, 2), (0, 3), (0, 4), (0, 6), (0, 7), (0, 8), (0, 11)], [(0, 2), (0, 3), (0, 4), (0, 6), (0, 7), (0, 9), (0, 10)], [(0, 2), (0, 3), (0, 4), (0, 6), (0, 7), (0, 9), (0, 11)], [(0, 2), (0, 3), (0, 4), (0, 6), (0, 7), (0, 10), (0, 11)], [(0, 2), (0, 3), (0, 4), (0, 6), (0, 8), (0, 9), (0, 10)], [(0, 2), (0, 3), (0, 4), (0, 6), (0, 8), (0, 9), (0, 11)], [(0, 2), (0, 3), (0, 4), (0, 6), (0, 8), (0, 10), (0, 11)], [(0, 2), (0, 3), (0, 4), (0, 6), (0, 9), (0, 10), (0, 11)], [(0, 2), (0, 3), (0, 4), (0, 7), (0, 8), (0, 9), (0, 10)], [(0, 2), (0, 3), (0, 4), (0, 7), (0, 8), (0, 9), (0, 11)], [(0, 2), (0, 3), (0, 4), (0, 7), (0, 8), (0, 10), (0, 11)], [(0, 2), (0, 3), (0, 4), (0, 7), (0, 9), (0, 10), (0, 11)], [(0, 2), (0, 3), (0, 4), (0, 8), (0, 9), (0, 10), (0, 11)], [(0, 2), (0, 3), (0, 5), (0, 6), (0, 7), (0, 8), (0, 9)], [(0, 2), (0, 3), (0, 5), (0, 6), (0, 7), (0, 8), (0, 10)], [(0, 2), (0, 3), (0, 5), (0, 6), (0, 7), (0, 8), (0, 11)], [(0, 2), (0, 3), (0, 5), (0, 6), (0, 7), (0, 9), (0, 10)], [(0, 2), (0, 3), (0, 5), (0, 6), (0, 7), (0, 9), (0, 11)], [(0, 2), (0, 3), (0, 5), (0, 6), (0, 7), (0, 10), (0, 11)], [(0, 2), (0, 3), (0, 5), (0, 6), (0, 8), (0, 9), (0, 10)], [(0, 2), (0, 3), (0, 5), (0, 6), (0, 8), (0, 9), (0, 11)], [(0, 2), (0, 3), (0, 5), (0, 6), (0, 8), (0, 10), (0, 11)], [(0, 2), (0, 3), (0, 5), (0, 6), (0, 9), (0, 10), (0, 11)], [(0, 2), (0, 3), (0, 5), (0, 7), (0, 8), (0, 9), (0, 10)], [(0, 2), (0, 3), (0, 5), (0, 7), (0, 8), (0, 9), (0, 11)], [(0, 2), (0, 3), (0, 5), (0, 7), (0, 8), (0, 10), (0, 11)], [(0, 2), (0, 3), (0, 5), (0, 7), (0, 9), (0, 10), (0, 11)], [(0, 2), (0, 3), (0, 5), (0, 8), (0, 9), (0, 10), (0, 11)], [(0, 2), (0, 3), (0, 6), (0, 7), (0, 8), (0, 9), (0, 10)], [(0, 2), (0, 3), (0, 6), (0, 7), (0, 8), (0, 9), (0, 11)], [(0, 2), (0, 3), (0, 6), (0, 7), (0, 8), (0, 10), (0, 11)], [(0, 2), (0, 3), (0, 6), (0, 7), (0, 9), (0, 10), (0, 11)], [(0, 2), (0, 3), (0, 6), (0, 8), (0, 9), (0, 10), (0, 11)], [(0, 2), (0, 3), (0, 7), (0, 8), (0, 9), (0, 10), (0, 11)], [(0, 2), (0, 4), (0, 5), (0, 6), (0, 7), (0, 8), (0, 9)], [(0, 2), (0, 4), (0, 5), (0, 6), (0, 7), (0, 8), (0, 10)], [(0, 2), (0, 4), (0, 5), (0, 6), (0, 7), (0, 8), (0, 11)], [(0, 2), (0, 4), (0, 5), (0, 6), (0, 7), (0, 9), (0, 10)], [(0, 2), (0, 4), (0, 5), (0, 6), (0, 7), (0, 9), (0, 11)], [(0, 2), (0, 4), (0, 5), (0, 6), (0, 7), (0, 10), (0, 11)], [(0, 2), (0, 4), (0, 5), (0, 6), (0, 8), (0, 9), (0, 10)], [(0, 2), (0, 4), (0, 5), (0, 6), (0, 8), (0, 9), (0, 11)], [(0, 2), (0, 4), (0, 5), (0, 6), (0, 8), (0, 10), (0, 11)], [(0, 2), (0, 4), (0, 5), (0, 6), (0, 9), (0, 10), (0, 11)], [(0, 2), (0, 4), (0, 5), (0, 7), (0, 8), (0, 9), (0, 10)], [(0, 2), (0, 4), (0, 5), (0, 7), (0, 8), (0, 9), (0, 11)], [(0, 2), (0, 4), (0, 5), (0, 7), (0, 8), (0, 10), (0, 11)], [(0, 2), (0, 4), (0, 5), (0, 7), (0, 9), (0, 10), (0, 11)], [(0, 2), (0, 4), (0, 5), (0, 8), (0, 9), (0, 10), (0, 11)], [(0, 2), (0, 4), (0, 6), (0, 7), (0, 8), (0, 9), (0, 10)], [(0, 2), (0, 4), (0, 6), (0, 7), (0, 8), (0, 9), (0, 11)], [(0, 2), (0, 4), (0, 6), (0, 7), (0, 8), (0, 10), (0, 11)], [(0, 2), (0, 4), (0, 6), (0, 7), (0, 9), (0, 10), (0, 11)], [(0, 2), (0, 4), (0, 6), (0, 8), (0, 9), (0, 10), (0, 11)], [(0, 2), (0, 4), (0, 7), (0, 8), (0, 9), (0, 10), (0, 11)], [(0, 2), (0, 5), (0, 6), (0, 7), (0, 8), (0, 9), (0, 10)], [(0, 2), (0, 5), (0, 6), (0, 7), (0, 8), (0, 9), (0, 11)], [(0, 2), (0, 5), (0, 6), (0, 7), (0, 8), (0, 10), (0, 11)], [(0, 2), (0, 5), (0, 6), (0, 7), (0, 9), (0, 10), (0, 11)], [(0, 2), (0, 5), (0, 6), (0, 8), (0, 9), (0, 10), (0, 11)], [(0, 2), (0, 5), (0, 7), (0, 8), (0, 9), (0, 10), (0, 11)], [(0, 2), (0, 6), (0, 7), (0, 8), (0, 9), (0, 10), (0, 11)], [(0, 3), (0, 4), (0, 5), (0, 6), (0, 7), (0, 8), (0, 9)], [(0, 3), (0, 4), (0, 5), (0, 6), (0, 7), (0, 8), (0, 10)], [(0, 3), (0, 4), (0, 5), (0, 6), (0, 7), (0, 8), (0, 11)], [(0, 3), (0, 4), (0, 5), (0, 6), (0, 7), (0, 9), (0, 10)], [(0, 3), (0, 4), (0, 5), (0, 6), (0, 7), (0, 9), (0, 11)], [(0, 3), (0, 4), (0, 5), (0, 6), (0, 7), (0, 10), (0, 11)], [(0, 3), (0, 4), (0, 5), (0, 6), (0, 8), (0, 9), (0, 10)], [(0, 3), (0, 4), (0, 5), (0, 6), (0, 8), (0, 9), (0, 11)], [(0, 3), (0, 4), (0, 5), (0, 6), (0, 8), (0, 10), (0, 11)], [(0, 3), (0, 4), (0, 5), (0, 6), (0, 9), (0, 10), (0, 11)], [(0, 3), (0, 4), (0, 5), (0, 7), (0, 8), (0, 9), (0, 10)], [(0, 3), (0, 4), (0, 5), (0, 7), (0, 8), (0, 9), (0, 11)], [(0, 3), (0, 4), (0, 5), (0, 7), (0, 8), (0, 10), (0, 11)], [(0, 3), (0, 4), (0, 5), (0, 7), (0, 9), (0, 10), (0, 11)], [(0, 3), (0, 4), (0, 5), (0, 8), (0, 9), (0, 10), (0, 11)], [(0, 3), (0, 4), (0, 6), (0, 7), (0, 8), (0, 9), (0, 10)], [(0, 3), (0, 4), (0, 6), (0, 7), (0, 8), (0, 9), (0, 11)], [(0, 3), (0, 4), (0, 6), (0, 7), (0, 8), (0, 10), (0, 11)], [(0, 3), (0, 4), (0, 6), (0, 7), (0, 9), (0, 10), (0, 11)], [(0, 3), (0, 4), (0, 6), (0, 8), (0, 9), (0, 10), (0, 11)], [(0, 3), (0, 4), (0, 7), (0, 8), (0, 9), (0, 10), (0, 11)], [(0, 3), (0, 5), (0, 6), (0, 7), (0, 8), (0, 9), (0, 10)], [(0, 3), (0, 5), (0, 6), (0, 7), (0, 8), (0, 9), (0, 11)], [(0, 3), (0, 5), (0, 6), (0, 7), (0, 8), (0, 10), (0, 11)], [(0, 3), (0, 5), (0, 6), (0, 7), (0, 9), (0, 10), (0, 11)], [(0, 3), (0, 5), (0, 6), (0, 8), (0, 9), (0, 10), (0, 11)], [(0, 3), (0, 5), (0, 7), (0, 8), (0, 9), (0, 10), (0, 11)], [(0, 3), (0, 6), (0, 7), (0, 8), (0, 9), (0, 10), (0, 11)], [(0, 4), (0, 5), (0, 6), (0, 7), (0, 8), (0, 9), (0, 10)], [(0, 4), (0, 5), (0, 6), (0, 7), (0, 8), (0, 9), (0, 11)], [(0, 4), (0, 5), (0, 6), (0, 7), (0, 8), (0, 10), (0, 11)], [(0, 4), (0, 5), (0, 6), (0, 7), (0, 9), (0, 10), (0, 11)], [(0, 4), (0, 5), (0, 6), (0, 8), (0, 9), (0, 10), (0, 11)], [(0, 4), (0, 5), (0, 7), (0, 8), (0, 9), (0, 10), (0, 11)], [(0, 4), (0, 6), (0, 7), (0, 8), (0, 9), (0, 10), (0, 11)], [(0, 5), (0, 6), (0, 7), (0, 8), (0, 9), (0, 10), (0, 11)], [(0, 0), (0, 1), (0, 2), (0, 3), (0, 4), (0, 5), (0, 6), (0, 7)], [(0, 0), (0, 1), (0, 2), (0, 3), (0, 4), (0, 5), (0, 6), (0, 8)], [(0, 0), (0, 1), (0, 2), (0, 3), (0, 4), (0, 5), (0, 6), (0, 9)], [(0, 0), (0, 1), (0, 2), (0, 3), (0, 4), (0, 5), (0, 6), (0, 10)], [(0, 0), (0, 1), (0, 2), (0, 3), (0, 4), (0, 5), (0, 6), (0, 11)], [(0, 0), (0, 1), (0, 2), (0, 3), (0, 4), (0, 5), (0, 7), (0, 8)], [(0, 0), (0, 1), (0, 2), (0, 3), (0, 4), (0, 5), (0, 7), (0, 9)], [(0, 0), (0, 1), (0, 2), (0, 3), (0, 4), (0, 5), (0, 7), (0, 10)], [(0, 0), (0, 1), (0, 2), (0, 3), (0, 4), (0, 5), (0, 7), (0, 11)], [(0, 0), (0, 1), (0, 2), (0, 3), (0, 4), (0, 5), (0, 8), (0, 9)], [(0, 0), (0, 1), (0, 2), (0, 3), (0, 4), (0, 5), (0, 8), (0, 10)], [(0, 0), (0, 1), (0, 2), (0, 3), (0, 4), (0, 5), (0, 8), (0, 11)], [(0, 0), (0, 1), (0, 2), (0, 3), (0, 4), (0, 5), (0, 9), (0, 10)], [(0, 0), (0, 1), (0, 2), (0, 3), (0, 4), (0, 5), (0, 9), (0, 11)], [(0, 0), (0, 1), (0, 2), (0, 3), (0, 4), (0, 5), (0, 10), (0, 11)], [(0, 0), (0, 1), (0, 2), (0, 3), (0, 4), (0, 6), (0, 7), (0, 8)], [(0, 0), (0, 1), (0, 2), (0, 3), (0, 4), (0, 6), (0, 7), (0, 9)], [(0, 0), (0, 1), (0, 2), (0, 3), (0, 4), (0, 6), (0, 7), (0, 10)], [(0, 0), (0, 1), (0, 2), (0, 3), (0, 4), (0, 6), (0, 7), (0, 11)], [(0, 0), (0, 1), (0, 2), (0, 3), (0, 4), (0, 6), (0, 8), (0, 9)], [(0, 0), (0, 1), (0, 2), (0, 3), (0, 4), (0, 6), (0, 8), (0, 10)], [(0, 0), (0, 1), (0, 2), (0, 3), (0, 4), (0, 6), (0, 8), (0, 11)], [(0, 0), (0, 1), (0, 2), (0, 3), (0, 4), (0, 6), (0, 9), (0, 10)], [(0, 0), (0, 1), (0, 2), (0, 3), (0, 4), (0, 6), (0, 9), (0, 11)], [(0, 0), (0, 1), (0, 2), (0, 3), (0, 4), (0, 6), (0, 10), (0, 11)], [(0, 0), (0, 1), (0, 2), (0, 3), (0, 4), (0, 7), (0, 8), (0, 9)], [(0, 0), (0, 1), (0, 2), (0, 3), (0, 4), (0, 7), (0, 8), (0, 10)], [(0, 0), (0, 1), (0, 2), (0, 3), (0, 4), (0, 7), (0, 8), (0, 11)], [(0, 0), (0, 1), (0, 2), (0, 3), (0, 4), (0, 7), (0, 9), (0, 10)], [(0, 0), (0, 1), (0, 2), (0, 3), (0, 4), (0, 7), (0, 9), (0, 11)], [(0, 0), (0, 1), (0, 2), (0, 3), (0, 4), (0, 7), (0, 10), (0, 11)], [(0, 0), (0, 1), (0, 2), (0, 3), (0, 4), (0, 8), (0, 9), (0, 10)], [(0, 0), (0, 1), (0, 2), (0, 3), (0, 4), (0, 8), (0, 9), (0, 11)], [(0, 0), (0, 1), (0, 2), (0, 3), (0, 4), (0, 8), (0, 10), (0, 11)], [(0, 0), (0, 1), (0, 2), (0, 3), (0, 4), (0, 9), (0, 10), (0, 11)], [(0, 0), (0, 1), (0, 2), (0, 3), (0, 5), (0, 6), (0, 7), (0, 8)], [(0, 0), (0, 1), (0, 2), (0, 3), (0, 5), (0, 6), (0, 7), (0, 9)], [(0, 0), (0, 1), (0, 2), (0, 3), (0, 5), (0, 6), (0, 7), (0, 10)], [(0, 0), (0, 1), (0, 2), (0, 3), (0, 5), (0, 6), (0, 7), (0, 11)], [(0, 0), (0, 1), (0, 2), (0, 3), (0, 5), (0, 6), (0, 8), (0, 9)], [(0, 0), (0, 1), (0, 2), (0, 3), (0, 5), (0, 6), (0, 8), (0, 10)], [(0, 0), (0, 1), (0, 2), (0, 3), (0, 5), (0, 6), (0, 8), (0, 11)], [(0, 0), (0, 1), (0, 2), (0, 3), (0, 5), (0, 6), (0, 9), (0, 10)], [(0, 0), (0, 1), (0, 2), (0, 3), (0, 5), (0, 6), (0, 9), (0, 11)], [(0, 0), (0, 1), (0, 2), (0, 3), (0, 5), (0, 6), (0, 10), (0, 11)], [(0, 0), (0, 1), (0, 2), (0, 3), (0, 5), (0, 7), (0, 8), (0, 9)], [(0, 0), (0, 1), (0, 2), (0, 3), (0, 5), (0, 7), (0, 8), (0, 10)], [(0, 0), (0, 1), (0, 2), (0, 3), (0, 5), (0, 7), (0, 8), (0, 11)], [(0, 0), (0, 1), (0, 2), (0, 3), (0, 5), (0, 7), (0, 9), (0, 10)], [(0, 0), (0, 1), (0, 2), (0, 3), (0, 5), (0, 7), (0, 9), (0, 11)], [(0, 0), (0, 1), (0, 2), (0, 3), (0, 5), (0, 7), (0, 10), (0, 11)], [(0, 0), (0, 1), (0, 2), (0, 3), (0, 5), (0, 8), (0, 9), (0, 10)], [(0, 0), (0, 1), (0, 2), (0, 3), (0, 5), (0, 8), (0, 9), (0, 11)], [(0, 0), (0, 1), (0, 2), (0, 3), (0, 5), (0, 8), (0, 10), (0, 11)], [(0, 0), (0, 1), (0, 2), (0, 3), (0, 5), (0, 9), (0, 10), (0, 11)], [(0, 0), (0, 1), (0, 2), (0, 3), (0, 6), (0, 7), (0, 8), (0, 9)], [(0, 0), (0, 1), (0, 2), (0, 3), (0, 6), (0, 7), (0, 8), (0, 10)], [(0, 0), (0, 1), (0, 2), (0, 3), (0, 6), (0, 7), (0, 8), (0, 11)], [(0, 0), (0, 1), (0, 2), (0, 3), (0, 6), (0, 7), (0, 9), (0, 10)], [(0, 0), (0, 1), (0, 2), (0, 3), (0, 6), (0, 7), (0, 9), (0, 11)], [(0, 0), (0, 1), (0, 2), (0, 3), (0, 6), (0, 7), (0, 10), (0, 11)], [(0, 0), (0, 1), (0, 2), (0, 3), (0, 6), (0, 8), (0, 9), (0, 10)], [(0, 0), (0, 1), (0, 2), (0, 3), (0, 6), (0, 8), (0, 9), (0, 11)], [(0, 0), (0, 1), (0, 2), (0, 3), (0, 6), (0, 8), (0, 10), (0, 11)], [(0, 0), (0, 1), (0, 2), (0, 3), (0, 6), (0, 9), (0, 10), (0, 11)], [(0, 0), (0, 1), (0, 2), (0, 3), (0, 7), (0, 8), (0, 9), (0, 10)], [(0, 0), (0, 1), (0, 2), (0, 3), (0, 7), (0, 8), (0, 9), (0, 11)], [(0, 0), (0, 1), (0, 2), (0, 3), (0, 7), (0, 8), (0, 10), (0, 11)], [(0, 0), (0, 1), (0, 2), (0, 3), (0, 7), (0, 9), (0, 10), (0, 11)], [(0, 0), (0, 1), (0, 2), (0, 3), (0, 8), (0, 9), (0, 10), (0, 11)], [(0, 0), (0, 1), (0, 2), (0, 4), (0, 5), (0, 6), (0, 7), (0, 8)], [(0, 0), (0, 1), (0, 2), (0, 4), (0, 5), (0, 6), (0, 7), (0, 9)], [(0, 0), (0, 1), (0, 2), (0, 4), (0, 5), (0, 6), (0, 7), (0, 10)], [(0, 0), (0, 1), (0, 2), (0, 4), (0, 5), (0, 6), (0, 7), (0, 11)], [(0, 0), (0, 1), (0, 2), (0, 4), (0, 5), (0, 6), (0, 8), (0, 9)], [(0, 0), (0, 1), (0, 2), (0, 4), (0, 5), (0, 6), (0, 8), (0, 10)], [(0, 0), (0, 1), (0, 2), (0, 4), (0, 5), (0, 6), (0, 8), (0, 11)], [(0, 0), (0, 1), (0, 2), (0, 4), (0, 5), (0, 6), (0, 9), (0, 10)], [(0, 0), (0, 1), (0, 2), (0, 4), (0, 5), (0, 6), (0, 9), (0, 11)], [(0, 0), (0, 1), (0, 2), (0, 4), (0, 5), (0, 6), (0, 10), (0, 11)], [(0, 0), (0, 1), (0, 2), (0, 4), (0, 5), (0, 7), (0, 8), (0, 9)], [(0, 0), (0, 1), (0, 2), (0, 4), (0, 5), (0, 7), (0, 8), (0, 10)], [(0, 0), (0, 1), (0, 2), (0, 4), (0, 5), (0, 7), (0, 8), (0, 11)], [(0, 0), (0, 1), (0, 2), (0, 4), (0, 5), (0, 7), (0, 9), (0, 10)], [(0, 0), (0, 1), (0, 2), (0, 4), (0, 5), (0, 7), (0, 9), (0, 11)], [(0, 0), (0, 1), (0, 2), (0, 4), (0, 5), (0, 7), (0, 10), (0, 11)], [(0, 0), (0, 1), (0, 2), (0, 4), (0, 5), (0, 8), (0, 9), (0, 10)], [(0, 0), (0, 1), (0, 2), (0, 4), (0, 5), (0, 8), (0, 9), (0, 11)], [(0, 0), (0, 1), (0, 2), (0, 4), (0, 5), (0, 8), (0, 10), (0, 11)], [(0, 0), (0, 1), (0, 2), (0, 4), (0, 5), (0, 9), (0, 10), (0, 11)], [(0, 0), (0, 1), (0, 2), (0, 4), (0, 6), (0, 7), (0, 8), (0, 9)], [(0, 0), (0, 1), (0, 2), (0, 4), (0, 6), (0, 7), (0, 8), (0, 10)], [(0, 0), (0, 1), (0, 2), (0, 4), (0, 6), (0, 7), (0, 8), (0, 11)], [(0, 0), (0, 1), (0, 2), (0, 4), (0, 6), (0, 7), (0, 9), (0, 10)], [(0, 0), (0, 1), (0, 2), (0, 4), (0, 6), (0, 7), (0, 9), (0, 11)], [(0, 0), (0, 1), (0, 2), (0, 4), (0, 6), (0, 7), (0, 10), (0, 11)], [(0, 0), (0, 1), (0, 2), (0, 4), (0, 6), (0, 8), (0, 9), (0, 10)], [(0, 0), (0, 1), (0, 2), (0, 4), (0, 6), (0, 8), (0, 9), (0, 11)], [(0, 0), (0, 1), (0, 2), (0, 4), (0, 6), (0, 8), (0, 10), (0, 11)], [(0, 0), (0, 1), (0, 2), (0, 4), (0, 6), (0, 9), (0, 10), (0, 11)], [(0, 0), (0, 1), (0, 2), (0, 4), (0, 7), (0, 8), (0, 9), (0, 10)], [(0, 0), (0, 1), (0, 2), (0, 4), (0, 7), (0, 8), (0, 9), (0, 11)], [(0, 0), (0, 1), (0, 2), (0, 4), (0, 7), (0, 8), (0, 10), (0, 11)], [(0, 0), (0, 1), (0, 2), (0, 4), (0, 7), (0, 9), (0, 10), (0, 11)], [(0, 0), (0, 1), (0, 2), (0, 4), (0, 8), (0, 9), (0, 10), (0, 11)], [(0, 0), (0, 1), (0, 2), (0, 5), (0, 6), (0, 7), (0, 8), (0, 9)], [(0, 0), (0, 1), (0, 2), (0, 5), (0, 6), (0, 7), (0, 8), (0, 10)], [(0, 0), (0, 1), (0, 2), (0, 5), (0, 6), (0, 7), (0, 8), (0, 11)], [(0, 0), (0, 1), (0, 2), (0, 5), (0, 6), (0, 7), (0, 9), (0, 10)], [(0, 0), (0, 1), (0, 2), (0, 5), (0, 6), (0, 7), (0, 9), (0, 11)], [(0, 0), (0, 1), (0, 2), (0, 5), (0, 6), (0, 7), (0, 10), (0, 11)], [(0, 0), (0, 1), (0, 2), (0, 5), (0, 6), (0, 8), (0, 9), (0, 10)], [(0, 0), (0, 1), (0, 2), (0, 5), (0, 6), (0, 8), (0, 9), (0, 11)], [(0, 0), (0, 1), (0, 2), (0, 5), (0, 6), (0, 8), (0, 10), (0, 11)], [(0, 0), (0, 1), (0, 2), (0, 5), (0, 6), (0, 9), (0, 10), (0, 11)], [(0, 0), (0, 1), (0, 2), (0, 5), (0, 7), (0, 8), (0, 9), (0, 10)], [(0, 0), (0, 1), (0, 2), (0, 5), (0, 7), (0, 8), (0, 9), (0, 11)], [(0, 0), (0, 1), (0, 2), (0, 5), (0, 7), (0, 8), (0, 10), (0, 11)], [(0, 0), (0, 1), (0, 2), (0, 5), (0, 7), (0, 9), (0, 10), (0, 11)], [(0, 0), (0, 1), (0, 2), (0, 5), (0, 8), (0, 9), (0, 10), (0, 11)], [(0, 0), (0, 1), (0, 2), (0, 6), (0, 7), (0, 8), (0, 9), (0, 10)], [(0, 0), (0, 1), (0, 2), (0, 6), (0, 7), (0, 8), (0, 9), (0, 11)], [(0, 0), (0, 1), (0, 2), (0, 6), (0, 7), (0, 8), (0, 10), (0, 11)], [(0, 0), (0, 1), (0, 2), (0, 6), (0, 7), (0, 9), (0, 10), (0, 11)], [(0, 0), (0, 1), (0, 2), (0, 6), (0, 8), (0, 9), (0, 10), (0, 11)], [(0, 0), (0, 1), (0, 2), (0, 7), (0, 8), (0, 9), (0, 10), (0, 11)], [(0, 0), (0, 1), (0, 3), (0, 4), (0, 5), (0, 6), (0, 7), (0, 8)], [(0, 0), (0, 1), (0, 3), (0, 4), (0, 5), (0, 6), (0, 7), (0, 9)], [(0, 0), (0, 1), (0, 3), (0, 4), (0, 5), (0, 6), (0, 7), (0, 10)], [(0, 0), (0, 1), (0, 3), (0, 4), (0, 5), (0, 6), (0, 7), (0, 11)], [(0, 0), (0, 1), (0, 3), (0, 4), (0, 5), (0, 6), (0, 8), (0, 9)], [(0, 0), (0, 1), (0, 3), (0, 4), (0, 5), (0, 6), (0, 8), (0, 10)], [(0, 0), (0, 1), (0, 3), (0, 4), (0, 5), (0, 6), (0, 8), (0, 11)], [(0, 0), (0, 1), (0, 3), (0, 4), (0, 5), (0, 6), (0, 9), (0, 10)], [(0, 0), (0, 1), (0, 3), (0, 4), (0, 5), (0, 6), (0, 9), (0, 11)], [(0, 0), (0, 1), (0, 3), (0, 4), (0, 5), (0, 6), (0, 10), (0, 11)], [(0, 0), (0, 1), (0, 3), (0, 4), (0, 5), (0, 7), (0, 8), (0, 9)], [(0, 0), (0, 1), (0, 3), (0, 4), (0, 5), (0, 7), (0, 8), (0, 10)], [(0, 0), (0, 1), (0, 3), (0, 4), (0, 5), (0, 7), (0, 8), (0, 11)], [(0, 0), (0, 1), (0, 3), (0, 4), (0, 5), (0, 7), (0, 9), (0, 10)], [(0, 0), (0, 1), (0, 3), (0, 4), (0, 5), (0, 7), (0, 9), (0, 11)], [(0, 0), (0, 1), (0, 3), (0, 4), (0, 5), (0, 7), (0, 10), (0, 11)], [(0, 0), (0, 1), (0, 3), (0, 4), (0, 5), (0, 8), (0, 9), (0, 10)], [(0, 0), (0, 1), (0, 3), (0, 4), (0, 5), (0, 8), (0, 9), (0, 11)], [(0, 0), (0, 1), (0, 3), (0, 4), (0, 5), (0, 8), (0, 10), (0, 11)], [(0, 0), (0, 1), (0, 3), (0, 4), (0, 5), (0, 9), (0, 10), (0, 11)], [(0, 0), (0, 1), (0, 3), (0, 4), (0, 6), (0, 7), (0, 8), (0, 9)], [(0, 0), (0, 1), (0, 3), (0, 4), (0, 6), (0, 7), (0, 8), (0, 10)], [(0, 0), (0, 1), (0, 3), (0, 4), (0, 6), (0, 7), (0, 8), (0, 11)], [(0, 0), (0, 1), (0, 3), (0, 4), (0, 6), (0, 7), (0, 9), (0, 10)], [(0, 0), (0, 1), (0, 3), (0, 4), (0, 6), (0, 7), (0, 9), (0, 11)], [(0, 0), (0, 1), (0, 3), (0, 4), (0, 6), (0, 7), (0, 10), (0, 11)], [(0, 0), (0, 1), (0, 3), (0, 4), (0, 6), (0, 8), (0, 9), (0, 10)], [(0, 0), (0, 1), (0, 3), (0, 4), (0, 6), (0, 8), (0, 9), (0, 11)], [(0, 0), (0, 1), (0, 3), (0, 4), (0, 6), (0, 8), (0, 10), (0, 11)], [(0, 0), (0, 1), (0, 3), (0, 4), (0, 6), (0, 9), (0, 10), (0, 11)], [(0, 0), (0, 1), (0, 3), (0, 4), (0, 7), (0, 8), (0, 9), (0, 10)], [(0, 0), (0, 1), (0, 3), (0, 4), (0, 7), (0, 8), (0, 9), (0, 11)], [(0, 0), (0, 1), (0, 3), (0, 4), (0, 7), (0, 8), (0, 10), (0, 11)], [(0, 0), (0, 1), (0, 3), (0, 4), (0, 7), (0, 9), (0, 10), (0, 11)], [(0, 0), (0, 1), (0, 3), (0, 4), (0, 8), (0, 9), (0, 10), (0, 11)], [(0, 0), (0, 1), (0, 3), (0, 5), (0, 6), (0, 7), (0, 8), (0, 9)], [(0, 0), (0, 1), (0, 3), (0, 5), (0, 6), (0, 7), (0, 8), (0, 10)], [(0, 0), (0, 1), (0, 3), (0, 5), (0, 6), (0, 7), (0, 8), (0, 11)], [(0, 0), (0, 1), (0, 3), (0, 5), (0, 6), (0, 7), (0, 9), (0, 10)], [(0, 0), (0, 1), (0, 3), (0, 5), (0, 6), (0, 7), (0, 9), (0, 11)], [(0, 0), (0, 1), (0, 3), (0, 5), (0, 6), (0, 7), (0, 10), (0, 11)], [(0, 0), (0, 1), (0, 3), (0, 5), (0, 6), (0, 8), (0, 9), (0, 10)], [(0, 0), (0, 1), (0, 3), (0, 5), (0, 6), (0, 8), (0, 9), (0, 11)], [(0, 0), (0, 1), (0, 3), (0, 5), (0, 6), (0, 8), (0, 10), (0, 11)], [(0, 0), (0, 1), (0, 3), (0, 5), (0, 6), (0, 9), (0, 10), (0, 11)], [(0, 0), (0, 1), (0, 3), (0, 5), (0, 7), (0, 8), (0, 9), (0, 10)], [(0, 0), (0, 1), (0, 3), (0, 5), (0, 7), (0, 8), (0, 9), (0, 11)], [(0, 0), (0, 1), (0, 3), (0, 5), (0, 7), (0, 8), (0, 10), (0, 11)], [(0, 0), (0, 1), (0, 3), (0, 5), (0, 7), (0, 9), (0, 10), (0, 11)], [(0, 0), (0, 1), (0, 3), (0, 5), (0, 8), (0, 9), (0, 10), (0, 11)], [(0, 0), (0, 1), (0, 3), (0, 6), (0, 7), (0, 8), (0, 9), (0, 10)], [(0, 0), (0, 1), (0, 3), (0, 6), (0, 7), (0, 8), (0, 9), (0, 11)], [(0, 0), (0, 1), (0, 3), (0, 6), (0, 7), (0, 8), (0, 10), (0, 11)], [(0, 0), (0, 1), (0, 3), (0, 6), (0, 7), (0, 9), (0, 10), (0, 11)], [(0, 0), (0, 1), (0, 3), (0, 6), (0, 8), (0, 9), (0, 10), (0, 11)], [(0, 0), (0, 1), (0, 3), (0, 7), (0, 8), (0, 9), (0, 10), (0, 11)], [(0, 0), (0, 1), (0, 4), (0, 5), (0, 6), (0, 7), (0, 8), (0, 9)], [(0, 0), (0, 1), (0, 4), (0, 5), (0, 6), (0, 7), (0, 8), (0, 10)], [(0, 0), (0, 1), (0, 4), (0, 5), (0, 6), (0, 7), (0, 8), (0, 11)], [(0, 0), (0, 1), (0, 4), (0, 5), (0, 6), (0, 7), (0, 9), (0, 10)], [(0, 0), (0, 1), (0, 4), (0, 5), (0, 6), (0, 7), (0, 9), (0, 11)], [(0, 0), (0, 1), (0, 4), (0, 5), (0, 6), (0, 7), (0, 10), (0, 11)], [(0, 0), (0, 1), (0, 4), (0, 5), (0, 6), (0, 8), (0, 9), (0, 10)], [(0, 0), (0, 1), (0, 4), (0, 5), (0, 6), (0, 8), (0, 9), (0, 11)], [(0, 0), (0, 1), (0, 4), (0, 5), (0, 6), (0, 8), (0, 10), (0, 11)], [(0, 0), (0, 1), (0, 4), (0, 5), (0, 6), (0, 9), (0, 10), (0, 11)], [(0, 0), (0, 1), (0, 4), (0, 5), (0, 7), (0, 8), (0, 9), (0, 10)], [(0, 0), (0, 1), (0, 4), (0, 5), (0, 7), (0, 8), (0, 9), (0, 11)], [(0, 0), (0, 1), (0, 4), (0, 5), (0, 7), (0, 8), (0, 10), (0, 11)], [(0, 0), (0, 1), (0, 4), (0, 5), (0, 7), (0, 9), (0, 10), (0, 11)], [(0, 0), (0, 1), (0, 4), (0, 5), (0, 8), (0, 9), (0, 10), (0, 11)], [(0, 0), (0, 1), (0, 4), (0, 6), (0, 7), (0, 8), (0, 9), (0, 10)], [(0, 0), (0, 1), (0, 4), (0, 6), (0, 7), (0, 8), (0, 9), (0, 11)], [(0, 0), (0, 1), (0, 4), (0, 6), (0, 7), (0, 8), (0, 10), (0, 11)], [(0, 0), (0, 1), (0, 4), (0, 6), (0, 7), (0, 9), (0, 10), (0, 11)], [(0, 0), (0, 1), (0, 4), (0, 6), (0, 8), (0, 9), (0, 10), (0, 11)], [(0, 0), (0, 1), (0, 4), (0, 7), (0, 8), (0, 9), (0, 10), (0, 11)], [(0, 0), (0, 1), (0, 5), (0, 6), (0, 7), (0, 8), (0, 9), (0, 10)], [(0, 0), (0, 1), (0, 5), (0, 6), (0, 7), (0, 8), (0, 9), (0, 11)], [(0, 0), (0, 1), (0, 5), (0, 6), (0, 7), (0, 8), (0, 10), (0, 11)], [(0, 0), (0, 1), (0, 5), (0, 6), (0, 7), (0, 9), (0, 10), (0, 11)], [(0, 0), (0, 1), (0, 5), (0, 6), (0, 8), (0, 9), (0, 10), (0, 11)], [(0, 0), (0, 1), (0, 5), (0, 7), (0, 8), (0, 9), (0, 10), (0, 11)], [(0, 0), (0, 1), (0, 6), (0, 7), (0, 8), (0, 9), (0, 10), (0, 11)], [(0, 0), (0, 2), (0, 3), (0, 4), (0, 5), (0, 6), (0, 7), (0, 8)], [(0, 0), (0, 2), (0, 3), (0, 4), (0, 5), (0, 6), (0, 7), (0, 9)], [(0, 0), (0, 2), (0, 3), (0, 4), (0, 5), (0, 6), (0, 7), (0, 10)], [(0, 0), (0, 2), (0, 3), (0, 4), (0, 5), (0, 6), (0, 7), (0, 11)], [(0, 0), (0, 2), (0, 3), (0, 4), (0, 5), (0, 6), (0, 8), (0, 9)], [(0, 0), (0, 2), (0, 3), (0, 4), (0, 5), (0, 6), (0, 8), (0, 10)], [(0, 0), (0, 2), (0, 3), (0, 4), (0, 5), (0, 6), (0, 8), (0, 11)], [(0, 0), (0, 2), (0, 3), (0, 4), (0, 5), (0, 6), (0, 9), (0, 10)], [(0, 0), (0, 2), (0, 3), (0, 4), (0, 5), (0, 6), (0, 9), (0, 11)], [(0, 0), (0, 2), (0, 3), (0, 4), (0, 5), (0, 6), (0, 10), (0, 11)], [(0, 0), (0, 2), (0, 3), (0, 4), (0, 5), (0, 7), (0, 8), (0, 9)], [(0, 0), (0, 2), (0, 3), (0, 4), (0, 5), (0, 7), (0, 8), (0, 10)], [(0, 0), (0, 2), (0, 3), (0, 4), (0, 5), (0, 7), (0, 8), (0, 11)], [(0, 0), (0, 2), (0, 3), (0, 4), (0, 5), (0, 7), (0, 9), (0, 10)], [(0, 0), (0, 2), (0, 3), (0, 4), (0, 5), (0, 7), (0, 9), (0, 11)], [(0, 0), (0, 2), (0, 3), (0, 4), (0, 5), (0, 7), (0, 10), (0, 11)], [(0, 0), (0, 2), (0, 3), (0, 4), (0, 5), (0, 8), (0, 9), (0, 10)], [(0, 0), (0, 2), (0, 3), (0, 4), (0, 5), (0, 8), (0, 9), (0, 11)], [(0, 0), (0, 2), (0, 3), (0, 4), (0, 5), (0, 8), (0, 10), (0, 11)], [(0, 0), (0, 2), (0, 3), (0, 4), (0, 5), (0, 9), (0, 10), (0, 11)], [(0, 0), (0, 2), (0, 3), (0, 4), (0, 6), (0, 7), (0, 8), (0, 9)], [(0, 0), (0, 2), (0, 3), (0, 4), (0, 6), (0, 7), (0, 8), (0, 10)], [(0, 0), (0, 2), (0, 3), (0, 4), (0, 6), (0, 7), (0, 8), (0, 11)], [(0, 0), (0, 2), (0, 3), (0, 4), (0, 6), (0, 7), (0, 9), (0, 10)], [(0, 0), (0, 2), (0, 3), (0, 4), (0, 6), (0, 7), (0, 9), (0, 11)], [(0, 0), (0, 2), (0, 3), (0, 4), (0, 6), (0, 7), (0, 10), (0, 11)], [(0, 0), (0, 2), (0, 3), (0, 4), (0, 6), (0, 8), (0, 9), (0, 10)], [(0, 0), (0, 2), (0, 3), (0, 4), (0, 6), (0, 8), (0, 9), (0, 11)], [(0, 0), (0, 2), (0, 3), (0, 4), (0, 6), (0, 8), (0, 10), (0, 11)], [(0, 0), (0, 2), (0, 3), (0, 4), (0, 6), (0, 9), (0, 10), (0, 11)], [(0, 0), (0, 2), (0, 3), (0, 4), (0, 7), (0, 8), (0, 9), (0, 10)], [(0, 0), (0, 2), (0, 3), (0, 4), (0, 7), (0, 8), (0, 9), (0, 11)], [(0, 0), (0, 2), (0, 3), (0, 4), (0, 7), (0, 8), (0, 10), (0, 11)], [(0, 0), (0, 2), (0, 3), (0, 4), (0, 7), (0, 9), (0, 10), (0, 11)], [(0, 0), (0, 2), (0, 3), (0, 4), (0, 8), (0, 9), (0, 10), (0, 11)], [(0, 0), (0, 2), (0, 3), (0, 5), (0, 6), (0, 7), (0, 8), (0, 9)], [(0, 0), (0, 2), (0, 3), (0, 5), (0, 6), (0, 7), (0, 8), (0, 10)], [(0, 0), (0, 2), (0, 3), (0, 5), (0, 6), (0, 7), (0, 8), (0, 11)], [(0, 0), (0, 2), (0, 3), (0, 5), (0, 6), (0, 7), (0, 9), (0, 10)], [(0, 0), (0, 2), (0, 3), (0, 5), (0, 6), (0, 7), (0, 9), (0, 11)], [(0, 0), (0, 2), (0, 3), (0, 5), (0, 6), (0, 7), (0, 10), (0, 11)], [(0, 0), (0, 2), (0, 3), (0, 5), (0, 6), (0, 8), (0, 9), (0, 10)], [(0, 0), (0, 2), (0, 3), (0, 5), (0, 6), (0, 8), (0, 9), (0, 11)], [(0, 0), (0, 2), (0, 3), (0, 5), (0, 6), (0, 8), (0, 10), (0, 11)], [(0, 0), (0, 2), (0, 3), (0, 5), (0, 6), (0, 9), (0, 10), (0, 11)], [(0, 0), (0, 2), (0, 3), (0, 5), (0, 7), (0, 8), (0, 9), (0, 10)], [(0, 0), (0, 2), (0, 3), (0, 5), (0, 7), (0, 8), (0, 9), (0, 11)], [(0, 0), (0, 2), (0, 3), (0, 5), (0, 7), (0, 8), (0, 10), (0, 11)], [(0, 0), (0, 2), (0, 3), (0, 5), (0, 7), (0, 9), (0, 10), (0, 11)], [(0, 0), (0, 2), (0, 3), (0, 5), (0, 8), (0, 9), (0, 10), (0, 11)], [(0, 0), (0, 2), (0, 3), (0, 6), (0, 7), (0, 8), (0, 9), (0, 10)], [(0, 0), (0, 2), (0, 3), (0, 6), (0, 7), (0, 8), (0, 9), (0, 11)], [(0, 0), (0, 2), (0, 3), (0, 6), (0, 7), (0, 8), (0, 10), (0, 11)], [(0, 0), (0, 2), (0, 3), (0, 6), (0, 7), (0, 9), (0, 10), (0, 11)], [(0, 0), (0, 2), (0, 3), (0, 6), (0, 8), (0, 9), (0, 10), (0, 11)], [(0, 0), (0, 2), (0, 3), (0, 7), (0, 8), (0, 9), (0, 10), (0, 11)], [(0, 0), (0, 2), (0, 4), (0, 5), (0, 6), (0, 7), (0, 8), (0, 9)], [(0, 0), (0, 2), (0, 4), (0, 5), (0, 6), (0, 7), (0, 8), (0, 10)], [(0, 0), (0, 2), (0, 4), (0, 5), (0, 6), (0, 7), (0, 8), (0, 11)], [(0, 0), (0, 2), (0, 4), (0, 5), (0, 6), (0, 7), (0, 9), (0, 10)], [(0, 0), (0, 2), (0, 4), (0, 5), (0, 6), (0, 7), (0, 9), (0, 11)], [(0, 0), (0, 2), (0, 4), (0, 5), (0, 6), (0, 7), (0, 10), (0, 11)], [(0, 0), (0, 2), (0, 4), (0, 5), (0, 6), (0, 8), (0, 9), (0, 10)], [(0, 0), (0, 2), (0, 4), (0, 5), (0, 6), (0, 8), (0, 9), (0, 11)], [(0, 0), (0, 2), (0, 4), (0, 5), (0, 6), (0, 8), (0, 10), (0, 11)], [(0, 0), (0, 2), (0, 4), (0, 5), (0, 6), (0, 9), (0, 10), (0, 11)], [(0, 0), (0, 2), (0, 4), (0, 5), (0, 7), (0, 8), (0, 9), (0, 10)], [(0, 0), (0, 2), (0, 4), (0, 5), (0, 7), (0, 8), (0, 9), (0, 11)], [(0, 0), (0, 2), (0, 4), (0, 5), (0, 7), (0, 8), (0, 10), (0, 11)], [(0, 0), (0, 2), (0, 4), (0, 5), (0, 7), (0, 9), (0, 10), (0, 11)], [(0, 0), (0, 2), (0, 4), (0, 5), (0, 8), (0, 9), (0, 10), (0, 11)], [(0, 0), (0, 2), (0, 4), (0, 6), (0, 7), (0, 8), (0, 9), (0, 10)], [(0, 0), (0, 2), (0, 4), (0, 6), (0, 7), (0, 8), (0, 9), (0, 11)], [(0, 0), (0, 2), (0, 4), (0, 6), (0, 7), (0, 8), (0, 10), (0, 11)], [(0, 0), (0, 2), (0, 4), (0, 6), (0, 7), (0, 9), (0, 10), (0, 11)], [(0, 0), (0, 2), (0, 4), (0, 6), (0, 8), (0, 9), (0, 10), (0, 11)], [(0, 0), (0, 2), (0, 4), (0, 7), (0, 8), (0, 9), (0, 10), (0, 11)], [(0, 0), (0, 2), (0, 5), (0, 6), (0, 7), (0, 8), (0, 9), (0, 10)], [(0, 0), (0, 2), (0, 5), (0, 6), (0, 7), (0, 8), (0, 9), (0, 11)], [(0, 0), (0, 2), (0, 5), (0, 6), (0, 7), (0, 8), (0, 10), (0, 11)], [(0, 0), (0, 2), (0, 5), (0, 6), (0, 7), (0, 9), (0, 10), (0, 11)], [(0, 0), (0, 2), (0, 5), (0, 6), (0, 8), (0, 9), (0, 10), (0, 11)], [(0, 0), (0, 2), (0, 5), (0, 7), (0, 8), (0, 9), (0, 10), (0, 11)], [(0, 0), (0, 2), (0, 6), (0, 7), (0, 8), (0, 9), (0, 10), (0, 11)], [(0, 0), (0, 3), (0, 4), (0, 5), (0, 6), (0, 7), (0, 8), (0, 9)], [(0, 0), (0, 3), (0, 4), (0, 5), (0, 6), (0, 7), (0, 8), (0, 10)], [(0, 0), (0, 3), (0, 4), (0, 5), (0, 6), (0, 7), (0, 8), (0, 11)], [(0, 0), (0, 3), (0, 4), (0, 5), (0, 6), (0, 7), (0, 9), (0, 10)], [(0, 0), (0, 3), (0, 4), (0, 5), (0, 6), (0, 7), (0, 9), (0, 11)], [(0, 0), (0, 3), (0, 4), (0, 5), (0, 6), (0, 7), (0, 10), (0, 11)], [(0, 0), (0, 3), (0, 4), (0, 5), (0, 6), (0, 8), (0, 9), (0, 10)], [(0, 0), (0, 3), (0, 4), (0, 5), (0, 6), (0, 8), (0, 9), (0, 11)], [(0, 0), (0, 3), (0, 4), (0, 5), (0, 6), (0, 8), (0, 10), (0, 11)], [(0, 0), (0, 3), (0, 4), (0, 5), (0, 6), (0, 9), (0, 10), (0, 11)], [(0, 0), (0, 3), (0, 4), (0, 5), (0, 7), (0, 8), (0, 9), (0, 10)], [(0, 0), (0, 3), (0, 4), (0, 5), (0, 7), (0, 8), (0, 9), (0, 11)], [(0, 0), (0, 3), (0, 4), (0, 5), (0, 7), (0, 8), (0, 10), (0, 11)], [(0, 0), (0, 3), (0, 4), (0, 5), (0, 7), (0, 9), (0, 10), (0, 11)], [(0, 0), (0, 3), (0, 4), (0, 5), (0, 8), (0, 9), (0, 10), (0, 11)], [(0, 0), (0, 3), (0, 4), (0, 6), (0, 7), (0, 8), (0, 9), (0, 10)], [(0, 0), (0, 3), (0, 4), (0, 6), (0, 7), (0, 8), (0, 9), (0, 11)], [(0, 0), (0, 3), (0, 4), (0, 6), (0, 7), (0, 8), (0, 10), (0, 11)], [(0, 0), (0, 3), (0, 4), (0, 6), (0, 7), (0, 9), (0, 10), (0, 11)], [(0, 0), (0, 3), (0, 4), (0, 6), (0, 8), (0, 9), (0, 10), (0, 11)], [(0, 0), (0, 3), (0, 4), (0, 7), (0, 8), (0, 9), (0, 10), (0, 11)], [(0, 0), (0, 3), (0, 5), (0, 6), (0, 7), (0, 8), (0, 9), (0, 10)], [(0, 0), (0, 3), (0, 5), (0, 6), (0, 7), (0, 8), (0, 9), (0, 11)], [(0, 0), (0, 3), (0, 5), (0, 6), (0, 7), (0, 8), (0, 10), (0, 11)], [(0, 0), (0, 3), (0, 5), (0, 6), (0, 7), (0, 9), (0, 10), (0, 11)], [(0, 0), (0, 3), (0, 5), (0, 6), (0, 8), (0, 9), (0, 10), (0, 11)], [(0, 0), (0, 3), (0, 5), (0, 7), (0, 8), (0, 9), (0, 10), (0, 11)], [(0, 0), (0, 3), (0, 6), (0, 7), (0, 8), (0, 9), (0, 10), (0, 11)], [(0, 0), (0, 4), (0, 5), (0, 6), (0, 7), (0, 8), (0, 9), (0, 10)], [(0, 0), (0, 4), (0, 5), (0, 6), (0, 7), (0, 8), (0, 9), (0, 11)], [(0, 0), (0, 4), (0, 5), (0, 6), (0, 7), (0, 8), (0, 10), (0, 11)], [(0, 0), (0, 4), (0, 5), (0, 6), (0, 7), (0, 9), (0, 10), (0, 11)], [(0, 0), (0, 4), (0, 5), (0, 6), (0, 8), (0, 9), (0, 10), (0, 11)], [(0, 0), (0, 4), (0, 5), (0, 7), (0, 8), (0, 9), (0, 10), (0, 11)], [(0, 0), (0, 4), (0, 6), (0, 7), (0, 8), (0, 9), (0, 10), (0, 11)], [(0, 0), (0, 5), (0, 6), (0, 7), (0, 8), (0, 9), (0, 10), (0, 11)], [(0, 1), (0, 2), (0, 3), (0, 4), (0, 5), (0, 6), (0, 7), (0, 8)], [(0, 1), (0, 2), (0, 3), (0, 4), (0, 5), (0, 6), (0, 7), (0, 9)], [(0, 1), (0, 2), (0, 3), (0, 4), (0, 5), (0, 6), (0, 7), (0, 10)], [(0, 1), (0, 2), (0, 3), (0, 4), (0, 5), (0, 6), (0, 7), (0, 11)], [(0, 1), (0, 2), (0, 3), (0, 4), (0, 5), (0, 6), (0, 8), (0, 9)], [(0, 1), (0, 2), (0, 3), (0, 4), (0, 5), (0, 6), (0, 8), (0, 10)], [(0, 1), (0, 2), (0, 3), (0, 4), (0, 5), (0, 6), (0, 8), (0, 11)], [(0, 1), (0, 2), (0, 3), (0, 4), (0, 5), (0, 6), (0, 9), (0, 10)], [(0, 1), (0, 2), (0, 3), (0, 4), (0, 5), (0, 6), (0, 9), (0, 11)], [(0, 1), (0, 2), (0, 3), (0, 4), (0, 5), (0, 6), (0, 10), (0, 11)], [(0, 1), (0, 2), (0, 3), (0, 4), (0, 5), (0, 7), (0, 8), (0, 9)], [(0, 1), (0, 2), (0, 3), (0, 4), (0, 5), (0, 7), (0, 8), (0, 10)], [(0, 1), (0, 2), (0, 3), (0, 4), (0, 5), (0, 7), (0, 8), (0, 11)], [(0, 1), (0, 2), (0, 3), (0, 4), (0, 5), (0, 7), (0, 9), (0, 10)], [(0, 1), (0, 2), (0, 3), (0, 4), (0, 5), (0, 7), (0, 9), (0, 11)], [(0, 1), (0, 2), (0, 3), (0, 4), (0, 5), (0, 7), (0, 10), (0, 11)], [(0, 1), (0, 2), (0, 3), (0, 4), (0, 5), (0, 8), (0, 9), (0, 10)], [(0, 1), (0, 2), (0, 3), (0, 4), (0, 5), (0, 8), (0, 9), (0, 11)], [(0, 1), (0, 2), (0, 3), (0, 4), (0, 5), (0, 8), (0, 10), (0, 11)], [(0, 1), (0, 2), (0, 3), (0, 4), (0, 5), (0, 9), (0, 10), (0, 11)], [(0, 1), (0, 2), (0, 3), (0, 4), (0, 6), (0, 7), (0, 8), (0, 9)], [(0, 1), (0, 2), (0, 3), (0, 4), (0, 6), (0, 7), (0, 8), (0, 10)], [(0, 1), (0, 2), (0, 3), (0, 4), (0, 6), (0, 7), (0, 8), (0, 11)], [(0, 1), (0, 2), (0, 3), (0, 4), (0, 6), (0, 7), (0, 9), (0, 10)], [(0, 1), (0, 2), (0, 3), (0, 4), (0, 6), (0, 7), (0, 9), (0, 11)], [(0, 1), (0, 2), (0, 3), (0, 4), (0, 6), (0, 7), (0, 10), (0, 11)], [(0, 1), (0, 2), (0, 3), (0, 4), (0, 6), (0, 8), (0, 9), (0, 10)], [(0, 1), (0, 2), (0, 3), (0, 4), (0, 6), (0, 8), (0, 9), (0, 11)], [(0, 1), (0, 2), (0, 3), (0, 4), (0, 6), (0, 8), (0, 10), (0, 11)], [(0, 1), (0, 2), (0, 3), (0, 4), (0, 6), (0, 9), (0, 10), (0, 11)], [(0, 1), (0, 2), (0, 3), (0, 4), (0, 7), (0, 8), (0, 9), (0, 10)], [(0, 1), (0, 2), (0, 3), (0, 4), (0, 7), (0, 8), (0, 9), (0, 11)], [(0, 1), (0, 2), (0, 3), (0, 4), (0, 7), (0, 8), (0, 10), (0, 11)], [(0, 1), (0, 2), (0, 3), (0, 4), (0, 7), (0, 9), (0, 10), (0, 11)], [(0, 1), (0, 2), (0, 3), (0, 4), (0, 8), (0, 9), (0, 10), (0, 11)], [(0, 1), (0, 2), (0, 3), (0, 5), (0, 6), (0, 7), (0, 8), (0, 9)], [(0, 1), (0, 2), (0, 3), (0, 5), (0, 6), (0, 7), (0, 8), (0, 10)], [(0, 1), (0, 2), (0, 3), (0, 5), (0, 6), (0, 7), (0, 8), (0, 11)], [(0, 1), (0, 2), (0, 3), (0, 5), (0, 6), (0, 7), (0, 9), (0, 10)], [(0, 1), (0, 2), (0, 3), (0, 5), (0, 6), (0, 7), (0, 9), (0, 11)], [(0, 1), (0, 2), (0, 3), (0, 5), (0, 6), (0, 7), (0, 10), (0, 11)], [(0, 1), (0, 2), (0, 3), (0, 5), (0, 6), (0, 8), (0, 9), (0, 10)], [(0, 1), (0, 2), (0, 3), (0, 5), (0, 6), (0, 8), (0, 9), (0, 11)], [(0, 1), (0, 2), (0, 3), (0, 5), (0, 6), (0, 8), (0, 10), (0, 11)], [(0, 1), (0, 2), (0, 3), (0, 5), (0, 6), (0, 9), (0, 10), (0, 11)], [(0, 1), (0, 2), (0, 3), (0, 5), (0, 7), (0, 8), (0, 9), (0, 10)], [(0, 1), (0, 2), (0, 3), (0, 5), (0, 7), (0, 8), (0, 9), (0, 11)], [(0, 1), (0, 2), (0, 3), (0, 5), (0, 7), (0, 8), (0, 10), (0, 11)], [(0, 1), (0, 2), (0, 3), (0, 5), (0, 7), (0, 9), (0, 10), (0, 11)], [(0, 1), (0, 2), (0, 3), (0, 5), (0, 8), (0, 9), (0, 10), (0, 11)], [(0, 1), (0, 2), (0, 3), (0, 6), (0, 7), (0, 8), (0, 9), (0, 10)], [(0, 1), (0, 2), (0, 3), (0, 6), (0, 7), (0, 8), (0, 9), (0, 11)], [(0, 1), (0, 2), (0, 3), (0, 6), (0, 7), (0, 8), (0, 10), (0, 11)], [(0, 1), (0, 2), (0, 3), (0, 6), (0, 7), (0, 9), (0, 10), (0, 11)], [(0, 1), (0, 2), (0, 3), (0, 6), (0, 8), (0, 9), (0, 10), (0, 11)], [(0, 1), (0, 2), (0, 3), (0, 7), (0, 8), (0, 9), (0, 10), (0, 11)], [(0, 1), (0, 2), (0, 4), (0, 5), (0, 6), (0, 7), (0, 8), (0, 9)], [(0, 1), (0, 2), (0, 4), (0, 5), (0, 6), (0, 7), (0, 8), (0, 10)], [(0, 1), (0, 2), (0, 4), (0, 5), (0, 6), (0, 7), (0, 8), (0, 11)], [(0, 1), (0, 2), (0, 4), (0, 5), (0, 6), (0, 7), (0, 9), (0, 10)], [(0, 1), (0, 2), (0, 4), (0, 5), (0, 6), (0, 7), (0, 9), (0, 11)], [(0, 1), (0, 2), (0, 4), (0, 5), (0, 6), (0, 7), (0, 10), (0, 11)], [(0, 1), (0, 2), (0, 4), (0, 5), (0, 6), (0, 8), (0, 9), (0, 10)], [(0, 1), (0, 2), (0, 4), (0, 5), (0, 6), (0, 8), (0, 9), (0, 11)], [(0, 1), (0, 2), (0, 4), (0, 5), (0, 6), (0, 8), (0, 10), (0, 11)], [(0, 1), (0, 2), (0, 4), (0, 5), (0, 6), (0, 9), (0, 10), (0, 11)], [(0, 1), (0, 2), (0, 4), (0, 5), (0, 7), (0, 8), (0, 9), (0, 10)], [(0, 1), (0, 2), (0, 4), (0, 5), (0, 7), (0, 8), (0, 9), (0, 11)], [(0, 1), (0, 2), (0, 4), (0, 5), (0, 7), (0, 8), (0, 10), (0, 11)], [(0, 1), (0, 2), (0, 4), (0, 5), (0, 7), (0, 9), (0, 10), (0, 11)], [(0, 1), (0, 2), (0, 4), (0, 5), (0, 8), (0, 9), (0, 10), (0, 11)], [(0, 1), (0, 2), (0, 4), (0, 6), (0, 7), (0, 8), (0, 9), (0, 10)], [(0, 1), (0, 2), (0, 4), (0, 6), (0, 7), (0, 8), (0, 9), (0, 11)], [(0, 1), (0, 2), (0, 4), (0, 6), (0, 7), (0, 8), (0, 10), (0, 11)], [(0, 1), (0, 2), (0, 4), (0, 6), (0, 7), (0, 9), (0, 10), (0, 11)], [(0, 1), (0, 2), (0, 4), (0, 6), (0, 8), (0, 9), (0, 10), (0, 11)], [(0, 1), (0, 2), (0, 4), (0, 7), (0, 8), (0, 9), (0, 10), (0, 11)], [(0, 1), (0, 2), (0, 5), (0, 6), (0, 7), (0, 8), (0, 9), (0, 10)], [(0, 1), (0, 2), (0, 5), (0, 6), (0, 7), (0, 8), (0, 9), (0, 11)], [(0, 1), (0, 2), (0, 5), (0, 6), (0, 7), (0, 8), (0, 10), (0, 11)], [(0, 1), (0, 2), (0, 5), (0, 6), (0, 7), (0, 9), (0, 10), (0, 11)], [(0, 1), (0, 2), (0, 5), (0, 6), (0, 8), (0, 9), (0, 10), (0, 11)], [(0, 1), (0, 2), (0, 5), (0, 7), (0, 8), (0, 9), (0, 10), (0, 11)], [(0, 1), (0, 2), (0, 6), (0, 7), (0, 8), (0, 9), (0, 10), (0, 11)], [(0, 1), (0, 3), (0, 4), (0, 5), (0, 6), (0, 7), (0, 8), (0, 9)], [(0, 1), (0, 3), (0, 4), (0, 5), (0, 6), (0, 7), (0, 8), (0, 10)], [(0, 1), (0, 3), (0, 4), (0, 5), (0, 6), (0, 7), (0, 8), (0, 11)], [(0, 1), (0, 3), (0, 4), (0, 5), (0, 6), (0, 7), (0, 9), (0, 10)], [(0, 1), (0, 3), (0, 4), (0, 5), (0, 6), (0, 7), (0, 9), (0, 11)], [(0, 1), (0, 3), (0, 4), (0, 5), (0, 6), (0, 7), (0, 10), (0, 11)], [(0, 1), (0, 3), (0, 4), (0, 5), (0, 6), (0, 8), (0, 9), (0, 10)], [(0, 1), (0, 3), (0, 4), (0, 5), (0, 6), (0, 8), (0, 9), (0, 11)], [(0, 1), (0, 3), (0, 4), (0, 5), (0, 6), (0, 8), (0, 10), (0, 11)], [(0, 1), (0, 3), (0, 4), (0, 5), (0, 6), (0, 9), (0, 10), (0, 11)], [(0, 1), (0, 3), (0, 4), (0, 5), (0, 7), (0, 8), (0, 9), (0, 10)], [(0, 1), (0, 3), (0, 4), (0, 5), (0, 7), (0, 8), (0, 9), (0, 11)], [(0, 1), (0, 3), (0, 4), (0, 5), (0, 7), (0, 8), (0, 10), (0, 11)], [(0, 1), (0, 3), (0, 4), (0, 5), (0, 7), (0, 9), (0, 10), (0, 11)], [(0, 1), (0, 3), (0, 4), (0, 5), (0, 8), (0, 9), (0, 10), (0, 11)], [(0, 1), (0, 3), (0, 4), (0, 6), (0, 7), (0, 8), (0, 9), (0, 10)], [(0, 1), (0, 3), (0, 4), (0, 6), (0, 7), (0, 8), (0, 9), (0, 11)], [(0, 1), (0, 3), (0, 4), (0, 6), (0, 7), (0, 8), (0, 10), (0, 11)], [(0, 1), (0, 3), (0, 4), (0, 6), (0, 7), (0, 9), (0, 10), (0, 11)], [(0, 1), (0, 3), (0, 4), (0, 6), (0, 8), (0, 9), (0, 10), (0, 11)], [(0, 1), (0, 3), (0, 4), (0, 7), (0, 8), (0, 9), (0, 10), (0, 11)], [(0, 1), (0, 3), (0, 5), (0, 6), (0, 7), (0, 8), (0, 9), (0, 10)], [(0, 1), (0, 3), (0, 5), (0, 6), (0, 7), (0, 8), (0, 9), (0, 11)], [(0, 1), (0, 3), (0, 5), (0, 6), (0, 7), (0, 8), (0, 10), (0, 11)], [(0, 1), (0, 3), (0, 5), (0, 6), (0, 7), (0, 9), (0, 10), (0, 11)], [(0, 1), (0, 3), (0, 5), (0, 6), (0, 8), (0, 9), (0, 10), (0, 11)], [(0, 1), (0, 3), (0, 5), (0, 7), (0, 8), (0, 9), (0, 10), (0, 11)], [(0, 1), (0, 3), (0, 6), (0, 7), (0, 8), (0, 9), (0, 10), (0, 11)], [(0, 1), (0, 4), (0, 5), (0, 6), (0, 7), (0, 8), (0, 9), (0, 10)], [(0, 1), (0, 4), (0, 5), (0, 6), (0, 7), (0, 8), (0, 9), (0, 11)], [(0, 1), (0, 4), (0, 5), (0, 6), (0, 7), (0, 8), (0, 10), (0, 11)], [(0, 1), (0, 4), (0, 5), (0, 6), (0, 7), (0, 9), (0, 10), (0, 11)], [(0, 1), (0, 4), (0, 5), (0, 6), (0, 8), (0, 9), (0, 10), (0, 11)], [(0, 1), (0, 4), (0, 5), (0, 7), (0, 8), (0, 9), (0, 10), (0, 11)], [(0, 1), (0, 4), (0, 6), (0, 7), (0, 8), (0, 9), (0, 10), (0, 11)], [(0, 1), (0, 5), (0, 6), (0, 7), (0, 8), (0, 9), (0, 10), (0, 11)], [(0, 2), (0, 3), (0, 4), (0, 5), (0, 6), (0, 7), (0, 8), (0, 9)], [(0, 2), (0, 3), (0, 4), (0, 5), (0, 6), (0, 7), (0, 8), (0, 10)], [(0, 2), (0, 3), (0, 4), (0, 5), (0, 6), (0, 7), (0, 8), (0, 11)], [(0, 2), (0, 3), (0, 4), (0, 5), (0, 6), (0, 7), (0, 9), (0, 10)], [(0, 2), (0, 3), (0, 4), (0, 5), (0, 6), (0, 7), (0, 9), (0, 11)], [(0, 2), (0, 3), (0, 4), (0, 5), (0, 6), (0, 7), (0, 10), (0, 11)], [(0, 2), (0, 3), (0, 4), (0, 5), (0, 6), (0, 8), (0, 9), (0, 10)], [(0, 2), (0, 3), (0, 4), (0, 5), (0, 6), (0, 8), (0, 9), (0, 11)], [(0, 2), (0, 3), (0, 4), (0, 5), (0, 6), (0, 8), (0, 10), (0, 11)], [(0, 2), (0, 3), (0, 4), (0, 5), (0, 6), (0, 9), (0, 10), (0, 11)], [(0, 2), (0, 3), (0, 4), (0, 5), (0, 7), (0, 8), (0, 9), (0, 10)], [(0, 2), (0, 3), (0, 4), (0, 5), (0, 7), (0, 8), (0, 9), (0, 11)], [(0, 2), (0, 3), (0, 4), (0, 5), (0, 7), (0, 8), (0, 10), (0, 11)], [(0, 2), (0, 3), (0, 4), (0, 5), (0, 7), (0, 9), (0, 10), (0, 11)], [(0, 2), (0, 3), (0, 4), (0, 5), (0, 8), (0, 9), (0, 10), (0, 11)], [(0, 2), (0, 3), (0, 4), (0, 6), (0, 7), (0, 8), (0, 9), (0, 10)], [(0, 2), (0, 3), (0, 4), (0, 6), (0, 7), (0, 8), (0, 9), (0, 11)], [(0, 2), (0, 3), (0, 4), (0, 6), (0, 7), (0, 8), (0, 10), (0, 11)], [(0, 2), (0, 3), (0, 4), (0, 6), (0, 7), (0, 9), (0, 10), (0, 11)], [(0, 2), (0, 3), (0, 4), (0, 6), (0, 8), (0, 9), (0, 10), (0, 11)], [(0, 2), (0, 3), (0, 4), (0, 7), (0, 8), (0, 9), (0, 10), (0, 11)], [(0, 2), (0, 3), (0, 5), (0, 6), (0, 7), (0, 8), (0, 9), (0, 10)], [(0, 2), (0, 3), (0, 5), (0, 6), (0, 7), (0, 8), (0, 9), (0, 11)], [(0, 2), (0, 3), (0, 5), (0, 6), (0, 7), (0, 8), (0, 10), (0, 11)], [(0, 2), (0, 3), (0, 5), (0, 6), (0, 7), (0, 9), (0, 10), (0, 11)], [(0, 2), (0, 3), (0, 5), (0, 6), (0, 8), (0, 9), (0, 10), (0, 11)], [(0, 2), (0, 3), (0, 5), (0, 7), (0, 8), (0, 9), (0, 10), (0, 11)], [(0, 2), (0, 3), (0, 6), (0, 7), (0, 8), (0, 9), (0, 10), (0, 11)], [(0, 2), (0, 4), (0, 5), (0, 6), (0, 7), (0, 8), (0, 9), (0, 10)], [(0, 2), (0, 4), (0, 5), (0, 6), (0, 7), (0, 8), (0, 9), (0, 11)], [(0, 2), (0, 4), (0, 5), (0, 6), (0, 7), (0, 8), (0, 10), (0, 11)], [(0, 2), (0, 4), (0, 5), (0, 6), (0, 7), (0, 9), (0, 10), (0, 11)], [(0, 2), (0, 4), (0, 5), (0, 6), (0, 8), (0, 9), (0, 10), (0, 11)], [(0, 2), (0, 4), (0, 5), (0, 7), (0, 8), (0, 9), (0, 10), (0, 11)], [(0, 2), (0, 4), (0, 6), (0, 7), (0, 8), (0, 9), (0, 10), (0, 11)], [(0, 2), (0, 5), (0, 6), (0, 7), (0, 8), (0, 9), (0, 10), (0, 11)], [(0, 3), (0, 4), (0, 5), (0, 6), (0, 7), (0, 8), (0, 9), (0, 10)], [(0, 3), (0, 4), (0, 5), (0, 6), (0, 7), (0, 8), (0, 9), (0, 11)], [(0, 3), (0, 4), (0, 5), (0, 6), (0, 7), (0, 8), (0, 10), (0, 11)], [(0, 3), (0, 4), (0, 5), (0, 6), (0, 7), (0, 9), (0, 10), (0, 11)], [(0, 3), (0, 4), (0, 5), (0, 6), (0, 8), (0, 9), (0, 10), (0, 11)], [(0, 3), (0, 4), (0, 5), (0, 7), (0, 8), (0, 9), (0, 10), (0, 11)], [(0, 3), (0, 4), (0, 6), (0, 7), (0, 8), (0, 9), (0, 10), (0, 11)], [(0, 3), (0, 5), (0, 6), (0, 7), (0, 8), (0, 9), (0, 10), (0, 11)], [(0, 4), (0, 5), (0, 6), (0, 7), (0, 8), (0, 9), (0, 10), (0, 11)], [(0, 0), (0, 1), (0, 2), (0, 3), (0, 4), (0, 5), (0, 6), (0, 7), (0, 8)], [(0, 0), (0, 1), (0, 2), (0, 3), (0, 4), (0, 5), (0, 6), (0, 7), (0, 9)], [(0, 0), (0, 1), (0, 2), (0, 3), (0, 4), (0, 5), (0, 6), (0, 7), (0, 10)], [(0, 0), (0, 1), (0, 2), (0, 3), (0, 4), (0, 5), (0, 6), (0, 7), (0, 11)], [(0, 0), (0, 1), (0, 2), (0, 3), (0, 4), (0, 5), (0, 6), (0, 8), (0, 9)], [(0, 0), (0, 1), (0, 2), (0, 3), (0, 4), (0, 5), (0, 6), (0, 8), (0, 10)], [(0, 0), (0, 1), (0, 2), (0, 3), (0, 4), (0, 5), (0, 6), (0, 8), (0, 11)], [(0, 0), (0, 1), (0, 2), (0, 3), (0, 4), (0, 5), (0, 6), (0, 9), (0, 10)], [(0, 0), (0, 1), (0, 2), (0, 3), (0, 4), (0, 5), (0, 6), (0, 9), (0, 11)], [(0, 0), (0, 1), (0, 2), (0, 3), (0, 4), (0, 5), (0, 6), (0, 10), (0, 11)], [(0, 0), (0, 1), (0, 2), (0, 3), (0, 4), (0, 5), (0, 7), (0, 8), (0, 9)], [(0, 0), (0, 1), (0, 2), (0, 3), (0, 4), (0, 5), (0, 7), (0, 8), (0, 10)], [(0, 0), (0, 1), (0, 2), (0, 3), (0, 4), (0, 5), (0, 7), (0, 8), (0, 11)], [(0, 0), (0, 1), (0, 2), (0, 3), (0, 4), (0, 5), (0, 7), (0, 9), (0, 10)], [(0, 0), (0, 1), (0, 2), (0, 3), (0, 4), (0, 5), (0, 7), (0, 9), (0, 11)], [(0, 0), (0, 1), (0, 2), (0, 3), (0, 4), (0, 5), (0, 7), (0, 10), (0, 11)], [(0, 0), (0, 1), (0, 2), (0, 3), (0, 4), (0, 5), (0, 8), (0, 9), (0, 10)], [(0, 0), (0, 1), (0, 2), (0, 3), (0, 4), (0, 5), (0, 8), (0, 9), (0, 11)], [(0, 0), (0, 1), (0, 2), (0, 3), (0, 4), (0, 5), (0, 8), (0, 10), (0, 11)], [(0, 0), (0, 1), (0, 2), (0, 3), (0, 4), (0, 5), (0, 9), (0, 10), (0, 11)], [(0, 0), (0, 1), (0, 2), (0, 3), (0, 4), (0, 6), (0, 7), (0, 8), (0, 9)], [(0, 0), (0, 1), (0, 2), (0, 3), (0, 4), (0, 6), (0, 7), (0, 8), (0, 10)], [(0, 0), (0, 1), (0, 2), (0, 3), (0, 4), (0, 6), (0, 7), (0, 8), (0, 11)], [(0, 0), (0, 1), (0, 2), (0, 3), (0, 4), (0, 6), (0, 7), (0, 9), (0, 10)], [(0, 0), (0, 1), (0, 2), (0, 3), (0, 4), (0, 6), (0, 7), (0, 9), (0, 11)], [(0, 0), (0, 1), (0, 2), (0, 3), (0, 4), (0, 6), (0, 7), (0, 10), (0, 11)], [(0, 0), (0, 1), (0, 2), (0, 3), (0, 4), (0, 6), (0, 8), (0, 9), (0, 10)], [(0, 0), (0, 1), (0, 2), (0, 3), (0, 4), (0, 6), (0, 8), (0, 9), (0, 11)], [(0, 0), (0, 1), (0, 2), (0, 3), (0, 4), (0, 6), (0, 8), (0, 10), (0, 11)], [(0, 0), (0, 1), (0, 2), (0, 3), (0, 4), (0, 6), (0, 9), (0, 10), (0, 11)], [(0, 0), (0, 1), (0, 2), (0, 3), (0, 4), (0, 7), (0, 8), (0, 9), (0, 10)], [(0, 0), (0, 1), (0, 2), (0, 3), (0, 4), (0, 7), (0, 8), (0, 9), (0, 11)], [(0, 0), (0, 1), (0, 2), (0, 3), (0, 4), (0, 7), (0, 8), (0, 10), (0, 11)], [(0, 0), (0, 1), (0, 2), (0, 3), (0, 4), (0, 7), (0, 9), (0, 10), (0, 11)], [(0, 0), (0, 1), (0, 2), (0, 3), (0, 4), (0, 8), (0, 9), (0, 10), (0, 11)], [(0, 0), (0, 1), (0, 2), (0, 3), (0, 5), (0, 6), (0, 7), (0, 8), (0, 9)], [(0, 0), (0, 1), (0, 2), (0, 3), (0, 5), (0, 6), (0, 7), (0, 8), (0, 10)], [(0, 0), (0, 1), (0, 2), (0, 3), (0, 5), (0, 6), (0, 7), (0, 8), (0, 11)], [(0, 0), (0, 1), (0, 2), (0, 3), (0, 5), (0, 6), (0, 7), (0, 9), (0, 10)], [(0, 0), (0, 1), (0, 2), (0, 3), (0, 5), (0, 6), (0, 7), (0, 9), (0, 11)], [(0, 0), (0, 1), (0, 2), (0, 3), (0, 5), (0, 6), (0, 7), (0, 10), (0, 11)], [(0, 0), (0, 1), (0, 2), (0, 3), (0, 5), (0, 6), (0, 8), (0, 9), (0, 10)], [(0, 0), (0, 1), (0, 2), (0, 3), (0, 5), (0, 6), (0, 8), (0, 9), (0, 11)], [(0, 0), (0, 1), (0, 2), (0, 3), (0, 5), (0, 6), (0, 8), (0, 10), (0, 11)], [(0, 0), (0, 1), (0, 2), (0, 3), (0, 5), (0, 6), (0, 9), (0, 10), (0, 11)], [(0, 0), (0, 1), (0, 2), (0, 3), (0, 5), (0, 7), (0, 8), (0, 9), (0, 10)], [(0, 0), (0, 1), (0, 2), (0, 3), (0, 5), (0, 7), (0, 8), (0, 9), (0, 11)], [(0, 0), (0, 1), (0, 2), (0, 3), (0, 5), (0, 7), (0, 8), (0, 10), (0, 11)], [(0, 0), (0, 1), (0, 2), (0, 3), (0, 5), (0, 7), (0, 9), (0, 10), (0, 11)], [(0, 0), (0, 1), (0, 2), (0, 3), (0, 5), (0, 8), (0, 9), (0, 10), (0, 11)], [(0, 0), (0, 1), (0, 2), (0, 3), (0, 6), (0, 7), (0, 8), (0, 9), (0, 10)], [(0, 0), (0, 1), (0, 2), (0, 3), (0, 6), (0, 7), (0, 8), (0, 9), (0, 11)], [(0, 0), (0, 1), (0, 2), (0, 3), (0, 6), (0, 7), (0, 8), (0, 10), (0, 11)], [(0, 0), (0, 1), (0, 2), (0, 3), (0, 6), (0, 7), (0, 9), (0, 10), (0, 11)], [(0, 0), (0, 1), (0, 2), (0, 3), (0, 6), (0, 8), (0, 9), (0, 10), (0, 11)], [(0, 0), (0, 1), (0, 2), (0, 3), (0, 7), (0, 8), (0, 9), (0, 10), (0, 11)], [(0, 0), (0, 1), (0, 2), (0, 4), (0, 5), (0, 6), (0, 7), (0, 8), (0, 9)], [(0, 0), (0, 1), (0, 2), (0, 4), (0, 5), (0, 6), (0, 7), (0, 8), (0, 10)], [(0, 0), (0, 1), (0, 2), (0, 4), (0, 5), (0, 6), (0, 7), (0, 8), (0, 11)], [(0, 0), (0, 1), (0, 2), (0, 4), (0, 5), (0, 6), (0, 7), (0, 9), (0, 10)], [(0, 0), (0, 1), (0, 2), (0, 4), (0, 5), (0, 6), (0, 7), (0, 9), (0, 11)], [(0, 0), (0, 1), (0, 2), (0, 4), (0, 5), (0, 6), (0, 7), (0, 10), (0, 11)], [(0, 0), (0, 1), (0, 2), (0, 4), (0, 5), (0, 6), (0, 8), (0, 9), (0, 10)], [(0, 0), (0, 1), (0, 2), (0, 4), (0, 5), (0, 6), (0, 8), (0, 9), (0, 11)], [(0, 0), (0, 1), (0, 2), (0, 4), (0, 5), (0, 6), (0, 8), (0, 10), (0, 11)], [(0, 0), (0, 1), (0, 2), (0, 4), (0, 5), (0, 6), (0, 9), (0, 10), (0, 11)], [(0, 0), (0, 1), (0, 2), (0, 4), (0, 5), (0, 7), (0, 8), (0, 9), (0, 10)], [(0, 0), (0, 1), (0, 2), (0, 4), (0, 5), (0, 7), (0, 8), (0, 9), (0, 11)], [(0, 0), (0, 1), (0, 2), (0, 4), (0, 5), (0, 7), (0, 8), (0, 10), (0, 11)], [(0, 0), (0, 1), (0, 2), (0, 4), (0, 5), (0, 7), (0, 9), (0, 10), (0, 11)], [(0, 0), (0, 1), (0, 2), (0, 4), (0, 5), (0, 8), (0, 9), (0, 10), (0, 11)], [(0, 0), (0, 1), (0, 2), (0, 4), (0, 6), (0, 7), (0, 8), (0, 9), (0, 10)], [(0, 0), (0, 1), (0, 2), (0, 4), (0, 6), (0, 7), (0, 8), (0, 9), (0, 11)], [(0, 0), (0, 1), (0, 2), (0, 4), (0, 6), (0, 7), (0, 8), (0, 10), (0, 11)], [(0, 0), (0, 1), (0, 2), (0, 4), (0, 6), (0, 7), (0, 9), (0, 10), (0, 11)], [(0, 0), (0, 1), (0, 2), (0, 4), (0, 6), (0, 8), (0, 9), (0, 10), (0, 11)], [(0, 0), (0, 1), (0, 2), (0, 4), (0, 7), (0, 8), (0, 9), (0, 10), (0, 11)], [(0, 0), (0, 1), (0, 2), (0, 5), (0, 6), (0, 7), (0, 8), (0, 9), (0, 10)], [(0, 0), (0, 1), (0, 2), (0, 5), (0, 6), (0, 7), (0, 8), (0, 9), (0, 11)], [(0, 0), (0, 1), (0, 2), (0, 5), (0, 6), (0, 7), (0, 8), (0, 10), (0, 11)], [(0, 0), (0, 1), (0, 2), (0, 5), (0, 6), (0, 7), (0, 9), (0, 10), (0, 11)], [(0, 0), (0, 1), (0, 2), (0, 5), (0, 6), (0, 8), (0, 9), (0, 10), (0, 11)], [(0, 0), (0, 1), (0, 2), (0, 5), (0, 7), (0, 8), (0, 9), (0, 10), (0, 11)], [(0, 0), (0, 1), (0, 2), (0, 6), (0, 7), (0, 8), (0, 9), (0, 10), (0, 11)], [(0, 0), (0, 1), (0, 3), (0, 4), (0, 5), (0, 6), (0, 7), (0, 8), (0, 9)], [(0, 0), (0, 1), (0, 3), (0, 4), (0, 5), (0, 6), (0, 7), (0, 8), (0, 10)], [(0, 0), (0, 1), (0, 3), (0, 4), (0, 5), (0, 6), (0, 7), (0, 8), (0, 11)], [(0, 0), (0, 1), (0, 3), (0, 4), (0, 5), (0, 6), (0, 7), (0, 9), (0, 10)], [(0, 0), (0, 1), (0, 3), (0, 4), (0, 5), (0, 6), (0, 7), (0, 9), (0, 11)], [(0, 0), (0, 1), (0, 3), (0, 4), (0, 5), (0, 6), (0, 7), (0, 10), (0, 11)], [(0, 0), (0, 1), (0, 3), (0, 4), (0, 5), (0, 6), (0, 8), (0, 9), (0, 10)], [(0, 0), (0, 1), (0, 3), (0, 4), (0, 5), (0, 6), (0, 8), (0, 9), (0, 11)], [(0, 0), (0, 1), (0, 3), (0, 4), (0, 5), (0, 6), (0, 8), (0, 10), (0, 11)], [(0, 0), (0, 1), (0, 3), (0, 4), (0, 5), (0, 6), (0, 9), (0, 10), (0, 11)], [(0, 0), (0, 1), (0, 3), (0, 4), (0, 5), (0, 7), (0, 8), (0, 9), (0, 10)], [(0, 0), (0, 1), (0, 3), (0, 4), (0, 5), (0, 7), (0, 8), (0, 9), (0, 11)], [(0, 0), (0, 1), (0, 3), (0, 4), (0, 5), (0, 7), (0, 8), (0, 10), (0, 11)], [(0, 0), (0, 1), (0, 3), (0, 4), (0, 5), (0, 7), (0, 9), (0, 10), (0, 11)], [(0, 0), (0, 1), (0, 3), (0, 4), (0, 5), (0, 8), (0, 9), (0, 10), (0, 11)], [(0, 0), (0, 1), (0, 3), (0, 4), (0, 6), (0, 7), (0, 8), (0, 9), (0, 10)], [(0, 0), (0, 1), (0, 3), (0, 4), (0, 6), (0, 7), (0, 8), (0, 9), (0, 11)], [(0, 0), (0, 1), (0, 3), (0, 4), (0, 6), (0, 7), (0, 8), (0, 10), (0, 11)], [(0, 0), (0, 1), (0, 3), (0, 4), (0, 6), (0, 7), (0, 9), (0, 10), (0, 11)], [(0, 0), (0, 1), (0, 3), (0, 4), (0, 6), (0, 8), (0, 9), (0, 10), (0, 11)], [(0, 0), (0, 1), (0, 3), (0, 4), (0, 7), (0, 8), (0, 9), (0, 10), (0, 11)], [(0, 0), (0, 1), (0, 3), (0, 5), (0, 6), (0, 7), (0, 8), (0, 9), (0, 10)], [(0, 0), (0, 1), (0, 3), (0, 5), (0, 6), (0, 7), (0, 8), (0, 9), (0, 11)], [(0, 0), (0, 1), (0, 3), (0, 5), (0, 6), (0, 7), (0, 8), (0, 10), (0, 11)], [(0, 0), (0, 1), (0, 3), (0, 5), (0, 6), (0, 7), (0, 9), (0, 10), (0, 11)], [(0, 0), (0, 1), (0, 3), (0, 5), (0, 6), (0, 8), (0, 9), (0, 10), (0, 11)], [(0, 0), (0, 1), (0, 3), (0, 5), (0, 7), (0, 8), (0, 9), (0, 10), (0, 11)], [(0, 0), (0, 1), (0, 3), (0, 6), (0, 7), (0, 8), (0, 9), (0, 10), (0, 11)], [(0, 0), (0, 1), (0, 4), (0, 5), (0, 6), (0, 7), (0, 8), (0, 9), (0, 10)], [(0, 0), (0, 1), (0, 4), (0, 5), (0, 6), (0, 7), (0, 8), (0, 9), (0, 11)], [(0, 0), (0, 1), (0, 4), (0, 5), (0, 6), (0, 7), (0, 8), (0, 10), (0, 11)], [(0, 0), (0, 1), (0, 4), (0, 5), (0, 6), (0, 7), (0, 9), (0, 10), (0, 11)], [(0, 0), (0, 1), (0, 4), (0, 5), (0, 6), (0, 8), (0, 9), (0, 10), (0, 11)], [(0, 0), (0, 1), (0, 4), (0, 5), (0, 7), (0, 8), (0, 9), (0, 10), (0, 11)], [(0, 0), (0, 1), (0, 4), (0, 6), (0, 7), (0, 8), (0, 9), (0, 10), (0, 11)], [(0, 0), (0, 1), (0, 5), (0, 6), (0, 7), (0, 8), (0, 9), (0, 10), (0, 11)], [(0, 0), (0, 2), (0, 3), (0, 4), (0, 5), (0, 6), (0, 7), (0, 8), (0, 9)], [(0, 0), (0, 2), (0, 3), (0, 4), (0, 5), (0, 6), (0, 7), (0, 8), (0, 10)], [(0, 0), (0, 2), (0, 3), (0, 4), (0, 5), (0, 6), (0, 7), (0, 8), (0, 11)], [(0, 0), (0, 2), (0, 3), (0, 4), (0, 5), (0, 6), (0, 7), (0, 9), (0, 10)], [(0, 0), (0, 2), (0, 3), (0, 4), (0, 5), (0, 6), (0, 7), (0, 9), (0, 11)], [(0, 0), (0, 2), (0, 3), (0, 4), (0, 5), (0, 6), (0, 7), (0, 10), (0, 11)], [(0, 0), (0, 2), (0, 3), (0, 4), (0, 5), (0, 6), (0, 8), (0, 9), (0, 10)], [(0, 0), (0, 2), (0, 3), (0, 4), (0, 5), (0, 6), (0, 8), (0, 9), (0, 11)], [(0, 0), (0, 2), (0, 3), (0, 4), (0, 5), (0, 6), (0, 8), (0, 10), (0, 11)], [(0, 0), (0, 2), (0, 3), (0, 4), (0, 5), (0, 6), (0, 9), (0, 10), (0, 11)], [(0, 0), (0, 2), (0, 3), (0, 4), (0, 5), (0, 7), (0, 8), (0, 9), (0, 10)], [(0, 0), (0, 2), (0, 3), (0, 4), (0, 5), (0, 7), (0, 8), (0, 9), (0, 11)], [(0, 0), (0, 2), (0, 3), (0, 4), (0, 5), (0, 7), (0, 8), (0, 10), (0, 11)], [(0, 0), (0, 2), (0, 3), (0, 4), (0, 5), (0, 7), (0, 9), (0, 10), (0, 11)], [(0, 0), (0, 2), (0, 3), (0, 4), (0, 5), (0, 8), (0, 9), (0, 10), (0, 11)], [(0, 0), (0, 2), (0, 3), (0, 4), (0, 6), (0, 7), (0, 8), (0, 9), (0, 10)], [(0, 0), (0, 2), (0, 3), (0, 4), (0, 6), (0, 7), (0, 8), (0, 9), (0, 11)], [(0, 0), (0, 2), (0, 3), (0, 4), (0, 6), (0, 7), (0, 8), (0, 10), (0, 11)], [(0, 0), (0, 2), (0, 3), (0, 4), (0, 6), (0, 7), (0, 9), (0, 10), (0, 11)], [(0, 0), (0, 2), (0, 3), (0, 4), (0, 6), (0, 8), (0, 9), (0, 10), (0, 11)], [(0, 0), (0, 2), (0, 3), (0, 4), (0, 7), (0, 8), (0, 9), (0, 10), (0, 11)], [(0, 0), (0, 2), (0, 3), (0, 5), (0, 6), (0, 7), (0, 8), (0, 9), (0, 10)], [(0, 0), (0, 2), (0, 3), (0, 5), (0, 6), (0, 7), (0, 8), (0, 9), (0, 11)], [(0, 0), (0, 2), (0, 3), (0, 5), (0, 6), (0, 7), (0, 8), (0, 10), (0, 11)], [(0, 0), (0, 2), (0, 3), (0, 5), (0, 6), (0, 7), (0, 9), (0, 10), (0, 11)], [(0, 0), (0, 2), (0, 3), (0, 5), (0, 6), (0, 8), (0, 9), (0, 10), (0, 11)], [(0, 0), (0, 2), (0, 3), (0, 5), (0, 7), (0, 8), (0, 9), (0, 10), (0, 11)], [(0, 0), (0, 2), (0, 3), (0, 6), (0, 7), (0, 8), (0, 9), (0, 10), (0, 11)], [(0, 0), (0, 2), (0, 4), (0, 5), (0, 6), (0, 7), (0, 8), (0, 9), (0, 10)], [(0, 0), (0, 2), (0, 4), (0, 5), (0, 6), (0, 7), (0, 8), (0, 9), (0, 11)], [(0, 0), (0, 2), (0, 4), (0, 5), (0, 6), (0, 7), (0, 8), (0, 10), (0, 11)], [(0, 0), (0, 2), (0, 4), (0, 5), (0, 6), (0, 7), (0, 9), (0, 10), (0, 11)], [(0, 0), (0, 2), (0, 4), (0, 5), (0, 6), (0, 8), (0, 9), (0, 10), (0, 11)], [(0, 0), (0, 2), (0, 4), (0, 5), (0, 7), (0, 8), (0, 9), (0, 10), (0, 11)], [(0, 0), (0, 2), (0, 4), (0, 6), (0, 7), (0, 8), (0, 9), (0, 10), (0, 11)], [(0, 0), (0, 2), (0, 5), (0, 6), (0, 7), (0, 8), (0, 9), (0, 10), (0, 11)], [(0, 0), (0, 3), (0, 4), (0, 5), (0, 6), (0, 7), (0, 8), (0, 9), (0, 10)], [(0, 0), (0, 3), (0, 4), (0, 5), (0, 6), (0, 7), (0, 8), (0, 9), (0, 11)], [(0, 0), (0, 3), (0, 4), (0, 5), (0, 6), (0, 7), (0, 8), (0, 10), (0, 11)], [(0, 0), (0, 3), (0, 4), (0, 5), (0, 6), (0, 7), (0, 9), (0, 10), (0, 11)], [(0, 0), (0, 3), (0, 4), (0, 5), (0, 6), (0, 8), (0, 9), (0, 10), (0, 11)], [(0, 0), (0, 3), (0, 4), (0, 5), (0, 7), (0, 8), (0, 9), (0, 10), (0, 11)], [(0, 0), (0, 3), (0, 4), (0, 6), (0, 7), (0, 8), (0, 9), (0, 10), (0, 11)], [(0, 0), (0, 3), (0, 5), (0, 6), (0, 7), (0, 8), (0, 9), (0, 10), (0, 11)], [(0, 0), (0, 4), (0, 5), (0, 6), (0, 7), (0, 8), (0, 9), (0, 10), (0, 11)], [(0, 1), (0, 2), (0, 3), (0, 4), (0, 5), (0, 6), (0, 7), (0, 8), (0, 9)], [(0, 1), (0, 2), (0, 3), (0, 4), (0, 5), (0, 6), (0, 7), (0, 8), (0, 10)], [(0, 1), (0, 2), (0, 3), (0, 4), (0, 5), (0, 6), (0, 7), (0, 8), (0, 11)], [(0, 1), (0, 2), (0, 3), (0, 4), (0, 5), (0, 6), (0, 7), (0, 9), (0, 10)], [(0, 1), (0, 2), (0, 3), (0, 4), (0, 5), (0, 6), (0, 7), (0, 9), (0, 11)], [(0, 1), (0, 2), (0, 3), (0, 4), (0, 5), (0, 6), (0, 7), (0, 10), (0, 11)], [(0, 1), (0, 2), (0, 3), (0, 4), (0, 5), (0, 6), (0, 8), (0, 9), (0, 10)], [(0, 1), (0, 2), (0, 3), (0, 4), (0, 5), (0, 6), (0, 8), (0, 9), (0, 11)], [(0, 1), (0, 2), (0, 3), (0, 4), (0, 5), (0, 6), (0, 8), (0, 10), (0, 11)], [(0, 1), (0, 2), (0, 3), (0, 4), (0, 5), (0, 6), (0, 9), (0, 10), (0, 11)], [(0, 1), (0, 2), (0, 3), (0, 4), (0, 5), (0, 7), (0, 8), (0, 9), (0, 10)], [(0, 1), (0, 2), (0, 3), (0, 4), (0, 5), (0, 7), (0, 8), (0, 9), (0, 11)], [(0, 1), (0, 2), (0, 3), (0, 4), (0, 5), (0, 7), (0, 8), (0, 10), (0, 11)], [(0, 1), (0, 2), (0, 3), (0, 4), (0, 5), (0, 7), (0, 9), (0, 10), (0, 11)], [(0, 1), (0, 2), (0, 3), (0, 4), (0, 5), (0, 8), (0, 9), (0, 10), (0, 11)], [(0, 1), (0, 2), (0, 3), (0, 4), (0, 6), (0, 7), (0, 8), (0, 9), (0, 10)], [(0, 1), (0, 2), (0, 3), (0, 4), (0, 6), (0, 7), (0, 8), (0, 9), (0, 11)], [(0, 1), (0, 2), (0, 3), (0, 4), (0, 6), (0, 7), (0, 8), (0, 10), (0, 11)], [(0, 1), (0, 2), (0, 3), (0, 4), (0, 6), (0, 7), (0, 9), (0, 10), (0, 11)], [(0, 1), (0, 2), (0, 3), (0, 4), (0, 6), (0, 8), (0, 9), (0, 10), (0, 11)], [(0, 1), (0, 2), (0, 3), (0, 4), (0, 7), (0, 8), (0, 9), (0, 10), (0, 11)], [(0, 1), (0, 2), (0, 3), (0, 5), (0, 6), (0, 7), (0, 8), (0, 9), (0, 10)], [(0, 1), (0, 2), (0, 3), (0, 5), (0, 6), (0, 7), (0, 8), (0, 9), (0, 11)], [(0, 1), (0, 2), (0, 3), (0, 5), (0, 6), (0, 7), (0, 8), (0, 10), (0, 11)], [(0, 1), (0, 2), (0, 3), (0, 5), (0, 6), (0, 7), (0, 9), (0, 10), (0, 11)], [(0, 1), (0, 2), (0, 3), (0, 5), (0, 6), (0, 8), (0, 9), (0, 10), (0, 11)], [(0, 1), (0, 2), (0, 3), (0, 5), (0, 7), (0, 8), (0, 9), (0, 10), (0, 11)], [(0, 1), (0, 2), (0, 3), (0, 6), (0, 7), (0, 8), (0, 9), (0, 10), (0, 11)], [(0, 1), (0, 2), (0, 4), (0, 5), (0, 6), (0, 7), (0, 8), (0, 9), (0, 10)], [(0, 1), (0, 2), (0, 4), (0, 5), (0, 6), (0, 7), (0, 8), (0, 9), (0, 11)], [(0, 1), (0, 2), (0, 4), (0, 5), (0, 6), (0, 7), (0, 8), (0, 10), (0, 11)], [(0, 1), (0, 2), (0, 4), (0, 5), (0, 6), (0, 7), (0, 9), (0, 10), (0, 11)], [(0, 1), (0, 2), (0, 4), (0, 5), (0, 6), (0, 8), (0, 9), (0, 10), (0, 11)], [(0, 1), (0, 2), (0, 4), (0, 5), (0, 7), (0, 8), (0, 9), (0, 10), (0, 11)], [(0, 1), (0, 2), (0, 4), (0, 6), (0, 7), (0, 8), (0, 9), (0, 10), (0, 11)], [(0, 1), (0, 2), (0, 5), (0, 6), (0, 7), (0, 8), (0, 9), (0, 10), (0, 11)], [(0, 1), (0, 3), (0, 4), (0, 5), (0, 6), (0, 7), (0, 8), (0, 9), (0, 10)], [(0, 1), (0, 3), (0, 4), (0, 5), (0, 6), (0, 7), (0, 8), (0, 9), (0, 11)], [(0, 1), (0, 3), (0, 4), (0, 5), (0, 6), (0, 7), (0, 8), (0, 10), (0, 11)], [(0, 1), (0, 3), (0, 4), (0, 5), (0, 6), (0, 7), (0, 9), (0, 10), (0, 11)], [(0, 1), (0, 3), (0, 4), (0, 5), (0, 6), (0, 8), (0, 9), (0, 10), (0, 11)], [(0, 1), (0, 3), (0, 4), (0, 5), (0, 7), (0, 8), (0, 9), (0, 10), (0, 11)], [(0, 1), (0, 3), (0, 4), (0, 6), (0, 7), (0, 8), (0, 9), (0, 10), (0, 11)], [(0, 1), (0, 3), (0, 5), (0, 6), (0, 7), (0, 8), (0, 9), (0, 10), (0, 11)], [(0, 1), (0, 4), (0, 5), (0, 6), (0, 7), (0, 8), (0, 9), (0, 10), (0, 11)], [(0, 2), (0, 3), (0, 4), (0, 5), (0, 6), (0, 7), (0, 8), (0, 9), (0, 10)], [(0, 2), (0, 3), (0, 4), (0, 5), (0, 6), (0, 7), (0, 8), (0, 9), (0, 11)], [(0, 2), (0, 3), (0, 4), (0, 5), (0, 6), (0, 7), (0, 8), (0, 10), (0, 11)], [(0, 2), (0, 3), (0, 4), (0, 5), (0, 6), (0, 7), (0, 9), (0, 10), (0, 11)], [(0, 2), (0, 3), (0, 4), (0, 5), (0, 6), (0, 8), (0, 9), (0, 10), (0, 11)], [(0, 2), (0, 3), (0, 4), (0, 5), (0, 7), (0, 8), (0, 9), (0, 10), (0, 11)], [(0, 2), (0, 3), (0, 4), (0, 6), (0, 7), (0, 8), (0, 9), (0, 10), (0, 11)], [(0, 2), (0, 3), (0, 5), (0, 6), (0, 7), (0, 8), (0, 9), (0, 10), (0, 11)], [(0, 2), (0, 4), (0, 5), (0, 6), (0, 7), (0, 8), (0, 9), (0, 10), (0, 11)], [(0, 3), (0, 4), (0, 5), (0, 6), (0, 7), (0, 8), (0, 9), (0, 10), (0, 11)], [(0, 0), (0, 1), (0, 2), (0, 3), (0, 4), (0, 5), (0, 6), (0, 7), (0, 8), (0, 9)], [(0, 0), (0, 1), (0, 2), (0, 3), (0, 4), (0, 5), (0, 6), (0, 7), (0, 8), (0, 10)], [(0, 0), (0, 1), (0, 2), (0, 3), (0, 4), (0, 5), (0, 6), (0, 7), (0, 8), (0, 11)], [(0, 0), (0, 1), (0, 2), (0, 3), (0, 4), (0, 5), (0, 6), (0, 7), (0, 9), (0, 10)], [(0, 0), (0, 1), (0, 2), (0, 3), (0, 4), (0, 5), (0, 6), (0, 7), (0, 9), (0, 11)], [(0, 0), (0, 1), (0, 2), (0, 3), (0, 4), (0, 5), (0, 6), (0, 7), (0, 10), (0, 11)], [(0, 0), (0, 1), (0, 2), (0, 3), (0, 4), (0, 5), (0, 6), (0, 8), (0, 9), (0, 10)], [(0, 0), (0, 1), (0, 2), (0, 3), (0, 4), (0, 5), (0, 6), (0, 8), (0, 9), (0, 11)], [(0, 0), (0, 1), (0, 2), (0, 3), (0, 4), (0, 5), (0, 6), (0, 8), (0, 10), (0, 11)], [(0, 0), (0, 1), (0, 2), (0, 3), (0, 4), (0, 5), (0, 6), (0, 9), (0, 10), (0, 11)], [(0, 0), (0, 1), (0, 2), (0, 3), (0, 4), (0, 5), (0, 7), (0, 8), (0, 9), (0, 10)], [(0, 0), (0, 1), (0, 2), (0, 3), (0, 4), (0, 5), (0, 7), (0, 8), (0, 9), (0, 11)], [(0, 0), (0, 1), (0, 2), (0, 3), (0, 4), (0, 5), (0, 7), (0, 8), (0, 10), (0, 11)], [(0, 0), (0, 1), (0, 2), (0, 3), (0, 4), (0, 5), (0, 7), (0, 9), (0, 10), (0, 11)], [(0, 0), (0, 1), (0, 2), (0, 3), (0, 4), (0, 5), (0, 8), (0, 9), (0, 10), (0, 11)], [(0, 0), (0, 1), (0, 2), (0, 3), (0, 4), (0, 6), (0, 7), (0, 8), (0, 9), (0, 10)], [(0, 0), (0, 1), (0, 2), (0, 3), (0, 4), (0, 6), (0, 7), (0, 8), (0, 9), (0, 11)], [(0, 0), (0, 1), (0, 2), (0, 3), (0, 4), (0, 6), (0, 7), (0, 8), (0, 10), (0, 11)], [(0, 0), (0, 1), (0, 2), (0, 3), (0, 4), (0, 6), (0, 7), (0, 9), (0, 10), (0, 11)], [(0, 0), (0, 1), (0, 2), (0, 3), (0, 4), (0, 6), (0, 8), (0, 9), (0, 10), (0, 11)], [(0, 0), (0, 1), (0, 2), (0, 3), (0, 4), (0, 7), (0, 8), (0, 9), (0, 10), (0, 11)], [(0, 0), (0, 1), (0, 2), (0, 3), (0, 5), (0, 6), (0, 7), (0, 8), (0, 9), (0, 10)], [(0, 0), (0, 1), (0, 2), (0, 3), (0, 5), (0, 6), (0, 7), (0, 8), (0, 9), (0, 11)], [(0, 0), (0, 1), (0, 2), (0, 3), (0, 5), (0, 6), (0, 7), (0, 8), (0, 10), (0, 11)], [(0, 0), (0, 1), (0, 2), (0, 3), (0, 5), (0, 6), (0, 7), (0, 9), (0, 10), (0, 11)], [(0, 0), (0, 1), (0, 2), (0, 3), (0, 5), (0, 6), (0, 8), (0, 9), (0, 10), (0, 11)], [(0, 0), (0, 1), (0, 2), (0, 3), (0, 5), (0, 7), (0, 8), (0, 9), (0, 10), (0, 11)], [(0, 0), (0, 1), (0, 2), (0, 3), (0, 6), (0, 7), (0, 8), (0, 9), (0, 10), (0, 11)], [(0, 0), (0, 1), (0, 2), (0, 4), (0, 5), (0, 6), (0, 7), (0, 8), (0, 9), (0, 10)], [(0, 0), (0, 1), (0, 2), (0, 4), (0, 5), (0, 6), (0, 7), (0, 8), (0, 9), (0, 11)], [(0, 0), (0, 1), (0, 2), (0, 4), (0, 5), (0, 6), (0, 7), (0, 8), (0, 10), (0, 11)], [(0, 0), (0, 1), (0, 2), (0, 4), (0, 5), (0, 6), (0, 7), (0, 9), (0, 10), (0, 11)], [(0, 0), (0, 1), (0, 2), (0, 4), (0, 5), (0, 6), (0, 8), (0, 9), (0, 10), (0, 11)], [(0, 0), (0, 1), (0, 2), (0, 4), (0, 5), (0, 7), (0, 8), (0, 9), (0, 10), (0, 11)], [(0, 0), (0, 1), (0, 2), (0, 4), (0, 6), (0, 7), (0, 8), (0, 9), (0, 10), (0, 11)], [(0, 0), (0, 1), (0, 2), (0, 5), (0, 6), (0, 7), (0, 8), (0, 9), (0, 10), (0, 11)], [(0, 0), (0, 1), (0, 3), (0, 4), (0, 5), (0, 6), (0, 7), (0, 8), (0, 9), (0, 10)], [(0, 0), (0, 1), (0, 3), (0, 4), (0, 5), (0, 6), (0, 7), (0, 8), (0, 9), (0, 11)], [(0, 0), (0, 1), (0, 3), (0, 4), (0, 5), (0, 6), (0, 7), (0, 8), (0, 10), (0, 11)], [(0, 0), (0, 1), (0, 3), (0, 4), (0, 5), (0, 6), (0, 7), (0, 9), (0, 10), (0, 11)], [(0, 0), (0, 1), (0, 3), (0, 4), (0, 5), (0, 6), (0, 8), (0, 9), (0, 10), (0, 11)], [(0, 0), (0, 1), (0, 3), (0, 4), (0, 5), (0, 7), (0, 8), (0, 9), (0, 10), (0, 11)], [(0, 0), (0, 1), (0, 3), (0, 4), (0, 6), (0, 7), (0, 8), (0, 9), (0, 10), (0, 11)], [(0, 0), (0, 1), (0, 3), (0, 5), (0, 6), (0, 7), (0, 8), (0, 9), (0, 10), (0, 11)], [(0, 0), (0, 1), (0, 4), (0, 5), (0, 6), (0, 7), (0, 8), (0, 9), (0, 10), (0, 11)], [(0, 0), (0, 2), (0, 3), (0, 4), (0, 5), (0, 6), (0, 7), (0, 8), (0, 9), (0, 10)], [(0, 0), (0, 2), (0, 3), (0, 4), (0, 5), (0, 6), (0, 7), (0, 8), (0, 9), (0, 11)], [(0, 0), (0, 2), (0, 3), (0, 4), (0, 5), (0, 6), (0, 7), (0, 8), (0, 10), (0, 11)], [(0, 0), (0, 2), (0, 3), (0, 4), (0, 5), (0, 6), (0, 7), (0, 9), (0, 10), (0, 11)], [(0, 0), (0, 2), (0, 3), (0, 4), (0, 5), (0, 6), (0, 8), (0, 9), (0, 10), (0, 11)], [(0, 0), (0, 2), (0, 3), (0, 4), (0, 5), (0, 7), (0, 8), (0, 9), (0, 10), (0, 11)], [(0, 0), (0, 2), (0, 3), (0, 4), (0, 6), (0, 7), (0, 8), (0, 9), (0, 10), (0, 11)], [(0, 0), (0, 2), (0, 3), (0, 5), (0, 6), (0, 7), (0, 8), (0, 9), (0, 10), (0, 11)], [(0, 0), (0, 2), (0, 4), (0, 5), (0, 6), (0, 7), (0, 8), (0, 9), (0, 10), (0, 11)], [(0, 0), (0, 3), (0, 4), (0, 5), (0, 6), (0, 7), (0, 8), (0, 9), (0, 10), (0, 11)], [(0, 1), (0, 2), (0, 3), (0, 4), (0, 5), (0, 6), (0, 7), (0, 8), (0, 9), (0, 10)], [(0, 1), (0, 2), (0, 3), (0, 4), (0, 5), (0, 6), (0, 7), (0, 8), (0, 9), (0, 11)], [(0, 1), (0, 2), (0, 3), (0, 4), (0, 5), (0, 6), (0, 7), (0, 8), (0, 10), (0, 11)], [(0, 1), (0, 2), (0, 3), (0, 4), (0, 5), (0, 6), (0, 7), (0, 9), (0, 10), (0, 11)], [(0, 1), (0, 2), (0, 3), (0, 4), (0, 5), (0, 6), (0, 8), (0, 9), (0, 10), (0, 11)], [(0, 1), (0, 2), (0, 3), (0, 4), (0, 5), (0, 7), (0, 8), (0, 9), (0, 10), (0, 11)], [(0, 1), (0, 2), (0, 3), (0, 4), (0, 6), (0, 7), (0, 8), (0, 9), (0, 10), (0, 11)], [(0, 1), (0, 2), (0, 3), (0, 5), (0, 6), (0, 7), (0, 8), (0, 9), (0, 10), (0, 11)], [(0, 1), (0, 2), (0, 4), (0, 5), (0, 6), (0, 7), (0, 8), (0, 9), (0, 10), (0, 11)], [(0, 1), (0, 3), (0, 4), (0, 5), (0, 6), (0, 7), (0, 8), (0, 9), (0, 10), (0, 11)], [(0, 2), (0, 3), (0, 4), (0, 5), (0, 6), (0, 7), (0, 8), (0, 9), (0, 10), (0, 11)], [(0, 0), (0, 1), (0, 2), (0, 3), (0, 4), (0, 5), (0, 6), (0, 7), (0, 8), (0, 9), (0, 10)], [(0, 0), (0, 1), (0, 2), (0, 3), (0, 4), (0, 5), (0, 6), (0, 7), (0, 8), (0, 9), (0, 11)], [(0, 0), (0, 1), (0, 2), (0, 3), (0, 4), (0, 5), (0, 6), (0, 7), (0, 8), (0, 10), (0, 11)], [(0, 0), (0, 1), (0, 2), (0, 3), (0, 4), (0, 5), (0, 6), (0, 7), (0, 9), (0, 10), (0, 11)], [(0, 0), (0, 1), (0, 2), (0, 3), (0, 4), (0, 5), (0, 6), (0, 8), (0, 9), (0, 10), (0, 11)], [(0, 0), (0, 1), (0, 2), (0, 3), (0, 4), (0, 5), (0, 7), (0, 8), (0, 9), (0, 10), (0, 11)], [(0, 0), (0, 1), (0, 2), (0, 3), (0, 4), (0, 6), (0, 7), (0, 8), (0, 9), (0, 10), (0, 11)], [(0, 0), (0, 1), (0, 2), (0, 3), (0, 5), (0, 6), (0, 7), (0, 8), (0, 9), (0, 10), (0, 11)], [(0, 0), (0, 1), (0, 2), (0, 4), (0, 5), (0, 6), (0, 7), (0, 8), (0, 9), (0, 10), (0, 11)], [(0, 0), (0, 1), (0, 3), (0, 4), (0, 5), (0, 6), (0, 7), (0, 8), (0, 9), (0, 10), (0, 11)], [(0, 0), (0, 2), (0, 3), (0, 4), (0, 5), (0, 6), (0, 7), (0, 8), (0, 9), (0, 10), (0, 11)], [(0, 1), (0, 2), (0, 3), (0, 4), (0, 5), (0, 6), (0, 7), (0, 8), (0, 9), (0, 10), (0, 11)], [(0, 0), (0, 1), (0, 2), (0, 3), (0, 4), (0, 5), (0, 6), (0, 7), (0, 8), (0, 9), (0, 10), (0, 11)]]\n"
          ]
        }
      ]
    },
    {
      "cell_type": "code",
      "source": [
        "len(all_combinations)"
      ],
      "metadata": {
        "colab": {
          "base_uri": "https://localhost:8080/"
        },
        "id": "-KSW2BZMOi8Y",
        "outputId": "533058eb-18fa-43db-cc99-c70f0fc2a6d4"
      },
      "execution_count": 29,
      "outputs": [
        {
          "output_type": "execute_result",
          "data": {
            "text/plain": [
              "4095"
            ]
          },
          "metadata": {},
          "execution_count": 29
        }
      ]
    },
    {
      "cell_type": "code",
      "source": [
        "base_lst = [(0, 1), (0, 10), (3, 0), (4, 4), (5, 5), (6, 1), (6, 6), (7, 10), (7, 11), (8, 8), (8, 11), (9, 1), (9, 5), (10, 7)]"
      ],
      "metadata": {
        "id": "VaxbugcfGlBA"
      },
      "execution_count": 30,
      "outputs": []
    },
    {
      "cell_type": "code",
      "source": [
        "all_scores = []\n",
        "\n",
        "for combo in all_combinations:\n",
        "    new_score = mean_ablate_by_lst(base_lst + combo, model, print_output=False)\n",
        "    all_scores.append((combo, new_score))"
      ],
      "metadata": {
        "colab": {
          "base_uri": "https://localhost:8080/",
          "height": 374
        },
        "id": "vWk_opeBPljY",
        "outputId": "0d26b69a-6d0b-4289-e2a1-8c3fd132db1b"
      },
      "execution_count": 31,
      "outputs": [
        {
          "output_type": "error",
          "ename": "KeyboardInterrupt",
          "evalue": "ignored",
          "traceback": [
            "\u001b[0;31m---------------------------------------------------------------------------\u001b[0m",
            "\u001b[0;31mKeyboardInterrupt\u001b[0m                         Traceback (most recent call last)",
            "\u001b[0;32m<ipython-input-31-be79fd3b0344>\u001b[0m in \u001b[0;36m<cell line: 3>\u001b[0;34m()\u001b[0m\n\u001b[1;32m      2\u001b[0m \u001b[0;34m\u001b[0m\u001b[0m\n\u001b[1;32m      3\u001b[0m \u001b[0;32mfor\u001b[0m \u001b[0mcombo\u001b[0m \u001b[0;32min\u001b[0m \u001b[0mall_combinations\u001b[0m\u001b[0;34m:\u001b[0m\u001b[0;34m\u001b[0m\u001b[0;34m\u001b[0m\u001b[0m\n\u001b[0;32m----> 4\u001b[0;31m     \u001b[0mnew_score\u001b[0m \u001b[0;34m=\u001b[0m \u001b[0mmean_ablate_by_lst\u001b[0m\u001b[0;34m(\u001b[0m\u001b[0mbase_lst\u001b[0m \u001b[0;34m+\u001b[0m \u001b[0mcombo\u001b[0m\u001b[0;34m,\u001b[0m \u001b[0mmodel\u001b[0m\u001b[0;34m,\u001b[0m \u001b[0mprint_output\u001b[0m\u001b[0;34m=\u001b[0m\u001b[0;32mFalse\u001b[0m\u001b[0;34m)\u001b[0m\u001b[0;34m\u001b[0m\u001b[0;34m\u001b[0m\u001b[0m\n\u001b[0m\u001b[1;32m      5\u001b[0m     \u001b[0mall_scores\u001b[0m\u001b[0;34m.\u001b[0m\u001b[0mappend\u001b[0m\u001b[0;34m(\u001b[0m\u001b[0;34m(\u001b[0m\u001b[0mcombo\u001b[0m\u001b[0;34m,\u001b[0m \u001b[0mnew_score\u001b[0m\u001b[0;34m)\u001b[0m\u001b[0;34m)\u001b[0m\u001b[0;34m\u001b[0m\u001b[0;34m\u001b[0m\u001b[0m\n",
            "\u001b[0;32m<ipython-input-27-6fa859ba4ce7>\u001b[0m in \u001b[0;36mmean_ablate_by_lst\u001b[0;34m(lst, model, print_output)\u001b[0m\n\u001b[1;32m     20\u001b[0m     \u001b[0mioi_logits_original\u001b[0m\u001b[0;34m,\u001b[0m \u001b[0mioi_cache\u001b[0m \u001b[0;34m=\u001b[0m \u001b[0mmodel\u001b[0m\u001b[0;34m.\u001b[0m\u001b[0mrun_with_cache\u001b[0m\u001b[0;34m(\u001b[0m\u001b[0mdataset\u001b[0m\u001b[0;34m.\u001b[0m\u001b[0mtoks\u001b[0m\u001b[0;34m)\u001b[0m\u001b[0;34m\u001b[0m\u001b[0;34m\u001b[0m\u001b[0m\n\u001b[1;32m     21\u001b[0m \u001b[0;34m\u001b[0m\u001b[0m\n\u001b[0;32m---> 22\u001b[0;31m     \u001b[0mmodel\u001b[0m \u001b[0;34m=\u001b[0m \u001b[0mioi_circuit_extraction\u001b[0m\u001b[0;34m.\u001b[0m\u001b[0madd_mean_ablation_hook\u001b[0m\u001b[0;34m(\u001b[0m\u001b[0mmodel\u001b[0m\u001b[0;34m,\u001b[0m \u001b[0mmeans_dataset\u001b[0m\u001b[0;34m=\u001b[0m\u001b[0mdataset_2\u001b[0m\u001b[0;34m,\u001b[0m \u001b[0mcircuit\u001b[0m\u001b[0;34m=\u001b[0m\u001b[0mCIRCUIT\u001b[0m\u001b[0;34m,\u001b[0m \u001b[0mseq_pos_to_keep\u001b[0m\u001b[0;34m=\u001b[0m\u001b[0mSEQ_POS_TO_KEEP\u001b[0m\u001b[0;34m)\u001b[0m\u001b[0;34m\u001b[0m\u001b[0;34m\u001b[0m\u001b[0m\n\u001b[0m\u001b[1;32m     23\u001b[0m     \u001b[0mioi_logits_minimal\u001b[0m \u001b[0;34m=\u001b[0m \u001b[0mmodel\u001b[0m\u001b[0;34m(\u001b[0m\u001b[0mdataset\u001b[0m\u001b[0;34m.\u001b[0m\u001b[0mtoks\u001b[0m\u001b[0;34m)\u001b[0m\u001b[0;34m\u001b[0m\u001b[0;34m\u001b[0m\u001b[0m\n\u001b[1;32m     24\u001b[0m \u001b[0;34m\u001b[0m\u001b[0m\n",
            "\u001b[0;32m/content/ARENA_2.0/chapter1_transformers/exercises/part3_indirect_object_identification/ioi_circuit_extraction.py\u001b[0m in \u001b[0;36madd_mean_ablation_hook\u001b[0;34m(model, means_dataset, circuit, seq_pos_to_keep, is_permanent)\u001b[0m\n\u001b[1;32m    179\u001b[0m \u001b[0;34m\u001b[0m\u001b[0m\n\u001b[1;32m    180\u001b[0m     \u001b[0;31m# Apply hook\u001b[0m\u001b[0;34m\u001b[0m\u001b[0;34m\u001b[0m\u001b[0m\n\u001b[0;32m--> 181\u001b[0;31m     \u001b[0mmodel\u001b[0m\u001b[0;34m.\u001b[0m\u001b[0madd_hook\u001b[0m\u001b[0;34m(\u001b[0m\u001b[0;32mlambda\u001b[0m \u001b[0mname\u001b[0m\u001b[0;34m:\u001b[0m \u001b[0mname\u001b[0m\u001b[0;34m.\u001b[0m\u001b[0mendswith\u001b[0m\u001b[0;34m(\u001b[0m\u001b[0;34m\"z\"\u001b[0m\u001b[0;34m)\u001b[0m\u001b[0;34m,\u001b[0m \u001b[0mhook_fn\u001b[0m\u001b[0;34m,\u001b[0m \u001b[0mis_permanent\u001b[0m\u001b[0;34m=\u001b[0m\u001b[0mis_permanent\u001b[0m\u001b[0;34m)\u001b[0m\u001b[0;34m\u001b[0m\u001b[0;34m\u001b[0m\u001b[0m\n\u001b[0m\u001b[1;32m    182\u001b[0m \u001b[0;34m\u001b[0m\u001b[0m\n\u001b[1;32m    183\u001b[0m     \u001b[0;32mreturn\u001b[0m \u001b[0mmodel\u001b[0m\u001b[0;34m\u001b[0m\u001b[0;34m\u001b[0m\u001b[0m\n",
            "\u001b[0;32m/usr/local/lib/python3.10/dist-packages/transformer_lens/hook_points.py\u001b[0m in \u001b[0;36madd_hook\u001b[0;34m(self, name, hook, dir, is_permanent, level, prepend)\u001b[0m\n\u001b[1;32m    248\u001b[0m             \u001b[0;32mfor\u001b[0m \u001b[0mhook_point_name\u001b[0m\u001b[0;34m,\u001b[0m \u001b[0mhp\u001b[0m \u001b[0;32min\u001b[0m \u001b[0mself\u001b[0m\u001b[0;34m.\u001b[0m\u001b[0mhook_dict\u001b[0m\u001b[0;34m.\u001b[0m\u001b[0mitems\u001b[0m\u001b[0;34m(\u001b[0m\u001b[0;34m)\u001b[0m\u001b[0;34m:\u001b[0m\u001b[0;34m\u001b[0m\u001b[0;34m\u001b[0m\u001b[0m\n\u001b[1;32m    249\u001b[0m                 \u001b[0;32mif\u001b[0m \u001b[0mname\u001b[0m\u001b[0;34m(\u001b[0m\u001b[0mhook_point_name\u001b[0m\u001b[0;34m)\u001b[0m\u001b[0;34m:\u001b[0m\u001b[0;34m\u001b[0m\u001b[0;34m\u001b[0m\u001b[0m\n\u001b[0;32m--> 250\u001b[0;31m                     self.check_and_add_hook(\n\u001b[0m\u001b[1;32m    251\u001b[0m                         \u001b[0mhp\u001b[0m\u001b[0;34m,\u001b[0m\u001b[0;34m\u001b[0m\u001b[0;34m\u001b[0m\u001b[0m\n\u001b[1;32m    252\u001b[0m                         \u001b[0mhook_point_name\u001b[0m\u001b[0;34m,\u001b[0m\u001b[0;34m\u001b[0m\u001b[0;34m\u001b[0m\u001b[0m\n",
            "\u001b[0;32m/usr/local/lib/python3.10/dist-packages/transformer_lens/hook_points.py\u001b[0m in \u001b[0;36mcheck_and_add_hook\u001b[0;34m(self, hook_point, hook_point_name, hook, dir, is_permanent, level, prepend)\u001b[0m\n\u001b[1;32m    221\u001b[0m             \u001b[0mprepend\u001b[0m\u001b[0;34m=\u001b[0m\u001b[0mprepend\u001b[0m\u001b[0;34m,\u001b[0m\u001b[0;34m\u001b[0m\u001b[0;34m\u001b[0m\u001b[0m\n\u001b[1;32m    222\u001b[0m         )\n\u001b[0;32m--> 223\u001b[0;31m         hook_point.add_hook(\n\u001b[0m\u001b[1;32m    224\u001b[0m             \u001b[0mhook\u001b[0m\u001b[0;34m,\u001b[0m \u001b[0mdir\u001b[0m\u001b[0;34m=\u001b[0m\u001b[0mdir\u001b[0m\u001b[0;34m,\u001b[0m \u001b[0mis_permanent\u001b[0m\u001b[0;34m=\u001b[0m\u001b[0mis_permanent\u001b[0m\u001b[0;34m,\u001b[0m \u001b[0mlevel\u001b[0m\u001b[0;34m=\u001b[0m\u001b[0mlevel\u001b[0m\u001b[0;34m,\u001b[0m \u001b[0mprepend\u001b[0m\u001b[0;34m=\u001b[0m\u001b[0mprepend\u001b[0m\u001b[0;34m\u001b[0m\u001b[0;34m\u001b[0m\u001b[0m\n\u001b[1;32m    225\u001b[0m         )\n",
            "\u001b[0;32m/usr/local/lib/python3.10/dist-packages/transformer_lens/hook_points.py\u001b[0m in \u001b[0;36madd_hook\u001b[0;34m(self, hook, dir, is_permanent, level, prepend)\u001b[0m\n\u001b[1;32m     68\u001b[0m \u001b[0;34m\u001b[0m\u001b[0m\n\u001b[1;32m     69\u001b[0m             full_hook.__name__ = (\n\u001b[0;32m---> 70\u001b[0;31m                 \u001b[0mhook\u001b[0m\u001b[0;34m.\u001b[0m\u001b[0m__repr__\u001b[0m\u001b[0;34m(\u001b[0m\u001b[0;34m)\u001b[0m\u001b[0;34m\u001b[0m\u001b[0;34m\u001b[0m\u001b[0m\n\u001b[0m\u001b[1;32m     71\u001b[0m             )  # annotate the `full_hook` with the string representation of the `hook` function\n\u001b[1;32m     72\u001b[0m \u001b[0;34m\u001b[0m\u001b[0m\n",
            "\u001b[0;32m/usr/local/lib/python3.10/dist-packages/torch/_tensor.py\u001b[0m in \u001b[0;36m__repr__\u001b[0;34m(self, tensor_contents)\u001b[0m\n\u001b[1;32m    424\u001b[0m             )\n\u001b[1;32m    425\u001b[0m         \u001b[0;31m# All strings are unicode in Python 3.\u001b[0m\u001b[0;34m\u001b[0m\u001b[0;34m\u001b[0m\u001b[0m\n\u001b[0;32m--> 426\u001b[0;31m         \u001b[0;32mreturn\u001b[0m \u001b[0mtorch\u001b[0m\u001b[0;34m.\u001b[0m\u001b[0m_tensor_str\u001b[0m\u001b[0;34m.\u001b[0m\u001b[0m_str\u001b[0m\u001b[0;34m(\u001b[0m\u001b[0mself\u001b[0m\u001b[0;34m,\u001b[0m \u001b[0mtensor_contents\u001b[0m\u001b[0;34m=\u001b[0m\u001b[0mtensor_contents\u001b[0m\u001b[0;34m)\u001b[0m\u001b[0;34m\u001b[0m\u001b[0;34m\u001b[0m\u001b[0m\n\u001b[0m\u001b[1;32m    427\u001b[0m \u001b[0;34m\u001b[0m\u001b[0m\n\u001b[1;32m    428\u001b[0m     def backward(\n",
            "\u001b[0;32m/usr/local/lib/python3.10/dist-packages/torch/_tensor_str.py\u001b[0m in \u001b[0;36m_str\u001b[0;34m(self, tensor_contents)\u001b[0m\n\u001b[1;32m    634\u001b[0m     \u001b[0;32mwith\u001b[0m \u001b[0mtorch\u001b[0m\u001b[0;34m.\u001b[0m\u001b[0mno_grad\u001b[0m\u001b[0;34m(\u001b[0m\u001b[0;34m)\u001b[0m\u001b[0;34m,\u001b[0m \u001b[0mtorch\u001b[0m\u001b[0;34m.\u001b[0m\u001b[0mutils\u001b[0m\u001b[0;34m.\u001b[0m\u001b[0m_python_dispatch\u001b[0m\u001b[0;34m.\u001b[0m\u001b[0m_disable_current_modes\u001b[0m\u001b[0;34m(\u001b[0m\u001b[0;34m)\u001b[0m\u001b[0;34m:\u001b[0m\u001b[0;34m\u001b[0m\u001b[0;34m\u001b[0m\u001b[0m\n\u001b[1;32m    635\u001b[0m         \u001b[0mguard\u001b[0m \u001b[0;34m=\u001b[0m \u001b[0mtorch\u001b[0m\u001b[0;34m.\u001b[0m\u001b[0m_C\u001b[0m\u001b[0;34m.\u001b[0m\u001b[0m_DisableFuncTorch\u001b[0m\u001b[0;34m(\u001b[0m\u001b[0;34m)\u001b[0m\u001b[0;34m\u001b[0m\u001b[0;34m\u001b[0m\u001b[0m\n\u001b[0;32m--> 636\u001b[0;31m         \u001b[0;32mreturn\u001b[0m \u001b[0m_str_intern\u001b[0m\u001b[0;34m(\u001b[0m\u001b[0mself\u001b[0m\u001b[0;34m,\u001b[0m \u001b[0mtensor_contents\u001b[0m\u001b[0;34m=\u001b[0m\u001b[0mtensor_contents\u001b[0m\u001b[0;34m)\u001b[0m\u001b[0;34m\u001b[0m\u001b[0;34m\u001b[0m\u001b[0m\n\u001b[0m",
            "\u001b[0;32m/usr/local/lib/python3.10/dist-packages/torch/_tensor_str.py\u001b[0m in \u001b[0;36m_str_intern\u001b[0;34m(inp, tensor_contents)\u001b[0m\n\u001b[1;32m    565\u001b[0m                         \u001b[0mtensor_str\u001b[0m \u001b[0;34m=\u001b[0m \u001b[0m_tensor_str\u001b[0m\u001b[0;34m(\u001b[0m\u001b[0mself\u001b[0m\u001b[0;34m.\u001b[0m\u001b[0mto_dense\u001b[0m\u001b[0;34m(\u001b[0m\u001b[0;34m)\u001b[0m\u001b[0;34m,\u001b[0m \u001b[0mindent\u001b[0m\u001b[0;34m)\u001b[0m\u001b[0;34m\u001b[0m\u001b[0;34m\u001b[0m\u001b[0m\n\u001b[1;32m    566\u001b[0m                     \u001b[0;32melse\u001b[0m\u001b[0;34m:\u001b[0m\u001b[0;34m\u001b[0m\u001b[0;34m\u001b[0m\u001b[0m\n\u001b[0;32m--> 567\u001b[0;31m                         \u001b[0mtensor_str\u001b[0m \u001b[0;34m=\u001b[0m \u001b[0m_tensor_str\u001b[0m\u001b[0;34m(\u001b[0m\u001b[0mself\u001b[0m\u001b[0;34m,\u001b[0m \u001b[0mindent\u001b[0m\u001b[0;34m)\u001b[0m\u001b[0;34m\u001b[0m\u001b[0;34m\u001b[0m\u001b[0m\n\u001b[0m\u001b[1;32m    568\u001b[0m \u001b[0;34m\u001b[0m\u001b[0m\n\u001b[1;32m    569\u001b[0m     \u001b[0;32mif\u001b[0m \u001b[0mself\u001b[0m\u001b[0;34m.\u001b[0m\u001b[0mlayout\u001b[0m \u001b[0;34m!=\u001b[0m \u001b[0mtorch\u001b[0m\u001b[0;34m.\u001b[0m\u001b[0mstrided\u001b[0m\u001b[0;34m:\u001b[0m\u001b[0;34m\u001b[0m\u001b[0;34m\u001b[0m\u001b[0m\n",
            "\u001b[0;32m/usr/local/lib/python3.10/dist-packages/torch/_tensor_str.py\u001b[0m in \u001b[0;36m_tensor_str\u001b[0;34m(self, indent)\u001b[0m\n\u001b[1;32m    326\u001b[0m     \u001b[0;32melse\u001b[0m\u001b[0;34m:\u001b[0m\u001b[0;34m\u001b[0m\u001b[0;34m\u001b[0m\u001b[0m\n\u001b[1;32m    327\u001b[0m         \u001b[0mformatter\u001b[0m \u001b[0;34m=\u001b[0m \u001b[0m_Formatter\u001b[0m\u001b[0;34m(\u001b[0m\u001b[0mget_summarized_data\u001b[0m\u001b[0;34m(\u001b[0m\u001b[0mself\u001b[0m\u001b[0;34m)\u001b[0m \u001b[0;32mif\u001b[0m \u001b[0msummarize\u001b[0m \u001b[0;32melse\u001b[0m \u001b[0mself\u001b[0m\u001b[0;34m)\u001b[0m\u001b[0;34m\u001b[0m\u001b[0;34m\u001b[0m\u001b[0m\n\u001b[0;32m--> 328\u001b[0;31m         \u001b[0;32mreturn\u001b[0m \u001b[0m_tensor_str_with_formatter\u001b[0m\u001b[0;34m(\u001b[0m\u001b[0mself\u001b[0m\u001b[0;34m,\u001b[0m \u001b[0mindent\u001b[0m\u001b[0;34m,\u001b[0m \u001b[0msummarize\u001b[0m\u001b[0;34m,\u001b[0m \u001b[0mformatter\u001b[0m\u001b[0;34m)\u001b[0m\u001b[0;34m\u001b[0m\u001b[0;34m\u001b[0m\u001b[0m\n\u001b[0m\u001b[1;32m    329\u001b[0m \u001b[0;34m\u001b[0m\u001b[0m\n\u001b[1;32m    330\u001b[0m \u001b[0;34m\u001b[0m\u001b[0m\n",
            "\u001b[0;32m/usr/local/lib/python3.10/dist-packages/torch/_tensor_str.py\u001b[0m in \u001b[0;36m_tensor_str_with_formatter\u001b[0;34m(self, indent, summarize, formatter1, formatter2)\u001b[0m\n\u001b[1;32m    266\u001b[0m             ]\n\u001b[1;32m    267\u001b[0m             \u001b[0;34m+\u001b[0m \u001b[0;34m[\u001b[0m\u001b[0;34m\"...\"\u001b[0m\u001b[0;34m]\u001b[0m\u001b[0;34m\u001b[0m\u001b[0;34m\u001b[0m\u001b[0m\n\u001b[0;32m--> 268\u001b[0;31m             + [\n\u001b[0m\u001b[1;32m    269\u001b[0m                 _tensor_str_with_formatter(\n\u001b[1;32m    270\u001b[0m                     \u001b[0mself\u001b[0m\u001b[0;34m[\u001b[0m\u001b[0mi\u001b[0m\u001b[0;34m]\u001b[0m\u001b[0;34m,\u001b[0m \u001b[0mindent\u001b[0m \u001b[0;34m+\u001b[0m \u001b[0;36m1\u001b[0m\u001b[0;34m,\u001b[0m \u001b[0msummarize\u001b[0m\u001b[0;34m,\u001b[0m \u001b[0mformatter1\u001b[0m\u001b[0;34m,\u001b[0m \u001b[0mformatter2\u001b[0m\u001b[0;34m\u001b[0m\u001b[0;34m\u001b[0m\u001b[0m\n",
            "\u001b[0;32m/usr/local/lib/python3.10/dist-packages/torch/_tensor_str.py\u001b[0m in \u001b[0;36m<listcomp>\u001b[0;34m(.0)\u001b[0m\n\u001b[1;32m    267\u001b[0m             \u001b[0;34m+\u001b[0m \u001b[0;34m[\u001b[0m\u001b[0;34m\"...\"\u001b[0m\u001b[0;34m]\u001b[0m\u001b[0;34m\u001b[0m\u001b[0;34m\u001b[0m\u001b[0m\n\u001b[1;32m    268\u001b[0m             + [\n\u001b[0;32m--> 269\u001b[0;31m                 _tensor_str_with_formatter(\n\u001b[0m\u001b[1;32m    270\u001b[0m                     \u001b[0mself\u001b[0m\u001b[0;34m[\u001b[0m\u001b[0mi\u001b[0m\u001b[0;34m]\u001b[0m\u001b[0;34m,\u001b[0m \u001b[0mindent\u001b[0m \u001b[0;34m+\u001b[0m \u001b[0;36m1\u001b[0m\u001b[0;34m,\u001b[0m \u001b[0msummarize\u001b[0m\u001b[0;34m,\u001b[0m \u001b[0mformatter1\u001b[0m\u001b[0;34m,\u001b[0m \u001b[0mformatter2\u001b[0m\u001b[0;34m\u001b[0m\u001b[0;34m\u001b[0m\u001b[0m\n\u001b[1;32m    271\u001b[0m                 )\n",
            "\u001b[0;32m/usr/local/lib/python3.10/dist-packages/torch/_tensor_str.py\u001b[0m in \u001b[0;36m_tensor_str_with_formatter\u001b[0;34m(self, indent, summarize, formatter1, formatter2)\u001b[0m\n\u001b[1;32m    266\u001b[0m             ]\n\u001b[1;32m    267\u001b[0m             \u001b[0;34m+\u001b[0m \u001b[0;34m[\u001b[0m\u001b[0;34m\"...\"\u001b[0m\u001b[0;34m]\u001b[0m\u001b[0;34m\u001b[0m\u001b[0;34m\u001b[0m\u001b[0m\n\u001b[0;32m--> 268\u001b[0;31m             + [\n\u001b[0m\u001b[1;32m    269\u001b[0m                 _tensor_str_with_formatter(\n\u001b[1;32m    270\u001b[0m                     \u001b[0mself\u001b[0m\u001b[0;34m[\u001b[0m\u001b[0mi\u001b[0m\u001b[0;34m]\u001b[0m\u001b[0;34m,\u001b[0m \u001b[0mindent\u001b[0m \u001b[0;34m+\u001b[0m \u001b[0;36m1\u001b[0m\u001b[0;34m,\u001b[0m \u001b[0msummarize\u001b[0m\u001b[0;34m,\u001b[0m \u001b[0mformatter1\u001b[0m\u001b[0;34m,\u001b[0m \u001b[0mformatter2\u001b[0m\u001b[0;34m\u001b[0m\u001b[0;34m\u001b[0m\u001b[0m\n",
            "\u001b[0;32m/usr/local/lib/python3.10/dist-packages/torch/_tensor_str.py\u001b[0m in \u001b[0;36m<listcomp>\u001b[0;34m(.0)\u001b[0m\n\u001b[1;32m    267\u001b[0m             \u001b[0;34m+\u001b[0m \u001b[0;34m[\u001b[0m\u001b[0;34m\"...\"\u001b[0m\u001b[0;34m]\u001b[0m\u001b[0;34m\u001b[0m\u001b[0;34m\u001b[0m\u001b[0m\n\u001b[1;32m    268\u001b[0m             + [\n\u001b[0;32m--> 269\u001b[0;31m                 _tensor_str_with_formatter(\n\u001b[0m\u001b[1;32m    270\u001b[0m                     \u001b[0mself\u001b[0m\u001b[0;34m[\u001b[0m\u001b[0mi\u001b[0m\u001b[0;34m]\u001b[0m\u001b[0;34m,\u001b[0m \u001b[0mindent\u001b[0m \u001b[0;34m+\u001b[0m \u001b[0;36m1\u001b[0m\u001b[0;34m,\u001b[0m \u001b[0msummarize\u001b[0m\u001b[0;34m,\u001b[0m \u001b[0mformatter1\u001b[0m\u001b[0;34m,\u001b[0m \u001b[0mformatter2\u001b[0m\u001b[0;34m\u001b[0m\u001b[0;34m\u001b[0m\u001b[0m\n\u001b[1;32m    271\u001b[0m                 )\n",
            "\u001b[0;32m/usr/local/lib/python3.10/dist-packages/torch/_tensor_str.py\u001b[0m in \u001b[0;36m_tensor_str_with_formatter\u001b[0;34m(self, indent, summarize, formatter1, formatter2)\u001b[0m\n\u001b[1;32m    274\u001b[0m         )\n\u001b[1;32m    275\u001b[0m     \u001b[0;32melse\u001b[0m\u001b[0;34m:\u001b[0m\u001b[0;34m\u001b[0m\u001b[0;34m\u001b[0m\u001b[0m\n\u001b[0;32m--> 276\u001b[0;31m         slices = [\n\u001b[0m\u001b[1;32m    277\u001b[0m             _tensor_str_with_formatter(\n\u001b[1;32m    278\u001b[0m                 \u001b[0mself\u001b[0m\u001b[0;34m[\u001b[0m\u001b[0mi\u001b[0m\u001b[0;34m]\u001b[0m\u001b[0;34m,\u001b[0m \u001b[0mindent\u001b[0m \u001b[0;34m+\u001b[0m \u001b[0;36m1\u001b[0m\u001b[0;34m,\u001b[0m \u001b[0msummarize\u001b[0m\u001b[0;34m,\u001b[0m \u001b[0mformatter1\u001b[0m\u001b[0;34m,\u001b[0m \u001b[0mformatter2\u001b[0m\u001b[0;34m\u001b[0m\u001b[0;34m\u001b[0m\u001b[0m\n",
            "\u001b[0;32m/usr/local/lib/python3.10/dist-packages/torch/_tensor_str.py\u001b[0m in \u001b[0;36m<listcomp>\u001b[0;34m(.0)\u001b[0m\n\u001b[1;32m    275\u001b[0m     \u001b[0;32melse\u001b[0m\u001b[0;34m:\u001b[0m\u001b[0;34m\u001b[0m\u001b[0;34m\u001b[0m\u001b[0m\n\u001b[1;32m    276\u001b[0m         slices = [\n\u001b[0;32m--> 277\u001b[0;31m             _tensor_str_with_formatter(\n\u001b[0m\u001b[1;32m    278\u001b[0m                 \u001b[0mself\u001b[0m\u001b[0;34m[\u001b[0m\u001b[0mi\u001b[0m\u001b[0;34m]\u001b[0m\u001b[0;34m,\u001b[0m \u001b[0mindent\u001b[0m \u001b[0;34m+\u001b[0m \u001b[0;36m1\u001b[0m\u001b[0;34m,\u001b[0m \u001b[0msummarize\u001b[0m\u001b[0;34m,\u001b[0m \u001b[0mformatter1\u001b[0m\u001b[0;34m,\u001b[0m \u001b[0mformatter2\u001b[0m\u001b[0;34m\u001b[0m\u001b[0;34m\u001b[0m\u001b[0m\n\u001b[1;32m    279\u001b[0m             )\n",
            "\u001b[0;32m/usr/local/lib/python3.10/dist-packages/torch/_tensor_str.py\u001b[0m in \u001b[0;36m_tensor_str_with_formatter\u001b[0;34m(self, indent, summarize, formatter1, formatter2)\u001b[0m\n\u001b[1;32m    259\u001b[0m     \u001b[0;32mif\u001b[0m \u001b[0msummarize\u001b[0m \u001b[0;32mand\u001b[0m \u001b[0mself\u001b[0m\u001b[0;34m.\u001b[0m\u001b[0msize\u001b[0m\u001b[0;34m(\u001b[0m\u001b[0;36m0\u001b[0m\u001b[0;34m)\u001b[0m \u001b[0;34m>\u001b[0m \u001b[0;36m2\u001b[0m \u001b[0;34m*\u001b[0m \u001b[0mPRINT_OPTS\u001b[0m\u001b[0;34m.\u001b[0m\u001b[0medgeitems\u001b[0m\u001b[0;34m:\u001b[0m\u001b[0;34m\u001b[0m\u001b[0;34m\u001b[0m\u001b[0m\n\u001b[1;32m    260\u001b[0m         slices = (\n\u001b[0;32m--> 261\u001b[0;31m             [\n\u001b[0m\u001b[1;32m    262\u001b[0m                 _tensor_str_with_formatter(\n\u001b[1;32m    263\u001b[0m                     \u001b[0mself\u001b[0m\u001b[0;34m[\u001b[0m\u001b[0mi\u001b[0m\u001b[0;34m]\u001b[0m\u001b[0;34m,\u001b[0m \u001b[0mindent\u001b[0m \u001b[0;34m+\u001b[0m \u001b[0;36m1\u001b[0m\u001b[0;34m,\u001b[0m \u001b[0msummarize\u001b[0m\u001b[0;34m,\u001b[0m \u001b[0mformatter1\u001b[0m\u001b[0;34m,\u001b[0m \u001b[0mformatter2\u001b[0m\u001b[0;34m\u001b[0m\u001b[0;34m\u001b[0m\u001b[0m\n",
            "\u001b[0;32m/usr/local/lib/python3.10/dist-packages/torch/_tensor_str.py\u001b[0m in \u001b[0;36m<listcomp>\u001b[0;34m(.0)\u001b[0m\n\u001b[1;32m    260\u001b[0m         slices = (\n\u001b[1;32m    261\u001b[0m             [\n\u001b[0;32m--> 262\u001b[0;31m                 _tensor_str_with_formatter(\n\u001b[0m\u001b[1;32m    263\u001b[0m                     \u001b[0mself\u001b[0m\u001b[0;34m[\u001b[0m\u001b[0mi\u001b[0m\u001b[0;34m]\u001b[0m\u001b[0;34m,\u001b[0m \u001b[0mindent\u001b[0m \u001b[0;34m+\u001b[0m \u001b[0;36m1\u001b[0m\u001b[0;34m,\u001b[0m \u001b[0msummarize\u001b[0m\u001b[0;34m,\u001b[0m \u001b[0mformatter1\u001b[0m\u001b[0;34m,\u001b[0m \u001b[0mformatter2\u001b[0m\u001b[0;34m\u001b[0m\u001b[0;34m\u001b[0m\u001b[0m\n\u001b[1;32m    264\u001b[0m                 )\n",
            "\u001b[0;32m/usr/local/lib/python3.10/dist-packages/torch/_tensor_str.py\u001b[0m in \u001b[0;36m_tensor_str_with_formatter\u001b[0;34m(self, indent, summarize, formatter1, formatter2)\u001b[0m\n\u001b[1;32m    255\u001b[0m \u001b[0;34m\u001b[0m\u001b[0m\n\u001b[1;32m    256\u001b[0m     \u001b[0;32mif\u001b[0m \u001b[0mdim\u001b[0m \u001b[0;34m==\u001b[0m \u001b[0;36m1\u001b[0m\u001b[0;34m:\u001b[0m\u001b[0;34m\u001b[0m\u001b[0;34m\u001b[0m\u001b[0m\n\u001b[0;32m--> 257\u001b[0;31m         \u001b[0;32mreturn\u001b[0m \u001b[0m_vector_str\u001b[0m\u001b[0;34m(\u001b[0m\u001b[0mself\u001b[0m\u001b[0;34m,\u001b[0m \u001b[0mindent\u001b[0m\u001b[0;34m,\u001b[0m \u001b[0msummarize\u001b[0m\u001b[0;34m,\u001b[0m \u001b[0mformatter1\u001b[0m\u001b[0;34m,\u001b[0m \u001b[0mformatter2\u001b[0m\u001b[0;34m)\u001b[0m\u001b[0;34m\u001b[0m\u001b[0;34m\u001b[0m\u001b[0m\n\u001b[0m\u001b[1;32m    258\u001b[0m \u001b[0;34m\u001b[0m\u001b[0m\n\u001b[1;32m    259\u001b[0m     \u001b[0;32mif\u001b[0m \u001b[0msummarize\u001b[0m \u001b[0;32mand\u001b[0m \u001b[0mself\u001b[0m\u001b[0;34m.\u001b[0m\u001b[0msize\u001b[0m\u001b[0;34m(\u001b[0m\u001b[0;36m0\u001b[0m\u001b[0;34m)\u001b[0m \u001b[0;34m>\u001b[0m \u001b[0;36m2\u001b[0m \u001b[0;34m*\u001b[0m \u001b[0mPRINT_OPTS\u001b[0m\u001b[0;34m.\u001b[0m\u001b[0medgeitems\u001b[0m\u001b[0;34m:\u001b[0m\u001b[0;34m\u001b[0m\u001b[0;34m\u001b[0m\u001b[0m\n",
            "\u001b[0;32m/usr/local/lib/python3.10/dist-packages/torch/_tensor_str.py\u001b[0m in \u001b[0;36m_vector_str\u001b[0;34m(self, indent, summarize, formatter1, formatter2)\u001b[0m\n\u001b[1;32m    233\u001b[0m             \u001b[0;34m[\u001b[0m\u001b[0m_val_formatter\u001b[0m\u001b[0;34m(\u001b[0m\u001b[0mval\u001b[0m\u001b[0;34m)\u001b[0m \u001b[0;32mfor\u001b[0m \u001b[0mval\u001b[0m \u001b[0;32min\u001b[0m \u001b[0mself\u001b[0m\u001b[0;34m[\u001b[0m\u001b[0;34m:\u001b[0m \u001b[0mPRINT_OPTS\u001b[0m\u001b[0;34m.\u001b[0m\u001b[0medgeitems\u001b[0m\u001b[0;34m]\u001b[0m\u001b[0;34m.\u001b[0m\u001b[0mtolist\u001b[0m\u001b[0;34m(\u001b[0m\u001b[0;34m)\u001b[0m\u001b[0;34m]\u001b[0m\u001b[0;34m\u001b[0m\u001b[0;34m\u001b[0m\u001b[0m\n\u001b[1;32m    234\u001b[0m             \u001b[0;34m+\u001b[0m \u001b[0;34m[\u001b[0m\u001b[0;34m\" ...\"\u001b[0m\u001b[0;34m]\u001b[0m\u001b[0;34m\u001b[0m\u001b[0;34m\u001b[0m\u001b[0m\n\u001b[0;32m--> 235\u001b[0;31m             \u001b[0;34m+\u001b[0m \u001b[0;34m[\u001b[0m\u001b[0m_val_formatter\u001b[0m\u001b[0;34m(\u001b[0m\u001b[0mval\u001b[0m\u001b[0;34m)\u001b[0m \u001b[0;32mfor\u001b[0m \u001b[0mval\u001b[0m \u001b[0;32min\u001b[0m \u001b[0mself\u001b[0m\u001b[0;34m[\u001b[0m\u001b[0;34m-\u001b[0m\u001b[0mPRINT_OPTS\u001b[0m\u001b[0;34m.\u001b[0m\u001b[0medgeitems\u001b[0m \u001b[0;34m:\u001b[0m\u001b[0;34m]\u001b[0m\u001b[0;34m.\u001b[0m\u001b[0mtolist\u001b[0m\u001b[0;34m(\u001b[0m\u001b[0;34m)\u001b[0m\u001b[0;34m]\u001b[0m\u001b[0;34m\u001b[0m\u001b[0;34m\u001b[0m\u001b[0m\n\u001b[0m\u001b[1;32m    236\u001b[0m         )\n\u001b[1;32m    237\u001b[0m     \u001b[0;32melse\u001b[0m\u001b[0;34m:\u001b[0m\u001b[0;34m\u001b[0m\u001b[0;34m\u001b[0m\u001b[0m\n",
            "\u001b[0;31mKeyboardInterrupt\u001b[0m: "
          ]
        }
      ]
    },
    {
      "cell_type": "code",
      "source": [
        "len(all_scores)"
      ],
      "metadata": {
        "colab": {
          "base_uri": "https://localhost:8080/"
        },
        "id": "ZKpoxW48wcMn",
        "outputId": "34584a81-0647-40a9-c160-d2e4b348e542"
      },
      "execution_count": 32,
      "outputs": [
        {
          "output_type": "execute_result",
          "data": {
            "text/plain": [
              "3470"
            ]
          },
          "metadata": {},
          "execution_count": 32
        }
      ]
    },
    {
      "cell_type": "markdown",
      "source": [
        "Run time: 3470 found, so around 700 more to go. Est will take 2.5 hrs total."
      ],
      "metadata": {
        "id": "jHmEwLxTxWTq"
      }
    },
    {
      "cell_type": "code",
      "source": [
        "# Sort scores and print top 10\n",
        "sorted_scores = sorted(all_scores, key=lambda x: x[1], reverse=True)\n",
        "for i, (combo, score) in enumerate(sorted_scores[:10]):\n",
        "    print(f\"{i + 1}. Combo: {combo} - Score: {score}\")"
      ],
      "metadata": {
        "colab": {
          "base_uri": "https://localhost:8080/"
        },
        "id": "9wv7TSK2QZhD",
        "outputId": "182ce543-46db-445b-ea63-70d221a436b9"
      },
      "execution_count": 33,
      "outputs": [
        {
          "output_type": "stream",
          "name": "stdout",
          "text": [
            "1. Combo: [(0, 2), (0, 3), (0, 4), (0, 5), (0, 7), (0, 8), (0, 9)] - Score: 2.6552085876464844\n",
            "2. Combo: [(0, 2), (0, 3), (0, 5), (0, 7), (0, 8), (0, 9), (0, 11)] - Score: 2.641260862350464\n",
            "3. Combo: [(0, 2), (0, 3), (0, 5), (0, 7), (0, 8), (0, 9)] - Score: 2.626978635787964\n",
            "4. Combo: [(0, 1), (0, 2), (0, 3), (0, 5), (0, 7), (0, 8), (0, 9)] - Score: 2.626978635787964\n",
            "5. Combo: [(0, 2), (0, 3), (0, 5), (0, 7), (0, 8), (0, 9), (0, 10)] - Score: 2.626978635787964\n",
            "6. Combo: [(0, 2), (0, 3), (0, 5), (0, 6), (0, 7), (0, 8), (0, 9)] - Score: 2.624587297439575\n",
            "7. Combo: [(0, 0), (0, 2), (0, 3), (0, 5), (0, 7), (0, 8), (0, 9)] - Score: 2.6186442375183105\n",
            "8. Combo: [(0, 0), (0, 1), (0, 2), (0, 3), (0, 5), (0, 7), (0, 8), (0, 9)] - Score: 2.6186442375183105\n",
            "9. Combo: [(0, 2), (0, 4), (0, 5), (0, 7), (0, 8), (0, 9), (0, 11)] - Score: 2.6116158962249756\n",
            "10. Combo: [(0, 2), (0, 4), (0, 5), (0, 7), (0, 8), (0, 9)] - Score: 2.597621202468872\n"
          ]
        }
      ]
    },
    {
      "cell_type": "code",
      "source": [
        "import json\n",
        "\n",
        "with open(\"scores.json\", \"w\") as file:\n",
        "    json.dump(all_scores, file, default=lambda x: str(x))  # Convert tuples to strings for JSON serialization"
      ],
      "metadata": {
        "id": "AhNKFB38w6ap"
      },
      "execution_count": 34,
      "outputs": []
    },
    {
      "cell_type": "code",
      "source": [
        "from google.colab import files\n",
        "files.download(\"scores.json\")  # or \"scores.pkl\" or \"scores.json\" depending on the file you saved"
      ],
      "metadata": {
        "colab": {
          "base_uri": "https://localhost:8080/",
          "height": 17
        },
        "id": "kmTyY79hw8Gz",
        "outputId": "05660600-734a-4c6b-8e67-35c87924f360"
      },
      "execution_count": 35,
      "outputs": [
        {
          "output_type": "display_data",
          "data": {
            "text/plain": [
              "<IPython.core.display.Javascript object>"
            ],
            "application/javascript": [
              "\n",
              "    async function download(id, filename, size) {\n",
              "      if (!google.colab.kernel.accessAllowed) {\n",
              "        return;\n",
              "      }\n",
              "      const div = document.createElement('div');\n",
              "      const label = document.createElement('label');\n",
              "      label.textContent = `Downloading \"${filename}\": `;\n",
              "      div.appendChild(label);\n",
              "      const progress = document.createElement('progress');\n",
              "      progress.max = size;\n",
              "      div.appendChild(progress);\n",
              "      document.body.appendChild(div);\n",
              "\n",
              "      const buffers = [];\n",
              "      let downloaded = 0;\n",
              "\n",
              "      const channel = await google.colab.kernel.comms.open(id);\n",
              "      // Send a message to notify the kernel that we're ready.\n",
              "      channel.send({})\n",
              "\n",
              "      for await (const message of channel.messages) {\n",
              "        // Send a message to notify the kernel that we're ready.\n",
              "        channel.send({})\n",
              "        if (message.buffers) {\n",
              "          for (const buffer of message.buffers) {\n",
              "            buffers.push(buffer);\n",
              "            downloaded += buffer.byteLength;\n",
              "            progress.value = downloaded;\n",
              "          }\n",
              "        }\n",
              "      }\n",
              "      const blob = new Blob(buffers, {type: 'application/binary'});\n",
              "      const a = document.createElement('a');\n",
              "      a.href = window.URL.createObjectURL(blob);\n",
              "      a.download = filename;\n",
              "      div.appendChild(a);\n",
              "      a.click();\n",
              "      div.remove();\n",
              "    }\n",
              "  "
            ]
          },
          "metadata": {}
        },
        {
          "output_type": "display_data",
          "data": {
            "text/plain": [
              "<IPython.core.display.Javascript object>"
            ],
            "application/javascript": [
              "download(\"download_a1759866-40fb-4fc4-8faa-c2655fe45fdb\", \"scores.json\", 291962)"
            ]
          },
          "metadata": {}
        }
      ]
    },
    {
      "cell_type": "markdown",
      "source": [
        "From the top, rank each by their length and find the top within each length sub-group."
      ],
      "metadata": {
        "id": "1eQPsAxTxg0a"
      }
    }
  ]
}