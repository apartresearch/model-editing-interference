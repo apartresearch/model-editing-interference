{
  "nbformat": 4,
  "nbformat_minor": 0,
  "metadata": {
    "colab": {
      "provenance": [],
      "machine_shape": "hm",
      "gpuType": "T4",
      "collapsed_sections": [
        "DcZG9rm2IAiA",
        "OLkInsdjyHMx",
        "Z4iJEGh6b56v"
      ]
    },
    "kernelspec": {
      "name": "python3",
      "display_name": "Python 3"
    },
    "language_info": {
      "name": "python"
    },
    "accelerator": "GPU",
    "widgets": {
      "application/vnd.jupyter.widget-state+json": {
        "6f4f45add5ab4865a7a5c1f5e0b2e2b5": {
          "model_module": "@jupyter-widgets/controls",
          "model_name": "HBoxModel",
          "model_module_version": "1.5.0",
          "state": {
            "_dom_classes": [],
            "_model_module": "@jupyter-widgets/controls",
            "_model_module_version": "1.5.0",
            "_model_name": "HBoxModel",
            "_view_count": null,
            "_view_module": "@jupyter-widgets/controls",
            "_view_module_version": "1.5.0",
            "_view_name": "HBoxView",
            "box_style": "",
            "children": [
              "IPY_MODEL_163db5476cd444a8a39f040da9f45ffe",
              "IPY_MODEL_ed0978816edf4c38a02339c2ed7e9259",
              "IPY_MODEL_adb959efa8424cebbb9ce125ad90ee10"
            ],
            "layout": "IPY_MODEL_55dd5ca98c7540cc8c8970b0dbf43728"
          }
        },
        "163db5476cd444a8a39f040da9f45ffe": {
          "model_module": "@jupyter-widgets/controls",
          "model_name": "HTMLModel",
          "model_module_version": "1.5.0",
          "state": {
            "_dom_classes": [],
            "_model_module": "@jupyter-widgets/controls",
            "_model_module_version": "1.5.0",
            "_model_name": "HTMLModel",
            "_view_count": null,
            "_view_module": "@jupyter-widgets/controls",
            "_view_module_version": "1.5.0",
            "_view_name": "HTMLView",
            "description": "",
            "description_tooltip": null,
            "layout": "IPY_MODEL_0533b819887c43fda6c9c83fe9482a68",
            "placeholder": "​",
            "style": "IPY_MODEL_4536d64d2dc147818ee5b17843f5d34c",
            "value": "Downloading (…)lve/main/config.json: 100%"
          }
        },
        "ed0978816edf4c38a02339c2ed7e9259": {
          "model_module": "@jupyter-widgets/controls",
          "model_name": "FloatProgressModel",
          "model_module_version": "1.5.0",
          "state": {
            "_dom_classes": [],
            "_model_module": "@jupyter-widgets/controls",
            "_model_module_version": "1.5.0",
            "_model_name": "FloatProgressModel",
            "_view_count": null,
            "_view_module": "@jupyter-widgets/controls",
            "_view_module_version": "1.5.0",
            "_view_name": "ProgressView",
            "bar_style": "success",
            "description": "",
            "description_tooltip": null,
            "layout": "IPY_MODEL_18c38b47cba54e28b2c37a32db31d504",
            "max": 665,
            "min": 0,
            "orientation": "horizontal",
            "style": "IPY_MODEL_1f7560d87d0a4d67a4e0ebe10454ce1b",
            "value": 665
          }
        },
        "adb959efa8424cebbb9ce125ad90ee10": {
          "model_module": "@jupyter-widgets/controls",
          "model_name": "HTMLModel",
          "model_module_version": "1.5.0",
          "state": {
            "_dom_classes": [],
            "_model_module": "@jupyter-widgets/controls",
            "_model_module_version": "1.5.0",
            "_model_name": "HTMLModel",
            "_view_count": null,
            "_view_module": "@jupyter-widgets/controls",
            "_view_module_version": "1.5.0",
            "_view_name": "HTMLView",
            "description": "",
            "description_tooltip": null,
            "layout": "IPY_MODEL_54f1d71cabaf4edf9b6f902bbe831a90",
            "placeholder": "​",
            "style": "IPY_MODEL_b5634328df0b45cf83c20750e5d31362",
            "value": " 665/665 [00:00&lt;00:00, 54.3kB/s]"
          }
        },
        "55dd5ca98c7540cc8c8970b0dbf43728": {
          "model_module": "@jupyter-widgets/base",
          "model_name": "LayoutModel",
          "model_module_version": "1.2.0",
          "state": {
            "_model_module": "@jupyter-widgets/base",
            "_model_module_version": "1.2.0",
            "_model_name": "LayoutModel",
            "_view_count": null,
            "_view_module": "@jupyter-widgets/base",
            "_view_module_version": "1.2.0",
            "_view_name": "LayoutView",
            "align_content": null,
            "align_items": null,
            "align_self": null,
            "border": null,
            "bottom": null,
            "display": null,
            "flex": null,
            "flex_flow": null,
            "grid_area": null,
            "grid_auto_columns": null,
            "grid_auto_flow": null,
            "grid_auto_rows": null,
            "grid_column": null,
            "grid_gap": null,
            "grid_row": null,
            "grid_template_areas": null,
            "grid_template_columns": null,
            "grid_template_rows": null,
            "height": null,
            "justify_content": null,
            "justify_items": null,
            "left": null,
            "margin": null,
            "max_height": null,
            "max_width": null,
            "min_height": null,
            "min_width": null,
            "object_fit": null,
            "object_position": null,
            "order": null,
            "overflow": null,
            "overflow_x": null,
            "overflow_y": null,
            "padding": null,
            "right": null,
            "top": null,
            "visibility": null,
            "width": null
          }
        },
        "0533b819887c43fda6c9c83fe9482a68": {
          "model_module": "@jupyter-widgets/base",
          "model_name": "LayoutModel",
          "model_module_version": "1.2.0",
          "state": {
            "_model_module": "@jupyter-widgets/base",
            "_model_module_version": "1.2.0",
            "_model_name": "LayoutModel",
            "_view_count": null,
            "_view_module": "@jupyter-widgets/base",
            "_view_module_version": "1.2.0",
            "_view_name": "LayoutView",
            "align_content": null,
            "align_items": null,
            "align_self": null,
            "border": null,
            "bottom": null,
            "display": null,
            "flex": null,
            "flex_flow": null,
            "grid_area": null,
            "grid_auto_columns": null,
            "grid_auto_flow": null,
            "grid_auto_rows": null,
            "grid_column": null,
            "grid_gap": null,
            "grid_row": null,
            "grid_template_areas": null,
            "grid_template_columns": null,
            "grid_template_rows": null,
            "height": null,
            "justify_content": null,
            "justify_items": null,
            "left": null,
            "margin": null,
            "max_height": null,
            "max_width": null,
            "min_height": null,
            "min_width": null,
            "object_fit": null,
            "object_position": null,
            "order": null,
            "overflow": null,
            "overflow_x": null,
            "overflow_y": null,
            "padding": null,
            "right": null,
            "top": null,
            "visibility": null,
            "width": null
          }
        },
        "4536d64d2dc147818ee5b17843f5d34c": {
          "model_module": "@jupyter-widgets/controls",
          "model_name": "DescriptionStyleModel",
          "model_module_version": "1.5.0",
          "state": {
            "_model_module": "@jupyter-widgets/controls",
            "_model_module_version": "1.5.0",
            "_model_name": "DescriptionStyleModel",
            "_view_count": null,
            "_view_module": "@jupyter-widgets/base",
            "_view_module_version": "1.2.0",
            "_view_name": "StyleView",
            "description_width": ""
          }
        },
        "18c38b47cba54e28b2c37a32db31d504": {
          "model_module": "@jupyter-widgets/base",
          "model_name": "LayoutModel",
          "model_module_version": "1.2.0",
          "state": {
            "_model_module": "@jupyter-widgets/base",
            "_model_module_version": "1.2.0",
            "_model_name": "LayoutModel",
            "_view_count": null,
            "_view_module": "@jupyter-widgets/base",
            "_view_module_version": "1.2.0",
            "_view_name": "LayoutView",
            "align_content": null,
            "align_items": null,
            "align_self": null,
            "border": null,
            "bottom": null,
            "display": null,
            "flex": null,
            "flex_flow": null,
            "grid_area": null,
            "grid_auto_columns": null,
            "grid_auto_flow": null,
            "grid_auto_rows": null,
            "grid_column": null,
            "grid_gap": null,
            "grid_row": null,
            "grid_template_areas": null,
            "grid_template_columns": null,
            "grid_template_rows": null,
            "height": null,
            "justify_content": null,
            "justify_items": null,
            "left": null,
            "margin": null,
            "max_height": null,
            "max_width": null,
            "min_height": null,
            "min_width": null,
            "object_fit": null,
            "object_position": null,
            "order": null,
            "overflow": null,
            "overflow_x": null,
            "overflow_y": null,
            "padding": null,
            "right": null,
            "top": null,
            "visibility": null,
            "width": null
          }
        },
        "1f7560d87d0a4d67a4e0ebe10454ce1b": {
          "model_module": "@jupyter-widgets/controls",
          "model_name": "ProgressStyleModel",
          "model_module_version": "1.5.0",
          "state": {
            "_model_module": "@jupyter-widgets/controls",
            "_model_module_version": "1.5.0",
            "_model_name": "ProgressStyleModel",
            "_view_count": null,
            "_view_module": "@jupyter-widgets/base",
            "_view_module_version": "1.2.0",
            "_view_name": "StyleView",
            "bar_color": null,
            "description_width": ""
          }
        },
        "54f1d71cabaf4edf9b6f902bbe831a90": {
          "model_module": "@jupyter-widgets/base",
          "model_name": "LayoutModel",
          "model_module_version": "1.2.0",
          "state": {
            "_model_module": "@jupyter-widgets/base",
            "_model_module_version": "1.2.0",
            "_model_name": "LayoutModel",
            "_view_count": null,
            "_view_module": "@jupyter-widgets/base",
            "_view_module_version": "1.2.0",
            "_view_name": "LayoutView",
            "align_content": null,
            "align_items": null,
            "align_self": null,
            "border": null,
            "bottom": null,
            "display": null,
            "flex": null,
            "flex_flow": null,
            "grid_area": null,
            "grid_auto_columns": null,
            "grid_auto_flow": null,
            "grid_auto_rows": null,
            "grid_column": null,
            "grid_gap": null,
            "grid_row": null,
            "grid_template_areas": null,
            "grid_template_columns": null,
            "grid_template_rows": null,
            "height": null,
            "justify_content": null,
            "justify_items": null,
            "left": null,
            "margin": null,
            "max_height": null,
            "max_width": null,
            "min_height": null,
            "min_width": null,
            "object_fit": null,
            "object_position": null,
            "order": null,
            "overflow": null,
            "overflow_x": null,
            "overflow_y": null,
            "padding": null,
            "right": null,
            "top": null,
            "visibility": null,
            "width": null
          }
        },
        "b5634328df0b45cf83c20750e5d31362": {
          "model_module": "@jupyter-widgets/controls",
          "model_name": "DescriptionStyleModel",
          "model_module_version": "1.5.0",
          "state": {
            "_model_module": "@jupyter-widgets/controls",
            "_model_module_version": "1.5.0",
            "_model_name": "DescriptionStyleModel",
            "_view_count": null,
            "_view_module": "@jupyter-widgets/base",
            "_view_module_version": "1.2.0",
            "_view_name": "StyleView",
            "description_width": ""
          }
        },
        "ce79118843064620b342aa459d96e1a9": {
          "model_module": "@jupyter-widgets/controls",
          "model_name": "HBoxModel",
          "model_module_version": "1.5.0",
          "state": {
            "_dom_classes": [],
            "_model_module": "@jupyter-widgets/controls",
            "_model_module_version": "1.5.0",
            "_model_name": "HBoxModel",
            "_view_count": null,
            "_view_module": "@jupyter-widgets/controls",
            "_view_module_version": "1.5.0",
            "_view_name": "HBoxView",
            "box_style": "",
            "children": [
              "IPY_MODEL_eefc32200848401abd3b61af3d10bfb2",
              "IPY_MODEL_50eb3adec7b34a509be9d4ff700ee8ae",
              "IPY_MODEL_df30fb6817a84c47a99e374e1d0519ac"
            ],
            "layout": "IPY_MODEL_b497bbbfcec54ace8457dcff528e0131"
          }
        },
        "eefc32200848401abd3b61af3d10bfb2": {
          "model_module": "@jupyter-widgets/controls",
          "model_name": "HTMLModel",
          "model_module_version": "1.5.0",
          "state": {
            "_dom_classes": [],
            "_model_module": "@jupyter-widgets/controls",
            "_model_module_version": "1.5.0",
            "_model_name": "HTMLModel",
            "_view_count": null,
            "_view_module": "@jupyter-widgets/controls",
            "_view_module_version": "1.5.0",
            "_view_name": "HTMLView",
            "description": "",
            "description_tooltip": null,
            "layout": "IPY_MODEL_f91529c288664f81a9931de23f8c362f",
            "placeholder": "​",
            "style": "IPY_MODEL_f261b00b68374d99ad152a777533ded1",
            "value": "Downloading model.safetensors: 100%"
          }
        },
        "50eb3adec7b34a509be9d4ff700ee8ae": {
          "model_module": "@jupyter-widgets/controls",
          "model_name": "FloatProgressModel",
          "model_module_version": "1.5.0",
          "state": {
            "_dom_classes": [],
            "_model_module": "@jupyter-widgets/controls",
            "_model_module_version": "1.5.0",
            "_model_name": "FloatProgressModel",
            "_view_count": null,
            "_view_module": "@jupyter-widgets/controls",
            "_view_module_version": "1.5.0",
            "_view_name": "ProgressView",
            "bar_style": "success",
            "description": "",
            "description_tooltip": null,
            "layout": "IPY_MODEL_c2150476e60b4d2fa83d22f413d1d119",
            "max": 548105171,
            "min": 0,
            "orientation": "horizontal",
            "style": "IPY_MODEL_3d947bc26aed453cb9f2c3263585c724",
            "value": 548105171
          }
        },
        "df30fb6817a84c47a99e374e1d0519ac": {
          "model_module": "@jupyter-widgets/controls",
          "model_name": "HTMLModel",
          "model_module_version": "1.5.0",
          "state": {
            "_dom_classes": [],
            "_model_module": "@jupyter-widgets/controls",
            "_model_module_version": "1.5.0",
            "_model_name": "HTMLModel",
            "_view_count": null,
            "_view_module": "@jupyter-widgets/controls",
            "_view_module_version": "1.5.0",
            "_view_name": "HTMLView",
            "description": "",
            "description_tooltip": null,
            "layout": "IPY_MODEL_ab003edf796041c1aca754560d8ef2ca",
            "placeholder": "​",
            "style": "IPY_MODEL_726c6d6ae6a14dd59a4c7312d34a300c",
            "value": " 548M/548M [00:01&lt;00:00, 502MB/s]"
          }
        },
        "b497bbbfcec54ace8457dcff528e0131": {
          "model_module": "@jupyter-widgets/base",
          "model_name": "LayoutModel",
          "model_module_version": "1.2.0",
          "state": {
            "_model_module": "@jupyter-widgets/base",
            "_model_module_version": "1.2.0",
            "_model_name": "LayoutModel",
            "_view_count": null,
            "_view_module": "@jupyter-widgets/base",
            "_view_module_version": "1.2.0",
            "_view_name": "LayoutView",
            "align_content": null,
            "align_items": null,
            "align_self": null,
            "border": null,
            "bottom": null,
            "display": null,
            "flex": null,
            "flex_flow": null,
            "grid_area": null,
            "grid_auto_columns": null,
            "grid_auto_flow": null,
            "grid_auto_rows": null,
            "grid_column": null,
            "grid_gap": null,
            "grid_row": null,
            "grid_template_areas": null,
            "grid_template_columns": null,
            "grid_template_rows": null,
            "height": null,
            "justify_content": null,
            "justify_items": null,
            "left": null,
            "margin": null,
            "max_height": null,
            "max_width": null,
            "min_height": null,
            "min_width": null,
            "object_fit": null,
            "object_position": null,
            "order": null,
            "overflow": null,
            "overflow_x": null,
            "overflow_y": null,
            "padding": null,
            "right": null,
            "top": null,
            "visibility": null,
            "width": null
          }
        },
        "f91529c288664f81a9931de23f8c362f": {
          "model_module": "@jupyter-widgets/base",
          "model_name": "LayoutModel",
          "model_module_version": "1.2.0",
          "state": {
            "_model_module": "@jupyter-widgets/base",
            "_model_module_version": "1.2.0",
            "_model_name": "LayoutModel",
            "_view_count": null,
            "_view_module": "@jupyter-widgets/base",
            "_view_module_version": "1.2.0",
            "_view_name": "LayoutView",
            "align_content": null,
            "align_items": null,
            "align_self": null,
            "border": null,
            "bottom": null,
            "display": null,
            "flex": null,
            "flex_flow": null,
            "grid_area": null,
            "grid_auto_columns": null,
            "grid_auto_flow": null,
            "grid_auto_rows": null,
            "grid_column": null,
            "grid_gap": null,
            "grid_row": null,
            "grid_template_areas": null,
            "grid_template_columns": null,
            "grid_template_rows": null,
            "height": null,
            "justify_content": null,
            "justify_items": null,
            "left": null,
            "margin": null,
            "max_height": null,
            "max_width": null,
            "min_height": null,
            "min_width": null,
            "object_fit": null,
            "object_position": null,
            "order": null,
            "overflow": null,
            "overflow_x": null,
            "overflow_y": null,
            "padding": null,
            "right": null,
            "top": null,
            "visibility": null,
            "width": null
          }
        },
        "f261b00b68374d99ad152a777533ded1": {
          "model_module": "@jupyter-widgets/controls",
          "model_name": "DescriptionStyleModel",
          "model_module_version": "1.5.0",
          "state": {
            "_model_module": "@jupyter-widgets/controls",
            "_model_module_version": "1.5.0",
            "_model_name": "DescriptionStyleModel",
            "_view_count": null,
            "_view_module": "@jupyter-widgets/base",
            "_view_module_version": "1.2.0",
            "_view_name": "StyleView",
            "description_width": ""
          }
        },
        "c2150476e60b4d2fa83d22f413d1d119": {
          "model_module": "@jupyter-widgets/base",
          "model_name": "LayoutModel",
          "model_module_version": "1.2.0",
          "state": {
            "_model_module": "@jupyter-widgets/base",
            "_model_module_version": "1.2.0",
            "_model_name": "LayoutModel",
            "_view_count": null,
            "_view_module": "@jupyter-widgets/base",
            "_view_module_version": "1.2.0",
            "_view_name": "LayoutView",
            "align_content": null,
            "align_items": null,
            "align_self": null,
            "border": null,
            "bottom": null,
            "display": null,
            "flex": null,
            "flex_flow": null,
            "grid_area": null,
            "grid_auto_columns": null,
            "grid_auto_flow": null,
            "grid_auto_rows": null,
            "grid_column": null,
            "grid_gap": null,
            "grid_row": null,
            "grid_template_areas": null,
            "grid_template_columns": null,
            "grid_template_rows": null,
            "height": null,
            "justify_content": null,
            "justify_items": null,
            "left": null,
            "margin": null,
            "max_height": null,
            "max_width": null,
            "min_height": null,
            "min_width": null,
            "object_fit": null,
            "object_position": null,
            "order": null,
            "overflow": null,
            "overflow_x": null,
            "overflow_y": null,
            "padding": null,
            "right": null,
            "top": null,
            "visibility": null,
            "width": null
          }
        },
        "3d947bc26aed453cb9f2c3263585c724": {
          "model_module": "@jupyter-widgets/controls",
          "model_name": "ProgressStyleModel",
          "model_module_version": "1.5.0",
          "state": {
            "_model_module": "@jupyter-widgets/controls",
            "_model_module_version": "1.5.0",
            "_model_name": "ProgressStyleModel",
            "_view_count": null,
            "_view_module": "@jupyter-widgets/base",
            "_view_module_version": "1.2.0",
            "_view_name": "StyleView",
            "bar_color": null,
            "description_width": ""
          }
        },
        "ab003edf796041c1aca754560d8ef2ca": {
          "model_module": "@jupyter-widgets/base",
          "model_name": "LayoutModel",
          "model_module_version": "1.2.0",
          "state": {
            "_model_module": "@jupyter-widgets/base",
            "_model_module_version": "1.2.0",
            "_model_name": "LayoutModel",
            "_view_count": null,
            "_view_module": "@jupyter-widgets/base",
            "_view_module_version": "1.2.0",
            "_view_name": "LayoutView",
            "align_content": null,
            "align_items": null,
            "align_self": null,
            "border": null,
            "bottom": null,
            "display": null,
            "flex": null,
            "flex_flow": null,
            "grid_area": null,
            "grid_auto_columns": null,
            "grid_auto_flow": null,
            "grid_auto_rows": null,
            "grid_column": null,
            "grid_gap": null,
            "grid_row": null,
            "grid_template_areas": null,
            "grid_template_columns": null,
            "grid_template_rows": null,
            "height": null,
            "justify_content": null,
            "justify_items": null,
            "left": null,
            "margin": null,
            "max_height": null,
            "max_width": null,
            "min_height": null,
            "min_width": null,
            "object_fit": null,
            "object_position": null,
            "order": null,
            "overflow": null,
            "overflow_x": null,
            "overflow_y": null,
            "padding": null,
            "right": null,
            "top": null,
            "visibility": null,
            "width": null
          }
        },
        "726c6d6ae6a14dd59a4c7312d34a300c": {
          "model_module": "@jupyter-widgets/controls",
          "model_name": "DescriptionStyleModel",
          "model_module_version": "1.5.0",
          "state": {
            "_model_module": "@jupyter-widgets/controls",
            "_model_module_version": "1.5.0",
            "_model_name": "DescriptionStyleModel",
            "_view_count": null,
            "_view_module": "@jupyter-widgets/base",
            "_view_module_version": "1.2.0",
            "_view_name": "StyleView",
            "description_width": ""
          }
        },
        "d472c715158f4b8fa23e96e33b3f917d": {
          "model_module": "@jupyter-widgets/controls",
          "model_name": "HBoxModel",
          "model_module_version": "1.5.0",
          "state": {
            "_dom_classes": [],
            "_model_module": "@jupyter-widgets/controls",
            "_model_module_version": "1.5.0",
            "_model_name": "HBoxModel",
            "_view_count": null,
            "_view_module": "@jupyter-widgets/controls",
            "_view_module_version": "1.5.0",
            "_view_name": "HBoxView",
            "box_style": "",
            "children": [
              "IPY_MODEL_961eae3921a841c0a660b11ed7acfc00",
              "IPY_MODEL_e859fec72ef140e0961c8ba573906b2c",
              "IPY_MODEL_e5fba84e94544739b894d5e31daf11f5"
            ],
            "layout": "IPY_MODEL_a24d0747b151482fa4def82800cdcd32"
          }
        },
        "961eae3921a841c0a660b11ed7acfc00": {
          "model_module": "@jupyter-widgets/controls",
          "model_name": "HTMLModel",
          "model_module_version": "1.5.0",
          "state": {
            "_dom_classes": [],
            "_model_module": "@jupyter-widgets/controls",
            "_model_module_version": "1.5.0",
            "_model_name": "HTMLModel",
            "_view_count": null,
            "_view_module": "@jupyter-widgets/controls",
            "_view_module_version": "1.5.0",
            "_view_name": "HTMLView",
            "description": "",
            "description_tooltip": null,
            "layout": "IPY_MODEL_b9296498c2694e39ab3a1eac75b63a12",
            "placeholder": "​",
            "style": "IPY_MODEL_2a981d4922384533b1c4a456d3183691",
            "value": "Downloading (…)neration_config.json: 100%"
          }
        },
        "e859fec72ef140e0961c8ba573906b2c": {
          "model_module": "@jupyter-widgets/controls",
          "model_name": "FloatProgressModel",
          "model_module_version": "1.5.0",
          "state": {
            "_dom_classes": [],
            "_model_module": "@jupyter-widgets/controls",
            "_model_module_version": "1.5.0",
            "_model_name": "FloatProgressModel",
            "_view_count": null,
            "_view_module": "@jupyter-widgets/controls",
            "_view_module_version": "1.5.0",
            "_view_name": "ProgressView",
            "bar_style": "success",
            "description": "",
            "description_tooltip": null,
            "layout": "IPY_MODEL_4e3c332020224363b4bafbc6cb51748b",
            "max": 124,
            "min": 0,
            "orientation": "horizontal",
            "style": "IPY_MODEL_5e11af9ad74043c3b436d98bfcc977b1",
            "value": 124
          }
        },
        "e5fba84e94544739b894d5e31daf11f5": {
          "model_module": "@jupyter-widgets/controls",
          "model_name": "HTMLModel",
          "model_module_version": "1.5.0",
          "state": {
            "_dom_classes": [],
            "_model_module": "@jupyter-widgets/controls",
            "_model_module_version": "1.5.0",
            "_model_name": "HTMLModel",
            "_view_count": null,
            "_view_module": "@jupyter-widgets/controls",
            "_view_module_version": "1.5.0",
            "_view_name": "HTMLView",
            "description": "",
            "description_tooltip": null,
            "layout": "IPY_MODEL_f8f6f9f7b3724b2e8871a0170873bb9c",
            "placeholder": "​",
            "style": "IPY_MODEL_6d4147192b4a4202a9fc1a4fdb398498",
            "value": " 124/124 [00:00&lt;00:00, 11.6kB/s]"
          }
        },
        "a24d0747b151482fa4def82800cdcd32": {
          "model_module": "@jupyter-widgets/base",
          "model_name": "LayoutModel",
          "model_module_version": "1.2.0",
          "state": {
            "_model_module": "@jupyter-widgets/base",
            "_model_module_version": "1.2.0",
            "_model_name": "LayoutModel",
            "_view_count": null,
            "_view_module": "@jupyter-widgets/base",
            "_view_module_version": "1.2.0",
            "_view_name": "LayoutView",
            "align_content": null,
            "align_items": null,
            "align_self": null,
            "border": null,
            "bottom": null,
            "display": null,
            "flex": null,
            "flex_flow": null,
            "grid_area": null,
            "grid_auto_columns": null,
            "grid_auto_flow": null,
            "grid_auto_rows": null,
            "grid_column": null,
            "grid_gap": null,
            "grid_row": null,
            "grid_template_areas": null,
            "grid_template_columns": null,
            "grid_template_rows": null,
            "height": null,
            "justify_content": null,
            "justify_items": null,
            "left": null,
            "margin": null,
            "max_height": null,
            "max_width": null,
            "min_height": null,
            "min_width": null,
            "object_fit": null,
            "object_position": null,
            "order": null,
            "overflow": null,
            "overflow_x": null,
            "overflow_y": null,
            "padding": null,
            "right": null,
            "top": null,
            "visibility": null,
            "width": null
          }
        },
        "b9296498c2694e39ab3a1eac75b63a12": {
          "model_module": "@jupyter-widgets/base",
          "model_name": "LayoutModel",
          "model_module_version": "1.2.0",
          "state": {
            "_model_module": "@jupyter-widgets/base",
            "_model_module_version": "1.2.0",
            "_model_name": "LayoutModel",
            "_view_count": null,
            "_view_module": "@jupyter-widgets/base",
            "_view_module_version": "1.2.0",
            "_view_name": "LayoutView",
            "align_content": null,
            "align_items": null,
            "align_self": null,
            "border": null,
            "bottom": null,
            "display": null,
            "flex": null,
            "flex_flow": null,
            "grid_area": null,
            "grid_auto_columns": null,
            "grid_auto_flow": null,
            "grid_auto_rows": null,
            "grid_column": null,
            "grid_gap": null,
            "grid_row": null,
            "grid_template_areas": null,
            "grid_template_columns": null,
            "grid_template_rows": null,
            "height": null,
            "justify_content": null,
            "justify_items": null,
            "left": null,
            "margin": null,
            "max_height": null,
            "max_width": null,
            "min_height": null,
            "min_width": null,
            "object_fit": null,
            "object_position": null,
            "order": null,
            "overflow": null,
            "overflow_x": null,
            "overflow_y": null,
            "padding": null,
            "right": null,
            "top": null,
            "visibility": null,
            "width": null
          }
        },
        "2a981d4922384533b1c4a456d3183691": {
          "model_module": "@jupyter-widgets/controls",
          "model_name": "DescriptionStyleModel",
          "model_module_version": "1.5.0",
          "state": {
            "_model_module": "@jupyter-widgets/controls",
            "_model_module_version": "1.5.0",
            "_model_name": "DescriptionStyleModel",
            "_view_count": null,
            "_view_module": "@jupyter-widgets/base",
            "_view_module_version": "1.2.0",
            "_view_name": "StyleView",
            "description_width": ""
          }
        },
        "4e3c332020224363b4bafbc6cb51748b": {
          "model_module": "@jupyter-widgets/base",
          "model_name": "LayoutModel",
          "model_module_version": "1.2.0",
          "state": {
            "_model_module": "@jupyter-widgets/base",
            "_model_module_version": "1.2.0",
            "_model_name": "LayoutModel",
            "_view_count": null,
            "_view_module": "@jupyter-widgets/base",
            "_view_module_version": "1.2.0",
            "_view_name": "LayoutView",
            "align_content": null,
            "align_items": null,
            "align_self": null,
            "border": null,
            "bottom": null,
            "display": null,
            "flex": null,
            "flex_flow": null,
            "grid_area": null,
            "grid_auto_columns": null,
            "grid_auto_flow": null,
            "grid_auto_rows": null,
            "grid_column": null,
            "grid_gap": null,
            "grid_row": null,
            "grid_template_areas": null,
            "grid_template_columns": null,
            "grid_template_rows": null,
            "height": null,
            "justify_content": null,
            "justify_items": null,
            "left": null,
            "margin": null,
            "max_height": null,
            "max_width": null,
            "min_height": null,
            "min_width": null,
            "object_fit": null,
            "object_position": null,
            "order": null,
            "overflow": null,
            "overflow_x": null,
            "overflow_y": null,
            "padding": null,
            "right": null,
            "top": null,
            "visibility": null,
            "width": null
          }
        },
        "5e11af9ad74043c3b436d98bfcc977b1": {
          "model_module": "@jupyter-widgets/controls",
          "model_name": "ProgressStyleModel",
          "model_module_version": "1.5.0",
          "state": {
            "_model_module": "@jupyter-widgets/controls",
            "_model_module_version": "1.5.0",
            "_model_name": "ProgressStyleModel",
            "_view_count": null,
            "_view_module": "@jupyter-widgets/base",
            "_view_module_version": "1.2.0",
            "_view_name": "StyleView",
            "bar_color": null,
            "description_width": ""
          }
        },
        "f8f6f9f7b3724b2e8871a0170873bb9c": {
          "model_module": "@jupyter-widgets/base",
          "model_name": "LayoutModel",
          "model_module_version": "1.2.0",
          "state": {
            "_model_module": "@jupyter-widgets/base",
            "_model_module_version": "1.2.0",
            "_model_name": "LayoutModel",
            "_view_count": null,
            "_view_module": "@jupyter-widgets/base",
            "_view_module_version": "1.2.0",
            "_view_name": "LayoutView",
            "align_content": null,
            "align_items": null,
            "align_self": null,
            "border": null,
            "bottom": null,
            "display": null,
            "flex": null,
            "flex_flow": null,
            "grid_area": null,
            "grid_auto_columns": null,
            "grid_auto_flow": null,
            "grid_auto_rows": null,
            "grid_column": null,
            "grid_gap": null,
            "grid_row": null,
            "grid_template_areas": null,
            "grid_template_columns": null,
            "grid_template_rows": null,
            "height": null,
            "justify_content": null,
            "justify_items": null,
            "left": null,
            "margin": null,
            "max_height": null,
            "max_width": null,
            "min_height": null,
            "min_width": null,
            "object_fit": null,
            "object_position": null,
            "order": null,
            "overflow": null,
            "overflow_x": null,
            "overflow_y": null,
            "padding": null,
            "right": null,
            "top": null,
            "visibility": null,
            "width": null
          }
        },
        "6d4147192b4a4202a9fc1a4fdb398498": {
          "model_module": "@jupyter-widgets/controls",
          "model_name": "DescriptionStyleModel",
          "model_module_version": "1.5.0",
          "state": {
            "_model_module": "@jupyter-widgets/controls",
            "_model_module_version": "1.5.0",
            "_model_name": "DescriptionStyleModel",
            "_view_count": null,
            "_view_module": "@jupyter-widgets/base",
            "_view_module_version": "1.2.0",
            "_view_name": "StyleView",
            "description_width": ""
          }
        },
        "aeca120818bd49d58fe7a8a464b8c3a1": {
          "model_module": "@jupyter-widgets/controls",
          "model_name": "HBoxModel",
          "model_module_version": "1.5.0",
          "state": {
            "_dom_classes": [],
            "_model_module": "@jupyter-widgets/controls",
            "_model_module_version": "1.5.0",
            "_model_name": "HBoxModel",
            "_view_count": null,
            "_view_module": "@jupyter-widgets/controls",
            "_view_module_version": "1.5.0",
            "_view_name": "HBoxView",
            "box_style": "",
            "children": [
              "IPY_MODEL_cea7ef3de4cc4eb1a56e46f880dc40b2",
              "IPY_MODEL_98dcd35a9aa74d018257932f88a7b54e",
              "IPY_MODEL_afd712f1c36f4a53b147fdf7642107ca"
            ],
            "layout": "IPY_MODEL_c6a08806321944318c49816fcb08b43b"
          }
        },
        "cea7ef3de4cc4eb1a56e46f880dc40b2": {
          "model_module": "@jupyter-widgets/controls",
          "model_name": "HTMLModel",
          "model_module_version": "1.5.0",
          "state": {
            "_dom_classes": [],
            "_model_module": "@jupyter-widgets/controls",
            "_model_module_version": "1.5.0",
            "_model_name": "HTMLModel",
            "_view_count": null,
            "_view_module": "@jupyter-widgets/controls",
            "_view_module_version": "1.5.0",
            "_view_name": "HTMLView",
            "description": "",
            "description_tooltip": null,
            "layout": "IPY_MODEL_92742903360c432eb1ac90252d6d1ec9",
            "placeholder": "​",
            "style": "IPY_MODEL_5ce321c6797144e8876830e3d6afe982",
            "value": "Downloading (…)olve/main/vocab.json: 100%"
          }
        },
        "98dcd35a9aa74d018257932f88a7b54e": {
          "model_module": "@jupyter-widgets/controls",
          "model_name": "FloatProgressModel",
          "model_module_version": "1.5.0",
          "state": {
            "_dom_classes": [],
            "_model_module": "@jupyter-widgets/controls",
            "_model_module_version": "1.5.0",
            "_model_name": "FloatProgressModel",
            "_view_count": null,
            "_view_module": "@jupyter-widgets/controls",
            "_view_module_version": "1.5.0",
            "_view_name": "ProgressView",
            "bar_style": "success",
            "description": "",
            "description_tooltip": null,
            "layout": "IPY_MODEL_8b78ea22fc6d4e91a7ebc08a72023224",
            "max": 1042301,
            "min": 0,
            "orientation": "horizontal",
            "style": "IPY_MODEL_b6550b33322c4d0a8a1b34887d586324",
            "value": 1042301
          }
        },
        "afd712f1c36f4a53b147fdf7642107ca": {
          "model_module": "@jupyter-widgets/controls",
          "model_name": "HTMLModel",
          "model_module_version": "1.5.0",
          "state": {
            "_dom_classes": [],
            "_model_module": "@jupyter-widgets/controls",
            "_model_module_version": "1.5.0",
            "_model_name": "HTMLModel",
            "_view_count": null,
            "_view_module": "@jupyter-widgets/controls",
            "_view_module_version": "1.5.0",
            "_view_name": "HTMLView",
            "description": "",
            "description_tooltip": null,
            "layout": "IPY_MODEL_6fcfefabb01b4bfd954c75c244ffa3c6",
            "placeholder": "​",
            "style": "IPY_MODEL_7bb61262197f49c1b6b0a6cb694d534e",
            "value": " 1.04M/1.04M [00:00&lt;00:00, 4.22MB/s]"
          }
        },
        "c6a08806321944318c49816fcb08b43b": {
          "model_module": "@jupyter-widgets/base",
          "model_name": "LayoutModel",
          "model_module_version": "1.2.0",
          "state": {
            "_model_module": "@jupyter-widgets/base",
            "_model_module_version": "1.2.0",
            "_model_name": "LayoutModel",
            "_view_count": null,
            "_view_module": "@jupyter-widgets/base",
            "_view_module_version": "1.2.0",
            "_view_name": "LayoutView",
            "align_content": null,
            "align_items": null,
            "align_self": null,
            "border": null,
            "bottom": null,
            "display": null,
            "flex": null,
            "flex_flow": null,
            "grid_area": null,
            "grid_auto_columns": null,
            "grid_auto_flow": null,
            "grid_auto_rows": null,
            "grid_column": null,
            "grid_gap": null,
            "grid_row": null,
            "grid_template_areas": null,
            "grid_template_columns": null,
            "grid_template_rows": null,
            "height": null,
            "justify_content": null,
            "justify_items": null,
            "left": null,
            "margin": null,
            "max_height": null,
            "max_width": null,
            "min_height": null,
            "min_width": null,
            "object_fit": null,
            "object_position": null,
            "order": null,
            "overflow": null,
            "overflow_x": null,
            "overflow_y": null,
            "padding": null,
            "right": null,
            "top": null,
            "visibility": null,
            "width": null
          }
        },
        "92742903360c432eb1ac90252d6d1ec9": {
          "model_module": "@jupyter-widgets/base",
          "model_name": "LayoutModel",
          "model_module_version": "1.2.0",
          "state": {
            "_model_module": "@jupyter-widgets/base",
            "_model_module_version": "1.2.0",
            "_model_name": "LayoutModel",
            "_view_count": null,
            "_view_module": "@jupyter-widgets/base",
            "_view_module_version": "1.2.0",
            "_view_name": "LayoutView",
            "align_content": null,
            "align_items": null,
            "align_self": null,
            "border": null,
            "bottom": null,
            "display": null,
            "flex": null,
            "flex_flow": null,
            "grid_area": null,
            "grid_auto_columns": null,
            "grid_auto_flow": null,
            "grid_auto_rows": null,
            "grid_column": null,
            "grid_gap": null,
            "grid_row": null,
            "grid_template_areas": null,
            "grid_template_columns": null,
            "grid_template_rows": null,
            "height": null,
            "justify_content": null,
            "justify_items": null,
            "left": null,
            "margin": null,
            "max_height": null,
            "max_width": null,
            "min_height": null,
            "min_width": null,
            "object_fit": null,
            "object_position": null,
            "order": null,
            "overflow": null,
            "overflow_x": null,
            "overflow_y": null,
            "padding": null,
            "right": null,
            "top": null,
            "visibility": null,
            "width": null
          }
        },
        "5ce321c6797144e8876830e3d6afe982": {
          "model_module": "@jupyter-widgets/controls",
          "model_name": "DescriptionStyleModel",
          "model_module_version": "1.5.0",
          "state": {
            "_model_module": "@jupyter-widgets/controls",
            "_model_module_version": "1.5.0",
            "_model_name": "DescriptionStyleModel",
            "_view_count": null,
            "_view_module": "@jupyter-widgets/base",
            "_view_module_version": "1.2.0",
            "_view_name": "StyleView",
            "description_width": ""
          }
        },
        "8b78ea22fc6d4e91a7ebc08a72023224": {
          "model_module": "@jupyter-widgets/base",
          "model_name": "LayoutModel",
          "model_module_version": "1.2.0",
          "state": {
            "_model_module": "@jupyter-widgets/base",
            "_model_module_version": "1.2.0",
            "_model_name": "LayoutModel",
            "_view_count": null,
            "_view_module": "@jupyter-widgets/base",
            "_view_module_version": "1.2.0",
            "_view_name": "LayoutView",
            "align_content": null,
            "align_items": null,
            "align_self": null,
            "border": null,
            "bottom": null,
            "display": null,
            "flex": null,
            "flex_flow": null,
            "grid_area": null,
            "grid_auto_columns": null,
            "grid_auto_flow": null,
            "grid_auto_rows": null,
            "grid_column": null,
            "grid_gap": null,
            "grid_row": null,
            "grid_template_areas": null,
            "grid_template_columns": null,
            "grid_template_rows": null,
            "height": null,
            "justify_content": null,
            "justify_items": null,
            "left": null,
            "margin": null,
            "max_height": null,
            "max_width": null,
            "min_height": null,
            "min_width": null,
            "object_fit": null,
            "object_position": null,
            "order": null,
            "overflow": null,
            "overflow_x": null,
            "overflow_y": null,
            "padding": null,
            "right": null,
            "top": null,
            "visibility": null,
            "width": null
          }
        },
        "b6550b33322c4d0a8a1b34887d586324": {
          "model_module": "@jupyter-widgets/controls",
          "model_name": "ProgressStyleModel",
          "model_module_version": "1.5.0",
          "state": {
            "_model_module": "@jupyter-widgets/controls",
            "_model_module_version": "1.5.0",
            "_model_name": "ProgressStyleModel",
            "_view_count": null,
            "_view_module": "@jupyter-widgets/base",
            "_view_module_version": "1.2.0",
            "_view_name": "StyleView",
            "bar_color": null,
            "description_width": ""
          }
        },
        "6fcfefabb01b4bfd954c75c244ffa3c6": {
          "model_module": "@jupyter-widgets/base",
          "model_name": "LayoutModel",
          "model_module_version": "1.2.0",
          "state": {
            "_model_module": "@jupyter-widgets/base",
            "_model_module_version": "1.2.0",
            "_model_name": "LayoutModel",
            "_view_count": null,
            "_view_module": "@jupyter-widgets/base",
            "_view_module_version": "1.2.0",
            "_view_name": "LayoutView",
            "align_content": null,
            "align_items": null,
            "align_self": null,
            "border": null,
            "bottom": null,
            "display": null,
            "flex": null,
            "flex_flow": null,
            "grid_area": null,
            "grid_auto_columns": null,
            "grid_auto_flow": null,
            "grid_auto_rows": null,
            "grid_column": null,
            "grid_gap": null,
            "grid_row": null,
            "grid_template_areas": null,
            "grid_template_columns": null,
            "grid_template_rows": null,
            "height": null,
            "justify_content": null,
            "justify_items": null,
            "left": null,
            "margin": null,
            "max_height": null,
            "max_width": null,
            "min_height": null,
            "min_width": null,
            "object_fit": null,
            "object_position": null,
            "order": null,
            "overflow": null,
            "overflow_x": null,
            "overflow_y": null,
            "padding": null,
            "right": null,
            "top": null,
            "visibility": null,
            "width": null
          }
        },
        "7bb61262197f49c1b6b0a6cb694d534e": {
          "model_module": "@jupyter-widgets/controls",
          "model_name": "DescriptionStyleModel",
          "model_module_version": "1.5.0",
          "state": {
            "_model_module": "@jupyter-widgets/controls",
            "_model_module_version": "1.5.0",
            "_model_name": "DescriptionStyleModel",
            "_view_count": null,
            "_view_module": "@jupyter-widgets/base",
            "_view_module_version": "1.2.0",
            "_view_name": "StyleView",
            "description_width": ""
          }
        },
        "bf23f7b7a117408cb3a986cdb024013d": {
          "model_module": "@jupyter-widgets/controls",
          "model_name": "HBoxModel",
          "model_module_version": "1.5.0",
          "state": {
            "_dom_classes": [],
            "_model_module": "@jupyter-widgets/controls",
            "_model_module_version": "1.5.0",
            "_model_name": "HBoxModel",
            "_view_count": null,
            "_view_module": "@jupyter-widgets/controls",
            "_view_module_version": "1.5.0",
            "_view_name": "HBoxView",
            "box_style": "",
            "children": [
              "IPY_MODEL_9a26d9de62d5477b93d8adbb4bb6603e",
              "IPY_MODEL_2b2728c09d7c4c76b7ad4d4afe1fe9da",
              "IPY_MODEL_0f9fdcf6265a45a98261c4c26ca101c7"
            ],
            "layout": "IPY_MODEL_bd4691e6f91b4400b21d30330cf5a7ad"
          }
        },
        "9a26d9de62d5477b93d8adbb4bb6603e": {
          "model_module": "@jupyter-widgets/controls",
          "model_name": "HTMLModel",
          "model_module_version": "1.5.0",
          "state": {
            "_dom_classes": [],
            "_model_module": "@jupyter-widgets/controls",
            "_model_module_version": "1.5.0",
            "_model_name": "HTMLModel",
            "_view_count": null,
            "_view_module": "@jupyter-widgets/controls",
            "_view_module_version": "1.5.0",
            "_view_name": "HTMLView",
            "description": "",
            "description_tooltip": null,
            "layout": "IPY_MODEL_19ea92a825944c498b28160226c2a2c1",
            "placeholder": "​",
            "style": "IPY_MODEL_a563b442b9844efb81dea3af33312962",
            "value": "Downloading (…)olve/main/merges.txt: 100%"
          }
        },
        "2b2728c09d7c4c76b7ad4d4afe1fe9da": {
          "model_module": "@jupyter-widgets/controls",
          "model_name": "FloatProgressModel",
          "model_module_version": "1.5.0",
          "state": {
            "_dom_classes": [],
            "_model_module": "@jupyter-widgets/controls",
            "_model_module_version": "1.5.0",
            "_model_name": "FloatProgressModel",
            "_view_count": null,
            "_view_module": "@jupyter-widgets/controls",
            "_view_module_version": "1.5.0",
            "_view_name": "ProgressView",
            "bar_style": "success",
            "description": "",
            "description_tooltip": null,
            "layout": "IPY_MODEL_cee35dd749a04f38a558ba5bd7909995",
            "max": 456318,
            "min": 0,
            "orientation": "horizontal",
            "style": "IPY_MODEL_75236c3bd1e642daa8f97c8c826ecfc6",
            "value": 456318
          }
        },
        "0f9fdcf6265a45a98261c4c26ca101c7": {
          "model_module": "@jupyter-widgets/controls",
          "model_name": "HTMLModel",
          "model_module_version": "1.5.0",
          "state": {
            "_dom_classes": [],
            "_model_module": "@jupyter-widgets/controls",
            "_model_module_version": "1.5.0",
            "_model_name": "HTMLModel",
            "_view_count": null,
            "_view_module": "@jupyter-widgets/controls",
            "_view_module_version": "1.5.0",
            "_view_name": "HTMLView",
            "description": "",
            "description_tooltip": null,
            "layout": "IPY_MODEL_36c530599f644f6c9b82834e22dcd1a7",
            "placeholder": "​",
            "style": "IPY_MODEL_6a0f388caa9043a28cde884a5e6b07cb",
            "value": " 456k/456k [00:00&lt;00:00, 930kB/s]"
          }
        },
        "bd4691e6f91b4400b21d30330cf5a7ad": {
          "model_module": "@jupyter-widgets/base",
          "model_name": "LayoutModel",
          "model_module_version": "1.2.0",
          "state": {
            "_model_module": "@jupyter-widgets/base",
            "_model_module_version": "1.2.0",
            "_model_name": "LayoutModel",
            "_view_count": null,
            "_view_module": "@jupyter-widgets/base",
            "_view_module_version": "1.2.0",
            "_view_name": "LayoutView",
            "align_content": null,
            "align_items": null,
            "align_self": null,
            "border": null,
            "bottom": null,
            "display": null,
            "flex": null,
            "flex_flow": null,
            "grid_area": null,
            "grid_auto_columns": null,
            "grid_auto_flow": null,
            "grid_auto_rows": null,
            "grid_column": null,
            "grid_gap": null,
            "grid_row": null,
            "grid_template_areas": null,
            "grid_template_columns": null,
            "grid_template_rows": null,
            "height": null,
            "justify_content": null,
            "justify_items": null,
            "left": null,
            "margin": null,
            "max_height": null,
            "max_width": null,
            "min_height": null,
            "min_width": null,
            "object_fit": null,
            "object_position": null,
            "order": null,
            "overflow": null,
            "overflow_x": null,
            "overflow_y": null,
            "padding": null,
            "right": null,
            "top": null,
            "visibility": null,
            "width": null
          }
        },
        "19ea92a825944c498b28160226c2a2c1": {
          "model_module": "@jupyter-widgets/base",
          "model_name": "LayoutModel",
          "model_module_version": "1.2.0",
          "state": {
            "_model_module": "@jupyter-widgets/base",
            "_model_module_version": "1.2.0",
            "_model_name": "LayoutModel",
            "_view_count": null,
            "_view_module": "@jupyter-widgets/base",
            "_view_module_version": "1.2.0",
            "_view_name": "LayoutView",
            "align_content": null,
            "align_items": null,
            "align_self": null,
            "border": null,
            "bottom": null,
            "display": null,
            "flex": null,
            "flex_flow": null,
            "grid_area": null,
            "grid_auto_columns": null,
            "grid_auto_flow": null,
            "grid_auto_rows": null,
            "grid_column": null,
            "grid_gap": null,
            "grid_row": null,
            "grid_template_areas": null,
            "grid_template_columns": null,
            "grid_template_rows": null,
            "height": null,
            "justify_content": null,
            "justify_items": null,
            "left": null,
            "margin": null,
            "max_height": null,
            "max_width": null,
            "min_height": null,
            "min_width": null,
            "object_fit": null,
            "object_position": null,
            "order": null,
            "overflow": null,
            "overflow_x": null,
            "overflow_y": null,
            "padding": null,
            "right": null,
            "top": null,
            "visibility": null,
            "width": null
          }
        },
        "a563b442b9844efb81dea3af33312962": {
          "model_module": "@jupyter-widgets/controls",
          "model_name": "DescriptionStyleModel",
          "model_module_version": "1.5.0",
          "state": {
            "_model_module": "@jupyter-widgets/controls",
            "_model_module_version": "1.5.0",
            "_model_name": "DescriptionStyleModel",
            "_view_count": null,
            "_view_module": "@jupyter-widgets/base",
            "_view_module_version": "1.2.0",
            "_view_name": "StyleView",
            "description_width": ""
          }
        },
        "cee35dd749a04f38a558ba5bd7909995": {
          "model_module": "@jupyter-widgets/base",
          "model_name": "LayoutModel",
          "model_module_version": "1.2.0",
          "state": {
            "_model_module": "@jupyter-widgets/base",
            "_model_module_version": "1.2.0",
            "_model_name": "LayoutModel",
            "_view_count": null,
            "_view_module": "@jupyter-widgets/base",
            "_view_module_version": "1.2.0",
            "_view_name": "LayoutView",
            "align_content": null,
            "align_items": null,
            "align_self": null,
            "border": null,
            "bottom": null,
            "display": null,
            "flex": null,
            "flex_flow": null,
            "grid_area": null,
            "grid_auto_columns": null,
            "grid_auto_flow": null,
            "grid_auto_rows": null,
            "grid_column": null,
            "grid_gap": null,
            "grid_row": null,
            "grid_template_areas": null,
            "grid_template_columns": null,
            "grid_template_rows": null,
            "height": null,
            "justify_content": null,
            "justify_items": null,
            "left": null,
            "margin": null,
            "max_height": null,
            "max_width": null,
            "min_height": null,
            "min_width": null,
            "object_fit": null,
            "object_position": null,
            "order": null,
            "overflow": null,
            "overflow_x": null,
            "overflow_y": null,
            "padding": null,
            "right": null,
            "top": null,
            "visibility": null,
            "width": null
          }
        },
        "75236c3bd1e642daa8f97c8c826ecfc6": {
          "model_module": "@jupyter-widgets/controls",
          "model_name": "ProgressStyleModel",
          "model_module_version": "1.5.0",
          "state": {
            "_model_module": "@jupyter-widgets/controls",
            "_model_module_version": "1.5.0",
            "_model_name": "ProgressStyleModel",
            "_view_count": null,
            "_view_module": "@jupyter-widgets/base",
            "_view_module_version": "1.2.0",
            "_view_name": "StyleView",
            "bar_color": null,
            "description_width": ""
          }
        },
        "36c530599f644f6c9b82834e22dcd1a7": {
          "model_module": "@jupyter-widgets/base",
          "model_name": "LayoutModel",
          "model_module_version": "1.2.0",
          "state": {
            "_model_module": "@jupyter-widgets/base",
            "_model_module_version": "1.2.0",
            "_model_name": "LayoutModel",
            "_view_count": null,
            "_view_module": "@jupyter-widgets/base",
            "_view_module_version": "1.2.0",
            "_view_name": "LayoutView",
            "align_content": null,
            "align_items": null,
            "align_self": null,
            "border": null,
            "bottom": null,
            "display": null,
            "flex": null,
            "flex_flow": null,
            "grid_area": null,
            "grid_auto_columns": null,
            "grid_auto_flow": null,
            "grid_auto_rows": null,
            "grid_column": null,
            "grid_gap": null,
            "grid_row": null,
            "grid_template_areas": null,
            "grid_template_columns": null,
            "grid_template_rows": null,
            "height": null,
            "justify_content": null,
            "justify_items": null,
            "left": null,
            "margin": null,
            "max_height": null,
            "max_width": null,
            "min_height": null,
            "min_width": null,
            "object_fit": null,
            "object_position": null,
            "order": null,
            "overflow": null,
            "overflow_x": null,
            "overflow_y": null,
            "padding": null,
            "right": null,
            "top": null,
            "visibility": null,
            "width": null
          }
        },
        "6a0f388caa9043a28cde884a5e6b07cb": {
          "model_module": "@jupyter-widgets/controls",
          "model_name": "DescriptionStyleModel",
          "model_module_version": "1.5.0",
          "state": {
            "_model_module": "@jupyter-widgets/controls",
            "_model_module_version": "1.5.0",
            "_model_name": "DescriptionStyleModel",
            "_view_count": null,
            "_view_module": "@jupyter-widgets/base",
            "_view_module_version": "1.2.0",
            "_view_name": "StyleView",
            "description_width": ""
          }
        },
        "86eb74ae610e4edea46659e73a65ff63": {
          "model_module": "@jupyter-widgets/controls",
          "model_name": "HBoxModel",
          "model_module_version": "1.5.0",
          "state": {
            "_dom_classes": [],
            "_model_module": "@jupyter-widgets/controls",
            "_model_module_version": "1.5.0",
            "_model_name": "HBoxModel",
            "_view_count": null,
            "_view_module": "@jupyter-widgets/controls",
            "_view_module_version": "1.5.0",
            "_view_name": "HBoxView",
            "box_style": "",
            "children": [
              "IPY_MODEL_8ed55d8af406471a96a7fcb48a38c662",
              "IPY_MODEL_4b4e8f8f597142598a043ecfbfb2add9",
              "IPY_MODEL_988f3bc1a70a428ca12e7091539b6923"
            ],
            "layout": "IPY_MODEL_f89ffbbe2210455d875c6d4ade23492d"
          }
        },
        "8ed55d8af406471a96a7fcb48a38c662": {
          "model_module": "@jupyter-widgets/controls",
          "model_name": "HTMLModel",
          "model_module_version": "1.5.0",
          "state": {
            "_dom_classes": [],
            "_model_module": "@jupyter-widgets/controls",
            "_model_module_version": "1.5.0",
            "_model_name": "HTMLModel",
            "_view_count": null,
            "_view_module": "@jupyter-widgets/controls",
            "_view_module_version": "1.5.0",
            "_view_name": "HTMLView",
            "description": "",
            "description_tooltip": null,
            "layout": "IPY_MODEL_b52131ecda5e44a980224edfed3faffd",
            "placeholder": "​",
            "style": "IPY_MODEL_5aa912106bf547a5a969b49d5d208115",
            "value": "Downloading (…)/main/tokenizer.json: 100%"
          }
        },
        "4b4e8f8f597142598a043ecfbfb2add9": {
          "model_module": "@jupyter-widgets/controls",
          "model_name": "FloatProgressModel",
          "model_module_version": "1.5.0",
          "state": {
            "_dom_classes": [],
            "_model_module": "@jupyter-widgets/controls",
            "_model_module_version": "1.5.0",
            "_model_name": "FloatProgressModel",
            "_view_count": null,
            "_view_module": "@jupyter-widgets/controls",
            "_view_module_version": "1.5.0",
            "_view_name": "ProgressView",
            "bar_style": "success",
            "description": "",
            "description_tooltip": null,
            "layout": "IPY_MODEL_2aada9647ba54dbfafae727f29da4cbe",
            "max": 1355256,
            "min": 0,
            "orientation": "horizontal",
            "style": "IPY_MODEL_db17cada49a741a38c37e2e2c8f7ce5a",
            "value": 1355256
          }
        },
        "988f3bc1a70a428ca12e7091539b6923": {
          "model_module": "@jupyter-widgets/controls",
          "model_name": "HTMLModel",
          "model_module_version": "1.5.0",
          "state": {
            "_dom_classes": [],
            "_model_module": "@jupyter-widgets/controls",
            "_model_module_version": "1.5.0",
            "_model_name": "HTMLModel",
            "_view_count": null,
            "_view_module": "@jupyter-widgets/controls",
            "_view_module_version": "1.5.0",
            "_view_name": "HTMLView",
            "description": "",
            "description_tooltip": null,
            "layout": "IPY_MODEL_0d5769d5ab5d4373afff210aeadec396",
            "placeholder": "​",
            "style": "IPY_MODEL_3a4636b49b04496d8d87329ee76c727e",
            "value": " 1.36M/1.36M [00:00&lt;00:00, 5.40MB/s]"
          }
        },
        "f89ffbbe2210455d875c6d4ade23492d": {
          "model_module": "@jupyter-widgets/base",
          "model_name": "LayoutModel",
          "model_module_version": "1.2.0",
          "state": {
            "_model_module": "@jupyter-widgets/base",
            "_model_module_version": "1.2.0",
            "_model_name": "LayoutModel",
            "_view_count": null,
            "_view_module": "@jupyter-widgets/base",
            "_view_module_version": "1.2.0",
            "_view_name": "LayoutView",
            "align_content": null,
            "align_items": null,
            "align_self": null,
            "border": null,
            "bottom": null,
            "display": null,
            "flex": null,
            "flex_flow": null,
            "grid_area": null,
            "grid_auto_columns": null,
            "grid_auto_flow": null,
            "grid_auto_rows": null,
            "grid_column": null,
            "grid_gap": null,
            "grid_row": null,
            "grid_template_areas": null,
            "grid_template_columns": null,
            "grid_template_rows": null,
            "height": null,
            "justify_content": null,
            "justify_items": null,
            "left": null,
            "margin": null,
            "max_height": null,
            "max_width": null,
            "min_height": null,
            "min_width": null,
            "object_fit": null,
            "object_position": null,
            "order": null,
            "overflow": null,
            "overflow_x": null,
            "overflow_y": null,
            "padding": null,
            "right": null,
            "top": null,
            "visibility": null,
            "width": null
          }
        },
        "b52131ecda5e44a980224edfed3faffd": {
          "model_module": "@jupyter-widgets/base",
          "model_name": "LayoutModel",
          "model_module_version": "1.2.0",
          "state": {
            "_model_module": "@jupyter-widgets/base",
            "_model_module_version": "1.2.0",
            "_model_name": "LayoutModel",
            "_view_count": null,
            "_view_module": "@jupyter-widgets/base",
            "_view_module_version": "1.2.0",
            "_view_name": "LayoutView",
            "align_content": null,
            "align_items": null,
            "align_self": null,
            "border": null,
            "bottom": null,
            "display": null,
            "flex": null,
            "flex_flow": null,
            "grid_area": null,
            "grid_auto_columns": null,
            "grid_auto_flow": null,
            "grid_auto_rows": null,
            "grid_column": null,
            "grid_gap": null,
            "grid_row": null,
            "grid_template_areas": null,
            "grid_template_columns": null,
            "grid_template_rows": null,
            "height": null,
            "justify_content": null,
            "justify_items": null,
            "left": null,
            "margin": null,
            "max_height": null,
            "max_width": null,
            "min_height": null,
            "min_width": null,
            "object_fit": null,
            "object_position": null,
            "order": null,
            "overflow": null,
            "overflow_x": null,
            "overflow_y": null,
            "padding": null,
            "right": null,
            "top": null,
            "visibility": null,
            "width": null
          }
        },
        "5aa912106bf547a5a969b49d5d208115": {
          "model_module": "@jupyter-widgets/controls",
          "model_name": "DescriptionStyleModel",
          "model_module_version": "1.5.0",
          "state": {
            "_model_module": "@jupyter-widgets/controls",
            "_model_module_version": "1.5.0",
            "_model_name": "DescriptionStyleModel",
            "_view_count": null,
            "_view_module": "@jupyter-widgets/base",
            "_view_module_version": "1.2.0",
            "_view_name": "StyleView",
            "description_width": ""
          }
        },
        "2aada9647ba54dbfafae727f29da4cbe": {
          "model_module": "@jupyter-widgets/base",
          "model_name": "LayoutModel",
          "model_module_version": "1.2.0",
          "state": {
            "_model_module": "@jupyter-widgets/base",
            "_model_module_version": "1.2.0",
            "_model_name": "LayoutModel",
            "_view_count": null,
            "_view_module": "@jupyter-widgets/base",
            "_view_module_version": "1.2.0",
            "_view_name": "LayoutView",
            "align_content": null,
            "align_items": null,
            "align_self": null,
            "border": null,
            "bottom": null,
            "display": null,
            "flex": null,
            "flex_flow": null,
            "grid_area": null,
            "grid_auto_columns": null,
            "grid_auto_flow": null,
            "grid_auto_rows": null,
            "grid_column": null,
            "grid_gap": null,
            "grid_row": null,
            "grid_template_areas": null,
            "grid_template_columns": null,
            "grid_template_rows": null,
            "height": null,
            "justify_content": null,
            "justify_items": null,
            "left": null,
            "margin": null,
            "max_height": null,
            "max_width": null,
            "min_height": null,
            "min_width": null,
            "object_fit": null,
            "object_position": null,
            "order": null,
            "overflow": null,
            "overflow_x": null,
            "overflow_y": null,
            "padding": null,
            "right": null,
            "top": null,
            "visibility": null,
            "width": null
          }
        },
        "db17cada49a741a38c37e2e2c8f7ce5a": {
          "model_module": "@jupyter-widgets/controls",
          "model_name": "ProgressStyleModel",
          "model_module_version": "1.5.0",
          "state": {
            "_model_module": "@jupyter-widgets/controls",
            "_model_module_version": "1.5.0",
            "_model_name": "ProgressStyleModel",
            "_view_count": null,
            "_view_module": "@jupyter-widgets/base",
            "_view_module_version": "1.2.0",
            "_view_name": "StyleView",
            "bar_color": null,
            "description_width": ""
          }
        },
        "0d5769d5ab5d4373afff210aeadec396": {
          "model_module": "@jupyter-widgets/base",
          "model_name": "LayoutModel",
          "model_module_version": "1.2.0",
          "state": {
            "_model_module": "@jupyter-widgets/base",
            "_model_module_version": "1.2.0",
            "_model_name": "LayoutModel",
            "_view_count": null,
            "_view_module": "@jupyter-widgets/base",
            "_view_module_version": "1.2.0",
            "_view_name": "LayoutView",
            "align_content": null,
            "align_items": null,
            "align_self": null,
            "border": null,
            "bottom": null,
            "display": null,
            "flex": null,
            "flex_flow": null,
            "grid_area": null,
            "grid_auto_columns": null,
            "grid_auto_flow": null,
            "grid_auto_rows": null,
            "grid_column": null,
            "grid_gap": null,
            "grid_row": null,
            "grid_template_areas": null,
            "grid_template_columns": null,
            "grid_template_rows": null,
            "height": null,
            "justify_content": null,
            "justify_items": null,
            "left": null,
            "margin": null,
            "max_height": null,
            "max_width": null,
            "min_height": null,
            "min_width": null,
            "object_fit": null,
            "object_position": null,
            "order": null,
            "overflow": null,
            "overflow_x": null,
            "overflow_y": null,
            "padding": null,
            "right": null,
            "top": null,
            "visibility": null,
            "width": null
          }
        },
        "3a4636b49b04496d8d87329ee76c727e": {
          "model_module": "@jupyter-widgets/controls",
          "model_name": "DescriptionStyleModel",
          "model_module_version": "1.5.0",
          "state": {
            "_model_module": "@jupyter-widgets/controls",
            "_model_module_version": "1.5.0",
            "_model_name": "DescriptionStyleModel",
            "_view_count": null,
            "_view_module": "@jupyter-widgets/base",
            "_view_module_version": "1.2.0",
            "_view_name": "StyleView",
            "description_width": ""
          }
        }
      }
    }
  },
  "cells": [
    {
      "cell_type": "markdown",
      "metadata": {
        "id": "b13177b7"
      },
      "source": [
        "<a href=\"https://colab.research.google.com/github/wlg100/numseqcont_circuit_expms/blob/main/notebook_templates/minimal_circuit_template.ipynb\"><img src=\"https://colab.research.google.com/assets/colab-badge.svg\" align=\"left\"/></a>&nbsp;or in a local notebook."
      ]
    },
    {
      "cell_type": "markdown",
      "metadata": {
        "id": "DcZG9rm2IAiA"
      },
      "source": [
        "# Setup\n",
        "(No need to change anything)"
      ]
    },
    {
      "cell_type": "code",
      "execution_count": 1,
      "metadata": {
        "id": "rMcpSDdjIAiA",
        "colab": {
          "base_uri": "https://localhost:8080/"
        },
        "outputId": "8b4f915f-21ef-4840-d2f8-e1ac3d4f9a80"
      },
      "outputs": [
        {
          "output_type": "stream",
          "name": "stdout",
          "text": [
            "Running as a Colab notebook\n",
            "Collecting git+https://github.com/neelnanda-io/TransformerLens.git\n",
            "  Cloning https://github.com/neelnanda-io/TransformerLens.git to /tmp/pip-req-build-ottqaxzk\n",
            "  Running command git clone --filter=blob:none --quiet https://github.com/neelnanda-io/TransformerLens.git /tmp/pip-req-build-ottqaxzk\n",
            "  Resolved https://github.com/neelnanda-io/TransformerLens.git to commit e9bbd6a95058ab0b5d6ba44223ee05564384f2ce\n",
            "  Installing build dependencies ... \u001b[?25l\u001b[?25hdone\n",
            "  Getting requirements to build wheel ... \u001b[?25l\u001b[?25hdone\n",
            "  Preparing metadata (pyproject.toml) ... \u001b[?25l\u001b[?25hdone\n",
            "Collecting beartype<0.15.0,>=0.14.1 (from transformer-lens==0.0.0)\n",
            "  Downloading beartype-0.14.1-py3-none-any.whl (739 kB)\n",
            "\u001b[2K     \u001b[90m━━━━━━━━━━━━━━━━━━━━━━━━━━━━━━━━━━━━━━\u001b[0m \u001b[32m739.7/739.7 kB\u001b[0m \u001b[31m11.4 MB/s\u001b[0m eta \u001b[36m0:00:00\u001b[0m\n",
            "\u001b[?25hCollecting datasets>=2.7.1 (from transformer-lens==0.0.0)\n",
            "  Downloading datasets-2.14.5-py3-none-any.whl (519 kB)\n",
            "\u001b[2K     \u001b[90m━━━━━━━━━━━━━━━━━━━━━━━━━━━━━━━━━━━━━━\u001b[0m \u001b[32m519.6/519.6 kB\u001b[0m \u001b[31m37.7 MB/s\u001b[0m eta \u001b[36m0:00:00\u001b[0m\n",
            "\u001b[?25hCollecting einops>=0.6.0 (from transformer-lens==0.0.0)\n",
            "  Downloading einops-0.7.0-py3-none-any.whl (44 kB)\n",
            "\u001b[2K     \u001b[90m━━━━━━━━━━━━━━━━━━━━━━━━━━━━━━━━━━━━━━━━\u001b[0m \u001b[32m44.6/44.6 kB\u001b[0m \u001b[31m6.2 MB/s\u001b[0m eta \u001b[36m0:00:00\u001b[0m\n",
            "\u001b[?25hCollecting fancy-einsum>=0.0.3 (from transformer-lens==0.0.0)\n",
            "  Downloading fancy_einsum-0.0.3-py3-none-any.whl (6.2 kB)\n",
            "Collecting jaxtyping>=0.2.11 (from transformer-lens==0.0.0)\n",
            "  Downloading jaxtyping-0.2.22-py3-none-any.whl (25 kB)\n",
            "Requirement already satisfied: numpy>=1.23 in /usr/local/lib/python3.10/dist-packages (from transformer-lens==0.0.0) (1.23.5)\n",
            "Requirement already satisfied: pandas>=1.1.5 in /usr/local/lib/python3.10/dist-packages (from transformer-lens==0.0.0) (1.5.3)\n",
            "Requirement already satisfied: rich>=12.6.0 in /usr/local/lib/python3.10/dist-packages (from transformer-lens==0.0.0) (13.5.2)\n",
            "Requirement already satisfied: torch>=1.10 in /usr/local/lib/python3.10/dist-packages (from transformer-lens==0.0.0) (2.0.1+cu118)\n",
            "Requirement already satisfied: tqdm>=4.64.1 in /usr/local/lib/python3.10/dist-packages (from transformer-lens==0.0.0) (4.66.1)\n",
            "Collecting transformers>=4.25.1 (from transformer-lens==0.0.0)\n",
            "  Downloading transformers-4.33.3-py3-none-any.whl (7.6 MB)\n",
            "\u001b[2K     \u001b[90m━━━━━━━━━━━━━━━━━━━━━━━━━━━━━━━━━━━━━━━━\u001b[0m \u001b[32m7.6/7.6 MB\u001b[0m \u001b[31m99.0 MB/s\u001b[0m eta \u001b[36m0:00:00\u001b[0m\n",
            "\u001b[?25hCollecting wandb>=0.13.5 (from transformer-lens==0.0.0)\n",
            "  Downloading wandb-0.15.11-py3-none-any.whl (2.1 MB)\n",
            "\u001b[2K     \u001b[90m━━━━━━━━━━━━━━━━━━━━━━━━━━━━━━━━━━━━━━━━\u001b[0m \u001b[32m2.1/2.1 MB\u001b[0m \u001b[31m91.2 MB/s\u001b[0m eta \u001b[36m0:00:00\u001b[0m\n",
            "\u001b[?25hRequirement already satisfied: pyarrow>=8.0.0 in /usr/local/lib/python3.10/dist-packages (from datasets>=2.7.1->transformer-lens==0.0.0) (9.0.0)\n",
            "Collecting dill<0.3.8,>=0.3.0 (from datasets>=2.7.1->transformer-lens==0.0.0)\n",
            "  Downloading dill-0.3.7-py3-none-any.whl (115 kB)\n",
            "\u001b[2K     \u001b[90m━━━━━━━━━━━━━━━━━━━━━━━━━━━━━━━━━━━━━━\u001b[0m \u001b[32m115.3/115.3 kB\u001b[0m \u001b[31m17.5 MB/s\u001b[0m eta \u001b[36m0:00:00\u001b[0m\n",
            "\u001b[?25hRequirement already satisfied: requests>=2.19.0 in /usr/local/lib/python3.10/dist-packages (from datasets>=2.7.1->transformer-lens==0.0.0) (2.31.0)\n",
            "Collecting xxhash (from datasets>=2.7.1->transformer-lens==0.0.0)\n",
            "  Downloading xxhash-3.3.0-cp310-cp310-manylinux_2_17_x86_64.manylinux2014_x86_64.whl (194 kB)\n",
            "\u001b[2K     \u001b[90m━━━━━━━━━━━━━━━━━━━━━━━━━━━━━━━━━━━━━━\u001b[0m \u001b[32m194.1/194.1 kB\u001b[0m \u001b[31m24.0 MB/s\u001b[0m eta \u001b[36m0:00:00\u001b[0m\n",
            "\u001b[?25hCollecting multiprocess (from datasets>=2.7.1->transformer-lens==0.0.0)\n",
            "  Downloading multiprocess-0.70.15-py310-none-any.whl (134 kB)\n",
            "\u001b[2K     \u001b[90m━━━━━━━━━━━━━━━━━━━━━━━━━━━━━━━━━━━━━━\u001b[0m \u001b[32m134.8/134.8 kB\u001b[0m \u001b[31m18.1 MB/s\u001b[0m eta \u001b[36m0:00:00\u001b[0m\n",
            "\u001b[?25hRequirement already satisfied: fsspec[http]<2023.9.0,>=2023.1.0 in /usr/local/lib/python3.10/dist-packages (from datasets>=2.7.1->transformer-lens==0.0.0) (2023.6.0)\n",
            "Requirement already satisfied: aiohttp in /usr/local/lib/python3.10/dist-packages (from datasets>=2.7.1->transformer-lens==0.0.0) (3.8.5)\n",
            "Collecting huggingface-hub<1.0.0,>=0.14.0 (from datasets>=2.7.1->transformer-lens==0.0.0)\n",
            "  Downloading huggingface_hub-0.17.3-py3-none-any.whl (295 kB)\n",
            "\u001b[2K     \u001b[90m━━━━━━━━━━━━━━━━━━━━━━━━━━━━━━━━━━━━━━\u001b[0m \u001b[32m295.0/295.0 kB\u001b[0m \u001b[31m34.8 MB/s\u001b[0m eta \u001b[36m0:00:00\u001b[0m\n",
            "\u001b[?25hRequirement already satisfied: packaging in /usr/local/lib/python3.10/dist-packages (from datasets>=2.7.1->transformer-lens==0.0.0) (23.1)\n",
            "Requirement already satisfied: pyyaml>=5.1 in /usr/local/lib/python3.10/dist-packages (from datasets>=2.7.1->transformer-lens==0.0.0) (6.0.1)\n",
            "Collecting typeguard>=2.13.3 (from jaxtyping>=0.2.11->transformer-lens==0.0.0)\n",
            "  Downloading typeguard-4.1.5-py3-none-any.whl (34 kB)\n",
            "Requirement already satisfied: typing-extensions>=3.7.4.1 in /usr/local/lib/python3.10/dist-packages (from jaxtyping>=0.2.11->transformer-lens==0.0.0) (4.5.0)\n",
            "Requirement already satisfied: python-dateutil>=2.8.1 in /usr/local/lib/python3.10/dist-packages (from pandas>=1.1.5->transformer-lens==0.0.0) (2.8.2)\n",
            "Requirement already satisfied: pytz>=2020.1 in /usr/local/lib/python3.10/dist-packages (from pandas>=1.1.5->transformer-lens==0.0.0) (2023.3.post1)\n",
            "Requirement already satisfied: markdown-it-py>=2.2.0 in /usr/local/lib/python3.10/dist-packages (from rich>=12.6.0->transformer-lens==0.0.0) (3.0.0)\n",
            "Requirement already satisfied: pygments<3.0.0,>=2.13.0 in /usr/local/lib/python3.10/dist-packages (from rich>=12.6.0->transformer-lens==0.0.0) (2.16.1)\n",
            "Requirement already satisfied: filelock in /usr/local/lib/python3.10/dist-packages (from torch>=1.10->transformer-lens==0.0.0) (3.12.2)\n",
            "Requirement already satisfied: sympy in /usr/local/lib/python3.10/dist-packages (from torch>=1.10->transformer-lens==0.0.0) (1.12)\n",
            "Requirement already satisfied: networkx in /usr/local/lib/python3.10/dist-packages (from torch>=1.10->transformer-lens==0.0.0) (3.1)\n",
            "Requirement already satisfied: jinja2 in /usr/local/lib/python3.10/dist-packages (from torch>=1.10->transformer-lens==0.0.0) (3.1.2)\n",
            "Requirement already satisfied: triton==2.0.0 in /usr/local/lib/python3.10/dist-packages (from torch>=1.10->transformer-lens==0.0.0) (2.0.0)\n",
            "Requirement already satisfied: cmake in /usr/local/lib/python3.10/dist-packages (from triton==2.0.0->torch>=1.10->transformer-lens==0.0.0) (3.27.4.1)\n",
            "Requirement already satisfied: lit in /usr/local/lib/python3.10/dist-packages (from triton==2.0.0->torch>=1.10->transformer-lens==0.0.0) (16.0.6)\n",
            "Requirement already satisfied: regex!=2019.12.17 in /usr/local/lib/python3.10/dist-packages (from transformers>=4.25.1->transformer-lens==0.0.0) (2023.6.3)\n",
            "Collecting tokenizers!=0.11.3,<0.14,>=0.11.1 (from transformers>=4.25.1->transformer-lens==0.0.0)\n",
            "  Downloading tokenizers-0.13.3-cp310-cp310-manylinux_2_17_x86_64.manylinux2014_x86_64.whl (7.8 MB)\n",
            "\u001b[2K     \u001b[90m━━━━━━━━━━━━━━━━━━━━━━━━━━━━━━━━━━━━━━━━\u001b[0m \u001b[32m7.8/7.8 MB\u001b[0m \u001b[31m119.9 MB/s\u001b[0m eta \u001b[36m0:00:00\u001b[0m\n",
            "\u001b[?25hCollecting safetensors>=0.3.1 (from transformers>=4.25.1->transformer-lens==0.0.0)\n",
            "  Downloading safetensors-0.3.3-cp310-cp310-manylinux_2_17_x86_64.manylinux2014_x86_64.whl (1.3 MB)\n",
            "\u001b[2K     \u001b[90m━━━━━━━━━━━━━━━━━━━━━━━━━━━━━━━━━━━━━━━━\u001b[0m \u001b[32m1.3/1.3 MB\u001b[0m \u001b[31m78.8 MB/s\u001b[0m eta \u001b[36m0:00:00\u001b[0m\n",
            "\u001b[?25hRequirement already satisfied: Click!=8.0.0,>=7.1 in /usr/local/lib/python3.10/dist-packages (from wandb>=0.13.5->transformer-lens==0.0.0) (8.1.7)\n",
            "Collecting GitPython!=3.1.29,>=1.0.0 (from wandb>=0.13.5->transformer-lens==0.0.0)\n",
            "  Downloading GitPython-3.1.37-py3-none-any.whl (190 kB)\n",
            "\u001b[2K     \u001b[90m━━━━━━━━━━━━━━━━━━━━━━━━━━━━━━━━━━━━━━\u001b[0m \u001b[32m190.0/190.0 kB\u001b[0m \u001b[31m24.7 MB/s\u001b[0m eta \u001b[36m0:00:00\u001b[0m\n",
            "\u001b[?25hRequirement already satisfied: psutil>=5.0.0 in /usr/local/lib/python3.10/dist-packages (from wandb>=0.13.5->transformer-lens==0.0.0) (5.9.5)\n",
            "Collecting sentry-sdk>=1.0.0 (from wandb>=0.13.5->transformer-lens==0.0.0)\n",
            "  Downloading sentry_sdk-1.31.0-py2.py3-none-any.whl (224 kB)\n",
            "\u001b[2K     \u001b[90m━━━━━━━━━━━━━━━━━━━━━━━━━━━━━━━━━━━━━━\u001b[0m \u001b[32m224.8/224.8 kB\u001b[0m \u001b[31m27.0 MB/s\u001b[0m eta \u001b[36m0:00:00\u001b[0m\n",
            "\u001b[?25hCollecting docker-pycreds>=0.4.0 (from wandb>=0.13.5->transformer-lens==0.0.0)\n",
            "  Downloading docker_pycreds-0.4.0-py2.py3-none-any.whl (9.0 kB)\n",
            "Collecting pathtools (from wandb>=0.13.5->transformer-lens==0.0.0)\n",
            "  Downloading pathtools-0.1.2.tar.gz (11 kB)\n",
            "  Preparing metadata (setup.py) ... \u001b[?25l\u001b[?25hdone\n",
            "Collecting setproctitle (from wandb>=0.13.5->transformer-lens==0.0.0)\n",
            "  Downloading setproctitle-1.3.2-cp310-cp310-manylinux_2_5_x86_64.manylinux1_x86_64.manylinux_2_17_x86_64.manylinux2014_x86_64.whl (30 kB)\n",
            "Requirement already satisfied: setuptools in /usr/local/lib/python3.10/dist-packages (from wandb>=0.13.5->transformer-lens==0.0.0) (67.7.2)\n",
            "Requirement already satisfied: appdirs>=1.4.3 in /usr/local/lib/python3.10/dist-packages (from wandb>=0.13.5->transformer-lens==0.0.0) (1.4.4)\n",
            "Requirement already satisfied: protobuf!=4.21.0,<5,>=3.19.0 in /usr/local/lib/python3.10/dist-packages (from wandb>=0.13.5->transformer-lens==0.0.0) (3.20.3)\n",
            "Requirement already satisfied: six>=1.4.0 in /usr/local/lib/python3.10/dist-packages (from docker-pycreds>=0.4.0->wandb>=0.13.5->transformer-lens==0.0.0) (1.16.0)\n",
            "Requirement already satisfied: attrs>=17.3.0 in /usr/local/lib/python3.10/dist-packages (from aiohttp->datasets>=2.7.1->transformer-lens==0.0.0) (23.1.0)\n",
            "Requirement already satisfied: charset-normalizer<4.0,>=2.0 in /usr/local/lib/python3.10/dist-packages (from aiohttp->datasets>=2.7.1->transformer-lens==0.0.0) (3.2.0)\n",
            "Requirement already satisfied: multidict<7.0,>=4.5 in /usr/local/lib/python3.10/dist-packages (from aiohttp->datasets>=2.7.1->transformer-lens==0.0.0) (6.0.4)\n",
            "Requirement already satisfied: async-timeout<5.0,>=4.0.0a3 in /usr/local/lib/python3.10/dist-packages (from aiohttp->datasets>=2.7.1->transformer-lens==0.0.0) (4.0.3)\n",
            "Requirement already satisfied: yarl<2.0,>=1.0 in /usr/local/lib/python3.10/dist-packages (from aiohttp->datasets>=2.7.1->transformer-lens==0.0.0) (1.9.2)\n",
            "Requirement already satisfied: frozenlist>=1.1.1 in /usr/local/lib/python3.10/dist-packages (from aiohttp->datasets>=2.7.1->transformer-lens==0.0.0) (1.4.0)\n",
            "Requirement already satisfied: aiosignal>=1.1.2 in /usr/local/lib/python3.10/dist-packages (from aiohttp->datasets>=2.7.1->transformer-lens==0.0.0) (1.3.1)\n",
            "Collecting gitdb<5,>=4.0.1 (from GitPython!=3.1.29,>=1.0.0->wandb>=0.13.5->transformer-lens==0.0.0)\n",
            "  Downloading gitdb-4.0.10-py3-none-any.whl (62 kB)\n",
            "\u001b[2K     \u001b[90m━━━━━━━━━━━━━━━━━━━━━━━━━━━━━━━━━━━━━━━━\u001b[0m \u001b[32m62.7/62.7 kB\u001b[0m \u001b[31m8.2 MB/s\u001b[0m eta \u001b[36m0:00:00\u001b[0m\n",
            "\u001b[?25hRequirement already satisfied: mdurl~=0.1 in /usr/local/lib/python3.10/dist-packages (from markdown-it-py>=2.2.0->rich>=12.6.0->transformer-lens==0.0.0) (0.1.2)\n",
            "Requirement already satisfied: idna<4,>=2.5 in /usr/local/lib/python3.10/dist-packages (from requests>=2.19.0->datasets>=2.7.1->transformer-lens==0.0.0) (3.4)\n",
            "Requirement already satisfied: urllib3<3,>=1.21.1 in /usr/local/lib/python3.10/dist-packages (from requests>=2.19.0->datasets>=2.7.1->transformer-lens==0.0.0) (2.0.4)\n",
            "Requirement already satisfied: certifi>=2017.4.17 in /usr/local/lib/python3.10/dist-packages (from requests>=2.19.0->datasets>=2.7.1->transformer-lens==0.0.0) (2023.7.22)\n",
            "Collecting typing-extensions>=3.7.4.1 (from jaxtyping>=0.2.11->transformer-lens==0.0.0)\n",
            "  Downloading typing_extensions-4.8.0-py3-none-any.whl (31 kB)\n",
            "Requirement already satisfied: MarkupSafe>=2.0 in /usr/local/lib/python3.10/dist-packages (from jinja2->torch>=1.10->transformer-lens==0.0.0) (2.1.3)\n",
            "Requirement already satisfied: mpmath>=0.19 in /usr/local/lib/python3.10/dist-packages (from sympy->torch>=1.10->transformer-lens==0.0.0) (1.3.0)\n",
            "Collecting smmap<6,>=3.0.1 (from gitdb<5,>=4.0.1->GitPython!=3.1.29,>=1.0.0->wandb>=0.13.5->transformer-lens==0.0.0)\n",
            "  Downloading smmap-5.0.1-py3-none-any.whl (24 kB)\n",
            "Building wheels for collected packages: transformer-lens, pathtools\n",
            "  Building wheel for transformer-lens (pyproject.toml) ... \u001b[?25l\u001b[?25hdone\n",
            "  Created wheel for transformer-lens: filename=transformer_lens-0.0.0-py3-none-any.whl size=110239 sha256=f951eab6f45540d4872b5d08def2a2a3e28647bd7e138bc84dc4387997ef8852\n",
            "  Stored in directory: /tmp/pip-ephem-wheel-cache-1v9t3wdl/wheels/8a/1e/37/ffb9c15454a1725b13a9d9f5e74fb91725048884ad734b8c1f\n",
            "  Building wheel for pathtools (setup.py) ... \u001b[?25l\u001b[?25hdone\n",
            "  Created wheel for pathtools: filename=pathtools-0.1.2-py3-none-any.whl size=8791 sha256=9667ca6327b59de8662cd82e3c934072ce125f30582784b80672430ea2a94c53\n",
            "  Stored in directory: /root/.cache/pip/wheels/e7/f3/22/152153d6eb222ee7a56ff8617d80ee5207207a8c00a7aab794\n",
            "Successfully built transformer-lens pathtools\n",
            "Installing collected packages: tokenizers, safetensors, pathtools, xxhash, typing-extensions, smmap, setproctitle, sentry-sdk, fancy-einsum, einops, docker-pycreds, dill, beartype, typeguard, multiprocess, huggingface-hub, gitdb, transformers, jaxtyping, GitPython, wandb, datasets, transformer-lens\n",
            "  Attempting uninstall: typing-extensions\n",
            "    Found existing installation: typing_extensions 4.5.0\n",
            "    Uninstalling typing_extensions-4.5.0:\n",
            "      Successfully uninstalled typing_extensions-4.5.0\n",
            "\u001b[31mERROR: pip's dependency resolver does not currently take into account all the packages that are installed. This behaviour is the source of the following dependency conflicts.\n",
            "tensorflow 2.13.0 requires typing-extensions<4.6.0,>=3.6.6, but you have typing-extensions 4.8.0 which is incompatible.\u001b[0m\u001b[31m\n",
            "\u001b[0mSuccessfully installed GitPython-3.1.37 beartype-0.14.1 datasets-2.14.5 dill-0.3.7 docker-pycreds-0.4.0 einops-0.7.0 fancy-einsum-0.0.3 gitdb-4.0.10 huggingface-hub-0.17.3 jaxtyping-0.2.22 multiprocess-0.70.15 pathtools-0.1.2 safetensors-0.3.3 sentry-sdk-1.31.0 setproctitle-1.3.2 smmap-5.0.1 tokenizers-0.13.3 transformer-lens-0.0.0 transformers-4.33.3 typeguard-4.1.5 typing-extensions-4.8.0 wandb-0.15.11 xxhash-3.3.0\n",
            "\n",
            "\u001b[1m\u001b[31m================================================================================\u001b[m\n",
            "\u001b[1m\u001b[31m▓▓▓▓▓▓▓▓▓▓▓▓▓▓▓▓▓▓▓▓▓▓▓▓▓▓▓▓▓▓▓▓▓▓▓▓▓▓▓▓▓▓▓▓▓▓▓▓▓▓▓▓▓▓▓▓▓▓▓▓▓▓▓▓▓▓▓▓▓▓▓▓▓▓▓▓▓▓▓▓\u001b[m\n",
            "\u001b[1m\u001b[31m================================================================================\u001b[m\n",
            "\n",
            "  \u001b[1m\u001b[33m                         \u001b[4mSCRIPT DEPRECATION WARNING\u001b[m                    \u001b[m\n",
            "\n",
            "  \n",
            "  This script, located at \u001b[1mhttps://deb.nodesource.com/setup_X\u001b[m, used to\n",
            "  install Node.js is deprecated now and will eventually be made inactive.\n",
            "\n",
            "  Please visit the NodeSource \u001b[1mdistributions\u001b[m Github and follow the\n",
            "  instructions to migrate your repo.\n",
            "  \u001b[4m\u001b[32m\u001b[1mhttps://github.com/nodesource/distributions\u001b[m\n",
            "\n",
            "  The \u001b[1mNodeSource\u001b[m Node.js Linux distributions GitHub repository contains\n",
            "  information about which versions of Node.js and which Linux distributions\n",
            "  are supported and how to install it.\n",
            "  \u001b[4m\u001b[32m\u001b[1mhttps://github.com/nodesource/distributions\u001b[m\n",
            "\n",
            "\n",
            "                          \u001b[4m\u001b[1m\u001b[33mSCRIPT DEPRECATION WARNING\u001b[m\n",
            "\n",
            "\u001b[1m\u001b[31m================================================================================\u001b[m\n",
            "\u001b[1m\u001b[31m▓▓▓▓▓▓▓▓▓▓▓▓▓▓▓▓▓▓▓▓▓▓▓▓▓▓▓▓▓▓▓▓▓▓▓▓▓▓▓▓▓▓▓▓▓▓▓▓▓▓▓▓▓▓▓▓▓▓▓▓▓▓▓▓▓▓▓▓▓▓▓▓▓▓▓▓▓▓▓▓\u001b[m\n",
            "\u001b[1m\u001b[31m================================================================================\u001b[m\n",
            "\n",
            "\u001b[36m\u001b[1mTO AVOID THIS WAIT MIGRATE THE SCRIPT\u001b[m\n",
            "Continuing in 60 seconds (press Ctrl-C to abort) ...\n",
            "\n",
            "\n",
            "## Installing the NodeSource Node.js 16.x repo...\n",
            "\n",
            "\n",
            "## Populating apt-get cache...\n",
            "\n",
            "+ apt-get update\n",
            "Get:1 https://developer.download.nvidia.com/compute/cuda/repos/ubuntu2204/x86_64  InRelease [1,581 B]\n",
            "Get:2 https://developer.download.nvidia.com/compute/cuda/repos/ubuntu2204/x86_64  Packages [517 kB]\n",
            "Get:3 http://security.ubuntu.com/ubuntu jammy-security InRelease [110 kB]\n",
            "Get:4 https://ppa.launchpadcontent.net/c2d4u.team/c2d4u4.0+/ubuntu jammy InRelease [18.1 kB]\n",
            "Get:5 https://cloud.r-project.org/bin/linux/ubuntu jammy-cran40/ InRelease [3,626 B]\n",
            "Get:6 http://security.ubuntu.com/ubuntu jammy-security/restricted amd64 Packages [1,144 kB]\n",
            "Hit:7 https://ppa.launchpadcontent.net/deadsnakes/ppa/ubuntu jammy InRelease\n",
            "Hit:8 http://archive.ubuntu.com/ubuntu jammy InRelease\n",
            "Get:9 http://archive.ubuntu.com/ubuntu jammy-updates InRelease [119 kB]\n",
            "Get:10 https://ppa.launchpadcontent.net/graphics-drivers/ppa/ubuntu jammy InRelease [24.3 kB]\n",
            "Get:11 http://security.ubuntu.com/ubuntu jammy-security/main amd64 Packages [1,016 kB]\n",
            "Get:12 http://security.ubuntu.com/ubuntu jammy-security/multiverse amd64 Packages [44.0 kB]\n",
            "Hit:13 https://ppa.launchpadcontent.net/ubuntugis/ppa/ubuntu jammy InRelease\n",
            "Get:14 http://archive.ubuntu.com/ubuntu jammy-backports InRelease [109 kB]\n",
            "Get:15 http://archive.ubuntu.com/ubuntu jammy-updates/multiverse amd64 Packages [49.8 kB]\n",
            "Get:16 http://archive.ubuntu.com/ubuntu jammy-updates/main amd64 Packages [1,287 kB]\n",
            "Get:17 https://ppa.launchpadcontent.net/c2d4u.team/c2d4u4.0+/ubuntu jammy/main Sources [2,197 kB]\n",
            "Get:18 http://archive.ubuntu.com/ubuntu jammy-updates/universe amd64 Packages [1,264 kB]\n",
            "Get:19 http://archive.ubuntu.com/ubuntu jammy-updates/restricted amd64 Packages [1,165 kB]\n",
            "Get:20 https://ppa.launchpadcontent.net/c2d4u.team/c2d4u4.0+/ubuntu jammy/main amd64 Packages [1,128 kB]\n",
            "Get:21 https://ppa.launchpadcontent.net/graphics-drivers/ppa/ubuntu jammy/main amd64 Packages [37.7 kB]\n",
            "Fetched 10.2 MB in 7s (1,367 kB/s)\n",
            "Reading package lists... Done\n",
            "\n",
            "## Confirming \"jammy\" is supported...\n",
            "\n",
            "+ curl -sLf -o /dev/null 'https://deb.nodesource.com/node_16.x/dists/jammy/Release'\n",
            "\n",
            "## Adding the NodeSource signing key to your keyring...\n",
            "\n",
            "+ curl -s https://deb.nodesource.com/gpgkey/nodesource.gpg.key | gpg --dearmor | tee /usr/share/keyrings/nodesource.gpg >/dev/null\n",
            "\n",
            "## Creating apt sources list file for the NodeSource Node.js 16.x repo...\n",
            "\n",
            "+ echo 'deb [signed-by=/usr/share/keyrings/nodesource.gpg] https://deb.nodesource.com/node_16.x jammy main' > /etc/apt/sources.list.d/nodesource.list\n",
            "+ echo 'deb-src [signed-by=/usr/share/keyrings/nodesource.gpg] https://deb.nodesource.com/node_16.x jammy main' >> /etc/apt/sources.list.d/nodesource.list\n",
            "\n",
            "## Running `apt-get update` for you...\n",
            "\n",
            "+ apt-get update\n",
            "Hit:1 https://cloud.r-project.org/bin/linux/ubuntu jammy-cran40/ InRelease\n",
            "Hit:2 https://developer.download.nvidia.com/compute/cuda/repos/ubuntu2204/x86_64  InRelease\n",
            "Get:3 https://deb.nodesource.com/node_16.x jammy InRelease [4,583 B]\n",
            "Get:4 https://deb.nodesource.com/node_16.x jammy/main amd64 Packages [776 B]\n",
            "Hit:5 http://archive.ubuntu.com/ubuntu jammy InRelease\n",
            "Hit:6 https://ppa.launchpadcontent.net/c2d4u.team/c2d4u4.0+/ubuntu jammy InRelease\n",
            "Hit:7 http://archive.ubuntu.com/ubuntu jammy-updates InRelease\n",
            "Hit:8 http://security.ubuntu.com/ubuntu jammy-security InRelease\n",
            "Hit:9 http://archive.ubuntu.com/ubuntu jammy-backports InRelease\n",
            "Hit:10 https://ppa.launchpadcontent.net/deadsnakes/ppa/ubuntu jammy InRelease\n",
            "Hit:11 https://ppa.launchpadcontent.net/graphics-drivers/ppa/ubuntu jammy InRelease\n",
            "Hit:12 https://ppa.launchpadcontent.net/ubuntugis/ppa/ubuntu jammy InRelease\n",
            "Fetched 5,359 B in 3s (1,960 B/s)\n",
            "Reading package lists... Done\n",
            "\n",
            "## Run `\u001b[1msudo apt-get install -y nodejs\u001b[m` to install Node.js 16.x and npm\n",
            "## You may also need development tools to build native addons:\n",
            "     sudo apt-get install gcc g++ make\n",
            "## To install the Yarn package manager, run:\n",
            "     curl -sL https://dl.yarnpkg.com/debian/pubkey.gpg | gpg --dearmor | sudo tee /usr/share/keyrings/yarnkey.gpg >/dev/null\n",
            "     echo \"deb [signed-by=/usr/share/keyrings/yarnkey.gpg] https://dl.yarnpkg.com/debian stable main\" | sudo tee /etc/apt/sources.list.d/yarn.list\n",
            "     sudo apt-get update && sudo apt-get install yarn\n",
            "\n",
            "\n",
            "Reading package lists... Done\n",
            "Building dependency tree... Done\n",
            "Reading state information... Done\n",
            "The following NEW packages will be installed:\n",
            "  nodejs\n",
            "0 upgraded, 1 newly installed, 0 to remove and 19 not upgraded.\n",
            "Need to get 27.2 MB of archives.\n",
            "After this operation, 128 MB of additional disk space will be used.\n",
            "Get:1 https://deb.nodesource.com/node_16.x jammy/main amd64 nodejs amd64 16.20.2-deb-1nodesource1 [27.2 MB]\n",
            "Fetched 27.2 MB in 0s (55.7 MB/s)\n",
            "debconf: unable to initialize frontend: Dialog\n",
            "debconf: (No usable dialog-like program is installed, so the dialog based frontend cannot be used. at /usr/share/perl5/Debconf/FrontEnd/Dialog.pm line 78, <> line 1.)\n",
            "debconf: falling back to frontend: Readline\n",
            "debconf: unable to initialize frontend: Readline\n",
            "debconf: (This frontend requires a controlling tty.)\n",
            "debconf: falling back to frontend: Teletype\n",
            "dpkg-preconfigure: unable to re-open stdin: \n",
            "Selecting previously unselected package nodejs.\n",
            "(Reading database ... 120895 files and directories currently installed.)\n",
            "Preparing to unpack .../nodejs_16.20.2-deb-1nodesource1_amd64.deb ...\n",
            "Unpacking nodejs (16.20.2-deb-1nodesource1) ...\n",
            "Setting up nodejs (16.20.2-deb-1nodesource1) ...\n",
            "Processing triggers for man-db (2.10.2-1) ...\n",
            "Collecting git+https://github.com/neelnanda-io/PySvelte.git\n",
            "  Cloning https://github.com/neelnanda-io/PySvelte.git to /tmp/pip-req-build-mnylmp_6\n",
            "  Running command git clone --filter=blob:none --quiet https://github.com/neelnanda-io/PySvelte.git /tmp/pip-req-build-mnylmp_6\n",
            "  Resolved https://github.com/neelnanda-io/PySvelte.git to commit 6f5d971a148d40fb7481d400ae74551b37340e83\n",
            "  Preparing metadata (setup.py) ... \u001b[?25l\u001b[?25hdone\n",
            "Requirement already satisfied: einops in /usr/local/lib/python3.10/dist-packages (from PySvelte==1.0.0) (0.7.0)\n",
            "Requirement already satisfied: numpy in /usr/local/lib/python3.10/dist-packages (from PySvelte==1.0.0) (1.23.5)\n",
            "Requirement already satisfied: torch in /usr/local/lib/python3.10/dist-packages (from PySvelte==1.0.0) (2.0.1+cu118)\n",
            "Requirement already satisfied: datasets in /usr/local/lib/python3.10/dist-packages (from PySvelte==1.0.0) (2.14.5)\n",
            "Requirement already satisfied: transformers in /usr/local/lib/python3.10/dist-packages (from PySvelte==1.0.0) (4.33.3)\n",
            "Requirement already satisfied: tqdm in /usr/local/lib/python3.10/dist-packages (from PySvelte==1.0.0) (4.66.1)\n",
            "Requirement already satisfied: pandas in /usr/local/lib/python3.10/dist-packages (from PySvelte==1.0.0) (1.5.3)\n",
            "Collecting typeguard~=2.0 (from PySvelte==1.0.0)\n",
            "  Downloading typeguard-2.13.3-py3-none-any.whl (17 kB)\n",
            "Requirement already satisfied: pyarrow>=8.0.0 in /usr/local/lib/python3.10/dist-packages (from datasets->PySvelte==1.0.0) (9.0.0)\n",
            "Requirement already satisfied: dill<0.3.8,>=0.3.0 in /usr/local/lib/python3.10/dist-packages (from datasets->PySvelte==1.0.0) (0.3.7)\n",
            "Requirement already satisfied: requests>=2.19.0 in /usr/local/lib/python3.10/dist-packages (from datasets->PySvelte==1.0.0) (2.31.0)\n",
            "Requirement already satisfied: xxhash in /usr/local/lib/python3.10/dist-packages (from datasets->PySvelte==1.0.0) (3.3.0)\n",
            "Requirement already satisfied: multiprocess in /usr/local/lib/python3.10/dist-packages (from datasets->PySvelte==1.0.0) (0.70.15)\n",
            "Requirement already satisfied: fsspec[http]<2023.9.0,>=2023.1.0 in /usr/local/lib/python3.10/dist-packages (from datasets->PySvelte==1.0.0) (2023.6.0)\n",
            "Requirement already satisfied: aiohttp in /usr/local/lib/python3.10/dist-packages (from datasets->PySvelte==1.0.0) (3.8.5)\n",
            "Requirement already satisfied: huggingface-hub<1.0.0,>=0.14.0 in /usr/local/lib/python3.10/dist-packages (from datasets->PySvelte==1.0.0) (0.17.3)\n",
            "Requirement already satisfied: packaging in /usr/local/lib/python3.10/dist-packages (from datasets->PySvelte==1.0.0) (23.1)\n",
            "Requirement already satisfied: pyyaml>=5.1 in /usr/local/lib/python3.10/dist-packages (from datasets->PySvelte==1.0.0) (6.0.1)\n",
            "Requirement already satisfied: python-dateutil>=2.8.1 in /usr/local/lib/python3.10/dist-packages (from pandas->PySvelte==1.0.0) (2.8.2)\n",
            "Requirement already satisfied: pytz>=2020.1 in /usr/local/lib/python3.10/dist-packages (from pandas->PySvelte==1.0.0) (2023.3.post1)\n",
            "Requirement already satisfied: filelock in /usr/local/lib/python3.10/dist-packages (from torch->PySvelte==1.0.0) (3.12.2)\n",
            "Requirement already satisfied: typing-extensions in /usr/local/lib/python3.10/dist-packages (from torch->PySvelte==1.0.0) (4.8.0)\n",
            "Requirement already satisfied: sympy in /usr/local/lib/python3.10/dist-packages (from torch->PySvelte==1.0.0) (1.12)\n",
            "Requirement already satisfied: networkx in /usr/local/lib/python3.10/dist-packages (from torch->PySvelte==1.0.0) (3.1)\n",
            "Requirement already satisfied: jinja2 in /usr/local/lib/python3.10/dist-packages (from torch->PySvelte==1.0.0) (3.1.2)\n",
            "Requirement already satisfied: triton==2.0.0 in /usr/local/lib/python3.10/dist-packages (from torch->PySvelte==1.0.0) (2.0.0)\n",
            "Requirement already satisfied: cmake in /usr/local/lib/python3.10/dist-packages (from triton==2.0.0->torch->PySvelte==1.0.0) (3.27.4.1)\n",
            "Requirement already satisfied: lit in /usr/local/lib/python3.10/dist-packages (from triton==2.0.0->torch->PySvelte==1.0.0) (16.0.6)\n",
            "Requirement already satisfied: regex!=2019.12.17 in /usr/local/lib/python3.10/dist-packages (from transformers->PySvelte==1.0.0) (2023.6.3)\n",
            "Requirement already satisfied: tokenizers!=0.11.3,<0.14,>=0.11.1 in /usr/local/lib/python3.10/dist-packages (from transformers->PySvelte==1.0.0) (0.13.3)\n",
            "Requirement already satisfied: safetensors>=0.3.1 in /usr/local/lib/python3.10/dist-packages (from transformers->PySvelte==1.0.0) (0.3.3)\n",
            "Requirement already satisfied: attrs>=17.3.0 in /usr/local/lib/python3.10/dist-packages (from aiohttp->datasets->PySvelte==1.0.0) (23.1.0)\n",
            "Requirement already satisfied: charset-normalizer<4.0,>=2.0 in /usr/local/lib/python3.10/dist-packages (from aiohttp->datasets->PySvelte==1.0.0) (3.2.0)\n",
            "Requirement already satisfied: multidict<7.0,>=4.5 in /usr/local/lib/python3.10/dist-packages (from aiohttp->datasets->PySvelte==1.0.0) (6.0.4)\n",
            "Requirement already satisfied: async-timeout<5.0,>=4.0.0a3 in /usr/local/lib/python3.10/dist-packages (from aiohttp->datasets->PySvelte==1.0.0) (4.0.3)\n",
            "Requirement already satisfied: yarl<2.0,>=1.0 in /usr/local/lib/python3.10/dist-packages (from aiohttp->datasets->PySvelte==1.0.0) (1.9.2)\n",
            "Requirement already satisfied: frozenlist>=1.1.1 in /usr/local/lib/python3.10/dist-packages (from aiohttp->datasets->PySvelte==1.0.0) (1.4.0)\n",
            "Requirement already satisfied: aiosignal>=1.1.2 in /usr/local/lib/python3.10/dist-packages (from aiohttp->datasets->PySvelte==1.0.0) (1.3.1)\n",
            "Requirement already satisfied: six>=1.5 in /usr/local/lib/python3.10/dist-packages (from python-dateutil>=2.8.1->pandas->PySvelte==1.0.0) (1.16.0)\n",
            "Requirement already satisfied: idna<4,>=2.5 in /usr/local/lib/python3.10/dist-packages (from requests>=2.19.0->datasets->PySvelte==1.0.0) (3.4)\n",
            "Requirement already satisfied: urllib3<3,>=1.21.1 in /usr/local/lib/python3.10/dist-packages (from requests>=2.19.0->datasets->PySvelte==1.0.0) (2.0.4)\n",
            "Requirement already satisfied: certifi>=2017.4.17 in /usr/local/lib/python3.10/dist-packages (from requests>=2.19.0->datasets->PySvelte==1.0.0) (2023.7.22)\n",
            "Requirement already satisfied: MarkupSafe>=2.0 in /usr/local/lib/python3.10/dist-packages (from jinja2->torch->PySvelte==1.0.0) (2.1.3)\n",
            "Requirement already satisfied: mpmath>=0.19 in /usr/local/lib/python3.10/dist-packages (from sympy->torch->PySvelte==1.0.0) (1.3.0)\n",
            "Building wheels for collected packages: PySvelte\n",
            "  Building wheel for PySvelte (setup.py) ... \u001b[?25l\u001b[?25hdone\n",
            "  Created wheel for PySvelte: filename=PySvelte-1.0.0-py3-none-any.whl size=158305 sha256=112dc7f0029913e5ae931943b19513849d3b188dba00ca5d1f0aa31a5a9718fd\n",
            "  Stored in directory: /tmp/pip-ephem-wheel-cache-pntdth5h/wheels/fa/f6/f2/673ef7aeb78d7503b6e3e42387132822fdc38d3ee283d3e5b4\n",
            "Successfully built PySvelte\n",
            "Installing collected packages: typeguard, PySvelte\n",
            "  Attempting uninstall: typeguard\n",
            "    Found existing installation: typeguard 4.1.5\n",
            "    Uninstalling typeguard-4.1.5:\n",
            "      Successfully uninstalled typeguard-4.1.5\n",
            "Successfully installed PySvelte-1.0.0 typeguard-2.13.3\n"
          ]
        }
      ],
      "source": [
        "# Janky code to do different setup when run in a Colab notebook vs VSCode\n",
        "DEBUG_MODE = False\n",
        "try:\n",
        "    import google.colab\n",
        "    IN_COLAB = True\n",
        "    print(\"Running as a Colab notebook\")\n",
        "    %pip install git+https://github.com/neelnanda-io/TransformerLens.git\n",
        "    # Install another version of node that makes PySvelte work way faster\n",
        "    !curl -fsSL https://deb.nodesource.com/setup_16.x | sudo -E bash -; sudo apt-get install -y nodejs\n",
        "    %pip install git+https://github.com/neelnanda-io/PySvelte.git\n",
        "except:\n",
        "    IN_COLAB = False\n",
        "    print(\"Running as a Jupyter notebook - intended for development only!\")\n",
        "    from IPython import get_ipython\n",
        "\n",
        "    ipython = get_ipython()\n",
        "    # Code to automatically update the HookedTransformer code as its edited without restarting the kernel\n",
        "    ipython.magic(\"load_ext autoreload\")\n",
        "    ipython.magic(\"autoreload 2\")"
      ]
    },
    {
      "cell_type": "code",
      "execution_count": 2,
      "metadata": {
        "id": "xKoTs7VBIAiD"
      },
      "outputs": [],
      "source": [
        "# Plotly needs a different renderer for VSCode/Notebooks vs Colab argh\n",
        "import plotly.io as pio\n",
        "\n",
        "if IN_COLAB or not DEBUG_MODE:\n",
        "    # Thanks to annoying rendering issues, Plotly graphics will either show up in colab OR Vscode depending on the renderer - this is bad for developing demos! Thus creating a debug mode.\n",
        "    pio.renderers.default = \"colab\"\n",
        "else:\n",
        "    pio.renderers.default = \"png\""
      ]
    },
    {
      "cell_type": "code",
      "execution_count": 3,
      "metadata": {
        "id": "Z6b1n2tvIAiD"
      },
      "outputs": [],
      "source": [
        "# Import stuff\n",
        "import torch\n",
        "import torch.nn as nn\n",
        "import torch.nn.functional as F\n",
        "import torch.optim as optim\n",
        "import numpy as np\n",
        "import einops\n",
        "from fancy_einsum import einsum\n",
        "import tqdm.notebook as tqdm\n",
        "import random\n",
        "from pathlib import Path\n",
        "import plotly.express as px\n",
        "from torch.utils.data import DataLoader\n",
        "\n",
        "from jaxtyping import Float, Int\n",
        "from typing import List, Union, Optional\n",
        "from functools import partial\n",
        "import copy\n",
        "\n",
        "import itertools\n",
        "from transformers import AutoModelForCausalLM, AutoConfig, AutoTokenizer\n",
        "import dataclasses\n",
        "import datasets\n",
        "from IPython.display import HTML"
      ]
    },
    {
      "cell_type": "code",
      "execution_count": 4,
      "metadata": {
        "id": "zuhzYxbsIAiE"
      },
      "outputs": [],
      "source": [
        "import pysvelte\n",
        "\n",
        "import transformer_lens\n",
        "import transformer_lens.utils as utils\n",
        "from transformer_lens.hook_points import (\n",
        "    HookedRootModule,\n",
        "    HookPoint,\n",
        ")  # Hooking utilities\n",
        "from transformer_lens import HookedTransformer, HookedTransformerConfig, FactoredMatrix, ActivationCache"
      ]
    },
    {
      "cell_type": "markdown",
      "metadata": {
        "id": "hccba0v-IAiF"
      },
      "source": [
        "We turn automatic differentiation off, to save GPU memory, as this notebook focuses on model inference not model training."
      ]
    },
    {
      "cell_type": "code",
      "execution_count": 5,
      "metadata": {
        "id": "cFMTUcQiIAiF",
        "outputId": "be9b8107-9e6c-4ec7-bc6d-7ca7f674301d",
        "colab": {
          "base_uri": "https://localhost:8080/"
        }
      },
      "outputs": [
        {
          "output_type": "execute_result",
          "data": {
            "text/plain": [
              "<torch.autograd.grad_mode.set_grad_enabled at 0x7bd2fadd0be0>"
            ]
          },
          "metadata": {},
          "execution_count": 5
        }
      ],
      "source": [
        "torch.set_grad_enabled(False)"
      ]
    },
    {
      "cell_type": "markdown",
      "metadata": {
        "id": "zyKb4C51IAiG"
      },
      "source": [
        "Plotting helper functions:"
      ]
    },
    {
      "cell_type": "code",
      "execution_count": 6,
      "metadata": {
        "id": "KFs9BrbzIAiH"
      },
      "outputs": [],
      "source": [
        "def imshow(tensor, renderer=None, **kwargs):\n",
        "    px.imshow(utils.to_numpy(tensor), color_continuous_midpoint=0.0, color_continuous_scale=\"RdBu\", **kwargs).show(renderer)\n",
        "\n",
        "def line(tensor, renderer=None, **kwargs):\n",
        "    px.line(y=utils.to_numpy(tensor), **kwargs).show(renderer)\n",
        "\n",
        "def scatter(x, y, xaxis=\"\", yaxis=\"\", caxis=\"\", renderer=None, **kwargs):\n",
        "    x = utils.to_numpy(x)\n",
        "    y = utils.to_numpy(y)\n",
        "    px.scatter(y=y, x=x, labels={\"x\":xaxis, \"y\":yaxis, \"color\":caxis}, **kwargs).show(renderer)"
      ]
    },
    {
      "cell_type": "markdown",
      "source": [
        "# Load Model"
      ],
      "metadata": {
        "id": "OLkInsdjyHMx"
      }
    },
    {
      "cell_type": "markdown",
      "source": [
        "Decide which model to use (eg. gpt2-small vs -medium)"
      ],
      "metadata": {
        "id": "ssJgoKr2yI8O"
      }
    },
    {
      "cell_type": "code",
      "execution_count": 7,
      "metadata": {
        "id": "xLwDyosvIAiJ",
        "colab": {
          "base_uri": "https://localhost:8080/",
          "referenced_widgets": [
            "6f4f45add5ab4865a7a5c1f5e0b2e2b5",
            "163db5476cd444a8a39f040da9f45ffe",
            "ed0978816edf4c38a02339c2ed7e9259",
            "adb959efa8424cebbb9ce125ad90ee10",
            "55dd5ca98c7540cc8c8970b0dbf43728",
            "0533b819887c43fda6c9c83fe9482a68",
            "4536d64d2dc147818ee5b17843f5d34c",
            "18c38b47cba54e28b2c37a32db31d504",
            "1f7560d87d0a4d67a4e0ebe10454ce1b",
            "54f1d71cabaf4edf9b6f902bbe831a90",
            "b5634328df0b45cf83c20750e5d31362",
            "ce79118843064620b342aa459d96e1a9",
            "eefc32200848401abd3b61af3d10bfb2",
            "50eb3adec7b34a509be9d4ff700ee8ae",
            "df30fb6817a84c47a99e374e1d0519ac",
            "b497bbbfcec54ace8457dcff528e0131",
            "f91529c288664f81a9931de23f8c362f",
            "f261b00b68374d99ad152a777533ded1",
            "c2150476e60b4d2fa83d22f413d1d119",
            "3d947bc26aed453cb9f2c3263585c724",
            "ab003edf796041c1aca754560d8ef2ca",
            "726c6d6ae6a14dd59a4c7312d34a300c",
            "d472c715158f4b8fa23e96e33b3f917d",
            "961eae3921a841c0a660b11ed7acfc00",
            "e859fec72ef140e0961c8ba573906b2c",
            "e5fba84e94544739b894d5e31daf11f5",
            "a24d0747b151482fa4def82800cdcd32",
            "b9296498c2694e39ab3a1eac75b63a12",
            "2a981d4922384533b1c4a456d3183691",
            "4e3c332020224363b4bafbc6cb51748b",
            "5e11af9ad74043c3b436d98bfcc977b1",
            "f8f6f9f7b3724b2e8871a0170873bb9c",
            "6d4147192b4a4202a9fc1a4fdb398498",
            "aeca120818bd49d58fe7a8a464b8c3a1",
            "cea7ef3de4cc4eb1a56e46f880dc40b2",
            "98dcd35a9aa74d018257932f88a7b54e",
            "afd712f1c36f4a53b147fdf7642107ca",
            "c6a08806321944318c49816fcb08b43b",
            "92742903360c432eb1ac90252d6d1ec9",
            "5ce321c6797144e8876830e3d6afe982",
            "8b78ea22fc6d4e91a7ebc08a72023224",
            "b6550b33322c4d0a8a1b34887d586324",
            "6fcfefabb01b4bfd954c75c244ffa3c6",
            "7bb61262197f49c1b6b0a6cb694d534e",
            "bf23f7b7a117408cb3a986cdb024013d",
            "9a26d9de62d5477b93d8adbb4bb6603e",
            "2b2728c09d7c4c76b7ad4d4afe1fe9da",
            "0f9fdcf6265a45a98261c4c26ca101c7",
            "bd4691e6f91b4400b21d30330cf5a7ad",
            "19ea92a825944c498b28160226c2a2c1",
            "a563b442b9844efb81dea3af33312962",
            "cee35dd749a04f38a558ba5bd7909995",
            "75236c3bd1e642daa8f97c8c826ecfc6",
            "36c530599f644f6c9b82834e22dcd1a7",
            "6a0f388caa9043a28cde884a5e6b07cb",
            "86eb74ae610e4edea46659e73a65ff63",
            "8ed55d8af406471a96a7fcb48a38c662",
            "4b4e8f8f597142598a043ecfbfb2add9",
            "988f3bc1a70a428ca12e7091539b6923",
            "f89ffbbe2210455d875c6d4ade23492d",
            "b52131ecda5e44a980224edfed3faffd",
            "5aa912106bf547a5a969b49d5d208115",
            "2aada9647ba54dbfafae727f29da4cbe",
            "db17cada49a741a38c37e2e2c8f7ce5a",
            "0d5769d5ab5d4373afff210aeadec396",
            "3a4636b49b04496d8d87329ee76c727e"
          ],
          "height": 0
        },
        "outputId": "1b15d1bb-6c37-4962-9a90-3235730fa619"
      },
      "outputs": [
        {
          "output_type": "display_data",
          "data": {
            "text/plain": [
              "Downloading (…)lve/main/config.json:   0%|          | 0.00/665 [00:00<?, ?B/s]"
            ],
            "application/vnd.jupyter.widget-view+json": {
              "version_major": 2,
              "version_minor": 0,
              "model_id": "6f4f45add5ab4865a7a5c1f5e0b2e2b5"
            }
          },
          "metadata": {}
        },
        {
          "output_type": "display_data",
          "data": {
            "text/plain": [
              "Downloading model.safetensors:   0%|          | 0.00/548M [00:00<?, ?B/s]"
            ],
            "application/vnd.jupyter.widget-view+json": {
              "version_major": 2,
              "version_minor": 0,
              "model_id": "ce79118843064620b342aa459d96e1a9"
            }
          },
          "metadata": {}
        },
        {
          "output_type": "display_data",
          "data": {
            "text/plain": [
              "Downloading (…)neration_config.json:   0%|          | 0.00/124 [00:00<?, ?B/s]"
            ],
            "application/vnd.jupyter.widget-view+json": {
              "version_major": 2,
              "version_minor": 0,
              "model_id": "d472c715158f4b8fa23e96e33b3f917d"
            }
          },
          "metadata": {}
        },
        {
          "output_type": "display_data",
          "data": {
            "text/plain": [
              "Downloading (…)olve/main/vocab.json:   0%|          | 0.00/1.04M [00:00<?, ?B/s]"
            ],
            "application/vnd.jupyter.widget-view+json": {
              "version_major": 2,
              "version_minor": 0,
              "model_id": "aeca120818bd49d58fe7a8a464b8c3a1"
            }
          },
          "metadata": {}
        },
        {
          "output_type": "display_data",
          "data": {
            "text/plain": [
              "Downloading (…)olve/main/merges.txt:   0%|          | 0.00/456k [00:00<?, ?B/s]"
            ],
            "application/vnd.jupyter.widget-view+json": {
              "version_major": 2,
              "version_minor": 0,
              "model_id": "bf23f7b7a117408cb3a986cdb024013d"
            }
          },
          "metadata": {}
        },
        {
          "output_type": "display_data",
          "data": {
            "text/plain": [
              "Downloading (…)/main/tokenizer.json:   0%|          | 0.00/1.36M [00:00<?, ?B/s]"
            ],
            "application/vnd.jupyter.widget-view+json": {
              "version_major": 2,
              "version_minor": 0,
              "model_id": "86eb74ae610e4edea46659e73a65ff63"
            }
          },
          "metadata": {}
        },
        {
          "output_type": "stream",
          "name": "stderr",
          "text": [
            "Using pad_token, but it is not set yet.\n"
          ]
        },
        {
          "output_type": "stream",
          "name": "stdout",
          "text": [
            "Loaded pretrained model gpt2-small into HookedTransformer\n"
          ]
        }
      ],
      "source": [
        "model = HookedTransformer.from_pretrained(\n",
        "    \"gpt2-small\",\n",
        "    center_unembed=True,\n",
        "    center_writing_weights=True,\n",
        "    fold_ln=True,\n",
        "    refactor_factored_attn_matrices=True,\n",
        ")"
      ]
    },
    {
      "cell_type": "markdown",
      "source": [
        "# Import functions from repo"
      ],
      "metadata": {
        "id": "Z4iJEGh6b56v"
      }
    },
    {
      "cell_type": "code",
      "source": [
        "!git clone https://github.com/callummcdougall/ARENA_2.0.git"
      ],
      "metadata": {
        "colab": {
          "base_uri": "https://localhost:8080/"
        },
        "id": "Fdh5--MfYw7-",
        "outputId": "dd1bb2bd-56da-4ed8-f7a4-50d6ba67bd81"
      },
      "execution_count": 8,
      "outputs": [
        {
          "output_type": "stream",
          "name": "stdout",
          "text": [
            "Cloning into 'ARENA_2.0'...\n",
            "remote: Enumerating objects: 9006, done.\u001b[K\n",
            "remote: Counting objects: 100% (9006/9006), done.\u001b[K\n",
            "remote: Compressing objects: 100% (3497/3497), done.\u001b[K\n",
            "remote: Total 9006 (delta 5468), reused 8860 (delta 5412), pack-reused 0\u001b[K\n",
            "Receiving objects: 100% (9006/9006), 155.22 MiB | 13.51 MiB/s, done.\n",
            "Resolving deltas: 100% (5468/5468), done.\n"
          ]
        }
      ]
    },
    {
      "cell_type": "code",
      "source": [
        "cd ARENA_2.0/chapter1_transformers/exercises/part3_indirect_object_identification"
      ],
      "metadata": {
        "colab": {
          "base_uri": "https://localhost:8080/"
        },
        "id": "iZ4C_bsXZFfj",
        "outputId": "4b9d144a-cf7b-4df7-ff20-60d96a5d4f68"
      },
      "execution_count": 9,
      "outputs": [
        {
          "output_type": "stream",
          "name": "stdout",
          "text": [
            "/content/ARENA_2.0/chapter1_transformers/exercises/part3_indirect_object_identification\n"
          ]
        }
      ]
    },
    {
      "cell_type": "code",
      "source": [
        "import ioi_circuit_extraction as ioi_circuit_extraction"
      ],
      "metadata": {
        "id": "OT0Sn571ZnkV"
      },
      "execution_count": 10,
      "outputs": []
    },
    {
      "cell_type": "markdown",
      "source": [
        "# Generate dataset with multiple prompts"
      ],
      "metadata": {
        "id": "cGX9iHAz_UKX"
      }
    },
    {
      "cell_type": "code",
      "source": [
        "class Dataset:\n",
        "    def __init__(self, prompts, tokenizer, S1_is_first=False):\n",
        "        self.prompts = prompts\n",
        "        self.tokenizer = tokenizer\n",
        "        self.N = len(prompts)\n",
        "        self.max_len = max(\n",
        "            [\n",
        "                len(self.tokenizer(prompt[\"text\"]).input_ids)\n",
        "                for prompt in self.prompts\n",
        "            ]\n",
        "        )\n",
        "        # all_ids = [prompt[\"TEMPLATE_IDX\"] for prompt in self.ioi_prompts]\n",
        "        all_ids = [0 for prompt in self.prompts] # only 1 template\n",
        "        all_ids_ar = np.array(all_ids)\n",
        "        self.groups = []\n",
        "        for id in list(set(all_ids)):\n",
        "            self.groups.append(np.where(all_ids_ar == id)[0])\n",
        "\n",
        "        texts = [ prompt[\"text\"] for prompt in self.prompts ]\n",
        "        self.toks = torch.Tensor(self.tokenizer(texts, padding=True).input_ids).type(\n",
        "            torch.int\n",
        "        )\n",
        "        self.io_tokenIDs = [\n",
        "            self.tokenizer.encode(\" \" + prompt[\"S5\"])[0] for prompt in self.prompts\n",
        "        ]\n",
        "        self.s_tokenIDs = [\n",
        "            self.tokenizer.encode(\" \" + prompt[\"S4\"])[0] for prompt in self.prompts\n",
        "        ]\n",
        "\n",
        "        # word_idx: for every prompt, find the token index of each target token and \"end\"\n",
        "        # word_idx is a tensor with an element for each prompt. The element is the targ token's ind at that prompt\n",
        "        self.word_idx = {}\n",
        "        for targ in [key for key in self.prompts[0].keys() if (key != 'text' and key != 'S5')]:\n",
        "            targ_lst = []\n",
        "            for prompt in self.prompts:\n",
        "                input_text = prompt[\"text\"]\n",
        "                tokens = model.tokenizer.tokenize(input_text)\n",
        "                if S1_is_first and targ == \"S1\":  # only use this if first token doesn't have space Ġ in front\n",
        "                    target_token = prompt[targ]\n",
        "                else:\n",
        "                    target_token = \"Ġ\" + prompt[targ]\n",
        "                target_index = tokens.index(target_token)\n",
        "                targ_lst.append(target_index)\n",
        "            self.word_idx[targ] = torch.tensor(targ_lst)\n",
        "\n",
        "        targ_lst = []\n",
        "        for prompt in self.prompts:\n",
        "            input_text = prompt[\"text\"]\n",
        "            tokens = self.tokenizer.tokenize(input_text)\n",
        "            end_token_index = len(tokens) - 1\n",
        "            targ_lst.append(end_token_index)\n",
        "        self.word_idx[\"end\"] = torch.tensor(targ_lst)\n",
        "\n",
        "    def __len__(self):\n",
        "        return self.N"
      ],
      "metadata": {
        "id": "4wXBNWj5FwVn"
      },
      "execution_count": 11,
      "outputs": []
    },
    {
      "cell_type": "markdown",
      "source": [
        "Repalce io_tokens with correct answer (next, which is '5') and s_tokens with incorrect (current, which repeats)"
      ],
      "metadata": {
        "id": "exuTCQ_XmmFP"
      }
    },
    {
      "cell_type": "code",
      "source": [
        "def generate_prompts_list(x ,y):\n",
        "    prompts_list = []\n",
        "    for i in range(x, y):\n",
        "        prompt_dict = {\n",
        "            'S1': str(i),\n",
        "            'S2': str(i+1),\n",
        "            'S3': str(i+2),\n",
        "            'S4': str(i+3),\n",
        "            'S5': str(i+4),\n",
        "            'text': f\"{i} {i+1} {i+2} {i+3}\"\n",
        "        }\n",
        "        prompts_list.append(prompt_dict)\n",
        "    return prompts_list\n",
        "\n",
        "prompts_list = generate_prompts_list(1, 11)\n",
        "dataset = Dataset(prompts_list, model.tokenizer, S1_is_first=True)"
      ],
      "metadata": {
        "id": "u0NPSKcZ1iDe"
      },
      "execution_count": 12,
      "outputs": []
    },
    {
      "cell_type": "code",
      "source": [
        "def generate_prompts_list_corr(x ,y):\n",
        "    prompts_list = []\n",
        "    for i in range(x, y):\n",
        "        prompt_dict = {\n",
        "            'S1': str(i),\n",
        "            'S2': str(i+1),\n",
        "            'S3': str(i+2),\n",
        "            'S4': str(i+2),\n",
        "            'S5': str(i+3),\n",
        "            'text': f\"{i} {i+1} {i+2} {i+2}\"\n",
        "        }\n",
        "        prompts_list.append(prompt_dict)\n",
        "    return prompts_list\n",
        "\n",
        "prompts_list_2 = generate_prompts_list_corr(1, 11)\n",
        "dataset_2 = Dataset(prompts_list_2, model.tokenizer, S1_is_first=True)"
      ],
      "metadata": {
        "id": "dzzLlCqZS_wl"
      },
      "execution_count": 13,
      "outputs": []
    },
    {
      "cell_type": "markdown",
      "source": [
        "Logit diff is correct - incorr token. Here, correct is S5, and incorr is S4.\n",
        "\n",
        "Because of this, it's possible to have logit diffs HIGHER than the \"full circuit\" because the correct token will still be at first place, but the logit scores assigned will just be bigger (perhaps incorrect is scored even lower in the non-full circuit with a higher logit diff score)?"
      ],
      "metadata": {
        "id": "A0W-GaM6Vfm-"
      }
    },
    {
      "cell_type": "markdown",
      "source": [
        "# Ablation Expm Functions"
      ],
      "metadata": {
        "id": "GCCCoO0V7L7J"
      }
    },
    {
      "cell_type": "code",
      "source": [
        "from torch import Tensor\n",
        "\n",
        "def logits_to_ave_logit_diff_2(logits: Float[Tensor, \"batch seq d_vocab\"], dataset: Dataset, per_prompt=False):\n",
        "    '''\n",
        "    Returns logit difference between the correct and incorrect answer.\n",
        "\n",
        "    If per_prompt=True, return the array of differences rather than the average.\n",
        "    '''\n",
        "\n",
        "    # Only the final logits are relevant for the answer\n",
        "    # Get the logits corresponding to the indirect object / subject tokens respectively\n",
        "    io_logits: Float[Tensor, \"batch\"] = logits[range(logits.size(0)), dataset.word_idx[\"end\"], dataset.io_tokenIDs]\n",
        "    s_logits: Float[Tensor, \"batch\"] = logits[range(logits.size(0)), dataset.word_idx[\"end\"], dataset.s_tokenIDs]\n",
        "    # Find logit difference\n",
        "    answer_logit_diff = io_logits - s_logits\n",
        "    return answer_logit_diff if per_prompt else answer_logit_diff.mean()"
      ],
      "metadata": {
        "id": "CgD41x5nbKKP"
      },
      "execution_count": 14,
      "outputs": []
    },
    {
      "cell_type": "code",
      "source": [
        "def mean_ablate_by_lst(lst, model, print_output=True):\n",
        "    CIRCUIT = {\n",
        "        \"number mover\": lst,\n",
        "        \"number mover 4\": lst,\n",
        "        \"number mover 3\": lst,\n",
        "        \"number mover 2\": lst,\n",
        "        \"number mover 1\": lst,\n",
        "    }\n",
        "\n",
        "    SEQ_POS_TO_KEEP = {\n",
        "        \"number mover\": \"end\",\n",
        "        \"number mover 4\": \"S4\",\n",
        "        \"number mover 3\": \"S3\",\n",
        "        \"number mover 2\": \"S2\",\n",
        "        \"number mover 1\": \"S1\",\n",
        "    }\n",
        "\n",
        "    model.reset_hooks(including_permanent=True)  #must do this after running with mean ablation hook\n",
        "\n",
        "    ioi_logits_original, ioi_cache = model.run_with_cache(dataset.toks)\n",
        "\n",
        "    model = ioi_circuit_extraction.add_mean_ablation_hook(model, means_dataset=dataset_2, circuit=CIRCUIT, seq_pos_to_keep=SEQ_POS_TO_KEEP)\n",
        "    ioi_logits_minimal = model(dataset.toks)\n",
        "\n",
        "    orig_score = logits_to_ave_logit_diff_2(ioi_logits_original, dataset)\n",
        "    new_score = logits_to_ave_logit_diff_2(ioi_logits_minimal, dataset)\n",
        "    if print_output:\n",
        "        # print(f\"Average logit difference (IOI dataset, using entire model): {orig_score:.4f}\")\n",
        "        # print(f\"Average logit difference (IOI dataset, only using circuit): {new_score:.4f}\")\n",
        "        print(f\"Average logit difference (circuit / full) %: {100 * new_score / orig_score:.4f}\")\n",
        "    return new_score"
      ],
      "metadata": {
        "id": "LqsdFmbVMntG"
      },
      "execution_count": 20,
      "outputs": []
    },
    {
      "cell_type": "markdown",
      "source": [
        "# Ablate the model and compare with original"
      ],
      "metadata": {
        "id": "Lk3bffnCYq-p"
      }
    },
    {
      "cell_type": "markdown",
      "source": [
        "## Ablate by combos in L0; test via Brute Force"
      ],
      "metadata": {
        "id": "8293qqJoGlA_"
      }
    },
    {
      "cell_type": "markdown",
      "source": [
        "Which combo of heads has the biggest contribution? Remember, looking at one head's combo in isolation isn't enough, as that head may have a huge contribution when paired when another head, and this \"emergent\" effect can't be guessed just by looking at adding them separately from one another."
      ],
      "metadata": {
        "id": "CFgaT2DPIJRz"
      }
    },
    {
      "cell_type": "markdown",
      "source": [
        "We want to automate this search process by having the script check the score against a threshold. If we try brute force of 12 heads in L0 for all possible subset sizes, this is around 4000, which is feasible to compute (but does not scale up, esp when we want to find paths in later layers which depend on combinations ACROSS layers, not just in 1 layer). We can first try brute force and rank the top 10 combos."
      ],
      "metadata": {
        "id": "NqbzB20IIeUp"
      }
    },
    {
      "cell_type": "code",
      "source": [
        "from itertools import combinations\n",
        "\n",
        "heads = range(12)\n",
        "all_combinations = []\n",
        "\n",
        "for r in range(1, len(heads) + 1):\n",
        "    for combo in combinations(heads, r):\n",
        "        all_combinations.append([(0, head) for head in combo])\n",
        "\n",
        "print(all_combinations)"
      ],
      "metadata": {
        "colab": {
          "base_uri": "https://localhost:8080/"
        },
        "id": "xRMdgX7oOa2Q",
        "outputId": "5b5b1e98-2299-44b5-a4be-04b4cff1168a"
      },
      "execution_count": 28,
      "outputs": [
        {
          "output_type": "stream",
          "name": "stdout",
          "text": [
            "[[(0, 0)], [(0, 1)], [(0, 2)], [(0, 3)], [(0, 4)], [(0, 5)], [(0, 6)], [(0, 7)], [(0, 8)], [(0, 9)], [(0, 10)], [(0, 11)], [(0, 0), (0, 1)], [(0, 0), (0, 2)], [(0, 0), (0, 3)], [(0, 0), (0, 4)], [(0, 0), (0, 5)], [(0, 0), (0, 6)], [(0, 0), (0, 7)], [(0, 0), (0, 8)], [(0, 0), (0, 9)], [(0, 0), (0, 10)], [(0, 0), (0, 11)], [(0, 1), (0, 2)], [(0, 1), (0, 3)], [(0, 1), (0, 4)], [(0, 1), (0, 5)], [(0, 1), (0, 6)], [(0, 1), (0, 7)], [(0, 1), (0, 8)], [(0, 1), (0, 9)], [(0, 1), (0, 10)], [(0, 1), (0, 11)], [(0, 2), (0, 3)], [(0, 2), (0, 4)], [(0, 2), (0, 5)], [(0, 2), (0, 6)], [(0, 2), (0, 7)], [(0, 2), (0, 8)], [(0, 2), (0, 9)], [(0, 2), (0, 10)], [(0, 2), (0, 11)], [(0, 3), (0, 4)], [(0, 3), (0, 5)], [(0, 3), (0, 6)], [(0, 3), (0, 7)], [(0, 3), (0, 8)], [(0, 3), (0, 9)], [(0, 3), (0, 10)], [(0, 3), (0, 11)], [(0, 4), (0, 5)], [(0, 4), (0, 6)], [(0, 4), (0, 7)], [(0, 4), (0, 8)], [(0, 4), (0, 9)], [(0, 4), (0, 10)], [(0, 4), (0, 11)], [(0, 5), (0, 6)], [(0, 5), (0, 7)], [(0, 5), (0, 8)], [(0, 5), (0, 9)], [(0, 5), (0, 10)], [(0, 5), (0, 11)], [(0, 6), (0, 7)], [(0, 6), (0, 8)], [(0, 6), (0, 9)], [(0, 6), (0, 10)], [(0, 6), (0, 11)], [(0, 7), (0, 8)], [(0, 7), (0, 9)], [(0, 7), (0, 10)], [(0, 7), (0, 11)], [(0, 8), (0, 9)], [(0, 8), (0, 10)], [(0, 8), (0, 11)], [(0, 9), (0, 10)], [(0, 9), (0, 11)], [(0, 10), (0, 11)], [(0, 0), (0, 1), (0, 2)], [(0, 0), (0, 1), (0, 3)], [(0, 0), (0, 1), (0, 4)], [(0, 0), (0, 1), (0, 5)], [(0, 0), (0, 1), (0, 6)], [(0, 0), (0, 1), (0, 7)], [(0, 0), (0, 1), (0, 8)], [(0, 0), (0, 1), (0, 9)], [(0, 0), (0, 1), (0, 10)], [(0, 0), (0, 1), (0, 11)], [(0, 0), (0, 2), (0, 3)], [(0, 0), (0, 2), (0, 4)], [(0, 0), (0, 2), (0, 5)], [(0, 0), (0, 2), (0, 6)], [(0, 0), (0, 2), (0, 7)], [(0, 0), (0, 2), (0, 8)], [(0, 0), (0, 2), (0, 9)], [(0, 0), (0, 2), (0, 10)], [(0, 0), (0, 2), (0, 11)], [(0, 0), (0, 3), (0, 4)], [(0, 0), (0, 3), (0, 5)], [(0, 0), (0, 3), (0, 6)], [(0, 0), (0, 3), (0, 7)], [(0, 0), (0, 3), (0, 8)], [(0, 0), (0, 3), (0, 9)], [(0, 0), (0, 3), (0, 10)], [(0, 0), (0, 3), (0, 11)], [(0, 0), (0, 4), (0, 5)], [(0, 0), (0, 4), (0, 6)], [(0, 0), (0, 4), (0, 7)], [(0, 0), (0, 4), (0, 8)], [(0, 0), (0, 4), (0, 9)], [(0, 0), (0, 4), (0, 10)], [(0, 0), (0, 4), (0, 11)], [(0, 0), (0, 5), (0, 6)], [(0, 0), (0, 5), (0, 7)], [(0, 0), (0, 5), (0, 8)], [(0, 0), (0, 5), (0, 9)], [(0, 0), (0, 5), (0, 10)], [(0, 0), (0, 5), (0, 11)], [(0, 0), (0, 6), (0, 7)], [(0, 0), (0, 6), (0, 8)], [(0, 0), (0, 6), (0, 9)], [(0, 0), (0, 6), (0, 10)], [(0, 0), (0, 6), (0, 11)], [(0, 0), (0, 7), (0, 8)], [(0, 0), (0, 7), (0, 9)], [(0, 0), (0, 7), (0, 10)], [(0, 0), (0, 7), (0, 11)], [(0, 0), (0, 8), (0, 9)], [(0, 0), (0, 8), (0, 10)], [(0, 0), (0, 8), (0, 11)], [(0, 0), (0, 9), (0, 10)], [(0, 0), (0, 9), (0, 11)], [(0, 0), (0, 10), (0, 11)], [(0, 1), (0, 2), (0, 3)], [(0, 1), (0, 2), (0, 4)], [(0, 1), (0, 2), (0, 5)], [(0, 1), (0, 2), (0, 6)], [(0, 1), (0, 2), (0, 7)], [(0, 1), (0, 2), (0, 8)], [(0, 1), (0, 2), (0, 9)], [(0, 1), (0, 2), (0, 10)], [(0, 1), (0, 2), (0, 11)], [(0, 1), (0, 3), (0, 4)], [(0, 1), (0, 3), (0, 5)], [(0, 1), (0, 3), (0, 6)], [(0, 1), (0, 3), (0, 7)], [(0, 1), (0, 3), (0, 8)], [(0, 1), (0, 3), (0, 9)], [(0, 1), (0, 3), (0, 10)], [(0, 1), (0, 3), (0, 11)], [(0, 1), (0, 4), (0, 5)], [(0, 1), (0, 4), (0, 6)], [(0, 1), (0, 4), (0, 7)], [(0, 1), (0, 4), (0, 8)], [(0, 1), (0, 4), (0, 9)], [(0, 1), (0, 4), (0, 10)], [(0, 1), (0, 4), (0, 11)], [(0, 1), (0, 5), (0, 6)], [(0, 1), (0, 5), (0, 7)], [(0, 1), (0, 5), (0, 8)], [(0, 1), (0, 5), (0, 9)], [(0, 1), (0, 5), (0, 10)], [(0, 1), (0, 5), (0, 11)], [(0, 1), (0, 6), (0, 7)], [(0, 1), (0, 6), (0, 8)], [(0, 1), (0, 6), (0, 9)], [(0, 1), (0, 6), (0, 10)], [(0, 1), (0, 6), (0, 11)], [(0, 1), (0, 7), (0, 8)], [(0, 1), (0, 7), (0, 9)], [(0, 1), (0, 7), (0, 10)], [(0, 1), (0, 7), (0, 11)], [(0, 1), (0, 8), (0, 9)], [(0, 1), (0, 8), (0, 10)], [(0, 1), (0, 8), (0, 11)], [(0, 1), (0, 9), (0, 10)], [(0, 1), (0, 9), (0, 11)], [(0, 1), (0, 10), (0, 11)], [(0, 2), (0, 3), (0, 4)], [(0, 2), (0, 3), (0, 5)], [(0, 2), (0, 3), (0, 6)], [(0, 2), (0, 3), (0, 7)], [(0, 2), (0, 3), (0, 8)], [(0, 2), (0, 3), (0, 9)], [(0, 2), (0, 3), (0, 10)], [(0, 2), (0, 3), (0, 11)], [(0, 2), (0, 4), (0, 5)], [(0, 2), (0, 4), (0, 6)], [(0, 2), (0, 4), (0, 7)], [(0, 2), (0, 4), (0, 8)], [(0, 2), (0, 4), (0, 9)], [(0, 2), (0, 4), (0, 10)], [(0, 2), (0, 4), (0, 11)], [(0, 2), (0, 5), (0, 6)], [(0, 2), (0, 5), (0, 7)], [(0, 2), (0, 5), (0, 8)], [(0, 2), (0, 5), (0, 9)], [(0, 2), (0, 5), (0, 10)], [(0, 2), (0, 5), (0, 11)], [(0, 2), (0, 6), (0, 7)], [(0, 2), (0, 6), (0, 8)], [(0, 2), (0, 6), (0, 9)], [(0, 2), (0, 6), (0, 10)], [(0, 2), (0, 6), (0, 11)], [(0, 2), (0, 7), (0, 8)], [(0, 2), (0, 7), (0, 9)], [(0, 2), (0, 7), (0, 10)], [(0, 2), (0, 7), (0, 11)], [(0, 2), (0, 8), (0, 9)], [(0, 2), (0, 8), (0, 10)], [(0, 2), (0, 8), (0, 11)], [(0, 2), (0, 9), (0, 10)], [(0, 2), (0, 9), (0, 11)], [(0, 2), (0, 10), (0, 11)], [(0, 3), (0, 4), (0, 5)], [(0, 3), (0, 4), (0, 6)], [(0, 3), (0, 4), (0, 7)], [(0, 3), (0, 4), (0, 8)], [(0, 3), (0, 4), (0, 9)], [(0, 3), (0, 4), (0, 10)], [(0, 3), (0, 4), (0, 11)], [(0, 3), (0, 5), (0, 6)], [(0, 3), (0, 5), (0, 7)], [(0, 3), (0, 5), (0, 8)], [(0, 3), (0, 5), (0, 9)], [(0, 3), (0, 5), (0, 10)], [(0, 3), (0, 5), (0, 11)], [(0, 3), (0, 6), (0, 7)], [(0, 3), (0, 6), (0, 8)], [(0, 3), (0, 6), (0, 9)], [(0, 3), (0, 6), (0, 10)], [(0, 3), (0, 6), (0, 11)], [(0, 3), (0, 7), (0, 8)], [(0, 3), (0, 7), (0, 9)], [(0, 3), (0, 7), (0, 10)], [(0, 3), (0, 7), (0, 11)], [(0, 3), (0, 8), (0, 9)], [(0, 3), (0, 8), (0, 10)], [(0, 3), (0, 8), (0, 11)], [(0, 3), (0, 9), (0, 10)], [(0, 3), (0, 9), (0, 11)], [(0, 3), (0, 10), (0, 11)], [(0, 4), (0, 5), (0, 6)], [(0, 4), (0, 5), (0, 7)], [(0, 4), (0, 5), (0, 8)], [(0, 4), (0, 5), (0, 9)], [(0, 4), (0, 5), (0, 10)], [(0, 4), (0, 5), (0, 11)], [(0, 4), (0, 6), (0, 7)], [(0, 4), (0, 6), (0, 8)], [(0, 4), (0, 6), (0, 9)], [(0, 4), (0, 6), (0, 10)], [(0, 4), (0, 6), (0, 11)], [(0, 4), (0, 7), (0, 8)], [(0, 4), (0, 7), (0, 9)], [(0, 4), (0, 7), (0, 10)], [(0, 4), (0, 7), (0, 11)], [(0, 4), (0, 8), (0, 9)], [(0, 4), (0, 8), (0, 10)], [(0, 4), (0, 8), (0, 11)], [(0, 4), (0, 9), (0, 10)], [(0, 4), (0, 9), (0, 11)], [(0, 4), (0, 10), (0, 11)], [(0, 5), (0, 6), (0, 7)], [(0, 5), (0, 6), (0, 8)], [(0, 5), (0, 6), (0, 9)], [(0, 5), (0, 6), (0, 10)], [(0, 5), (0, 6), (0, 11)], [(0, 5), (0, 7), (0, 8)], [(0, 5), (0, 7), (0, 9)], [(0, 5), (0, 7), (0, 10)], [(0, 5), (0, 7), (0, 11)], [(0, 5), (0, 8), (0, 9)], [(0, 5), (0, 8), (0, 10)], [(0, 5), (0, 8), (0, 11)], [(0, 5), (0, 9), (0, 10)], [(0, 5), (0, 9), (0, 11)], [(0, 5), (0, 10), (0, 11)], [(0, 6), (0, 7), (0, 8)], [(0, 6), (0, 7), (0, 9)], [(0, 6), (0, 7), (0, 10)], [(0, 6), (0, 7), (0, 11)], [(0, 6), (0, 8), (0, 9)], [(0, 6), (0, 8), (0, 10)], [(0, 6), (0, 8), (0, 11)], [(0, 6), (0, 9), (0, 10)], [(0, 6), (0, 9), (0, 11)], [(0, 6), (0, 10), (0, 11)], [(0, 7), (0, 8), (0, 9)], [(0, 7), (0, 8), (0, 10)], [(0, 7), (0, 8), (0, 11)], [(0, 7), (0, 9), (0, 10)], [(0, 7), (0, 9), (0, 11)], [(0, 7), (0, 10), (0, 11)], [(0, 8), (0, 9), (0, 10)], [(0, 8), (0, 9), (0, 11)], [(0, 8), (0, 10), (0, 11)], [(0, 9), (0, 10), (0, 11)], [(0, 0), (0, 1), (0, 2), (0, 3)], [(0, 0), (0, 1), (0, 2), (0, 4)], [(0, 0), (0, 1), (0, 2), (0, 5)], [(0, 0), (0, 1), (0, 2), (0, 6)], [(0, 0), (0, 1), (0, 2), (0, 7)], [(0, 0), (0, 1), (0, 2), (0, 8)], [(0, 0), (0, 1), (0, 2), (0, 9)], [(0, 0), (0, 1), (0, 2), (0, 10)], [(0, 0), (0, 1), (0, 2), (0, 11)], [(0, 0), (0, 1), (0, 3), (0, 4)], [(0, 0), (0, 1), (0, 3), (0, 5)], [(0, 0), (0, 1), (0, 3), (0, 6)], [(0, 0), (0, 1), (0, 3), (0, 7)], [(0, 0), (0, 1), (0, 3), (0, 8)], [(0, 0), (0, 1), (0, 3), (0, 9)], [(0, 0), (0, 1), (0, 3), (0, 10)], [(0, 0), (0, 1), (0, 3), (0, 11)], [(0, 0), (0, 1), (0, 4), (0, 5)], [(0, 0), (0, 1), (0, 4), (0, 6)], [(0, 0), (0, 1), (0, 4), (0, 7)], [(0, 0), (0, 1), (0, 4), (0, 8)], [(0, 0), (0, 1), (0, 4), (0, 9)], [(0, 0), (0, 1), (0, 4), (0, 10)], [(0, 0), (0, 1), (0, 4), (0, 11)], [(0, 0), (0, 1), (0, 5), (0, 6)], [(0, 0), (0, 1), (0, 5), (0, 7)], [(0, 0), (0, 1), (0, 5), (0, 8)], [(0, 0), (0, 1), (0, 5), (0, 9)], [(0, 0), (0, 1), (0, 5), (0, 10)], [(0, 0), (0, 1), (0, 5), (0, 11)], [(0, 0), (0, 1), (0, 6), (0, 7)], [(0, 0), (0, 1), (0, 6), (0, 8)], [(0, 0), (0, 1), (0, 6), (0, 9)], [(0, 0), (0, 1), (0, 6), (0, 10)], [(0, 0), (0, 1), (0, 6), (0, 11)], [(0, 0), (0, 1), (0, 7), (0, 8)], [(0, 0), (0, 1), (0, 7), (0, 9)], [(0, 0), (0, 1), (0, 7), (0, 10)], [(0, 0), (0, 1), (0, 7), (0, 11)], [(0, 0), (0, 1), (0, 8), (0, 9)], [(0, 0), (0, 1), (0, 8), (0, 10)], [(0, 0), (0, 1), (0, 8), (0, 11)], [(0, 0), (0, 1), (0, 9), (0, 10)], [(0, 0), (0, 1), (0, 9), (0, 11)], [(0, 0), (0, 1), (0, 10), (0, 11)], [(0, 0), (0, 2), (0, 3), (0, 4)], [(0, 0), (0, 2), (0, 3), (0, 5)], [(0, 0), (0, 2), (0, 3), (0, 6)], [(0, 0), (0, 2), (0, 3), (0, 7)], [(0, 0), (0, 2), (0, 3), (0, 8)], [(0, 0), (0, 2), (0, 3), (0, 9)], [(0, 0), (0, 2), (0, 3), (0, 10)], [(0, 0), (0, 2), (0, 3), (0, 11)], [(0, 0), (0, 2), (0, 4), (0, 5)], [(0, 0), (0, 2), (0, 4), (0, 6)], [(0, 0), (0, 2), (0, 4), (0, 7)], [(0, 0), (0, 2), (0, 4), (0, 8)], [(0, 0), (0, 2), (0, 4), (0, 9)], [(0, 0), (0, 2), (0, 4), (0, 10)], [(0, 0), (0, 2), (0, 4), (0, 11)], [(0, 0), (0, 2), (0, 5), (0, 6)], [(0, 0), (0, 2), (0, 5), (0, 7)], [(0, 0), (0, 2), (0, 5), (0, 8)], [(0, 0), (0, 2), (0, 5), (0, 9)], [(0, 0), (0, 2), (0, 5), (0, 10)], [(0, 0), (0, 2), (0, 5), (0, 11)], [(0, 0), (0, 2), (0, 6), (0, 7)], [(0, 0), (0, 2), (0, 6), (0, 8)], [(0, 0), (0, 2), (0, 6), (0, 9)], [(0, 0), (0, 2), (0, 6), (0, 10)], [(0, 0), (0, 2), (0, 6), (0, 11)], [(0, 0), (0, 2), (0, 7), (0, 8)], [(0, 0), (0, 2), (0, 7), (0, 9)], [(0, 0), (0, 2), (0, 7), (0, 10)], [(0, 0), (0, 2), (0, 7), (0, 11)], [(0, 0), (0, 2), (0, 8), (0, 9)], [(0, 0), (0, 2), (0, 8), (0, 10)], [(0, 0), (0, 2), (0, 8), (0, 11)], [(0, 0), (0, 2), (0, 9), (0, 10)], [(0, 0), (0, 2), (0, 9), (0, 11)], [(0, 0), (0, 2), (0, 10), (0, 11)], [(0, 0), (0, 3), (0, 4), (0, 5)], [(0, 0), (0, 3), (0, 4), (0, 6)], [(0, 0), (0, 3), (0, 4), (0, 7)], [(0, 0), (0, 3), (0, 4), (0, 8)], [(0, 0), (0, 3), (0, 4), (0, 9)], [(0, 0), (0, 3), (0, 4), (0, 10)], [(0, 0), (0, 3), (0, 4), (0, 11)], [(0, 0), (0, 3), (0, 5), (0, 6)], [(0, 0), (0, 3), (0, 5), (0, 7)], [(0, 0), (0, 3), (0, 5), (0, 8)], [(0, 0), (0, 3), (0, 5), (0, 9)], [(0, 0), (0, 3), (0, 5), (0, 10)], [(0, 0), (0, 3), (0, 5), (0, 11)], [(0, 0), (0, 3), (0, 6), (0, 7)], [(0, 0), (0, 3), (0, 6), (0, 8)], [(0, 0), (0, 3), (0, 6), (0, 9)], [(0, 0), (0, 3), (0, 6), (0, 10)], [(0, 0), (0, 3), (0, 6), (0, 11)], [(0, 0), (0, 3), (0, 7), (0, 8)], [(0, 0), (0, 3), (0, 7), (0, 9)], [(0, 0), (0, 3), (0, 7), (0, 10)], [(0, 0), (0, 3), (0, 7), (0, 11)], [(0, 0), (0, 3), (0, 8), (0, 9)], [(0, 0), (0, 3), (0, 8), (0, 10)], [(0, 0), (0, 3), (0, 8), (0, 11)], [(0, 0), (0, 3), (0, 9), (0, 10)], [(0, 0), (0, 3), (0, 9), (0, 11)], [(0, 0), (0, 3), (0, 10), (0, 11)], [(0, 0), (0, 4), (0, 5), (0, 6)], [(0, 0), (0, 4), (0, 5), (0, 7)], [(0, 0), (0, 4), (0, 5), (0, 8)], [(0, 0), (0, 4), (0, 5), (0, 9)], [(0, 0), (0, 4), (0, 5), (0, 10)], [(0, 0), (0, 4), (0, 5), (0, 11)], [(0, 0), (0, 4), (0, 6), (0, 7)], [(0, 0), (0, 4), (0, 6), (0, 8)], [(0, 0), (0, 4), (0, 6), (0, 9)], [(0, 0), (0, 4), (0, 6), (0, 10)], [(0, 0), (0, 4), (0, 6), (0, 11)], [(0, 0), (0, 4), (0, 7), (0, 8)], [(0, 0), (0, 4), (0, 7), (0, 9)], [(0, 0), (0, 4), (0, 7), (0, 10)], [(0, 0), (0, 4), (0, 7), (0, 11)], [(0, 0), (0, 4), (0, 8), (0, 9)], [(0, 0), (0, 4), (0, 8), (0, 10)], [(0, 0), (0, 4), (0, 8), (0, 11)], [(0, 0), (0, 4), (0, 9), (0, 10)], [(0, 0), (0, 4), (0, 9), (0, 11)], [(0, 0), (0, 4), (0, 10), (0, 11)], [(0, 0), (0, 5), (0, 6), (0, 7)], [(0, 0), (0, 5), (0, 6), (0, 8)], [(0, 0), (0, 5), (0, 6), (0, 9)], [(0, 0), (0, 5), (0, 6), (0, 10)], [(0, 0), (0, 5), (0, 6), (0, 11)], [(0, 0), (0, 5), (0, 7), (0, 8)], [(0, 0), (0, 5), (0, 7), (0, 9)], [(0, 0), (0, 5), (0, 7), (0, 10)], [(0, 0), (0, 5), (0, 7), (0, 11)], [(0, 0), (0, 5), (0, 8), (0, 9)], [(0, 0), (0, 5), (0, 8), (0, 10)], [(0, 0), (0, 5), (0, 8), (0, 11)], [(0, 0), (0, 5), (0, 9), (0, 10)], [(0, 0), (0, 5), (0, 9), (0, 11)], [(0, 0), (0, 5), (0, 10), (0, 11)], [(0, 0), (0, 6), (0, 7), (0, 8)], [(0, 0), (0, 6), (0, 7), (0, 9)], [(0, 0), (0, 6), (0, 7), (0, 10)], [(0, 0), (0, 6), (0, 7), (0, 11)], [(0, 0), (0, 6), (0, 8), (0, 9)], [(0, 0), (0, 6), (0, 8), (0, 10)], [(0, 0), (0, 6), (0, 8), (0, 11)], [(0, 0), (0, 6), (0, 9), (0, 10)], [(0, 0), (0, 6), (0, 9), (0, 11)], [(0, 0), (0, 6), (0, 10), (0, 11)], [(0, 0), (0, 7), (0, 8), (0, 9)], [(0, 0), (0, 7), (0, 8), (0, 10)], [(0, 0), (0, 7), (0, 8), (0, 11)], [(0, 0), (0, 7), (0, 9), (0, 10)], [(0, 0), (0, 7), (0, 9), (0, 11)], [(0, 0), (0, 7), (0, 10), (0, 11)], [(0, 0), (0, 8), (0, 9), (0, 10)], [(0, 0), (0, 8), (0, 9), (0, 11)], [(0, 0), (0, 8), (0, 10), (0, 11)], [(0, 0), (0, 9), (0, 10), (0, 11)], [(0, 1), (0, 2), (0, 3), (0, 4)], [(0, 1), (0, 2), (0, 3), (0, 5)], [(0, 1), (0, 2), (0, 3), (0, 6)], [(0, 1), (0, 2), (0, 3), (0, 7)], [(0, 1), (0, 2), (0, 3), (0, 8)], [(0, 1), (0, 2), (0, 3), (0, 9)], [(0, 1), (0, 2), (0, 3), (0, 10)], [(0, 1), (0, 2), (0, 3), (0, 11)], [(0, 1), (0, 2), (0, 4), (0, 5)], [(0, 1), (0, 2), (0, 4), (0, 6)], [(0, 1), (0, 2), (0, 4), (0, 7)], [(0, 1), (0, 2), (0, 4), (0, 8)], [(0, 1), (0, 2), (0, 4), (0, 9)], [(0, 1), (0, 2), (0, 4), (0, 10)], [(0, 1), (0, 2), (0, 4), (0, 11)], [(0, 1), (0, 2), (0, 5), (0, 6)], [(0, 1), (0, 2), (0, 5), (0, 7)], [(0, 1), (0, 2), (0, 5), (0, 8)], [(0, 1), (0, 2), (0, 5), (0, 9)], [(0, 1), (0, 2), (0, 5), (0, 10)], [(0, 1), (0, 2), (0, 5), (0, 11)], [(0, 1), (0, 2), (0, 6), (0, 7)], [(0, 1), (0, 2), (0, 6), (0, 8)], [(0, 1), (0, 2), (0, 6), (0, 9)], [(0, 1), (0, 2), (0, 6), (0, 10)], [(0, 1), (0, 2), (0, 6), (0, 11)], [(0, 1), (0, 2), (0, 7), (0, 8)], [(0, 1), (0, 2), (0, 7), (0, 9)], [(0, 1), (0, 2), (0, 7), (0, 10)], [(0, 1), (0, 2), (0, 7), (0, 11)], [(0, 1), (0, 2), (0, 8), (0, 9)], [(0, 1), (0, 2), (0, 8), (0, 10)], [(0, 1), (0, 2), (0, 8), (0, 11)], [(0, 1), (0, 2), (0, 9), (0, 10)], [(0, 1), (0, 2), (0, 9), (0, 11)], [(0, 1), (0, 2), (0, 10), (0, 11)], [(0, 1), (0, 3), (0, 4), (0, 5)], [(0, 1), (0, 3), (0, 4), (0, 6)], [(0, 1), (0, 3), (0, 4), (0, 7)], [(0, 1), (0, 3), (0, 4), (0, 8)], [(0, 1), (0, 3), (0, 4), (0, 9)], [(0, 1), (0, 3), (0, 4), (0, 10)], [(0, 1), (0, 3), (0, 4), (0, 11)], [(0, 1), (0, 3), (0, 5), (0, 6)], [(0, 1), (0, 3), (0, 5), (0, 7)], [(0, 1), (0, 3), (0, 5), (0, 8)], [(0, 1), (0, 3), (0, 5), (0, 9)], [(0, 1), (0, 3), (0, 5), (0, 10)], [(0, 1), (0, 3), (0, 5), (0, 11)], [(0, 1), (0, 3), (0, 6), (0, 7)], [(0, 1), (0, 3), (0, 6), (0, 8)], [(0, 1), (0, 3), (0, 6), (0, 9)], [(0, 1), (0, 3), (0, 6), (0, 10)], [(0, 1), (0, 3), (0, 6), (0, 11)], [(0, 1), (0, 3), (0, 7), (0, 8)], [(0, 1), (0, 3), (0, 7), (0, 9)], [(0, 1), (0, 3), (0, 7), (0, 10)], [(0, 1), (0, 3), (0, 7), (0, 11)], [(0, 1), (0, 3), (0, 8), (0, 9)], [(0, 1), (0, 3), (0, 8), (0, 10)], [(0, 1), (0, 3), (0, 8), (0, 11)], [(0, 1), (0, 3), (0, 9), (0, 10)], [(0, 1), (0, 3), (0, 9), (0, 11)], [(0, 1), (0, 3), (0, 10), (0, 11)], [(0, 1), (0, 4), (0, 5), (0, 6)], [(0, 1), (0, 4), (0, 5), (0, 7)], [(0, 1), (0, 4), (0, 5), (0, 8)], [(0, 1), (0, 4), (0, 5), (0, 9)], [(0, 1), (0, 4), (0, 5), (0, 10)], [(0, 1), (0, 4), (0, 5), (0, 11)], [(0, 1), (0, 4), (0, 6), (0, 7)], [(0, 1), (0, 4), (0, 6), (0, 8)], [(0, 1), (0, 4), (0, 6), (0, 9)], [(0, 1), (0, 4), (0, 6), (0, 10)], [(0, 1), (0, 4), (0, 6), (0, 11)], [(0, 1), (0, 4), (0, 7), (0, 8)], [(0, 1), (0, 4), (0, 7), (0, 9)], [(0, 1), (0, 4), (0, 7), (0, 10)], [(0, 1), (0, 4), (0, 7), (0, 11)], [(0, 1), (0, 4), (0, 8), (0, 9)], [(0, 1), (0, 4), (0, 8), (0, 10)], [(0, 1), (0, 4), (0, 8), (0, 11)], [(0, 1), (0, 4), (0, 9), (0, 10)], [(0, 1), (0, 4), (0, 9), (0, 11)], [(0, 1), (0, 4), (0, 10), (0, 11)], [(0, 1), (0, 5), (0, 6), (0, 7)], [(0, 1), (0, 5), (0, 6), (0, 8)], [(0, 1), (0, 5), (0, 6), (0, 9)], [(0, 1), (0, 5), (0, 6), (0, 10)], [(0, 1), (0, 5), (0, 6), (0, 11)], [(0, 1), (0, 5), (0, 7), (0, 8)], [(0, 1), (0, 5), (0, 7), (0, 9)], [(0, 1), (0, 5), (0, 7), (0, 10)], [(0, 1), (0, 5), (0, 7), (0, 11)], [(0, 1), (0, 5), (0, 8), (0, 9)], [(0, 1), (0, 5), (0, 8), (0, 10)], [(0, 1), (0, 5), (0, 8), (0, 11)], [(0, 1), (0, 5), (0, 9), (0, 10)], [(0, 1), (0, 5), (0, 9), (0, 11)], [(0, 1), (0, 5), (0, 10), (0, 11)], [(0, 1), (0, 6), (0, 7), (0, 8)], [(0, 1), (0, 6), (0, 7), (0, 9)], [(0, 1), (0, 6), (0, 7), (0, 10)], [(0, 1), (0, 6), (0, 7), (0, 11)], [(0, 1), (0, 6), (0, 8), (0, 9)], [(0, 1), (0, 6), (0, 8), (0, 10)], [(0, 1), (0, 6), (0, 8), (0, 11)], [(0, 1), (0, 6), (0, 9), (0, 10)], [(0, 1), (0, 6), (0, 9), (0, 11)], [(0, 1), (0, 6), (0, 10), (0, 11)], [(0, 1), (0, 7), (0, 8), (0, 9)], [(0, 1), (0, 7), (0, 8), (0, 10)], [(0, 1), (0, 7), (0, 8), (0, 11)], [(0, 1), (0, 7), (0, 9), (0, 10)], [(0, 1), (0, 7), (0, 9), (0, 11)], [(0, 1), (0, 7), (0, 10), (0, 11)], [(0, 1), (0, 8), (0, 9), (0, 10)], [(0, 1), (0, 8), (0, 9), (0, 11)], [(0, 1), (0, 8), (0, 10), (0, 11)], [(0, 1), (0, 9), (0, 10), (0, 11)], [(0, 2), (0, 3), (0, 4), (0, 5)], [(0, 2), (0, 3), (0, 4), (0, 6)], [(0, 2), (0, 3), (0, 4), (0, 7)], [(0, 2), (0, 3), (0, 4), (0, 8)], [(0, 2), (0, 3), (0, 4), (0, 9)], [(0, 2), (0, 3), (0, 4), (0, 10)], [(0, 2), (0, 3), (0, 4), (0, 11)], [(0, 2), (0, 3), (0, 5), (0, 6)], [(0, 2), (0, 3), (0, 5), (0, 7)], [(0, 2), (0, 3), (0, 5), (0, 8)], [(0, 2), (0, 3), (0, 5), (0, 9)], [(0, 2), (0, 3), (0, 5), (0, 10)], [(0, 2), (0, 3), (0, 5), (0, 11)], [(0, 2), (0, 3), (0, 6), (0, 7)], [(0, 2), (0, 3), (0, 6), (0, 8)], [(0, 2), (0, 3), (0, 6), (0, 9)], [(0, 2), (0, 3), (0, 6), (0, 10)], [(0, 2), (0, 3), (0, 6), (0, 11)], [(0, 2), (0, 3), (0, 7), (0, 8)], [(0, 2), (0, 3), (0, 7), (0, 9)], [(0, 2), (0, 3), (0, 7), (0, 10)], [(0, 2), (0, 3), (0, 7), (0, 11)], [(0, 2), (0, 3), (0, 8), (0, 9)], [(0, 2), (0, 3), (0, 8), (0, 10)], [(0, 2), (0, 3), (0, 8), (0, 11)], [(0, 2), (0, 3), (0, 9), (0, 10)], [(0, 2), (0, 3), (0, 9), (0, 11)], [(0, 2), (0, 3), (0, 10), (0, 11)], [(0, 2), (0, 4), (0, 5), (0, 6)], [(0, 2), (0, 4), (0, 5), (0, 7)], [(0, 2), (0, 4), (0, 5), (0, 8)], [(0, 2), (0, 4), (0, 5), (0, 9)], [(0, 2), (0, 4), (0, 5), (0, 10)], [(0, 2), (0, 4), (0, 5), (0, 11)], [(0, 2), (0, 4), (0, 6), (0, 7)], [(0, 2), (0, 4), (0, 6), (0, 8)], [(0, 2), (0, 4), (0, 6), (0, 9)], [(0, 2), (0, 4), (0, 6), (0, 10)], [(0, 2), (0, 4), (0, 6), (0, 11)], [(0, 2), (0, 4), (0, 7), (0, 8)], [(0, 2), (0, 4), (0, 7), (0, 9)], [(0, 2), (0, 4), (0, 7), (0, 10)], [(0, 2), (0, 4), (0, 7), (0, 11)], [(0, 2), (0, 4), (0, 8), (0, 9)], [(0, 2), (0, 4), (0, 8), (0, 10)], [(0, 2), (0, 4), (0, 8), (0, 11)], [(0, 2), (0, 4), (0, 9), (0, 10)], [(0, 2), (0, 4), (0, 9), (0, 11)], [(0, 2), (0, 4), (0, 10), (0, 11)], [(0, 2), (0, 5), (0, 6), (0, 7)], [(0, 2), (0, 5), (0, 6), (0, 8)], [(0, 2), (0, 5), (0, 6), (0, 9)], [(0, 2), (0, 5), (0, 6), (0, 10)], [(0, 2), (0, 5), (0, 6), (0, 11)], [(0, 2), (0, 5), (0, 7), (0, 8)], [(0, 2), (0, 5), (0, 7), (0, 9)], [(0, 2), (0, 5), (0, 7), (0, 10)], [(0, 2), (0, 5), (0, 7), (0, 11)], [(0, 2), (0, 5), (0, 8), (0, 9)], [(0, 2), (0, 5), (0, 8), (0, 10)], [(0, 2), (0, 5), (0, 8), (0, 11)], [(0, 2), (0, 5), (0, 9), (0, 10)], [(0, 2), (0, 5), (0, 9), (0, 11)], [(0, 2), (0, 5), (0, 10), (0, 11)], [(0, 2), (0, 6), (0, 7), (0, 8)], [(0, 2), (0, 6), (0, 7), (0, 9)], [(0, 2), (0, 6), (0, 7), (0, 10)], [(0, 2), (0, 6), (0, 7), (0, 11)], [(0, 2), (0, 6), (0, 8), (0, 9)], [(0, 2), (0, 6), (0, 8), (0, 10)], [(0, 2), (0, 6), (0, 8), (0, 11)], [(0, 2), (0, 6), (0, 9), (0, 10)], [(0, 2), (0, 6), (0, 9), (0, 11)], [(0, 2), (0, 6), (0, 10), (0, 11)], [(0, 2), (0, 7), (0, 8), (0, 9)], [(0, 2), (0, 7), (0, 8), (0, 10)], [(0, 2), (0, 7), (0, 8), (0, 11)], [(0, 2), (0, 7), (0, 9), (0, 10)], [(0, 2), (0, 7), (0, 9), (0, 11)], [(0, 2), (0, 7), (0, 10), (0, 11)], [(0, 2), (0, 8), (0, 9), (0, 10)], [(0, 2), (0, 8), (0, 9), (0, 11)], [(0, 2), (0, 8), (0, 10), (0, 11)], [(0, 2), (0, 9), (0, 10), (0, 11)], [(0, 3), (0, 4), (0, 5), (0, 6)], [(0, 3), (0, 4), (0, 5), (0, 7)], [(0, 3), (0, 4), (0, 5), (0, 8)], [(0, 3), (0, 4), (0, 5), (0, 9)], [(0, 3), (0, 4), (0, 5), (0, 10)], [(0, 3), (0, 4), (0, 5), (0, 11)], [(0, 3), (0, 4), (0, 6), (0, 7)], [(0, 3), (0, 4), (0, 6), (0, 8)], [(0, 3), (0, 4), (0, 6), (0, 9)], [(0, 3), (0, 4), (0, 6), (0, 10)], [(0, 3), (0, 4), (0, 6), (0, 11)], [(0, 3), (0, 4), (0, 7), (0, 8)], [(0, 3), (0, 4), (0, 7), (0, 9)], [(0, 3), (0, 4), (0, 7), (0, 10)], [(0, 3), (0, 4), (0, 7), (0, 11)], [(0, 3), (0, 4), (0, 8), (0, 9)], [(0, 3), (0, 4), (0, 8), (0, 10)], [(0, 3), (0, 4), (0, 8), (0, 11)], [(0, 3), (0, 4), (0, 9), (0, 10)], [(0, 3), (0, 4), (0, 9), (0, 11)], [(0, 3), (0, 4), (0, 10), (0, 11)], [(0, 3), (0, 5), (0, 6), (0, 7)], [(0, 3), (0, 5), (0, 6), (0, 8)], [(0, 3), (0, 5), (0, 6), (0, 9)], [(0, 3), (0, 5), (0, 6), (0, 10)], [(0, 3), (0, 5), (0, 6), (0, 11)], [(0, 3), (0, 5), (0, 7), (0, 8)], [(0, 3), (0, 5), (0, 7), (0, 9)], [(0, 3), (0, 5), (0, 7), (0, 10)], [(0, 3), (0, 5), (0, 7), (0, 11)], [(0, 3), (0, 5), (0, 8), (0, 9)], [(0, 3), (0, 5), (0, 8), (0, 10)], [(0, 3), (0, 5), (0, 8), (0, 11)], [(0, 3), (0, 5), (0, 9), (0, 10)], [(0, 3), (0, 5), (0, 9), (0, 11)], [(0, 3), (0, 5), (0, 10), (0, 11)], [(0, 3), (0, 6), (0, 7), (0, 8)], [(0, 3), (0, 6), (0, 7), (0, 9)], [(0, 3), (0, 6), (0, 7), (0, 10)], [(0, 3), (0, 6), (0, 7), (0, 11)], [(0, 3), (0, 6), (0, 8), (0, 9)], [(0, 3), (0, 6), (0, 8), (0, 10)], [(0, 3), (0, 6), (0, 8), (0, 11)], [(0, 3), (0, 6), (0, 9), (0, 10)], [(0, 3), (0, 6), (0, 9), (0, 11)], [(0, 3), (0, 6), (0, 10), (0, 11)], [(0, 3), (0, 7), (0, 8), (0, 9)], [(0, 3), (0, 7), (0, 8), (0, 10)], [(0, 3), (0, 7), (0, 8), (0, 11)], [(0, 3), (0, 7), (0, 9), (0, 10)], [(0, 3), (0, 7), (0, 9), (0, 11)], [(0, 3), (0, 7), (0, 10), (0, 11)], [(0, 3), (0, 8), (0, 9), (0, 10)], [(0, 3), (0, 8), (0, 9), (0, 11)], [(0, 3), (0, 8), (0, 10), (0, 11)], [(0, 3), (0, 9), (0, 10), (0, 11)], [(0, 4), (0, 5), (0, 6), (0, 7)], [(0, 4), (0, 5), (0, 6), (0, 8)], [(0, 4), (0, 5), (0, 6), (0, 9)], [(0, 4), (0, 5), (0, 6), (0, 10)], [(0, 4), (0, 5), (0, 6), (0, 11)], [(0, 4), (0, 5), (0, 7), (0, 8)], [(0, 4), (0, 5), (0, 7), (0, 9)], [(0, 4), (0, 5), (0, 7), (0, 10)], [(0, 4), (0, 5), (0, 7), (0, 11)], [(0, 4), (0, 5), (0, 8), (0, 9)], [(0, 4), (0, 5), (0, 8), (0, 10)], [(0, 4), (0, 5), (0, 8), (0, 11)], [(0, 4), (0, 5), (0, 9), (0, 10)], [(0, 4), (0, 5), (0, 9), (0, 11)], [(0, 4), (0, 5), (0, 10), (0, 11)], [(0, 4), (0, 6), (0, 7), (0, 8)], [(0, 4), (0, 6), (0, 7), (0, 9)], [(0, 4), (0, 6), (0, 7), (0, 10)], [(0, 4), (0, 6), (0, 7), (0, 11)], [(0, 4), (0, 6), (0, 8), (0, 9)], [(0, 4), (0, 6), (0, 8), (0, 10)], [(0, 4), (0, 6), (0, 8), (0, 11)], [(0, 4), (0, 6), (0, 9), (0, 10)], [(0, 4), (0, 6), (0, 9), (0, 11)], [(0, 4), (0, 6), (0, 10), (0, 11)], [(0, 4), (0, 7), (0, 8), (0, 9)], [(0, 4), (0, 7), (0, 8), (0, 10)], [(0, 4), (0, 7), (0, 8), (0, 11)], [(0, 4), (0, 7), (0, 9), (0, 10)], [(0, 4), (0, 7), (0, 9), (0, 11)], [(0, 4), (0, 7), (0, 10), (0, 11)], [(0, 4), (0, 8), (0, 9), (0, 10)], [(0, 4), (0, 8), (0, 9), (0, 11)], [(0, 4), (0, 8), (0, 10), (0, 11)], [(0, 4), (0, 9), (0, 10), (0, 11)], [(0, 5), (0, 6), (0, 7), (0, 8)], [(0, 5), (0, 6), (0, 7), (0, 9)], [(0, 5), (0, 6), (0, 7), (0, 10)], [(0, 5), (0, 6), (0, 7), (0, 11)], [(0, 5), (0, 6), (0, 8), (0, 9)], [(0, 5), (0, 6), (0, 8), (0, 10)], [(0, 5), (0, 6), (0, 8), (0, 11)], [(0, 5), (0, 6), (0, 9), (0, 10)], [(0, 5), (0, 6), (0, 9), (0, 11)], [(0, 5), (0, 6), (0, 10), (0, 11)], [(0, 5), (0, 7), (0, 8), (0, 9)], [(0, 5), (0, 7), (0, 8), (0, 10)], [(0, 5), (0, 7), (0, 8), (0, 11)], [(0, 5), (0, 7), (0, 9), (0, 10)], [(0, 5), (0, 7), (0, 9), (0, 11)], [(0, 5), (0, 7), (0, 10), (0, 11)], [(0, 5), (0, 8), (0, 9), (0, 10)], [(0, 5), (0, 8), (0, 9), (0, 11)], [(0, 5), (0, 8), (0, 10), (0, 11)], [(0, 5), (0, 9), (0, 10), (0, 11)], [(0, 6), (0, 7), (0, 8), (0, 9)], [(0, 6), (0, 7), (0, 8), (0, 10)], [(0, 6), (0, 7), (0, 8), (0, 11)], [(0, 6), (0, 7), (0, 9), (0, 10)], [(0, 6), (0, 7), (0, 9), (0, 11)], [(0, 6), (0, 7), (0, 10), (0, 11)], [(0, 6), (0, 8), (0, 9), (0, 10)], [(0, 6), (0, 8), (0, 9), (0, 11)], [(0, 6), (0, 8), (0, 10), (0, 11)], [(0, 6), (0, 9), (0, 10), (0, 11)], [(0, 7), (0, 8), (0, 9), (0, 10)], [(0, 7), (0, 8), (0, 9), (0, 11)], [(0, 7), (0, 8), (0, 10), (0, 11)], [(0, 7), (0, 9), (0, 10), (0, 11)], [(0, 8), (0, 9), (0, 10), (0, 11)], [(0, 0), (0, 1), (0, 2), (0, 3), (0, 4)], [(0, 0), (0, 1), (0, 2), (0, 3), (0, 5)], [(0, 0), (0, 1), (0, 2), (0, 3), (0, 6)], [(0, 0), (0, 1), (0, 2), (0, 3), (0, 7)], [(0, 0), (0, 1), (0, 2), (0, 3), (0, 8)], [(0, 0), (0, 1), (0, 2), (0, 3), (0, 9)], [(0, 0), (0, 1), (0, 2), (0, 3), (0, 10)], [(0, 0), (0, 1), (0, 2), (0, 3), (0, 11)], [(0, 0), (0, 1), (0, 2), (0, 4), (0, 5)], [(0, 0), (0, 1), (0, 2), (0, 4), (0, 6)], [(0, 0), (0, 1), (0, 2), (0, 4), (0, 7)], [(0, 0), (0, 1), (0, 2), (0, 4), (0, 8)], [(0, 0), (0, 1), (0, 2), (0, 4), (0, 9)], [(0, 0), (0, 1), (0, 2), (0, 4), (0, 10)], [(0, 0), (0, 1), (0, 2), (0, 4), (0, 11)], [(0, 0), (0, 1), (0, 2), (0, 5), (0, 6)], [(0, 0), (0, 1), (0, 2), (0, 5), (0, 7)], [(0, 0), (0, 1), (0, 2), (0, 5), (0, 8)], [(0, 0), (0, 1), (0, 2), (0, 5), (0, 9)], [(0, 0), (0, 1), (0, 2), (0, 5), (0, 10)], [(0, 0), (0, 1), (0, 2), (0, 5), (0, 11)], [(0, 0), (0, 1), (0, 2), (0, 6), (0, 7)], [(0, 0), (0, 1), (0, 2), (0, 6), (0, 8)], [(0, 0), (0, 1), (0, 2), (0, 6), (0, 9)], [(0, 0), (0, 1), (0, 2), (0, 6), (0, 10)], [(0, 0), (0, 1), (0, 2), (0, 6), (0, 11)], [(0, 0), (0, 1), (0, 2), (0, 7), (0, 8)], [(0, 0), (0, 1), (0, 2), (0, 7), (0, 9)], [(0, 0), (0, 1), (0, 2), (0, 7), (0, 10)], [(0, 0), (0, 1), (0, 2), (0, 7), (0, 11)], [(0, 0), (0, 1), (0, 2), (0, 8), (0, 9)], [(0, 0), (0, 1), (0, 2), (0, 8), (0, 10)], [(0, 0), (0, 1), (0, 2), (0, 8), (0, 11)], [(0, 0), (0, 1), (0, 2), (0, 9), (0, 10)], [(0, 0), (0, 1), (0, 2), (0, 9), (0, 11)], [(0, 0), (0, 1), (0, 2), (0, 10), (0, 11)], [(0, 0), (0, 1), (0, 3), (0, 4), (0, 5)], [(0, 0), (0, 1), (0, 3), (0, 4), (0, 6)], [(0, 0), (0, 1), (0, 3), (0, 4), (0, 7)], [(0, 0), (0, 1), (0, 3), (0, 4), (0, 8)], [(0, 0), (0, 1), (0, 3), (0, 4), (0, 9)], [(0, 0), (0, 1), (0, 3), (0, 4), (0, 10)], [(0, 0), (0, 1), (0, 3), (0, 4), (0, 11)], [(0, 0), (0, 1), (0, 3), (0, 5), (0, 6)], [(0, 0), (0, 1), (0, 3), (0, 5), (0, 7)], [(0, 0), (0, 1), (0, 3), (0, 5), (0, 8)], [(0, 0), (0, 1), (0, 3), (0, 5), (0, 9)], [(0, 0), (0, 1), (0, 3), (0, 5), (0, 10)], [(0, 0), (0, 1), (0, 3), (0, 5), (0, 11)], [(0, 0), (0, 1), (0, 3), (0, 6), (0, 7)], [(0, 0), (0, 1), (0, 3), (0, 6), (0, 8)], [(0, 0), (0, 1), (0, 3), (0, 6), (0, 9)], [(0, 0), (0, 1), (0, 3), (0, 6), (0, 10)], [(0, 0), (0, 1), (0, 3), (0, 6), (0, 11)], [(0, 0), (0, 1), (0, 3), (0, 7), (0, 8)], [(0, 0), (0, 1), (0, 3), (0, 7), (0, 9)], [(0, 0), (0, 1), (0, 3), (0, 7), (0, 10)], [(0, 0), (0, 1), (0, 3), (0, 7), (0, 11)], [(0, 0), (0, 1), (0, 3), (0, 8), (0, 9)], [(0, 0), (0, 1), (0, 3), (0, 8), (0, 10)], [(0, 0), (0, 1), (0, 3), (0, 8), (0, 11)], [(0, 0), (0, 1), (0, 3), (0, 9), (0, 10)], [(0, 0), (0, 1), (0, 3), (0, 9), (0, 11)], [(0, 0), (0, 1), (0, 3), (0, 10), (0, 11)], [(0, 0), (0, 1), (0, 4), (0, 5), (0, 6)], [(0, 0), (0, 1), (0, 4), (0, 5), (0, 7)], [(0, 0), (0, 1), (0, 4), (0, 5), (0, 8)], [(0, 0), (0, 1), (0, 4), (0, 5), (0, 9)], [(0, 0), (0, 1), (0, 4), (0, 5), (0, 10)], [(0, 0), (0, 1), (0, 4), (0, 5), (0, 11)], [(0, 0), (0, 1), (0, 4), (0, 6), (0, 7)], [(0, 0), (0, 1), (0, 4), (0, 6), (0, 8)], [(0, 0), (0, 1), (0, 4), (0, 6), (0, 9)], [(0, 0), (0, 1), (0, 4), (0, 6), (0, 10)], [(0, 0), (0, 1), (0, 4), (0, 6), (0, 11)], [(0, 0), (0, 1), (0, 4), (0, 7), (0, 8)], [(0, 0), (0, 1), (0, 4), (0, 7), (0, 9)], [(0, 0), (0, 1), (0, 4), (0, 7), (0, 10)], [(0, 0), (0, 1), (0, 4), (0, 7), (0, 11)], [(0, 0), (0, 1), (0, 4), (0, 8), (0, 9)], [(0, 0), (0, 1), (0, 4), (0, 8), (0, 10)], [(0, 0), (0, 1), (0, 4), (0, 8), (0, 11)], [(0, 0), (0, 1), (0, 4), (0, 9), (0, 10)], [(0, 0), (0, 1), (0, 4), (0, 9), (0, 11)], [(0, 0), (0, 1), (0, 4), (0, 10), (0, 11)], [(0, 0), (0, 1), (0, 5), (0, 6), (0, 7)], [(0, 0), (0, 1), (0, 5), (0, 6), (0, 8)], [(0, 0), (0, 1), (0, 5), (0, 6), (0, 9)], [(0, 0), (0, 1), (0, 5), (0, 6), (0, 10)], [(0, 0), (0, 1), (0, 5), (0, 6), (0, 11)], [(0, 0), (0, 1), (0, 5), (0, 7), (0, 8)], [(0, 0), (0, 1), (0, 5), (0, 7), (0, 9)], [(0, 0), (0, 1), (0, 5), (0, 7), (0, 10)], [(0, 0), (0, 1), (0, 5), (0, 7), (0, 11)], [(0, 0), (0, 1), (0, 5), (0, 8), (0, 9)], [(0, 0), (0, 1), (0, 5), (0, 8), (0, 10)], [(0, 0), (0, 1), (0, 5), (0, 8), (0, 11)], [(0, 0), (0, 1), (0, 5), (0, 9), (0, 10)], [(0, 0), (0, 1), (0, 5), (0, 9), (0, 11)], [(0, 0), (0, 1), (0, 5), (0, 10), (0, 11)], [(0, 0), (0, 1), (0, 6), (0, 7), (0, 8)], [(0, 0), (0, 1), (0, 6), (0, 7), (0, 9)], [(0, 0), (0, 1), (0, 6), (0, 7), (0, 10)], [(0, 0), (0, 1), (0, 6), (0, 7), (0, 11)], [(0, 0), (0, 1), (0, 6), (0, 8), (0, 9)], [(0, 0), (0, 1), (0, 6), (0, 8), (0, 10)], [(0, 0), (0, 1), (0, 6), (0, 8), (0, 11)], [(0, 0), (0, 1), (0, 6), (0, 9), (0, 10)], [(0, 0), (0, 1), (0, 6), (0, 9), (0, 11)], [(0, 0), (0, 1), (0, 6), (0, 10), (0, 11)], [(0, 0), (0, 1), (0, 7), (0, 8), (0, 9)], [(0, 0), (0, 1), (0, 7), (0, 8), (0, 10)], [(0, 0), (0, 1), (0, 7), (0, 8), (0, 11)], [(0, 0), (0, 1), (0, 7), (0, 9), (0, 10)], [(0, 0), (0, 1), (0, 7), (0, 9), (0, 11)], [(0, 0), (0, 1), (0, 7), (0, 10), (0, 11)], [(0, 0), (0, 1), (0, 8), (0, 9), (0, 10)], [(0, 0), (0, 1), (0, 8), (0, 9), (0, 11)], [(0, 0), (0, 1), (0, 8), (0, 10), (0, 11)], [(0, 0), (0, 1), (0, 9), (0, 10), (0, 11)], [(0, 0), (0, 2), (0, 3), (0, 4), (0, 5)], [(0, 0), (0, 2), (0, 3), (0, 4), (0, 6)], [(0, 0), (0, 2), (0, 3), (0, 4), (0, 7)], [(0, 0), (0, 2), (0, 3), (0, 4), (0, 8)], [(0, 0), (0, 2), (0, 3), (0, 4), (0, 9)], [(0, 0), (0, 2), (0, 3), (0, 4), (0, 10)], [(0, 0), (0, 2), (0, 3), (0, 4), (0, 11)], [(0, 0), (0, 2), (0, 3), (0, 5), (0, 6)], [(0, 0), (0, 2), (0, 3), (0, 5), (0, 7)], [(0, 0), (0, 2), (0, 3), (0, 5), (0, 8)], [(0, 0), (0, 2), (0, 3), (0, 5), (0, 9)], [(0, 0), (0, 2), (0, 3), (0, 5), (0, 10)], [(0, 0), (0, 2), (0, 3), (0, 5), (0, 11)], [(0, 0), (0, 2), (0, 3), (0, 6), (0, 7)], [(0, 0), (0, 2), (0, 3), (0, 6), (0, 8)], [(0, 0), (0, 2), (0, 3), (0, 6), (0, 9)], [(0, 0), (0, 2), (0, 3), (0, 6), (0, 10)], [(0, 0), (0, 2), (0, 3), (0, 6), (0, 11)], [(0, 0), (0, 2), (0, 3), (0, 7), (0, 8)], [(0, 0), (0, 2), (0, 3), (0, 7), (0, 9)], [(0, 0), (0, 2), (0, 3), (0, 7), (0, 10)], [(0, 0), (0, 2), (0, 3), (0, 7), (0, 11)], [(0, 0), (0, 2), (0, 3), (0, 8), (0, 9)], [(0, 0), (0, 2), (0, 3), (0, 8), (0, 10)], [(0, 0), (0, 2), (0, 3), (0, 8), (0, 11)], [(0, 0), (0, 2), (0, 3), (0, 9), (0, 10)], [(0, 0), (0, 2), (0, 3), (0, 9), (0, 11)], [(0, 0), (0, 2), (0, 3), (0, 10), (0, 11)], [(0, 0), (0, 2), (0, 4), (0, 5), (0, 6)], [(0, 0), (0, 2), (0, 4), (0, 5), (0, 7)], [(0, 0), (0, 2), (0, 4), (0, 5), (0, 8)], [(0, 0), (0, 2), (0, 4), (0, 5), (0, 9)], [(0, 0), (0, 2), (0, 4), (0, 5), (0, 10)], [(0, 0), (0, 2), (0, 4), (0, 5), (0, 11)], [(0, 0), (0, 2), (0, 4), (0, 6), (0, 7)], [(0, 0), (0, 2), (0, 4), (0, 6), (0, 8)], [(0, 0), (0, 2), (0, 4), (0, 6), (0, 9)], [(0, 0), (0, 2), (0, 4), (0, 6), (0, 10)], [(0, 0), (0, 2), (0, 4), (0, 6), (0, 11)], [(0, 0), (0, 2), (0, 4), (0, 7), (0, 8)], [(0, 0), (0, 2), (0, 4), (0, 7), (0, 9)], [(0, 0), (0, 2), (0, 4), (0, 7), (0, 10)], [(0, 0), (0, 2), (0, 4), (0, 7), (0, 11)], [(0, 0), (0, 2), (0, 4), (0, 8), (0, 9)], [(0, 0), (0, 2), (0, 4), (0, 8), (0, 10)], [(0, 0), (0, 2), (0, 4), (0, 8), (0, 11)], [(0, 0), (0, 2), (0, 4), (0, 9), (0, 10)], [(0, 0), (0, 2), (0, 4), (0, 9), (0, 11)], [(0, 0), (0, 2), (0, 4), (0, 10), (0, 11)], [(0, 0), (0, 2), (0, 5), (0, 6), (0, 7)], [(0, 0), (0, 2), (0, 5), (0, 6), (0, 8)], [(0, 0), (0, 2), (0, 5), (0, 6), (0, 9)], [(0, 0), (0, 2), (0, 5), (0, 6), (0, 10)], [(0, 0), (0, 2), (0, 5), (0, 6), (0, 11)], [(0, 0), (0, 2), (0, 5), (0, 7), (0, 8)], [(0, 0), (0, 2), (0, 5), (0, 7), (0, 9)], [(0, 0), (0, 2), (0, 5), (0, 7), (0, 10)], [(0, 0), (0, 2), (0, 5), (0, 7), (0, 11)], [(0, 0), (0, 2), (0, 5), (0, 8), (0, 9)], [(0, 0), (0, 2), (0, 5), (0, 8), (0, 10)], [(0, 0), (0, 2), (0, 5), (0, 8), (0, 11)], [(0, 0), (0, 2), (0, 5), (0, 9), (0, 10)], [(0, 0), (0, 2), (0, 5), (0, 9), (0, 11)], [(0, 0), (0, 2), (0, 5), (0, 10), (0, 11)], [(0, 0), (0, 2), (0, 6), (0, 7), (0, 8)], [(0, 0), (0, 2), (0, 6), (0, 7), (0, 9)], [(0, 0), (0, 2), (0, 6), (0, 7), (0, 10)], [(0, 0), (0, 2), (0, 6), (0, 7), (0, 11)], [(0, 0), (0, 2), (0, 6), (0, 8), (0, 9)], [(0, 0), (0, 2), (0, 6), (0, 8), (0, 10)], [(0, 0), (0, 2), (0, 6), (0, 8), (0, 11)], [(0, 0), (0, 2), (0, 6), (0, 9), (0, 10)], [(0, 0), (0, 2), (0, 6), (0, 9), (0, 11)], [(0, 0), (0, 2), (0, 6), (0, 10), (0, 11)], [(0, 0), (0, 2), (0, 7), (0, 8), (0, 9)], [(0, 0), (0, 2), (0, 7), (0, 8), (0, 10)], [(0, 0), (0, 2), (0, 7), (0, 8), (0, 11)], [(0, 0), (0, 2), (0, 7), (0, 9), (0, 10)], [(0, 0), (0, 2), (0, 7), (0, 9), (0, 11)], [(0, 0), (0, 2), (0, 7), (0, 10), (0, 11)], [(0, 0), (0, 2), (0, 8), (0, 9), (0, 10)], [(0, 0), (0, 2), (0, 8), (0, 9), (0, 11)], [(0, 0), (0, 2), (0, 8), (0, 10), (0, 11)], [(0, 0), (0, 2), (0, 9), (0, 10), (0, 11)], [(0, 0), (0, 3), (0, 4), (0, 5), (0, 6)], [(0, 0), (0, 3), (0, 4), (0, 5), (0, 7)], [(0, 0), (0, 3), (0, 4), (0, 5), (0, 8)], [(0, 0), (0, 3), (0, 4), (0, 5), (0, 9)], [(0, 0), (0, 3), (0, 4), (0, 5), (0, 10)], [(0, 0), (0, 3), (0, 4), (0, 5), (0, 11)], [(0, 0), (0, 3), (0, 4), (0, 6), (0, 7)], [(0, 0), (0, 3), (0, 4), (0, 6), (0, 8)], [(0, 0), (0, 3), (0, 4), (0, 6), (0, 9)], [(0, 0), (0, 3), (0, 4), (0, 6), (0, 10)], [(0, 0), (0, 3), (0, 4), (0, 6), (0, 11)], [(0, 0), (0, 3), (0, 4), (0, 7), (0, 8)], [(0, 0), (0, 3), (0, 4), (0, 7), (0, 9)], [(0, 0), (0, 3), (0, 4), (0, 7), (0, 10)], [(0, 0), (0, 3), (0, 4), (0, 7), (0, 11)], [(0, 0), (0, 3), (0, 4), (0, 8), (0, 9)], [(0, 0), (0, 3), (0, 4), (0, 8), (0, 10)], [(0, 0), (0, 3), (0, 4), (0, 8), (0, 11)], [(0, 0), (0, 3), (0, 4), (0, 9), (0, 10)], [(0, 0), (0, 3), (0, 4), (0, 9), (0, 11)], [(0, 0), (0, 3), (0, 4), (0, 10), (0, 11)], [(0, 0), (0, 3), (0, 5), (0, 6), (0, 7)], [(0, 0), (0, 3), (0, 5), (0, 6), (0, 8)], [(0, 0), (0, 3), (0, 5), (0, 6), (0, 9)], [(0, 0), (0, 3), (0, 5), (0, 6), (0, 10)], [(0, 0), (0, 3), (0, 5), (0, 6), (0, 11)], [(0, 0), (0, 3), (0, 5), (0, 7), (0, 8)], [(0, 0), (0, 3), (0, 5), (0, 7), (0, 9)], [(0, 0), (0, 3), (0, 5), (0, 7), (0, 10)], [(0, 0), (0, 3), (0, 5), (0, 7), (0, 11)], [(0, 0), (0, 3), (0, 5), (0, 8), (0, 9)], [(0, 0), (0, 3), (0, 5), (0, 8), (0, 10)], [(0, 0), (0, 3), (0, 5), (0, 8), (0, 11)], [(0, 0), (0, 3), (0, 5), (0, 9), (0, 10)], [(0, 0), (0, 3), (0, 5), (0, 9), (0, 11)], [(0, 0), (0, 3), (0, 5), (0, 10), (0, 11)], [(0, 0), (0, 3), (0, 6), (0, 7), (0, 8)], [(0, 0), (0, 3), (0, 6), (0, 7), (0, 9)], [(0, 0), (0, 3), (0, 6), (0, 7), (0, 10)], [(0, 0), (0, 3), (0, 6), (0, 7), (0, 11)], [(0, 0), (0, 3), (0, 6), (0, 8), (0, 9)], [(0, 0), (0, 3), (0, 6), (0, 8), (0, 10)], [(0, 0), (0, 3), (0, 6), (0, 8), (0, 11)], [(0, 0), (0, 3), (0, 6), (0, 9), (0, 10)], [(0, 0), (0, 3), (0, 6), (0, 9), (0, 11)], [(0, 0), (0, 3), (0, 6), (0, 10), (0, 11)], [(0, 0), (0, 3), (0, 7), (0, 8), (0, 9)], [(0, 0), (0, 3), (0, 7), (0, 8), (0, 10)], [(0, 0), (0, 3), (0, 7), (0, 8), (0, 11)], [(0, 0), (0, 3), (0, 7), (0, 9), (0, 10)], [(0, 0), (0, 3), (0, 7), (0, 9), (0, 11)], [(0, 0), (0, 3), (0, 7), (0, 10), (0, 11)], [(0, 0), (0, 3), (0, 8), (0, 9), (0, 10)], [(0, 0), (0, 3), (0, 8), (0, 9), (0, 11)], [(0, 0), (0, 3), (0, 8), (0, 10), (0, 11)], [(0, 0), (0, 3), (0, 9), (0, 10), (0, 11)], [(0, 0), (0, 4), (0, 5), (0, 6), (0, 7)], [(0, 0), (0, 4), (0, 5), (0, 6), (0, 8)], [(0, 0), (0, 4), (0, 5), (0, 6), (0, 9)], [(0, 0), (0, 4), (0, 5), (0, 6), (0, 10)], [(0, 0), (0, 4), (0, 5), (0, 6), (0, 11)], [(0, 0), (0, 4), (0, 5), (0, 7), (0, 8)], [(0, 0), (0, 4), (0, 5), (0, 7), (0, 9)], [(0, 0), (0, 4), (0, 5), (0, 7), (0, 10)], [(0, 0), (0, 4), (0, 5), (0, 7), (0, 11)], [(0, 0), (0, 4), (0, 5), (0, 8), (0, 9)], [(0, 0), (0, 4), (0, 5), (0, 8), (0, 10)], [(0, 0), (0, 4), (0, 5), (0, 8), (0, 11)], [(0, 0), (0, 4), (0, 5), (0, 9), (0, 10)], [(0, 0), (0, 4), (0, 5), (0, 9), (0, 11)], [(0, 0), (0, 4), (0, 5), (0, 10), (0, 11)], [(0, 0), (0, 4), (0, 6), (0, 7), (0, 8)], [(0, 0), (0, 4), (0, 6), (0, 7), (0, 9)], [(0, 0), (0, 4), (0, 6), (0, 7), (0, 10)], [(0, 0), (0, 4), (0, 6), (0, 7), (0, 11)], [(0, 0), (0, 4), (0, 6), (0, 8), (0, 9)], [(0, 0), (0, 4), (0, 6), (0, 8), (0, 10)], [(0, 0), (0, 4), (0, 6), (0, 8), (0, 11)], [(0, 0), (0, 4), (0, 6), (0, 9), (0, 10)], [(0, 0), (0, 4), (0, 6), (0, 9), (0, 11)], [(0, 0), (0, 4), (0, 6), (0, 10), (0, 11)], [(0, 0), (0, 4), (0, 7), (0, 8), (0, 9)], [(0, 0), (0, 4), (0, 7), (0, 8), (0, 10)], [(0, 0), (0, 4), (0, 7), (0, 8), (0, 11)], [(0, 0), (0, 4), (0, 7), (0, 9), (0, 10)], [(0, 0), (0, 4), (0, 7), (0, 9), (0, 11)], [(0, 0), (0, 4), (0, 7), (0, 10), (0, 11)], [(0, 0), (0, 4), (0, 8), (0, 9), (0, 10)], [(0, 0), (0, 4), (0, 8), (0, 9), (0, 11)], [(0, 0), (0, 4), (0, 8), (0, 10), (0, 11)], [(0, 0), (0, 4), (0, 9), (0, 10), (0, 11)], [(0, 0), (0, 5), (0, 6), (0, 7), (0, 8)], [(0, 0), (0, 5), (0, 6), (0, 7), (0, 9)], [(0, 0), (0, 5), (0, 6), (0, 7), (0, 10)], [(0, 0), (0, 5), (0, 6), (0, 7), (0, 11)], [(0, 0), (0, 5), (0, 6), (0, 8), (0, 9)], [(0, 0), (0, 5), (0, 6), (0, 8), (0, 10)], [(0, 0), (0, 5), (0, 6), (0, 8), (0, 11)], [(0, 0), (0, 5), (0, 6), (0, 9), (0, 10)], [(0, 0), (0, 5), (0, 6), (0, 9), (0, 11)], [(0, 0), (0, 5), (0, 6), (0, 10), (0, 11)], [(0, 0), (0, 5), (0, 7), (0, 8), (0, 9)], [(0, 0), (0, 5), (0, 7), (0, 8), (0, 10)], [(0, 0), (0, 5), (0, 7), (0, 8), (0, 11)], [(0, 0), (0, 5), (0, 7), (0, 9), (0, 10)], [(0, 0), (0, 5), (0, 7), (0, 9), (0, 11)], [(0, 0), (0, 5), (0, 7), (0, 10), (0, 11)], [(0, 0), (0, 5), (0, 8), (0, 9), (0, 10)], [(0, 0), (0, 5), (0, 8), (0, 9), (0, 11)], [(0, 0), (0, 5), (0, 8), (0, 10), (0, 11)], [(0, 0), (0, 5), (0, 9), (0, 10), (0, 11)], [(0, 0), (0, 6), (0, 7), (0, 8), (0, 9)], [(0, 0), (0, 6), (0, 7), (0, 8), (0, 10)], [(0, 0), (0, 6), (0, 7), (0, 8), (0, 11)], [(0, 0), (0, 6), (0, 7), (0, 9), (0, 10)], [(0, 0), (0, 6), (0, 7), (0, 9), (0, 11)], [(0, 0), (0, 6), (0, 7), (0, 10), (0, 11)], [(0, 0), (0, 6), (0, 8), (0, 9), (0, 10)], [(0, 0), (0, 6), (0, 8), (0, 9), (0, 11)], [(0, 0), (0, 6), (0, 8), (0, 10), (0, 11)], [(0, 0), (0, 6), (0, 9), (0, 10), (0, 11)], [(0, 0), (0, 7), (0, 8), (0, 9), (0, 10)], [(0, 0), (0, 7), (0, 8), (0, 9), (0, 11)], [(0, 0), (0, 7), (0, 8), (0, 10), (0, 11)], [(0, 0), (0, 7), (0, 9), (0, 10), (0, 11)], [(0, 0), (0, 8), (0, 9), (0, 10), (0, 11)], [(0, 1), (0, 2), (0, 3), (0, 4), (0, 5)], [(0, 1), (0, 2), (0, 3), (0, 4), (0, 6)], [(0, 1), (0, 2), (0, 3), (0, 4), (0, 7)], [(0, 1), (0, 2), (0, 3), (0, 4), (0, 8)], [(0, 1), (0, 2), (0, 3), (0, 4), (0, 9)], [(0, 1), (0, 2), (0, 3), (0, 4), (0, 10)], [(0, 1), (0, 2), (0, 3), (0, 4), (0, 11)], [(0, 1), (0, 2), (0, 3), (0, 5), (0, 6)], [(0, 1), (0, 2), (0, 3), (0, 5), (0, 7)], [(0, 1), (0, 2), (0, 3), (0, 5), (0, 8)], [(0, 1), (0, 2), (0, 3), (0, 5), (0, 9)], [(0, 1), (0, 2), (0, 3), (0, 5), (0, 10)], [(0, 1), (0, 2), (0, 3), (0, 5), (0, 11)], [(0, 1), (0, 2), (0, 3), (0, 6), (0, 7)], [(0, 1), (0, 2), (0, 3), (0, 6), (0, 8)], [(0, 1), (0, 2), (0, 3), (0, 6), (0, 9)], [(0, 1), (0, 2), (0, 3), (0, 6), (0, 10)], [(0, 1), (0, 2), (0, 3), (0, 6), (0, 11)], [(0, 1), (0, 2), (0, 3), (0, 7), (0, 8)], [(0, 1), (0, 2), (0, 3), (0, 7), (0, 9)], [(0, 1), (0, 2), (0, 3), (0, 7), (0, 10)], [(0, 1), (0, 2), (0, 3), (0, 7), (0, 11)], [(0, 1), (0, 2), (0, 3), (0, 8), (0, 9)], [(0, 1), (0, 2), (0, 3), (0, 8), (0, 10)], [(0, 1), (0, 2), (0, 3), (0, 8), (0, 11)], [(0, 1), (0, 2), (0, 3), (0, 9), (0, 10)], [(0, 1), (0, 2), (0, 3), (0, 9), (0, 11)], [(0, 1), (0, 2), (0, 3), (0, 10), (0, 11)], [(0, 1), (0, 2), (0, 4), (0, 5), (0, 6)], [(0, 1), (0, 2), (0, 4), (0, 5), (0, 7)], [(0, 1), (0, 2), (0, 4), (0, 5), (0, 8)], [(0, 1), (0, 2), (0, 4), (0, 5), (0, 9)], [(0, 1), (0, 2), (0, 4), (0, 5), (0, 10)], [(0, 1), (0, 2), (0, 4), (0, 5), (0, 11)], [(0, 1), (0, 2), (0, 4), (0, 6), (0, 7)], [(0, 1), (0, 2), (0, 4), (0, 6), (0, 8)], [(0, 1), (0, 2), (0, 4), (0, 6), (0, 9)], [(0, 1), (0, 2), (0, 4), (0, 6), (0, 10)], [(0, 1), (0, 2), (0, 4), (0, 6), (0, 11)], [(0, 1), (0, 2), (0, 4), (0, 7), (0, 8)], [(0, 1), (0, 2), (0, 4), (0, 7), (0, 9)], [(0, 1), (0, 2), (0, 4), (0, 7), (0, 10)], [(0, 1), (0, 2), (0, 4), (0, 7), (0, 11)], [(0, 1), (0, 2), (0, 4), (0, 8), (0, 9)], [(0, 1), (0, 2), (0, 4), (0, 8), (0, 10)], [(0, 1), (0, 2), (0, 4), (0, 8), (0, 11)], [(0, 1), (0, 2), (0, 4), (0, 9), (0, 10)], [(0, 1), (0, 2), (0, 4), (0, 9), (0, 11)], [(0, 1), (0, 2), (0, 4), (0, 10), (0, 11)], [(0, 1), (0, 2), (0, 5), (0, 6), (0, 7)], [(0, 1), (0, 2), (0, 5), (0, 6), (0, 8)], [(0, 1), (0, 2), (0, 5), (0, 6), (0, 9)], [(0, 1), (0, 2), (0, 5), (0, 6), (0, 10)], [(0, 1), (0, 2), (0, 5), (0, 6), (0, 11)], [(0, 1), (0, 2), (0, 5), (0, 7), (0, 8)], [(0, 1), (0, 2), (0, 5), (0, 7), (0, 9)], [(0, 1), (0, 2), (0, 5), (0, 7), (0, 10)], [(0, 1), (0, 2), (0, 5), (0, 7), (0, 11)], [(0, 1), (0, 2), (0, 5), (0, 8), (0, 9)], [(0, 1), (0, 2), (0, 5), (0, 8), (0, 10)], [(0, 1), (0, 2), (0, 5), (0, 8), (0, 11)], [(0, 1), (0, 2), (0, 5), (0, 9), (0, 10)], [(0, 1), (0, 2), (0, 5), (0, 9), (0, 11)], [(0, 1), (0, 2), (0, 5), (0, 10), (0, 11)], [(0, 1), (0, 2), (0, 6), (0, 7), (0, 8)], [(0, 1), (0, 2), (0, 6), (0, 7), (0, 9)], [(0, 1), (0, 2), (0, 6), (0, 7), (0, 10)], [(0, 1), (0, 2), (0, 6), (0, 7), (0, 11)], [(0, 1), (0, 2), (0, 6), (0, 8), (0, 9)], [(0, 1), (0, 2), (0, 6), (0, 8), (0, 10)], [(0, 1), (0, 2), (0, 6), (0, 8), (0, 11)], [(0, 1), (0, 2), (0, 6), (0, 9), (0, 10)], [(0, 1), (0, 2), (0, 6), (0, 9), (0, 11)], [(0, 1), (0, 2), (0, 6), (0, 10), (0, 11)], [(0, 1), (0, 2), (0, 7), (0, 8), (0, 9)], [(0, 1), (0, 2), (0, 7), (0, 8), (0, 10)], [(0, 1), (0, 2), (0, 7), (0, 8), (0, 11)], [(0, 1), (0, 2), (0, 7), (0, 9), (0, 10)], [(0, 1), (0, 2), (0, 7), (0, 9), (0, 11)], [(0, 1), (0, 2), (0, 7), (0, 10), (0, 11)], [(0, 1), (0, 2), (0, 8), (0, 9), (0, 10)], [(0, 1), (0, 2), (0, 8), (0, 9), (0, 11)], [(0, 1), (0, 2), (0, 8), (0, 10), (0, 11)], [(0, 1), (0, 2), (0, 9), (0, 10), (0, 11)], [(0, 1), (0, 3), (0, 4), (0, 5), (0, 6)], [(0, 1), (0, 3), (0, 4), (0, 5), (0, 7)], [(0, 1), (0, 3), (0, 4), (0, 5), (0, 8)], [(0, 1), (0, 3), (0, 4), (0, 5), (0, 9)], [(0, 1), (0, 3), (0, 4), (0, 5), (0, 10)], [(0, 1), (0, 3), (0, 4), (0, 5), (0, 11)], [(0, 1), (0, 3), (0, 4), (0, 6), (0, 7)], [(0, 1), (0, 3), (0, 4), (0, 6), (0, 8)], [(0, 1), (0, 3), (0, 4), (0, 6), (0, 9)], [(0, 1), (0, 3), (0, 4), (0, 6), (0, 10)], [(0, 1), (0, 3), (0, 4), (0, 6), (0, 11)], [(0, 1), (0, 3), (0, 4), (0, 7), (0, 8)], [(0, 1), (0, 3), (0, 4), (0, 7), (0, 9)], [(0, 1), (0, 3), (0, 4), (0, 7), (0, 10)], [(0, 1), (0, 3), (0, 4), (0, 7), (0, 11)], [(0, 1), (0, 3), (0, 4), (0, 8), (0, 9)], [(0, 1), (0, 3), (0, 4), (0, 8), (0, 10)], [(0, 1), (0, 3), (0, 4), (0, 8), (0, 11)], [(0, 1), (0, 3), (0, 4), (0, 9), (0, 10)], [(0, 1), (0, 3), (0, 4), (0, 9), (0, 11)], [(0, 1), (0, 3), (0, 4), (0, 10), (0, 11)], [(0, 1), (0, 3), (0, 5), (0, 6), (0, 7)], [(0, 1), (0, 3), (0, 5), (0, 6), (0, 8)], [(0, 1), (0, 3), (0, 5), (0, 6), (0, 9)], [(0, 1), (0, 3), (0, 5), (0, 6), (0, 10)], [(0, 1), (0, 3), (0, 5), (0, 6), (0, 11)], [(0, 1), (0, 3), (0, 5), (0, 7), (0, 8)], [(0, 1), (0, 3), (0, 5), (0, 7), (0, 9)], [(0, 1), (0, 3), (0, 5), (0, 7), (0, 10)], [(0, 1), (0, 3), (0, 5), (0, 7), (0, 11)], [(0, 1), (0, 3), (0, 5), (0, 8), (0, 9)], [(0, 1), (0, 3), (0, 5), (0, 8), (0, 10)], [(0, 1), (0, 3), (0, 5), (0, 8), (0, 11)], [(0, 1), (0, 3), (0, 5), (0, 9), (0, 10)], [(0, 1), (0, 3), (0, 5), (0, 9), (0, 11)], [(0, 1), (0, 3), (0, 5), (0, 10), (0, 11)], [(0, 1), (0, 3), (0, 6), (0, 7), (0, 8)], [(0, 1), (0, 3), (0, 6), (0, 7), (0, 9)], [(0, 1), (0, 3), (0, 6), (0, 7), (0, 10)], [(0, 1), (0, 3), (0, 6), (0, 7), (0, 11)], [(0, 1), (0, 3), (0, 6), (0, 8), (0, 9)], [(0, 1), (0, 3), (0, 6), (0, 8), (0, 10)], [(0, 1), (0, 3), (0, 6), (0, 8), (0, 11)], [(0, 1), (0, 3), (0, 6), (0, 9), (0, 10)], [(0, 1), (0, 3), (0, 6), (0, 9), (0, 11)], [(0, 1), (0, 3), (0, 6), (0, 10), (0, 11)], [(0, 1), (0, 3), (0, 7), (0, 8), (0, 9)], [(0, 1), (0, 3), (0, 7), (0, 8), (0, 10)], [(0, 1), (0, 3), (0, 7), (0, 8), (0, 11)], [(0, 1), (0, 3), (0, 7), (0, 9), (0, 10)], [(0, 1), (0, 3), (0, 7), (0, 9), (0, 11)], [(0, 1), (0, 3), (0, 7), (0, 10), (0, 11)], [(0, 1), (0, 3), (0, 8), (0, 9), (0, 10)], [(0, 1), (0, 3), (0, 8), (0, 9), (0, 11)], [(0, 1), (0, 3), (0, 8), (0, 10), (0, 11)], [(0, 1), (0, 3), (0, 9), (0, 10), (0, 11)], [(0, 1), (0, 4), (0, 5), (0, 6), (0, 7)], [(0, 1), (0, 4), (0, 5), (0, 6), (0, 8)], [(0, 1), (0, 4), (0, 5), (0, 6), (0, 9)], [(0, 1), (0, 4), (0, 5), (0, 6), (0, 10)], [(0, 1), (0, 4), (0, 5), (0, 6), (0, 11)], [(0, 1), (0, 4), (0, 5), (0, 7), (0, 8)], [(0, 1), (0, 4), (0, 5), (0, 7), (0, 9)], [(0, 1), (0, 4), (0, 5), (0, 7), (0, 10)], [(0, 1), (0, 4), (0, 5), (0, 7), (0, 11)], [(0, 1), (0, 4), (0, 5), (0, 8), (0, 9)], [(0, 1), (0, 4), (0, 5), (0, 8), (0, 10)], [(0, 1), (0, 4), (0, 5), (0, 8), (0, 11)], [(0, 1), (0, 4), (0, 5), (0, 9), (0, 10)], [(0, 1), (0, 4), (0, 5), (0, 9), (0, 11)], [(0, 1), (0, 4), (0, 5), (0, 10), (0, 11)], [(0, 1), (0, 4), (0, 6), (0, 7), (0, 8)], [(0, 1), (0, 4), (0, 6), (0, 7), (0, 9)], [(0, 1), (0, 4), (0, 6), (0, 7), (0, 10)], [(0, 1), (0, 4), (0, 6), (0, 7), (0, 11)], [(0, 1), (0, 4), (0, 6), (0, 8), (0, 9)], [(0, 1), (0, 4), (0, 6), (0, 8), (0, 10)], [(0, 1), (0, 4), (0, 6), (0, 8), (0, 11)], [(0, 1), (0, 4), (0, 6), (0, 9), (0, 10)], [(0, 1), (0, 4), (0, 6), (0, 9), (0, 11)], [(0, 1), (0, 4), (0, 6), (0, 10), (0, 11)], [(0, 1), (0, 4), (0, 7), (0, 8), (0, 9)], [(0, 1), (0, 4), (0, 7), (0, 8), (0, 10)], [(0, 1), (0, 4), (0, 7), (0, 8), (0, 11)], [(0, 1), (0, 4), (0, 7), (0, 9), (0, 10)], [(0, 1), (0, 4), (0, 7), (0, 9), (0, 11)], [(0, 1), (0, 4), (0, 7), (0, 10), (0, 11)], [(0, 1), (0, 4), (0, 8), (0, 9), (0, 10)], [(0, 1), (0, 4), (0, 8), (0, 9), (0, 11)], [(0, 1), (0, 4), (0, 8), (0, 10), (0, 11)], [(0, 1), (0, 4), (0, 9), (0, 10), (0, 11)], [(0, 1), (0, 5), (0, 6), (0, 7), (0, 8)], [(0, 1), (0, 5), (0, 6), (0, 7), (0, 9)], [(0, 1), (0, 5), (0, 6), (0, 7), (0, 10)], [(0, 1), (0, 5), (0, 6), (0, 7), (0, 11)], [(0, 1), (0, 5), (0, 6), (0, 8), (0, 9)], [(0, 1), (0, 5), (0, 6), (0, 8), (0, 10)], [(0, 1), (0, 5), (0, 6), (0, 8), (0, 11)], [(0, 1), (0, 5), (0, 6), (0, 9), (0, 10)], [(0, 1), (0, 5), (0, 6), (0, 9), (0, 11)], [(0, 1), (0, 5), (0, 6), (0, 10), (0, 11)], [(0, 1), (0, 5), (0, 7), (0, 8), (0, 9)], [(0, 1), (0, 5), (0, 7), (0, 8), (0, 10)], [(0, 1), (0, 5), (0, 7), (0, 8), (0, 11)], [(0, 1), (0, 5), (0, 7), (0, 9), (0, 10)], [(0, 1), (0, 5), (0, 7), (0, 9), (0, 11)], [(0, 1), (0, 5), (0, 7), (0, 10), (0, 11)], [(0, 1), (0, 5), (0, 8), (0, 9), (0, 10)], [(0, 1), (0, 5), (0, 8), (0, 9), (0, 11)], [(0, 1), (0, 5), (0, 8), (0, 10), (0, 11)], [(0, 1), (0, 5), (0, 9), (0, 10), (0, 11)], [(0, 1), (0, 6), (0, 7), (0, 8), (0, 9)], [(0, 1), (0, 6), (0, 7), (0, 8), (0, 10)], [(0, 1), (0, 6), (0, 7), (0, 8), (0, 11)], [(0, 1), (0, 6), (0, 7), (0, 9), (0, 10)], [(0, 1), (0, 6), (0, 7), (0, 9), (0, 11)], [(0, 1), (0, 6), (0, 7), (0, 10), (0, 11)], [(0, 1), (0, 6), (0, 8), (0, 9), (0, 10)], [(0, 1), (0, 6), (0, 8), (0, 9), (0, 11)], [(0, 1), (0, 6), (0, 8), (0, 10), (0, 11)], [(0, 1), (0, 6), (0, 9), (0, 10), (0, 11)], [(0, 1), (0, 7), (0, 8), (0, 9), (0, 10)], [(0, 1), (0, 7), (0, 8), (0, 9), (0, 11)], [(0, 1), (0, 7), (0, 8), (0, 10), (0, 11)], [(0, 1), (0, 7), (0, 9), (0, 10), (0, 11)], [(0, 1), (0, 8), (0, 9), (0, 10), (0, 11)], [(0, 2), (0, 3), (0, 4), (0, 5), (0, 6)], [(0, 2), (0, 3), (0, 4), (0, 5), (0, 7)], [(0, 2), (0, 3), (0, 4), (0, 5), (0, 8)], [(0, 2), (0, 3), (0, 4), (0, 5), (0, 9)], [(0, 2), (0, 3), (0, 4), (0, 5), (0, 10)], [(0, 2), (0, 3), (0, 4), (0, 5), (0, 11)], [(0, 2), (0, 3), (0, 4), (0, 6), (0, 7)], [(0, 2), (0, 3), (0, 4), (0, 6), (0, 8)], [(0, 2), (0, 3), (0, 4), (0, 6), (0, 9)], [(0, 2), (0, 3), (0, 4), (0, 6), (0, 10)], [(0, 2), (0, 3), (0, 4), (0, 6), (0, 11)], [(0, 2), (0, 3), (0, 4), (0, 7), (0, 8)], [(0, 2), (0, 3), (0, 4), (0, 7), (0, 9)], [(0, 2), (0, 3), (0, 4), (0, 7), (0, 10)], [(0, 2), (0, 3), (0, 4), (0, 7), (0, 11)], [(0, 2), (0, 3), (0, 4), (0, 8), (0, 9)], [(0, 2), (0, 3), (0, 4), (0, 8), (0, 10)], [(0, 2), (0, 3), (0, 4), (0, 8), (0, 11)], [(0, 2), (0, 3), (0, 4), (0, 9), (0, 10)], [(0, 2), (0, 3), (0, 4), (0, 9), (0, 11)], [(0, 2), (0, 3), (0, 4), (0, 10), (0, 11)], [(0, 2), (0, 3), (0, 5), (0, 6), (0, 7)], [(0, 2), (0, 3), (0, 5), (0, 6), (0, 8)], [(0, 2), (0, 3), (0, 5), (0, 6), (0, 9)], [(0, 2), (0, 3), (0, 5), (0, 6), (0, 10)], [(0, 2), (0, 3), (0, 5), (0, 6), (0, 11)], [(0, 2), (0, 3), (0, 5), (0, 7), (0, 8)], [(0, 2), (0, 3), (0, 5), (0, 7), (0, 9)], [(0, 2), (0, 3), (0, 5), (0, 7), (0, 10)], [(0, 2), (0, 3), (0, 5), (0, 7), (0, 11)], [(0, 2), (0, 3), (0, 5), (0, 8), (0, 9)], [(0, 2), (0, 3), (0, 5), (0, 8), (0, 10)], [(0, 2), (0, 3), (0, 5), (0, 8), (0, 11)], [(0, 2), (0, 3), (0, 5), (0, 9), (0, 10)], [(0, 2), (0, 3), (0, 5), (0, 9), (0, 11)], [(0, 2), (0, 3), (0, 5), (0, 10), (0, 11)], [(0, 2), (0, 3), (0, 6), (0, 7), (0, 8)], [(0, 2), (0, 3), (0, 6), (0, 7), (0, 9)], [(0, 2), (0, 3), (0, 6), (0, 7), (0, 10)], [(0, 2), (0, 3), (0, 6), (0, 7), (0, 11)], [(0, 2), (0, 3), (0, 6), (0, 8), (0, 9)], [(0, 2), (0, 3), (0, 6), (0, 8), (0, 10)], [(0, 2), (0, 3), (0, 6), (0, 8), (0, 11)], [(0, 2), (0, 3), (0, 6), (0, 9), (0, 10)], [(0, 2), (0, 3), (0, 6), (0, 9), (0, 11)], [(0, 2), (0, 3), (0, 6), (0, 10), (0, 11)], [(0, 2), (0, 3), (0, 7), (0, 8), (0, 9)], [(0, 2), (0, 3), (0, 7), (0, 8), (0, 10)], [(0, 2), (0, 3), (0, 7), (0, 8), (0, 11)], [(0, 2), (0, 3), (0, 7), (0, 9), (0, 10)], [(0, 2), (0, 3), (0, 7), (0, 9), (0, 11)], [(0, 2), (0, 3), (0, 7), (0, 10), (0, 11)], [(0, 2), (0, 3), (0, 8), (0, 9), (0, 10)], [(0, 2), (0, 3), (0, 8), (0, 9), (0, 11)], [(0, 2), (0, 3), (0, 8), (0, 10), (0, 11)], [(0, 2), (0, 3), (0, 9), (0, 10), (0, 11)], [(0, 2), (0, 4), (0, 5), (0, 6), (0, 7)], [(0, 2), (0, 4), (0, 5), (0, 6), (0, 8)], [(0, 2), (0, 4), (0, 5), (0, 6), (0, 9)], [(0, 2), (0, 4), (0, 5), (0, 6), (0, 10)], [(0, 2), (0, 4), (0, 5), (0, 6), (0, 11)], [(0, 2), (0, 4), (0, 5), (0, 7), (0, 8)], [(0, 2), (0, 4), (0, 5), (0, 7), (0, 9)], [(0, 2), (0, 4), (0, 5), (0, 7), (0, 10)], [(0, 2), (0, 4), (0, 5), (0, 7), (0, 11)], [(0, 2), (0, 4), (0, 5), (0, 8), (0, 9)], [(0, 2), (0, 4), (0, 5), (0, 8), (0, 10)], [(0, 2), (0, 4), (0, 5), (0, 8), (0, 11)], [(0, 2), (0, 4), (0, 5), (0, 9), (0, 10)], [(0, 2), (0, 4), (0, 5), (0, 9), (0, 11)], [(0, 2), (0, 4), (0, 5), (0, 10), (0, 11)], [(0, 2), (0, 4), (0, 6), (0, 7), (0, 8)], [(0, 2), (0, 4), (0, 6), (0, 7), (0, 9)], [(0, 2), (0, 4), (0, 6), (0, 7), (0, 10)], [(0, 2), (0, 4), (0, 6), (0, 7), (0, 11)], [(0, 2), (0, 4), (0, 6), (0, 8), (0, 9)], [(0, 2), (0, 4), (0, 6), (0, 8), (0, 10)], [(0, 2), (0, 4), (0, 6), (0, 8), (0, 11)], [(0, 2), (0, 4), (0, 6), (0, 9), (0, 10)], [(0, 2), (0, 4), (0, 6), (0, 9), (0, 11)], [(0, 2), (0, 4), (0, 6), (0, 10), (0, 11)], [(0, 2), (0, 4), (0, 7), (0, 8), (0, 9)], [(0, 2), (0, 4), (0, 7), (0, 8), (0, 10)], [(0, 2), (0, 4), (0, 7), (0, 8), (0, 11)], [(0, 2), (0, 4), (0, 7), (0, 9), (0, 10)], [(0, 2), (0, 4), (0, 7), (0, 9), (0, 11)], [(0, 2), (0, 4), (0, 7), (0, 10), (0, 11)], [(0, 2), (0, 4), (0, 8), (0, 9), (0, 10)], [(0, 2), (0, 4), (0, 8), (0, 9), (0, 11)], [(0, 2), (0, 4), (0, 8), (0, 10), (0, 11)], [(0, 2), (0, 4), (0, 9), (0, 10), (0, 11)], [(0, 2), (0, 5), (0, 6), (0, 7), (0, 8)], [(0, 2), (0, 5), (0, 6), (0, 7), (0, 9)], [(0, 2), (0, 5), (0, 6), (0, 7), (0, 10)], [(0, 2), (0, 5), (0, 6), (0, 7), (0, 11)], [(0, 2), (0, 5), (0, 6), (0, 8), (0, 9)], [(0, 2), (0, 5), (0, 6), (0, 8), (0, 10)], [(0, 2), (0, 5), (0, 6), (0, 8), (0, 11)], [(0, 2), (0, 5), (0, 6), (0, 9), (0, 10)], [(0, 2), (0, 5), (0, 6), (0, 9), (0, 11)], [(0, 2), (0, 5), (0, 6), (0, 10), (0, 11)], [(0, 2), (0, 5), (0, 7), (0, 8), (0, 9)], [(0, 2), (0, 5), (0, 7), (0, 8), (0, 10)], [(0, 2), (0, 5), (0, 7), (0, 8), (0, 11)], [(0, 2), (0, 5), (0, 7), (0, 9), (0, 10)], [(0, 2), (0, 5), (0, 7), (0, 9), (0, 11)], [(0, 2), (0, 5), (0, 7), (0, 10), (0, 11)], [(0, 2), (0, 5), (0, 8), (0, 9), (0, 10)], [(0, 2), (0, 5), (0, 8), (0, 9), (0, 11)], [(0, 2), (0, 5), (0, 8), (0, 10), (0, 11)], [(0, 2), (0, 5), (0, 9), (0, 10), (0, 11)], [(0, 2), (0, 6), (0, 7), (0, 8), (0, 9)], [(0, 2), (0, 6), (0, 7), (0, 8), (0, 10)], [(0, 2), (0, 6), (0, 7), (0, 8), (0, 11)], [(0, 2), (0, 6), (0, 7), (0, 9), (0, 10)], [(0, 2), (0, 6), (0, 7), (0, 9), (0, 11)], [(0, 2), (0, 6), (0, 7), (0, 10), (0, 11)], [(0, 2), (0, 6), (0, 8), (0, 9), (0, 10)], [(0, 2), (0, 6), (0, 8), (0, 9), (0, 11)], [(0, 2), (0, 6), (0, 8), (0, 10), (0, 11)], [(0, 2), (0, 6), (0, 9), (0, 10), (0, 11)], [(0, 2), (0, 7), (0, 8), (0, 9), (0, 10)], [(0, 2), (0, 7), (0, 8), (0, 9), (0, 11)], [(0, 2), (0, 7), (0, 8), (0, 10), (0, 11)], [(0, 2), (0, 7), (0, 9), (0, 10), (0, 11)], [(0, 2), (0, 8), (0, 9), (0, 10), (0, 11)], [(0, 3), (0, 4), (0, 5), (0, 6), (0, 7)], [(0, 3), (0, 4), (0, 5), (0, 6), (0, 8)], [(0, 3), (0, 4), (0, 5), (0, 6), (0, 9)], [(0, 3), (0, 4), (0, 5), (0, 6), (0, 10)], [(0, 3), (0, 4), (0, 5), (0, 6), (0, 11)], [(0, 3), (0, 4), (0, 5), (0, 7), (0, 8)], [(0, 3), (0, 4), (0, 5), (0, 7), (0, 9)], [(0, 3), (0, 4), (0, 5), (0, 7), (0, 10)], [(0, 3), (0, 4), (0, 5), (0, 7), (0, 11)], [(0, 3), (0, 4), (0, 5), (0, 8), (0, 9)], [(0, 3), (0, 4), (0, 5), (0, 8), (0, 10)], [(0, 3), (0, 4), (0, 5), (0, 8), (0, 11)], [(0, 3), (0, 4), (0, 5), (0, 9), (0, 10)], [(0, 3), (0, 4), (0, 5), (0, 9), (0, 11)], [(0, 3), (0, 4), (0, 5), (0, 10), (0, 11)], [(0, 3), (0, 4), (0, 6), (0, 7), (0, 8)], [(0, 3), (0, 4), (0, 6), (0, 7), (0, 9)], [(0, 3), (0, 4), (0, 6), (0, 7), (0, 10)], [(0, 3), (0, 4), (0, 6), (0, 7), (0, 11)], [(0, 3), (0, 4), (0, 6), (0, 8), (0, 9)], [(0, 3), (0, 4), (0, 6), (0, 8), (0, 10)], [(0, 3), (0, 4), (0, 6), (0, 8), (0, 11)], [(0, 3), (0, 4), (0, 6), (0, 9), (0, 10)], [(0, 3), (0, 4), (0, 6), (0, 9), (0, 11)], [(0, 3), (0, 4), (0, 6), (0, 10), (0, 11)], [(0, 3), (0, 4), (0, 7), (0, 8), (0, 9)], [(0, 3), (0, 4), (0, 7), (0, 8), (0, 10)], [(0, 3), (0, 4), (0, 7), (0, 8), (0, 11)], [(0, 3), (0, 4), (0, 7), (0, 9), (0, 10)], [(0, 3), (0, 4), (0, 7), (0, 9), (0, 11)], [(0, 3), (0, 4), (0, 7), (0, 10), (0, 11)], [(0, 3), (0, 4), (0, 8), (0, 9), (0, 10)], [(0, 3), (0, 4), (0, 8), (0, 9), (0, 11)], [(0, 3), (0, 4), (0, 8), (0, 10), (0, 11)], [(0, 3), (0, 4), (0, 9), (0, 10), (0, 11)], [(0, 3), (0, 5), (0, 6), (0, 7), (0, 8)], [(0, 3), (0, 5), (0, 6), (0, 7), (0, 9)], [(0, 3), (0, 5), (0, 6), (0, 7), (0, 10)], [(0, 3), (0, 5), (0, 6), (0, 7), (0, 11)], [(0, 3), (0, 5), (0, 6), (0, 8), (0, 9)], [(0, 3), (0, 5), (0, 6), (0, 8), (0, 10)], [(0, 3), (0, 5), (0, 6), (0, 8), (0, 11)], [(0, 3), (0, 5), (0, 6), (0, 9), (0, 10)], [(0, 3), (0, 5), (0, 6), (0, 9), (0, 11)], [(0, 3), (0, 5), (0, 6), (0, 10), (0, 11)], [(0, 3), (0, 5), (0, 7), (0, 8), (0, 9)], [(0, 3), (0, 5), (0, 7), (0, 8), (0, 10)], [(0, 3), (0, 5), (0, 7), (0, 8), (0, 11)], [(0, 3), (0, 5), (0, 7), (0, 9), (0, 10)], [(0, 3), (0, 5), (0, 7), (0, 9), (0, 11)], [(0, 3), (0, 5), (0, 7), (0, 10), (0, 11)], [(0, 3), (0, 5), (0, 8), (0, 9), (0, 10)], [(0, 3), (0, 5), (0, 8), (0, 9), (0, 11)], [(0, 3), (0, 5), (0, 8), (0, 10), (0, 11)], [(0, 3), (0, 5), (0, 9), (0, 10), (0, 11)], [(0, 3), (0, 6), (0, 7), (0, 8), (0, 9)], [(0, 3), (0, 6), (0, 7), (0, 8), (0, 10)], [(0, 3), (0, 6), (0, 7), (0, 8), (0, 11)], [(0, 3), (0, 6), (0, 7), (0, 9), (0, 10)], [(0, 3), (0, 6), (0, 7), (0, 9), (0, 11)], [(0, 3), (0, 6), (0, 7), (0, 10), (0, 11)], [(0, 3), (0, 6), (0, 8), (0, 9), (0, 10)], [(0, 3), (0, 6), (0, 8), (0, 9), (0, 11)], [(0, 3), (0, 6), (0, 8), (0, 10), (0, 11)], [(0, 3), (0, 6), (0, 9), (0, 10), (0, 11)], [(0, 3), (0, 7), (0, 8), (0, 9), (0, 10)], [(0, 3), (0, 7), (0, 8), (0, 9), (0, 11)], [(0, 3), (0, 7), (0, 8), (0, 10), (0, 11)], [(0, 3), (0, 7), (0, 9), (0, 10), (0, 11)], [(0, 3), (0, 8), (0, 9), (0, 10), (0, 11)], [(0, 4), (0, 5), (0, 6), (0, 7), (0, 8)], [(0, 4), (0, 5), (0, 6), (0, 7), (0, 9)], [(0, 4), (0, 5), (0, 6), (0, 7), (0, 10)], [(0, 4), (0, 5), (0, 6), (0, 7), (0, 11)], [(0, 4), (0, 5), (0, 6), (0, 8), (0, 9)], [(0, 4), (0, 5), (0, 6), (0, 8), (0, 10)], [(0, 4), (0, 5), (0, 6), (0, 8), (0, 11)], [(0, 4), (0, 5), (0, 6), (0, 9), (0, 10)], [(0, 4), (0, 5), (0, 6), (0, 9), (0, 11)], [(0, 4), (0, 5), (0, 6), (0, 10), (0, 11)], [(0, 4), (0, 5), (0, 7), (0, 8), (0, 9)], [(0, 4), (0, 5), (0, 7), (0, 8), (0, 10)], [(0, 4), (0, 5), (0, 7), (0, 8), (0, 11)], [(0, 4), (0, 5), (0, 7), (0, 9), (0, 10)], [(0, 4), (0, 5), (0, 7), (0, 9), (0, 11)], [(0, 4), (0, 5), (0, 7), (0, 10), (0, 11)], [(0, 4), (0, 5), (0, 8), (0, 9), (0, 10)], [(0, 4), (0, 5), (0, 8), (0, 9), (0, 11)], [(0, 4), (0, 5), (0, 8), (0, 10), (0, 11)], [(0, 4), (0, 5), (0, 9), (0, 10), (0, 11)], [(0, 4), (0, 6), (0, 7), (0, 8), (0, 9)], [(0, 4), (0, 6), (0, 7), (0, 8), (0, 10)], [(0, 4), (0, 6), (0, 7), (0, 8), (0, 11)], [(0, 4), (0, 6), (0, 7), (0, 9), (0, 10)], [(0, 4), (0, 6), (0, 7), (0, 9), (0, 11)], [(0, 4), (0, 6), (0, 7), (0, 10), (0, 11)], [(0, 4), (0, 6), (0, 8), (0, 9), (0, 10)], [(0, 4), (0, 6), (0, 8), (0, 9), (0, 11)], [(0, 4), (0, 6), (0, 8), (0, 10), (0, 11)], [(0, 4), (0, 6), (0, 9), (0, 10), (0, 11)], [(0, 4), (0, 7), (0, 8), (0, 9), (0, 10)], [(0, 4), (0, 7), (0, 8), (0, 9), (0, 11)], [(0, 4), (0, 7), (0, 8), (0, 10), (0, 11)], [(0, 4), (0, 7), (0, 9), (0, 10), (0, 11)], [(0, 4), (0, 8), (0, 9), (0, 10), (0, 11)], [(0, 5), (0, 6), (0, 7), (0, 8), (0, 9)], [(0, 5), (0, 6), (0, 7), (0, 8), (0, 10)], [(0, 5), (0, 6), (0, 7), (0, 8), (0, 11)], [(0, 5), (0, 6), (0, 7), (0, 9), (0, 10)], [(0, 5), (0, 6), (0, 7), (0, 9), (0, 11)], [(0, 5), (0, 6), (0, 7), (0, 10), (0, 11)], [(0, 5), (0, 6), (0, 8), (0, 9), (0, 10)], [(0, 5), (0, 6), (0, 8), (0, 9), (0, 11)], [(0, 5), (0, 6), (0, 8), (0, 10), (0, 11)], [(0, 5), (0, 6), (0, 9), (0, 10), (0, 11)], [(0, 5), (0, 7), (0, 8), (0, 9), (0, 10)], [(0, 5), (0, 7), (0, 8), (0, 9), (0, 11)], [(0, 5), (0, 7), (0, 8), (0, 10), (0, 11)], [(0, 5), (0, 7), (0, 9), (0, 10), (0, 11)], [(0, 5), (0, 8), (0, 9), (0, 10), (0, 11)], [(0, 6), (0, 7), (0, 8), (0, 9), (0, 10)], [(0, 6), (0, 7), (0, 8), (0, 9), (0, 11)], [(0, 6), (0, 7), (0, 8), (0, 10), (0, 11)], [(0, 6), (0, 7), (0, 9), (0, 10), (0, 11)], [(0, 6), (0, 8), (0, 9), (0, 10), (0, 11)], [(0, 7), (0, 8), (0, 9), (0, 10), (0, 11)], [(0, 0), (0, 1), (0, 2), (0, 3), (0, 4), (0, 5)], [(0, 0), (0, 1), (0, 2), (0, 3), (0, 4), (0, 6)], [(0, 0), (0, 1), (0, 2), (0, 3), (0, 4), (0, 7)], [(0, 0), (0, 1), (0, 2), (0, 3), (0, 4), (0, 8)], [(0, 0), (0, 1), (0, 2), (0, 3), (0, 4), (0, 9)], [(0, 0), (0, 1), (0, 2), (0, 3), (0, 4), (0, 10)], [(0, 0), (0, 1), (0, 2), (0, 3), (0, 4), (0, 11)], [(0, 0), (0, 1), (0, 2), (0, 3), (0, 5), (0, 6)], [(0, 0), (0, 1), (0, 2), (0, 3), (0, 5), (0, 7)], [(0, 0), (0, 1), (0, 2), (0, 3), (0, 5), (0, 8)], [(0, 0), (0, 1), (0, 2), (0, 3), (0, 5), (0, 9)], [(0, 0), (0, 1), (0, 2), (0, 3), (0, 5), (0, 10)], [(0, 0), (0, 1), (0, 2), (0, 3), (0, 5), (0, 11)], [(0, 0), (0, 1), (0, 2), (0, 3), (0, 6), (0, 7)], [(0, 0), (0, 1), (0, 2), (0, 3), (0, 6), (0, 8)], [(0, 0), (0, 1), (0, 2), (0, 3), (0, 6), (0, 9)], [(0, 0), (0, 1), (0, 2), (0, 3), (0, 6), (0, 10)], [(0, 0), (0, 1), (0, 2), (0, 3), (0, 6), (0, 11)], [(0, 0), (0, 1), (0, 2), (0, 3), (0, 7), (0, 8)], [(0, 0), (0, 1), (0, 2), (0, 3), (0, 7), (0, 9)], [(0, 0), (0, 1), (0, 2), (0, 3), (0, 7), (0, 10)], [(0, 0), (0, 1), (0, 2), (0, 3), (0, 7), (0, 11)], [(0, 0), (0, 1), (0, 2), (0, 3), (0, 8), (0, 9)], [(0, 0), (0, 1), (0, 2), (0, 3), (0, 8), (0, 10)], [(0, 0), (0, 1), (0, 2), (0, 3), (0, 8), (0, 11)], [(0, 0), (0, 1), (0, 2), (0, 3), (0, 9), (0, 10)], [(0, 0), (0, 1), (0, 2), (0, 3), (0, 9), (0, 11)], [(0, 0), (0, 1), (0, 2), (0, 3), (0, 10), (0, 11)], [(0, 0), (0, 1), (0, 2), (0, 4), (0, 5), (0, 6)], [(0, 0), (0, 1), (0, 2), (0, 4), (0, 5), (0, 7)], [(0, 0), (0, 1), (0, 2), (0, 4), (0, 5), (0, 8)], [(0, 0), (0, 1), (0, 2), (0, 4), (0, 5), (0, 9)], [(0, 0), (0, 1), (0, 2), (0, 4), (0, 5), (0, 10)], [(0, 0), (0, 1), (0, 2), (0, 4), (0, 5), (0, 11)], [(0, 0), (0, 1), (0, 2), (0, 4), (0, 6), (0, 7)], [(0, 0), (0, 1), (0, 2), (0, 4), (0, 6), (0, 8)], [(0, 0), (0, 1), (0, 2), (0, 4), (0, 6), (0, 9)], [(0, 0), (0, 1), (0, 2), (0, 4), (0, 6), (0, 10)], [(0, 0), (0, 1), (0, 2), (0, 4), (0, 6), (0, 11)], [(0, 0), (0, 1), (0, 2), (0, 4), (0, 7), (0, 8)], [(0, 0), (0, 1), (0, 2), (0, 4), (0, 7), (0, 9)], [(0, 0), (0, 1), (0, 2), (0, 4), (0, 7), (0, 10)], [(0, 0), (0, 1), (0, 2), (0, 4), (0, 7), (0, 11)], [(0, 0), (0, 1), (0, 2), (0, 4), (0, 8), (0, 9)], [(0, 0), (0, 1), (0, 2), (0, 4), (0, 8), (0, 10)], [(0, 0), (0, 1), (0, 2), (0, 4), (0, 8), (0, 11)], [(0, 0), (0, 1), (0, 2), (0, 4), (0, 9), (0, 10)], [(0, 0), (0, 1), (0, 2), (0, 4), (0, 9), (0, 11)], [(0, 0), (0, 1), (0, 2), (0, 4), (0, 10), (0, 11)], [(0, 0), (0, 1), (0, 2), (0, 5), (0, 6), (0, 7)], [(0, 0), (0, 1), (0, 2), (0, 5), (0, 6), (0, 8)], [(0, 0), (0, 1), (0, 2), (0, 5), (0, 6), (0, 9)], [(0, 0), (0, 1), (0, 2), (0, 5), (0, 6), (0, 10)], [(0, 0), (0, 1), (0, 2), (0, 5), (0, 6), (0, 11)], [(0, 0), (0, 1), (0, 2), (0, 5), (0, 7), (0, 8)], [(0, 0), (0, 1), (0, 2), (0, 5), (0, 7), (0, 9)], [(0, 0), (0, 1), (0, 2), (0, 5), (0, 7), (0, 10)], [(0, 0), (0, 1), (0, 2), (0, 5), (0, 7), (0, 11)], [(0, 0), (0, 1), (0, 2), (0, 5), (0, 8), (0, 9)], [(0, 0), (0, 1), (0, 2), (0, 5), (0, 8), (0, 10)], [(0, 0), (0, 1), (0, 2), (0, 5), (0, 8), (0, 11)], [(0, 0), (0, 1), (0, 2), (0, 5), (0, 9), (0, 10)], [(0, 0), (0, 1), (0, 2), (0, 5), (0, 9), (0, 11)], [(0, 0), (0, 1), (0, 2), (0, 5), (0, 10), (0, 11)], [(0, 0), (0, 1), (0, 2), (0, 6), (0, 7), (0, 8)], [(0, 0), (0, 1), (0, 2), (0, 6), (0, 7), (0, 9)], [(0, 0), (0, 1), (0, 2), (0, 6), (0, 7), (0, 10)], [(0, 0), (0, 1), (0, 2), (0, 6), (0, 7), (0, 11)], [(0, 0), (0, 1), (0, 2), (0, 6), (0, 8), (0, 9)], [(0, 0), (0, 1), (0, 2), (0, 6), (0, 8), (0, 10)], [(0, 0), (0, 1), (0, 2), (0, 6), (0, 8), (0, 11)], [(0, 0), (0, 1), (0, 2), (0, 6), (0, 9), (0, 10)], [(0, 0), (0, 1), (0, 2), (0, 6), (0, 9), (0, 11)], [(0, 0), (0, 1), (0, 2), (0, 6), (0, 10), (0, 11)], [(0, 0), (0, 1), (0, 2), (0, 7), (0, 8), (0, 9)], [(0, 0), (0, 1), (0, 2), (0, 7), (0, 8), (0, 10)], [(0, 0), (0, 1), (0, 2), (0, 7), (0, 8), (0, 11)], [(0, 0), (0, 1), (0, 2), (0, 7), (0, 9), (0, 10)], [(0, 0), (0, 1), (0, 2), (0, 7), (0, 9), (0, 11)], [(0, 0), (0, 1), (0, 2), (0, 7), (0, 10), (0, 11)], [(0, 0), (0, 1), (0, 2), (0, 8), (0, 9), (0, 10)], [(0, 0), (0, 1), (0, 2), (0, 8), (0, 9), (0, 11)], [(0, 0), (0, 1), (0, 2), (0, 8), (0, 10), (0, 11)], [(0, 0), (0, 1), (0, 2), (0, 9), (0, 10), (0, 11)], [(0, 0), (0, 1), (0, 3), (0, 4), (0, 5), (0, 6)], [(0, 0), (0, 1), (0, 3), (0, 4), (0, 5), (0, 7)], [(0, 0), (0, 1), (0, 3), (0, 4), (0, 5), (0, 8)], [(0, 0), (0, 1), (0, 3), (0, 4), (0, 5), (0, 9)], [(0, 0), (0, 1), (0, 3), (0, 4), (0, 5), (0, 10)], [(0, 0), (0, 1), (0, 3), (0, 4), (0, 5), (0, 11)], [(0, 0), (0, 1), (0, 3), (0, 4), (0, 6), (0, 7)], [(0, 0), (0, 1), (0, 3), (0, 4), (0, 6), (0, 8)], [(0, 0), (0, 1), (0, 3), (0, 4), (0, 6), (0, 9)], [(0, 0), (0, 1), (0, 3), (0, 4), (0, 6), (0, 10)], [(0, 0), (0, 1), (0, 3), (0, 4), (0, 6), (0, 11)], [(0, 0), (0, 1), (0, 3), (0, 4), (0, 7), (0, 8)], [(0, 0), (0, 1), (0, 3), (0, 4), (0, 7), (0, 9)], [(0, 0), (0, 1), (0, 3), (0, 4), (0, 7), (0, 10)], [(0, 0), (0, 1), (0, 3), (0, 4), (0, 7), (0, 11)], [(0, 0), (0, 1), (0, 3), (0, 4), (0, 8), (0, 9)], [(0, 0), (0, 1), (0, 3), (0, 4), (0, 8), (0, 10)], [(0, 0), (0, 1), (0, 3), (0, 4), (0, 8), (0, 11)], [(0, 0), (0, 1), (0, 3), (0, 4), (0, 9), (0, 10)], [(0, 0), (0, 1), (0, 3), (0, 4), (0, 9), (0, 11)], [(0, 0), (0, 1), (0, 3), (0, 4), (0, 10), (0, 11)], [(0, 0), (0, 1), (0, 3), (0, 5), (0, 6), (0, 7)], [(0, 0), (0, 1), (0, 3), (0, 5), (0, 6), (0, 8)], [(0, 0), (0, 1), (0, 3), (0, 5), (0, 6), (0, 9)], [(0, 0), (0, 1), (0, 3), (0, 5), (0, 6), (0, 10)], [(0, 0), (0, 1), (0, 3), (0, 5), (0, 6), (0, 11)], [(0, 0), (0, 1), (0, 3), (0, 5), (0, 7), (0, 8)], [(0, 0), (0, 1), (0, 3), (0, 5), (0, 7), (0, 9)], [(0, 0), (0, 1), (0, 3), (0, 5), (0, 7), (0, 10)], [(0, 0), (0, 1), (0, 3), (0, 5), (0, 7), (0, 11)], [(0, 0), (0, 1), (0, 3), (0, 5), (0, 8), (0, 9)], [(0, 0), (0, 1), (0, 3), (0, 5), (0, 8), (0, 10)], [(0, 0), (0, 1), (0, 3), (0, 5), (0, 8), (0, 11)], [(0, 0), (0, 1), (0, 3), (0, 5), (0, 9), (0, 10)], [(0, 0), (0, 1), (0, 3), (0, 5), (0, 9), (0, 11)], [(0, 0), (0, 1), (0, 3), (0, 5), (0, 10), (0, 11)], [(0, 0), (0, 1), (0, 3), (0, 6), (0, 7), (0, 8)], [(0, 0), (0, 1), (0, 3), (0, 6), (0, 7), (0, 9)], [(0, 0), (0, 1), (0, 3), (0, 6), (0, 7), (0, 10)], [(0, 0), (0, 1), (0, 3), (0, 6), (0, 7), (0, 11)], [(0, 0), (0, 1), (0, 3), (0, 6), (0, 8), (0, 9)], [(0, 0), (0, 1), (0, 3), (0, 6), (0, 8), (0, 10)], [(0, 0), (0, 1), (0, 3), (0, 6), (0, 8), (0, 11)], [(0, 0), (0, 1), (0, 3), (0, 6), (0, 9), (0, 10)], [(0, 0), (0, 1), (0, 3), (0, 6), (0, 9), (0, 11)], [(0, 0), (0, 1), (0, 3), (0, 6), (0, 10), (0, 11)], [(0, 0), (0, 1), (0, 3), (0, 7), (0, 8), (0, 9)], [(0, 0), (0, 1), (0, 3), (0, 7), (0, 8), (0, 10)], [(0, 0), (0, 1), (0, 3), (0, 7), (0, 8), (0, 11)], [(0, 0), (0, 1), (0, 3), (0, 7), (0, 9), (0, 10)], [(0, 0), (0, 1), (0, 3), (0, 7), (0, 9), (0, 11)], [(0, 0), (0, 1), (0, 3), (0, 7), (0, 10), (0, 11)], [(0, 0), (0, 1), (0, 3), (0, 8), (0, 9), (0, 10)], [(0, 0), (0, 1), (0, 3), (0, 8), (0, 9), (0, 11)], [(0, 0), (0, 1), (0, 3), (0, 8), (0, 10), (0, 11)], [(0, 0), (0, 1), (0, 3), (0, 9), (0, 10), (0, 11)], [(0, 0), (0, 1), (0, 4), (0, 5), (0, 6), (0, 7)], [(0, 0), (0, 1), (0, 4), (0, 5), (0, 6), (0, 8)], [(0, 0), (0, 1), (0, 4), (0, 5), (0, 6), (0, 9)], [(0, 0), (0, 1), (0, 4), (0, 5), (0, 6), (0, 10)], [(0, 0), (0, 1), (0, 4), (0, 5), (0, 6), (0, 11)], [(0, 0), (0, 1), (0, 4), (0, 5), (0, 7), (0, 8)], [(0, 0), (0, 1), (0, 4), (0, 5), (0, 7), (0, 9)], [(0, 0), (0, 1), (0, 4), (0, 5), (0, 7), (0, 10)], [(0, 0), (0, 1), (0, 4), (0, 5), (0, 7), (0, 11)], [(0, 0), (0, 1), (0, 4), (0, 5), (0, 8), (0, 9)], [(0, 0), (0, 1), (0, 4), (0, 5), (0, 8), (0, 10)], [(0, 0), (0, 1), (0, 4), (0, 5), (0, 8), (0, 11)], [(0, 0), (0, 1), (0, 4), (0, 5), (0, 9), (0, 10)], [(0, 0), (0, 1), (0, 4), (0, 5), (0, 9), (0, 11)], [(0, 0), (0, 1), (0, 4), (0, 5), (0, 10), (0, 11)], [(0, 0), (0, 1), (0, 4), (0, 6), (0, 7), (0, 8)], [(0, 0), (0, 1), (0, 4), (0, 6), (0, 7), (0, 9)], [(0, 0), (0, 1), (0, 4), (0, 6), (0, 7), (0, 10)], [(0, 0), (0, 1), (0, 4), (0, 6), (0, 7), (0, 11)], [(0, 0), (0, 1), (0, 4), (0, 6), (0, 8), (0, 9)], [(0, 0), (0, 1), (0, 4), (0, 6), (0, 8), (0, 10)], [(0, 0), (0, 1), (0, 4), (0, 6), (0, 8), (0, 11)], [(0, 0), (0, 1), (0, 4), (0, 6), (0, 9), (0, 10)], [(0, 0), (0, 1), (0, 4), (0, 6), (0, 9), (0, 11)], [(0, 0), (0, 1), (0, 4), (0, 6), (0, 10), (0, 11)], [(0, 0), (0, 1), (0, 4), (0, 7), (0, 8), (0, 9)], [(0, 0), (0, 1), (0, 4), (0, 7), (0, 8), (0, 10)], [(0, 0), (0, 1), (0, 4), (0, 7), (0, 8), (0, 11)], [(0, 0), (0, 1), (0, 4), (0, 7), (0, 9), (0, 10)], [(0, 0), (0, 1), (0, 4), (0, 7), (0, 9), (0, 11)], [(0, 0), (0, 1), (0, 4), (0, 7), (0, 10), (0, 11)], [(0, 0), (0, 1), (0, 4), (0, 8), (0, 9), (0, 10)], [(0, 0), (0, 1), (0, 4), (0, 8), (0, 9), (0, 11)], [(0, 0), (0, 1), (0, 4), (0, 8), (0, 10), (0, 11)], [(0, 0), (0, 1), (0, 4), (0, 9), (0, 10), (0, 11)], [(0, 0), (0, 1), (0, 5), (0, 6), (0, 7), (0, 8)], [(0, 0), (0, 1), (0, 5), (0, 6), (0, 7), (0, 9)], [(0, 0), (0, 1), (0, 5), (0, 6), (0, 7), (0, 10)], [(0, 0), (0, 1), (0, 5), (0, 6), (0, 7), (0, 11)], [(0, 0), (0, 1), (0, 5), (0, 6), (0, 8), (0, 9)], [(0, 0), (0, 1), (0, 5), (0, 6), (0, 8), (0, 10)], [(0, 0), (0, 1), (0, 5), (0, 6), (0, 8), (0, 11)], [(0, 0), (0, 1), (0, 5), (0, 6), (0, 9), (0, 10)], [(0, 0), (0, 1), (0, 5), (0, 6), (0, 9), (0, 11)], [(0, 0), (0, 1), (0, 5), (0, 6), (0, 10), (0, 11)], [(0, 0), (0, 1), (0, 5), (0, 7), (0, 8), (0, 9)], [(0, 0), (0, 1), (0, 5), (0, 7), (0, 8), (0, 10)], [(0, 0), (0, 1), (0, 5), (0, 7), (0, 8), (0, 11)], [(0, 0), (0, 1), (0, 5), (0, 7), (0, 9), (0, 10)], [(0, 0), (0, 1), (0, 5), (0, 7), (0, 9), (0, 11)], [(0, 0), (0, 1), (0, 5), (0, 7), (0, 10), (0, 11)], [(0, 0), (0, 1), (0, 5), (0, 8), (0, 9), (0, 10)], [(0, 0), (0, 1), (0, 5), (0, 8), (0, 9), (0, 11)], [(0, 0), (0, 1), (0, 5), (0, 8), (0, 10), (0, 11)], [(0, 0), (0, 1), (0, 5), (0, 9), (0, 10), (0, 11)], [(0, 0), (0, 1), (0, 6), (0, 7), (0, 8), (0, 9)], [(0, 0), (0, 1), (0, 6), (0, 7), (0, 8), (0, 10)], [(0, 0), (0, 1), (0, 6), (0, 7), (0, 8), (0, 11)], [(0, 0), (0, 1), (0, 6), (0, 7), (0, 9), (0, 10)], [(0, 0), (0, 1), (0, 6), (0, 7), (0, 9), (0, 11)], [(0, 0), (0, 1), (0, 6), (0, 7), (0, 10), (0, 11)], [(0, 0), (0, 1), (0, 6), (0, 8), (0, 9), (0, 10)], [(0, 0), (0, 1), (0, 6), (0, 8), (0, 9), (0, 11)], [(0, 0), (0, 1), (0, 6), (0, 8), (0, 10), (0, 11)], [(0, 0), (0, 1), (0, 6), (0, 9), (0, 10), (0, 11)], [(0, 0), (0, 1), (0, 7), (0, 8), (0, 9), (0, 10)], [(0, 0), (0, 1), (0, 7), (0, 8), (0, 9), (0, 11)], [(0, 0), (0, 1), (0, 7), (0, 8), (0, 10), (0, 11)], [(0, 0), (0, 1), (0, 7), (0, 9), (0, 10), (0, 11)], [(0, 0), (0, 1), (0, 8), (0, 9), (0, 10), (0, 11)], [(0, 0), (0, 2), (0, 3), (0, 4), (0, 5), (0, 6)], [(0, 0), (0, 2), (0, 3), (0, 4), (0, 5), (0, 7)], [(0, 0), (0, 2), (0, 3), (0, 4), (0, 5), (0, 8)], [(0, 0), (0, 2), (0, 3), (0, 4), (0, 5), (0, 9)], [(0, 0), (0, 2), (0, 3), (0, 4), (0, 5), (0, 10)], [(0, 0), (0, 2), (0, 3), (0, 4), (0, 5), (0, 11)], [(0, 0), (0, 2), (0, 3), (0, 4), (0, 6), (0, 7)], [(0, 0), (0, 2), (0, 3), (0, 4), (0, 6), (0, 8)], [(0, 0), (0, 2), (0, 3), (0, 4), (0, 6), (0, 9)], [(0, 0), (0, 2), (0, 3), (0, 4), (0, 6), (0, 10)], [(0, 0), (0, 2), (0, 3), (0, 4), (0, 6), (0, 11)], [(0, 0), (0, 2), (0, 3), (0, 4), (0, 7), (0, 8)], [(0, 0), (0, 2), (0, 3), (0, 4), (0, 7), (0, 9)], [(0, 0), (0, 2), (0, 3), (0, 4), (0, 7), (0, 10)], [(0, 0), (0, 2), (0, 3), (0, 4), (0, 7), (0, 11)], [(0, 0), (0, 2), (0, 3), (0, 4), (0, 8), (0, 9)], [(0, 0), (0, 2), (0, 3), (0, 4), (0, 8), (0, 10)], [(0, 0), (0, 2), (0, 3), (0, 4), (0, 8), (0, 11)], [(0, 0), (0, 2), (0, 3), (0, 4), (0, 9), (0, 10)], [(0, 0), (0, 2), (0, 3), (0, 4), (0, 9), (0, 11)], [(0, 0), (0, 2), (0, 3), (0, 4), (0, 10), (0, 11)], [(0, 0), (0, 2), (0, 3), (0, 5), (0, 6), (0, 7)], [(0, 0), (0, 2), (0, 3), (0, 5), (0, 6), (0, 8)], [(0, 0), (0, 2), (0, 3), (0, 5), (0, 6), (0, 9)], [(0, 0), (0, 2), (0, 3), (0, 5), (0, 6), (0, 10)], [(0, 0), (0, 2), (0, 3), (0, 5), (0, 6), (0, 11)], [(0, 0), (0, 2), (0, 3), (0, 5), (0, 7), (0, 8)], [(0, 0), (0, 2), (0, 3), (0, 5), (0, 7), (0, 9)], [(0, 0), (0, 2), (0, 3), (0, 5), (0, 7), (0, 10)], [(0, 0), (0, 2), (0, 3), (0, 5), (0, 7), (0, 11)], [(0, 0), (0, 2), (0, 3), (0, 5), (0, 8), (0, 9)], [(0, 0), (0, 2), (0, 3), (0, 5), (0, 8), (0, 10)], [(0, 0), (0, 2), (0, 3), (0, 5), (0, 8), (0, 11)], [(0, 0), (0, 2), (0, 3), (0, 5), (0, 9), (0, 10)], [(0, 0), (0, 2), (0, 3), (0, 5), (0, 9), (0, 11)], [(0, 0), (0, 2), (0, 3), (0, 5), (0, 10), (0, 11)], [(0, 0), (0, 2), (0, 3), (0, 6), (0, 7), (0, 8)], [(0, 0), (0, 2), (0, 3), (0, 6), (0, 7), (0, 9)], [(0, 0), (0, 2), (0, 3), (0, 6), (0, 7), (0, 10)], [(0, 0), (0, 2), (0, 3), (0, 6), (0, 7), (0, 11)], [(0, 0), (0, 2), (0, 3), (0, 6), (0, 8), (0, 9)], [(0, 0), (0, 2), (0, 3), (0, 6), (0, 8), (0, 10)], [(0, 0), (0, 2), (0, 3), (0, 6), (0, 8), (0, 11)], [(0, 0), (0, 2), (0, 3), (0, 6), (0, 9), (0, 10)], [(0, 0), (0, 2), (0, 3), (0, 6), (0, 9), (0, 11)], [(0, 0), (0, 2), (0, 3), (0, 6), (0, 10), (0, 11)], [(0, 0), (0, 2), (0, 3), (0, 7), (0, 8), (0, 9)], [(0, 0), (0, 2), (0, 3), (0, 7), (0, 8), (0, 10)], [(0, 0), (0, 2), (0, 3), (0, 7), (0, 8), (0, 11)], [(0, 0), (0, 2), (0, 3), (0, 7), (0, 9), (0, 10)], [(0, 0), (0, 2), (0, 3), (0, 7), (0, 9), (0, 11)], [(0, 0), (0, 2), (0, 3), (0, 7), (0, 10), (0, 11)], [(0, 0), (0, 2), (0, 3), (0, 8), (0, 9), (0, 10)], [(0, 0), (0, 2), (0, 3), (0, 8), (0, 9), (0, 11)], [(0, 0), (0, 2), (0, 3), (0, 8), (0, 10), (0, 11)], [(0, 0), (0, 2), (0, 3), (0, 9), (0, 10), (0, 11)], [(0, 0), (0, 2), (0, 4), (0, 5), (0, 6), (0, 7)], [(0, 0), (0, 2), (0, 4), (0, 5), (0, 6), (0, 8)], [(0, 0), (0, 2), (0, 4), (0, 5), (0, 6), (0, 9)], [(0, 0), (0, 2), (0, 4), (0, 5), (0, 6), (0, 10)], [(0, 0), (0, 2), (0, 4), (0, 5), (0, 6), (0, 11)], [(0, 0), (0, 2), (0, 4), (0, 5), (0, 7), (0, 8)], [(0, 0), (0, 2), (0, 4), (0, 5), (0, 7), (0, 9)], [(0, 0), (0, 2), (0, 4), (0, 5), (0, 7), (0, 10)], [(0, 0), (0, 2), (0, 4), (0, 5), (0, 7), (0, 11)], [(0, 0), (0, 2), (0, 4), (0, 5), (0, 8), (0, 9)], [(0, 0), (0, 2), (0, 4), (0, 5), (0, 8), (0, 10)], [(0, 0), (0, 2), (0, 4), (0, 5), (0, 8), (0, 11)], [(0, 0), (0, 2), (0, 4), (0, 5), (0, 9), (0, 10)], [(0, 0), (0, 2), (0, 4), (0, 5), (0, 9), (0, 11)], [(0, 0), (0, 2), (0, 4), (0, 5), (0, 10), (0, 11)], [(0, 0), (0, 2), (0, 4), (0, 6), (0, 7), (0, 8)], [(0, 0), (0, 2), (0, 4), (0, 6), (0, 7), (0, 9)], [(0, 0), (0, 2), (0, 4), (0, 6), (0, 7), (0, 10)], [(0, 0), (0, 2), (0, 4), (0, 6), (0, 7), (0, 11)], [(0, 0), (0, 2), (0, 4), (0, 6), (0, 8), (0, 9)], [(0, 0), (0, 2), (0, 4), (0, 6), (0, 8), (0, 10)], [(0, 0), (0, 2), (0, 4), (0, 6), (0, 8), (0, 11)], [(0, 0), (0, 2), (0, 4), (0, 6), (0, 9), (0, 10)], [(0, 0), (0, 2), (0, 4), (0, 6), (0, 9), (0, 11)], [(0, 0), (0, 2), (0, 4), (0, 6), (0, 10), (0, 11)], [(0, 0), (0, 2), (0, 4), (0, 7), (0, 8), (0, 9)], [(0, 0), (0, 2), (0, 4), (0, 7), (0, 8), (0, 10)], [(0, 0), (0, 2), (0, 4), (0, 7), (0, 8), (0, 11)], [(0, 0), (0, 2), (0, 4), (0, 7), (0, 9), (0, 10)], [(0, 0), (0, 2), (0, 4), (0, 7), (0, 9), (0, 11)], [(0, 0), (0, 2), (0, 4), (0, 7), (0, 10), (0, 11)], [(0, 0), (0, 2), (0, 4), (0, 8), (0, 9), (0, 10)], [(0, 0), (0, 2), (0, 4), (0, 8), (0, 9), (0, 11)], [(0, 0), (0, 2), (0, 4), (0, 8), (0, 10), (0, 11)], [(0, 0), (0, 2), (0, 4), (0, 9), (0, 10), (0, 11)], [(0, 0), (0, 2), (0, 5), (0, 6), (0, 7), (0, 8)], [(0, 0), (0, 2), (0, 5), (0, 6), (0, 7), (0, 9)], [(0, 0), (0, 2), (0, 5), (0, 6), (0, 7), (0, 10)], [(0, 0), (0, 2), (0, 5), (0, 6), (0, 7), (0, 11)], [(0, 0), (0, 2), (0, 5), (0, 6), (0, 8), (0, 9)], [(0, 0), (0, 2), (0, 5), (0, 6), (0, 8), (0, 10)], [(0, 0), (0, 2), (0, 5), (0, 6), (0, 8), (0, 11)], [(0, 0), (0, 2), (0, 5), (0, 6), (0, 9), (0, 10)], [(0, 0), (0, 2), (0, 5), (0, 6), (0, 9), (0, 11)], [(0, 0), (0, 2), (0, 5), (0, 6), (0, 10), (0, 11)], [(0, 0), (0, 2), (0, 5), (0, 7), (0, 8), (0, 9)], [(0, 0), (0, 2), (0, 5), (0, 7), (0, 8), (0, 10)], [(0, 0), (0, 2), (0, 5), (0, 7), (0, 8), (0, 11)], [(0, 0), (0, 2), (0, 5), (0, 7), (0, 9), (0, 10)], [(0, 0), (0, 2), (0, 5), (0, 7), (0, 9), (0, 11)], [(0, 0), (0, 2), (0, 5), (0, 7), (0, 10), (0, 11)], [(0, 0), (0, 2), (0, 5), (0, 8), (0, 9), (0, 10)], [(0, 0), (0, 2), (0, 5), (0, 8), (0, 9), (0, 11)], [(0, 0), (0, 2), (0, 5), (0, 8), (0, 10), (0, 11)], [(0, 0), (0, 2), (0, 5), (0, 9), (0, 10), (0, 11)], [(0, 0), (0, 2), (0, 6), (0, 7), (0, 8), (0, 9)], [(0, 0), (0, 2), (0, 6), (0, 7), (0, 8), (0, 10)], [(0, 0), (0, 2), (0, 6), (0, 7), (0, 8), (0, 11)], [(0, 0), (0, 2), (0, 6), (0, 7), (0, 9), (0, 10)], [(0, 0), (0, 2), (0, 6), (0, 7), (0, 9), (0, 11)], [(0, 0), (0, 2), (0, 6), (0, 7), (0, 10), (0, 11)], [(0, 0), (0, 2), (0, 6), (0, 8), (0, 9), (0, 10)], [(0, 0), (0, 2), (0, 6), (0, 8), (0, 9), (0, 11)], [(0, 0), (0, 2), (0, 6), (0, 8), (0, 10), (0, 11)], [(0, 0), (0, 2), (0, 6), (0, 9), (0, 10), (0, 11)], [(0, 0), (0, 2), (0, 7), (0, 8), (0, 9), (0, 10)], [(0, 0), (0, 2), (0, 7), (0, 8), (0, 9), (0, 11)], [(0, 0), (0, 2), (0, 7), (0, 8), (0, 10), (0, 11)], [(0, 0), (0, 2), (0, 7), (0, 9), (0, 10), (0, 11)], [(0, 0), (0, 2), (0, 8), (0, 9), (0, 10), (0, 11)], [(0, 0), (0, 3), (0, 4), (0, 5), (0, 6), (0, 7)], [(0, 0), (0, 3), (0, 4), (0, 5), (0, 6), (0, 8)], [(0, 0), (0, 3), (0, 4), (0, 5), (0, 6), (0, 9)], [(0, 0), (0, 3), (0, 4), (0, 5), (0, 6), (0, 10)], [(0, 0), (0, 3), (0, 4), (0, 5), (0, 6), (0, 11)], [(0, 0), (0, 3), (0, 4), (0, 5), (0, 7), (0, 8)], [(0, 0), (0, 3), (0, 4), (0, 5), (0, 7), (0, 9)], [(0, 0), (0, 3), (0, 4), (0, 5), (0, 7), (0, 10)], [(0, 0), (0, 3), (0, 4), (0, 5), (0, 7), (0, 11)], [(0, 0), (0, 3), (0, 4), (0, 5), (0, 8), (0, 9)], [(0, 0), (0, 3), (0, 4), (0, 5), (0, 8), (0, 10)], [(0, 0), (0, 3), (0, 4), (0, 5), (0, 8), (0, 11)], [(0, 0), (0, 3), (0, 4), (0, 5), (0, 9), (0, 10)], [(0, 0), (0, 3), (0, 4), (0, 5), (0, 9), (0, 11)], [(0, 0), (0, 3), (0, 4), (0, 5), (0, 10), (0, 11)], [(0, 0), (0, 3), (0, 4), (0, 6), (0, 7), (0, 8)], [(0, 0), (0, 3), (0, 4), (0, 6), (0, 7), (0, 9)], [(0, 0), (0, 3), (0, 4), (0, 6), (0, 7), (0, 10)], [(0, 0), (0, 3), (0, 4), (0, 6), (0, 7), (0, 11)], [(0, 0), (0, 3), (0, 4), (0, 6), (0, 8), (0, 9)], [(0, 0), (0, 3), (0, 4), (0, 6), (0, 8), (0, 10)], [(0, 0), (0, 3), (0, 4), (0, 6), (0, 8), (0, 11)], [(0, 0), (0, 3), (0, 4), (0, 6), (0, 9), (0, 10)], [(0, 0), (0, 3), (0, 4), (0, 6), (0, 9), (0, 11)], [(0, 0), (0, 3), (0, 4), (0, 6), (0, 10), (0, 11)], [(0, 0), (0, 3), (0, 4), (0, 7), (0, 8), (0, 9)], [(0, 0), (0, 3), (0, 4), (0, 7), (0, 8), (0, 10)], [(0, 0), (0, 3), (0, 4), (0, 7), (0, 8), (0, 11)], [(0, 0), (0, 3), (0, 4), (0, 7), (0, 9), (0, 10)], [(0, 0), (0, 3), (0, 4), (0, 7), (0, 9), (0, 11)], [(0, 0), (0, 3), (0, 4), (0, 7), (0, 10), (0, 11)], [(0, 0), (0, 3), (0, 4), (0, 8), (0, 9), (0, 10)], [(0, 0), (0, 3), (0, 4), (0, 8), (0, 9), (0, 11)], [(0, 0), (0, 3), (0, 4), (0, 8), (0, 10), (0, 11)], [(0, 0), (0, 3), (0, 4), (0, 9), (0, 10), (0, 11)], [(0, 0), (0, 3), (0, 5), (0, 6), (0, 7), (0, 8)], [(0, 0), (0, 3), (0, 5), (0, 6), (0, 7), (0, 9)], [(0, 0), (0, 3), (0, 5), (0, 6), (0, 7), (0, 10)], [(0, 0), (0, 3), (0, 5), (0, 6), (0, 7), (0, 11)], [(0, 0), (0, 3), (0, 5), (0, 6), (0, 8), (0, 9)], [(0, 0), (0, 3), (0, 5), (0, 6), (0, 8), (0, 10)], [(0, 0), (0, 3), (0, 5), (0, 6), (0, 8), (0, 11)], [(0, 0), (0, 3), (0, 5), (0, 6), (0, 9), (0, 10)], [(0, 0), (0, 3), (0, 5), (0, 6), (0, 9), (0, 11)], [(0, 0), (0, 3), (0, 5), (0, 6), (0, 10), (0, 11)], [(0, 0), (0, 3), (0, 5), (0, 7), (0, 8), (0, 9)], [(0, 0), (0, 3), (0, 5), (0, 7), (0, 8), (0, 10)], [(0, 0), (0, 3), (0, 5), (0, 7), (0, 8), (0, 11)], [(0, 0), (0, 3), (0, 5), (0, 7), (0, 9), (0, 10)], [(0, 0), (0, 3), (0, 5), (0, 7), (0, 9), (0, 11)], [(0, 0), (0, 3), (0, 5), (0, 7), (0, 10), (0, 11)], [(0, 0), (0, 3), (0, 5), (0, 8), (0, 9), (0, 10)], [(0, 0), (0, 3), (0, 5), (0, 8), (0, 9), (0, 11)], [(0, 0), (0, 3), (0, 5), (0, 8), (0, 10), (0, 11)], [(0, 0), (0, 3), (0, 5), (0, 9), (0, 10), (0, 11)], [(0, 0), (0, 3), (0, 6), (0, 7), (0, 8), (0, 9)], [(0, 0), (0, 3), (0, 6), (0, 7), (0, 8), (0, 10)], [(0, 0), (0, 3), (0, 6), (0, 7), (0, 8), (0, 11)], [(0, 0), (0, 3), (0, 6), (0, 7), (0, 9), (0, 10)], [(0, 0), (0, 3), (0, 6), (0, 7), (0, 9), (0, 11)], [(0, 0), (0, 3), (0, 6), (0, 7), (0, 10), (0, 11)], [(0, 0), (0, 3), (0, 6), (0, 8), (0, 9), (0, 10)], [(0, 0), (0, 3), (0, 6), (0, 8), (0, 9), (0, 11)], [(0, 0), (0, 3), (0, 6), (0, 8), (0, 10), (0, 11)], [(0, 0), (0, 3), (0, 6), (0, 9), (0, 10), (0, 11)], [(0, 0), (0, 3), (0, 7), (0, 8), (0, 9), (0, 10)], [(0, 0), (0, 3), (0, 7), (0, 8), (0, 9), (0, 11)], [(0, 0), (0, 3), (0, 7), (0, 8), (0, 10), (0, 11)], [(0, 0), (0, 3), (0, 7), (0, 9), (0, 10), (0, 11)], [(0, 0), (0, 3), (0, 8), (0, 9), (0, 10), (0, 11)], [(0, 0), (0, 4), (0, 5), (0, 6), (0, 7), (0, 8)], [(0, 0), (0, 4), (0, 5), (0, 6), (0, 7), (0, 9)], [(0, 0), (0, 4), (0, 5), (0, 6), (0, 7), (0, 10)], [(0, 0), (0, 4), (0, 5), (0, 6), (0, 7), (0, 11)], [(0, 0), (0, 4), (0, 5), (0, 6), (0, 8), (0, 9)], [(0, 0), (0, 4), (0, 5), (0, 6), (0, 8), (0, 10)], [(0, 0), (0, 4), (0, 5), (0, 6), (0, 8), (0, 11)], [(0, 0), (0, 4), (0, 5), (0, 6), (0, 9), (0, 10)], [(0, 0), (0, 4), (0, 5), (0, 6), (0, 9), (0, 11)], [(0, 0), (0, 4), (0, 5), (0, 6), (0, 10), (0, 11)], [(0, 0), (0, 4), (0, 5), (0, 7), (0, 8), (0, 9)], [(0, 0), (0, 4), (0, 5), (0, 7), (0, 8), (0, 10)], [(0, 0), (0, 4), (0, 5), (0, 7), (0, 8), (0, 11)], [(0, 0), (0, 4), (0, 5), (0, 7), (0, 9), (0, 10)], [(0, 0), (0, 4), (0, 5), (0, 7), (0, 9), (0, 11)], [(0, 0), (0, 4), (0, 5), (0, 7), (0, 10), (0, 11)], [(0, 0), (0, 4), (0, 5), (0, 8), (0, 9), (0, 10)], [(0, 0), (0, 4), (0, 5), (0, 8), (0, 9), (0, 11)], [(0, 0), (0, 4), (0, 5), (0, 8), (0, 10), (0, 11)], [(0, 0), (0, 4), (0, 5), (0, 9), (0, 10), (0, 11)], [(0, 0), (0, 4), (0, 6), (0, 7), (0, 8), (0, 9)], [(0, 0), (0, 4), (0, 6), (0, 7), (0, 8), (0, 10)], [(0, 0), (0, 4), (0, 6), (0, 7), (0, 8), (0, 11)], [(0, 0), (0, 4), (0, 6), (0, 7), (0, 9), (0, 10)], [(0, 0), (0, 4), (0, 6), (0, 7), (0, 9), (0, 11)], [(0, 0), (0, 4), (0, 6), (0, 7), (0, 10), (0, 11)], [(0, 0), (0, 4), (0, 6), (0, 8), (0, 9), (0, 10)], [(0, 0), (0, 4), (0, 6), (0, 8), (0, 9), (0, 11)], [(0, 0), (0, 4), (0, 6), (0, 8), (0, 10), (0, 11)], [(0, 0), (0, 4), (0, 6), (0, 9), (0, 10), (0, 11)], [(0, 0), (0, 4), (0, 7), (0, 8), (0, 9), (0, 10)], [(0, 0), (0, 4), (0, 7), (0, 8), (0, 9), (0, 11)], [(0, 0), (0, 4), (0, 7), (0, 8), (0, 10), (0, 11)], [(0, 0), (0, 4), (0, 7), (0, 9), (0, 10), (0, 11)], [(0, 0), (0, 4), (0, 8), (0, 9), (0, 10), (0, 11)], [(0, 0), (0, 5), (0, 6), (0, 7), (0, 8), (0, 9)], [(0, 0), (0, 5), (0, 6), (0, 7), (0, 8), (0, 10)], [(0, 0), (0, 5), (0, 6), (0, 7), (0, 8), (0, 11)], [(0, 0), (0, 5), (0, 6), (0, 7), (0, 9), (0, 10)], [(0, 0), (0, 5), (0, 6), (0, 7), (0, 9), (0, 11)], [(0, 0), (0, 5), (0, 6), (0, 7), (0, 10), (0, 11)], [(0, 0), (0, 5), (0, 6), (0, 8), (0, 9), (0, 10)], [(0, 0), (0, 5), (0, 6), (0, 8), (0, 9), (0, 11)], [(0, 0), (0, 5), (0, 6), (0, 8), (0, 10), (0, 11)], [(0, 0), (0, 5), (0, 6), (0, 9), (0, 10), (0, 11)], [(0, 0), (0, 5), (0, 7), (0, 8), (0, 9), (0, 10)], [(0, 0), (0, 5), (0, 7), (0, 8), (0, 9), (0, 11)], [(0, 0), (0, 5), (0, 7), (0, 8), (0, 10), (0, 11)], [(0, 0), (0, 5), (0, 7), (0, 9), (0, 10), (0, 11)], [(0, 0), (0, 5), (0, 8), (0, 9), (0, 10), (0, 11)], [(0, 0), (0, 6), (0, 7), (0, 8), (0, 9), (0, 10)], [(0, 0), (0, 6), (0, 7), (0, 8), (0, 9), (0, 11)], [(0, 0), (0, 6), (0, 7), (0, 8), (0, 10), (0, 11)], [(0, 0), (0, 6), (0, 7), (0, 9), (0, 10), (0, 11)], [(0, 0), (0, 6), (0, 8), (0, 9), (0, 10), (0, 11)], [(0, 0), (0, 7), (0, 8), (0, 9), (0, 10), (0, 11)], [(0, 1), (0, 2), (0, 3), (0, 4), (0, 5), (0, 6)], [(0, 1), (0, 2), (0, 3), (0, 4), (0, 5), (0, 7)], [(0, 1), (0, 2), (0, 3), (0, 4), (0, 5), (0, 8)], [(0, 1), (0, 2), (0, 3), (0, 4), (0, 5), (0, 9)], [(0, 1), (0, 2), (0, 3), (0, 4), (0, 5), (0, 10)], [(0, 1), (0, 2), (0, 3), (0, 4), (0, 5), (0, 11)], [(0, 1), (0, 2), (0, 3), (0, 4), (0, 6), (0, 7)], [(0, 1), (0, 2), (0, 3), (0, 4), (0, 6), (0, 8)], [(0, 1), (0, 2), (0, 3), (0, 4), (0, 6), (0, 9)], [(0, 1), (0, 2), (0, 3), (0, 4), (0, 6), (0, 10)], [(0, 1), (0, 2), (0, 3), (0, 4), (0, 6), (0, 11)], [(0, 1), (0, 2), (0, 3), (0, 4), (0, 7), (0, 8)], [(0, 1), (0, 2), (0, 3), (0, 4), (0, 7), (0, 9)], [(0, 1), (0, 2), (0, 3), (0, 4), (0, 7), (0, 10)], [(0, 1), (0, 2), (0, 3), (0, 4), (0, 7), (0, 11)], [(0, 1), (0, 2), (0, 3), (0, 4), (0, 8), (0, 9)], [(0, 1), (0, 2), (0, 3), (0, 4), (0, 8), (0, 10)], [(0, 1), (0, 2), (0, 3), (0, 4), (0, 8), (0, 11)], [(0, 1), (0, 2), (0, 3), (0, 4), (0, 9), (0, 10)], [(0, 1), (0, 2), (0, 3), (0, 4), (0, 9), (0, 11)], [(0, 1), (0, 2), (0, 3), (0, 4), (0, 10), (0, 11)], [(0, 1), (0, 2), (0, 3), (0, 5), (0, 6), (0, 7)], [(0, 1), (0, 2), (0, 3), (0, 5), (0, 6), (0, 8)], [(0, 1), (0, 2), (0, 3), (0, 5), (0, 6), (0, 9)], [(0, 1), (0, 2), (0, 3), (0, 5), (0, 6), (0, 10)], [(0, 1), (0, 2), (0, 3), (0, 5), (0, 6), (0, 11)], [(0, 1), (0, 2), (0, 3), (0, 5), (0, 7), (0, 8)], [(0, 1), (0, 2), (0, 3), (0, 5), (0, 7), (0, 9)], [(0, 1), (0, 2), (0, 3), (0, 5), (0, 7), (0, 10)], [(0, 1), (0, 2), (0, 3), (0, 5), (0, 7), (0, 11)], [(0, 1), (0, 2), (0, 3), (0, 5), (0, 8), (0, 9)], [(0, 1), (0, 2), (0, 3), (0, 5), (0, 8), (0, 10)], [(0, 1), (0, 2), (0, 3), (0, 5), (0, 8), (0, 11)], [(0, 1), (0, 2), (0, 3), (0, 5), (0, 9), (0, 10)], [(0, 1), (0, 2), (0, 3), (0, 5), (0, 9), (0, 11)], [(0, 1), (0, 2), (0, 3), (0, 5), (0, 10), (0, 11)], [(0, 1), (0, 2), (0, 3), (0, 6), (0, 7), (0, 8)], [(0, 1), (0, 2), (0, 3), (0, 6), (0, 7), (0, 9)], [(0, 1), (0, 2), (0, 3), (0, 6), (0, 7), (0, 10)], [(0, 1), (0, 2), (0, 3), (0, 6), (0, 7), (0, 11)], [(0, 1), (0, 2), (0, 3), (0, 6), (0, 8), (0, 9)], [(0, 1), (0, 2), (0, 3), (0, 6), (0, 8), (0, 10)], [(0, 1), (0, 2), (0, 3), (0, 6), (0, 8), (0, 11)], [(0, 1), (0, 2), (0, 3), (0, 6), (0, 9), (0, 10)], [(0, 1), (0, 2), (0, 3), (0, 6), (0, 9), (0, 11)], [(0, 1), (0, 2), (0, 3), (0, 6), (0, 10), (0, 11)], [(0, 1), (0, 2), (0, 3), (0, 7), (0, 8), (0, 9)], [(0, 1), (0, 2), (0, 3), (0, 7), (0, 8), (0, 10)], [(0, 1), (0, 2), (0, 3), (0, 7), (0, 8), (0, 11)], [(0, 1), (0, 2), (0, 3), (0, 7), (0, 9), (0, 10)], [(0, 1), (0, 2), (0, 3), (0, 7), (0, 9), (0, 11)], [(0, 1), (0, 2), (0, 3), (0, 7), (0, 10), (0, 11)], [(0, 1), (0, 2), (0, 3), (0, 8), (0, 9), (0, 10)], [(0, 1), (0, 2), (0, 3), (0, 8), (0, 9), (0, 11)], [(0, 1), (0, 2), (0, 3), (0, 8), (0, 10), (0, 11)], [(0, 1), (0, 2), (0, 3), (0, 9), (0, 10), (0, 11)], [(0, 1), (0, 2), (0, 4), (0, 5), (0, 6), (0, 7)], [(0, 1), (0, 2), (0, 4), (0, 5), (0, 6), (0, 8)], [(0, 1), (0, 2), (0, 4), (0, 5), (0, 6), (0, 9)], [(0, 1), (0, 2), (0, 4), (0, 5), (0, 6), (0, 10)], [(0, 1), (0, 2), (0, 4), (0, 5), (0, 6), (0, 11)], [(0, 1), (0, 2), (0, 4), (0, 5), (0, 7), (0, 8)], [(0, 1), (0, 2), (0, 4), (0, 5), (0, 7), (0, 9)], [(0, 1), (0, 2), (0, 4), (0, 5), (0, 7), (0, 10)], [(0, 1), (0, 2), (0, 4), (0, 5), (0, 7), (0, 11)], [(0, 1), (0, 2), (0, 4), (0, 5), (0, 8), (0, 9)], [(0, 1), (0, 2), (0, 4), (0, 5), (0, 8), (0, 10)], [(0, 1), (0, 2), (0, 4), (0, 5), (0, 8), (0, 11)], [(0, 1), (0, 2), (0, 4), (0, 5), (0, 9), (0, 10)], [(0, 1), (0, 2), (0, 4), (0, 5), (0, 9), (0, 11)], [(0, 1), (0, 2), (0, 4), (0, 5), (0, 10), (0, 11)], [(0, 1), (0, 2), (0, 4), (0, 6), (0, 7), (0, 8)], [(0, 1), (0, 2), (0, 4), (0, 6), (0, 7), (0, 9)], [(0, 1), (0, 2), (0, 4), (0, 6), (0, 7), (0, 10)], [(0, 1), (0, 2), (0, 4), (0, 6), (0, 7), (0, 11)], [(0, 1), (0, 2), (0, 4), (0, 6), (0, 8), (0, 9)], [(0, 1), (0, 2), (0, 4), (0, 6), (0, 8), (0, 10)], [(0, 1), (0, 2), (0, 4), (0, 6), (0, 8), (0, 11)], [(0, 1), (0, 2), (0, 4), (0, 6), (0, 9), (0, 10)], [(0, 1), (0, 2), (0, 4), (0, 6), (0, 9), (0, 11)], [(0, 1), (0, 2), (0, 4), (0, 6), (0, 10), (0, 11)], [(0, 1), (0, 2), (0, 4), (0, 7), (0, 8), (0, 9)], [(0, 1), (0, 2), (0, 4), (0, 7), (0, 8), (0, 10)], [(0, 1), (0, 2), (0, 4), (0, 7), (0, 8), (0, 11)], [(0, 1), (0, 2), (0, 4), (0, 7), (0, 9), (0, 10)], [(0, 1), (0, 2), (0, 4), (0, 7), (0, 9), (0, 11)], [(0, 1), (0, 2), (0, 4), (0, 7), (0, 10), (0, 11)], [(0, 1), (0, 2), (0, 4), (0, 8), (0, 9), (0, 10)], [(0, 1), (0, 2), (0, 4), (0, 8), (0, 9), (0, 11)], [(0, 1), (0, 2), (0, 4), (0, 8), (0, 10), (0, 11)], [(0, 1), (0, 2), (0, 4), (0, 9), (0, 10), (0, 11)], [(0, 1), (0, 2), (0, 5), (0, 6), (0, 7), (0, 8)], [(0, 1), (0, 2), (0, 5), (0, 6), (0, 7), (0, 9)], [(0, 1), (0, 2), (0, 5), (0, 6), (0, 7), (0, 10)], [(0, 1), (0, 2), (0, 5), (0, 6), (0, 7), (0, 11)], [(0, 1), (0, 2), (0, 5), (0, 6), (0, 8), (0, 9)], [(0, 1), (0, 2), (0, 5), (0, 6), (0, 8), (0, 10)], [(0, 1), (0, 2), (0, 5), (0, 6), (0, 8), (0, 11)], [(0, 1), (0, 2), (0, 5), (0, 6), (0, 9), (0, 10)], [(0, 1), (0, 2), (0, 5), (0, 6), (0, 9), (0, 11)], [(0, 1), (0, 2), (0, 5), (0, 6), (0, 10), (0, 11)], [(0, 1), (0, 2), (0, 5), (0, 7), (0, 8), (0, 9)], [(0, 1), (0, 2), (0, 5), (0, 7), (0, 8), (0, 10)], [(0, 1), (0, 2), (0, 5), (0, 7), (0, 8), (0, 11)], [(0, 1), (0, 2), (0, 5), (0, 7), (0, 9), (0, 10)], [(0, 1), (0, 2), (0, 5), (0, 7), (0, 9), (0, 11)], [(0, 1), (0, 2), (0, 5), (0, 7), (0, 10), (0, 11)], [(0, 1), (0, 2), (0, 5), (0, 8), (0, 9), (0, 10)], [(0, 1), (0, 2), (0, 5), (0, 8), (0, 9), (0, 11)], [(0, 1), (0, 2), (0, 5), (0, 8), (0, 10), (0, 11)], [(0, 1), (0, 2), (0, 5), (0, 9), (0, 10), (0, 11)], [(0, 1), (0, 2), (0, 6), (0, 7), (0, 8), (0, 9)], [(0, 1), (0, 2), (0, 6), (0, 7), (0, 8), (0, 10)], [(0, 1), (0, 2), (0, 6), (0, 7), (0, 8), (0, 11)], [(0, 1), (0, 2), (0, 6), (0, 7), (0, 9), (0, 10)], [(0, 1), (0, 2), (0, 6), (0, 7), (0, 9), (0, 11)], [(0, 1), (0, 2), (0, 6), (0, 7), (0, 10), (0, 11)], [(0, 1), (0, 2), (0, 6), (0, 8), (0, 9), (0, 10)], [(0, 1), (0, 2), (0, 6), (0, 8), (0, 9), (0, 11)], [(0, 1), (0, 2), (0, 6), (0, 8), (0, 10), (0, 11)], [(0, 1), (0, 2), (0, 6), (0, 9), (0, 10), (0, 11)], [(0, 1), (0, 2), (0, 7), (0, 8), (0, 9), (0, 10)], [(0, 1), (0, 2), (0, 7), (0, 8), (0, 9), (0, 11)], [(0, 1), (0, 2), (0, 7), (0, 8), (0, 10), (0, 11)], [(0, 1), (0, 2), (0, 7), (0, 9), (0, 10), (0, 11)], [(0, 1), (0, 2), (0, 8), (0, 9), (0, 10), (0, 11)], [(0, 1), (0, 3), (0, 4), (0, 5), (0, 6), (0, 7)], [(0, 1), (0, 3), (0, 4), (0, 5), (0, 6), (0, 8)], [(0, 1), (0, 3), (0, 4), (0, 5), (0, 6), (0, 9)], [(0, 1), (0, 3), (0, 4), (0, 5), (0, 6), (0, 10)], [(0, 1), (0, 3), (0, 4), (0, 5), (0, 6), (0, 11)], [(0, 1), (0, 3), (0, 4), (0, 5), (0, 7), (0, 8)], [(0, 1), (0, 3), (0, 4), (0, 5), (0, 7), (0, 9)], [(0, 1), (0, 3), (0, 4), (0, 5), (0, 7), (0, 10)], [(0, 1), (0, 3), (0, 4), (0, 5), (0, 7), (0, 11)], [(0, 1), (0, 3), (0, 4), (0, 5), (0, 8), (0, 9)], [(0, 1), (0, 3), (0, 4), (0, 5), (0, 8), (0, 10)], [(0, 1), (0, 3), (0, 4), (0, 5), (0, 8), (0, 11)], [(0, 1), (0, 3), (0, 4), (0, 5), (0, 9), (0, 10)], [(0, 1), (0, 3), (0, 4), (0, 5), (0, 9), (0, 11)], [(0, 1), (0, 3), (0, 4), (0, 5), (0, 10), (0, 11)], [(0, 1), (0, 3), (0, 4), (0, 6), (0, 7), (0, 8)], [(0, 1), (0, 3), (0, 4), (0, 6), (0, 7), (0, 9)], [(0, 1), (0, 3), (0, 4), (0, 6), (0, 7), (0, 10)], [(0, 1), (0, 3), (0, 4), (0, 6), (0, 7), (0, 11)], [(0, 1), (0, 3), (0, 4), (0, 6), (0, 8), (0, 9)], [(0, 1), (0, 3), (0, 4), (0, 6), (0, 8), (0, 10)], [(0, 1), (0, 3), (0, 4), (0, 6), (0, 8), (0, 11)], [(0, 1), (0, 3), (0, 4), (0, 6), (0, 9), (0, 10)], [(0, 1), (0, 3), (0, 4), (0, 6), (0, 9), (0, 11)], [(0, 1), (0, 3), (0, 4), (0, 6), (0, 10), (0, 11)], [(0, 1), (0, 3), (0, 4), (0, 7), (0, 8), (0, 9)], [(0, 1), (0, 3), (0, 4), (0, 7), (0, 8), (0, 10)], [(0, 1), (0, 3), (0, 4), (0, 7), (0, 8), (0, 11)], [(0, 1), (0, 3), (0, 4), (0, 7), (0, 9), (0, 10)], [(0, 1), (0, 3), (0, 4), (0, 7), (0, 9), (0, 11)], [(0, 1), (0, 3), (0, 4), (0, 7), (0, 10), (0, 11)], [(0, 1), (0, 3), (0, 4), (0, 8), (0, 9), (0, 10)], [(0, 1), (0, 3), (0, 4), (0, 8), (0, 9), (0, 11)], [(0, 1), (0, 3), (0, 4), (0, 8), (0, 10), (0, 11)], [(0, 1), (0, 3), (0, 4), (0, 9), (0, 10), (0, 11)], [(0, 1), (0, 3), (0, 5), (0, 6), (0, 7), (0, 8)], [(0, 1), (0, 3), (0, 5), (0, 6), (0, 7), (0, 9)], [(0, 1), (0, 3), (0, 5), (0, 6), (0, 7), (0, 10)], [(0, 1), (0, 3), (0, 5), (0, 6), (0, 7), (0, 11)], [(0, 1), (0, 3), (0, 5), (0, 6), (0, 8), (0, 9)], [(0, 1), (0, 3), (0, 5), (0, 6), (0, 8), (0, 10)], [(0, 1), (0, 3), (0, 5), (0, 6), (0, 8), (0, 11)], [(0, 1), (0, 3), (0, 5), (0, 6), (0, 9), (0, 10)], [(0, 1), (0, 3), (0, 5), (0, 6), (0, 9), (0, 11)], [(0, 1), (0, 3), (0, 5), (0, 6), (0, 10), (0, 11)], [(0, 1), (0, 3), (0, 5), (0, 7), (0, 8), (0, 9)], [(0, 1), (0, 3), (0, 5), (0, 7), (0, 8), (0, 10)], [(0, 1), (0, 3), (0, 5), (0, 7), (0, 8), (0, 11)], [(0, 1), (0, 3), (0, 5), (0, 7), (0, 9), (0, 10)], [(0, 1), (0, 3), (0, 5), (0, 7), (0, 9), (0, 11)], [(0, 1), (0, 3), (0, 5), (0, 7), (0, 10), (0, 11)], [(0, 1), (0, 3), (0, 5), (0, 8), (0, 9), (0, 10)], [(0, 1), (0, 3), (0, 5), (0, 8), (0, 9), (0, 11)], [(0, 1), (0, 3), (0, 5), (0, 8), (0, 10), (0, 11)], [(0, 1), (0, 3), (0, 5), (0, 9), (0, 10), (0, 11)], [(0, 1), (0, 3), (0, 6), (0, 7), (0, 8), (0, 9)], [(0, 1), (0, 3), (0, 6), (0, 7), (0, 8), (0, 10)], [(0, 1), (0, 3), (0, 6), (0, 7), (0, 8), (0, 11)], [(0, 1), (0, 3), (0, 6), (0, 7), (0, 9), (0, 10)], [(0, 1), (0, 3), (0, 6), (0, 7), (0, 9), (0, 11)], [(0, 1), (0, 3), (0, 6), (0, 7), (0, 10), (0, 11)], [(0, 1), (0, 3), (0, 6), (0, 8), (0, 9), (0, 10)], [(0, 1), (0, 3), (0, 6), (0, 8), (0, 9), (0, 11)], [(0, 1), (0, 3), (0, 6), (0, 8), (0, 10), (0, 11)], [(0, 1), (0, 3), (0, 6), (0, 9), (0, 10), (0, 11)], [(0, 1), (0, 3), (0, 7), (0, 8), (0, 9), (0, 10)], [(0, 1), (0, 3), (0, 7), (0, 8), (0, 9), (0, 11)], [(0, 1), (0, 3), (0, 7), (0, 8), (0, 10), (0, 11)], [(0, 1), (0, 3), (0, 7), (0, 9), (0, 10), (0, 11)], [(0, 1), (0, 3), (0, 8), (0, 9), (0, 10), (0, 11)], [(0, 1), (0, 4), (0, 5), (0, 6), (0, 7), (0, 8)], [(0, 1), (0, 4), (0, 5), (0, 6), (0, 7), (0, 9)], [(0, 1), (0, 4), (0, 5), (0, 6), (0, 7), (0, 10)], [(0, 1), (0, 4), (0, 5), (0, 6), (0, 7), (0, 11)], [(0, 1), (0, 4), (0, 5), (0, 6), (0, 8), (0, 9)], [(0, 1), (0, 4), (0, 5), (0, 6), (0, 8), (0, 10)], [(0, 1), (0, 4), (0, 5), (0, 6), (0, 8), (0, 11)], [(0, 1), (0, 4), (0, 5), (0, 6), (0, 9), (0, 10)], [(0, 1), (0, 4), (0, 5), (0, 6), (0, 9), (0, 11)], [(0, 1), (0, 4), (0, 5), (0, 6), (0, 10), (0, 11)], [(0, 1), (0, 4), (0, 5), (0, 7), (0, 8), (0, 9)], [(0, 1), (0, 4), (0, 5), (0, 7), (0, 8), (0, 10)], [(0, 1), (0, 4), (0, 5), (0, 7), (0, 8), (0, 11)], [(0, 1), (0, 4), (0, 5), (0, 7), (0, 9), (0, 10)], [(0, 1), (0, 4), (0, 5), (0, 7), (0, 9), (0, 11)], [(0, 1), (0, 4), (0, 5), (0, 7), (0, 10), (0, 11)], [(0, 1), (0, 4), (0, 5), (0, 8), (0, 9), (0, 10)], [(0, 1), (0, 4), (0, 5), (0, 8), (0, 9), (0, 11)], [(0, 1), (0, 4), (0, 5), (0, 8), (0, 10), (0, 11)], [(0, 1), (0, 4), (0, 5), (0, 9), (0, 10), (0, 11)], [(0, 1), (0, 4), (0, 6), (0, 7), (0, 8), (0, 9)], [(0, 1), (0, 4), (0, 6), (0, 7), (0, 8), (0, 10)], [(0, 1), (0, 4), (0, 6), (0, 7), (0, 8), (0, 11)], [(0, 1), (0, 4), (0, 6), (0, 7), (0, 9), (0, 10)], [(0, 1), (0, 4), (0, 6), (0, 7), (0, 9), (0, 11)], [(0, 1), (0, 4), (0, 6), (0, 7), (0, 10), (0, 11)], [(0, 1), (0, 4), (0, 6), (0, 8), (0, 9), (0, 10)], [(0, 1), (0, 4), (0, 6), (0, 8), (0, 9), (0, 11)], [(0, 1), (0, 4), (0, 6), (0, 8), (0, 10), (0, 11)], [(0, 1), (0, 4), (0, 6), (0, 9), (0, 10), (0, 11)], [(0, 1), (0, 4), (0, 7), (0, 8), (0, 9), (0, 10)], [(0, 1), (0, 4), (0, 7), (0, 8), (0, 9), (0, 11)], [(0, 1), (0, 4), (0, 7), (0, 8), (0, 10), (0, 11)], [(0, 1), (0, 4), (0, 7), (0, 9), (0, 10), (0, 11)], [(0, 1), (0, 4), (0, 8), (0, 9), (0, 10), (0, 11)], [(0, 1), (0, 5), (0, 6), (0, 7), (0, 8), (0, 9)], [(0, 1), (0, 5), (0, 6), (0, 7), (0, 8), (0, 10)], [(0, 1), (0, 5), (0, 6), (0, 7), (0, 8), (0, 11)], [(0, 1), (0, 5), (0, 6), (0, 7), (0, 9), (0, 10)], [(0, 1), (0, 5), (0, 6), (0, 7), (0, 9), (0, 11)], [(0, 1), (0, 5), (0, 6), (0, 7), (0, 10), (0, 11)], [(0, 1), (0, 5), (0, 6), (0, 8), (0, 9), (0, 10)], [(0, 1), (0, 5), (0, 6), (0, 8), (0, 9), (0, 11)], [(0, 1), (0, 5), (0, 6), (0, 8), (0, 10), (0, 11)], [(0, 1), (0, 5), (0, 6), (0, 9), (0, 10), (0, 11)], [(0, 1), (0, 5), (0, 7), (0, 8), (0, 9), (0, 10)], [(0, 1), (0, 5), (0, 7), (0, 8), (0, 9), (0, 11)], [(0, 1), (0, 5), (0, 7), (0, 8), (0, 10), (0, 11)], [(0, 1), (0, 5), (0, 7), (0, 9), (0, 10), (0, 11)], [(0, 1), (0, 5), (0, 8), (0, 9), (0, 10), (0, 11)], [(0, 1), (0, 6), (0, 7), (0, 8), (0, 9), (0, 10)], [(0, 1), (0, 6), (0, 7), (0, 8), (0, 9), (0, 11)], [(0, 1), (0, 6), (0, 7), (0, 8), (0, 10), (0, 11)], [(0, 1), (0, 6), (0, 7), (0, 9), (0, 10), (0, 11)], [(0, 1), (0, 6), (0, 8), (0, 9), (0, 10), (0, 11)], [(0, 1), (0, 7), (0, 8), (0, 9), (0, 10), (0, 11)], [(0, 2), (0, 3), (0, 4), (0, 5), (0, 6), (0, 7)], [(0, 2), (0, 3), (0, 4), (0, 5), (0, 6), (0, 8)], [(0, 2), (0, 3), (0, 4), (0, 5), (0, 6), (0, 9)], [(0, 2), (0, 3), (0, 4), (0, 5), (0, 6), (0, 10)], [(0, 2), (0, 3), (0, 4), (0, 5), (0, 6), (0, 11)], [(0, 2), (0, 3), (0, 4), (0, 5), (0, 7), (0, 8)], [(0, 2), (0, 3), (0, 4), (0, 5), (0, 7), (0, 9)], [(0, 2), (0, 3), (0, 4), (0, 5), (0, 7), (0, 10)], [(0, 2), (0, 3), (0, 4), (0, 5), (0, 7), (0, 11)], [(0, 2), (0, 3), (0, 4), (0, 5), (0, 8), (0, 9)], [(0, 2), (0, 3), (0, 4), (0, 5), (0, 8), (0, 10)], [(0, 2), (0, 3), (0, 4), (0, 5), (0, 8), (0, 11)], [(0, 2), (0, 3), (0, 4), (0, 5), (0, 9), (0, 10)], [(0, 2), (0, 3), (0, 4), (0, 5), (0, 9), (0, 11)], [(0, 2), (0, 3), (0, 4), (0, 5), (0, 10), (0, 11)], [(0, 2), (0, 3), (0, 4), (0, 6), (0, 7), (0, 8)], [(0, 2), (0, 3), (0, 4), (0, 6), (0, 7), (0, 9)], [(0, 2), (0, 3), (0, 4), (0, 6), (0, 7), (0, 10)], [(0, 2), (0, 3), (0, 4), (0, 6), (0, 7), (0, 11)], [(0, 2), (0, 3), (0, 4), (0, 6), (0, 8), (0, 9)], [(0, 2), (0, 3), (0, 4), (0, 6), (0, 8), (0, 10)], [(0, 2), (0, 3), (0, 4), (0, 6), (0, 8), (0, 11)], [(0, 2), (0, 3), (0, 4), (0, 6), (0, 9), (0, 10)], [(0, 2), (0, 3), (0, 4), (0, 6), (0, 9), (0, 11)], [(0, 2), (0, 3), (0, 4), (0, 6), (0, 10), (0, 11)], [(0, 2), (0, 3), (0, 4), (0, 7), (0, 8), (0, 9)], [(0, 2), (0, 3), (0, 4), (0, 7), (0, 8), (0, 10)], [(0, 2), (0, 3), (0, 4), (0, 7), (0, 8), (0, 11)], [(0, 2), (0, 3), (0, 4), (0, 7), (0, 9), (0, 10)], [(0, 2), (0, 3), (0, 4), (0, 7), (0, 9), (0, 11)], [(0, 2), (0, 3), (0, 4), (0, 7), (0, 10), (0, 11)], [(0, 2), (0, 3), (0, 4), (0, 8), (0, 9), (0, 10)], [(0, 2), (0, 3), (0, 4), (0, 8), (0, 9), (0, 11)], [(0, 2), (0, 3), (0, 4), (0, 8), (0, 10), (0, 11)], [(0, 2), (0, 3), (0, 4), (0, 9), (0, 10), (0, 11)], [(0, 2), (0, 3), (0, 5), (0, 6), (0, 7), (0, 8)], [(0, 2), (0, 3), (0, 5), (0, 6), (0, 7), (0, 9)], [(0, 2), (0, 3), (0, 5), (0, 6), (0, 7), (0, 10)], [(0, 2), (0, 3), (0, 5), (0, 6), (0, 7), (0, 11)], [(0, 2), (0, 3), (0, 5), (0, 6), (0, 8), (0, 9)], [(0, 2), (0, 3), (0, 5), (0, 6), (0, 8), (0, 10)], [(0, 2), (0, 3), (0, 5), (0, 6), (0, 8), (0, 11)], [(0, 2), (0, 3), (0, 5), (0, 6), (0, 9), (0, 10)], [(0, 2), (0, 3), (0, 5), (0, 6), (0, 9), (0, 11)], [(0, 2), (0, 3), (0, 5), (0, 6), (0, 10), (0, 11)], [(0, 2), (0, 3), (0, 5), (0, 7), (0, 8), (0, 9)], [(0, 2), (0, 3), (0, 5), (0, 7), (0, 8), (0, 10)], [(0, 2), (0, 3), (0, 5), (0, 7), (0, 8), (0, 11)], [(0, 2), (0, 3), (0, 5), (0, 7), (0, 9), (0, 10)], [(0, 2), (0, 3), (0, 5), (0, 7), (0, 9), (0, 11)], [(0, 2), (0, 3), (0, 5), (0, 7), (0, 10), (0, 11)], [(0, 2), (0, 3), (0, 5), (0, 8), (0, 9), (0, 10)], [(0, 2), (0, 3), (0, 5), (0, 8), (0, 9), (0, 11)], [(0, 2), (0, 3), (0, 5), (0, 8), (0, 10), (0, 11)], [(0, 2), (0, 3), (0, 5), (0, 9), (0, 10), (0, 11)], [(0, 2), (0, 3), (0, 6), (0, 7), (0, 8), (0, 9)], [(0, 2), (0, 3), (0, 6), (0, 7), (0, 8), (0, 10)], [(0, 2), (0, 3), (0, 6), (0, 7), (0, 8), (0, 11)], [(0, 2), (0, 3), (0, 6), (0, 7), (0, 9), (0, 10)], [(0, 2), (0, 3), (0, 6), (0, 7), (0, 9), (0, 11)], [(0, 2), (0, 3), (0, 6), (0, 7), (0, 10), (0, 11)], [(0, 2), (0, 3), (0, 6), (0, 8), (0, 9), (0, 10)], [(0, 2), (0, 3), (0, 6), (0, 8), (0, 9), (0, 11)], [(0, 2), (0, 3), (0, 6), (0, 8), (0, 10), (0, 11)], [(0, 2), (0, 3), (0, 6), (0, 9), (0, 10), (0, 11)], [(0, 2), (0, 3), (0, 7), (0, 8), (0, 9), (0, 10)], [(0, 2), (0, 3), (0, 7), (0, 8), (0, 9), (0, 11)], [(0, 2), (0, 3), (0, 7), (0, 8), (0, 10), (0, 11)], [(0, 2), (0, 3), (0, 7), (0, 9), (0, 10), (0, 11)], [(0, 2), (0, 3), (0, 8), (0, 9), (0, 10), (0, 11)], [(0, 2), (0, 4), (0, 5), (0, 6), (0, 7), (0, 8)], [(0, 2), (0, 4), (0, 5), (0, 6), (0, 7), (0, 9)], [(0, 2), (0, 4), (0, 5), (0, 6), (0, 7), (0, 10)], [(0, 2), (0, 4), (0, 5), (0, 6), (0, 7), (0, 11)], [(0, 2), (0, 4), (0, 5), (0, 6), (0, 8), (0, 9)], [(0, 2), (0, 4), (0, 5), (0, 6), (0, 8), (0, 10)], [(0, 2), (0, 4), (0, 5), (0, 6), (0, 8), (0, 11)], [(0, 2), (0, 4), (0, 5), (0, 6), (0, 9), (0, 10)], [(0, 2), (0, 4), (0, 5), (0, 6), (0, 9), (0, 11)], [(0, 2), (0, 4), (0, 5), (0, 6), (0, 10), (0, 11)], [(0, 2), (0, 4), (0, 5), (0, 7), (0, 8), (0, 9)], [(0, 2), (0, 4), (0, 5), (0, 7), (0, 8), (0, 10)], [(0, 2), (0, 4), (0, 5), (0, 7), (0, 8), (0, 11)], [(0, 2), (0, 4), (0, 5), (0, 7), (0, 9), (0, 10)], [(0, 2), (0, 4), (0, 5), (0, 7), (0, 9), (0, 11)], [(0, 2), (0, 4), (0, 5), (0, 7), (0, 10), (0, 11)], [(0, 2), (0, 4), (0, 5), (0, 8), (0, 9), (0, 10)], [(0, 2), (0, 4), (0, 5), (0, 8), (0, 9), (0, 11)], [(0, 2), (0, 4), (0, 5), (0, 8), (0, 10), (0, 11)], [(0, 2), (0, 4), (0, 5), (0, 9), (0, 10), (0, 11)], [(0, 2), (0, 4), (0, 6), (0, 7), (0, 8), (0, 9)], [(0, 2), (0, 4), (0, 6), (0, 7), (0, 8), (0, 10)], [(0, 2), (0, 4), (0, 6), (0, 7), (0, 8), (0, 11)], [(0, 2), (0, 4), (0, 6), (0, 7), (0, 9), (0, 10)], [(0, 2), (0, 4), (0, 6), (0, 7), (0, 9), (0, 11)], [(0, 2), (0, 4), (0, 6), (0, 7), (0, 10), (0, 11)], [(0, 2), (0, 4), (0, 6), (0, 8), (0, 9), (0, 10)], [(0, 2), (0, 4), (0, 6), (0, 8), (0, 9), (0, 11)], [(0, 2), (0, 4), (0, 6), (0, 8), (0, 10), (0, 11)], [(0, 2), (0, 4), (0, 6), (0, 9), (0, 10), (0, 11)], [(0, 2), (0, 4), (0, 7), (0, 8), (0, 9), (0, 10)], [(0, 2), (0, 4), (0, 7), (0, 8), (0, 9), (0, 11)], [(0, 2), (0, 4), (0, 7), (0, 8), (0, 10), (0, 11)], [(0, 2), (0, 4), (0, 7), (0, 9), (0, 10), (0, 11)], [(0, 2), (0, 4), (0, 8), (0, 9), (0, 10), (0, 11)], [(0, 2), (0, 5), (0, 6), (0, 7), (0, 8), (0, 9)], [(0, 2), (0, 5), (0, 6), (0, 7), (0, 8), (0, 10)], [(0, 2), (0, 5), (0, 6), (0, 7), (0, 8), (0, 11)], [(0, 2), (0, 5), (0, 6), (0, 7), (0, 9), (0, 10)], [(0, 2), (0, 5), (0, 6), (0, 7), (0, 9), (0, 11)], [(0, 2), (0, 5), (0, 6), (0, 7), (0, 10), (0, 11)], [(0, 2), (0, 5), (0, 6), (0, 8), (0, 9), (0, 10)], [(0, 2), (0, 5), (0, 6), (0, 8), (0, 9), (0, 11)], [(0, 2), (0, 5), (0, 6), (0, 8), (0, 10), (0, 11)], [(0, 2), (0, 5), (0, 6), (0, 9), (0, 10), (0, 11)], [(0, 2), (0, 5), (0, 7), (0, 8), (0, 9), (0, 10)], [(0, 2), (0, 5), (0, 7), (0, 8), (0, 9), (0, 11)], [(0, 2), (0, 5), (0, 7), (0, 8), (0, 10), (0, 11)], [(0, 2), (0, 5), (0, 7), (0, 9), (0, 10), (0, 11)], [(0, 2), (0, 5), (0, 8), (0, 9), (0, 10), (0, 11)], [(0, 2), (0, 6), (0, 7), (0, 8), (0, 9), (0, 10)], [(0, 2), (0, 6), (0, 7), (0, 8), (0, 9), (0, 11)], [(0, 2), (0, 6), (0, 7), (0, 8), (0, 10), (0, 11)], [(0, 2), (0, 6), (0, 7), (0, 9), (0, 10), (0, 11)], [(0, 2), (0, 6), (0, 8), (0, 9), (0, 10), (0, 11)], [(0, 2), (0, 7), (0, 8), (0, 9), (0, 10), (0, 11)], [(0, 3), (0, 4), (0, 5), (0, 6), (0, 7), (0, 8)], [(0, 3), (0, 4), (0, 5), (0, 6), (0, 7), (0, 9)], [(0, 3), (0, 4), (0, 5), (0, 6), (0, 7), (0, 10)], [(0, 3), (0, 4), (0, 5), (0, 6), (0, 7), (0, 11)], [(0, 3), (0, 4), (0, 5), (0, 6), (0, 8), (0, 9)], [(0, 3), (0, 4), (0, 5), (0, 6), (0, 8), (0, 10)], [(0, 3), (0, 4), (0, 5), (0, 6), (0, 8), (0, 11)], [(0, 3), (0, 4), (0, 5), (0, 6), (0, 9), (0, 10)], [(0, 3), (0, 4), (0, 5), (0, 6), (0, 9), (0, 11)], [(0, 3), (0, 4), (0, 5), (0, 6), (0, 10), (0, 11)], [(0, 3), (0, 4), (0, 5), (0, 7), (0, 8), (0, 9)], [(0, 3), (0, 4), (0, 5), (0, 7), (0, 8), (0, 10)], [(0, 3), (0, 4), (0, 5), (0, 7), (0, 8), (0, 11)], [(0, 3), (0, 4), (0, 5), (0, 7), (0, 9), (0, 10)], [(0, 3), (0, 4), (0, 5), (0, 7), (0, 9), (0, 11)], [(0, 3), (0, 4), (0, 5), (0, 7), (0, 10), (0, 11)], [(0, 3), (0, 4), (0, 5), (0, 8), (0, 9), (0, 10)], [(0, 3), (0, 4), (0, 5), (0, 8), (0, 9), (0, 11)], [(0, 3), (0, 4), (0, 5), (0, 8), (0, 10), (0, 11)], [(0, 3), (0, 4), (0, 5), (0, 9), (0, 10), (0, 11)], [(0, 3), (0, 4), (0, 6), (0, 7), (0, 8), (0, 9)], [(0, 3), (0, 4), (0, 6), (0, 7), (0, 8), (0, 10)], [(0, 3), (0, 4), (0, 6), (0, 7), (0, 8), (0, 11)], [(0, 3), (0, 4), (0, 6), (0, 7), (0, 9), (0, 10)], [(0, 3), (0, 4), (0, 6), (0, 7), (0, 9), (0, 11)], [(0, 3), (0, 4), (0, 6), (0, 7), (0, 10), (0, 11)], [(0, 3), (0, 4), (0, 6), (0, 8), (0, 9), (0, 10)], [(0, 3), (0, 4), (0, 6), (0, 8), (0, 9), (0, 11)], [(0, 3), (0, 4), (0, 6), (0, 8), (0, 10), (0, 11)], [(0, 3), (0, 4), (0, 6), (0, 9), (0, 10), (0, 11)], [(0, 3), (0, 4), (0, 7), (0, 8), (0, 9), (0, 10)], [(0, 3), (0, 4), (0, 7), (0, 8), (0, 9), (0, 11)], [(0, 3), (0, 4), (0, 7), (0, 8), (0, 10), (0, 11)], [(0, 3), (0, 4), (0, 7), (0, 9), (0, 10), (0, 11)], [(0, 3), (0, 4), (0, 8), (0, 9), (0, 10), (0, 11)], [(0, 3), (0, 5), (0, 6), (0, 7), (0, 8), (0, 9)], [(0, 3), (0, 5), (0, 6), (0, 7), (0, 8), (0, 10)], [(0, 3), (0, 5), (0, 6), (0, 7), (0, 8), (0, 11)], [(0, 3), (0, 5), (0, 6), (0, 7), (0, 9), (0, 10)], [(0, 3), (0, 5), (0, 6), (0, 7), (0, 9), (0, 11)], [(0, 3), (0, 5), (0, 6), (0, 7), (0, 10), (0, 11)], [(0, 3), (0, 5), (0, 6), (0, 8), (0, 9), (0, 10)], [(0, 3), (0, 5), (0, 6), (0, 8), (0, 9), (0, 11)], [(0, 3), (0, 5), (0, 6), (0, 8), (0, 10), (0, 11)], [(0, 3), (0, 5), (0, 6), (0, 9), (0, 10), (0, 11)], [(0, 3), (0, 5), (0, 7), (0, 8), (0, 9), (0, 10)], [(0, 3), (0, 5), (0, 7), (0, 8), (0, 9), (0, 11)], [(0, 3), (0, 5), (0, 7), (0, 8), (0, 10), (0, 11)], [(0, 3), (0, 5), (0, 7), (0, 9), (0, 10), (0, 11)], [(0, 3), (0, 5), (0, 8), (0, 9), (0, 10), (0, 11)], [(0, 3), (0, 6), (0, 7), (0, 8), (0, 9), (0, 10)], [(0, 3), (0, 6), (0, 7), (0, 8), (0, 9), (0, 11)], [(0, 3), (0, 6), (0, 7), (0, 8), (0, 10), (0, 11)], [(0, 3), (0, 6), (0, 7), (0, 9), (0, 10), (0, 11)], [(0, 3), (0, 6), (0, 8), (0, 9), (0, 10), (0, 11)], [(0, 3), (0, 7), (0, 8), (0, 9), (0, 10), (0, 11)], [(0, 4), (0, 5), (0, 6), (0, 7), (0, 8), (0, 9)], [(0, 4), (0, 5), (0, 6), (0, 7), (0, 8), (0, 10)], [(0, 4), (0, 5), (0, 6), (0, 7), (0, 8), (0, 11)], [(0, 4), (0, 5), (0, 6), (0, 7), (0, 9), (0, 10)], [(0, 4), (0, 5), (0, 6), (0, 7), (0, 9), (0, 11)], [(0, 4), (0, 5), (0, 6), (0, 7), (0, 10), (0, 11)], [(0, 4), (0, 5), (0, 6), (0, 8), (0, 9), (0, 10)], [(0, 4), (0, 5), (0, 6), (0, 8), (0, 9), (0, 11)], [(0, 4), (0, 5), (0, 6), (0, 8), (0, 10), (0, 11)], [(0, 4), (0, 5), (0, 6), (0, 9), (0, 10), (0, 11)], [(0, 4), (0, 5), (0, 7), (0, 8), (0, 9), (0, 10)], [(0, 4), (0, 5), (0, 7), (0, 8), (0, 9), (0, 11)], [(0, 4), (0, 5), (0, 7), (0, 8), (0, 10), (0, 11)], [(0, 4), (0, 5), (0, 7), (0, 9), (0, 10), (0, 11)], [(0, 4), (0, 5), (0, 8), (0, 9), (0, 10), (0, 11)], [(0, 4), (0, 6), (0, 7), (0, 8), (0, 9), (0, 10)], [(0, 4), (0, 6), (0, 7), (0, 8), (0, 9), (0, 11)], [(0, 4), (0, 6), (0, 7), (0, 8), (0, 10), (0, 11)], [(0, 4), (0, 6), (0, 7), (0, 9), (0, 10), (0, 11)], [(0, 4), (0, 6), (0, 8), (0, 9), (0, 10), (0, 11)], [(0, 4), (0, 7), (0, 8), (0, 9), (0, 10), (0, 11)], [(0, 5), (0, 6), (0, 7), (0, 8), (0, 9), (0, 10)], [(0, 5), (0, 6), (0, 7), (0, 8), (0, 9), (0, 11)], [(0, 5), (0, 6), (0, 7), (0, 8), (0, 10), (0, 11)], [(0, 5), (0, 6), (0, 7), (0, 9), (0, 10), (0, 11)], [(0, 5), (0, 6), (0, 8), (0, 9), (0, 10), (0, 11)], [(0, 5), (0, 7), (0, 8), (0, 9), (0, 10), (0, 11)], [(0, 6), (0, 7), (0, 8), (0, 9), (0, 10), (0, 11)], [(0, 0), (0, 1), (0, 2), (0, 3), (0, 4), (0, 5), (0, 6)], [(0, 0), (0, 1), (0, 2), (0, 3), (0, 4), (0, 5), (0, 7)], [(0, 0), (0, 1), (0, 2), (0, 3), (0, 4), (0, 5), (0, 8)], [(0, 0), (0, 1), (0, 2), (0, 3), (0, 4), (0, 5), (0, 9)], [(0, 0), (0, 1), (0, 2), (0, 3), (0, 4), (0, 5), (0, 10)], [(0, 0), (0, 1), (0, 2), (0, 3), (0, 4), (0, 5), (0, 11)], [(0, 0), (0, 1), (0, 2), (0, 3), (0, 4), (0, 6), (0, 7)], [(0, 0), (0, 1), (0, 2), (0, 3), (0, 4), (0, 6), (0, 8)], [(0, 0), (0, 1), (0, 2), (0, 3), (0, 4), (0, 6), (0, 9)], [(0, 0), (0, 1), (0, 2), (0, 3), (0, 4), (0, 6), (0, 10)], [(0, 0), (0, 1), (0, 2), (0, 3), (0, 4), (0, 6), (0, 11)], [(0, 0), (0, 1), (0, 2), (0, 3), (0, 4), (0, 7), (0, 8)], [(0, 0), (0, 1), (0, 2), (0, 3), (0, 4), (0, 7), (0, 9)], [(0, 0), (0, 1), (0, 2), (0, 3), (0, 4), (0, 7), (0, 10)], [(0, 0), (0, 1), (0, 2), (0, 3), (0, 4), (0, 7), (0, 11)], [(0, 0), (0, 1), (0, 2), (0, 3), (0, 4), (0, 8), (0, 9)], [(0, 0), (0, 1), (0, 2), (0, 3), (0, 4), (0, 8), (0, 10)], [(0, 0), (0, 1), (0, 2), (0, 3), (0, 4), (0, 8), (0, 11)], [(0, 0), (0, 1), (0, 2), (0, 3), (0, 4), (0, 9), (0, 10)], [(0, 0), (0, 1), (0, 2), (0, 3), (0, 4), (0, 9), (0, 11)], [(0, 0), (0, 1), (0, 2), (0, 3), (0, 4), (0, 10), (0, 11)], [(0, 0), (0, 1), (0, 2), (0, 3), (0, 5), (0, 6), (0, 7)], [(0, 0), (0, 1), (0, 2), (0, 3), (0, 5), (0, 6), (0, 8)], [(0, 0), (0, 1), (0, 2), (0, 3), (0, 5), (0, 6), (0, 9)], [(0, 0), (0, 1), (0, 2), (0, 3), (0, 5), (0, 6), (0, 10)], [(0, 0), (0, 1), (0, 2), (0, 3), (0, 5), (0, 6), (0, 11)], [(0, 0), (0, 1), (0, 2), (0, 3), (0, 5), (0, 7), (0, 8)], [(0, 0), (0, 1), (0, 2), (0, 3), (0, 5), (0, 7), (0, 9)], [(0, 0), (0, 1), (0, 2), (0, 3), (0, 5), (0, 7), (0, 10)], [(0, 0), (0, 1), (0, 2), (0, 3), (0, 5), (0, 7), (0, 11)], [(0, 0), (0, 1), (0, 2), (0, 3), (0, 5), (0, 8), (0, 9)], [(0, 0), (0, 1), (0, 2), (0, 3), (0, 5), (0, 8), (0, 10)], [(0, 0), (0, 1), (0, 2), (0, 3), (0, 5), (0, 8), (0, 11)], [(0, 0), (0, 1), (0, 2), (0, 3), (0, 5), (0, 9), (0, 10)], [(0, 0), (0, 1), (0, 2), (0, 3), (0, 5), (0, 9), (0, 11)], [(0, 0), (0, 1), (0, 2), (0, 3), (0, 5), (0, 10), (0, 11)], [(0, 0), (0, 1), (0, 2), (0, 3), (0, 6), (0, 7), (0, 8)], [(0, 0), (0, 1), (0, 2), (0, 3), (0, 6), (0, 7), (0, 9)], [(0, 0), (0, 1), (0, 2), (0, 3), (0, 6), (0, 7), (0, 10)], [(0, 0), (0, 1), (0, 2), (0, 3), (0, 6), (0, 7), (0, 11)], [(0, 0), (0, 1), (0, 2), (0, 3), (0, 6), (0, 8), (0, 9)], [(0, 0), (0, 1), (0, 2), (0, 3), (0, 6), (0, 8), (0, 10)], [(0, 0), (0, 1), (0, 2), (0, 3), (0, 6), (0, 8), (0, 11)], [(0, 0), (0, 1), (0, 2), (0, 3), (0, 6), (0, 9), (0, 10)], [(0, 0), (0, 1), (0, 2), (0, 3), (0, 6), (0, 9), (0, 11)], [(0, 0), (0, 1), (0, 2), (0, 3), (0, 6), (0, 10), (0, 11)], [(0, 0), (0, 1), (0, 2), (0, 3), (0, 7), (0, 8), (0, 9)], [(0, 0), (0, 1), (0, 2), (0, 3), (0, 7), (0, 8), (0, 10)], [(0, 0), (0, 1), (0, 2), (0, 3), (0, 7), (0, 8), (0, 11)], [(0, 0), (0, 1), (0, 2), (0, 3), (0, 7), (0, 9), (0, 10)], [(0, 0), (0, 1), (0, 2), (0, 3), (0, 7), (0, 9), (0, 11)], [(0, 0), (0, 1), (0, 2), (0, 3), (0, 7), (0, 10), (0, 11)], [(0, 0), (0, 1), (0, 2), (0, 3), (0, 8), (0, 9), (0, 10)], [(0, 0), (0, 1), (0, 2), (0, 3), (0, 8), (0, 9), (0, 11)], [(0, 0), (0, 1), (0, 2), (0, 3), (0, 8), (0, 10), (0, 11)], [(0, 0), (0, 1), (0, 2), (0, 3), (0, 9), (0, 10), (0, 11)], [(0, 0), (0, 1), (0, 2), (0, 4), (0, 5), (0, 6), (0, 7)], [(0, 0), (0, 1), (0, 2), (0, 4), (0, 5), (0, 6), (0, 8)], [(0, 0), (0, 1), (0, 2), (0, 4), (0, 5), (0, 6), (0, 9)], [(0, 0), (0, 1), (0, 2), (0, 4), (0, 5), (0, 6), (0, 10)], [(0, 0), (0, 1), (0, 2), (0, 4), (0, 5), (0, 6), (0, 11)], [(0, 0), (0, 1), (0, 2), (0, 4), (0, 5), (0, 7), (0, 8)], [(0, 0), (0, 1), (0, 2), (0, 4), (0, 5), (0, 7), (0, 9)], [(0, 0), (0, 1), (0, 2), (0, 4), (0, 5), (0, 7), (0, 10)], [(0, 0), (0, 1), (0, 2), (0, 4), (0, 5), (0, 7), (0, 11)], [(0, 0), (0, 1), (0, 2), (0, 4), (0, 5), (0, 8), (0, 9)], [(0, 0), (0, 1), (0, 2), (0, 4), (0, 5), (0, 8), (0, 10)], [(0, 0), (0, 1), (0, 2), (0, 4), (0, 5), (0, 8), (0, 11)], [(0, 0), (0, 1), (0, 2), (0, 4), (0, 5), (0, 9), (0, 10)], [(0, 0), (0, 1), (0, 2), (0, 4), (0, 5), (0, 9), (0, 11)], [(0, 0), (0, 1), (0, 2), (0, 4), (0, 5), (0, 10), (0, 11)], [(0, 0), (0, 1), (0, 2), (0, 4), (0, 6), (0, 7), (0, 8)], [(0, 0), (0, 1), (0, 2), (0, 4), (0, 6), (0, 7), (0, 9)], [(0, 0), (0, 1), (0, 2), (0, 4), (0, 6), (0, 7), (0, 10)], [(0, 0), (0, 1), (0, 2), (0, 4), (0, 6), (0, 7), (0, 11)], [(0, 0), (0, 1), (0, 2), (0, 4), (0, 6), (0, 8), (0, 9)], [(0, 0), (0, 1), (0, 2), (0, 4), (0, 6), (0, 8), (0, 10)], [(0, 0), (0, 1), (0, 2), (0, 4), (0, 6), (0, 8), (0, 11)], [(0, 0), (0, 1), (0, 2), (0, 4), (0, 6), (0, 9), (0, 10)], [(0, 0), (0, 1), (0, 2), (0, 4), (0, 6), (0, 9), (0, 11)], [(0, 0), (0, 1), (0, 2), (0, 4), (0, 6), (0, 10), (0, 11)], [(0, 0), (0, 1), (0, 2), (0, 4), (0, 7), (0, 8), (0, 9)], [(0, 0), (0, 1), (0, 2), (0, 4), (0, 7), (0, 8), (0, 10)], [(0, 0), (0, 1), (0, 2), (0, 4), (0, 7), (0, 8), (0, 11)], [(0, 0), (0, 1), (0, 2), (0, 4), (0, 7), (0, 9), (0, 10)], [(0, 0), (0, 1), (0, 2), (0, 4), (0, 7), (0, 9), (0, 11)], [(0, 0), (0, 1), (0, 2), (0, 4), (0, 7), (0, 10), (0, 11)], [(0, 0), (0, 1), (0, 2), (0, 4), (0, 8), (0, 9), (0, 10)], [(0, 0), (0, 1), (0, 2), (0, 4), (0, 8), (0, 9), (0, 11)], [(0, 0), (0, 1), (0, 2), (0, 4), (0, 8), (0, 10), (0, 11)], [(0, 0), (0, 1), (0, 2), (0, 4), (0, 9), (0, 10), (0, 11)], [(0, 0), (0, 1), (0, 2), (0, 5), (0, 6), (0, 7), (0, 8)], [(0, 0), (0, 1), (0, 2), (0, 5), (0, 6), (0, 7), (0, 9)], [(0, 0), (0, 1), (0, 2), (0, 5), (0, 6), (0, 7), (0, 10)], [(0, 0), (0, 1), (0, 2), (0, 5), (0, 6), (0, 7), (0, 11)], [(0, 0), (0, 1), (0, 2), (0, 5), (0, 6), (0, 8), (0, 9)], [(0, 0), (0, 1), (0, 2), (0, 5), (0, 6), (0, 8), (0, 10)], [(0, 0), (0, 1), (0, 2), (0, 5), (0, 6), (0, 8), (0, 11)], [(0, 0), (0, 1), (0, 2), (0, 5), (0, 6), (0, 9), (0, 10)], [(0, 0), (0, 1), (0, 2), (0, 5), (0, 6), (0, 9), (0, 11)], [(0, 0), (0, 1), (0, 2), (0, 5), (0, 6), (0, 10), (0, 11)], [(0, 0), (0, 1), (0, 2), (0, 5), (0, 7), (0, 8), (0, 9)], [(0, 0), (0, 1), (0, 2), (0, 5), (0, 7), (0, 8), (0, 10)], [(0, 0), (0, 1), (0, 2), (0, 5), (0, 7), (0, 8), (0, 11)], [(0, 0), (0, 1), (0, 2), (0, 5), (0, 7), (0, 9), (0, 10)], [(0, 0), (0, 1), (0, 2), (0, 5), (0, 7), (0, 9), (0, 11)], [(0, 0), (0, 1), (0, 2), (0, 5), (0, 7), (0, 10), (0, 11)], [(0, 0), (0, 1), (0, 2), (0, 5), (0, 8), (0, 9), (0, 10)], [(0, 0), (0, 1), (0, 2), (0, 5), (0, 8), (0, 9), (0, 11)], [(0, 0), (0, 1), (0, 2), (0, 5), (0, 8), (0, 10), (0, 11)], [(0, 0), (0, 1), (0, 2), (0, 5), (0, 9), (0, 10), (0, 11)], [(0, 0), (0, 1), (0, 2), (0, 6), (0, 7), (0, 8), (0, 9)], [(0, 0), (0, 1), (0, 2), (0, 6), (0, 7), (0, 8), (0, 10)], [(0, 0), (0, 1), (0, 2), (0, 6), (0, 7), (0, 8), (0, 11)], [(0, 0), (0, 1), (0, 2), (0, 6), (0, 7), (0, 9), (0, 10)], [(0, 0), (0, 1), (0, 2), (0, 6), (0, 7), (0, 9), (0, 11)], [(0, 0), (0, 1), (0, 2), (0, 6), (0, 7), (0, 10), (0, 11)], [(0, 0), (0, 1), (0, 2), (0, 6), (0, 8), (0, 9), (0, 10)], [(0, 0), (0, 1), (0, 2), (0, 6), (0, 8), (0, 9), (0, 11)], [(0, 0), (0, 1), (0, 2), (0, 6), (0, 8), (0, 10), (0, 11)], [(0, 0), (0, 1), (0, 2), (0, 6), (0, 9), (0, 10), (0, 11)], [(0, 0), (0, 1), (0, 2), (0, 7), (0, 8), (0, 9), (0, 10)], [(0, 0), (0, 1), (0, 2), (0, 7), (0, 8), (0, 9), (0, 11)], [(0, 0), (0, 1), (0, 2), (0, 7), (0, 8), (0, 10), (0, 11)], [(0, 0), (0, 1), (0, 2), (0, 7), (0, 9), (0, 10), (0, 11)], [(0, 0), (0, 1), (0, 2), (0, 8), (0, 9), (0, 10), (0, 11)], [(0, 0), (0, 1), (0, 3), (0, 4), (0, 5), (0, 6), (0, 7)], [(0, 0), (0, 1), (0, 3), (0, 4), (0, 5), (0, 6), (0, 8)], [(0, 0), (0, 1), (0, 3), (0, 4), (0, 5), (0, 6), (0, 9)], [(0, 0), (0, 1), (0, 3), (0, 4), (0, 5), (0, 6), (0, 10)], [(0, 0), (0, 1), (0, 3), (0, 4), (0, 5), (0, 6), (0, 11)], [(0, 0), (0, 1), (0, 3), (0, 4), (0, 5), (0, 7), (0, 8)], [(0, 0), (0, 1), (0, 3), (0, 4), (0, 5), (0, 7), (0, 9)], [(0, 0), (0, 1), (0, 3), (0, 4), (0, 5), (0, 7), (0, 10)], [(0, 0), (0, 1), (0, 3), (0, 4), (0, 5), (0, 7), (0, 11)], [(0, 0), (0, 1), (0, 3), (0, 4), (0, 5), (0, 8), (0, 9)], [(0, 0), (0, 1), (0, 3), (0, 4), (0, 5), (0, 8), (0, 10)], [(0, 0), (0, 1), (0, 3), (0, 4), (0, 5), (0, 8), (0, 11)], [(0, 0), (0, 1), (0, 3), (0, 4), (0, 5), (0, 9), (0, 10)], [(0, 0), (0, 1), (0, 3), (0, 4), (0, 5), (0, 9), (0, 11)], [(0, 0), (0, 1), (0, 3), (0, 4), (0, 5), (0, 10), (0, 11)], [(0, 0), (0, 1), (0, 3), (0, 4), (0, 6), (0, 7), (0, 8)], [(0, 0), (0, 1), (0, 3), (0, 4), (0, 6), (0, 7), (0, 9)], [(0, 0), (0, 1), (0, 3), (0, 4), (0, 6), (0, 7), (0, 10)], [(0, 0), (0, 1), (0, 3), (0, 4), (0, 6), (0, 7), (0, 11)], [(0, 0), (0, 1), (0, 3), (0, 4), (0, 6), (0, 8), (0, 9)], [(0, 0), (0, 1), (0, 3), (0, 4), (0, 6), (0, 8), (0, 10)], [(0, 0), (0, 1), (0, 3), (0, 4), (0, 6), (0, 8), (0, 11)], [(0, 0), (0, 1), (0, 3), (0, 4), (0, 6), (0, 9), (0, 10)], [(0, 0), (0, 1), (0, 3), (0, 4), (0, 6), (0, 9), (0, 11)], [(0, 0), (0, 1), (0, 3), (0, 4), (0, 6), (0, 10), (0, 11)], [(0, 0), (0, 1), (0, 3), (0, 4), (0, 7), (0, 8), (0, 9)], [(0, 0), (0, 1), (0, 3), (0, 4), (0, 7), (0, 8), (0, 10)], [(0, 0), (0, 1), (0, 3), (0, 4), (0, 7), (0, 8), (0, 11)], [(0, 0), (0, 1), (0, 3), (0, 4), (0, 7), (0, 9), (0, 10)], [(0, 0), (0, 1), (0, 3), (0, 4), (0, 7), (0, 9), (0, 11)], [(0, 0), (0, 1), (0, 3), (0, 4), (0, 7), (0, 10), (0, 11)], [(0, 0), (0, 1), (0, 3), (0, 4), (0, 8), (0, 9), (0, 10)], [(0, 0), (0, 1), (0, 3), (0, 4), (0, 8), (0, 9), (0, 11)], [(0, 0), (0, 1), (0, 3), (0, 4), (0, 8), (0, 10), (0, 11)], [(0, 0), (0, 1), (0, 3), (0, 4), (0, 9), (0, 10), (0, 11)], [(0, 0), (0, 1), (0, 3), (0, 5), (0, 6), (0, 7), (0, 8)], [(0, 0), (0, 1), (0, 3), (0, 5), (0, 6), (0, 7), (0, 9)], [(0, 0), (0, 1), (0, 3), (0, 5), (0, 6), (0, 7), (0, 10)], [(0, 0), (0, 1), (0, 3), (0, 5), (0, 6), (0, 7), (0, 11)], [(0, 0), (0, 1), (0, 3), (0, 5), (0, 6), (0, 8), (0, 9)], [(0, 0), (0, 1), (0, 3), (0, 5), (0, 6), (0, 8), (0, 10)], [(0, 0), (0, 1), (0, 3), (0, 5), (0, 6), (0, 8), (0, 11)], [(0, 0), (0, 1), (0, 3), (0, 5), (0, 6), (0, 9), (0, 10)], [(0, 0), (0, 1), (0, 3), (0, 5), (0, 6), (0, 9), (0, 11)], [(0, 0), (0, 1), (0, 3), (0, 5), (0, 6), (0, 10), (0, 11)], [(0, 0), (0, 1), (0, 3), (0, 5), (0, 7), (0, 8), (0, 9)], [(0, 0), (0, 1), (0, 3), (0, 5), (0, 7), (0, 8), (0, 10)], [(0, 0), (0, 1), (0, 3), (0, 5), (0, 7), (0, 8), (0, 11)], [(0, 0), (0, 1), (0, 3), (0, 5), (0, 7), (0, 9), (0, 10)], [(0, 0), (0, 1), (0, 3), (0, 5), (0, 7), (0, 9), (0, 11)], [(0, 0), (0, 1), (0, 3), (0, 5), (0, 7), (0, 10), (0, 11)], [(0, 0), (0, 1), (0, 3), (0, 5), (0, 8), (0, 9), (0, 10)], [(0, 0), (0, 1), (0, 3), (0, 5), (0, 8), (0, 9), (0, 11)], [(0, 0), (0, 1), (0, 3), (0, 5), (0, 8), (0, 10), (0, 11)], [(0, 0), (0, 1), (0, 3), (0, 5), (0, 9), (0, 10), (0, 11)], [(0, 0), (0, 1), (0, 3), (0, 6), (0, 7), (0, 8), (0, 9)], [(0, 0), (0, 1), (0, 3), (0, 6), (0, 7), (0, 8), (0, 10)], [(0, 0), (0, 1), (0, 3), (0, 6), (0, 7), (0, 8), (0, 11)], [(0, 0), (0, 1), (0, 3), (0, 6), (0, 7), (0, 9), (0, 10)], [(0, 0), (0, 1), (0, 3), (0, 6), (0, 7), (0, 9), (0, 11)], [(0, 0), (0, 1), (0, 3), (0, 6), (0, 7), (0, 10), (0, 11)], [(0, 0), (0, 1), (0, 3), (0, 6), (0, 8), (0, 9), (0, 10)], [(0, 0), (0, 1), (0, 3), (0, 6), (0, 8), (0, 9), (0, 11)], [(0, 0), (0, 1), (0, 3), (0, 6), (0, 8), (0, 10), (0, 11)], [(0, 0), (0, 1), (0, 3), (0, 6), (0, 9), (0, 10), (0, 11)], [(0, 0), (0, 1), (0, 3), (0, 7), (0, 8), (0, 9), (0, 10)], [(0, 0), (0, 1), (0, 3), (0, 7), (0, 8), (0, 9), (0, 11)], [(0, 0), (0, 1), (0, 3), (0, 7), (0, 8), (0, 10), (0, 11)], [(0, 0), (0, 1), (0, 3), (0, 7), (0, 9), (0, 10), (0, 11)], [(0, 0), (0, 1), (0, 3), (0, 8), (0, 9), (0, 10), (0, 11)], [(0, 0), (0, 1), (0, 4), (0, 5), (0, 6), (0, 7), (0, 8)], [(0, 0), (0, 1), (0, 4), (0, 5), (0, 6), (0, 7), (0, 9)], [(0, 0), (0, 1), (0, 4), (0, 5), (0, 6), (0, 7), (0, 10)], [(0, 0), (0, 1), (0, 4), (0, 5), (0, 6), (0, 7), (0, 11)], [(0, 0), (0, 1), (0, 4), (0, 5), (0, 6), (0, 8), (0, 9)], [(0, 0), (0, 1), (0, 4), (0, 5), (0, 6), (0, 8), (0, 10)], [(0, 0), (0, 1), (0, 4), (0, 5), (0, 6), (0, 8), (0, 11)], [(0, 0), (0, 1), (0, 4), (0, 5), (0, 6), (0, 9), (0, 10)], [(0, 0), (0, 1), (0, 4), (0, 5), (0, 6), (0, 9), (0, 11)], [(0, 0), (0, 1), (0, 4), (0, 5), (0, 6), (0, 10), (0, 11)], [(0, 0), (0, 1), (0, 4), (0, 5), (0, 7), (0, 8), (0, 9)], [(0, 0), (0, 1), (0, 4), (0, 5), (0, 7), (0, 8), (0, 10)], [(0, 0), (0, 1), (0, 4), (0, 5), (0, 7), (0, 8), (0, 11)], [(0, 0), (0, 1), (0, 4), (0, 5), (0, 7), (0, 9), (0, 10)], [(0, 0), (0, 1), (0, 4), (0, 5), (0, 7), (0, 9), (0, 11)], [(0, 0), (0, 1), (0, 4), (0, 5), (0, 7), (0, 10), (0, 11)], [(0, 0), (0, 1), (0, 4), (0, 5), (0, 8), (0, 9), (0, 10)], [(0, 0), (0, 1), (0, 4), (0, 5), (0, 8), (0, 9), (0, 11)], [(0, 0), (0, 1), (0, 4), (0, 5), (0, 8), (0, 10), (0, 11)], [(0, 0), (0, 1), (0, 4), (0, 5), (0, 9), (0, 10), (0, 11)], [(0, 0), (0, 1), (0, 4), (0, 6), (0, 7), (0, 8), (0, 9)], [(0, 0), (0, 1), (0, 4), (0, 6), (0, 7), (0, 8), (0, 10)], [(0, 0), (0, 1), (0, 4), (0, 6), (0, 7), (0, 8), (0, 11)], [(0, 0), (0, 1), (0, 4), (0, 6), (0, 7), (0, 9), (0, 10)], [(0, 0), (0, 1), (0, 4), (0, 6), (0, 7), (0, 9), (0, 11)], [(0, 0), (0, 1), (0, 4), (0, 6), (0, 7), (0, 10), (0, 11)], [(0, 0), (0, 1), (0, 4), (0, 6), (0, 8), (0, 9), (0, 10)], [(0, 0), (0, 1), (0, 4), (0, 6), (0, 8), (0, 9), (0, 11)], [(0, 0), (0, 1), (0, 4), (0, 6), (0, 8), (0, 10), (0, 11)], [(0, 0), (0, 1), (0, 4), (0, 6), (0, 9), (0, 10), (0, 11)], [(0, 0), (0, 1), (0, 4), (0, 7), (0, 8), (0, 9), (0, 10)], [(0, 0), (0, 1), (0, 4), (0, 7), (0, 8), (0, 9), (0, 11)], [(0, 0), (0, 1), (0, 4), (0, 7), (0, 8), (0, 10), (0, 11)], [(0, 0), (0, 1), (0, 4), (0, 7), (0, 9), (0, 10), (0, 11)], [(0, 0), (0, 1), (0, 4), (0, 8), (0, 9), (0, 10), (0, 11)], [(0, 0), (0, 1), (0, 5), (0, 6), (0, 7), (0, 8), (0, 9)], [(0, 0), (0, 1), (0, 5), (0, 6), (0, 7), (0, 8), (0, 10)], [(0, 0), (0, 1), (0, 5), (0, 6), (0, 7), (0, 8), (0, 11)], [(0, 0), (0, 1), (0, 5), (0, 6), (0, 7), (0, 9), (0, 10)], [(0, 0), (0, 1), (0, 5), (0, 6), (0, 7), (0, 9), (0, 11)], [(0, 0), (0, 1), (0, 5), (0, 6), (0, 7), (0, 10), (0, 11)], [(0, 0), (0, 1), (0, 5), (0, 6), (0, 8), (0, 9), (0, 10)], [(0, 0), (0, 1), (0, 5), (0, 6), (0, 8), (0, 9), (0, 11)], [(0, 0), (0, 1), (0, 5), (0, 6), (0, 8), (0, 10), (0, 11)], [(0, 0), (0, 1), (0, 5), (0, 6), (0, 9), (0, 10), (0, 11)], [(0, 0), (0, 1), (0, 5), (0, 7), (0, 8), (0, 9), (0, 10)], [(0, 0), (0, 1), (0, 5), (0, 7), (0, 8), (0, 9), (0, 11)], [(0, 0), (0, 1), (0, 5), (0, 7), (0, 8), (0, 10), (0, 11)], [(0, 0), (0, 1), (0, 5), (0, 7), (0, 9), (0, 10), (0, 11)], [(0, 0), (0, 1), (0, 5), (0, 8), (0, 9), (0, 10), (0, 11)], [(0, 0), (0, 1), (0, 6), (0, 7), (0, 8), (0, 9), (0, 10)], [(0, 0), (0, 1), (0, 6), (0, 7), (0, 8), (0, 9), (0, 11)], [(0, 0), (0, 1), (0, 6), (0, 7), (0, 8), (0, 10), (0, 11)], [(0, 0), (0, 1), (0, 6), (0, 7), (0, 9), (0, 10), (0, 11)], [(0, 0), (0, 1), (0, 6), (0, 8), (0, 9), (0, 10), (0, 11)], [(0, 0), (0, 1), (0, 7), (0, 8), (0, 9), (0, 10), (0, 11)], [(0, 0), (0, 2), (0, 3), (0, 4), (0, 5), (0, 6), (0, 7)], [(0, 0), (0, 2), (0, 3), (0, 4), (0, 5), (0, 6), (0, 8)], [(0, 0), (0, 2), (0, 3), (0, 4), (0, 5), (0, 6), (0, 9)], [(0, 0), (0, 2), (0, 3), (0, 4), (0, 5), (0, 6), (0, 10)], [(0, 0), (0, 2), (0, 3), (0, 4), (0, 5), (0, 6), (0, 11)], [(0, 0), (0, 2), (0, 3), (0, 4), (0, 5), (0, 7), (0, 8)], [(0, 0), (0, 2), (0, 3), (0, 4), (0, 5), (0, 7), (0, 9)], [(0, 0), (0, 2), (0, 3), (0, 4), (0, 5), (0, 7), (0, 10)], [(0, 0), (0, 2), (0, 3), (0, 4), (0, 5), (0, 7), (0, 11)], [(0, 0), (0, 2), (0, 3), (0, 4), (0, 5), (0, 8), (0, 9)], [(0, 0), (0, 2), (0, 3), (0, 4), (0, 5), (0, 8), (0, 10)], [(0, 0), (0, 2), (0, 3), (0, 4), (0, 5), (0, 8), (0, 11)], [(0, 0), (0, 2), (0, 3), (0, 4), (0, 5), (0, 9), (0, 10)], [(0, 0), (0, 2), (0, 3), (0, 4), (0, 5), (0, 9), (0, 11)], [(0, 0), (0, 2), (0, 3), (0, 4), (0, 5), (0, 10), (0, 11)], [(0, 0), (0, 2), (0, 3), (0, 4), (0, 6), (0, 7), (0, 8)], [(0, 0), (0, 2), (0, 3), (0, 4), (0, 6), (0, 7), (0, 9)], [(0, 0), (0, 2), (0, 3), (0, 4), (0, 6), (0, 7), (0, 10)], [(0, 0), (0, 2), (0, 3), (0, 4), (0, 6), (0, 7), (0, 11)], [(0, 0), (0, 2), (0, 3), (0, 4), (0, 6), (0, 8), (0, 9)], [(0, 0), (0, 2), (0, 3), (0, 4), (0, 6), (0, 8), (0, 10)], [(0, 0), (0, 2), (0, 3), (0, 4), (0, 6), (0, 8), (0, 11)], [(0, 0), (0, 2), (0, 3), (0, 4), (0, 6), (0, 9), (0, 10)], [(0, 0), (0, 2), (0, 3), (0, 4), (0, 6), (0, 9), (0, 11)], [(0, 0), (0, 2), (0, 3), (0, 4), (0, 6), (0, 10), (0, 11)], [(0, 0), (0, 2), (0, 3), (0, 4), (0, 7), (0, 8), (0, 9)], [(0, 0), (0, 2), (0, 3), (0, 4), (0, 7), (0, 8), (0, 10)], [(0, 0), (0, 2), (0, 3), (0, 4), (0, 7), (0, 8), (0, 11)], [(0, 0), (0, 2), (0, 3), (0, 4), (0, 7), (0, 9), (0, 10)], [(0, 0), (0, 2), (0, 3), (0, 4), (0, 7), (0, 9), (0, 11)], [(0, 0), (0, 2), (0, 3), (0, 4), (0, 7), (0, 10), (0, 11)], [(0, 0), (0, 2), (0, 3), (0, 4), (0, 8), (0, 9), (0, 10)], [(0, 0), (0, 2), (0, 3), (0, 4), (0, 8), (0, 9), (0, 11)], [(0, 0), (0, 2), (0, 3), (0, 4), (0, 8), (0, 10), (0, 11)], [(0, 0), (0, 2), (0, 3), (0, 4), (0, 9), (0, 10), (0, 11)], [(0, 0), (0, 2), (0, 3), (0, 5), (0, 6), (0, 7), (0, 8)], [(0, 0), (0, 2), (0, 3), (0, 5), (0, 6), (0, 7), (0, 9)], [(0, 0), (0, 2), (0, 3), (0, 5), (0, 6), (0, 7), (0, 10)], [(0, 0), (0, 2), (0, 3), (0, 5), (0, 6), (0, 7), (0, 11)], [(0, 0), (0, 2), (0, 3), (0, 5), (0, 6), (0, 8), (0, 9)], [(0, 0), (0, 2), (0, 3), (0, 5), (0, 6), (0, 8), (0, 10)], [(0, 0), (0, 2), (0, 3), (0, 5), (0, 6), (0, 8), (0, 11)], [(0, 0), (0, 2), (0, 3), (0, 5), (0, 6), (0, 9), (0, 10)], [(0, 0), (0, 2), (0, 3), (0, 5), (0, 6), (0, 9), (0, 11)], [(0, 0), (0, 2), (0, 3), (0, 5), (0, 6), (0, 10), (0, 11)], [(0, 0), (0, 2), (0, 3), (0, 5), (0, 7), (0, 8), (0, 9)], [(0, 0), (0, 2), (0, 3), (0, 5), (0, 7), (0, 8), (0, 10)], [(0, 0), (0, 2), (0, 3), (0, 5), (0, 7), (0, 8), (0, 11)], [(0, 0), (0, 2), (0, 3), (0, 5), (0, 7), (0, 9), (0, 10)], [(0, 0), (0, 2), (0, 3), (0, 5), (0, 7), (0, 9), (0, 11)], [(0, 0), (0, 2), (0, 3), (0, 5), (0, 7), (0, 10), (0, 11)], [(0, 0), (0, 2), (0, 3), (0, 5), (0, 8), (0, 9), (0, 10)], [(0, 0), (0, 2), (0, 3), (0, 5), (0, 8), (0, 9), (0, 11)], [(0, 0), (0, 2), (0, 3), (0, 5), (0, 8), (0, 10), (0, 11)], [(0, 0), (0, 2), (0, 3), (0, 5), (0, 9), (0, 10), (0, 11)], [(0, 0), (0, 2), (0, 3), (0, 6), (0, 7), (0, 8), (0, 9)], [(0, 0), (0, 2), (0, 3), (0, 6), (0, 7), (0, 8), (0, 10)], [(0, 0), (0, 2), (0, 3), (0, 6), (0, 7), (0, 8), (0, 11)], [(0, 0), (0, 2), (0, 3), (0, 6), (0, 7), (0, 9), (0, 10)], [(0, 0), (0, 2), (0, 3), (0, 6), (0, 7), (0, 9), (0, 11)], [(0, 0), (0, 2), (0, 3), (0, 6), (0, 7), (0, 10), (0, 11)], [(0, 0), (0, 2), (0, 3), (0, 6), (0, 8), (0, 9), (0, 10)], [(0, 0), (0, 2), (0, 3), (0, 6), (0, 8), (0, 9), (0, 11)], [(0, 0), (0, 2), (0, 3), (0, 6), (0, 8), (0, 10), (0, 11)], [(0, 0), (0, 2), (0, 3), (0, 6), (0, 9), (0, 10), (0, 11)], [(0, 0), (0, 2), (0, 3), (0, 7), (0, 8), (0, 9), (0, 10)], [(0, 0), (0, 2), (0, 3), (0, 7), (0, 8), (0, 9), (0, 11)], [(0, 0), (0, 2), (0, 3), (0, 7), (0, 8), (0, 10), (0, 11)], [(0, 0), (0, 2), (0, 3), (0, 7), (0, 9), (0, 10), (0, 11)], [(0, 0), (0, 2), (0, 3), (0, 8), (0, 9), (0, 10), (0, 11)], [(0, 0), (0, 2), (0, 4), (0, 5), (0, 6), (0, 7), (0, 8)], [(0, 0), (0, 2), (0, 4), (0, 5), (0, 6), (0, 7), (0, 9)], [(0, 0), (0, 2), (0, 4), (0, 5), (0, 6), (0, 7), (0, 10)], [(0, 0), (0, 2), (0, 4), (0, 5), (0, 6), (0, 7), (0, 11)], [(0, 0), (0, 2), (0, 4), (0, 5), (0, 6), (0, 8), (0, 9)], [(0, 0), (0, 2), (0, 4), (0, 5), (0, 6), (0, 8), (0, 10)], [(0, 0), (0, 2), (0, 4), (0, 5), (0, 6), (0, 8), (0, 11)], [(0, 0), (0, 2), (0, 4), (0, 5), (0, 6), (0, 9), (0, 10)], [(0, 0), (0, 2), (0, 4), (0, 5), (0, 6), (0, 9), (0, 11)], [(0, 0), (0, 2), (0, 4), (0, 5), (0, 6), (0, 10), (0, 11)], [(0, 0), (0, 2), (0, 4), (0, 5), (0, 7), (0, 8), (0, 9)], [(0, 0), (0, 2), (0, 4), (0, 5), (0, 7), (0, 8), (0, 10)], [(0, 0), (0, 2), (0, 4), (0, 5), (0, 7), (0, 8), (0, 11)], [(0, 0), (0, 2), (0, 4), (0, 5), (0, 7), (0, 9), (0, 10)], [(0, 0), (0, 2), (0, 4), (0, 5), (0, 7), (0, 9), (0, 11)], [(0, 0), (0, 2), (0, 4), (0, 5), (0, 7), (0, 10), (0, 11)], [(0, 0), (0, 2), (0, 4), (0, 5), (0, 8), (0, 9), (0, 10)], [(0, 0), (0, 2), (0, 4), (0, 5), (0, 8), (0, 9), (0, 11)], [(0, 0), (0, 2), (0, 4), (0, 5), (0, 8), (0, 10), (0, 11)], [(0, 0), (0, 2), (0, 4), (0, 5), (0, 9), (0, 10), (0, 11)], [(0, 0), (0, 2), (0, 4), (0, 6), (0, 7), (0, 8), (0, 9)], [(0, 0), (0, 2), (0, 4), (0, 6), (0, 7), (0, 8), (0, 10)], [(0, 0), (0, 2), (0, 4), (0, 6), (0, 7), (0, 8), (0, 11)], [(0, 0), (0, 2), (0, 4), (0, 6), (0, 7), (0, 9), (0, 10)], [(0, 0), (0, 2), (0, 4), (0, 6), (0, 7), (0, 9), (0, 11)], [(0, 0), (0, 2), (0, 4), (0, 6), (0, 7), (0, 10), (0, 11)], [(0, 0), (0, 2), (0, 4), (0, 6), (0, 8), (0, 9), (0, 10)], [(0, 0), (0, 2), (0, 4), (0, 6), (0, 8), (0, 9), (0, 11)], [(0, 0), (0, 2), (0, 4), (0, 6), (0, 8), (0, 10), (0, 11)], [(0, 0), (0, 2), (0, 4), (0, 6), (0, 9), (0, 10), (0, 11)], [(0, 0), (0, 2), (0, 4), (0, 7), (0, 8), (0, 9), (0, 10)], [(0, 0), (0, 2), (0, 4), (0, 7), (0, 8), (0, 9), (0, 11)], [(0, 0), (0, 2), (0, 4), (0, 7), (0, 8), (0, 10), (0, 11)], [(0, 0), (0, 2), (0, 4), (0, 7), (0, 9), (0, 10), (0, 11)], [(0, 0), (0, 2), (0, 4), (0, 8), (0, 9), (0, 10), (0, 11)], [(0, 0), (0, 2), (0, 5), (0, 6), (0, 7), (0, 8), (0, 9)], [(0, 0), (0, 2), (0, 5), (0, 6), (0, 7), (0, 8), (0, 10)], [(0, 0), (0, 2), (0, 5), (0, 6), (0, 7), (0, 8), (0, 11)], [(0, 0), (0, 2), (0, 5), (0, 6), (0, 7), (0, 9), (0, 10)], [(0, 0), (0, 2), (0, 5), (0, 6), (0, 7), (0, 9), (0, 11)], [(0, 0), (0, 2), (0, 5), (0, 6), (0, 7), (0, 10), (0, 11)], [(0, 0), (0, 2), (0, 5), (0, 6), (0, 8), (0, 9), (0, 10)], [(0, 0), (0, 2), (0, 5), (0, 6), (0, 8), (0, 9), (0, 11)], [(0, 0), (0, 2), (0, 5), (0, 6), (0, 8), (0, 10), (0, 11)], [(0, 0), (0, 2), (0, 5), (0, 6), (0, 9), (0, 10), (0, 11)], [(0, 0), (0, 2), (0, 5), (0, 7), (0, 8), (0, 9), (0, 10)], [(0, 0), (0, 2), (0, 5), (0, 7), (0, 8), (0, 9), (0, 11)], [(0, 0), (0, 2), (0, 5), (0, 7), (0, 8), (0, 10), (0, 11)], [(0, 0), (0, 2), (0, 5), (0, 7), (0, 9), (0, 10), (0, 11)], [(0, 0), (0, 2), (0, 5), (0, 8), (0, 9), (0, 10), (0, 11)], [(0, 0), (0, 2), (0, 6), (0, 7), (0, 8), (0, 9), (0, 10)], [(0, 0), (0, 2), (0, 6), (0, 7), (0, 8), (0, 9), (0, 11)], [(0, 0), (0, 2), (0, 6), (0, 7), (0, 8), (0, 10), (0, 11)], [(0, 0), (0, 2), (0, 6), (0, 7), (0, 9), (0, 10), (0, 11)], [(0, 0), (0, 2), (0, 6), (0, 8), (0, 9), (0, 10), (0, 11)], [(0, 0), (0, 2), (0, 7), (0, 8), (0, 9), (0, 10), (0, 11)], [(0, 0), (0, 3), (0, 4), (0, 5), (0, 6), (0, 7), (0, 8)], [(0, 0), (0, 3), (0, 4), (0, 5), (0, 6), (0, 7), (0, 9)], [(0, 0), (0, 3), (0, 4), (0, 5), (0, 6), (0, 7), (0, 10)], [(0, 0), (0, 3), (0, 4), (0, 5), (0, 6), (0, 7), (0, 11)], [(0, 0), (0, 3), (0, 4), (0, 5), (0, 6), (0, 8), (0, 9)], [(0, 0), (0, 3), (0, 4), (0, 5), (0, 6), (0, 8), (0, 10)], [(0, 0), (0, 3), (0, 4), (0, 5), (0, 6), (0, 8), (0, 11)], [(0, 0), (0, 3), (0, 4), (0, 5), (0, 6), (0, 9), (0, 10)], [(0, 0), (0, 3), (0, 4), (0, 5), (0, 6), (0, 9), (0, 11)], [(0, 0), (0, 3), (0, 4), (0, 5), (0, 6), (0, 10), (0, 11)], [(0, 0), (0, 3), (0, 4), (0, 5), (0, 7), (0, 8), (0, 9)], [(0, 0), (0, 3), (0, 4), (0, 5), (0, 7), (0, 8), (0, 10)], [(0, 0), (0, 3), (0, 4), (0, 5), (0, 7), (0, 8), (0, 11)], [(0, 0), (0, 3), (0, 4), (0, 5), (0, 7), (0, 9), (0, 10)], [(0, 0), (0, 3), (0, 4), (0, 5), (0, 7), (0, 9), (0, 11)], [(0, 0), (0, 3), (0, 4), (0, 5), (0, 7), (0, 10), (0, 11)], [(0, 0), (0, 3), (0, 4), (0, 5), (0, 8), (0, 9), (0, 10)], [(0, 0), (0, 3), (0, 4), (0, 5), (0, 8), (0, 9), (0, 11)], [(0, 0), (0, 3), (0, 4), (0, 5), (0, 8), (0, 10), (0, 11)], [(0, 0), (0, 3), (0, 4), (0, 5), (0, 9), (0, 10), (0, 11)], [(0, 0), (0, 3), (0, 4), (0, 6), (0, 7), (0, 8), (0, 9)], [(0, 0), (0, 3), (0, 4), (0, 6), (0, 7), (0, 8), (0, 10)], [(0, 0), (0, 3), (0, 4), (0, 6), (0, 7), (0, 8), (0, 11)], [(0, 0), (0, 3), (0, 4), (0, 6), (0, 7), (0, 9), (0, 10)], [(0, 0), (0, 3), (0, 4), (0, 6), (0, 7), (0, 9), (0, 11)], [(0, 0), (0, 3), (0, 4), (0, 6), (0, 7), (0, 10), (0, 11)], [(0, 0), (0, 3), (0, 4), (0, 6), (0, 8), (0, 9), (0, 10)], [(0, 0), (0, 3), (0, 4), (0, 6), (0, 8), (0, 9), (0, 11)], [(0, 0), (0, 3), (0, 4), (0, 6), (0, 8), (0, 10), (0, 11)], [(0, 0), (0, 3), (0, 4), (0, 6), (0, 9), (0, 10), (0, 11)], [(0, 0), (0, 3), (0, 4), (0, 7), (0, 8), (0, 9), (0, 10)], [(0, 0), (0, 3), (0, 4), (0, 7), (0, 8), (0, 9), (0, 11)], [(0, 0), (0, 3), (0, 4), (0, 7), (0, 8), (0, 10), (0, 11)], [(0, 0), (0, 3), (0, 4), (0, 7), (0, 9), (0, 10), (0, 11)], [(0, 0), (0, 3), (0, 4), (0, 8), (0, 9), (0, 10), (0, 11)], [(0, 0), (0, 3), (0, 5), (0, 6), (0, 7), (0, 8), (0, 9)], [(0, 0), (0, 3), (0, 5), (0, 6), (0, 7), (0, 8), (0, 10)], [(0, 0), (0, 3), (0, 5), (0, 6), (0, 7), (0, 8), (0, 11)], [(0, 0), (0, 3), (0, 5), (0, 6), (0, 7), (0, 9), (0, 10)], [(0, 0), (0, 3), (0, 5), (0, 6), (0, 7), (0, 9), (0, 11)], [(0, 0), (0, 3), (0, 5), (0, 6), (0, 7), (0, 10), (0, 11)], [(0, 0), (0, 3), (0, 5), (0, 6), (0, 8), (0, 9), (0, 10)], [(0, 0), (0, 3), (0, 5), (0, 6), (0, 8), (0, 9), (0, 11)], [(0, 0), (0, 3), (0, 5), (0, 6), (0, 8), (0, 10), (0, 11)], [(0, 0), (0, 3), (0, 5), (0, 6), (0, 9), (0, 10), (0, 11)], [(0, 0), (0, 3), (0, 5), (0, 7), (0, 8), (0, 9), (0, 10)], [(0, 0), (0, 3), (0, 5), (0, 7), (0, 8), (0, 9), (0, 11)], [(0, 0), (0, 3), (0, 5), (0, 7), (0, 8), (0, 10), (0, 11)], [(0, 0), (0, 3), (0, 5), (0, 7), (0, 9), (0, 10), (0, 11)], [(0, 0), (0, 3), (0, 5), (0, 8), (0, 9), (0, 10), (0, 11)], [(0, 0), (0, 3), (0, 6), (0, 7), (0, 8), (0, 9), (0, 10)], [(0, 0), (0, 3), (0, 6), (0, 7), (0, 8), (0, 9), (0, 11)], [(0, 0), (0, 3), (0, 6), (0, 7), (0, 8), (0, 10), (0, 11)], [(0, 0), (0, 3), (0, 6), (0, 7), (0, 9), (0, 10), (0, 11)], [(0, 0), (0, 3), (0, 6), (0, 8), (0, 9), (0, 10), (0, 11)], [(0, 0), (0, 3), (0, 7), (0, 8), (0, 9), (0, 10), (0, 11)], [(0, 0), (0, 4), (0, 5), (0, 6), (0, 7), (0, 8), (0, 9)], [(0, 0), (0, 4), (0, 5), (0, 6), (0, 7), (0, 8), (0, 10)], [(0, 0), (0, 4), (0, 5), (0, 6), (0, 7), (0, 8), (0, 11)], [(0, 0), (0, 4), (0, 5), (0, 6), (0, 7), (0, 9), (0, 10)], [(0, 0), (0, 4), (0, 5), (0, 6), (0, 7), (0, 9), (0, 11)], [(0, 0), (0, 4), (0, 5), (0, 6), (0, 7), (0, 10), (0, 11)], [(0, 0), (0, 4), (0, 5), (0, 6), (0, 8), (0, 9), (0, 10)], [(0, 0), (0, 4), (0, 5), (0, 6), (0, 8), (0, 9), (0, 11)], [(0, 0), (0, 4), (0, 5), (0, 6), (0, 8), (0, 10), (0, 11)], [(0, 0), (0, 4), (0, 5), (0, 6), (0, 9), (0, 10), (0, 11)], [(0, 0), (0, 4), (0, 5), (0, 7), (0, 8), (0, 9), (0, 10)], [(0, 0), (0, 4), (0, 5), (0, 7), (0, 8), (0, 9), (0, 11)], [(0, 0), (0, 4), (0, 5), (0, 7), (0, 8), (0, 10), (0, 11)], [(0, 0), (0, 4), (0, 5), (0, 7), (0, 9), (0, 10), (0, 11)], [(0, 0), (0, 4), (0, 5), (0, 8), (0, 9), (0, 10), (0, 11)], [(0, 0), (0, 4), (0, 6), (0, 7), (0, 8), (0, 9), (0, 10)], [(0, 0), (0, 4), (0, 6), (0, 7), (0, 8), (0, 9), (0, 11)], [(0, 0), (0, 4), (0, 6), (0, 7), (0, 8), (0, 10), (0, 11)], [(0, 0), (0, 4), (0, 6), (0, 7), (0, 9), (0, 10), (0, 11)], [(0, 0), (0, 4), (0, 6), (0, 8), (0, 9), (0, 10), (0, 11)], [(0, 0), (0, 4), (0, 7), (0, 8), (0, 9), (0, 10), (0, 11)], [(0, 0), (0, 5), (0, 6), (0, 7), (0, 8), (0, 9), (0, 10)], [(0, 0), (0, 5), (0, 6), (0, 7), (0, 8), (0, 9), (0, 11)], [(0, 0), (0, 5), (0, 6), (0, 7), (0, 8), (0, 10), (0, 11)], [(0, 0), (0, 5), (0, 6), (0, 7), (0, 9), (0, 10), (0, 11)], [(0, 0), (0, 5), (0, 6), (0, 8), (0, 9), (0, 10), (0, 11)], [(0, 0), (0, 5), (0, 7), (0, 8), (0, 9), (0, 10), (0, 11)], [(0, 0), (0, 6), (0, 7), (0, 8), (0, 9), (0, 10), (0, 11)], [(0, 1), (0, 2), (0, 3), (0, 4), (0, 5), (0, 6), (0, 7)], [(0, 1), (0, 2), (0, 3), (0, 4), (0, 5), (0, 6), (0, 8)], [(0, 1), (0, 2), (0, 3), (0, 4), (0, 5), (0, 6), (0, 9)], [(0, 1), (0, 2), (0, 3), (0, 4), (0, 5), (0, 6), (0, 10)], [(0, 1), (0, 2), (0, 3), (0, 4), (0, 5), (0, 6), (0, 11)], [(0, 1), (0, 2), (0, 3), (0, 4), (0, 5), (0, 7), (0, 8)], [(0, 1), (0, 2), (0, 3), (0, 4), (0, 5), (0, 7), (0, 9)], [(0, 1), (0, 2), (0, 3), (0, 4), (0, 5), (0, 7), (0, 10)], [(0, 1), (0, 2), (0, 3), (0, 4), (0, 5), (0, 7), (0, 11)], [(0, 1), (0, 2), (0, 3), (0, 4), (0, 5), (0, 8), (0, 9)], [(0, 1), (0, 2), (0, 3), (0, 4), (0, 5), (0, 8), (0, 10)], [(0, 1), (0, 2), (0, 3), (0, 4), (0, 5), (0, 8), (0, 11)], [(0, 1), (0, 2), (0, 3), (0, 4), (0, 5), (0, 9), (0, 10)], [(0, 1), (0, 2), (0, 3), (0, 4), (0, 5), (0, 9), (0, 11)], [(0, 1), (0, 2), (0, 3), (0, 4), (0, 5), (0, 10), (0, 11)], [(0, 1), (0, 2), (0, 3), (0, 4), (0, 6), (0, 7), (0, 8)], [(0, 1), (0, 2), (0, 3), (0, 4), (0, 6), (0, 7), (0, 9)], [(0, 1), (0, 2), (0, 3), (0, 4), (0, 6), (0, 7), (0, 10)], [(0, 1), (0, 2), (0, 3), (0, 4), (0, 6), (0, 7), (0, 11)], [(0, 1), (0, 2), (0, 3), (0, 4), (0, 6), (0, 8), (0, 9)], [(0, 1), (0, 2), (0, 3), (0, 4), (0, 6), (0, 8), (0, 10)], [(0, 1), (0, 2), (0, 3), (0, 4), (0, 6), (0, 8), (0, 11)], [(0, 1), (0, 2), (0, 3), (0, 4), (0, 6), (0, 9), (0, 10)], [(0, 1), (0, 2), (0, 3), (0, 4), (0, 6), (0, 9), (0, 11)], [(0, 1), (0, 2), (0, 3), (0, 4), (0, 6), (0, 10), (0, 11)], [(0, 1), (0, 2), (0, 3), (0, 4), (0, 7), (0, 8), (0, 9)], [(0, 1), (0, 2), (0, 3), (0, 4), (0, 7), (0, 8), (0, 10)], [(0, 1), (0, 2), (0, 3), (0, 4), (0, 7), (0, 8), (0, 11)], [(0, 1), (0, 2), (0, 3), (0, 4), (0, 7), (0, 9), (0, 10)], [(0, 1), (0, 2), (0, 3), (0, 4), (0, 7), (0, 9), (0, 11)], [(0, 1), (0, 2), (0, 3), (0, 4), (0, 7), (0, 10), (0, 11)], [(0, 1), (0, 2), (0, 3), (0, 4), (0, 8), (0, 9), (0, 10)], [(0, 1), (0, 2), (0, 3), (0, 4), (0, 8), (0, 9), (0, 11)], [(0, 1), (0, 2), (0, 3), (0, 4), (0, 8), (0, 10), (0, 11)], [(0, 1), (0, 2), (0, 3), (0, 4), (0, 9), (0, 10), (0, 11)], [(0, 1), (0, 2), (0, 3), (0, 5), (0, 6), (0, 7), (0, 8)], [(0, 1), (0, 2), (0, 3), (0, 5), (0, 6), (0, 7), (0, 9)], [(0, 1), (0, 2), (0, 3), (0, 5), (0, 6), (0, 7), (0, 10)], [(0, 1), (0, 2), (0, 3), (0, 5), (0, 6), (0, 7), (0, 11)], [(0, 1), (0, 2), (0, 3), (0, 5), (0, 6), (0, 8), (0, 9)], [(0, 1), (0, 2), (0, 3), (0, 5), (0, 6), (0, 8), (0, 10)], [(0, 1), (0, 2), (0, 3), (0, 5), (0, 6), (0, 8), (0, 11)], [(0, 1), (0, 2), (0, 3), (0, 5), (0, 6), (0, 9), (0, 10)], [(0, 1), (0, 2), (0, 3), (0, 5), (0, 6), (0, 9), (0, 11)], [(0, 1), (0, 2), (0, 3), (0, 5), (0, 6), (0, 10), (0, 11)], [(0, 1), (0, 2), (0, 3), (0, 5), (0, 7), (0, 8), (0, 9)], [(0, 1), (0, 2), (0, 3), (0, 5), (0, 7), (0, 8), (0, 10)], [(0, 1), (0, 2), (0, 3), (0, 5), (0, 7), (0, 8), (0, 11)], [(0, 1), (0, 2), (0, 3), (0, 5), (0, 7), (0, 9), (0, 10)], [(0, 1), (0, 2), (0, 3), (0, 5), (0, 7), (0, 9), (0, 11)], [(0, 1), (0, 2), (0, 3), (0, 5), (0, 7), (0, 10), (0, 11)], [(0, 1), (0, 2), (0, 3), (0, 5), (0, 8), (0, 9), (0, 10)], [(0, 1), (0, 2), (0, 3), (0, 5), (0, 8), (0, 9), (0, 11)], [(0, 1), (0, 2), (0, 3), (0, 5), (0, 8), (0, 10), (0, 11)], [(0, 1), (0, 2), (0, 3), (0, 5), (0, 9), (0, 10), (0, 11)], [(0, 1), (0, 2), (0, 3), (0, 6), (0, 7), (0, 8), (0, 9)], [(0, 1), (0, 2), (0, 3), (0, 6), (0, 7), (0, 8), (0, 10)], [(0, 1), (0, 2), (0, 3), (0, 6), (0, 7), (0, 8), (0, 11)], [(0, 1), (0, 2), (0, 3), (0, 6), (0, 7), (0, 9), (0, 10)], [(0, 1), (0, 2), (0, 3), (0, 6), (0, 7), (0, 9), (0, 11)], [(0, 1), (0, 2), (0, 3), (0, 6), (0, 7), (0, 10), (0, 11)], [(0, 1), (0, 2), (0, 3), (0, 6), (0, 8), (0, 9), (0, 10)], [(0, 1), (0, 2), (0, 3), (0, 6), (0, 8), (0, 9), (0, 11)], [(0, 1), (0, 2), (0, 3), (0, 6), (0, 8), (0, 10), (0, 11)], [(0, 1), (0, 2), (0, 3), (0, 6), (0, 9), (0, 10), (0, 11)], [(0, 1), (0, 2), (0, 3), (0, 7), (0, 8), (0, 9), (0, 10)], [(0, 1), (0, 2), (0, 3), (0, 7), (0, 8), (0, 9), (0, 11)], [(0, 1), (0, 2), (0, 3), (0, 7), (0, 8), (0, 10), (0, 11)], [(0, 1), (0, 2), (0, 3), (0, 7), (0, 9), (0, 10), (0, 11)], [(0, 1), (0, 2), (0, 3), (0, 8), (0, 9), (0, 10), (0, 11)], [(0, 1), (0, 2), (0, 4), (0, 5), (0, 6), (0, 7), (0, 8)], [(0, 1), (0, 2), (0, 4), (0, 5), (0, 6), (0, 7), (0, 9)], [(0, 1), (0, 2), (0, 4), (0, 5), (0, 6), (0, 7), (0, 10)], [(0, 1), (0, 2), (0, 4), (0, 5), (0, 6), (0, 7), (0, 11)], [(0, 1), (0, 2), (0, 4), (0, 5), (0, 6), (0, 8), (0, 9)], [(0, 1), (0, 2), (0, 4), (0, 5), (0, 6), (0, 8), (0, 10)], [(0, 1), (0, 2), (0, 4), (0, 5), (0, 6), (0, 8), (0, 11)], [(0, 1), (0, 2), (0, 4), (0, 5), (0, 6), (0, 9), (0, 10)], [(0, 1), (0, 2), (0, 4), (0, 5), (0, 6), (0, 9), (0, 11)], [(0, 1), (0, 2), (0, 4), (0, 5), (0, 6), (0, 10), (0, 11)], [(0, 1), (0, 2), (0, 4), (0, 5), (0, 7), (0, 8), (0, 9)], [(0, 1), (0, 2), (0, 4), (0, 5), (0, 7), (0, 8), (0, 10)], [(0, 1), (0, 2), (0, 4), (0, 5), (0, 7), (0, 8), (0, 11)], [(0, 1), (0, 2), (0, 4), (0, 5), (0, 7), (0, 9), (0, 10)], [(0, 1), (0, 2), (0, 4), (0, 5), (0, 7), (0, 9), (0, 11)], [(0, 1), (0, 2), (0, 4), (0, 5), (0, 7), (0, 10), (0, 11)], [(0, 1), (0, 2), (0, 4), (0, 5), (0, 8), (0, 9), (0, 10)], [(0, 1), (0, 2), (0, 4), (0, 5), (0, 8), (0, 9), (0, 11)], [(0, 1), (0, 2), (0, 4), (0, 5), (0, 8), (0, 10), (0, 11)], [(0, 1), (0, 2), (0, 4), (0, 5), (0, 9), (0, 10), (0, 11)], [(0, 1), (0, 2), (0, 4), (0, 6), (0, 7), (0, 8), (0, 9)], [(0, 1), (0, 2), (0, 4), (0, 6), (0, 7), (0, 8), (0, 10)], [(0, 1), (0, 2), (0, 4), (0, 6), (0, 7), (0, 8), (0, 11)], [(0, 1), (0, 2), (0, 4), (0, 6), (0, 7), (0, 9), (0, 10)], [(0, 1), (0, 2), (0, 4), (0, 6), (0, 7), (0, 9), (0, 11)], [(0, 1), (0, 2), (0, 4), (0, 6), (0, 7), (0, 10), (0, 11)], [(0, 1), (0, 2), (0, 4), (0, 6), (0, 8), (0, 9), (0, 10)], [(0, 1), (0, 2), (0, 4), (0, 6), (0, 8), (0, 9), (0, 11)], [(0, 1), (0, 2), (0, 4), (0, 6), (0, 8), (0, 10), (0, 11)], [(0, 1), (0, 2), (0, 4), (0, 6), (0, 9), (0, 10), (0, 11)], [(0, 1), (0, 2), (0, 4), (0, 7), (0, 8), (0, 9), (0, 10)], [(0, 1), (0, 2), (0, 4), (0, 7), (0, 8), (0, 9), (0, 11)], [(0, 1), (0, 2), (0, 4), (0, 7), (0, 8), (0, 10), (0, 11)], [(0, 1), (0, 2), (0, 4), (0, 7), (0, 9), (0, 10), (0, 11)], [(0, 1), (0, 2), (0, 4), (0, 8), (0, 9), (0, 10), (0, 11)], [(0, 1), (0, 2), (0, 5), (0, 6), (0, 7), (0, 8), (0, 9)], [(0, 1), (0, 2), (0, 5), (0, 6), (0, 7), (0, 8), (0, 10)], [(0, 1), (0, 2), (0, 5), (0, 6), (0, 7), (0, 8), (0, 11)], [(0, 1), (0, 2), (0, 5), (0, 6), (0, 7), (0, 9), (0, 10)], [(0, 1), (0, 2), (0, 5), (0, 6), (0, 7), (0, 9), (0, 11)], [(0, 1), (0, 2), (0, 5), (0, 6), (0, 7), (0, 10), (0, 11)], [(0, 1), (0, 2), (0, 5), (0, 6), (0, 8), (0, 9), (0, 10)], [(0, 1), (0, 2), (0, 5), (0, 6), (0, 8), (0, 9), (0, 11)], [(0, 1), (0, 2), (0, 5), (0, 6), (0, 8), (0, 10), (0, 11)], [(0, 1), (0, 2), (0, 5), (0, 6), (0, 9), (0, 10), (0, 11)], [(0, 1), (0, 2), (0, 5), (0, 7), (0, 8), (0, 9), (0, 10)], [(0, 1), (0, 2), (0, 5), (0, 7), (0, 8), (0, 9), (0, 11)], [(0, 1), (0, 2), (0, 5), (0, 7), (0, 8), (0, 10), (0, 11)], [(0, 1), (0, 2), (0, 5), (0, 7), (0, 9), (0, 10), (0, 11)], [(0, 1), (0, 2), (0, 5), (0, 8), (0, 9), (0, 10), (0, 11)], [(0, 1), (0, 2), (0, 6), (0, 7), (0, 8), (0, 9), (0, 10)], [(0, 1), (0, 2), (0, 6), (0, 7), (0, 8), (0, 9), (0, 11)], [(0, 1), (0, 2), (0, 6), (0, 7), (0, 8), (0, 10), (0, 11)], [(0, 1), (0, 2), (0, 6), (0, 7), (0, 9), (0, 10), (0, 11)], [(0, 1), (0, 2), (0, 6), (0, 8), (0, 9), (0, 10), (0, 11)], [(0, 1), (0, 2), (0, 7), (0, 8), (0, 9), (0, 10), (0, 11)], [(0, 1), (0, 3), (0, 4), (0, 5), (0, 6), (0, 7), (0, 8)], [(0, 1), (0, 3), (0, 4), (0, 5), (0, 6), (0, 7), (0, 9)], [(0, 1), (0, 3), (0, 4), (0, 5), (0, 6), (0, 7), (0, 10)], [(0, 1), (0, 3), (0, 4), (0, 5), (0, 6), (0, 7), (0, 11)], [(0, 1), (0, 3), (0, 4), (0, 5), (0, 6), (0, 8), (0, 9)], [(0, 1), (0, 3), (0, 4), (0, 5), (0, 6), (0, 8), (0, 10)], [(0, 1), (0, 3), (0, 4), (0, 5), (0, 6), (0, 8), (0, 11)], [(0, 1), (0, 3), (0, 4), (0, 5), (0, 6), (0, 9), (0, 10)], [(0, 1), (0, 3), (0, 4), (0, 5), (0, 6), (0, 9), (0, 11)], [(0, 1), (0, 3), (0, 4), (0, 5), (0, 6), (0, 10), (0, 11)], [(0, 1), (0, 3), (0, 4), (0, 5), (0, 7), (0, 8), (0, 9)], [(0, 1), (0, 3), (0, 4), (0, 5), (0, 7), (0, 8), (0, 10)], [(0, 1), (0, 3), (0, 4), (0, 5), (0, 7), (0, 8), (0, 11)], [(0, 1), (0, 3), (0, 4), (0, 5), (0, 7), (0, 9), (0, 10)], [(0, 1), (0, 3), (0, 4), (0, 5), (0, 7), (0, 9), (0, 11)], [(0, 1), (0, 3), (0, 4), (0, 5), (0, 7), (0, 10), (0, 11)], [(0, 1), (0, 3), (0, 4), (0, 5), (0, 8), (0, 9), (0, 10)], [(0, 1), (0, 3), (0, 4), (0, 5), (0, 8), (0, 9), (0, 11)], [(0, 1), (0, 3), (0, 4), (0, 5), (0, 8), (0, 10), (0, 11)], [(0, 1), (0, 3), (0, 4), (0, 5), (0, 9), (0, 10), (0, 11)], [(0, 1), (0, 3), (0, 4), (0, 6), (0, 7), (0, 8), (0, 9)], [(0, 1), (0, 3), (0, 4), (0, 6), (0, 7), (0, 8), (0, 10)], [(0, 1), (0, 3), (0, 4), (0, 6), (0, 7), (0, 8), (0, 11)], [(0, 1), (0, 3), (0, 4), (0, 6), (0, 7), (0, 9), (0, 10)], [(0, 1), (0, 3), (0, 4), (0, 6), (0, 7), (0, 9), (0, 11)], [(0, 1), (0, 3), (0, 4), (0, 6), (0, 7), (0, 10), (0, 11)], [(0, 1), (0, 3), (0, 4), (0, 6), (0, 8), (0, 9), (0, 10)], [(0, 1), (0, 3), (0, 4), (0, 6), (0, 8), (0, 9), (0, 11)], [(0, 1), (0, 3), (0, 4), (0, 6), (0, 8), (0, 10), (0, 11)], [(0, 1), (0, 3), (0, 4), (0, 6), (0, 9), (0, 10), (0, 11)], [(0, 1), (0, 3), (0, 4), (0, 7), (0, 8), (0, 9), (0, 10)], [(0, 1), (0, 3), (0, 4), (0, 7), (0, 8), (0, 9), (0, 11)], [(0, 1), (0, 3), (0, 4), (0, 7), (0, 8), (0, 10), (0, 11)], [(0, 1), (0, 3), (0, 4), (0, 7), (0, 9), (0, 10), (0, 11)], [(0, 1), (0, 3), (0, 4), (0, 8), (0, 9), (0, 10), (0, 11)], [(0, 1), (0, 3), (0, 5), (0, 6), (0, 7), (0, 8), (0, 9)], [(0, 1), (0, 3), (0, 5), (0, 6), (0, 7), (0, 8), (0, 10)], [(0, 1), (0, 3), (0, 5), (0, 6), (0, 7), (0, 8), (0, 11)], [(0, 1), (0, 3), (0, 5), (0, 6), (0, 7), (0, 9), (0, 10)], [(0, 1), (0, 3), (0, 5), (0, 6), (0, 7), (0, 9), (0, 11)], [(0, 1), (0, 3), (0, 5), (0, 6), (0, 7), (0, 10), (0, 11)], [(0, 1), (0, 3), (0, 5), (0, 6), (0, 8), (0, 9), (0, 10)], [(0, 1), (0, 3), (0, 5), (0, 6), (0, 8), (0, 9), (0, 11)], [(0, 1), (0, 3), (0, 5), (0, 6), (0, 8), (0, 10), (0, 11)], [(0, 1), (0, 3), (0, 5), (0, 6), (0, 9), (0, 10), (0, 11)], [(0, 1), (0, 3), (0, 5), (0, 7), (0, 8), (0, 9), (0, 10)], [(0, 1), (0, 3), (0, 5), (0, 7), (0, 8), (0, 9), (0, 11)], [(0, 1), (0, 3), (0, 5), (0, 7), (0, 8), (0, 10), (0, 11)], [(0, 1), (0, 3), (0, 5), (0, 7), (0, 9), (0, 10), (0, 11)], [(0, 1), (0, 3), (0, 5), (0, 8), (0, 9), (0, 10), (0, 11)], [(0, 1), (0, 3), (0, 6), (0, 7), (0, 8), (0, 9), (0, 10)], [(0, 1), (0, 3), (0, 6), (0, 7), (0, 8), (0, 9), (0, 11)], [(0, 1), (0, 3), (0, 6), (0, 7), (0, 8), (0, 10), (0, 11)], [(0, 1), (0, 3), (0, 6), (0, 7), (0, 9), (0, 10), (0, 11)], [(0, 1), (0, 3), (0, 6), (0, 8), (0, 9), (0, 10), (0, 11)], [(0, 1), (0, 3), (0, 7), (0, 8), (0, 9), (0, 10), (0, 11)], [(0, 1), (0, 4), (0, 5), (0, 6), (0, 7), (0, 8), (0, 9)], [(0, 1), (0, 4), (0, 5), (0, 6), (0, 7), (0, 8), (0, 10)], [(0, 1), (0, 4), (0, 5), (0, 6), (0, 7), (0, 8), (0, 11)], [(0, 1), (0, 4), (0, 5), (0, 6), (0, 7), (0, 9), (0, 10)], [(0, 1), (0, 4), (0, 5), (0, 6), (0, 7), (0, 9), (0, 11)], [(0, 1), (0, 4), (0, 5), (0, 6), (0, 7), (0, 10), (0, 11)], [(0, 1), (0, 4), (0, 5), (0, 6), (0, 8), (0, 9), (0, 10)], [(0, 1), (0, 4), (0, 5), (0, 6), (0, 8), (0, 9), (0, 11)], [(0, 1), (0, 4), (0, 5), (0, 6), (0, 8), (0, 10), (0, 11)], [(0, 1), (0, 4), (0, 5), (0, 6), (0, 9), (0, 10), (0, 11)], [(0, 1), (0, 4), (0, 5), (0, 7), (0, 8), (0, 9), (0, 10)], [(0, 1), (0, 4), (0, 5), (0, 7), (0, 8), (0, 9), (0, 11)], [(0, 1), (0, 4), (0, 5), (0, 7), (0, 8), (0, 10), (0, 11)], [(0, 1), (0, 4), (0, 5), (0, 7), (0, 9), (0, 10), (0, 11)], [(0, 1), (0, 4), (0, 5), (0, 8), (0, 9), (0, 10), (0, 11)], [(0, 1), (0, 4), (0, 6), (0, 7), (0, 8), (0, 9), (0, 10)], [(0, 1), (0, 4), (0, 6), (0, 7), (0, 8), (0, 9), (0, 11)], [(0, 1), (0, 4), (0, 6), (0, 7), (0, 8), (0, 10), (0, 11)], [(0, 1), (0, 4), (0, 6), (0, 7), (0, 9), (0, 10), (0, 11)], [(0, 1), (0, 4), (0, 6), (0, 8), (0, 9), (0, 10), (0, 11)], [(0, 1), (0, 4), (0, 7), (0, 8), (0, 9), (0, 10), (0, 11)], [(0, 1), (0, 5), (0, 6), (0, 7), (0, 8), (0, 9), (0, 10)], [(0, 1), (0, 5), (0, 6), (0, 7), (0, 8), (0, 9), (0, 11)], [(0, 1), (0, 5), (0, 6), (0, 7), (0, 8), (0, 10), (0, 11)], [(0, 1), (0, 5), (0, 6), (0, 7), (0, 9), (0, 10), (0, 11)], [(0, 1), (0, 5), (0, 6), (0, 8), (0, 9), (0, 10), (0, 11)], [(0, 1), (0, 5), (0, 7), (0, 8), (0, 9), (0, 10), (0, 11)], [(0, 1), (0, 6), (0, 7), (0, 8), (0, 9), (0, 10), (0, 11)], [(0, 2), (0, 3), (0, 4), (0, 5), (0, 6), (0, 7), (0, 8)], [(0, 2), (0, 3), (0, 4), (0, 5), (0, 6), (0, 7), (0, 9)], [(0, 2), (0, 3), (0, 4), (0, 5), (0, 6), (0, 7), (0, 10)], [(0, 2), (0, 3), (0, 4), (0, 5), (0, 6), (0, 7), (0, 11)], [(0, 2), (0, 3), (0, 4), (0, 5), (0, 6), (0, 8), (0, 9)], [(0, 2), (0, 3), (0, 4), (0, 5), (0, 6), (0, 8), (0, 10)], [(0, 2), (0, 3), (0, 4), (0, 5), (0, 6), (0, 8), (0, 11)], [(0, 2), (0, 3), (0, 4), (0, 5), (0, 6), (0, 9), (0, 10)], [(0, 2), (0, 3), (0, 4), (0, 5), (0, 6), (0, 9), (0, 11)], [(0, 2), (0, 3), (0, 4), (0, 5), (0, 6), (0, 10), (0, 11)], [(0, 2), (0, 3), (0, 4), (0, 5), (0, 7), (0, 8), (0, 9)], [(0, 2), (0, 3), (0, 4), (0, 5), (0, 7), (0, 8), (0, 10)], [(0, 2), (0, 3), (0, 4), (0, 5), (0, 7), (0, 8), (0, 11)], [(0, 2), (0, 3), (0, 4), (0, 5), (0, 7), (0, 9), (0, 10)], [(0, 2), (0, 3), (0, 4), (0, 5), (0, 7), (0, 9), (0, 11)], [(0, 2), (0, 3), (0, 4), (0, 5), (0, 7), (0, 10), (0, 11)], [(0, 2), (0, 3), (0, 4), (0, 5), (0, 8), (0, 9), (0, 10)], [(0, 2), (0, 3), (0, 4), (0, 5), (0, 8), (0, 9), (0, 11)], [(0, 2), (0, 3), (0, 4), (0, 5), (0, 8), (0, 10), (0, 11)], [(0, 2), (0, 3), (0, 4), (0, 5), (0, 9), (0, 10), (0, 11)], [(0, 2), (0, 3), (0, 4), (0, 6), (0, 7), (0, 8), (0, 9)], [(0, 2), (0, 3), (0, 4), (0, 6), (0, 7), (0, 8), (0, 10)], [(0, 2), (0, 3), (0, 4), (0, 6), (0, 7), (0, 8), (0, 11)], [(0, 2), (0, 3), (0, 4), (0, 6), (0, 7), (0, 9), (0, 10)], [(0, 2), (0, 3), (0, 4), (0, 6), (0, 7), (0, 9), (0, 11)], [(0, 2), (0, 3), (0, 4), (0, 6), (0, 7), (0, 10), (0, 11)], [(0, 2), (0, 3), (0, 4), (0, 6), (0, 8), (0, 9), (0, 10)], [(0, 2), (0, 3), (0, 4), (0, 6), (0, 8), (0, 9), (0, 11)], [(0, 2), (0, 3), (0, 4), (0, 6), (0, 8), (0, 10), (0, 11)], [(0, 2), (0, 3), (0, 4), (0, 6), (0, 9), (0, 10), (0, 11)], [(0, 2), (0, 3), (0, 4), (0, 7), (0, 8), (0, 9), (0, 10)], [(0, 2), (0, 3), (0, 4), (0, 7), (0, 8), (0, 9), (0, 11)], [(0, 2), (0, 3), (0, 4), (0, 7), (0, 8), (0, 10), (0, 11)], [(0, 2), (0, 3), (0, 4), (0, 7), (0, 9), (0, 10), (0, 11)], [(0, 2), (0, 3), (0, 4), (0, 8), (0, 9), (0, 10), (0, 11)], [(0, 2), (0, 3), (0, 5), (0, 6), (0, 7), (0, 8), (0, 9)], [(0, 2), (0, 3), (0, 5), (0, 6), (0, 7), (0, 8), (0, 10)], [(0, 2), (0, 3), (0, 5), (0, 6), (0, 7), (0, 8), (0, 11)], [(0, 2), (0, 3), (0, 5), (0, 6), (0, 7), (0, 9), (0, 10)], [(0, 2), (0, 3), (0, 5), (0, 6), (0, 7), (0, 9), (0, 11)], [(0, 2), (0, 3), (0, 5), (0, 6), (0, 7), (0, 10), (0, 11)], [(0, 2), (0, 3), (0, 5), (0, 6), (0, 8), (0, 9), (0, 10)], [(0, 2), (0, 3), (0, 5), (0, 6), (0, 8), (0, 9), (0, 11)], [(0, 2), (0, 3), (0, 5), (0, 6), (0, 8), (0, 10), (0, 11)], [(0, 2), (0, 3), (0, 5), (0, 6), (0, 9), (0, 10), (0, 11)], [(0, 2), (0, 3), (0, 5), (0, 7), (0, 8), (0, 9), (0, 10)], [(0, 2), (0, 3), (0, 5), (0, 7), (0, 8), (0, 9), (0, 11)], [(0, 2), (0, 3), (0, 5), (0, 7), (0, 8), (0, 10), (0, 11)], [(0, 2), (0, 3), (0, 5), (0, 7), (0, 9), (0, 10), (0, 11)], [(0, 2), (0, 3), (0, 5), (0, 8), (0, 9), (0, 10), (0, 11)], [(0, 2), (0, 3), (0, 6), (0, 7), (0, 8), (0, 9), (0, 10)], [(0, 2), (0, 3), (0, 6), (0, 7), (0, 8), (0, 9), (0, 11)], [(0, 2), (0, 3), (0, 6), (0, 7), (0, 8), (0, 10), (0, 11)], [(0, 2), (0, 3), (0, 6), (0, 7), (0, 9), (0, 10), (0, 11)], [(0, 2), (0, 3), (0, 6), (0, 8), (0, 9), (0, 10), (0, 11)], [(0, 2), (0, 3), (0, 7), (0, 8), (0, 9), (0, 10), (0, 11)], [(0, 2), (0, 4), (0, 5), (0, 6), (0, 7), (0, 8), (0, 9)], [(0, 2), (0, 4), (0, 5), (0, 6), (0, 7), (0, 8), (0, 10)], [(0, 2), (0, 4), (0, 5), (0, 6), (0, 7), (0, 8), (0, 11)], [(0, 2), (0, 4), (0, 5), (0, 6), (0, 7), (0, 9), (0, 10)], [(0, 2), (0, 4), (0, 5), (0, 6), (0, 7), (0, 9), (0, 11)], [(0, 2), (0, 4), (0, 5), (0, 6), (0, 7), (0, 10), (0, 11)], [(0, 2), (0, 4), (0, 5), (0, 6), (0, 8), (0, 9), (0, 10)], [(0, 2), (0, 4), (0, 5), (0, 6), (0, 8), (0, 9), (0, 11)], [(0, 2), (0, 4), (0, 5), (0, 6), (0, 8), (0, 10), (0, 11)], [(0, 2), (0, 4), (0, 5), (0, 6), (0, 9), (0, 10), (0, 11)], [(0, 2), (0, 4), (0, 5), (0, 7), (0, 8), (0, 9), (0, 10)], [(0, 2), (0, 4), (0, 5), (0, 7), (0, 8), (0, 9), (0, 11)], [(0, 2), (0, 4), (0, 5), (0, 7), (0, 8), (0, 10), (0, 11)], [(0, 2), (0, 4), (0, 5), (0, 7), (0, 9), (0, 10), (0, 11)], [(0, 2), (0, 4), (0, 5), (0, 8), (0, 9), (0, 10), (0, 11)], [(0, 2), (0, 4), (0, 6), (0, 7), (0, 8), (0, 9), (0, 10)], [(0, 2), (0, 4), (0, 6), (0, 7), (0, 8), (0, 9), (0, 11)], [(0, 2), (0, 4), (0, 6), (0, 7), (0, 8), (0, 10), (0, 11)], [(0, 2), (0, 4), (0, 6), (0, 7), (0, 9), (0, 10), (0, 11)], [(0, 2), (0, 4), (0, 6), (0, 8), (0, 9), (0, 10), (0, 11)], [(0, 2), (0, 4), (0, 7), (0, 8), (0, 9), (0, 10), (0, 11)], [(0, 2), (0, 5), (0, 6), (0, 7), (0, 8), (0, 9), (0, 10)], [(0, 2), (0, 5), (0, 6), (0, 7), (0, 8), (0, 9), (0, 11)], [(0, 2), (0, 5), (0, 6), (0, 7), (0, 8), (0, 10), (0, 11)], [(0, 2), (0, 5), (0, 6), (0, 7), (0, 9), (0, 10), (0, 11)], [(0, 2), (0, 5), (0, 6), (0, 8), (0, 9), (0, 10), (0, 11)], [(0, 2), (0, 5), (0, 7), (0, 8), (0, 9), (0, 10), (0, 11)], [(0, 2), (0, 6), (0, 7), (0, 8), (0, 9), (0, 10), (0, 11)], [(0, 3), (0, 4), (0, 5), (0, 6), (0, 7), (0, 8), (0, 9)], [(0, 3), (0, 4), (0, 5), (0, 6), (0, 7), (0, 8), (0, 10)], [(0, 3), (0, 4), (0, 5), (0, 6), (0, 7), (0, 8), (0, 11)], [(0, 3), (0, 4), (0, 5), (0, 6), (0, 7), (0, 9), (0, 10)], [(0, 3), (0, 4), (0, 5), (0, 6), (0, 7), (0, 9), (0, 11)], [(0, 3), (0, 4), (0, 5), (0, 6), (0, 7), (0, 10), (0, 11)], [(0, 3), (0, 4), (0, 5), (0, 6), (0, 8), (0, 9), (0, 10)], [(0, 3), (0, 4), (0, 5), (0, 6), (0, 8), (0, 9), (0, 11)], [(0, 3), (0, 4), (0, 5), (0, 6), (0, 8), (0, 10), (0, 11)], [(0, 3), (0, 4), (0, 5), (0, 6), (0, 9), (0, 10), (0, 11)], [(0, 3), (0, 4), (0, 5), (0, 7), (0, 8), (0, 9), (0, 10)], [(0, 3), (0, 4), (0, 5), (0, 7), (0, 8), (0, 9), (0, 11)], [(0, 3), (0, 4), (0, 5), (0, 7), (0, 8), (0, 10), (0, 11)], [(0, 3), (0, 4), (0, 5), (0, 7), (0, 9), (0, 10), (0, 11)], [(0, 3), (0, 4), (0, 5), (0, 8), (0, 9), (0, 10), (0, 11)], [(0, 3), (0, 4), (0, 6), (0, 7), (0, 8), (0, 9), (0, 10)], [(0, 3), (0, 4), (0, 6), (0, 7), (0, 8), (0, 9), (0, 11)], [(0, 3), (0, 4), (0, 6), (0, 7), (0, 8), (0, 10), (0, 11)], [(0, 3), (0, 4), (0, 6), (0, 7), (0, 9), (0, 10), (0, 11)], [(0, 3), (0, 4), (0, 6), (0, 8), (0, 9), (0, 10), (0, 11)], [(0, 3), (0, 4), (0, 7), (0, 8), (0, 9), (0, 10), (0, 11)], [(0, 3), (0, 5), (0, 6), (0, 7), (0, 8), (0, 9), (0, 10)], [(0, 3), (0, 5), (0, 6), (0, 7), (0, 8), (0, 9), (0, 11)], [(0, 3), (0, 5), (0, 6), (0, 7), (0, 8), (0, 10), (0, 11)], [(0, 3), (0, 5), (0, 6), (0, 7), (0, 9), (0, 10), (0, 11)], [(0, 3), (0, 5), (0, 6), (0, 8), (0, 9), (0, 10), (0, 11)], [(0, 3), (0, 5), (0, 7), (0, 8), (0, 9), (0, 10), (0, 11)], [(0, 3), (0, 6), (0, 7), (0, 8), (0, 9), (0, 10), (0, 11)], [(0, 4), (0, 5), (0, 6), (0, 7), (0, 8), (0, 9), (0, 10)], [(0, 4), (0, 5), (0, 6), (0, 7), (0, 8), (0, 9), (0, 11)], [(0, 4), (0, 5), (0, 6), (0, 7), (0, 8), (0, 10), (0, 11)], [(0, 4), (0, 5), (0, 6), (0, 7), (0, 9), (0, 10), (0, 11)], [(0, 4), (0, 5), (0, 6), (0, 8), (0, 9), (0, 10), (0, 11)], [(0, 4), (0, 5), (0, 7), (0, 8), (0, 9), (0, 10), (0, 11)], [(0, 4), (0, 6), (0, 7), (0, 8), (0, 9), (0, 10), (0, 11)], [(0, 5), (0, 6), (0, 7), (0, 8), (0, 9), (0, 10), (0, 11)], [(0, 0), (0, 1), (0, 2), (0, 3), (0, 4), (0, 5), (0, 6), (0, 7)], [(0, 0), (0, 1), (0, 2), (0, 3), (0, 4), (0, 5), (0, 6), (0, 8)], [(0, 0), (0, 1), (0, 2), (0, 3), (0, 4), (0, 5), (0, 6), (0, 9)], [(0, 0), (0, 1), (0, 2), (0, 3), (0, 4), (0, 5), (0, 6), (0, 10)], [(0, 0), (0, 1), (0, 2), (0, 3), (0, 4), (0, 5), (0, 6), (0, 11)], [(0, 0), (0, 1), (0, 2), (0, 3), (0, 4), (0, 5), (0, 7), (0, 8)], [(0, 0), (0, 1), (0, 2), (0, 3), (0, 4), (0, 5), (0, 7), (0, 9)], [(0, 0), (0, 1), (0, 2), (0, 3), (0, 4), (0, 5), (0, 7), (0, 10)], [(0, 0), (0, 1), (0, 2), (0, 3), (0, 4), (0, 5), (0, 7), (0, 11)], [(0, 0), (0, 1), (0, 2), (0, 3), (0, 4), (0, 5), (0, 8), (0, 9)], [(0, 0), (0, 1), (0, 2), (0, 3), (0, 4), (0, 5), (0, 8), (0, 10)], [(0, 0), (0, 1), (0, 2), (0, 3), (0, 4), (0, 5), (0, 8), (0, 11)], [(0, 0), (0, 1), (0, 2), (0, 3), (0, 4), (0, 5), (0, 9), (0, 10)], [(0, 0), (0, 1), (0, 2), (0, 3), (0, 4), (0, 5), (0, 9), (0, 11)], [(0, 0), (0, 1), (0, 2), (0, 3), (0, 4), (0, 5), (0, 10), (0, 11)], [(0, 0), (0, 1), (0, 2), (0, 3), (0, 4), (0, 6), (0, 7), (0, 8)], [(0, 0), (0, 1), (0, 2), (0, 3), (0, 4), (0, 6), (0, 7), (0, 9)], [(0, 0), (0, 1), (0, 2), (0, 3), (0, 4), (0, 6), (0, 7), (0, 10)], [(0, 0), (0, 1), (0, 2), (0, 3), (0, 4), (0, 6), (0, 7), (0, 11)], [(0, 0), (0, 1), (0, 2), (0, 3), (0, 4), (0, 6), (0, 8), (0, 9)], [(0, 0), (0, 1), (0, 2), (0, 3), (0, 4), (0, 6), (0, 8), (0, 10)], [(0, 0), (0, 1), (0, 2), (0, 3), (0, 4), (0, 6), (0, 8), (0, 11)], [(0, 0), (0, 1), (0, 2), (0, 3), (0, 4), (0, 6), (0, 9), (0, 10)], [(0, 0), (0, 1), (0, 2), (0, 3), (0, 4), (0, 6), (0, 9), (0, 11)], [(0, 0), (0, 1), (0, 2), (0, 3), (0, 4), (0, 6), (0, 10), (0, 11)], [(0, 0), (0, 1), (0, 2), (0, 3), (0, 4), (0, 7), (0, 8), (0, 9)], [(0, 0), (0, 1), (0, 2), (0, 3), (0, 4), (0, 7), (0, 8), (0, 10)], [(0, 0), (0, 1), (0, 2), (0, 3), (0, 4), (0, 7), (0, 8), (0, 11)], [(0, 0), (0, 1), (0, 2), (0, 3), (0, 4), (0, 7), (0, 9), (0, 10)], [(0, 0), (0, 1), (0, 2), (0, 3), (0, 4), (0, 7), (0, 9), (0, 11)], [(0, 0), (0, 1), (0, 2), (0, 3), (0, 4), (0, 7), (0, 10), (0, 11)], [(0, 0), (0, 1), (0, 2), (0, 3), (0, 4), (0, 8), (0, 9), (0, 10)], [(0, 0), (0, 1), (0, 2), (0, 3), (0, 4), (0, 8), (0, 9), (0, 11)], [(0, 0), (0, 1), (0, 2), (0, 3), (0, 4), (0, 8), (0, 10), (0, 11)], [(0, 0), (0, 1), (0, 2), (0, 3), (0, 4), (0, 9), (0, 10), (0, 11)], [(0, 0), (0, 1), (0, 2), (0, 3), (0, 5), (0, 6), (0, 7), (0, 8)], [(0, 0), (0, 1), (0, 2), (0, 3), (0, 5), (0, 6), (0, 7), (0, 9)], [(0, 0), (0, 1), (0, 2), (0, 3), (0, 5), (0, 6), (0, 7), (0, 10)], [(0, 0), (0, 1), (0, 2), (0, 3), (0, 5), (0, 6), (0, 7), (0, 11)], [(0, 0), (0, 1), (0, 2), (0, 3), (0, 5), (0, 6), (0, 8), (0, 9)], [(0, 0), (0, 1), (0, 2), (0, 3), (0, 5), (0, 6), (0, 8), (0, 10)], [(0, 0), (0, 1), (0, 2), (0, 3), (0, 5), (0, 6), (0, 8), (0, 11)], [(0, 0), (0, 1), (0, 2), (0, 3), (0, 5), (0, 6), (0, 9), (0, 10)], [(0, 0), (0, 1), (0, 2), (0, 3), (0, 5), (0, 6), (0, 9), (0, 11)], [(0, 0), (0, 1), (0, 2), (0, 3), (0, 5), (0, 6), (0, 10), (0, 11)], [(0, 0), (0, 1), (0, 2), (0, 3), (0, 5), (0, 7), (0, 8), (0, 9)], [(0, 0), (0, 1), (0, 2), (0, 3), (0, 5), (0, 7), (0, 8), (0, 10)], [(0, 0), (0, 1), (0, 2), (0, 3), (0, 5), (0, 7), (0, 8), (0, 11)], [(0, 0), (0, 1), (0, 2), (0, 3), (0, 5), (0, 7), (0, 9), (0, 10)], [(0, 0), (0, 1), (0, 2), (0, 3), (0, 5), (0, 7), (0, 9), (0, 11)], [(0, 0), (0, 1), (0, 2), (0, 3), (0, 5), (0, 7), (0, 10), (0, 11)], [(0, 0), (0, 1), (0, 2), (0, 3), (0, 5), (0, 8), (0, 9), (0, 10)], [(0, 0), (0, 1), (0, 2), (0, 3), (0, 5), (0, 8), (0, 9), (0, 11)], [(0, 0), (0, 1), (0, 2), (0, 3), (0, 5), (0, 8), (0, 10), (0, 11)], [(0, 0), (0, 1), (0, 2), (0, 3), (0, 5), (0, 9), (0, 10), (0, 11)], [(0, 0), (0, 1), (0, 2), (0, 3), (0, 6), (0, 7), (0, 8), (0, 9)], [(0, 0), (0, 1), (0, 2), (0, 3), (0, 6), (0, 7), (0, 8), (0, 10)], [(0, 0), (0, 1), (0, 2), (0, 3), (0, 6), (0, 7), (0, 8), (0, 11)], [(0, 0), (0, 1), (0, 2), (0, 3), (0, 6), (0, 7), (0, 9), (0, 10)], [(0, 0), (0, 1), (0, 2), (0, 3), (0, 6), (0, 7), (0, 9), (0, 11)], [(0, 0), (0, 1), (0, 2), (0, 3), (0, 6), (0, 7), (0, 10), (0, 11)], [(0, 0), (0, 1), (0, 2), (0, 3), (0, 6), (0, 8), (0, 9), (0, 10)], [(0, 0), (0, 1), (0, 2), (0, 3), (0, 6), (0, 8), (0, 9), (0, 11)], [(0, 0), (0, 1), (0, 2), (0, 3), (0, 6), (0, 8), (0, 10), (0, 11)], [(0, 0), (0, 1), (0, 2), (0, 3), (0, 6), (0, 9), (0, 10), (0, 11)], [(0, 0), (0, 1), (0, 2), (0, 3), (0, 7), (0, 8), (0, 9), (0, 10)], [(0, 0), (0, 1), (0, 2), (0, 3), (0, 7), (0, 8), (0, 9), (0, 11)], [(0, 0), (0, 1), (0, 2), (0, 3), (0, 7), (0, 8), (0, 10), (0, 11)], [(0, 0), (0, 1), (0, 2), (0, 3), (0, 7), (0, 9), (0, 10), (0, 11)], [(0, 0), (0, 1), (0, 2), (0, 3), (0, 8), (0, 9), (0, 10), (0, 11)], [(0, 0), (0, 1), (0, 2), (0, 4), (0, 5), (0, 6), (0, 7), (0, 8)], [(0, 0), (0, 1), (0, 2), (0, 4), (0, 5), (0, 6), (0, 7), (0, 9)], [(0, 0), (0, 1), (0, 2), (0, 4), (0, 5), (0, 6), (0, 7), (0, 10)], [(0, 0), (0, 1), (0, 2), (0, 4), (0, 5), (0, 6), (0, 7), (0, 11)], [(0, 0), (0, 1), (0, 2), (0, 4), (0, 5), (0, 6), (0, 8), (0, 9)], [(0, 0), (0, 1), (0, 2), (0, 4), (0, 5), (0, 6), (0, 8), (0, 10)], [(0, 0), (0, 1), (0, 2), (0, 4), (0, 5), (0, 6), (0, 8), (0, 11)], [(0, 0), (0, 1), (0, 2), (0, 4), (0, 5), (0, 6), (0, 9), (0, 10)], [(0, 0), (0, 1), (0, 2), (0, 4), (0, 5), (0, 6), (0, 9), (0, 11)], [(0, 0), (0, 1), (0, 2), (0, 4), (0, 5), (0, 6), (0, 10), (0, 11)], [(0, 0), (0, 1), (0, 2), (0, 4), (0, 5), (0, 7), (0, 8), (0, 9)], [(0, 0), (0, 1), (0, 2), (0, 4), (0, 5), (0, 7), (0, 8), (0, 10)], [(0, 0), (0, 1), (0, 2), (0, 4), (0, 5), (0, 7), (0, 8), (0, 11)], [(0, 0), (0, 1), (0, 2), (0, 4), (0, 5), (0, 7), (0, 9), (0, 10)], [(0, 0), (0, 1), (0, 2), (0, 4), (0, 5), (0, 7), (0, 9), (0, 11)], [(0, 0), (0, 1), (0, 2), (0, 4), (0, 5), (0, 7), (0, 10), (0, 11)], [(0, 0), (0, 1), (0, 2), (0, 4), (0, 5), (0, 8), (0, 9), (0, 10)], [(0, 0), (0, 1), (0, 2), (0, 4), (0, 5), (0, 8), (0, 9), (0, 11)], [(0, 0), (0, 1), (0, 2), (0, 4), (0, 5), (0, 8), (0, 10), (0, 11)], [(0, 0), (0, 1), (0, 2), (0, 4), (0, 5), (0, 9), (0, 10), (0, 11)], [(0, 0), (0, 1), (0, 2), (0, 4), (0, 6), (0, 7), (0, 8), (0, 9)], [(0, 0), (0, 1), (0, 2), (0, 4), (0, 6), (0, 7), (0, 8), (0, 10)], [(0, 0), (0, 1), (0, 2), (0, 4), (0, 6), (0, 7), (0, 8), (0, 11)], [(0, 0), (0, 1), (0, 2), (0, 4), (0, 6), (0, 7), (0, 9), (0, 10)], [(0, 0), (0, 1), (0, 2), (0, 4), (0, 6), (0, 7), (0, 9), (0, 11)], [(0, 0), (0, 1), (0, 2), (0, 4), (0, 6), (0, 7), (0, 10), (0, 11)], [(0, 0), (0, 1), (0, 2), (0, 4), (0, 6), (0, 8), (0, 9), (0, 10)], [(0, 0), (0, 1), (0, 2), (0, 4), (0, 6), (0, 8), (0, 9), (0, 11)], [(0, 0), (0, 1), (0, 2), (0, 4), (0, 6), (0, 8), (0, 10), (0, 11)], [(0, 0), (0, 1), (0, 2), (0, 4), (0, 6), (0, 9), (0, 10), (0, 11)], [(0, 0), (0, 1), (0, 2), (0, 4), (0, 7), (0, 8), (0, 9), (0, 10)], [(0, 0), (0, 1), (0, 2), (0, 4), (0, 7), (0, 8), (0, 9), (0, 11)], [(0, 0), (0, 1), (0, 2), (0, 4), (0, 7), (0, 8), (0, 10), (0, 11)], [(0, 0), (0, 1), (0, 2), (0, 4), (0, 7), (0, 9), (0, 10), (0, 11)], [(0, 0), (0, 1), (0, 2), (0, 4), (0, 8), (0, 9), (0, 10), (0, 11)], [(0, 0), (0, 1), (0, 2), (0, 5), (0, 6), (0, 7), (0, 8), (0, 9)], [(0, 0), (0, 1), (0, 2), (0, 5), (0, 6), (0, 7), (0, 8), (0, 10)], [(0, 0), (0, 1), (0, 2), (0, 5), (0, 6), (0, 7), (0, 8), (0, 11)], [(0, 0), (0, 1), (0, 2), (0, 5), (0, 6), (0, 7), (0, 9), (0, 10)], [(0, 0), (0, 1), (0, 2), (0, 5), (0, 6), (0, 7), (0, 9), (0, 11)], [(0, 0), (0, 1), (0, 2), (0, 5), (0, 6), (0, 7), (0, 10), (0, 11)], [(0, 0), (0, 1), (0, 2), (0, 5), (0, 6), (0, 8), (0, 9), (0, 10)], [(0, 0), (0, 1), (0, 2), (0, 5), (0, 6), (0, 8), (0, 9), (0, 11)], [(0, 0), (0, 1), (0, 2), (0, 5), (0, 6), (0, 8), (0, 10), (0, 11)], [(0, 0), (0, 1), (0, 2), (0, 5), (0, 6), (0, 9), (0, 10), (0, 11)], [(0, 0), (0, 1), (0, 2), (0, 5), (0, 7), (0, 8), (0, 9), (0, 10)], [(0, 0), (0, 1), (0, 2), (0, 5), (0, 7), (0, 8), (0, 9), (0, 11)], [(0, 0), (0, 1), (0, 2), (0, 5), (0, 7), (0, 8), (0, 10), (0, 11)], [(0, 0), (0, 1), (0, 2), (0, 5), (0, 7), (0, 9), (0, 10), (0, 11)], [(0, 0), (0, 1), (0, 2), (0, 5), (0, 8), (0, 9), (0, 10), (0, 11)], [(0, 0), (0, 1), (0, 2), (0, 6), (0, 7), (0, 8), (0, 9), (0, 10)], [(0, 0), (0, 1), (0, 2), (0, 6), (0, 7), (0, 8), (0, 9), (0, 11)], [(0, 0), (0, 1), (0, 2), (0, 6), (0, 7), (0, 8), (0, 10), (0, 11)], [(0, 0), (0, 1), (0, 2), (0, 6), (0, 7), (0, 9), (0, 10), (0, 11)], [(0, 0), (0, 1), (0, 2), (0, 6), (0, 8), (0, 9), (0, 10), (0, 11)], [(0, 0), (0, 1), (0, 2), (0, 7), (0, 8), (0, 9), (0, 10), (0, 11)], [(0, 0), (0, 1), (0, 3), (0, 4), (0, 5), (0, 6), (0, 7), (0, 8)], [(0, 0), (0, 1), (0, 3), (0, 4), (0, 5), (0, 6), (0, 7), (0, 9)], [(0, 0), (0, 1), (0, 3), (0, 4), (0, 5), (0, 6), (0, 7), (0, 10)], [(0, 0), (0, 1), (0, 3), (0, 4), (0, 5), (0, 6), (0, 7), (0, 11)], [(0, 0), (0, 1), (0, 3), (0, 4), (0, 5), (0, 6), (0, 8), (0, 9)], [(0, 0), (0, 1), (0, 3), (0, 4), (0, 5), (0, 6), (0, 8), (0, 10)], [(0, 0), (0, 1), (0, 3), (0, 4), (0, 5), (0, 6), (0, 8), (0, 11)], [(0, 0), (0, 1), (0, 3), (0, 4), (0, 5), (0, 6), (0, 9), (0, 10)], [(0, 0), (0, 1), (0, 3), (0, 4), (0, 5), (0, 6), (0, 9), (0, 11)], [(0, 0), (0, 1), (0, 3), (0, 4), (0, 5), (0, 6), (0, 10), (0, 11)], [(0, 0), (0, 1), (0, 3), (0, 4), (0, 5), (0, 7), (0, 8), (0, 9)], [(0, 0), (0, 1), (0, 3), (0, 4), (0, 5), (0, 7), (0, 8), (0, 10)], [(0, 0), (0, 1), (0, 3), (0, 4), (0, 5), (0, 7), (0, 8), (0, 11)], [(0, 0), (0, 1), (0, 3), (0, 4), (0, 5), (0, 7), (0, 9), (0, 10)], [(0, 0), (0, 1), (0, 3), (0, 4), (0, 5), (0, 7), (0, 9), (0, 11)], [(0, 0), (0, 1), (0, 3), (0, 4), (0, 5), (0, 7), (0, 10), (0, 11)], [(0, 0), (0, 1), (0, 3), (0, 4), (0, 5), (0, 8), (0, 9), (0, 10)], [(0, 0), (0, 1), (0, 3), (0, 4), (0, 5), (0, 8), (0, 9), (0, 11)], [(0, 0), (0, 1), (0, 3), (0, 4), (0, 5), (0, 8), (0, 10), (0, 11)], [(0, 0), (0, 1), (0, 3), (0, 4), (0, 5), (0, 9), (0, 10), (0, 11)], [(0, 0), (0, 1), (0, 3), (0, 4), (0, 6), (0, 7), (0, 8), (0, 9)], [(0, 0), (0, 1), (0, 3), (0, 4), (0, 6), (0, 7), (0, 8), (0, 10)], [(0, 0), (0, 1), (0, 3), (0, 4), (0, 6), (0, 7), (0, 8), (0, 11)], [(0, 0), (0, 1), (0, 3), (0, 4), (0, 6), (0, 7), (0, 9), (0, 10)], [(0, 0), (0, 1), (0, 3), (0, 4), (0, 6), (0, 7), (0, 9), (0, 11)], [(0, 0), (0, 1), (0, 3), (0, 4), (0, 6), (0, 7), (0, 10), (0, 11)], [(0, 0), (0, 1), (0, 3), (0, 4), (0, 6), (0, 8), (0, 9), (0, 10)], [(0, 0), (0, 1), (0, 3), (0, 4), (0, 6), (0, 8), (0, 9), (0, 11)], [(0, 0), (0, 1), (0, 3), (0, 4), (0, 6), (0, 8), (0, 10), (0, 11)], [(0, 0), (0, 1), (0, 3), (0, 4), (0, 6), (0, 9), (0, 10), (0, 11)], [(0, 0), (0, 1), (0, 3), (0, 4), (0, 7), (0, 8), (0, 9), (0, 10)], [(0, 0), (0, 1), (0, 3), (0, 4), (0, 7), (0, 8), (0, 9), (0, 11)], [(0, 0), (0, 1), (0, 3), (0, 4), (0, 7), (0, 8), (0, 10), (0, 11)], [(0, 0), (0, 1), (0, 3), (0, 4), (0, 7), (0, 9), (0, 10), (0, 11)], [(0, 0), (0, 1), (0, 3), (0, 4), (0, 8), (0, 9), (0, 10), (0, 11)], [(0, 0), (0, 1), (0, 3), (0, 5), (0, 6), (0, 7), (0, 8), (0, 9)], [(0, 0), (0, 1), (0, 3), (0, 5), (0, 6), (0, 7), (0, 8), (0, 10)], [(0, 0), (0, 1), (0, 3), (0, 5), (0, 6), (0, 7), (0, 8), (0, 11)], [(0, 0), (0, 1), (0, 3), (0, 5), (0, 6), (0, 7), (0, 9), (0, 10)], [(0, 0), (0, 1), (0, 3), (0, 5), (0, 6), (0, 7), (0, 9), (0, 11)], [(0, 0), (0, 1), (0, 3), (0, 5), (0, 6), (0, 7), (0, 10), (0, 11)], [(0, 0), (0, 1), (0, 3), (0, 5), (0, 6), (0, 8), (0, 9), (0, 10)], [(0, 0), (0, 1), (0, 3), (0, 5), (0, 6), (0, 8), (0, 9), (0, 11)], [(0, 0), (0, 1), (0, 3), (0, 5), (0, 6), (0, 8), (0, 10), (0, 11)], [(0, 0), (0, 1), (0, 3), (0, 5), (0, 6), (0, 9), (0, 10), (0, 11)], [(0, 0), (0, 1), (0, 3), (0, 5), (0, 7), (0, 8), (0, 9), (0, 10)], [(0, 0), (0, 1), (0, 3), (0, 5), (0, 7), (0, 8), (0, 9), (0, 11)], [(0, 0), (0, 1), (0, 3), (0, 5), (0, 7), (0, 8), (0, 10), (0, 11)], [(0, 0), (0, 1), (0, 3), (0, 5), (0, 7), (0, 9), (0, 10), (0, 11)], [(0, 0), (0, 1), (0, 3), (0, 5), (0, 8), (0, 9), (0, 10), (0, 11)], [(0, 0), (0, 1), (0, 3), (0, 6), (0, 7), (0, 8), (0, 9), (0, 10)], [(0, 0), (0, 1), (0, 3), (0, 6), (0, 7), (0, 8), (0, 9), (0, 11)], [(0, 0), (0, 1), (0, 3), (0, 6), (0, 7), (0, 8), (0, 10), (0, 11)], [(0, 0), (0, 1), (0, 3), (0, 6), (0, 7), (0, 9), (0, 10), (0, 11)], [(0, 0), (0, 1), (0, 3), (0, 6), (0, 8), (0, 9), (0, 10), (0, 11)], [(0, 0), (0, 1), (0, 3), (0, 7), (0, 8), (0, 9), (0, 10), (0, 11)], [(0, 0), (0, 1), (0, 4), (0, 5), (0, 6), (0, 7), (0, 8), (0, 9)], [(0, 0), (0, 1), (0, 4), (0, 5), (0, 6), (0, 7), (0, 8), (0, 10)], [(0, 0), (0, 1), (0, 4), (0, 5), (0, 6), (0, 7), (0, 8), (0, 11)], [(0, 0), (0, 1), (0, 4), (0, 5), (0, 6), (0, 7), (0, 9), (0, 10)], [(0, 0), (0, 1), (0, 4), (0, 5), (0, 6), (0, 7), (0, 9), (0, 11)], [(0, 0), (0, 1), (0, 4), (0, 5), (0, 6), (0, 7), (0, 10), (0, 11)], [(0, 0), (0, 1), (0, 4), (0, 5), (0, 6), (0, 8), (0, 9), (0, 10)], [(0, 0), (0, 1), (0, 4), (0, 5), (0, 6), (0, 8), (0, 9), (0, 11)], [(0, 0), (0, 1), (0, 4), (0, 5), (0, 6), (0, 8), (0, 10), (0, 11)], [(0, 0), (0, 1), (0, 4), (0, 5), (0, 6), (0, 9), (0, 10), (0, 11)], [(0, 0), (0, 1), (0, 4), (0, 5), (0, 7), (0, 8), (0, 9), (0, 10)], [(0, 0), (0, 1), (0, 4), (0, 5), (0, 7), (0, 8), (0, 9), (0, 11)], [(0, 0), (0, 1), (0, 4), (0, 5), (0, 7), (0, 8), (0, 10), (0, 11)], [(0, 0), (0, 1), (0, 4), (0, 5), (0, 7), (0, 9), (0, 10), (0, 11)], [(0, 0), (0, 1), (0, 4), (0, 5), (0, 8), (0, 9), (0, 10), (0, 11)], [(0, 0), (0, 1), (0, 4), (0, 6), (0, 7), (0, 8), (0, 9), (0, 10)], [(0, 0), (0, 1), (0, 4), (0, 6), (0, 7), (0, 8), (0, 9), (0, 11)], [(0, 0), (0, 1), (0, 4), (0, 6), (0, 7), (0, 8), (0, 10), (0, 11)], [(0, 0), (0, 1), (0, 4), (0, 6), (0, 7), (0, 9), (0, 10), (0, 11)], [(0, 0), (0, 1), (0, 4), (0, 6), (0, 8), (0, 9), (0, 10), (0, 11)], [(0, 0), (0, 1), (0, 4), (0, 7), (0, 8), (0, 9), (0, 10), (0, 11)], [(0, 0), (0, 1), (0, 5), (0, 6), (0, 7), (0, 8), (0, 9), (0, 10)], [(0, 0), (0, 1), (0, 5), (0, 6), (0, 7), (0, 8), (0, 9), (0, 11)], [(0, 0), (0, 1), (0, 5), (0, 6), (0, 7), (0, 8), (0, 10), (0, 11)], [(0, 0), (0, 1), (0, 5), (0, 6), (0, 7), (0, 9), (0, 10), (0, 11)], [(0, 0), (0, 1), (0, 5), (0, 6), (0, 8), (0, 9), (0, 10), (0, 11)], [(0, 0), (0, 1), (0, 5), (0, 7), (0, 8), (0, 9), (0, 10), (0, 11)], [(0, 0), (0, 1), (0, 6), (0, 7), (0, 8), (0, 9), (0, 10), (0, 11)], [(0, 0), (0, 2), (0, 3), (0, 4), (0, 5), (0, 6), (0, 7), (0, 8)], [(0, 0), (0, 2), (0, 3), (0, 4), (0, 5), (0, 6), (0, 7), (0, 9)], [(0, 0), (0, 2), (0, 3), (0, 4), (0, 5), (0, 6), (0, 7), (0, 10)], [(0, 0), (0, 2), (0, 3), (0, 4), (0, 5), (0, 6), (0, 7), (0, 11)], [(0, 0), (0, 2), (0, 3), (0, 4), (0, 5), (0, 6), (0, 8), (0, 9)], [(0, 0), (0, 2), (0, 3), (0, 4), (0, 5), (0, 6), (0, 8), (0, 10)], [(0, 0), (0, 2), (0, 3), (0, 4), (0, 5), (0, 6), (0, 8), (0, 11)], [(0, 0), (0, 2), (0, 3), (0, 4), (0, 5), (0, 6), (0, 9), (0, 10)], [(0, 0), (0, 2), (0, 3), (0, 4), (0, 5), (0, 6), (0, 9), (0, 11)], [(0, 0), (0, 2), (0, 3), (0, 4), (0, 5), (0, 6), (0, 10), (0, 11)], [(0, 0), (0, 2), (0, 3), (0, 4), (0, 5), (0, 7), (0, 8), (0, 9)], [(0, 0), (0, 2), (0, 3), (0, 4), (0, 5), (0, 7), (0, 8), (0, 10)], [(0, 0), (0, 2), (0, 3), (0, 4), (0, 5), (0, 7), (0, 8), (0, 11)], [(0, 0), (0, 2), (0, 3), (0, 4), (0, 5), (0, 7), (0, 9), (0, 10)], [(0, 0), (0, 2), (0, 3), (0, 4), (0, 5), (0, 7), (0, 9), (0, 11)], [(0, 0), (0, 2), (0, 3), (0, 4), (0, 5), (0, 7), (0, 10), (0, 11)], [(0, 0), (0, 2), (0, 3), (0, 4), (0, 5), (0, 8), (0, 9), (0, 10)], [(0, 0), (0, 2), (0, 3), (0, 4), (0, 5), (0, 8), (0, 9), (0, 11)], [(0, 0), (0, 2), (0, 3), (0, 4), (0, 5), (0, 8), (0, 10), (0, 11)], [(0, 0), (0, 2), (0, 3), (0, 4), (0, 5), (0, 9), (0, 10), (0, 11)], [(0, 0), (0, 2), (0, 3), (0, 4), (0, 6), (0, 7), (0, 8), (0, 9)], [(0, 0), (0, 2), (0, 3), (0, 4), (0, 6), (0, 7), (0, 8), (0, 10)], [(0, 0), (0, 2), (0, 3), (0, 4), (0, 6), (0, 7), (0, 8), (0, 11)], [(0, 0), (0, 2), (0, 3), (0, 4), (0, 6), (0, 7), (0, 9), (0, 10)], [(0, 0), (0, 2), (0, 3), (0, 4), (0, 6), (0, 7), (0, 9), (0, 11)], [(0, 0), (0, 2), (0, 3), (0, 4), (0, 6), (0, 7), (0, 10), (0, 11)], [(0, 0), (0, 2), (0, 3), (0, 4), (0, 6), (0, 8), (0, 9), (0, 10)], [(0, 0), (0, 2), (0, 3), (0, 4), (0, 6), (0, 8), (0, 9), (0, 11)], [(0, 0), (0, 2), (0, 3), (0, 4), (0, 6), (0, 8), (0, 10), (0, 11)], [(0, 0), (0, 2), (0, 3), (0, 4), (0, 6), (0, 9), (0, 10), (0, 11)], [(0, 0), (0, 2), (0, 3), (0, 4), (0, 7), (0, 8), (0, 9), (0, 10)], [(0, 0), (0, 2), (0, 3), (0, 4), (0, 7), (0, 8), (0, 9), (0, 11)], [(0, 0), (0, 2), (0, 3), (0, 4), (0, 7), (0, 8), (0, 10), (0, 11)], [(0, 0), (0, 2), (0, 3), (0, 4), (0, 7), (0, 9), (0, 10), (0, 11)], [(0, 0), (0, 2), (0, 3), (0, 4), (0, 8), (0, 9), (0, 10), (0, 11)], [(0, 0), (0, 2), (0, 3), (0, 5), (0, 6), (0, 7), (0, 8), (0, 9)], [(0, 0), (0, 2), (0, 3), (0, 5), (0, 6), (0, 7), (0, 8), (0, 10)], [(0, 0), (0, 2), (0, 3), (0, 5), (0, 6), (0, 7), (0, 8), (0, 11)], [(0, 0), (0, 2), (0, 3), (0, 5), (0, 6), (0, 7), (0, 9), (0, 10)], [(0, 0), (0, 2), (0, 3), (0, 5), (0, 6), (0, 7), (0, 9), (0, 11)], [(0, 0), (0, 2), (0, 3), (0, 5), (0, 6), (0, 7), (0, 10), (0, 11)], [(0, 0), (0, 2), (0, 3), (0, 5), (0, 6), (0, 8), (0, 9), (0, 10)], [(0, 0), (0, 2), (0, 3), (0, 5), (0, 6), (0, 8), (0, 9), (0, 11)], [(0, 0), (0, 2), (0, 3), (0, 5), (0, 6), (0, 8), (0, 10), (0, 11)], [(0, 0), (0, 2), (0, 3), (0, 5), (0, 6), (0, 9), (0, 10), (0, 11)], [(0, 0), (0, 2), (0, 3), (0, 5), (0, 7), (0, 8), (0, 9), (0, 10)], [(0, 0), (0, 2), (0, 3), (0, 5), (0, 7), (0, 8), (0, 9), (0, 11)], [(0, 0), (0, 2), (0, 3), (0, 5), (0, 7), (0, 8), (0, 10), (0, 11)], [(0, 0), (0, 2), (0, 3), (0, 5), (0, 7), (0, 9), (0, 10), (0, 11)], [(0, 0), (0, 2), (0, 3), (0, 5), (0, 8), (0, 9), (0, 10), (0, 11)], [(0, 0), (0, 2), (0, 3), (0, 6), (0, 7), (0, 8), (0, 9), (0, 10)], [(0, 0), (0, 2), (0, 3), (0, 6), (0, 7), (0, 8), (0, 9), (0, 11)], [(0, 0), (0, 2), (0, 3), (0, 6), (0, 7), (0, 8), (0, 10), (0, 11)], [(0, 0), (0, 2), (0, 3), (0, 6), (0, 7), (0, 9), (0, 10), (0, 11)], [(0, 0), (0, 2), (0, 3), (0, 6), (0, 8), (0, 9), (0, 10), (0, 11)], [(0, 0), (0, 2), (0, 3), (0, 7), (0, 8), (0, 9), (0, 10), (0, 11)], [(0, 0), (0, 2), (0, 4), (0, 5), (0, 6), (0, 7), (0, 8), (0, 9)], [(0, 0), (0, 2), (0, 4), (0, 5), (0, 6), (0, 7), (0, 8), (0, 10)], [(0, 0), (0, 2), (0, 4), (0, 5), (0, 6), (0, 7), (0, 8), (0, 11)], [(0, 0), (0, 2), (0, 4), (0, 5), (0, 6), (0, 7), (0, 9), (0, 10)], [(0, 0), (0, 2), (0, 4), (0, 5), (0, 6), (0, 7), (0, 9), (0, 11)], [(0, 0), (0, 2), (0, 4), (0, 5), (0, 6), (0, 7), (0, 10), (0, 11)], [(0, 0), (0, 2), (0, 4), (0, 5), (0, 6), (0, 8), (0, 9), (0, 10)], [(0, 0), (0, 2), (0, 4), (0, 5), (0, 6), (0, 8), (0, 9), (0, 11)], [(0, 0), (0, 2), (0, 4), (0, 5), (0, 6), (0, 8), (0, 10), (0, 11)], [(0, 0), (0, 2), (0, 4), (0, 5), (0, 6), (0, 9), (0, 10), (0, 11)], [(0, 0), (0, 2), (0, 4), (0, 5), (0, 7), (0, 8), (0, 9), (0, 10)], [(0, 0), (0, 2), (0, 4), (0, 5), (0, 7), (0, 8), (0, 9), (0, 11)], [(0, 0), (0, 2), (0, 4), (0, 5), (0, 7), (0, 8), (0, 10), (0, 11)], [(0, 0), (0, 2), (0, 4), (0, 5), (0, 7), (0, 9), (0, 10), (0, 11)], [(0, 0), (0, 2), (0, 4), (0, 5), (0, 8), (0, 9), (0, 10), (0, 11)], [(0, 0), (0, 2), (0, 4), (0, 6), (0, 7), (0, 8), (0, 9), (0, 10)], [(0, 0), (0, 2), (0, 4), (0, 6), (0, 7), (0, 8), (0, 9), (0, 11)], [(0, 0), (0, 2), (0, 4), (0, 6), (0, 7), (0, 8), (0, 10), (0, 11)], [(0, 0), (0, 2), (0, 4), (0, 6), (0, 7), (0, 9), (0, 10), (0, 11)], [(0, 0), (0, 2), (0, 4), (0, 6), (0, 8), (0, 9), (0, 10), (0, 11)], [(0, 0), (0, 2), (0, 4), (0, 7), (0, 8), (0, 9), (0, 10), (0, 11)], [(0, 0), (0, 2), (0, 5), (0, 6), (0, 7), (0, 8), (0, 9), (0, 10)], [(0, 0), (0, 2), (0, 5), (0, 6), (0, 7), (0, 8), (0, 9), (0, 11)], [(0, 0), (0, 2), (0, 5), (0, 6), (0, 7), (0, 8), (0, 10), (0, 11)], [(0, 0), (0, 2), (0, 5), (0, 6), (0, 7), (0, 9), (0, 10), (0, 11)], [(0, 0), (0, 2), (0, 5), (0, 6), (0, 8), (0, 9), (0, 10), (0, 11)], [(0, 0), (0, 2), (0, 5), (0, 7), (0, 8), (0, 9), (0, 10), (0, 11)], [(0, 0), (0, 2), (0, 6), (0, 7), (0, 8), (0, 9), (0, 10), (0, 11)], [(0, 0), (0, 3), (0, 4), (0, 5), (0, 6), (0, 7), (0, 8), (0, 9)], [(0, 0), (0, 3), (0, 4), (0, 5), (0, 6), (0, 7), (0, 8), (0, 10)], [(0, 0), (0, 3), (0, 4), (0, 5), (0, 6), (0, 7), (0, 8), (0, 11)], [(0, 0), (0, 3), (0, 4), (0, 5), (0, 6), (0, 7), (0, 9), (0, 10)], [(0, 0), (0, 3), (0, 4), (0, 5), (0, 6), (0, 7), (0, 9), (0, 11)], [(0, 0), (0, 3), (0, 4), (0, 5), (0, 6), (0, 7), (0, 10), (0, 11)], [(0, 0), (0, 3), (0, 4), (0, 5), (0, 6), (0, 8), (0, 9), (0, 10)], [(0, 0), (0, 3), (0, 4), (0, 5), (0, 6), (0, 8), (0, 9), (0, 11)], [(0, 0), (0, 3), (0, 4), (0, 5), (0, 6), (0, 8), (0, 10), (0, 11)], [(0, 0), (0, 3), (0, 4), (0, 5), (0, 6), (0, 9), (0, 10), (0, 11)], [(0, 0), (0, 3), (0, 4), (0, 5), (0, 7), (0, 8), (0, 9), (0, 10)], [(0, 0), (0, 3), (0, 4), (0, 5), (0, 7), (0, 8), (0, 9), (0, 11)], [(0, 0), (0, 3), (0, 4), (0, 5), (0, 7), (0, 8), (0, 10), (0, 11)], [(0, 0), (0, 3), (0, 4), (0, 5), (0, 7), (0, 9), (0, 10), (0, 11)], [(0, 0), (0, 3), (0, 4), (0, 5), (0, 8), (0, 9), (0, 10), (0, 11)], [(0, 0), (0, 3), (0, 4), (0, 6), (0, 7), (0, 8), (0, 9), (0, 10)], [(0, 0), (0, 3), (0, 4), (0, 6), (0, 7), (0, 8), (0, 9), (0, 11)], [(0, 0), (0, 3), (0, 4), (0, 6), (0, 7), (0, 8), (0, 10), (0, 11)], [(0, 0), (0, 3), (0, 4), (0, 6), (0, 7), (0, 9), (0, 10), (0, 11)], [(0, 0), (0, 3), (0, 4), (0, 6), (0, 8), (0, 9), (0, 10), (0, 11)], [(0, 0), (0, 3), (0, 4), (0, 7), (0, 8), (0, 9), (0, 10), (0, 11)], [(0, 0), (0, 3), (0, 5), (0, 6), (0, 7), (0, 8), (0, 9), (0, 10)], [(0, 0), (0, 3), (0, 5), (0, 6), (0, 7), (0, 8), (0, 9), (0, 11)], [(0, 0), (0, 3), (0, 5), (0, 6), (0, 7), (0, 8), (0, 10), (0, 11)], [(0, 0), (0, 3), (0, 5), (0, 6), (0, 7), (0, 9), (0, 10), (0, 11)], [(0, 0), (0, 3), (0, 5), (0, 6), (0, 8), (0, 9), (0, 10), (0, 11)], [(0, 0), (0, 3), (0, 5), (0, 7), (0, 8), (0, 9), (0, 10), (0, 11)], [(0, 0), (0, 3), (0, 6), (0, 7), (0, 8), (0, 9), (0, 10), (0, 11)], [(0, 0), (0, 4), (0, 5), (0, 6), (0, 7), (0, 8), (0, 9), (0, 10)], [(0, 0), (0, 4), (0, 5), (0, 6), (0, 7), (0, 8), (0, 9), (0, 11)], [(0, 0), (0, 4), (0, 5), (0, 6), (0, 7), (0, 8), (0, 10), (0, 11)], [(0, 0), (0, 4), (0, 5), (0, 6), (0, 7), (0, 9), (0, 10), (0, 11)], [(0, 0), (0, 4), (0, 5), (0, 6), (0, 8), (0, 9), (0, 10), (0, 11)], [(0, 0), (0, 4), (0, 5), (0, 7), (0, 8), (0, 9), (0, 10), (0, 11)], [(0, 0), (0, 4), (0, 6), (0, 7), (0, 8), (0, 9), (0, 10), (0, 11)], [(0, 0), (0, 5), (0, 6), (0, 7), (0, 8), (0, 9), (0, 10), (0, 11)], [(0, 1), (0, 2), (0, 3), (0, 4), (0, 5), (0, 6), (0, 7), (0, 8)], [(0, 1), (0, 2), (0, 3), (0, 4), (0, 5), (0, 6), (0, 7), (0, 9)], [(0, 1), (0, 2), (0, 3), (0, 4), (0, 5), (0, 6), (0, 7), (0, 10)], [(0, 1), (0, 2), (0, 3), (0, 4), (0, 5), (0, 6), (0, 7), (0, 11)], [(0, 1), (0, 2), (0, 3), (0, 4), (0, 5), (0, 6), (0, 8), (0, 9)], [(0, 1), (0, 2), (0, 3), (0, 4), (0, 5), (0, 6), (0, 8), (0, 10)], [(0, 1), (0, 2), (0, 3), (0, 4), (0, 5), (0, 6), (0, 8), (0, 11)], [(0, 1), (0, 2), (0, 3), (0, 4), (0, 5), (0, 6), (0, 9), (0, 10)], [(0, 1), (0, 2), (0, 3), (0, 4), (0, 5), (0, 6), (0, 9), (0, 11)], [(0, 1), (0, 2), (0, 3), (0, 4), (0, 5), (0, 6), (0, 10), (0, 11)], [(0, 1), (0, 2), (0, 3), (0, 4), (0, 5), (0, 7), (0, 8), (0, 9)], [(0, 1), (0, 2), (0, 3), (0, 4), (0, 5), (0, 7), (0, 8), (0, 10)], [(0, 1), (0, 2), (0, 3), (0, 4), (0, 5), (0, 7), (0, 8), (0, 11)], [(0, 1), (0, 2), (0, 3), (0, 4), (0, 5), (0, 7), (0, 9), (0, 10)], [(0, 1), (0, 2), (0, 3), (0, 4), (0, 5), (0, 7), (0, 9), (0, 11)], [(0, 1), (0, 2), (0, 3), (0, 4), (0, 5), (0, 7), (0, 10), (0, 11)], [(0, 1), (0, 2), (0, 3), (0, 4), (0, 5), (0, 8), (0, 9), (0, 10)], [(0, 1), (0, 2), (0, 3), (0, 4), (0, 5), (0, 8), (0, 9), (0, 11)], [(0, 1), (0, 2), (0, 3), (0, 4), (0, 5), (0, 8), (0, 10), (0, 11)], [(0, 1), (0, 2), (0, 3), (0, 4), (0, 5), (0, 9), (0, 10), (0, 11)], [(0, 1), (0, 2), (0, 3), (0, 4), (0, 6), (0, 7), (0, 8), (0, 9)], [(0, 1), (0, 2), (0, 3), (0, 4), (0, 6), (0, 7), (0, 8), (0, 10)], [(0, 1), (0, 2), (0, 3), (0, 4), (0, 6), (0, 7), (0, 8), (0, 11)], [(0, 1), (0, 2), (0, 3), (0, 4), (0, 6), (0, 7), (0, 9), (0, 10)], [(0, 1), (0, 2), (0, 3), (0, 4), (0, 6), (0, 7), (0, 9), (0, 11)], [(0, 1), (0, 2), (0, 3), (0, 4), (0, 6), (0, 7), (0, 10), (0, 11)], [(0, 1), (0, 2), (0, 3), (0, 4), (0, 6), (0, 8), (0, 9), (0, 10)], [(0, 1), (0, 2), (0, 3), (0, 4), (0, 6), (0, 8), (0, 9), (0, 11)], [(0, 1), (0, 2), (0, 3), (0, 4), (0, 6), (0, 8), (0, 10), (0, 11)], [(0, 1), (0, 2), (0, 3), (0, 4), (0, 6), (0, 9), (0, 10), (0, 11)], [(0, 1), (0, 2), (0, 3), (0, 4), (0, 7), (0, 8), (0, 9), (0, 10)], [(0, 1), (0, 2), (0, 3), (0, 4), (0, 7), (0, 8), (0, 9), (0, 11)], [(0, 1), (0, 2), (0, 3), (0, 4), (0, 7), (0, 8), (0, 10), (0, 11)], [(0, 1), (0, 2), (0, 3), (0, 4), (0, 7), (0, 9), (0, 10), (0, 11)], [(0, 1), (0, 2), (0, 3), (0, 4), (0, 8), (0, 9), (0, 10), (0, 11)], [(0, 1), (0, 2), (0, 3), (0, 5), (0, 6), (0, 7), (0, 8), (0, 9)], [(0, 1), (0, 2), (0, 3), (0, 5), (0, 6), (0, 7), (0, 8), (0, 10)], [(0, 1), (0, 2), (0, 3), (0, 5), (0, 6), (0, 7), (0, 8), (0, 11)], [(0, 1), (0, 2), (0, 3), (0, 5), (0, 6), (0, 7), (0, 9), (0, 10)], [(0, 1), (0, 2), (0, 3), (0, 5), (0, 6), (0, 7), (0, 9), (0, 11)], [(0, 1), (0, 2), (0, 3), (0, 5), (0, 6), (0, 7), (0, 10), (0, 11)], [(0, 1), (0, 2), (0, 3), (0, 5), (0, 6), (0, 8), (0, 9), (0, 10)], [(0, 1), (0, 2), (0, 3), (0, 5), (0, 6), (0, 8), (0, 9), (0, 11)], [(0, 1), (0, 2), (0, 3), (0, 5), (0, 6), (0, 8), (0, 10), (0, 11)], [(0, 1), (0, 2), (0, 3), (0, 5), (0, 6), (0, 9), (0, 10), (0, 11)], [(0, 1), (0, 2), (0, 3), (0, 5), (0, 7), (0, 8), (0, 9), (0, 10)], [(0, 1), (0, 2), (0, 3), (0, 5), (0, 7), (0, 8), (0, 9), (0, 11)], [(0, 1), (0, 2), (0, 3), (0, 5), (0, 7), (0, 8), (0, 10), (0, 11)], [(0, 1), (0, 2), (0, 3), (0, 5), (0, 7), (0, 9), (0, 10), (0, 11)], [(0, 1), (0, 2), (0, 3), (0, 5), (0, 8), (0, 9), (0, 10), (0, 11)], [(0, 1), (0, 2), (0, 3), (0, 6), (0, 7), (0, 8), (0, 9), (0, 10)], [(0, 1), (0, 2), (0, 3), (0, 6), (0, 7), (0, 8), (0, 9), (0, 11)], [(0, 1), (0, 2), (0, 3), (0, 6), (0, 7), (0, 8), (0, 10), (0, 11)], [(0, 1), (0, 2), (0, 3), (0, 6), (0, 7), (0, 9), (0, 10), (0, 11)], [(0, 1), (0, 2), (0, 3), (0, 6), (0, 8), (0, 9), (0, 10), (0, 11)], [(0, 1), (0, 2), (0, 3), (0, 7), (0, 8), (0, 9), (0, 10), (0, 11)], [(0, 1), (0, 2), (0, 4), (0, 5), (0, 6), (0, 7), (0, 8), (0, 9)], [(0, 1), (0, 2), (0, 4), (0, 5), (0, 6), (0, 7), (0, 8), (0, 10)], [(0, 1), (0, 2), (0, 4), (0, 5), (0, 6), (0, 7), (0, 8), (0, 11)], [(0, 1), (0, 2), (0, 4), (0, 5), (0, 6), (0, 7), (0, 9), (0, 10)], [(0, 1), (0, 2), (0, 4), (0, 5), (0, 6), (0, 7), (0, 9), (0, 11)], [(0, 1), (0, 2), (0, 4), (0, 5), (0, 6), (0, 7), (0, 10), (0, 11)], [(0, 1), (0, 2), (0, 4), (0, 5), (0, 6), (0, 8), (0, 9), (0, 10)], [(0, 1), (0, 2), (0, 4), (0, 5), (0, 6), (0, 8), (0, 9), (0, 11)], [(0, 1), (0, 2), (0, 4), (0, 5), (0, 6), (0, 8), (0, 10), (0, 11)], [(0, 1), (0, 2), (0, 4), (0, 5), (0, 6), (0, 9), (0, 10), (0, 11)], [(0, 1), (0, 2), (0, 4), (0, 5), (0, 7), (0, 8), (0, 9), (0, 10)], [(0, 1), (0, 2), (0, 4), (0, 5), (0, 7), (0, 8), (0, 9), (0, 11)], [(0, 1), (0, 2), (0, 4), (0, 5), (0, 7), (0, 8), (0, 10), (0, 11)], [(0, 1), (0, 2), (0, 4), (0, 5), (0, 7), (0, 9), (0, 10), (0, 11)], [(0, 1), (0, 2), (0, 4), (0, 5), (0, 8), (0, 9), (0, 10), (0, 11)], [(0, 1), (0, 2), (0, 4), (0, 6), (0, 7), (0, 8), (0, 9), (0, 10)], [(0, 1), (0, 2), (0, 4), (0, 6), (0, 7), (0, 8), (0, 9), (0, 11)], [(0, 1), (0, 2), (0, 4), (0, 6), (0, 7), (0, 8), (0, 10), (0, 11)], [(0, 1), (0, 2), (0, 4), (0, 6), (0, 7), (0, 9), (0, 10), (0, 11)], [(0, 1), (0, 2), (0, 4), (0, 6), (0, 8), (0, 9), (0, 10), (0, 11)], [(0, 1), (0, 2), (0, 4), (0, 7), (0, 8), (0, 9), (0, 10), (0, 11)], [(0, 1), (0, 2), (0, 5), (0, 6), (0, 7), (0, 8), (0, 9), (0, 10)], [(0, 1), (0, 2), (0, 5), (0, 6), (0, 7), (0, 8), (0, 9), (0, 11)], [(0, 1), (0, 2), (0, 5), (0, 6), (0, 7), (0, 8), (0, 10), (0, 11)], [(0, 1), (0, 2), (0, 5), (0, 6), (0, 7), (0, 9), (0, 10), (0, 11)], [(0, 1), (0, 2), (0, 5), (0, 6), (0, 8), (0, 9), (0, 10), (0, 11)], [(0, 1), (0, 2), (0, 5), (0, 7), (0, 8), (0, 9), (0, 10), (0, 11)], [(0, 1), (0, 2), (0, 6), (0, 7), (0, 8), (0, 9), (0, 10), (0, 11)], [(0, 1), (0, 3), (0, 4), (0, 5), (0, 6), (0, 7), (0, 8), (0, 9)], [(0, 1), (0, 3), (0, 4), (0, 5), (0, 6), (0, 7), (0, 8), (0, 10)], [(0, 1), (0, 3), (0, 4), (0, 5), (0, 6), (0, 7), (0, 8), (0, 11)], [(0, 1), (0, 3), (0, 4), (0, 5), (0, 6), (0, 7), (0, 9), (0, 10)], [(0, 1), (0, 3), (0, 4), (0, 5), (0, 6), (0, 7), (0, 9), (0, 11)], [(0, 1), (0, 3), (0, 4), (0, 5), (0, 6), (0, 7), (0, 10), (0, 11)], [(0, 1), (0, 3), (0, 4), (0, 5), (0, 6), (0, 8), (0, 9), (0, 10)], [(0, 1), (0, 3), (0, 4), (0, 5), (0, 6), (0, 8), (0, 9), (0, 11)], [(0, 1), (0, 3), (0, 4), (0, 5), (0, 6), (0, 8), (0, 10), (0, 11)], [(0, 1), (0, 3), (0, 4), (0, 5), (0, 6), (0, 9), (0, 10), (0, 11)], [(0, 1), (0, 3), (0, 4), (0, 5), (0, 7), (0, 8), (0, 9), (0, 10)], [(0, 1), (0, 3), (0, 4), (0, 5), (0, 7), (0, 8), (0, 9), (0, 11)], [(0, 1), (0, 3), (0, 4), (0, 5), (0, 7), (0, 8), (0, 10), (0, 11)], [(0, 1), (0, 3), (0, 4), (0, 5), (0, 7), (0, 9), (0, 10), (0, 11)], [(0, 1), (0, 3), (0, 4), (0, 5), (0, 8), (0, 9), (0, 10), (0, 11)], [(0, 1), (0, 3), (0, 4), (0, 6), (0, 7), (0, 8), (0, 9), (0, 10)], [(0, 1), (0, 3), (0, 4), (0, 6), (0, 7), (0, 8), (0, 9), (0, 11)], [(0, 1), (0, 3), (0, 4), (0, 6), (0, 7), (0, 8), (0, 10), (0, 11)], [(0, 1), (0, 3), (0, 4), (0, 6), (0, 7), (0, 9), (0, 10), (0, 11)], [(0, 1), (0, 3), (0, 4), (0, 6), (0, 8), (0, 9), (0, 10), (0, 11)], [(0, 1), (0, 3), (0, 4), (0, 7), (0, 8), (0, 9), (0, 10), (0, 11)], [(0, 1), (0, 3), (0, 5), (0, 6), (0, 7), (0, 8), (0, 9), (0, 10)], [(0, 1), (0, 3), (0, 5), (0, 6), (0, 7), (0, 8), (0, 9), (0, 11)], [(0, 1), (0, 3), (0, 5), (0, 6), (0, 7), (0, 8), (0, 10), (0, 11)], [(0, 1), (0, 3), (0, 5), (0, 6), (0, 7), (0, 9), (0, 10), (0, 11)], [(0, 1), (0, 3), (0, 5), (0, 6), (0, 8), (0, 9), (0, 10), (0, 11)], [(0, 1), (0, 3), (0, 5), (0, 7), (0, 8), (0, 9), (0, 10), (0, 11)], [(0, 1), (0, 3), (0, 6), (0, 7), (0, 8), (0, 9), (0, 10), (0, 11)], [(0, 1), (0, 4), (0, 5), (0, 6), (0, 7), (0, 8), (0, 9), (0, 10)], [(0, 1), (0, 4), (0, 5), (0, 6), (0, 7), (0, 8), (0, 9), (0, 11)], [(0, 1), (0, 4), (0, 5), (0, 6), (0, 7), (0, 8), (0, 10), (0, 11)], [(0, 1), (0, 4), (0, 5), (0, 6), (0, 7), (0, 9), (0, 10), (0, 11)], [(0, 1), (0, 4), (0, 5), (0, 6), (0, 8), (0, 9), (0, 10), (0, 11)], [(0, 1), (0, 4), (0, 5), (0, 7), (0, 8), (0, 9), (0, 10), (0, 11)], [(0, 1), (0, 4), (0, 6), (0, 7), (0, 8), (0, 9), (0, 10), (0, 11)], [(0, 1), (0, 5), (0, 6), (0, 7), (0, 8), (0, 9), (0, 10), (0, 11)], [(0, 2), (0, 3), (0, 4), (0, 5), (0, 6), (0, 7), (0, 8), (0, 9)], [(0, 2), (0, 3), (0, 4), (0, 5), (0, 6), (0, 7), (0, 8), (0, 10)], [(0, 2), (0, 3), (0, 4), (0, 5), (0, 6), (0, 7), (0, 8), (0, 11)], [(0, 2), (0, 3), (0, 4), (0, 5), (0, 6), (0, 7), (0, 9), (0, 10)], [(0, 2), (0, 3), (0, 4), (0, 5), (0, 6), (0, 7), (0, 9), (0, 11)], [(0, 2), (0, 3), (0, 4), (0, 5), (0, 6), (0, 7), (0, 10), (0, 11)], [(0, 2), (0, 3), (0, 4), (0, 5), (0, 6), (0, 8), (0, 9), (0, 10)], [(0, 2), (0, 3), (0, 4), (0, 5), (0, 6), (0, 8), (0, 9), (0, 11)], [(0, 2), (0, 3), (0, 4), (0, 5), (0, 6), (0, 8), (0, 10), (0, 11)], [(0, 2), (0, 3), (0, 4), (0, 5), (0, 6), (0, 9), (0, 10), (0, 11)], [(0, 2), (0, 3), (0, 4), (0, 5), (0, 7), (0, 8), (0, 9), (0, 10)], [(0, 2), (0, 3), (0, 4), (0, 5), (0, 7), (0, 8), (0, 9), (0, 11)], [(0, 2), (0, 3), (0, 4), (0, 5), (0, 7), (0, 8), (0, 10), (0, 11)], [(0, 2), (0, 3), (0, 4), (0, 5), (0, 7), (0, 9), (0, 10), (0, 11)], [(0, 2), (0, 3), (0, 4), (0, 5), (0, 8), (0, 9), (0, 10), (0, 11)], [(0, 2), (0, 3), (0, 4), (0, 6), (0, 7), (0, 8), (0, 9), (0, 10)], [(0, 2), (0, 3), (0, 4), (0, 6), (0, 7), (0, 8), (0, 9), (0, 11)], [(0, 2), (0, 3), (0, 4), (0, 6), (0, 7), (0, 8), (0, 10), (0, 11)], [(0, 2), (0, 3), (0, 4), (0, 6), (0, 7), (0, 9), (0, 10), (0, 11)], [(0, 2), (0, 3), (0, 4), (0, 6), (0, 8), (0, 9), (0, 10), (0, 11)], [(0, 2), (0, 3), (0, 4), (0, 7), (0, 8), (0, 9), (0, 10), (0, 11)], [(0, 2), (0, 3), (0, 5), (0, 6), (0, 7), (0, 8), (0, 9), (0, 10)], [(0, 2), (0, 3), (0, 5), (0, 6), (0, 7), (0, 8), (0, 9), (0, 11)], [(0, 2), (0, 3), (0, 5), (0, 6), (0, 7), (0, 8), (0, 10), (0, 11)], [(0, 2), (0, 3), (0, 5), (0, 6), (0, 7), (0, 9), (0, 10), (0, 11)], [(0, 2), (0, 3), (0, 5), (0, 6), (0, 8), (0, 9), (0, 10), (0, 11)], [(0, 2), (0, 3), (0, 5), (0, 7), (0, 8), (0, 9), (0, 10), (0, 11)], [(0, 2), (0, 3), (0, 6), (0, 7), (0, 8), (0, 9), (0, 10), (0, 11)], [(0, 2), (0, 4), (0, 5), (0, 6), (0, 7), (0, 8), (0, 9), (0, 10)], [(0, 2), (0, 4), (0, 5), (0, 6), (0, 7), (0, 8), (0, 9), (0, 11)], [(0, 2), (0, 4), (0, 5), (0, 6), (0, 7), (0, 8), (0, 10), (0, 11)], [(0, 2), (0, 4), (0, 5), (0, 6), (0, 7), (0, 9), (0, 10), (0, 11)], [(0, 2), (0, 4), (0, 5), (0, 6), (0, 8), (0, 9), (0, 10), (0, 11)], [(0, 2), (0, 4), (0, 5), (0, 7), (0, 8), (0, 9), (0, 10), (0, 11)], [(0, 2), (0, 4), (0, 6), (0, 7), (0, 8), (0, 9), (0, 10), (0, 11)], [(0, 2), (0, 5), (0, 6), (0, 7), (0, 8), (0, 9), (0, 10), (0, 11)], [(0, 3), (0, 4), (0, 5), (0, 6), (0, 7), (0, 8), (0, 9), (0, 10)], [(0, 3), (0, 4), (0, 5), (0, 6), (0, 7), (0, 8), (0, 9), (0, 11)], [(0, 3), (0, 4), (0, 5), (0, 6), (0, 7), (0, 8), (0, 10), (0, 11)], [(0, 3), (0, 4), (0, 5), (0, 6), (0, 7), (0, 9), (0, 10), (0, 11)], [(0, 3), (0, 4), (0, 5), (0, 6), (0, 8), (0, 9), (0, 10), (0, 11)], [(0, 3), (0, 4), (0, 5), (0, 7), (0, 8), (0, 9), (0, 10), (0, 11)], [(0, 3), (0, 4), (0, 6), (0, 7), (0, 8), (0, 9), (0, 10), (0, 11)], [(0, 3), (0, 5), (0, 6), (0, 7), (0, 8), (0, 9), (0, 10), (0, 11)], [(0, 4), (0, 5), (0, 6), (0, 7), (0, 8), (0, 9), (0, 10), (0, 11)], [(0, 0), (0, 1), (0, 2), (0, 3), (0, 4), (0, 5), (0, 6), (0, 7), (0, 8)], [(0, 0), (0, 1), (0, 2), (0, 3), (0, 4), (0, 5), (0, 6), (0, 7), (0, 9)], [(0, 0), (0, 1), (0, 2), (0, 3), (0, 4), (0, 5), (0, 6), (0, 7), (0, 10)], [(0, 0), (0, 1), (0, 2), (0, 3), (0, 4), (0, 5), (0, 6), (0, 7), (0, 11)], [(0, 0), (0, 1), (0, 2), (0, 3), (0, 4), (0, 5), (0, 6), (0, 8), (0, 9)], [(0, 0), (0, 1), (0, 2), (0, 3), (0, 4), (0, 5), (0, 6), (0, 8), (0, 10)], [(0, 0), (0, 1), (0, 2), (0, 3), (0, 4), (0, 5), (0, 6), (0, 8), (0, 11)], [(0, 0), (0, 1), (0, 2), (0, 3), (0, 4), (0, 5), (0, 6), (0, 9), (0, 10)], [(0, 0), (0, 1), (0, 2), (0, 3), (0, 4), (0, 5), (0, 6), (0, 9), (0, 11)], [(0, 0), (0, 1), (0, 2), (0, 3), (0, 4), (0, 5), (0, 6), (0, 10), (0, 11)], [(0, 0), (0, 1), (0, 2), (0, 3), (0, 4), (0, 5), (0, 7), (0, 8), (0, 9)], [(0, 0), (0, 1), (0, 2), (0, 3), (0, 4), (0, 5), (0, 7), (0, 8), (0, 10)], [(0, 0), (0, 1), (0, 2), (0, 3), (0, 4), (0, 5), (0, 7), (0, 8), (0, 11)], [(0, 0), (0, 1), (0, 2), (0, 3), (0, 4), (0, 5), (0, 7), (0, 9), (0, 10)], [(0, 0), (0, 1), (0, 2), (0, 3), (0, 4), (0, 5), (0, 7), (0, 9), (0, 11)], [(0, 0), (0, 1), (0, 2), (0, 3), (0, 4), (0, 5), (0, 7), (0, 10), (0, 11)], [(0, 0), (0, 1), (0, 2), (0, 3), (0, 4), (0, 5), (0, 8), (0, 9), (0, 10)], [(0, 0), (0, 1), (0, 2), (0, 3), (0, 4), (0, 5), (0, 8), (0, 9), (0, 11)], [(0, 0), (0, 1), (0, 2), (0, 3), (0, 4), (0, 5), (0, 8), (0, 10), (0, 11)], [(0, 0), (0, 1), (0, 2), (0, 3), (0, 4), (0, 5), (0, 9), (0, 10), (0, 11)], [(0, 0), (0, 1), (0, 2), (0, 3), (0, 4), (0, 6), (0, 7), (0, 8), (0, 9)], [(0, 0), (0, 1), (0, 2), (0, 3), (0, 4), (0, 6), (0, 7), (0, 8), (0, 10)], [(0, 0), (0, 1), (0, 2), (0, 3), (0, 4), (0, 6), (0, 7), (0, 8), (0, 11)], [(0, 0), (0, 1), (0, 2), (0, 3), (0, 4), (0, 6), (0, 7), (0, 9), (0, 10)], [(0, 0), (0, 1), (0, 2), (0, 3), (0, 4), (0, 6), (0, 7), (0, 9), (0, 11)], [(0, 0), (0, 1), (0, 2), (0, 3), (0, 4), (0, 6), (0, 7), (0, 10), (0, 11)], [(0, 0), (0, 1), (0, 2), (0, 3), (0, 4), (0, 6), (0, 8), (0, 9), (0, 10)], [(0, 0), (0, 1), (0, 2), (0, 3), (0, 4), (0, 6), (0, 8), (0, 9), (0, 11)], [(0, 0), (0, 1), (0, 2), (0, 3), (0, 4), (0, 6), (0, 8), (0, 10), (0, 11)], [(0, 0), (0, 1), (0, 2), (0, 3), (0, 4), (0, 6), (0, 9), (0, 10), (0, 11)], [(0, 0), (0, 1), (0, 2), (0, 3), (0, 4), (0, 7), (0, 8), (0, 9), (0, 10)], [(0, 0), (0, 1), (0, 2), (0, 3), (0, 4), (0, 7), (0, 8), (0, 9), (0, 11)], [(0, 0), (0, 1), (0, 2), (0, 3), (0, 4), (0, 7), (0, 8), (0, 10), (0, 11)], [(0, 0), (0, 1), (0, 2), (0, 3), (0, 4), (0, 7), (0, 9), (0, 10), (0, 11)], [(0, 0), (0, 1), (0, 2), (0, 3), (0, 4), (0, 8), (0, 9), (0, 10), (0, 11)], [(0, 0), (0, 1), (0, 2), (0, 3), (0, 5), (0, 6), (0, 7), (0, 8), (0, 9)], [(0, 0), (0, 1), (0, 2), (0, 3), (0, 5), (0, 6), (0, 7), (0, 8), (0, 10)], [(0, 0), (0, 1), (0, 2), (0, 3), (0, 5), (0, 6), (0, 7), (0, 8), (0, 11)], [(0, 0), (0, 1), (0, 2), (0, 3), (0, 5), (0, 6), (0, 7), (0, 9), (0, 10)], [(0, 0), (0, 1), (0, 2), (0, 3), (0, 5), (0, 6), (0, 7), (0, 9), (0, 11)], [(0, 0), (0, 1), (0, 2), (0, 3), (0, 5), (0, 6), (0, 7), (0, 10), (0, 11)], [(0, 0), (0, 1), (0, 2), (0, 3), (0, 5), (0, 6), (0, 8), (0, 9), (0, 10)], [(0, 0), (0, 1), (0, 2), (0, 3), (0, 5), (0, 6), (0, 8), (0, 9), (0, 11)], [(0, 0), (0, 1), (0, 2), (0, 3), (0, 5), (0, 6), (0, 8), (0, 10), (0, 11)], [(0, 0), (0, 1), (0, 2), (0, 3), (0, 5), (0, 6), (0, 9), (0, 10), (0, 11)], [(0, 0), (0, 1), (0, 2), (0, 3), (0, 5), (0, 7), (0, 8), (0, 9), (0, 10)], [(0, 0), (0, 1), (0, 2), (0, 3), (0, 5), (0, 7), (0, 8), (0, 9), (0, 11)], [(0, 0), (0, 1), (0, 2), (0, 3), (0, 5), (0, 7), (0, 8), (0, 10), (0, 11)], [(0, 0), (0, 1), (0, 2), (0, 3), (0, 5), (0, 7), (0, 9), (0, 10), (0, 11)], [(0, 0), (0, 1), (0, 2), (0, 3), (0, 5), (0, 8), (0, 9), (0, 10), (0, 11)], [(0, 0), (0, 1), (0, 2), (0, 3), (0, 6), (0, 7), (0, 8), (0, 9), (0, 10)], [(0, 0), (0, 1), (0, 2), (0, 3), (0, 6), (0, 7), (0, 8), (0, 9), (0, 11)], [(0, 0), (0, 1), (0, 2), (0, 3), (0, 6), (0, 7), (0, 8), (0, 10), (0, 11)], [(0, 0), (0, 1), (0, 2), (0, 3), (0, 6), (0, 7), (0, 9), (0, 10), (0, 11)], [(0, 0), (0, 1), (0, 2), (0, 3), (0, 6), (0, 8), (0, 9), (0, 10), (0, 11)], [(0, 0), (0, 1), (0, 2), (0, 3), (0, 7), (0, 8), (0, 9), (0, 10), (0, 11)], [(0, 0), (0, 1), (0, 2), (0, 4), (0, 5), (0, 6), (0, 7), (0, 8), (0, 9)], [(0, 0), (0, 1), (0, 2), (0, 4), (0, 5), (0, 6), (0, 7), (0, 8), (0, 10)], [(0, 0), (0, 1), (0, 2), (0, 4), (0, 5), (0, 6), (0, 7), (0, 8), (0, 11)], [(0, 0), (0, 1), (0, 2), (0, 4), (0, 5), (0, 6), (0, 7), (0, 9), (0, 10)], [(0, 0), (0, 1), (0, 2), (0, 4), (0, 5), (0, 6), (0, 7), (0, 9), (0, 11)], [(0, 0), (0, 1), (0, 2), (0, 4), (0, 5), (0, 6), (0, 7), (0, 10), (0, 11)], [(0, 0), (0, 1), (0, 2), (0, 4), (0, 5), (0, 6), (0, 8), (0, 9), (0, 10)], [(0, 0), (0, 1), (0, 2), (0, 4), (0, 5), (0, 6), (0, 8), (0, 9), (0, 11)], [(0, 0), (0, 1), (0, 2), (0, 4), (0, 5), (0, 6), (0, 8), (0, 10), (0, 11)], [(0, 0), (0, 1), (0, 2), (0, 4), (0, 5), (0, 6), (0, 9), (0, 10), (0, 11)], [(0, 0), (0, 1), (0, 2), (0, 4), (0, 5), (0, 7), (0, 8), (0, 9), (0, 10)], [(0, 0), (0, 1), (0, 2), (0, 4), (0, 5), (0, 7), (0, 8), (0, 9), (0, 11)], [(0, 0), (0, 1), (0, 2), (0, 4), (0, 5), (0, 7), (0, 8), (0, 10), (0, 11)], [(0, 0), (0, 1), (0, 2), (0, 4), (0, 5), (0, 7), (0, 9), (0, 10), (0, 11)], [(0, 0), (0, 1), (0, 2), (0, 4), (0, 5), (0, 8), (0, 9), (0, 10), (0, 11)], [(0, 0), (0, 1), (0, 2), (0, 4), (0, 6), (0, 7), (0, 8), (0, 9), (0, 10)], [(0, 0), (0, 1), (0, 2), (0, 4), (0, 6), (0, 7), (0, 8), (0, 9), (0, 11)], [(0, 0), (0, 1), (0, 2), (0, 4), (0, 6), (0, 7), (0, 8), (0, 10), (0, 11)], [(0, 0), (0, 1), (0, 2), (0, 4), (0, 6), (0, 7), (0, 9), (0, 10), (0, 11)], [(0, 0), (0, 1), (0, 2), (0, 4), (0, 6), (0, 8), (0, 9), (0, 10), (0, 11)], [(0, 0), (0, 1), (0, 2), (0, 4), (0, 7), (0, 8), (0, 9), (0, 10), (0, 11)], [(0, 0), (0, 1), (0, 2), (0, 5), (0, 6), (0, 7), (0, 8), (0, 9), (0, 10)], [(0, 0), (0, 1), (0, 2), (0, 5), (0, 6), (0, 7), (0, 8), (0, 9), (0, 11)], [(0, 0), (0, 1), (0, 2), (0, 5), (0, 6), (0, 7), (0, 8), (0, 10), (0, 11)], [(0, 0), (0, 1), (0, 2), (0, 5), (0, 6), (0, 7), (0, 9), (0, 10), (0, 11)], [(0, 0), (0, 1), (0, 2), (0, 5), (0, 6), (0, 8), (0, 9), (0, 10), (0, 11)], [(0, 0), (0, 1), (0, 2), (0, 5), (0, 7), (0, 8), (0, 9), (0, 10), (0, 11)], [(0, 0), (0, 1), (0, 2), (0, 6), (0, 7), (0, 8), (0, 9), (0, 10), (0, 11)], [(0, 0), (0, 1), (0, 3), (0, 4), (0, 5), (0, 6), (0, 7), (0, 8), (0, 9)], [(0, 0), (0, 1), (0, 3), (0, 4), (0, 5), (0, 6), (0, 7), (0, 8), (0, 10)], [(0, 0), (0, 1), (0, 3), (0, 4), (0, 5), (0, 6), (0, 7), (0, 8), (0, 11)], [(0, 0), (0, 1), (0, 3), (0, 4), (0, 5), (0, 6), (0, 7), (0, 9), (0, 10)], [(0, 0), (0, 1), (0, 3), (0, 4), (0, 5), (0, 6), (0, 7), (0, 9), (0, 11)], [(0, 0), (0, 1), (0, 3), (0, 4), (0, 5), (0, 6), (0, 7), (0, 10), (0, 11)], [(0, 0), (0, 1), (0, 3), (0, 4), (0, 5), (0, 6), (0, 8), (0, 9), (0, 10)], [(0, 0), (0, 1), (0, 3), (0, 4), (0, 5), (0, 6), (0, 8), (0, 9), (0, 11)], [(0, 0), (0, 1), (0, 3), (0, 4), (0, 5), (0, 6), (0, 8), (0, 10), (0, 11)], [(0, 0), (0, 1), (0, 3), (0, 4), (0, 5), (0, 6), (0, 9), (0, 10), (0, 11)], [(0, 0), (0, 1), (0, 3), (0, 4), (0, 5), (0, 7), (0, 8), (0, 9), (0, 10)], [(0, 0), (0, 1), (0, 3), (0, 4), (0, 5), (0, 7), (0, 8), (0, 9), (0, 11)], [(0, 0), (0, 1), (0, 3), (0, 4), (0, 5), (0, 7), (0, 8), (0, 10), (0, 11)], [(0, 0), (0, 1), (0, 3), (0, 4), (0, 5), (0, 7), (0, 9), (0, 10), (0, 11)], [(0, 0), (0, 1), (0, 3), (0, 4), (0, 5), (0, 8), (0, 9), (0, 10), (0, 11)], [(0, 0), (0, 1), (0, 3), (0, 4), (0, 6), (0, 7), (0, 8), (0, 9), (0, 10)], [(0, 0), (0, 1), (0, 3), (0, 4), (0, 6), (0, 7), (0, 8), (0, 9), (0, 11)], [(0, 0), (0, 1), (0, 3), (0, 4), (0, 6), (0, 7), (0, 8), (0, 10), (0, 11)], [(0, 0), (0, 1), (0, 3), (0, 4), (0, 6), (0, 7), (0, 9), (0, 10), (0, 11)], [(0, 0), (0, 1), (0, 3), (0, 4), (0, 6), (0, 8), (0, 9), (0, 10), (0, 11)], [(0, 0), (0, 1), (0, 3), (0, 4), (0, 7), (0, 8), (0, 9), (0, 10), (0, 11)], [(0, 0), (0, 1), (0, 3), (0, 5), (0, 6), (0, 7), (0, 8), (0, 9), (0, 10)], [(0, 0), (0, 1), (0, 3), (0, 5), (0, 6), (0, 7), (0, 8), (0, 9), (0, 11)], [(0, 0), (0, 1), (0, 3), (0, 5), (0, 6), (0, 7), (0, 8), (0, 10), (0, 11)], [(0, 0), (0, 1), (0, 3), (0, 5), (0, 6), (0, 7), (0, 9), (0, 10), (0, 11)], [(0, 0), (0, 1), (0, 3), (0, 5), (0, 6), (0, 8), (0, 9), (0, 10), (0, 11)], [(0, 0), (0, 1), (0, 3), (0, 5), (0, 7), (0, 8), (0, 9), (0, 10), (0, 11)], [(0, 0), (0, 1), (0, 3), (0, 6), (0, 7), (0, 8), (0, 9), (0, 10), (0, 11)], [(0, 0), (0, 1), (0, 4), (0, 5), (0, 6), (0, 7), (0, 8), (0, 9), (0, 10)], [(0, 0), (0, 1), (0, 4), (0, 5), (0, 6), (0, 7), (0, 8), (0, 9), (0, 11)], [(0, 0), (0, 1), (0, 4), (0, 5), (0, 6), (0, 7), (0, 8), (0, 10), (0, 11)], [(0, 0), (0, 1), (0, 4), (0, 5), (0, 6), (0, 7), (0, 9), (0, 10), (0, 11)], [(0, 0), (0, 1), (0, 4), (0, 5), (0, 6), (0, 8), (0, 9), (0, 10), (0, 11)], [(0, 0), (0, 1), (0, 4), (0, 5), (0, 7), (0, 8), (0, 9), (0, 10), (0, 11)], [(0, 0), (0, 1), (0, 4), (0, 6), (0, 7), (0, 8), (0, 9), (0, 10), (0, 11)], [(0, 0), (0, 1), (0, 5), (0, 6), (0, 7), (0, 8), (0, 9), (0, 10), (0, 11)], [(0, 0), (0, 2), (0, 3), (0, 4), (0, 5), (0, 6), (0, 7), (0, 8), (0, 9)], [(0, 0), (0, 2), (0, 3), (0, 4), (0, 5), (0, 6), (0, 7), (0, 8), (0, 10)], [(0, 0), (0, 2), (0, 3), (0, 4), (0, 5), (0, 6), (0, 7), (0, 8), (0, 11)], [(0, 0), (0, 2), (0, 3), (0, 4), (0, 5), (0, 6), (0, 7), (0, 9), (0, 10)], [(0, 0), (0, 2), (0, 3), (0, 4), (0, 5), (0, 6), (0, 7), (0, 9), (0, 11)], [(0, 0), (0, 2), (0, 3), (0, 4), (0, 5), (0, 6), (0, 7), (0, 10), (0, 11)], [(0, 0), (0, 2), (0, 3), (0, 4), (0, 5), (0, 6), (0, 8), (0, 9), (0, 10)], [(0, 0), (0, 2), (0, 3), (0, 4), (0, 5), (0, 6), (0, 8), (0, 9), (0, 11)], [(0, 0), (0, 2), (0, 3), (0, 4), (0, 5), (0, 6), (0, 8), (0, 10), (0, 11)], [(0, 0), (0, 2), (0, 3), (0, 4), (0, 5), (0, 6), (0, 9), (0, 10), (0, 11)], [(0, 0), (0, 2), (0, 3), (0, 4), (0, 5), (0, 7), (0, 8), (0, 9), (0, 10)], [(0, 0), (0, 2), (0, 3), (0, 4), (0, 5), (0, 7), (0, 8), (0, 9), (0, 11)], [(0, 0), (0, 2), (0, 3), (0, 4), (0, 5), (0, 7), (0, 8), (0, 10), (0, 11)], [(0, 0), (0, 2), (0, 3), (0, 4), (0, 5), (0, 7), (0, 9), (0, 10), (0, 11)], [(0, 0), (0, 2), (0, 3), (0, 4), (0, 5), (0, 8), (0, 9), (0, 10), (0, 11)], [(0, 0), (0, 2), (0, 3), (0, 4), (0, 6), (0, 7), (0, 8), (0, 9), (0, 10)], [(0, 0), (0, 2), (0, 3), (0, 4), (0, 6), (0, 7), (0, 8), (0, 9), (0, 11)], [(0, 0), (0, 2), (0, 3), (0, 4), (0, 6), (0, 7), (0, 8), (0, 10), (0, 11)], [(0, 0), (0, 2), (0, 3), (0, 4), (0, 6), (0, 7), (0, 9), (0, 10), (0, 11)], [(0, 0), (0, 2), (0, 3), (0, 4), (0, 6), (0, 8), (0, 9), (0, 10), (0, 11)], [(0, 0), (0, 2), (0, 3), (0, 4), (0, 7), (0, 8), (0, 9), (0, 10), (0, 11)], [(0, 0), (0, 2), (0, 3), (0, 5), (0, 6), (0, 7), (0, 8), (0, 9), (0, 10)], [(0, 0), (0, 2), (0, 3), (0, 5), (0, 6), (0, 7), (0, 8), (0, 9), (0, 11)], [(0, 0), (0, 2), (0, 3), (0, 5), (0, 6), (0, 7), (0, 8), (0, 10), (0, 11)], [(0, 0), (0, 2), (0, 3), (0, 5), (0, 6), (0, 7), (0, 9), (0, 10), (0, 11)], [(0, 0), (0, 2), (0, 3), (0, 5), (0, 6), (0, 8), (0, 9), (0, 10), (0, 11)], [(0, 0), (0, 2), (0, 3), (0, 5), (0, 7), (0, 8), (0, 9), (0, 10), (0, 11)], [(0, 0), (0, 2), (0, 3), (0, 6), (0, 7), (0, 8), (0, 9), (0, 10), (0, 11)], [(0, 0), (0, 2), (0, 4), (0, 5), (0, 6), (0, 7), (0, 8), (0, 9), (0, 10)], [(0, 0), (0, 2), (0, 4), (0, 5), (0, 6), (0, 7), (0, 8), (0, 9), (0, 11)], [(0, 0), (0, 2), (0, 4), (0, 5), (0, 6), (0, 7), (0, 8), (0, 10), (0, 11)], [(0, 0), (0, 2), (0, 4), (0, 5), (0, 6), (0, 7), (0, 9), (0, 10), (0, 11)], [(0, 0), (0, 2), (0, 4), (0, 5), (0, 6), (0, 8), (0, 9), (0, 10), (0, 11)], [(0, 0), (0, 2), (0, 4), (0, 5), (0, 7), (0, 8), (0, 9), (0, 10), (0, 11)], [(0, 0), (0, 2), (0, 4), (0, 6), (0, 7), (0, 8), (0, 9), (0, 10), (0, 11)], [(0, 0), (0, 2), (0, 5), (0, 6), (0, 7), (0, 8), (0, 9), (0, 10), (0, 11)], [(0, 0), (0, 3), (0, 4), (0, 5), (0, 6), (0, 7), (0, 8), (0, 9), (0, 10)], [(0, 0), (0, 3), (0, 4), (0, 5), (0, 6), (0, 7), (0, 8), (0, 9), (0, 11)], [(0, 0), (0, 3), (0, 4), (0, 5), (0, 6), (0, 7), (0, 8), (0, 10), (0, 11)], [(0, 0), (0, 3), (0, 4), (0, 5), (0, 6), (0, 7), (0, 9), (0, 10), (0, 11)], [(0, 0), (0, 3), (0, 4), (0, 5), (0, 6), (0, 8), (0, 9), (0, 10), (0, 11)], [(0, 0), (0, 3), (0, 4), (0, 5), (0, 7), (0, 8), (0, 9), (0, 10), (0, 11)], [(0, 0), (0, 3), (0, 4), (0, 6), (0, 7), (0, 8), (0, 9), (0, 10), (0, 11)], [(0, 0), (0, 3), (0, 5), (0, 6), (0, 7), (0, 8), (0, 9), (0, 10), (0, 11)], [(0, 0), (0, 4), (0, 5), (0, 6), (0, 7), (0, 8), (0, 9), (0, 10), (0, 11)], [(0, 1), (0, 2), (0, 3), (0, 4), (0, 5), (0, 6), (0, 7), (0, 8), (0, 9)], [(0, 1), (0, 2), (0, 3), (0, 4), (0, 5), (0, 6), (0, 7), (0, 8), (0, 10)], [(0, 1), (0, 2), (0, 3), (0, 4), (0, 5), (0, 6), (0, 7), (0, 8), (0, 11)], [(0, 1), (0, 2), (0, 3), (0, 4), (0, 5), (0, 6), (0, 7), (0, 9), (0, 10)], [(0, 1), (0, 2), (0, 3), (0, 4), (0, 5), (0, 6), (0, 7), (0, 9), (0, 11)], [(0, 1), (0, 2), (0, 3), (0, 4), (0, 5), (0, 6), (0, 7), (0, 10), (0, 11)], [(0, 1), (0, 2), (0, 3), (0, 4), (0, 5), (0, 6), (0, 8), (0, 9), (0, 10)], [(0, 1), (0, 2), (0, 3), (0, 4), (0, 5), (0, 6), (0, 8), (0, 9), (0, 11)], [(0, 1), (0, 2), (0, 3), (0, 4), (0, 5), (0, 6), (0, 8), (0, 10), (0, 11)], [(0, 1), (0, 2), (0, 3), (0, 4), (0, 5), (0, 6), (0, 9), (0, 10), (0, 11)], [(0, 1), (0, 2), (0, 3), (0, 4), (0, 5), (0, 7), (0, 8), (0, 9), (0, 10)], [(0, 1), (0, 2), (0, 3), (0, 4), (0, 5), (0, 7), (0, 8), (0, 9), (0, 11)], [(0, 1), (0, 2), (0, 3), (0, 4), (0, 5), (0, 7), (0, 8), (0, 10), (0, 11)], [(0, 1), (0, 2), (0, 3), (0, 4), (0, 5), (0, 7), (0, 9), (0, 10), (0, 11)], [(0, 1), (0, 2), (0, 3), (0, 4), (0, 5), (0, 8), (0, 9), (0, 10), (0, 11)], [(0, 1), (0, 2), (0, 3), (0, 4), (0, 6), (0, 7), (0, 8), (0, 9), (0, 10)], [(0, 1), (0, 2), (0, 3), (0, 4), (0, 6), (0, 7), (0, 8), (0, 9), (0, 11)], [(0, 1), (0, 2), (0, 3), (0, 4), (0, 6), (0, 7), (0, 8), (0, 10), (0, 11)], [(0, 1), (0, 2), (0, 3), (0, 4), (0, 6), (0, 7), (0, 9), (0, 10), (0, 11)], [(0, 1), (0, 2), (0, 3), (0, 4), (0, 6), (0, 8), (0, 9), (0, 10), (0, 11)], [(0, 1), (0, 2), (0, 3), (0, 4), (0, 7), (0, 8), (0, 9), (0, 10), (0, 11)], [(0, 1), (0, 2), (0, 3), (0, 5), (0, 6), (0, 7), (0, 8), (0, 9), (0, 10)], [(0, 1), (0, 2), (0, 3), (0, 5), (0, 6), (0, 7), (0, 8), (0, 9), (0, 11)], [(0, 1), (0, 2), (0, 3), (0, 5), (0, 6), (0, 7), (0, 8), (0, 10), (0, 11)], [(0, 1), (0, 2), (0, 3), (0, 5), (0, 6), (0, 7), (0, 9), (0, 10), (0, 11)], [(0, 1), (0, 2), (0, 3), (0, 5), (0, 6), (0, 8), (0, 9), (0, 10), (0, 11)], [(0, 1), (0, 2), (0, 3), (0, 5), (0, 7), (0, 8), (0, 9), (0, 10), (0, 11)], [(0, 1), (0, 2), (0, 3), (0, 6), (0, 7), (0, 8), (0, 9), (0, 10), (0, 11)], [(0, 1), (0, 2), (0, 4), (0, 5), (0, 6), (0, 7), (0, 8), (0, 9), (0, 10)], [(0, 1), (0, 2), (0, 4), (0, 5), (0, 6), (0, 7), (0, 8), (0, 9), (0, 11)], [(0, 1), (0, 2), (0, 4), (0, 5), (0, 6), (0, 7), (0, 8), (0, 10), (0, 11)], [(0, 1), (0, 2), (0, 4), (0, 5), (0, 6), (0, 7), (0, 9), (0, 10), (0, 11)], [(0, 1), (0, 2), (0, 4), (0, 5), (0, 6), (0, 8), (0, 9), (0, 10), (0, 11)], [(0, 1), (0, 2), (0, 4), (0, 5), (0, 7), (0, 8), (0, 9), (0, 10), (0, 11)], [(0, 1), (0, 2), (0, 4), (0, 6), (0, 7), (0, 8), (0, 9), (0, 10), (0, 11)], [(0, 1), (0, 2), (0, 5), (0, 6), (0, 7), (0, 8), (0, 9), (0, 10), (0, 11)], [(0, 1), (0, 3), (0, 4), (0, 5), (0, 6), (0, 7), (0, 8), (0, 9), (0, 10)], [(0, 1), (0, 3), (0, 4), (0, 5), (0, 6), (0, 7), (0, 8), (0, 9), (0, 11)], [(0, 1), (0, 3), (0, 4), (0, 5), (0, 6), (0, 7), (0, 8), (0, 10), (0, 11)], [(0, 1), (0, 3), (0, 4), (0, 5), (0, 6), (0, 7), (0, 9), (0, 10), (0, 11)], [(0, 1), (0, 3), (0, 4), (0, 5), (0, 6), (0, 8), (0, 9), (0, 10), (0, 11)], [(0, 1), (0, 3), (0, 4), (0, 5), (0, 7), (0, 8), (0, 9), (0, 10), (0, 11)], [(0, 1), (0, 3), (0, 4), (0, 6), (0, 7), (0, 8), (0, 9), (0, 10), (0, 11)], [(0, 1), (0, 3), (0, 5), (0, 6), (0, 7), (0, 8), (0, 9), (0, 10), (0, 11)], [(0, 1), (0, 4), (0, 5), (0, 6), (0, 7), (0, 8), (0, 9), (0, 10), (0, 11)], [(0, 2), (0, 3), (0, 4), (0, 5), (0, 6), (0, 7), (0, 8), (0, 9), (0, 10)], [(0, 2), (0, 3), (0, 4), (0, 5), (0, 6), (0, 7), (0, 8), (0, 9), (0, 11)], [(0, 2), (0, 3), (0, 4), (0, 5), (0, 6), (0, 7), (0, 8), (0, 10), (0, 11)], [(0, 2), (0, 3), (0, 4), (0, 5), (0, 6), (0, 7), (0, 9), (0, 10), (0, 11)], [(0, 2), (0, 3), (0, 4), (0, 5), (0, 6), (0, 8), (0, 9), (0, 10), (0, 11)], [(0, 2), (0, 3), (0, 4), (0, 5), (0, 7), (0, 8), (0, 9), (0, 10), (0, 11)], [(0, 2), (0, 3), (0, 4), (0, 6), (0, 7), (0, 8), (0, 9), (0, 10), (0, 11)], [(0, 2), (0, 3), (0, 5), (0, 6), (0, 7), (0, 8), (0, 9), (0, 10), (0, 11)], [(0, 2), (0, 4), (0, 5), (0, 6), (0, 7), (0, 8), (0, 9), (0, 10), (0, 11)], [(0, 3), (0, 4), (0, 5), (0, 6), (0, 7), (0, 8), (0, 9), (0, 10), (0, 11)], [(0, 0), (0, 1), (0, 2), (0, 3), (0, 4), (0, 5), (0, 6), (0, 7), (0, 8), (0, 9)], [(0, 0), (0, 1), (0, 2), (0, 3), (0, 4), (0, 5), (0, 6), (0, 7), (0, 8), (0, 10)], [(0, 0), (0, 1), (0, 2), (0, 3), (0, 4), (0, 5), (0, 6), (0, 7), (0, 8), (0, 11)], [(0, 0), (0, 1), (0, 2), (0, 3), (0, 4), (0, 5), (0, 6), (0, 7), (0, 9), (0, 10)], [(0, 0), (0, 1), (0, 2), (0, 3), (0, 4), (0, 5), (0, 6), (0, 7), (0, 9), (0, 11)], [(0, 0), (0, 1), (0, 2), (0, 3), (0, 4), (0, 5), (0, 6), (0, 7), (0, 10), (0, 11)], [(0, 0), (0, 1), (0, 2), (0, 3), (0, 4), (0, 5), (0, 6), (0, 8), (0, 9), (0, 10)], [(0, 0), (0, 1), (0, 2), (0, 3), (0, 4), (0, 5), (0, 6), (0, 8), (0, 9), (0, 11)], [(0, 0), (0, 1), (0, 2), (0, 3), (0, 4), (0, 5), (0, 6), (0, 8), (0, 10), (0, 11)], [(0, 0), (0, 1), (0, 2), (0, 3), (0, 4), (0, 5), (0, 6), (0, 9), (0, 10), (0, 11)], [(0, 0), (0, 1), (0, 2), (0, 3), (0, 4), (0, 5), (0, 7), (0, 8), (0, 9), (0, 10)], [(0, 0), (0, 1), (0, 2), (0, 3), (0, 4), (0, 5), (0, 7), (0, 8), (0, 9), (0, 11)], [(0, 0), (0, 1), (0, 2), (0, 3), (0, 4), (0, 5), (0, 7), (0, 8), (0, 10), (0, 11)], [(0, 0), (0, 1), (0, 2), (0, 3), (0, 4), (0, 5), (0, 7), (0, 9), (0, 10), (0, 11)], [(0, 0), (0, 1), (0, 2), (0, 3), (0, 4), (0, 5), (0, 8), (0, 9), (0, 10), (0, 11)], [(0, 0), (0, 1), (0, 2), (0, 3), (0, 4), (0, 6), (0, 7), (0, 8), (0, 9), (0, 10)], [(0, 0), (0, 1), (0, 2), (0, 3), (0, 4), (0, 6), (0, 7), (0, 8), (0, 9), (0, 11)], [(0, 0), (0, 1), (0, 2), (0, 3), (0, 4), (0, 6), (0, 7), (0, 8), (0, 10), (0, 11)], [(0, 0), (0, 1), (0, 2), (0, 3), (0, 4), (0, 6), (0, 7), (0, 9), (0, 10), (0, 11)], [(0, 0), (0, 1), (0, 2), (0, 3), (0, 4), (0, 6), (0, 8), (0, 9), (0, 10), (0, 11)], [(0, 0), (0, 1), (0, 2), (0, 3), (0, 4), (0, 7), (0, 8), (0, 9), (0, 10), (0, 11)], [(0, 0), (0, 1), (0, 2), (0, 3), (0, 5), (0, 6), (0, 7), (0, 8), (0, 9), (0, 10)], [(0, 0), (0, 1), (0, 2), (0, 3), (0, 5), (0, 6), (0, 7), (0, 8), (0, 9), (0, 11)], [(0, 0), (0, 1), (0, 2), (0, 3), (0, 5), (0, 6), (0, 7), (0, 8), (0, 10), (0, 11)], [(0, 0), (0, 1), (0, 2), (0, 3), (0, 5), (0, 6), (0, 7), (0, 9), (0, 10), (0, 11)], [(0, 0), (0, 1), (0, 2), (0, 3), (0, 5), (0, 6), (0, 8), (0, 9), (0, 10), (0, 11)], [(0, 0), (0, 1), (0, 2), (0, 3), (0, 5), (0, 7), (0, 8), (0, 9), (0, 10), (0, 11)], [(0, 0), (0, 1), (0, 2), (0, 3), (0, 6), (0, 7), (0, 8), (0, 9), (0, 10), (0, 11)], [(0, 0), (0, 1), (0, 2), (0, 4), (0, 5), (0, 6), (0, 7), (0, 8), (0, 9), (0, 10)], [(0, 0), (0, 1), (0, 2), (0, 4), (0, 5), (0, 6), (0, 7), (0, 8), (0, 9), (0, 11)], [(0, 0), (0, 1), (0, 2), (0, 4), (0, 5), (0, 6), (0, 7), (0, 8), (0, 10), (0, 11)], [(0, 0), (0, 1), (0, 2), (0, 4), (0, 5), (0, 6), (0, 7), (0, 9), (0, 10), (0, 11)], [(0, 0), (0, 1), (0, 2), (0, 4), (0, 5), (0, 6), (0, 8), (0, 9), (0, 10), (0, 11)], [(0, 0), (0, 1), (0, 2), (0, 4), (0, 5), (0, 7), (0, 8), (0, 9), (0, 10), (0, 11)], [(0, 0), (0, 1), (0, 2), (0, 4), (0, 6), (0, 7), (0, 8), (0, 9), (0, 10), (0, 11)], [(0, 0), (0, 1), (0, 2), (0, 5), (0, 6), (0, 7), (0, 8), (0, 9), (0, 10), (0, 11)], [(0, 0), (0, 1), (0, 3), (0, 4), (0, 5), (0, 6), (0, 7), (0, 8), (0, 9), (0, 10)], [(0, 0), (0, 1), (0, 3), (0, 4), (0, 5), (0, 6), (0, 7), (0, 8), (0, 9), (0, 11)], [(0, 0), (0, 1), (0, 3), (0, 4), (0, 5), (0, 6), (0, 7), (0, 8), (0, 10), (0, 11)], [(0, 0), (0, 1), (0, 3), (0, 4), (0, 5), (0, 6), (0, 7), (0, 9), (0, 10), (0, 11)], [(0, 0), (0, 1), (0, 3), (0, 4), (0, 5), (0, 6), (0, 8), (0, 9), (0, 10), (0, 11)], [(0, 0), (0, 1), (0, 3), (0, 4), (0, 5), (0, 7), (0, 8), (0, 9), (0, 10), (0, 11)], [(0, 0), (0, 1), (0, 3), (0, 4), (0, 6), (0, 7), (0, 8), (0, 9), (0, 10), (0, 11)], [(0, 0), (0, 1), (0, 3), (0, 5), (0, 6), (0, 7), (0, 8), (0, 9), (0, 10), (0, 11)], [(0, 0), (0, 1), (0, 4), (0, 5), (0, 6), (0, 7), (0, 8), (0, 9), (0, 10), (0, 11)], [(0, 0), (0, 2), (0, 3), (0, 4), (0, 5), (0, 6), (0, 7), (0, 8), (0, 9), (0, 10)], [(0, 0), (0, 2), (0, 3), (0, 4), (0, 5), (0, 6), (0, 7), (0, 8), (0, 9), (0, 11)], [(0, 0), (0, 2), (0, 3), (0, 4), (0, 5), (0, 6), (0, 7), (0, 8), (0, 10), (0, 11)], [(0, 0), (0, 2), (0, 3), (0, 4), (0, 5), (0, 6), (0, 7), (0, 9), (0, 10), (0, 11)], [(0, 0), (0, 2), (0, 3), (0, 4), (0, 5), (0, 6), (0, 8), (0, 9), (0, 10), (0, 11)], [(0, 0), (0, 2), (0, 3), (0, 4), (0, 5), (0, 7), (0, 8), (0, 9), (0, 10), (0, 11)], [(0, 0), (0, 2), (0, 3), (0, 4), (0, 6), (0, 7), (0, 8), (0, 9), (0, 10), (0, 11)], [(0, 0), (0, 2), (0, 3), (0, 5), (0, 6), (0, 7), (0, 8), (0, 9), (0, 10), (0, 11)], [(0, 0), (0, 2), (0, 4), (0, 5), (0, 6), (0, 7), (0, 8), (0, 9), (0, 10), (0, 11)], [(0, 0), (0, 3), (0, 4), (0, 5), (0, 6), (0, 7), (0, 8), (0, 9), (0, 10), (0, 11)], [(0, 1), (0, 2), (0, 3), (0, 4), (0, 5), (0, 6), (0, 7), (0, 8), (0, 9), (0, 10)], [(0, 1), (0, 2), (0, 3), (0, 4), (0, 5), (0, 6), (0, 7), (0, 8), (0, 9), (0, 11)], [(0, 1), (0, 2), (0, 3), (0, 4), (0, 5), (0, 6), (0, 7), (0, 8), (0, 10), (0, 11)], [(0, 1), (0, 2), (0, 3), (0, 4), (0, 5), (0, 6), (0, 7), (0, 9), (0, 10), (0, 11)], [(0, 1), (0, 2), (0, 3), (0, 4), (0, 5), (0, 6), (0, 8), (0, 9), (0, 10), (0, 11)], [(0, 1), (0, 2), (0, 3), (0, 4), (0, 5), (0, 7), (0, 8), (0, 9), (0, 10), (0, 11)], [(0, 1), (0, 2), (0, 3), (0, 4), (0, 6), (0, 7), (0, 8), (0, 9), (0, 10), (0, 11)], [(0, 1), (0, 2), (0, 3), (0, 5), (0, 6), (0, 7), (0, 8), (0, 9), (0, 10), (0, 11)], [(0, 1), (0, 2), (0, 4), (0, 5), (0, 6), (0, 7), (0, 8), (0, 9), (0, 10), (0, 11)], [(0, 1), (0, 3), (0, 4), (0, 5), (0, 6), (0, 7), (0, 8), (0, 9), (0, 10), (0, 11)], [(0, 2), (0, 3), (0, 4), (0, 5), (0, 6), (0, 7), (0, 8), (0, 9), (0, 10), (0, 11)], [(0, 0), (0, 1), (0, 2), (0, 3), (0, 4), (0, 5), (0, 6), (0, 7), (0, 8), (0, 9), (0, 10)], [(0, 0), (0, 1), (0, 2), (0, 3), (0, 4), (0, 5), (0, 6), (0, 7), (0, 8), (0, 9), (0, 11)], [(0, 0), (0, 1), (0, 2), (0, 3), (0, 4), (0, 5), (0, 6), (0, 7), (0, 8), (0, 10), (0, 11)], [(0, 0), (0, 1), (0, 2), (0, 3), (0, 4), (0, 5), (0, 6), (0, 7), (0, 9), (0, 10), (0, 11)], [(0, 0), (0, 1), (0, 2), (0, 3), (0, 4), (0, 5), (0, 6), (0, 8), (0, 9), (0, 10), (0, 11)], [(0, 0), (0, 1), (0, 2), (0, 3), (0, 4), (0, 5), (0, 7), (0, 8), (0, 9), (0, 10), (0, 11)], [(0, 0), (0, 1), (0, 2), (0, 3), (0, 4), (0, 6), (0, 7), (0, 8), (0, 9), (0, 10), (0, 11)], [(0, 0), (0, 1), (0, 2), (0, 3), (0, 5), (0, 6), (0, 7), (0, 8), (0, 9), (0, 10), (0, 11)], [(0, 0), (0, 1), (0, 2), (0, 4), (0, 5), (0, 6), (0, 7), (0, 8), (0, 9), (0, 10), (0, 11)], [(0, 0), (0, 1), (0, 3), (0, 4), (0, 5), (0, 6), (0, 7), (0, 8), (0, 9), (0, 10), (0, 11)], [(0, 0), (0, 2), (0, 3), (0, 4), (0, 5), (0, 6), (0, 7), (0, 8), (0, 9), (0, 10), (0, 11)], [(0, 1), (0, 2), (0, 3), (0, 4), (0, 5), (0, 6), (0, 7), (0, 8), (0, 9), (0, 10), (0, 11)], [(0, 0), (0, 1), (0, 2), (0, 3), (0, 4), (0, 5), (0, 6), (0, 7), (0, 8), (0, 9), (0, 10), (0, 11)]]\n"
          ]
        }
      ]
    },
    {
      "cell_type": "code",
      "source": [
        "len(all_combinations)"
      ],
      "metadata": {
        "colab": {
          "base_uri": "https://localhost:8080/"
        },
        "id": "-KSW2BZMOi8Y",
        "outputId": "533058eb-18fa-43db-cc99-c70f0fc2a6d4"
      },
      "execution_count": 29,
      "outputs": [
        {
          "output_type": "execute_result",
          "data": {
            "text/plain": [
              "4095"
            ]
          },
          "metadata": {},
          "execution_count": 29
        }
      ]
    },
    {
      "cell_type": "code",
      "source": [
        "base_lst = [(0, 1), (0, 10), (3, 0), (4, 4), (5, 5), (6, 1), (6, 6), (7, 10), (7, 11), (8, 8), (8, 11), (9, 1), (9, 5), (10, 7)]"
      ],
      "metadata": {
        "id": "VaxbugcfGlBA"
      },
      "execution_count": 30,
      "outputs": []
    },
    {
      "cell_type": "code",
      "source": [
        "all_scores = []\n",
        "\n",
        "for combo in all_combinations:\n",
        "    new_score = mean_ablate_by_lst(base_lst + combo, model, print_output=False)\n",
        "    all_scores.append((combo, new_score))"
      ],
      "metadata": {
        "colab": {
          "base_uri": "https://localhost:8080/",
          "height": 374
        },
        "id": "vWk_opeBPljY",
        "outputId": "0d26b69a-6d0b-4289-e2a1-8c3fd132db1b"
      },
      "execution_count": 31,
      "outputs": [
        {
          "output_type": "error",
          "ename": "KeyboardInterrupt",
          "evalue": "ignored",
          "traceback": [
            "\u001b[0;31m---------------------------------------------------------------------------\u001b[0m",
            "\u001b[0;31mKeyboardInterrupt\u001b[0m                         Traceback (most recent call last)",
            "\u001b[0;32m<ipython-input-31-be79fd3b0344>\u001b[0m in \u001b[0;36m<cell line: 3>\u001b[0;34m()\u001b[0m\n\u001b[1;32m      2\u001b[0m \u001b[0;34m\u001b[0m\u001b[0m\n\u001b[1;32m      3\u001b[0m \u001b[0;32mfor\u001b[0m \u001b[0mcombo\u001b[0m \u001b[0;32min\u001b[0m \u001b[0mall_combinations\u001b[0m\u001b[0;34m:\u001b[0m\u001b[0;34m\u001b[0m\u001b[0;34m\u001b[0m\u001b[0m\n\u001b[0;32m----> 4\u001b[0;31m     \u001b[0mnew_score\u001b[0m \u001b[0;34m=\u001b[0m \u001b[0mmean_ablate_by_lst\u001b[0m\u001b[0;34m(\u001b[0m\u001b[0mbase_lst\u001b[0m \u001b[0;34m+\u001b[0m \u001b[0mcombo\u001b[0m\u001b[0;34m,\u001b[0m \u001b[0mmodel\u001b[0m\u001b[0;34m,\u001b[0m \u001b[0mprint_output\u001b[0m\u001b[0;34m=\u001b[0m\u001b[0;32mFalse\u001b[0m\u001b[0;34m)\u001b[0m\u001b[0;34m\u001b[0m\u001b[0;34m\u001b[0m\u001b[0m\n\u001b[0m\u001b[1;32m      5\u001b[0m     \u001b[0mall_scores\u001b[0m\u001b[0;34m.\u001b[0m\u001b[0mappend\u001b[0m\u001b[0;34m(\u001b[0m\u001b[0;34m(\u001b[0m\u001b[0mcombo\u001b[0m\u001b[0;34m,\u001b[0m \u001b[0mnew_score\u001b[0m\u001b[0;34m)\u001b[0m\u001b[0;34m)\u001b[0m\u001b[0;34m\u001b[0m\u001b[0;34m\u001b[0m\u001b[0m\n",
            "\u001b[0;32m<ipython-input-27-6fa859ba4ce7>\u001b[0m in \u001b[0;36mmean_ablate_by_lst\u001b[0;34m(lst, model, print_output)\u001b[0m\n\u001b[1;32m     20\u001b[0m     \u001b[0mioi_logits_original\u001b[0m\u001b[0;34m,\u001b[0m \u001b[0mioi_cache\u001b[0m \u001b[0;34m=\u001b[0m \u001b[0mmodel\u001b[0m\u001b[0;34m.\u001b[0m\u001b[0mrun_with_cache\u001b[0m\u001b[0;34m(\u001b[0m\u001b[0mdataset\u001b[0m\u001b[0;34m.\u001b[0m\u001b[0mtoks\u001b[0m\u001b[0;34m)\u001b[0m\u001b[0;34m\u001b[0m\u001b[0;34m\u001b[0m\u001b[0m\n\u001b[1;32m     21\u001b[0m \u001b[0;34m\u001b[0m\u001b[0m\n\u001b[0;32m---> 22\u001b[0;31m     \u001b[0mmodel\u001b[0m \u001b[0;34m=\u001b[0m \u001b[0mioi_circuit_extraction\u001b[0m\u001b[0;34m.\u001b[0m\u001b[0madd_mean_ablation_hook\u001b[0m\u001b[0;34m(\u001b[0m\u001b[0mmodel\u001b[0m\u001b[0;34m,\u001b[0m \u001b[0mmeans_dataset\u001b[0m\u001b[0;34m=\u001b[0m\u001b[0mdataset_2\u001b[0m\u001b[0;34m,\u001b[0m \u001b[0mcircuit\u001b[0m\u001b[0;34m=\u001b[0m\u001b[0mCIRCUIT\u001b[0m\u001b[0;34m,\u001b[0m \u001b[0mseq_pos_to_keep\u001b[0m\u001b[0;34m=\u001b[0m\u001b[0mSEQ_POS_TO_KEEP\u001b[0m\u001b[0;34m)\u001b[0m\u001b[0;34m\u001b[0m\u001b[0;34m\u001b[0m\u001b[0m\n\u001b[0m\u001b[1;32m     23\u001b[0m     \u001b[0mioi_logits_minimal\u001b[0m \u001b[0;34m=\u001b[0m \u001b[0mmodel\u001b[0m\u001b[0;34m(\u001b[0m\u001b[0mdataset\u001b[0m\u001b[0;34m.\u001b[0m\u001b[0mtoks\u001b[0m\u001b[0;34m)\u001b[0m\u001b[0;34m\u001b[0m\u001b[0;34m\u001b[0m\u001b[0m\n\u001b[1;32m     24\u001b[0m \u001b[0;34m\u001b[0m\u001b[0m\n",
            "\u001b[0;32m/content/ARENA_2.0/chapter1_transformers/exercises/part3_indirect_object_identification/ioi_circuit_extraction.py\u001b[0m in \u001b[0;36madd_mean_ablation_hook\u001b[0;34m(model, means_dataset, circuit, seq_pos_to_keep, is_permanent)\u001b[0m\n\u001b[1;32m    179\u001b[0m \u001b[0;34m\u001b[0m\u001b[0m\n\u001b[1;32m    180\u001b[0m     \u001b[0;31m# Apply hook\u001b[0m\u001b[0;34m\u001b[0m\u001b[0;34m\u001b[0m\u001b[0m\n\u001b[0;32m--> 181\u001b[0;31m     \u001b[0mmodel\u001b[0m\u001b[0;34m.\u001b[0m\u001b[0madd_hook\u001b[0m\u001b[0;34m(\u001b[0m\u001b[0;32mlambda\u001b[0m \u001b[0mname\u001b[0m\u001b[0;34m:\u001b[0m \u001b[0mname\u001b[0m\u001b[0;34m.\u001b[0m\u001b[0mendswith\u001b[0m\u001b[0;34m(\u001b[0m\u001b[0;34m\"z\"\u001b[0m\u001b[0;34m)\u001b[0m\u001b[0;34m,\u001b[0m \u001b[0mhook_fn\u001b[0m\u001b[0;34m,\u001b[0m \u001b[0mis_permanent\u001b[0m\u001b[0;34m=\u001b[0m\u001b[0mis_permanent\u001b[0m\u001b[0;34m)\u001b[0m\u001b[0;34m\u001b[0m\u001b[0;34m\u001b[0m\u001b[0m\n\u001b[0m\u001b[1;32m    182\u001b[0m \u001b[0;34m\u001b[0m\u001b[0m\n\u001b[1;32m    183\u001b[0m     \u001b[0;32mreturn\u001b[0m \u001b[0mmodel\u001b[0m\u001b[0;34m\u001b[0m\u001b[0;34m\u001b[0m\u001b[0m\n",
            "\u001b[0;32m/usr/local/lib/python3.10/dist-packages/transformer_lens/hook_points.py\u001b[0m in \u001b[0;36madd_hook\u001b[0;34m(self, name, hook, dir, is_permanent, level, prepend)\u001b[0m\n\u001b[1;32m    248\u001b[0m             \u001b[0;32mfor\u001b[0m \u001b[0mhook_point_name\u001b[0m\u001b[0;34m,\u001b[0m \u001b[0mhp\u001b[0m \u001b[0;32min\u001b[0m \u001b[0mself\u001b[0m\u001b[0;34m.\u001b[0m\u001b[0mhook_dict\u001b[0m\u001b[0;34m.\u001b[0m\u001b[0mitems\u001b[0m\u001b[0;34m(\u001b[0m\u001b[0;34m)\u001b[0m\u001b[0;34m:\u001b[0m\u001b[0;34m\u001b[0m\u001b[0;34m\u001b[0m\u001b[0m\n\u001b[1;32m    249\u001b[0m                 \u001b[0;32mif\u001b[0m \u001b[0mname\u001b[0m\u001b[0;34m(\u001b[0m\u001b[0mhook_point_name\u001b[0m\u001b[0;34m)\u001b[0m\u001b[0;34m:\u001b[0m\u001b[0;34m\u001b[0m\u001b[0;34m\u001b[0m\u001b[0m\n\u001b[0;32m--> 250\u001b[0;31m                     self.check_and_add_hook(\n\u001b[0m\u001b[1;32m    251\u001b[0m                         \u001b[0mhp\u001b[0m\u001b[0;34m,\u001b[0m\u001b[0;34m\u001b[0m\u001b[0;34m\u001b[0m\u001b[0m\n\u001b[1;32m    252\u001b[0m                         \u001b[0mhook_point_name\u001b[0m\u001b[0;34m,\u001b[0m\u001b[0;34m\u001b[0m\u001b[0;34m\u001b[0m\u001b[0m\n",
            "\u001b[0;32m/usr/local/lib/python3.10/dist-packages/transformer_lens/hook_points.py\u001b[0m in \u001b[0;36mcheck_and_add_hook\u001b[0;34m(self, hook_point, hook_point_name, hook, dir, is_permanent, level, prepend)\u001b[0m\n\u001b[1;32m    221\u001b[0m             \u001b[0mprepend\u001b[0m\u001b[0;34m=\u001b[0m\u001b[0mprepend\u001b[0m\u001b[0;34m,\u001b[0m\u001b[0;34m\u001b[0m\u001b[0;34m\u001b[0m\u001b[0m\n\u001b[1;32m    222\u001b[0m         )\n\u001b[0;32m--> 223\u001b[0;31m         hook_point.add_hook(\n\u001b[0m\u001b[1;32m    224\u001b[0m             \u001b[0mhook\u001b[0m\u001b[0;34m,\u001b[0m \u001b[0mdir\u001b[0m\u001b[0;34m=\u001b[0m\u001b[0mdir\u001b[0m\u001b[0;34m,\u001b[0m \u001b[0mis_permanent\u001b[0m\u001b[0;34m=\u001b[0m\u001b[0mis_permanent\u001b[0m\u001b[0;34m,\u001b[0m \u001b[0mlevel\u001b[0m\u001b[0;34m=\u001b[0m\u001b[0mlevel\u001b[0m\u001b[0;34m,\u001b[0m \u001b[0mprepend\u001b[0m\u001b[0;34m=\u001b[0m\u001b[0mprepend\u001b[0m\u001b[0;34m\u001b[0m\u001b[0;34m\u001b[0m\u001b[0m\n\u001b[1;32m    225\u001b[0m         )\n",
            "\u001b[0;32m/usr/local/lib/python3.10/dist-packages/transformer_lens/hook_points.py\u001b[0m in \u001b[0;36madd_hook\u001b[0;34m(self, hook, dir, is_permanent, level, prepend)\u001b[0m\n\u001b[1;32m     68\u001b[0m \u001b[0;34m\u001b[0m\u001b[0m\n\u001b[1;32m     69\u001b[0m             full_hook.__name__ = (\n\u001b[0;32m---> 70\u001b[0;31m                 \u001b[0mhook\u001b[0m\u001b[0;34m.\u001b[0m\u001b[0m__repr__\u001b[0m\u001b[0;34m(\u001b[0m\u001b[0;34m)\u001b[0m\u001b[0;34m\u001b[0m\u001b[0;34m\u001b[0m\u001b[0m\n\u001b[0m\u001b[1;32m     71\u001b[0m             )  # annotate the `full_hook` with the string representation of the `hook` function\n\u001b[1;32m     72\u001b[0m \u001b[0;34m\u001b[0m\u001b[0m\n",
            "\u001b[0;32m/usr/local/lib/python3.10/dist-packages/torch/_tensor.py\u001b[0m in \u001b[0;36m__repr__\u001b[0;34m(self, tensor_contents)\u001b[0m\n\u001b[1;32m    424\u001b[0m             )\n\u001b[1;32m    425\u001b[0m         \u001b[0;31m# All strings are unicode in Python 3.\u001b[0m\u001b[0;34m\u001b[0m\u001b[0;34m\u001b[0m\u001b[0m\n\u001b[0;32m--> 426\u001b[0;31m         \u001b[0;32mreturn\u001b[0m \u001b[0mtorch\u001b[0m\u001b[0;34m.\u001b[0m\u001b[0m_tensor_str\u001b[0m\u001b[0;34m.\u001b[0m\u001b[0m_str\u001b[0m\u001b[0;34m(\u001b[0m\u001b[0mself\u001b[0m\u001b[0;34m,\u001b[0m \u001b[0mtensor_contents\u001b[0m\u001b[0;34m=\u001b[0m\u001b[0mtensor_contents\u001b[0m\u001b[0;34m)\u001b[0m\u001b[0;34m\u001b[0m\u001b[0;34m\u001b[0m\u001b[0m\n\u001b[0m\u001b[1;32m    427\u001b[0m \u001b[0;34m\u001b[0m\u001b[0m\n\u001b[1;32m    428\u001b[0m     def backward(\n",
            "\u001b[0;32m/usr/local/lib/python3.10/dist-packages/torch/_tensor_str.py\u001b[0m in \u001b[0;36m_str\u001b[0;34m(self, tensor_contents)\u001b[0m\n\u001b[1;32m    634\u001b[0m     \u001b[0;32mwith\u001b[0m \u001b[0mtorch\u001b[0m\u001b[0;34m.\u001b[0m\u001b[0mno_grad\u001b[0m\u001b[0;34m(\u001b[0m\u001b[0;34m)\u001b[0m\u001b[0;34m,\u001b[0m \u001b[0mtorch\u001b[0m\u001b[0;34m.\u001b[0m\u001b[0mutils\u001b[0m\u001b[0;34m.\u001b[0m\u001b[0m_python_dispatch\u001b[0m\u001b[0;34m.\u001b[0m\u001b[0m_disable_current_modes\u001b[0m\u001b[0;34m(\u001b[0m\u001b[0;34m)\u001b[0m\u001b[0;34m:\u001b[0m\u001b[0;34m\u001b[0m\u001b[0;34m\u001b[0m\u001b[0m\n\u001b[1;32m    635\u001b[0m         \u001b[0mguard\u001b[0m \u001b[0;34m=\u001b[0m \u001b[0mtorch\u001b[0m\u001b[0;34m.\u001b[0m\u001b[0m_C\u001b[0m\u001b[0;34m.\u001b[0m\u001b[0m_DisableFuncTorch\u001b[0m\u001b[0;34m(\u001b[0m\u001b[0;34m)\u001b[0m\u001b[0;34m\u001b[0m\u001b[0;34m\u001b[0m\u001b[0m\n\u001b[0;32m--> 636\u001b[0;31m         \u001b[0;32mreturn\u001b[0m \u001b[0m_str_intern\u001b[0m\u001b[0;34m(\u001b[0m\u001b[0mself\u001b[0m\u001b[0;34m,\u001b[0m \u001b[0mtensor_contents\u001b[0m\u001b[0;34m=\u001b[0m\u001b[0mtensor_contents\u001b[0m\u001b[0;34m)\u001b[0m\u001b[0;34m\u001b[0m\u001b[0;34m\u001b[0m\u001b[0m\n\u001b[0m",
            "\u001b[0;32m/usr/local/lib/python3.10/dist-packages/torch/_tensor_str.py\u001b[0m in \u001b[0;36m_str_intern\u001b[0;34m(inp, tensor_contents)\u001b[0m\n\u001b[1;32m    565\u001b[0m                         \u001b[0mtensor_str\u001b[0m \u001b[0;34m=\u001b[0m \u001b[0m_tensor_str\u001b[0m\u001b[0;34m(\u001b[0m\u001b[0mself\u001b[0m\u001b[0;34m.\u001b[0m\u001b[0mto_dense\u001b[0m\u001b[0;34m(\u001b[0m\u001b[0;34m)\u001b[0m\u001b[0;34m,\u001b[0m \u001b[0mindent\u001b[0m\u001b[0;34m)\u001b[0m\u001b[0;34m\u001b[0m\u001b[0;34m\u001b[0m\u001b[0m\n\u001b[1;32m    566\u001b[0m                     \u001b[0;32melse\u001b[0m\u001b[0;34m:\u001b[0m\u001b[0;34m\u001b[0m\u001b[0;34m\u001b[0m\u001b[0m\n\u001b[0;32m--> 567\u001b[0;31m                         \u001b[0mtensor_str\u001b[0m \u001b[0;34m=\u001b[0m \u001b[0m_tensor_str\u001b[0m\u001b[0;34m(\u001b[0m\u001b[0mself\u001b[0m\u001b[0;34m,\u001b[0m \u001b[0mindent\u001b[0m\u001b[0;34m)\u001b[0m\u001b[0;34m\u001b[0m\u001b[0;34m\u001b[0m\u001b[0m\n\u001b[0m\u001b[1;32m    568\u001b[0m \u001b[0;34m\u001b[0m\u001b[0m\n\u001b[1;32m    569\u001b[0m     \u001b[0;32mif\u001b[0m \u001b[0mself\u001b[0m\u001b[0;34m.\u001b[0m\u001b[0mlayout\u001b[0m \u001b[0;34m!=\u001b[0m \u001b[0mtorch\u001b[0m\u001b[0;34m.\u001b[0m\u001b[0mstrided\u001b[0m\u001b[0;34m:\u001b[0m\u001b[0;34m\u001b[0m\u001b[0;34m\u001b[0m\u001b[0m\n",
            "\u001b[0;32m/usr/local/lib/python3.10/dist-packages/torch/_tensor_str.py\u001b[0m in \u001b[0;36m_tensor_str\u001b[0;34m(self, indent)\u001b[0m\n\u001b[1;32m    326\u001b[0m     \u001b[0;32melse\u001b[0m\u001b[0;34m:\u001b[0m\u001b[0;34m\u001b[0m\u001b[0;34m\u001b[0m\u001b[0m\n\u001b[1;32m    327\u001b[0m         \u001b[0mformatter\u001b[0m \u001b[0;34m=\u001b[0m \u001b[0m_Formatter\u001b[0m\u001b[0;34m(\u001b[0m\u001b[0mget_summarized_data\u001b[0m\u001b[0;34m(\u001b[0m\u001b[0mself\u001b[0m\u001b[0;34m)\u001b[0m \u001b[0;32mif\u001b[0m \u001b[0msummarize\u001b[0m \u001b[0;32melse\u001b[0m \u001b[0mself\u001b[0m\u001b[0;34m)\u001b[0m\u001b[0;34m\u001b[0m\u001b[0;34m\u001b[0m\u001b[0m\n\u001b[0;32m--> 328\u001b[0;31m         \u001b[0;32mreturn\u001b[0m \u001b[0m_tensor_str_with_formatter\u001b[0m\u001b[0;34m(\u001b[0m\u001b[0mself\u001b[0m\u001b[0;34m,\u001b[0m \u001b[0mindent\u001b[0m\u001b[0;34m,\u001b[0m \u001b[0msummarize\u001b[0m\u001b[0;34m,\u001b[0m \u001b[0mformatter\u001b[0m\u001b[0;34m)\u001b[0m\u001b[0;34m\u001b[0m\u001b[0;34m\u001b[0m\u001b[0m\n\u001b[0m\u001b[1;32m    329\u001b[0m \u001b[0;34m\u001b[0m\u001b[0m\n\u001b[1;32m    330\u001b[0m \u001b[0;34m\u001b[0m\u001b[0m\n",
            "\u001b[0;32m/usr/local/lib/python3.10/dist-packages/torch/_tensor_str.py\u001b[0m in \u001b[0;36m_tensor_str_with_formatter\u001b[0;34m(self, indent, summarize, formatter1, formatter2)\u001b[0m\n\u001b[1;32m    266\u001b[0m             ]\n\u001b[1;32m    267\u001b[0m             \u001b[0;34m+\u001b[0m \u001b[0;34m[\u001b[0m\u001b[0;34m\"...\"\u001b[0m\u001b[0;34m]\u001b[0m\u001b[0;34m\u001b[0m\u001b[0;34m\u001b[0m\u001b[0m\n\u001b[0;32m--> 268\u001b[0;31m             + [\n\u001b[0m\u001b[1;32m    269\u001b[0m                 _tensor_str_with_formatter(\n\u001b[1;32m    270\u001b[0m                     \u001b[0mself\u001b[0m\u001b[0;34m[\u001b[0m\u001b[0mi\u001b[0m\u001b[0;34m]\u001b[0m\u001b[0;34m,\u001b[0m \u001b[0mindent\u001b[0m \u001b[0;34m+\u001b[0m \u001b[0;36m1\u001b[0m\u001b[0;34m,\u001b[0m \u001b[0msummarize\u001b[0m\u001b[0;34m,\u001b[0m \u001b[0mformatter1\u001b[0m\u001b[0;34m,\u001b[0m \u001b[0mformatter2\u001b[0m\u001b[0;34m\u001b[0m\u001b[0;34m\u001b[0m\u001b[0m\n",
            "\u001b[0;32m/usr/local/lib/python3.10/dist-packages/torch/_tensor_str.py\u001b[0m in \u001b[0;36m<listcomp>\u001b[0;34m(.0)\u001b[0m\n\u001b[1;32m    267\u001b[0m             \u001b[0;34m+\u001b[0m \u001b[0;34m[\u001b[0m\u001b[0;34m\"...\"\u001b[0m\u001b[0;34m]\u001b[0m\u001b[0;34m\u001b[0m\u001b[0;34m\u001b[0m\u001b[0m\n\u001b[1;32m    268\u001b[0m             + [\n\u001b[0;32m--> 269\u001b[0;31m                 _tensor_str_with_formatter(\n\u001b[0m\u001b[1;32m    270\u001b[0m                     \u001b[0mself\u001b[0m\u001b[0;34m[\u001b[0m\u001b[0mi\u001b[0m\u001b[0;34m]\u001b[0m\u001b[0;34m,\u001b[0m \u001b[0mindent\u001b[0m \u001b[0;34m+\u001b[0m \u001b[0;36m1\u001b[0m\u001b[0;34m,\u001b[0m \u001b[0msummarize\u001b[0m\u001b[0;34m,\u001b[0m \u001b[0mformatter1\u001b[0m\u001b[0;34m,\u001b[0m \u001b[0mformatter2\u001b[0m\u001b[0;34m\u001b[0m\u001b[0;34m\u001b[0m\u001b[0m\n\u001b[1;32m    271\u001b[0m                 )\n",
            "\u001b[0;32m/usr/local/lib/python3.10/dist-packages/torch/_tensor_str.py\u001b[0m in \u001b[0;36m_tensor_str_with_formatter\u001b[0;34m(self, indent, summarize, formatter1, formatter2)\u001b[0m\n\u001b[1;32m    266\u001b[0m             ]\n\u001b[1;32m    267\u001b[0m             \u001b[0;34m+\u001b[0m \u001b[0;34m[\u001b[0m\u001b[0;34m\"...\"\u001b[0m\u001b[0;34m]\u001b[0m\u001b[0;34m\u001b[0m\u001b[0;34m\u001b[0m\u001b[0m\n\u001b[0;32m--> 268\u001b[0;31m             + [\n\u001b[0m\u001b[1;32m    269\u001b[0m                 _tensor_str_with_formatter(\n\u001b[1;32m    270\u001b[0m                     \u001b[0mself\u001b[0m\u001b[0;34m[\u001b[0m\u001b[0mi\u001b[0m\u001b[0;34m]\u001b[0m\u001b[0;34m,\u001b[0m \u001b[0mindent\u001b[0m \u001b[0;34m+\u001b[0m \u001b[0;36m1\u001b[0m\u001b[0;34m,\u001b[0m \u001b[0msummarize\u001b[0m\u001b[0;34m,\u001b[0m \u001b[0mformatter1\u001b[0m\u001b[0;34m,\u001b[0m \u001b[0mformatter2\u001b[0m\u001b[0;34m\u001b[0m\u001b[0;34m\u001b[0m\u001b[0m\n",
            "\u001b[0;32m/usr/local/lib/python3.10/dist-packages/torch/_tensor_str.py\u001b[0m in \u001b[0;36m<listcomp>\u001b[0;34m(.0)\u001b[0m\n\u001b[1;32m    267\u001b[0m             \u001b[0;34m+\u001b[0m \u001b[0;34m[\u001b[0m\u001b[0;34m\"...\"\u001b[0m\u001b[0;34m]\u001b[0m\u001b[0;34m\u001b[0m\u001b[0;34m\u001b[0m\u001b[0m\n\u001b[1;32m    268\u001b[0m             + [\n\u001b[0;32m--> 269\u001b[0;31m                 _tensor_str_with_formatter(\n\u001b[0m\u001b[1;32m    270\u001b[0m                     \u001b[0mself\u001b[0m\u001b[0;34m[\u001b[0m\u001b[0mi\u001b[0m\u001b[0;34m]\u001b[0m\u001b[0;34m,\u001b[0m \u001b[0mindent\u001b[0m \u001b[0;34m+\u001b[0m \u001b[0;36m1\u001b[0m\u001b[0;34m,\u001b[0m \u001b[0msummarize\u001b[0m\u001b[0;34m,\u001b[0m \u001b[0mformatter1\u001b[0m\u001b[0;34m,\u001b[0m \u001b[0mformatter2\u001b[0m\u001b[0;34m\u001b[0m\u001b[0;34m\u001b[0m\u001b[0m\n\u001b[1;32m    271\u001b[0m                 )\n",
            "\u001b[0;32m/usr/local/lib/python3.10/dist-packages/torch/_tensor_str.py\u001b[0m in \u001b[0;36m_tensor_str_with_formatter\u001b[0;34m(self, indent, summarize, formatter1, formatter2)\u001b[0m\n\u001b[1;32m    274\u001b[0m         )\n\u001b[1;32m    275\u001b[0m     \u001b[0;32melse\u001b[0m\u001b[0;34m:\u001b[0m\u001b[0;34m\u001b[0m\u001b[0;34m\u001b[0m\u001b[0m\n\u001b[0;32m--> 276\u001b[0;31m         slices = [\n\u001b[0m\u001b[1;32m    277\u001b[0m             _tensor_str_with_formatter(\n\u001b[1;32m    278\u001b[0m                 \u001b[0mself\u001b[0m\u001b[0;34m[\u001b[0m\u001b[0mi\u001b[0m\u001b[0;34m]\u001b[0m\u001b[0;34m,\u001b[0m \u001b[0mindent\u001b[0m \u001b[0;34m+\u001b[0m \u001b[0;36m1\u001b[0m\u001b[0;34m,\u001b[0m \u001b[0msummarize\u001b[0m\u001b[0;34m,\u001b[0m \u001b[0mformatter1\u001b[0m\u001b[0;34m,\u001b[0m \u001b[0mformatter2\u001b[0m\u001b[0;34m\u001b[0m\u001b[0;34m\u001b[0m\u001b[0m\n",
            "\u001b[0;32m/usr/local/lib/python3.10/dist-packages/torch/_tensor_str.py\u001b[0m in \u001b[0;36m<listcomp>\u001b[0;34m(.0)\u001b[0m\n\u001b[1;32m    275\u001b[0m     \u001b[0;32melse\u001b[0m\u001b[0;34m:\u001b[0m\u001b[0;34m\u001b[0m\u001b[0;34m\u001b[0m\u001b[0m\n\u001b[1;32m    276\u001b[0m         slices = [\n\u001b[0;32m--> 277\u001b[0;31m             _tensor_str_with_formatter(\n\u001b[0m\u001b[1;32m    278\u001b[0m                 \u001b[0mself\u001b[0m\u001b[0;34m[\u001b[0m\u001b[0mi\u001b[0m\u001b[0;34m]\u001b[0m\u001b[0;34m,\u001b[0m \u001b[0mindent\u001b[0m \u001b[0;34m+\u001b[0m \u001b[0;36m1\u001b[0m\u001b[0;34m,\u001b[0m \u001b[0msummarize\u001b[0m\u001b[0;34m,\u001b[0m \u001b[0mformatter1\u001b[0m\u001b[0;34m,\u001b[0m \u001b[0mformatter2\u001b[0m\u001b[0;34m\u001b[0m\u001b[0;34m\u001b[0m\u001b[0m\n\u001b[1;32m    279\u001b[0m             )\n",
            "\u001b[0;32m/usr/local/lib/python3.10/dist-packages/torch/_tensor_str.py\u001b[0m in \u001b[0;36m_tensor_str_with_formatter\u001b[0;34m(self, indent, summarize, formatter1, formatter2)\u001b[0m\n\u001b[1;32m    259\u001b[0m     \u001b[0;32mif\u001b[0m \u001b[0msummarize\u001b[0m \u001b[0;32mand\u001b[0m \u001b[0mself\u001b[0m\u001b[0;34m.\u001b[0m\u001b[0msize\u001b[0m\u001b[0;34m(\u001b[0m\u001b[0;36m0\u001b[0m\u001b[0;34m)\u001b[0m \u001b[0;34m>\u001b[0m \u001b[0;36m2\u001b[0m \u001b[0;34m*\u001b[0m \u001b[0mPRINT_OPTS\u001b[0m\u001b[0;34m.\u001b[0m\u001b[0medgeitems\u001b[0m\u001b[0;34m:\u001b[0m\u001b[0;34m\u001b[0m\u001b[0;34m\u001b[0m\u001b[0m\n\u001b[1;32m    260\u001b[0m         slices = (\n\u001b[0;32m--> 261\u001b[0;31m             [\n\u001b[0m\u001b[1;32m    262\u001b[0m                 _tensor_str_with_formatter(\n\u001b[1;32m    263\u001b[0m                     \u001b[0mself\u001b[0m\u001b[0;34m[\u001b[0m\u001b[0mi\u001b[0m\u001b[0;34m]\u001b[0m\u001b[0;34m,\u001b[0m \u001b[0mindent\u001b[0m \u001b[0;34m+\u001b[0m \u001b[0;36m1\u001b[0m\u001b[0;34m,\u001b[0m \u001b[0msummarize\u001b[0m\u001b[0;34m,\u001b[0m \u001b[0mformatter1\u001b[0m\u001b[0;34m,\u001b[0m \u001b[0mformatter2\u001b[0m\u001b[0;34m\u001b[0m\u001b[0;34m\u001b[0m\u001b[0m\n",
            "\u001b[0;32m/usr/local/lib/python3.10/dist-packages/torch/_tensor_str.py\u001b[0m in \u001b[0;36m<listcomp>\u001b[0;34m(.0)\u001b[0m\n\u001b[1;32m    260\u001b[0m         slices = (\n\u001b[1;32m    261\u001b[0m             [\n\u001b[0;32m--> 262\u001b[0;31m                 _tensor_str_with_formatter(\n\u001b[0m\u001b[1;32m    263\u001b[0m                     \u001b[0mself\u001b[0m\u001b[0;34m[\u001b[0m\u001b[0mi\u001b[0m\u001b[0;34m]\u001b[0m\u001b[0;34m,\u001b[0m \u001b[0mindent\u001b[0m \u001b[0;34m+\u001b[0m \u001b[0;36m1\u001b[0m\u001b[0;34m,\u001b[0m \u001b[0msummarize\u001b[0m\u001b[0;34m,\u001b[0m \u001b[0mformatter1\u001b[0m\u001b[0;34m,\u001b[0m \u001b[0mformatter2\u001b[0m\u001b[0;34m\u001b[0m\u001b[0;34m\u001b[0m\u001b[0m\n\u001b[1;32m    264\u001b[0m                 )\n",
            "\u001b[0;32m/usr/local/lib/python3.10/dist-packages/torch/_tensor_str.py\u001b[0m in \u001b[0;36m_tensor_str_with_formatter\u001b[0;34m(self, indent, summarize, formatter1, formatter2)\u001b[0m\n\u001b[1;32m    255\u001b[0m \u001b[0;34m\u001b[0m\u001b[0m\n\u001b[1;32m    256\u001b[0m     \u001b[0;32mif\u001b[0m \u001b[0mdim\u001b[0m \u001b[0;34m==\u001b[0m \u001b[0;36m1\u001b[0m\u001b[0;34m:\u001b[0m\u001b[0;34m\u001b[0m\u001b[0;34m\u001b[0m\u001b[0m\n\u001b[0;32m--> 257\u001b[0;31m         \u001b[0;32mreturn\u001b[0m \u001b[0m_vector_str\u001b[0m\u001b[0;34m(\u001b[0m\u001b[0mself\u001b[0m\u001b[0;34m,\u001b[0m \u001b[0mindent\u001b[0m\u001b[0;34m,\u001b[0m \u001b[0msummarize\u001b[0m\u001b[0;34m,\u001b[0m \u001b[0mformatter1\u001b[0m\u001b[0;34m,\u001b[0m \u001b[0mformatter2\u001b[0m\u001b[0;34m)\u001b[0m\u001b[0;34m\u001b[0m\u001b[0;34m\u001b[0m\u001b[0m\n\u001b[0m\u001b[1;32m    258\u001b[0m \u001b[0;34m\u001b[0m\u001b[0m\n\u001b[1;32m    259\u001b[0m     \u001b[0;32mif\u001b[0m \u001b[0msummarize\u001b[0m \u001b[0;32mand\u001b[0m \u001b[0mself\u001b[0m\u001b[0;34m.\u001b[0m\u001b[0msize\u001b[0m\u001b[0;34m(\u001b[0m\u001b[0;36m0\u001b[0m\u001b[0;34m)\u001b[0m \u001b[0;34m>\u001b[0m \u001b[0;36m2\u001b[0m \u001b[0;34m*\u001b[0m \u001b[0mPRINT_OPTS\u001b[0m\u001b[0;34m.\u001b[0m\u001b[0medgeitems\u001b[0m\u001b[0;34m:\u001b[0m\u001b[0;34m\u001b[0m\u001b[0;34m\u001b[0m\u001b[0m\n",
            "\u001b[0;32m/usr/local/lib/python3.10/dist-packages/torch/_tensor_str.py\u001b[0m in \u001b[0;36m_vector_str\u001b[0;34m(self, indent, summarize, formatter1, formatter2)\u001b[0m\n\u001b[1;32m    233\u001b[0m             \u001b[0;34m[\u001b[0m\u001b[0m_val_formatter\u001b[0m\u001b[0;34m(\u001b[0m\u001b[0mval\u001b[0m\u001b[0;34m)\u001b[0m \u001b[0;32mfor\u001b[0m \u001b[0mval\u001b[0m \u001b[0;32min\u001b[0m \u001b[0mself\u001b[0m\u001b[0;34m[\u001b[0m\u001b[0;34m:\u001b[0m \u001b[0mPRINT_OPTS\u001b[0m\u001b[0;34m.\u001b[0m\u001b[0medgeitems\u001b[0m\u001b[0;34m]\u001b[0m\u001b[0;34m.\u001b[0m\u001b[0mtolist\u001b[0m\u001b[0;34m(\u001b[0m\u001b[0;34m)\u001b[0m\u001b[0;34m]\u001b[0m\u001b[0;34m\u001b[0m\u001b[0;34m\u001b[0m\u001b[0m\n\u001b[1;32m    234\u001b[0m             \u001b[0;34m+\u001b[0m \u001b[0;34m[\u001b[0m\u001b[0;34m\" ...\"\u001b[0m\u001b[0;34m]\u001b[0m\u001b[0;34m\u001b[0m\u001b[0;34m\u001b[0m\u001b[0m\n\u001b[0;32m--> 235\u001b[0;31m             \u001b[0;34m+\u001b[0m \u001b[0;34m[\u001b[0m\u001b[0m_val_formatter\u001b[0m\u001b[0;34m(\u001b[0m\u001b[0mval\u001b[0m\u001b[0;34m)\u001b[0m \u001b[0;32mfor\u001b[0m \u001b[0mval\u001b[0m \u001b[0;32min\u001b[0m \u001b[0mself\u001b[0m\u001b[0;34m[\u001b[0m\u001b[0;34m-\u001b[0m\u001b[0mPRINT_OPTS\u001b[0m\u001b[0;34m.\u001b[0m\u001b[0medgeitems\u001b[0m \u001b[0;34m:\u001b[0m\u001b[0;34m]\u001b[0m\u001b[0;34m.\u001b[0m\u001b[0mtolist\u001b[0m\u001b[0;34m(\u001b[0m\u001b[0;34m)\u001b[0m\u001b[0;34m]\u001b[0m\u001b[0;34m\u001b[0m\u001b[0;34m\u001b[0m\u001b[0m\n\u001b[0m\u001b[1;32m    236\u001b[0m         )\n\u001b[1;32m    237\u001b[0m     \u001b[0;32melse\u001b[0m\u001b[0;34m:\u001b[0m\u001b[0;34m\u001b[0m\u001b[0;34m\u001b[0m\u001b[0m\n",
            "\u001b[0;31mKeyboardInterrupt\u001b[0m: "
          ]
        }
      ]
    },
    {
      "cell_type": "code",
      "source": [
        "len(all_scores)"
      ],
      "metadata": {
        "colab": {
          "base_uri": "https://localhost:8080/"
        },
        "id": "ZKpoxW48wcMn",
        "outputId": "34584a81-0647-40a9-c160-d2e4b348e542"
      },
      "execution_count": 32,
      "outputs": [
        {
          "output_type": "execute_result",
          "data": {
            "text/plain": [
              "3470"
            ]
          },
          "metadata": {},
          "execution_count": 32
        }
      ]
    },
    {
      "cell_type": "markdown",
      "source": [
        "Run time: 3470 found, so around 700 more to go. Est will take 2.5 hrs total."
      ],
      "metadata": {
        "id": "jHmEwLxTxWTq"
      }
    },
    {
      "cell_type": "code",
      "source": [
        "# Sort scores and print top 10\n",
        "sorted_scores = sorted(all_scores, key=lambda x: x[1], reverse=True)\n",
        "for i, (combo, score) in enumerate(sorted_scores[:10]):\n",
        "    print(f\"{i + 1}. Combo: {combo} - Score: {score}\")"
      ],
      "metadata": {
        "colab": {
          "base_uri": "https://localhost:8080/"
        },
        "id": "9wv7TSK2QZhD",
        "outputId": "182ce543-46db-445b-ea63-70d221a436b9"
      },
      "execution_count": 33,
      "outputs": [
        {
          "output_type": "stream",
          "name": "stdout",
          "text": [
            "1. Combo: [(0, 2), (0, 3), (0, 4), (0, 5), (0, 7), (0, 8), (0, 9)] - Score: 2.6552085876464844\n",
            "2. Combo: [(0, 2), (0, 3), (0, 5), (0, 7), (0, 8), (0, 9), (0, 11)] - Score: 2.641260862350464\n",
            "3. Combo: [(0, 2), (0, 3), (0, 5), (0, 7), (0, 8), (0, 9)] - Score: 2.626978635787964\n",
            "4. Combo: [(0, 1), (0, 2), (0, 3), (0, 5), (0, 7), (0, 8), (0, 9)] - Score: 2.626978635787964\n",
            "5. Combo: [(0, 2), (0, 3), (0, 5), (0, 7), (0, 8), (0, 9), (0, 10)] - Score: 2.626978635787964\n",
            "6. Combo: [(0, 2), (0, 3), (0, 5), (0, 6), (0, 7), (0, 8), (0, 9)] - Score: 2.624587297439575\n",
            "7. Combo: [(0, 0), (0, 2), (0, 3), (0, 5), (0, 7), (0, 8), (0, 9)] - Score: 2.6186442375183105\n",
            "8. Combo: [(0, 0), (0, 1), (0, 2), (0, 3), (0, 5), (0, 7), (0, 8), (0, 9)] - Score: 2.6186442375183105\n",
            "9. Combo: [(0, 2), (0, 4), (0, 5), (0, 7), (0, 8), (0, 9), (0, 11)] - Score: 2.6116158962249756\n",
            "10. Combo: [(0, 2), (0, 4), (0, 5), (0, 7), (0, 8), (0, 9)] - Score: 2.597621202468872\n"
          ]
        }
      ]
    },
    {
      "cell_type": "code",
      "source": [
        "import json\n",
        "\n",
        "with open(\"L0_head_combo_scores.json\", \"w\") as file:\n",
        "    json.dump(all_scores, file, default=lambda x: str(x))  # Convert tuples to strings for JSON serialization"
      ],
      "metadata": {
        "id": "AhNKFB38w6ap"
      },
      "execution_count": 34,
      "outputs": []
    },
    {
      "cell_type": "code",
      "source": [
        "from google.colab import files\n",
        "files.download(\"L0_head_combo_scores.json\")  # or \"scores.pkl\" or \"scores.json\" depending on the file you saved"
      ],
      "metadata": {
        "colab": {
          "base_uri": "https://localhost:8080/",
          "height": 17
        },
        "id": "kmTyY79hw8Gz",
        "outputId": "05660600-734a-4c6b-8e67-35c87924f360"
      },
      "execution_count": 35,
      "outputs": [
        {
          "output_type": "display_data",
          "data": {
            "text/plain": [
              "<IPython.core.display.Javascript object>"
            ],
            "application/javascript": [
              "\n",
              "    async function download(id, filename, size) {\n",
              "      if (!google.colab.kernel.accessAllowed) {\n",
              "        return;\n",
              "      }\n",
              "      const div = document.createElement('div');\n",
              "      const label = document.createElement('label');\n",
              "      label.textContent = `Downloading \"${filename}\": `;\n",
              "      div.appendChild(label);\n",
              "      const progress = document.createElement('progress');\n",
              "      progress.max = size;\n",
              "      div.appendChild(progress);\n",
              "      document.body.appendChild(div);\n",
              "\n",
              "      const buffers = [];\n",
              "      let downloaded = 0;\n",
              "\n",
              "      const channel = await google.colab.kernel.comms.open(id);\n",
              "      // Send a message to notify the kernel that we're ready.\n",
              "      channel.send({})\n",
              "\n",
              "      for await (const message of channel.messages) {\n",
              "        // Send a message to notify the kernel that we're ready.\n",
              "        channel.send({})\n",
              "        if (message.buffers) {\n",
              "          for (const buffer of message.buffers) {\n",
              "            buffers.push(buffer);\n",
              "            downloaded += buffer.byteLength;\n",
              "            progress.value = downloaded;\n",
              "          }\n",
              "        }\n",
              "      }\n",
              "      const blob = new Blob(buffers, {type: 'application/binary'});\n",
              "      const a = document.createElement('a');\n",
              "      a.href = window.URL.createObjectURL(blob);\n",
              "      a.download = filename;\n",
              "      div.appendChild(a);\n",
              "      a.click();\n",
              "      div.remove();\n",
              "    }\n",
              "  "
            ]
          },
          "metadata": {}
        },
        {
          "output_type": "display_data",
          "data": {
            "text/plain": [
              "<IPython.core.display.Javascript object>"
            ],
            "application/javascript": [
              "download(\"download_a1759866-40fb-4fc4-8faa-c2655fe45fdb\", \"scores.json\", 291962)"
            ]
          },
          "metadata": {}
        }
      ]
    },
    {
      "cell_type": "markdown",
      "source": [
        "From the top, rank each by their length and find the top within each length sub-group."
      ],
      "metadata": {
        "id": "1eQPsAxTxg0a"
      }
    },
    {
      "cell_type": "markdown",
      "source": [
        "## For every layer, check one head at a time"
      ],
      "metadata": {
        "id": "G7lBtkUvR8Ce"
      }
    },
    {
      "cell_type": "code",
      "source": [
        "all_scores = []\n",
        "base_lst = [(0, 1), (0, 10), (3, 0), (4, 4), (5, 5), (6, 1), (6, 6), (7, 10), (7, 11), (8, 8), (8, 11), (9, 1), (9, 5), (10, 7)]\n",
        "for layer in range(0, 9):\n",
        "    for head in range(0, 12):\n",
        "        print(f\"Layer: {layer}, Head: {head}\")\n",
        "        score = mean_ablate_by_lst(base_lst + [(layer, head)], model, print_output=True)\n",
        "        all_scores.append((str(layer) + \"_\" + str(head), score))"
      ],
      "metadata": {
        "colab": {
          "base_uri": "https://localhost:8080/"
        },
        "id": "y_q5PlRLSJLK",
        "outputId": "a0faa6e4-ca7f-4d5b-8deb-17f6ee249215"
      },
      "execution_count": 21,
      "outputs": [
        {
          "output_type": "stream",
          "name": "stdout",
          "text": [
            "Layer: 0, Head: 0\n",
            "Average logit difference (circuit / full) %: 40.5178\n",
            "Layer: 0, Head: 1\n",
            "Average logit difference (circuit / full) %: 40.9089\n",
            "Layer: 0, Head: 2\n",
            "Average logit difference (circuit / full) %: 42.7250\n",
            "Layer: 0, Head: 3\n",
            "Average logit difference (circuit / full) %: 42.5614\n",
            "Layer: 0, Head: 4\n",
            "Average logit difference (circuit / full) %: 41.4559\n",
            "Layer: 0, Head: 5\n",
            "Average logit difference (circuit / full) %: 42.7423\n",
            "Layer: 0, Head: 6\n",
            "Average logit difference (circuit / full) %: 40.8183\n",
            "Layer: 0, Head: 7\n",
            "Average logit difference (circuit / full) %: 43.5367\n",
            "Layer: 0, Head: 8\n",
            "Average logit difference (circuit / full) %: 42.4776\n",
            "Layer: 0, Head: 9\n",
            "Average logit difference (circuit / full) %: 46.8567\n",
            "Layer: 0, Head: 10\n",
            "Average logit difference (circuit / full) %: 40.9089\n",
            "Layer: 0, Head: 11\n",
            "Average logit difference (circuit / full) %: 41.1140\n",
            "Layer: 1, Head: 0\n",
            "Average logit difference (circuit / full) %: 45.0354\n",
            "Layer: 1, Head: 1\n",
            "Average logit difference (circuit / full) %: 41.8868\n",
            "Layer: 1, Head: 2\n",
            "Average logit difference (circuit / full) %: 41.1248\n",
            "Layer: 1, Head: 3\n",
            "Average logit difference (circuit / full) %: 40.8935\n",
            "Layer: 1, Head: 4\n",
            "Average logit difference (circuit / full) %: 41.4059\n",
            "Layer: 1, Head: 5\n",
            "Average logit difference (circuit / full) %: 49.3504\n",
            "Layer: 1, Head: 6\n",
            "Average logit difference (circuit / full) %: 40.8649\n",
            "Layer: 1, Head: 7\n",
            "Average logit difference (circuit / full) %: 40.5974\n",
            "Layer: 1, Head: 8\n",
            "Average logit difference (circuit / full) %: 40.7729\n",
            "Layer: 1, Head: 9\n",
            "Average logit difference (circuit / full) %: 40.8426\n",
            "Layer: 1, Head: 10\n",
            "Average logit difference (circuit / full) %: 40.6762\n",
            "Layer: 1, Head: 11\n",
            "Average logit difference (circuit / full) %: 46.5625\n",
            "Layer: 2, Head: 0\n",
            "Average logit difference (circuit / full) %: 41.0892\n",
            "Layer: 2, Head: 1\n",
            "Average logit difference (circuit / full) %: 39.6943\n",
            "Layer: 2, Head: 2\n",
            "Average logit difference (circuit / full) %: 45.1838\n",
            "Layer: 2, Head: 3\n",
            "Average logit difference (circuit / full) %: 41.1994\n",
            "Layer: 2, Head: 4\n",
            "Average logit difference (circuit / full) %: 41.3295\n",
            "Layer: 2, Head: 5\n",
            "Average logit difference (circuit / full) %: 40.8163\n",
            "Layer: 2, Head: 6\n",
            "Average logit difference (circuit / full) %: 41.0189\n",
            "Layer: 2, Head: 7\n",
            "Average logit difference (circuit / full) %: 41.1676\n",
            "Layer: 2, Head: 8\n",
            "Average logit difference (circuit / full) %: 41.9849\n",
            "Layer: 2, Head: 9\n",
            "Average logit difference (circuit / full) %: 42.5656\n",
            "Layer: 2, Head: 10\n",
            "Average logit difference (circuit / full) %: 40.8133\n",
            "Layer: 2, Head: 11\n",
            "Average logit difference (circuit / full) %: 40.7296\n",
            "Layer: 3, Head: 0\n",
            "Average logit difference (circuit / full) %: 40.9089\n",
            "Layer: 3, Head: 1\n",
            "Average logit difference (circuit / full) %: 40.7987\n",
            "Layer: 3, Head: 2\n",
            "Average logit difference (circuit / full) %: 40.1545\n",
            "Layer: 3, Head: 3\n",
            "Average logit difference (circuit / full) %: 45.3094\n",
            "Layer: 3, Head: 4\n",
            "Average logit difference (circuit / full) %: 39.9163\n",
            "Layer: 3, Head: 5\n",
            "Average logit difference (circuit / full) %: 40.2180\n",
            "Layer: 3, Head: 6\n",
            "Average logit difference (circuit / full) %: 42.7888\n",
            "Layer: 3, Head: 7\n",
            "Average logit difference (circuit / full) %: 44.1024\n",
            "Layer: 3, Head: 8\n",
            "Average logit difference (circuit / full) %: 41.4565\n",
            "Layer: 3, Head: 9\n",
            "Average logit difference (circuit / full) %: 40.6329\n",
            "Layer: 3, Head: 10\n",
            "Average logit difference (circuit / full) %: 42.6747\n",
            "Layer: 3, Head: 11\n",
            "Average logit difference (circuit / full) %: 40.7866\n",
            "Layer: 4, Head: 0\n",
            "Average logit difference (circuit / full) %: 40.8990\n",
            "Layer: 4, Head: 1\n",
            "Average logit difference (circuit / full) %: 40.7249\n",
            "Layer: 4, Head: 2\n",
            "Average logit difference (circuit / full) %: 41.0432\n",
            "Layer: 4, Head: 3\n",
            "Average logit difference (circuit / full) %: 40.7461\n",
            "Layer: 4, Head: 4\n",
            "Average logit difference (circuit / full) %: 40.9089\n",
            "Layer: 4, Head: 5\n",
            "Average logit difference (circuit / full) %: 40.8698\n",
            "Layer: 4, Head: 6\n",
            "Average logit difference (circuit / full) %: 40.7033\n",
            "Layer: 4, Head: 7\n",
            "Average logit difference (circuit / full) %: 44.6549\n",
            "Layer: 4, Head: 8\n",
            "Average logit difference (circuit / full) %: 41.1586\n",
            "Layer: 4, Head: 9\n",
            "Average logit difference (circuit / full) %: 40.4812\n",
            "Layer: 4, Head: 10\n",
            "Average logit difference (circuit / full) %: 41.6211\n",
            "Layer: 4, Head: 11\n",
            "Average logit difference (circuit / full) %: 45.0441\n",
            "Layer: 5, Head: 0\n",
            "Average logit difference (circuit / full) %: 41.0345\n",
            "Layer: 5, Head: 1\n",
            "Average logit difference (circuit / full) %: 38.8039\n",
            "Layer: 5, Head: 2\n",
            "Average logit difference (circuit / full) %: 38.3462\n",
            "Layer: 5, Head: 3\n",
            "Average logit difference (circuit / full) %: 40.7605\n",
            "Layer: 5, Head: 4\n",
            "Average logit difference (circuit / full) %: 41.1179\n",
            "Layer: 5, Head: 5\n",
            "Average logit difference (circuit / full) %: 40.9089\n",
            "Layer: 5, Head: 6\n",
            "Average logit difference (circuit / full) %: 46.4717\n",
            "Layer: 5, Head: 7\n",
            "Average logit difference (circuit / full) %: 40.8283\n",
            "Layer: 5, Head: 8\n",
            "Average logit difference (circuit / full) %: 26.0361\n",
            "Layer: 5, Head: 9\n",
            "Average logit difference (circuit / full) %: 42.2430\n",
            "Layer: 5, Head: 10\n",
            "Average logit difference (circuit / full) %: 40.7308\n",
            "Layer: 5, Head: 11\n",
            "Average logit difference (circuit / full) %: 40.2955\n",
            "Layer: 6, Head: 0\n",
            "Average logit difference (circuit / full) %: 40.5081\n",
            "Layer: 6, Head: 1\n",
            "Average logit difference (circuit / full) %: 40.9089\n",
            "Layer: 6, Head: 2\n",
            "Average logit difference (circuit / full) %: 40.9648\n",
            "Layer: 6, Head: 3\n",
            "Average logit difference (circuit / full) %: 40.8567\n",
            "Layer: 6, Head: 4\n",
            "Average logit difference (circuit / full) %: 40.2123\n",
            "Layer: 6, Head: 5\n",
            "Average logit difference (circuit / full) %: 38.6495\n",
            "Layer: 6, Head: 6\n",
            "Average logit difference (circuit / full) %: 40.9089\n",
            "Layer: 6, Head: 7\n",
            "Average logit difference (circuit / full) %: 41.3823\n",
            "Layer: 6, Head: 8\n",
            "Average logit difference (circuit / full) %: 42.8084\n",
            "Layer: 6, Head: 9\n",
            "Average logit difference (circuit / full) %: 40.8171\n",
            "Layer: 6, Head: 10\n",
            "Average logit difference (circuit / full) %: 43.4250\n",
            "Layer: 6, Head: 11\n",
            "Average logit difference (circuit / full) %: 41.3460\n",
            "Layer: 7, Head: 0\n",
            "Average logit difference (circuit / full) %: 42.0321\n",
            "Layer: 7, Head: 1\n",
            "Average logit difference (circuit / full) %: 40.9239\n",
            "Layer: 7, Head: 2\n",
            "Average logit difference (circuit / full) %: 41.2695\n",
            "Layer: 7, Head: 3\n",
            "Average logit difference (circuit / full) %: 40.1041\n",
            "Layer: 7, Head: 4\n",
            "Average logit difference (circuit / full) %: 40.7202\n",
            "Layer: 7, Head: 5\n",
            "Average logit difference (circuit / full) %: 40.9456\n",
            "Layer: 7, Head: 6\n",
            "Average logit difference (circuit / full) %: 44.3870\n",
            "Layer: 7, Head: 7\n",
            "Average logit difference (circuit / full) %: 41.1185\n",
            "Layer: 7, Head: 8\n",
            "Average logit difference (circuit / full) %: 40.0660\n",
            "Layer: 7, Head: 9\n",
            "Average logit difference (circuit / full) %: 41.3493\n",
            "Layer: 7, Head: 10\n",
            "Average logit difference (circuit / full) %: 40.9089\n",
            "Layer: 7, Head: 11\n",
            "Average logit difference (circuit / full) %: 40.9089\n",
            "Layer: 8, Head: 0\n",
            "Average logit difference (circuit / full) %: 42.2413\n",
            "Layer: 8, Head: 1\n",
            "Average logit difference (circuit / full) %: 41.3830\n",
            "Layer: 8, Head: 2\n",
            "Average logit difference (circuit / full) %: 41.6725\n",
            "Layer: 8, Head: 3\n",
            "Average logit difference (circuit / full) %: 40.3831\n",
            "Layer: 8, Head: 4\n",
            "Average logit difference (circuit / full) %: 40.8889\n",
            "Layer: 8, Head: 5\n",
            "Average logit difference (circuit / full) %: 40.7905\n",
            "Layer: 8, Head: 6\n",
            "Average logit difference (circuit / full) %: 44.3424\n",
            "Layer: 8, Head: 7\n",
            "Average logit difference (circuit / full) %: 40.8055\n",
            "Layer: 8, Head: 8\n",
            "Average logit difference (circuit / full) %: 40.9089\n",
            "Layer: 8, Head: 9\n",
            "Average logit difference (circuit / full) %: 40.3185\n",
            "Layer: 8, Head: 10\n",
            "Average logit difference (circuit / full) %: 40.3217\n",
            "Layer: 8, Head: 11\n",
            "Average logit difference (circuit / full) %: 40.9089\n"
          ]
        }
      ]
    },
    {
      "cell_type": "markdown",
      "source": [
        "We can also prevent redundant computation of the full circuit score by storing it and just passing it in to the function."
      ],
      "metadata": {
        "id": "xUlhxzuGUr1y"
      }
    },
    {
      "cell_type": "code",
      "source": [
        "# Sort scores and print top 10\n",
        "sorted_scores = sorted(all_scores, key=lambda x: x[1], reverse=True)\n",
        "for i, (combo, score) in enumerate(sorted_scores[:10]):\n",
        "    print(f\"{i + 1}. L_H: {combo} - Score: {score}\")"
      ],
      "metadata": {
        "colab": {
          "base_uri": "https://localhost:8080/"
        },
        "outputId": "19bb91e2-f1ea-4536-e6f7-c8182484c321",
        "id": "q-QaMm_fU1rv"
      },
      "execution_count": 23,
      "outputs": [
        {
          "output_type": "stream",
          "name": "stdout",
          "text": [
            "1. L_H: 1_5 - Score: 2.281831741333008\n",
            "2. L_H: 0_9 - Score: 2.166531562805176\n",
            "3. L_H: 1_11 - Score: 2.1529273986816406\n",
            "4. L_H: 5_6 - Score: 2.148730516433716\n",
            "5. L_H: 3_3 - Score: 2.094987630844116\n",
            "6. L_H: 2_2 - Score: 2.0891830921173096\n",
            "7. L_H: 4_11 - Score: 2.082721471786499\n",
            "8. L_H: 1_0 - Score: 2.0823211669921875\n",
            "9. L_H: 4_7 - Score: 2.0647270679473877\n",
            "10. L_H: 7_6 - Score: 2.052337408065796\n"
          ]
        }
      ]
    },
    {
      "cell_type": "markdown",
      "source": [
        "L1, H5 deemed important, as it was also deemed important on the path patching heatmaps. But overall, we NEED combos- just adding one head doesn't make that much difference in the score."
      ],
      "metadata": {
        "id": "8AQv1WaVU9xK"
      }
    },
    {
      "cell_type": "code",
      "source": [
        "import json\n",
        "\n",
        "with open(\"one_head_added_scores.json\", \"w\") as file:\n",
        "    json.dump(all_scores, file, default=lambda x: str(x))  # Convert tuples to strings for JSON serialization"
      ],
      "metadata": {
        "id": "UNTjGSd4U1r5"
      },
      "execution_count": 24,
      "outputs": []
    },
    {
      "cell_type": "code",
      "source": [
        "from google.colab import files\n",
        "files.download(\"one_head_added_scores.json\")  # or \"scores.pkl\" or \"scores.json\" depending on the file you saved"
      ],
      "metadata": {
        "colab": {
          "base_uri": "https://localhost:8080/",
          "height": 17
        },
        "outputId": "41cf8973-e8ea-4796-c7e4-6c97d0724164",
        "id": "wUEqYKZ5U1r6"
      },
      "execution_count": 25,
      "outputs": [
        {
          "output_type": "display_data",
          "data": {
            "text/plain": [
              "<IPython.core.display.Javascript object>"
            ],
            "application/javascript": [
              "\n",
              "    async function download(id, filename, size) {\n",
              "      if (!google.colab.kernel.accessAllowed) {\n",
              "        return;\n",
              "      }\n",
              "      const div = document.createElement('div');\n",
              "      const label = document.createElement('label');\n",
              "      label.textContent = `Downloading \"${filename}\": `;\n",
              "      div.appendChild(label);\n",
              "      const progress = document.createElement('progress');\n",
              "      progress.max = size;\n",
              "      div.appendChild(progress);\n",
              "      document.body.appendChild(div);\n",
              "\n",
              "      const buffers = [];\n",
              "      let downloaded = 0;\n",
              "\n",
              "      const channel = await google.colab.kernel.comms.open(id);\n",
              "      // Send a message to notify the kernel that we're ready.\n",
              "      channel.send({})\n",
              "\n",
              "      for await (const message of channel.messages) {\n",
              "        // Send a message to notify the kernel that we're ready.\n",
              "        channel.send({})\n",
              "        if (message.buffers) {\n",
              "          for (const buffer of message.buffers) {\n",
              "            buffers.push(buffer);\n",
              "            downloaded += buffer.byteLength;\n",
              "            progress.value = downloaded;\n",
              "          }\n",
              "        }\n",
              "      }\n",
              "      const blob = new Blob(buffers, {type: 'application/binary'});\n",
              "      const a = document.createElement('a');\n",
              "      a.href = window.URL.createObjectURL(blob);\n",
              "      a.download = filename;\n",
              "      div.appendChild(a);\n",
              "      a.click();\n",
              "      div.remove();\n",
              "    }\n",
              "  "
            ]
          },
          "metadata": {}
        },
        {
          "output_type": "display_data",
          "data": {
            "text/plain": [
              "<IPython.core.display.Javascript object>"
            ],
            "application/javascript": [
              "download(\"download_f15d2ec7-9d13-41b6-9dc7-e441269e1323\", \"one_head_added_scores.json\", 4770)"
            ]
          },
          "metadata": {}
        }
      ]
    }
  ]
}