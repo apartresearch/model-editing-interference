{
  "nbformat": 4,
  "nbformat_minor": 0,
  "metadata": {
    "colab": {
      "provenance": [],
      "toc_visible": true
    },
    "kernelspec": {
      "name": "python3",
      "display_name": "Python 3"
    },
    "language_info": {
      "name": "python"
    }
  },
  "cells": [
    {
      "cell_type": "markdown",
      "metadata": {
        "id": "DcZG9rm2IAiA"
      },
      "source": [
        "# Setup\n",
        "(No need to change anything)"
      ]
    },
    {
      "cell_type": "code",
      "execution_count": 46,
      "metadata": {
        "id": "rMcpSDdjIAiA",
        "colab": {
          "base_uri": "https://localhost:8080/"
        },
        "outputId": "6e6ad056-c833-448d-c176-5324a446e3cb"
      },
      "outputs": [
        {
          "output_type": "stream",
          "name": "stdout",
          "text": [
            "Running as a Colab notebook\n",
            "Collecting git+https://github.com/neelnanda-io/TransformerLens.git\n",
            "  Cloning https://github.com/neelnanda-io/TransformerLens.git to /tmp/pip-req-build-sa_v46nq\n",
            "  Running command git clone --filter=blob:none --quiet https://github.com/neelnanda-io/TransformerLens.git /tmp/pip-req-build-sa_v46nq\n",
            "  Resolved https://github.com/neelnanda-io/TransformerLens.git to commit 0825c5eb4196e7ad72d28bcf4e615306b3897490\n",
            "  Installing build dependencies ... \u001b[?25l\u001b[?25hdone\n",
            "  Getting requirements to build wheel ... \u001b[?25l\u001b[?25hdone\n",
            "  Preparing metadata (pyproject.toml) ... \u001b[?25l\u001b[?25hdone\n",
            "Requirement already satisfied: accelerate>=0.23.0 in /usr/local/lib/python3.10/dist-packages (from transformer-lens==0.0.0) (0.25.0)\n",
            "Requirement already satisfied: beartype<0.15.0,>=0.14.1 in /usr/local/lib/python3.10/dist-packages (from transformer-lens==0.0.0) (0.14.1)\n",
            "Requirement already satisfied: datasets>=2.7.1 in /usr/local/lib/python3.10/dist-packages (from transformer-lens==0.0.0) (2.15.0)\n",
            "Requirement already satisfied: einops>=0.6.0 in /usr/local/lib/python3.10/dist-packages (from transformer-lens==0.0.0) (0.7.0)\n",
            "Requirement already satisfied: fancy-einsum>=0.0.3 in /usr/local/lib/python3.10/dist-packages (from transformer-lens==0.0.0) (0.0.3)\n",
            "Requirement already satisfied: jaxtyping>=0.2.11 in /usr/local/lib/python3.10/dist-packages (from transformer-lens==0.0.0) (0.2.24)\n",
            "Requirement already satisfied: numpy>=1.24 in /usr/local/lib/python3.10/dist-packages (from transformer-lens==0.0.0) (1.26.2)\n",
            "Requirement already satisfied: nvidia-cublas-cu12>=12.1.3.1 in /usr/local/lib/python3.10/dist-packages (from transformer-lens==0.0.0) (12.1.3.1)\n",
            "Requirement already satisfied: nvidia-cuda-cupti-cu12>=12.1.105 in /usr/local/lib/python3.10/dist-packages (from transformer-lens==0.0.0) (12.1.105)\n",
            "Requirement already satisfied: nvidia-cuda-nvrtc-cu12>=12.1.105 in /usr/local/lib/python3.10/dist-packages (from transformer-lens==0.0.0) (12.1.105)\n",
            "Requirement already satisfied: nvidia-cuda-runtime-cu12>=12.1.105 in /usr/local/lib/python3.10/dist-packages (from transformer-lens==0.0.0) (12.1.105)\n",
            "Requirement already satisfied: nvidia-cudnn-cu12>=8.9.2.26 in /usr/local/lib/python3.10/dist-packages (from transformer-lens==0.0.0) (8.9.2.26)\n",
            "Requirement already satisfied: nvidia-cufft-cu12>=11.0.2.54 in /usr/local/lib/python3.10/dist-packages (from transformer-lens==0.0.0) (11.0.2.54)\n",
            "Requirement already satisfied: nvidia-curand-cu12>=10.3.2.106 in /usr/local/lib/python3.10/dist-packages (from transformer-lens==0.0.0) (10.3.2.106)\n",
            "Requirement already satisfied: nvidia-cusolver-cu12>=11.4.5.107 in /usr/local/lib/python3.10/dist-packages (from transformer-lens==0.0.0) (11.4.5.107)\n",
            "Requirement already satisfied: nvidia-cusparse-cu12>=12.1.0.106 in /usr/local/lib/python3.10/dist-packages (from transformer-lens==0.0.0) (12.1.0.106)\n",
            "Requirement already satisfied: nvidia-nccl-cu12>=2.18.1 in /usr/local/lib/python3.10/dist-packages (from transformer-lens==0.0.0) (2.18.1)\n",
            "Requirement already satisfied: nvidia-nvtx-cu12>=12.1.105 in /usr/local/lib/python3.10/dist-packages (from transformer-lens==0.0.0) (12.1.105)\n",
            "Requirement already satisfied: pandas>=1.1.5 in /usr/local/lib/python3.10/dist-packages (from transformer-lens==0.0.0) (1.5.3)\n",
            "Requirement already satisfied: rich>=12.6.0 in /usr/local/lib/python3.10/dist-packages (from transformer-lens==0.0.0) (13.7.0)\n",
            "Requirement already satisfied: torch!=2.0,!=2.1.0,>=1.10 in /usr/local/lib/python3.10/dist-packages (from transformer-lens==0.0.0) (2.1.1)\n",
            "Requirement already satisfied: tqdm>=4.64.1 in /usr/local/lib/python3.10/dist-packages (from transformer-lens==0.0.0) (4.66.1)\n",
            "Requirement already satisfied: transformers>=4.25.1 in /usr/local/lib/python3.10/dist-packages (from transformer-lens==0.0.0) (4.35.2)\n",
            "Requirement already satisfied: triton>=2.1.0 in /usr/local/lib/python3.10/dist-packages (from transformer-lens==0.0.0) (2.1.0)\n",
            "Requirement already satisfied: typing-extensions in /usr/local/lib/python3.10/dist-packages (from transformer-lens==0.0.0) (4.5.0)\n",
            "Requirement already satisfied: wandb>=0.13.5 in /usr/local/lib/python3.10/dist-packages (from transformer-lens==0.0.0) (0.16.1)\n",
            "Requirement already satisfied: packaging>=20.0 in /usr/local/lib/python3.10/dist-packages (from accelerate>=0.23.0->transformer-lens==0.0.0) (23.2)\n",
            "Requirement already satisfied: psutil in /usr/local/lib/python3.10/dist-packages (from accelerate>=0.23.0->transformer-lens==0.0.0) (5.9.5)\n",
            "Requirement already satisfied: pyyaml in /usr/local/lib/python3.10/dist-packages (from accelerate>=0.23.0->transformer-lens==0.0.0) (6.0.1)\n",
            "Requirement already satisfied: huggingface-hub in /usr/local/lib/python3.10/dist-packages (from accelerate>=0.23.0->transformer-lens==0.0.0) (0.19.4)\n",
            "Requirement already satisfied: safetensors>=0.3.1 in /usr/local/lib/python3.10/dist-packages (from accelerate>=0.23.0->transformer-lens==0.0.0) (0.4.1)\n",
            "Requirement already satisfied: pyarrow>=8.0.0 in /usr/local/lib/python3.10/dist-packages (from datasets>=2.7.1->transformer-lens==0.0.0) (9.0.0)\n",
            "Requirement already satisfied: pyarrow-hotfix in /usr/local/lib/python3.10/dist-packages (from datasets>=2.7.1->transformer-lens==0.0.0) (0.6)\n",
            "Requirement already satisfied: dill<0.3.8,>=0.3.0 in /usr/local/lib/python3.10/dist-packages (from datasets>=2.7.1->transformer-lens==0.0.0) (0.3.7)\n",
            "Requirement already satisfied: requests>=2.19.0 in /usr/local/lib/python3.10/dist-packages (from datasets>=2.7.1->transformer-lens==0.0.0) (2.31.0)\n",
            "Requirement already satisfied: xxhash in /usr/local/lib/python3.10/dist-packages (from datasets>=2.7.1->transformer-lens==0.0.0) (3.4.1)\n",
            "Requirement already satisfied: multiprocess in /usr/local/lib/python3.10/dist-packages (from datasets>=2.7.1->transformer-lens==0.0.0) (0.70.15)\n",
            "Requirement already satisfied: fsspec[http]<=2023.10.0,>=2023.1.0 in /usr/local/lib/python3.10/dist-packages (from datasets>=2.7.1->transformer-lens==0.0.0) (2023.6.0)\n",
            "Requirement already satisfied: aiohttp in /usr/local/lib/python3.10/dist-packages (from datasets>=2.7.1->transformer-lens==0.0.0) (3.9.1)\n",
            "Requirement already satisfied: typeguard<3,>=2.13.3 in /usr/local/lib/python3.10/dist-packages (from jaxtyping>=0.2.11->transformer-lens==0.0.0) (2.13.3)\n",
            "Requirement already satisfied: nvidia-nvjitlink-cu12 in /usr/local/lib/python3.10/dist-packages (from nvidia-cusolver-cu12>=11.4.5.107->transformer-lens==0.0.0) (12.3.101)\n",
            "Requirement already satisfied: python-dateutil>=2.8.1 in /usr/local/lib/python3.10/dist-packages (from pandas>=1.1.5->transformer-lens==0.0.0) (2.8.2)\n",
            "Requirement already satisfied: pytz>=2020.1 in /usr/local/lib/python3.10/dist-packages (from pandas>=1.1.5->transformer-lens==0.0.0) (2023.3.post1)\n",
            "Requirement already satisfied: markdown-it-py>=2.2.0 in /usr/local/lib/python3.10/dist-packages (from rich>=12.6.0->transformer-lens==0.0.0) (3.0.0)\n",
            "Requirement already satisfied: pygments<3.0.0,>=2.13.0 in /usr/local/lib/python3.10/dist-packages (from rich>=12.6.0->transformer-lens==0.0.0) (2.16.1)\n",
            "Requirement already satisfied: filelock in /usr/local/lib/python3.10/dist-packages (from torch!=2.0,!=2.1.0,>=1.10->transformer-lens==0.0.0) (3.13.1)\n",
            "Requirement already satisfied: sympy in /usr/local/lib/python3.10/dist-packages (from torch!=2.0,!=2.1.0,>=1.10->transformer-lens==0.0.0) (1.12)\n",
            "Requirement already satisfied: networkx in /usr/local/lib/python3.10/dist-packages (from torch!=2.0,!=2.1.0,>=1.10->transformer-lens==0.0.0) (3.2.1)\n",
            "Requirement already satisfied: jinja2 in /usr/local/lib/python3.10/dist-packages (from torch!=2.0,!=2.1.0,>=1.10->transformer-lens==0.0.0) (3.1.2)\n",
            "Requirement already satisfied: regex!=2019.12.17 in /usr/local/lib/python3.10/dist-packages (from transformers>=4.25.1->transformer-lens==0.0.0) (2023.6.3)\n",
            "Requirement already satisfied: tokenizers<0.19,>=0.14 in /usr/local/lib/python3.10/dist-packages (from transformers>=4.25.1->transformer-lens==0.0.0) (0.15.0)\n",
            "Requirement already satisfied: Click!=8.0.0,>=7.1 in /usr/local/lib/python3.10/dist-packages (from wandb>=0.13.5->transformer-lens==0.0.0) (8.1.7)\n",
            "Requirement already satisfied: GitPython!=3.1.29,>=1.0.0 in /usr/local/lib/python3.10/dist-packages (from wandb>=0.13.5->transformer-lens==0.0.0) (3.1.40)\n",
            "Requirement already satisfied: sentry-sdk>=1.0.0 in /usr/local/lib/python3.10/dist-packages (from wandb>=0.13.5->transformer-lens==0.0.0) (1.38.0)\n",
            "Requirement already satisfied: docker-pycreds>=0.4.0 in /usr/local/lib/python3.10/dist-packages (from wandb>=0.13.5->transformer-lens==0.0.0) (0.4.0)\n",
            "Requirement already satisfied: setproctitle in /usr/local/lib/python3.10/dist-packages (from wandb>=0.13.5->transformer-lens==0.0.0) (1.3.3)\n",
            "Requirement already satisfied: setuptools in /usr/local/lib/python3.10/dist-packages (from wandb>=0.13.5->transformer-lens==0.0.0) (67.7.2)\n",
            "Requirement already satisfied: appdirs>=1.4.3 in /usr/local/lib/python3.10/dist-packages (from wandb>=0.13.5->transformer-lens==0.0.0) (1.4.4)\n",
            "Requirement already satisfied: protobuf!=4.21.0,<5,>=3.19.0 in /usr/local/lib/python3.10/dist-packages (from wandb>=0.13.5->transformer-lens==0.0.0) (3.20.3)\n",
            "Requirement already satisfied: six>=1.4.0 in /usr/local/lib/python3.10/dist-packages (from docker-pycreds>=0.4.0->wandb>=0.13.5->transformer-lens==0.0.0) (1.16.0)\n",
            "Requirement already satisfied: attrs>=17.3.0 in /usr/local/lib/python3.10/dist-packages (from aiohttp->datasets>=2.7.1->transformer-lens==0.0.0) (23.1.0)\n",
            "Requirement already satisfied: multidict<7.0,>=4.5 in /usr/local/lib/python3.10/dist-packages (from aiohttp->datasets>=2.7.1->transformer-lens==0.0.0) (6.0.4)\n",
            "Requirement already satisfied: yarl<2.0,>=1.0 in /usr/local/lib/python3.10/dist-packages (from aiohttp->datasets>=2.7.1->transformer-lens==0.0.0) (1.9.3)\n",
            "Requirement already satisfied: frozenlist>=1.1.1 in /usr/local/lib/python3.10/dist-packages (from aiohttp->datasets>=2.7.1->transformer-lens==0.0.0) (1.4.0)\n",
            "Requirement already satisfied: aiosignal>=1.1.2 in /usr/local/lib/python3.10/dist-packages (from aiohttp->datasets>=2.7.1->transformer-lens==0.0.0) (1.3.1)\n",
            "Requirement already satisfied: async-timeout<5.0,>=4.0 in /usr/local/lib/python3.10/dist-packages (from aiohttp->datasets>=2.7.1->transformer-lens==0.0.0) (4.0.3)\n",
            "Requirement already satisfied: gitdb<5,>=4.0.1 in /usr/local/lib/python3.10/dist-packages (from GitPython!=3.1.29,>=1.0.0->wandb>=0.13.5->transformer-lens==0.0.0) (4.0.11)\n",
            "Requirement already satisfied: mdurl~=0.1 in /usr/local/lib/python3.10/dist-packages (from markdown-it-py>=2.2.0->rich>=12.6.0->transformer-lens==0.0.0) (0.1.2)\n",
            "Requirement already satisfied: charset-normalizer<4,>=2 in /usr/local/lib/python3.10/dist-packages (from requests>=2.19.0->datasets>=2.7.1->transformer-lens==0.0.0) (3.3.2)\n",
            "Requirement already satisfied: idna<4,>=2.5 in /usr/local/lib/python3.10/dist-packages (from requests>=2.19.0->datasets>=2.7.1->transformer-lens==0.0.0) (3.6)\n",
            "Requirement already satisfied: urllib3<3,>=1.21.1 in /usr/local/lib/python3.10/dist-packages (from requests>=2.19.0->datasets>=2.7.1->transformer-lens==0.0.0) (2.0.7)\n",
            "Requirement already satisfied: certifi>=2017.4.17 in /usr/local/lib/python3.10/dist-packages (from requests>=2.19.0->datasets>=2.7.1->transformer-lens==0.0.0) (2023.11.17)\n",
            "Requirement already satisfied: MarkupSafe>=2.0 in /usr/local/lib/python3.10/dist-packages (from jinja2->torch!=2.0,!=2.1.0,>=1.10->transformer-lens==0.0.0) (2.1.3)\n",
            "Requirement already satisfied: mpmath>=0.19 in /usr/local/lib/python3.10/dist-packages (from sympy->torch!=2.0,!=2.1.0,>=1.10->transformer-lens==0.0.0) (1.3.0)\n",
            "Requirement already satisfied: smmap<6,>=3.0.1 in /usr/local/lib/python3.10/dist-packages (from gitdb<5,>=4.0.1->GitPython!=3.1.29,>=1.0.0->wandb>=0.13.5->transformer-lens==0.0.0) (5.0.1)\n"
          ]
        }
      ],
      "source": [
        "# Janky code to do different setup when run in a Colab notebook vs VSCode\n",
        "DEBUG_MODE = False\n",
        "try:\n",
        "    import google.colab\n",
        "    IN_COLAB = True\n",
        "    print(\"Running as a Colab notebook\")\n",
        "    %pip install git+https://github.com/neelnanda-io/TransformerLens.git\n",
        "    # Install another version of node that makes PySvelte work way faster\n",
        "    # !curl -fsSL https://deb.nodesource.com/setup_16.x | sudo -E bash -; sudo apt-get install -y nodejs\n",
        "    # %pip install git+https://github.com/neelnanda-io/PySvelte.git\n",
        "except:\n",
        "    IN_COLAB = False\n",
        "    print(\"Running as a Jupyter notebook - intended for development only!\")\n",
        "    from IPython import get_ipython\n",
        "\n",
        "    ipython = get_ipython()\n",
        "    # Code to automatically update the HookedTransformer code as its edited without restarting the kernel\n",
        "    ipython.magic(\"load_ext autoreload\")\n",
        "    ipython.magic(\"autoreload 2\")"
      ]
    },
    {
      "cell_type": "code",
      "execution_count": 47,
      "metadata": {
        "id": "Z6b1n2tvIAiD"
      },
      "outputs": [],
      "source": [
        "# Import stuff\n",
        "import torch\n",
        "import torch.nn as nn\n",
        "import torch.nn.functional as F\n",
        "import torch.optim as optim\n",
        "import numpy as np\n",
        "import einops\n",
        "from fancy_einsum import einsum\n",
        "import tqdm.notebook as tqdm\n",
        "import random\n",
        "from pathlib import Path\n",
        "import plotly.express as px\n",
        "from torch.utils.data import DataLoader\n",
        "\n",
        "from jaxtyping import Float, Int\n",
        "from typing import List, Union, Optional\n",
        "from functools import partial\n",
        "import copy\n",
        "\n",
        "import itertools\n",
        "from transformers import AutoModelForCausalLM, AutoConfig, AutoTokenizer\n",
        "import dataclasses\n",
        "import datasets\n",
        "from IPython.display import HTML"
      ]
    },
    {
      "cell_type": "code",
      "execution_count": 48,
      "metadata": {
        "id": "zuhzYxbsIAiE"
      },
      "outputs": [],
      "source": [
        "import transformer_lens\n",
        "import transformer_lens.utils as utils\n",
        "from transformer_lens.hook_points import (\n",
        "    HookedRootModule,\n",
        "    HookPoint,\n",
        ")  # Hooking utilities\n",
        "from transformer_lens import HookedTransformer, HookedTransformerConfig, FactoredMatrix, ActivationCache"
      ]
    },
    {
      "cell_type": "markdown",
      "metadata": {
        "id": "hccba0v-IAiF"
      },
      "source": [
        "We turn automatic differentiation off, to save GPU memory, as this notebook focuses on model inference not model training."
      ]
    },
    {
      "cell_type": "code",
      "execution_count": 49,
      "metadata": {
        "id": "cFMTUcQiIAiF",
        "colab": {
          "base_uri": "https://localhost:8080/"
        },
        "outputId": "71be493c-5db6-4500-81da-71aa57ede0dc"
      },
      "outputs": [
        {
          "output_type": "execute_result",
          "data": {
            "text/plain": [
              "<torch.autograd.grad_mode.set_grad_enabled at 0x7d8c1b553a60>"
            ]
          },
          "metadata": {},
          "execution_count": 49
        }
      ],
      "source": [
        "torch.set_grad_enabled(False)"
      ]
    },
    {
      "cell_type": "markdown",
      "source": [
        "## Load Model"
      ],
      "metadata": {
        "id": "OLkInsdjyHMx"
      }
    },
    {
      "cell_type": "code",
      "execution_count": 50,
      "metadata": {
        "id": "xLwDyosvIAiJ",
        "colab": {
          "base_uri": "https://localhost:8080/"
        },
        "outputId": "e01706b1-27ba-48b8-e4ab-9d7cd5b0532e"
      },
      "outputs": [
        {
          "output_type": "stream",
          "name": "stdout",
          "text": [
            "Loaded pretrained model gpt2-small into HookedTransformer\n"
          ]
        }
      ],
      "source": [
        "model = HookedTransformer.from_pretrained(\n",
        "    \"gpt2-small\",\n",
        "    center_unembed=True,\n",
        "    center_writing_weights=True,\n",
        "    fold_ln=True,\n",
        "    refactor_factored_attn_matrices=True,\n",
        ")"
      ]
    },
    {
      "cell_type": "markdown",
      "source": [
        "## Import functions from repo"
      ],
      "metadata": {
        "id": "Z4iJEGh6b56v"
      }
    },
    {
      "cell_type": "code",
      "source": [
        "!git clone https://github.com/callummcdougall/ARENA_2.0.git"
      ],
      "metadata": {
        "id": "Fdh5--MfYw7-",
        "colab": {
          "base_uri": "https://localhost:8080/"
        },
        "outputId": "463432b6-b3a9-4b2d-e25c-74fb16e92140"
      },
      "execution_count": 51,
      "outputs": [
        {
          "output_type": "stream",
          "name": "stdout",
          "text": [
            "Cloning into 'ARENA_2.0'...\n",
            "remote: Enumerating objects: 9262, done.\u001b[K\n",
            "remote: Counting objects: 100% (1976/1976), done.\u001b[K\n",
            "remote: Compressing objects: 100% (344/344), done.\u001b[K\n",
            "remote: Total 9262 (delta 1727), reused 1731 (delta 1628), pack-reused 7286\u001b[K\n",
            "Receiving objects: 100% (9262/9262), 156.79 MiB | 15.30 MiB/s, done.\n",
            "Resolving deltas: 100% (5620/5620), done.\n",
            "Updating files: 100% (387/387), done.\n"
          ]
        }
      ]
    },
    {
      "cell_type": "code",
      "source": [
        "cd ARENA_2.0/chapter1_transformers/exercises/part3_indirect_object_identification"
      ],
      "metadata": {
        "colab": {
          "base_uri": "https://localhost:8080/"
        },
        "id": "fhmqg_vsng4S",
        "outputId": "a4f4f7b9-a18c-4144-e466-0e87cbbd50f8"
      },
      "execution_count": 52,
      "outputs": [
        {
          "output_type": "stream",
          "name": "stdout",
          "text": [
            "/content/ARENA_2.0/chapter1_transformers/exercises/part3_indirect_object_identification/ARENA_2.0/chapter1_transformers/exercises/part3_indirect_object_identification\n"
          ]
        }
      ]
    },
    {
      "cell_type": "code",
      "source": [
        "import ioi_circuit_extraction as ioi_circuit_extraction"
      ],
      "metadata": {
        "id": "OT0Sn571ZnkV"
      },
      "execution_count": 53,
      "outputs": []
    },
    {
      "cell_type": "code",
      "source": [
        "from ioi_dataset import IOIDataset"
      ],
      "metadata": {
        "id": "QfLqx5QkO5hV"
      },
      "execution_count": 54,
      "outputs": []
    },
    {
      "cell_type": "markdown",
      "source": [
        "# test![Screenshot 2023-12-10 000124.png](data:image/png;base64,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)"
      ],
      "metadata": {
        "id": "Q74PH3CiSgw8"
      }
    },
    {
      "cell_type": "code",
      "source": [
        "def remove_batch_dim(\n",
        "    tensor: Float[torch.Tensor, \"1 ...\"]\n",
        ") -> Float[torch.Tensor, \"...\"]:\n",
        "    \"\"\"\n",
        "    Removes the first dimension of a tensor if it is size 1, otherwise returns the tensor unchanged\n",
        "    \"\"\"\n",
        "    if tensor.shape[0] == 1:\n",
        "        return tensor.squeeze(0)\n",
        "    else:\n",
        "        return tensor\n",
        "\n",
        "def test_prompt(\n",
        "    prompt: str,\n",
        "    answer: str,\n",
        "    model,\n",
        "    orig_model,\n",
        "    prepend_space_to_answer: bool = True,\n",
        "    print_details: bool = True,\n",
        "    prepend_bos: bool = True,\n",
        "    top_k: int = 10,\n",
        "):\n",
        "    \"\"\"\n",
        "    Function to test whether a model can give the correct answer to a prompt. Intended for exploratory analysis, so it prints things out rather than returning things.\n",
        "\n",
        "    Works for multi-token answers and multi-token prompts.\n",
        "\n",
        "    Will always print the ranks of the answer tokens, and if print_details will print the logit and prob for the answer tokens and the top k tokens returned for each answer position.\n",
        "    \"\"\"\n",
        "    if prepend_space_to_answer and not answer.startswith(\" \"):\n",
        "        answer = \" \" + answer\n",
        "    # GPT-2 often treats the first token weirdly, so lets give it a resting position\n",
        "    tokens = orig_model.to_tokens(prompt + answer, prepend_bos=prepend_bos)\n",
        "\n",
        "\n",
        "    prompt_str_tokens = orig_model.to_str_tokens(prompt, prepend_bos=prepend_bos)\n",
        "    answer_str_tokens = orig_model.to_str_tokens(answer, prepend_bos=False)\n",
        "    prompt_length = len(prompt_str_tokens)\n",
        "    answer_length = len(answer_str_tokens)\n",
        "    if print_details:\n",
        "        print(\"Tokenized prompt:\", prompt_str_tokens)\n",
        "        print(\"Tokenized answer:\", answer_str_tokens)\n",
        "\n",
        "    logits = remove_batch_dim(model(tokens))\n",
        "\n",
        "    probs = logits.softmax(dim=-1)\n",
        "    answer_ranks = []\n",
        "    for index in range(prompt_length, prompt_length + answer_length):\n",
        "        answer_token = tokens[0, index]\n",
        "        answer_str_token = answer_str_tokens[index - prompt_length]\n",
        "        # Offset by 1 because models predict the NEXT token\n",
        "        token_probs = probs[index - 1]\n",
        "        sorted_token_probs, sorted_token_values = token_probs.sort(descending=True) # sorted_token_values are the indices; the indices correspond to token num of vocab\n",
        "        # Janky way to get the index of the token in the sorted list - I couldn't find a better way?\n",
        "        correct_rank = torch.arange(len(sorted_token_values))[\n",
        "            (sorted_token_values == answer_token).cpu()\n",
        "        ].item()\n",
        "        answer_ranks.append((answer_str_token, correct_rank))\n",
        "        if print_details:\n",
        "            # String formatting syntax - the first number gives the number of characters to pad to, the second number gives the number of decimal places.\n",
        "            # rprint gives rich text printing\n",
        "            print(\n",
        "                f\"Performance on answer token:\\n[b]Rank: {correct_rank: <8} Logit: {logits[index-1, answer_token].item():5.2f} Prob: {token_probs[answer_token].item():6.2%} Token: |{answer_str_token}|[/b]\"\n",
        "            )\n",
        "            for i in range(top_k):\n",
        "                print(\n",
        "                    f\"Top {i}th token. Logit: {logits[index-1, sorted_token_values[i]].item():5.2f} Prob: {sorted_token_probs[i].item():6.2%} Token: |{orig_model.to_string(sorted_token_values[i])}|\"\n",
        "                )\n",
        "    print(f\"[b]Ranks of the answer tokens:[/b] {answer_ranks}\")"
      ],
      "metadata": {
        "id": "Hba_G6MBShaH"
      },
      "execution_count": 86,
      "outputs": []
    },
    {
      "cell_type": "code",
      "source": [
        "prompt = \"1 2 3 4\"\n",
        "answer = \" 5\"\n",
        "\n",
        "prompt_str_tokens = model.to_str_tokens(prompt, prepend_bos=True)\n",
        "answer_str_tokens = model.to_str_tokens(answer, prepend_bos=False)\n",
        "prompt_length = len(prompt_str_tokens)\n",
        "answer_length = len(answer_str_tokens)\n",
        "\n",
        "print(\"Tokenized prompt:\", prompt_str_tokens)\n",
        "print(\"Tokenized answer:\", answer_str_tokens)"
      ],
      "metadata": {
        "colab": {
          "base_uri": "https://localhost:8080/"
        },
        "id": "8SdB_gJ2YVjc",
        "outputId": "b2e6253b-c7c1-404b-8e51-de628f26dcdf"
      },
      "execution_count": 87,
      "outputs": [
        {
          "output_type": "stream",
          "name": "stdout",
          "text": [
            "Tokenized prompt: ['<|endoftext|>', '1', ' 2', ' 3', ' 4']\n",
            "Tokenized answer: [' 5']\n"
          ]
        }
      ]
    },
    {
      "cell_type": "code",
      "source": [
        "model.reset_hooks(including_permanent=True)\n",
        "# tokens = model.to_tokens(prompt)\n",
        "tokens = model.to_tokens(prompt + answer, prepend_bos=True)"
      ],
      "metadata": {
        "id": "p3HrKuNqTGUd"
      },
      "execution_count": 88,
      "outputs": []
    },
    {
      "cell_type": "code",
      "source": [
        "logits = model(tokens)"
      ],
      "metadata": {
        "id": "gag2c_g5XbLq"
      },
      "execution_count": 89,
      "outputs": []
    },
    {
      "cell_type": "code",
      "source": [
        "logits.size()"
      ],
      "metadata": {
        "colab": {
          "base_uri": "https://localhost:8080/"
        },
        "id": "9QWg04azXsEl",
        "outputId": "ba8a4661-de9c-4536-9896-e1459069bd95"
      },
      "execution_count": 90,
      "outputs": [
        {
          "output_type": "execute_result",
          "data": {
            "text/plain": [
              "torch.Size([1, 6, 50257])"
            ]
          },
          "metadata": {},
          "execution_count": 90
        }
      ]
    },
    {
      "cell_type": "code",
      "source": [
        "logits = logits.squeeze(0)\n",
        "logits.size()"
      ],
      "metadata": {
        "colab": {
          "base_uri": "https://localhost:8080/"
        },
        "id": "jXykhgaOX1Yt",
        "outputId": "73993dd7-f9ee-40b6-f144-ca2a2fd79fbb"
      },
      "execution_count": 91,
      "outputs": [
        {
          "output_type": "execute_result",
          "data": {
            "text/plain": [
              "torch.Size([6, 50257])"
            ]
          },
          "metadata": {},
          "execution_count": 91
        }
      ]
    },
    {
      "cell_type": "code",
      "source": [
        "top_k = 6\n",
        "\n",
        "probs = logits.softmax(dim=-1)\n",
        "answer_ranks = []\n",
        "for index in range(prompt_length, prompt_length + answer_length):\n",
        "    answer_token = tokens[0, index]\n",
        "    answer_str_token = answer_str_tokens[index - prompt_length]\n",
        "    # Offset by 1 because models predict the NEXT token\n",
        "    token_probs = probs[index - 1]\n",
        "    sorted_token_probs, sorted_token_values = token_probs.sort(descending=True) # sorted_token_values are the indices; the indices correspond to token num of vocab\n",
        "    # Janky way to get the index of the token in the sorted list - I couldn't find a better way?\n",
        "    correct_rank = torch.arange(len(sorted_token_values))[\n",
        "        (sorted_token_values == answer_token).cpu()\n",
        "    ].item()\n",
        "    answer_ranks.append((answer_str_token, correct_rank))\n",
        "\n",
        "    # String formatting syntax - the first number gives the number of characters to pad to, the second number gives the number of decimal places.\n",
        "    # rprint gives rich text printing\n",
        "    print(\n",
        "        f\"Performance on answer token:\\n[b]Rank: {correct_rank: <8} Logit: {logits[index-1, answer_token].item():5.2f} Prob: {token_probs[answer_token].item():6.2%} Token: |{answer_str_token}|[/b]\"\n",
        "    )\n",
        "    for i in range(top_k):\n",
        "        print(\n",
        "            f\"Top {i}th token. Logit: {logits[index-1, sorted_token_values[i]].item():5.2f} Prob: {sorted_token_probs[i].item():6.2%} Token: |{model.to_string(sorted_token_values[i])}|\"\n",
        "        )\n",
        "print(f\"[b]Ranks of the answer tokens:[/b] {answer_ranks}\")"
      ],
      "metadata": {
        "colab": {
          "base_uri": "https://localhost:8080/"
        },
        "id": "3l412M9zTdGO",
        "outputId": "0210e6f1-2e0d-4b63-a982-351627dfff87"
      },
      "execution_count": 92,
      "outputs": [
        {
          "output_type": "stream",
          "name": "stdout",
          "text": [
            "Performance on answer token:\n",
            "[b]Rank: 0        Logit: 18.76 Prob: 96.18% Token: | 5|[/b]\n",
            "Top 0th token. Logit: 18.76 Prob: 96.18% Token: | 5|\n",
            "Top 1th token. Logit: 13.27 Prob:  0.40% Token: | Next|\n",
            "Top 2th token. Logit: 13.01 Prob:  0.30% Token: |\n",
            "|\n",
            "Top 3th token. Logit: 12.87 Prob:  0.27% Token: | >|\n",
            "Top 4th token. Logit: 12.04 Prob:  0.12% Token: | 4|\n",
            "Top 5th token. Logit: 11.88 Prob:  0.10% Token: | 50|\n",
            "[b]Ranks of the answer tokens:[/b] [(' 5', 0)]\n"
          ]
        }
      ]
    },
    {
      "cell_type": "markdown",
      "source": [
        "# Generate dataset with multiple prompts"
      ],
      "metadata": {
        "id": "6Fuq8XW770vX"
      }
    },
    {
      "cell_type": "code",
      "source": [
        "class Dataset:\n",
        "    def __init__(self, prompts, pos_dict, tokenizer, S1_is_first=False):\n",
        "        self.prompts = prompts\n",
        "        self.tokenizer = tokenizer\n",
        "        self.N = len(prompts)\n",
        "        self.max_len = max(\n",
        "            [\n",
        "                len(self.tokenizer(prompt[\"text\"]).input_ids)\n",
        "                for prompt in self.prompts\n",
        "            ]\n",
        "        )\n",
        "        # all_ids = [prompt[\"TEMPLATE_IDX\"] for prompt in self.ioi_prompts]\n",
        "        all_ids = [0 for prompt in self.prompts] # only 1 template\n",
        "        all_ids_ar = np.array(all_ids)\n",
        "        self.groups = []\n",
        "        for id in list(set(all_ids)):\n",
        "            self.groups.append(np.where(all_ids_ar == id)[0])\n",
        "\n",
        "        texts = [ prompt[\"text\"] for prompt in self.prompts ]\n",
        "        self.toks = torch.Tensor(self.tokenizer(texts, padding=True).input_ids).type(\n",
        "            torch.int\n",
        "        )\n",
        "        self.corr_tokenIDs = [\n",
        "            self.tokenizer.encode(\" \" + prompt[\"corr\"])[0] for prompt in self.prompts\n",
        "        ]\n",
        "        self.incorr_tokenIDs = [\n",
        "            self.tokenizer.encode(\" \" + prompt[\"incorr\"])[0] for prompt in self.prompts\n",
        "        ]\n",
        "\n",
        "        # word_idx: for every prompt, find the token index of each target token and \"end\"\n",
        "        # word_idx is a tensor with an element for each prompt. The element is the targ token's ind at that prompt\n",
        "        self.word_idx = {}\n",
        "        for targ in [key for key in self.prompts[0].keys() if (key != 'text' and key != 'corr' and key != 'incorr')]:\n",
        "            targ_lst = []\n",
        "            for prompt in self.prompts:\n",
        "                input_text = prompt[\"text\"]\n",
        "                tokens = model.tokenizer.tokenize(input_text)\n",
        "                # if S1_is_first and targ == \"S1\":  # only use this if first token doesn't have space Ġ in front\n",
        "                #     target_token = prompt[targ]\n",
        "                # else:\n",
        "                #     target_token = \"Ġ\" + prompt[targ]\n",
        "                # target_index = tokens.index(target_token)\n",
        "                target_index = pos_dict[targ]\n",
        "                targ_lst.append(target_index)\n",
        "            self.word_idx[targ] = torch.tensor(targ_lst)\n",
        "\n",
        "        targ_lst = []\n",
        "        for prompt in self.prompts:\n",
        "            input_text = prompt[\"text\"]\n",
        "            tokens = self.tokenizer.tokenize(input_text)\n",
        "            end_token_index = len(tokens) - 1\n",
        "            targ_lst.append(end_token_index)\n",
        "        self.word_idx[\"end\"] = torch.tensor(targ_lst)\n",
        "\n",
        "    def __len__(self):\n",
        "        return self.N"
      ],
      "metadata": {
        "id": "4wXBNWj5FwVn"
      },
      "execution_count": 55,
      "outputs": []
    },
    {
      "cell_type": "code",
      "source": [
        "pos_dict = {\n",
        "    'S1': 0,\n",
        "    'S2': 1,\n",
        "    'S3': 2,\n",
        "    'S4': 3,\n",
        "}"
      ],
      "metadata": {
        "id": "kS_Tlrb_70vg"
      },
      "execution_count": 56,
      "outputs": []
    },
    {
      "cell_type": "code",
      "source": [
        "def generate_prompts_list(x ,y):\n",
        "    prompts_list = []\n",
        "    for i in range(x, y):\n",
        "        prompt_dict = {\n",
        "            'S1': str(i),\n",
        "            'S2': str(i+1),\n",
        "            'S3': str(i+2),\n",
        "            'S4': str(i+3),\n",
        "            'corr': str(i+4),\n",
        "            'incorr': str(i+3),\n",
        "            'text': f\"{i} {i+1} {i+2} {i+3}\"\n",
        "        }\n",
        "        prompts_list.append(prompt_dict)\n",
        "    return prompts_list\n",
        "\n",
        "prompts_list = generate_prompts_list(1, 101)\n",
        "dataset = Dataset(prompts_list, pos_dict, model.tokenizer, S1_is_first=True)"
      ],
      "metadata": {
        "id": "u0NPSKcZ1iDe"
      },
      "execution_count": 57,
      "outputs": []
    },
    {
      "cell_type": "code",
      "source": [
        "import random\n",
        "\n",
        "def generate_prompts_list_corr(x ,y):\n",
        "    prompts_list = []\n",
        "    for i in range(x, y):\n",
        "        r1 = random.randint(1, 100)\n",
        "        r2 = random.randint(1, 100)\n",
        "        while True:\n",
        "            r3 = random.randint(1, 100)\n",
        "            r4 = random.randint(1, 100)\n",
        "            if r4 - 1 != r3:\n",
        "                break\n",
        "        prompt_dict = {\n",
        "            'S1': str(r1),\n",
        "            'S2': str(r2),\n",
        "            'S3': str(r3),\n",
        "            'S4': str(r4),\n",
        "            'corr': str(i+4),\n",
        "            'incorr': str(i+3),\n",
        "            'text': f\"{r1} {r2} {r3} {r4}\"\n",
        "        }\n",
        "        prompts_list.append(prompt_dict)\n",
        "    return prompts_list\n",
        "\n",
        "prompts_list_2 = generate_prompts_list_corr(1, 101)\n",
        "# prompts_list_2 = generate_prompts_list_corr(1, 2)\n",
        "dataset_2 = Dataset(prompts_list_2, pos_dict, model.tokenizer, S1_is_first=True)"
      ],
      "metadata": {
        "id": "dzzLlCqZS_wl"
      },
      "execution_count": 121,
      "outputs": []
    },
    {
      "cell_type": "code",
      "source": [
        "dataset_2 = Dataset(prompts_list_2, pos_dict, model.tokenizer, S1_is_first=True)"
      ],
      "metadata": {
        "id": "msu6D4p_feW5"
      },
      "execution_count": 122,
      "outputs": []
    },
    {
      "cell_type": "markdown",
      "source": [
        "# MLP ablation fns"
      ],
      "metadata": {
        "id": "G9FQY3H3zkFV"
      }
    },
    {
      "cell_type": "code",
      "source": [
        "from typing import Dict, Tuple, List\n",
        "from jaxtyping import Float, Bool\n",
        "import torch as t\n",
        "\n",
        "# lst = [(layer, head) for layer in range(12) for head in range(12)]\n",
        "lst = [layer for layer in range(12)]\n",
        "CIRCUIT = {\n",
        "    \"number mover\": lst,\n",
        "    # \"number mover 4\": lst,\n",
        "    \"number mover 3\": lst,\n",
        "    \"number mover 2\": lst,\n",
        "    \"number mover 1\": lst,\n",
        "}\n",
        "\n",
        "SEQ_POS_TO_KEEP = {\n",
        "    \"number mover\": \"end\",\n",
        "    # \"number mover 4\": \"S4\",\n",
        "    \"number mover 3\": \"S3\",\n",
        "    \"number mover 2\": \"S2\",\n",
        "    \"number mover 1\": \"S1\",\n",
        "}\n",
        "\n",
        "def logits_to_ave_logit_diff(logits: Float[Tensor, \"batch seq d_vocab\"], dataset: Dataset, per_prompt=False):\n",
        "    '''\n",
        "    Returns logit difference between the correct and incorrect answer.\n",
        "\n",
        "    If per_prompt=True, return the array of differences rather than the average.\n",
        "    '''\n",
        "\n",
        "    # Only the final logits are relevant for the answer\n",
        "    # Get the logits corresponding to the indirect object / subject tokens respectively\n",
        "    corr_logits: Float[Tensor, \"batch\"] = logits[range(logits.size(0)), dataset.word_idx[\"end\"], dataset.corr_tokenIDs]\n",
        "    incorr_logits: Float[Tensor, \"batch\"] = logits[range(logits.size(0)), dataset.word_idx[\"end\"], dataset.incorr_tokenIDs]\n",
        "    # Find logit difference\n",
        "    answer_logit_diff = corr_logits - incorr_logits\n",
        "    return answer_logit_diff if per_prompt else answer_logit_diff.mean()"
      ],
      "metadata": {
        "id": "tIZoAvLqz1Sd"
      },
      "execution_count": 60,
      "outputs": []
    },
    {
      "cell_type": "code",
      "source": [
        "def compute_means_by_template_MLP(\n",
        "    means_dataset: Dataset,\n",
        "    model: HookedTransformer\n",
        ") -> Float[Tensor, \"layer batch seq head_idx d_head\"]:\n",
        "    '''\n",
        "    Returns the mean of each head's output over the means dataset. This mean is\n",
        "    computed separately for each group of prompts with the same template (these\n",
        "    are given by means_dataset.groups).\n",
        "    '''\n",
        "    # Cache the outputs of every head\n",
        "    _, means_cache = model.run_with_cache(\n",
        "        means_dataset.toks.long(),\n",
        "        return_type=None,\n",
        "        # names_filter=lambda name: name.endswith(\"z\"),\n",
        "    )\n",
        "    # Create tensor to store means\n",
        "    n_layers, d_model = model.cfg.n_layers, model.cfg.d_model\n",
        "    batch, seq_len = len(means_dataset), means_dataset.max_len\n",
        "    means = t.zeros(size=(n_layers, batch, seq_len, d_model), device=model.cfg.device)\n",
        "\n",
        "    # Get set of different templates for this data\n",
        "    for layer in range(n_layers):\n",
        "        mlp_output_for_this_layer: Float[Tensor, \"batch seq d_model\"] = means_cache[utils.get_act_name(\"mlp_out\", layer)]\n",
        "        for template_group in means_dataset.groups:  # here, we only have one group\n",
        "            mlp_output_for_this_template = mlp_output_for_this_layer[template_group]\n",
        "            # aggregate all batches\n",
        "            mlp_output_means_for_this_template = einops.reduce(mlp_output_for_this_template, \"batch seq d_model -> seq d_model\", \"mean\")\n",
        "            means[layer, template_group] = mlp_output_means_for_this_template\n",
        "            # at layer, each batch ind is tempalte group (a tensor of size seq d_model)\n",
        "            # is assigned the SAME mean, \"mlp_output_means_for_this_template\"\n",
        "\n",
        "    # # Get set of different templates for this data\n",
        "    # for layer in range(model.cfg.n_layers):\n",
        "    #     z_for_this_layer: Float[Tensor, \"batch seq head d_head\"] = means_cache[utils.get_act_name(\"z\", layer)]\n",
        "    #     for template_group in means_dataset.groups:\n",
        "    #         z_for_this_template = z_for_this_layer[template_group]\n",
        "    #         z_means_for_this_template = einops.reduce(z_for_this_template, \"batch seq head d_head -> seq head d_head\", \"mean\")\n",
        "    #         means[layer, template_group] = z_means_for_this_template\n",
        "\n",
        "    return means"
      ],
      "metadata": {
        "id": "McmRZoY7Wudl"
      },
      "execution_count": 61,
      "outputs": []
    },
    {
      "cell_type": "code",
      "source": [
        "model.reset_hooks(including_permanent=True)\n",
        "\n",
        "# Compute the mean of each head's output on the ABC dataset, grouped by template\n",
        "means = compute_means_by_template_MLP(dataset_2, model)\n",
        "means.size()"
      ],
      "metadata": {
        "colab": {
          "base_uri": "https://localhost:8080/"
        },
        "id": "M00-ztUFs7xI",
        "outputId": "dea45dee-1f28-4e3a-cef9-64fbb04fb223"
      },
      "execution_count": 62,
      "outputs": [
        {
          "output_type": "execute_result",
          "data": {
            "text/plain": [
              "torch.Size([12, 100, 4, 768])"
            ]
          },
          "metadata": {},
          "execution_count": 62
        }
      ]
    },
    {
      "cell_type": "code",
      "source": [
        "def get_mlp_outputs_and_posns_to_keep(\n",
        "    means_dataset: Dataset,\n",
        "    model: HookedTransformer,\n",
        "    circuit: Dict[str, List[int]],  # Adjusted to hold list of layers instead of (layer, head) tuples\n",
        "    seq_pos_to_keep: Dict[str, str],\n",
        ") -> Dict[int, Bool[Tensor, \"batch seq\"]]:  # Adjusted the return type to \"batch seq\"\n",
        "    '''\n",
        "    Returns a dictionary mapping layers to a boolean mask giving the indices of the\n",
        "    MLP output which *shouldn't* be mean-ablated.\n",
        "\n",
        "    The output of this function will be used for the hook function that does ablation.\n",
        "    '''\n",
        "    mlp_outputs_and_posns_to_keep = {}\n",
        "    batch, seq = len(means_dataset), means_dataset.max_len\n",
        "\n",
        "    for layer in range(model.cfg.n_layers):\n",
        "        mask = t.zeros(size=(batch, seq))\n",
        "\n",
        "        for (mlp_type, layer_list) in circuit.items():\n",
        "            seq_pos = seq_pos_to_keep[mlp_type]\n",
        "            indices = means_dataset.word_idx[seq_pos]\n",
        "            if layer in layer_list:  # Check if the current layer is in the layer list for this mlp_type\n",
        "                mask[:, indices] = 1\n",
        "\n",
        "        mlp_outputs_and_posns_to_keep[layer] = mask.bool()\n",
        "\n",
        "    return mlp_outputs_and_posns_to_keep"
      ],
      "metadata": {
        "id": "MH4KI_wCu7M-"
      },
      "execution_count": 63,
      "outputs": []
    },
    {
      "cell_type": "code",
      "source": [
        "mlp_outputs_and_posns_to_keep = get_mlp_outputs_and_posns_to_keep(dataset_2, model, CIRCUIT, SEQ_POS_TO_KEEP)"
      ],
      "metadata": {
        "id": "TU9VwBwquaIj"
      },
      "execution_count": 64,
      "outputs": []
    },
    {
      "cell_type": "code",
      "source": [
        "def hook_fn_mask_mlp_out(\n",
        "    mlp_out: Float[Tensor, \"batch seq d_mlp\"],\n",
        "    hook: HookPoint,\n",
        "    mlp_outputs_and_posns_to_keep: Dict[int, Bool[Tensor, \"batch seq\"]],\n",
        "    means: Float[Tensor, \"layer batch seq d_mlp\"],\n",
        ") -> Float[Tensor, \"batch seq d_mlp\"]:\n",
        "    '''\n",
        "    Hook function which masks the MLP output of a transformer layer.\n",
        "\n",
        "    mlp_outputs_and_posns_to_keep\n",
        "        Dict created with the get_mlp_outputs_and_posns_to_keep function. This tells\n",
        "        us where to mask.\n",
        "\n",
        "    means\n",
        "        Tensor of mean MLP output values of the means_dataset over each group of prompts\n",
        "        with the same template. This tells us what values to mask with.\n",
        "    '''\n",
        "    # Get the mask for this layer, adapted for MLP output structure\n",
        "    mask_for_this_layer = mlp_outputs_and_posns_to_keep[hook.layer()].unsqueeze(-1).to(mlp_out.device)\n",
        "\n",
        "    # Set MLP output values to the mean where necessary\n",
        "    mlp_out = t.where(mask_for_this_layer, mlp_out, means[hook.layer()])\n",
        "\n",
        "    return mlp_out"
      ],
      "metadata": {
        "id": "fXWq7V0Mv0F4"
      },
      "execution_count": 65,
      "outputs": []
    },
    {
      "cell_type": "code",
      "source": [
        "# def add_mean_ablation_hook(\n",
        "#     model: HookedTransformer,\n",
        "#     means_dataset: Dataset,\n",
        "#     circuit: Dict[str, List[Tuple[int, int]]] = CIRCUIT,\n",
        "#     seq_pos_to_keep: Dict[str, str] = SEQ_POS_TO_KEEP,\n",
        "#     is_permanent: bool = True,\n",
        "# ) -> HookedTransformer:\n",
        "#     '''\n",
        "#     Adds a permanent hook to the model, which ablates according to the circuit and\n",
        "#     seq_pos_to_keep dictionaries.\n",
        "\n",
        "#     In other words, when the model is run on ioi_dataset, every head's output will\n",
        "#     be replaced with the mean over means_dataset for sequences with the same template,\n",
        "#     except for a subset of heads and sequence positions as specified by the circuit\n",
        "#     and seq_pos_to_keep dicts.\n",
        "#     '''\n",
        "\n",
        "#     model.reset_hooks(including_permanent=True)\n",
        "\n",
        "#     # Compute the mean of each head's output on the ABC dataset, grouped by template\n",
        "#     means = compute_means_by_template(means_dataset, model)\n",
        "\n",
        "#     # Convert this into a boolean map\n",
        "#     heads_and_posns_to_keep = get_heads_and_posns_to_keep(means_dataset, model, circuit, seq_pos_to_keep)\n",
        "\n",
        "#     # Get a hook function which will patch in the mean z values for each head, at\n",
        "#     # all positions which aren't important for the circuit\n",
        "#     hook_fn = partial(\n",
        "#         hook_fn_mask_z,\n",
        "#         heads_and_posns_to_keep=heads_and_posns_to_keep,\n",
        "#         means=means\n",
        "#     )\n",
        "\n",
        "#     # Apply hook\n",
        "#     model.add_hook(lambda name: name.endswith(\"z\"), hook_fn, is_permanent=is_permanent)\n",
        "\n",
        "#     return model"
      ],
      "metadata": {
        "id": "JDKKsMBfWcAl"
      },
      "execution_count": 66,
      "outputs": []
    },
    {
      "cell_type": "code",
      "source": [
        "model.reset_hooks(including_permanent=True)\n",
        "logits_orig, orig_cache = model.run_with_cache(dataset.toks)\n",
        "orig_score = logits_to_ave_logit_diff(logits_orig, dataset)"
      ],
      "metadata": {
        "id": "oug8qZm81f-B"
      },
      "execution_count": 67,
      "outputs": []
    },
    {
      "cell_type": "code",
      "source": [
        "logits_orig.size()"
      ],
      "metadata": {
        "colab": {
          "base_uri": "https://localhost:8080/"
        },
        "id": "ZLs_RFV19luW",
        "outputId": "437ccc99-fd82-41f6-d41d-9817749c9f00"
      },
      "execution_count": 133,
      "outputs": [
        {
          "output_type": "execute_result",
          "data": {
            "text/plain": [
              "torch.Size([100, 4, 50257])"
            ]
          },
          "metadata": {},
          "execution_count": 133
        }
      ]
    },
    {
      "cell_type": "code",
      "source": [
        "model.reset_hooks(including_permanent=True)  #must do this after running with mean ablation hook\n",
        "\n",
        "# Get a hook function which will patch in the mean MLP output values for each MLP layer, at\n",
        "# all positions which aren't important for the circuit\n",
        "hook_fn = partial(\n",
        "    hook_fn_mask_mlp_out,\n",
        "    mlp_outputs_and_posns_to_keep = mlp_outputs_and_posns_to_keep,\n",
        "    means=means\n",
        ")\n",
        "\n",
        "# Apply hook\n",
        "model.add_hook(lambda name: name.endswith(\"mlp_out\"), hook_fn, is_permanent=True)\n",
        "\n",
        "new_logits = model(dataset.toks)\n",
        "# new_logits.size()\n",
        "\n",
        "new_score = logits_to_ave_logit_diff(new_logits, dataset)\n",
        "\n",
        "print(f\"Average logit difference (dataset, using entire model): {orig_score:.4f}\")\n",
        "print(f\"Average logit difference (dataset, only using circuit): {new_score:.4f}\")\n",
        "print(f\"Average logit difference (circuit / full) %: {100 * new_score / orig_score:.4f}\")"
      ],
      "metadata": {
        "colab": {
          "base_uri": "https://localhost:8080/"
        },
        "id": "Ko9b8NYPwIlv",
        "outputId": "4c5e49cf-387f-4d2a-c850-21614ccdc0f0"
      },
      "execution_count": 68,
      "outputs": [
        {
          "output_type": "stream",
          "name": "stdout",
          "text": [
            "Average logit difference (dataset, using entire model): 5.8226\n",
            "Average logit difference (dataset, only using circuit): 5.8226\n",
            "Average logit difference (circuit / full) %: 100.0000\n"
          ]
        }
      ]
    },
    {
      "cell_type": "code",
      "source": [
        "def add_mean_ablation_hook_MLP(\n",
        "    model: HookedTransformer,\n",
        "    means_dataset: Dataset,\n",
        "    circuit: Dict[str, List[Tuple[int, int]]] = CIRCUIT,\n",
        "    seq_pos_to_keep: Dict[str, str] = SEQ_POS_TO_KEEP,\n",
        "    is_permanent: bool = True,\n",
        ") -> HookedTransformer:\n",
        "    '''\n",
        "    Adds a permanent hook to the model, which ablates according to the circuit and\n",
        "    seq_pos_to_keep dictionaries.\n",
        "\n",
        "    In other words, when the model is run on ioi_dataset, every head's output will\n",
        "    be replaced with the mean over means_dataset for sequences with the same template,\n",
        "    except for a subset of heads and sequence positions as specified by the circuit\n",
        "    and seq_pos_to_keep dicts.\n",
        "    '''\n",
        "\n",
        "    model.reset_hooks(including_permanent=True)\n",
        "\n",
        "    # Compute the mean of each head's output on the ABC dataset, grouped by template\n",
        "    means = compute_means_by_template_MLP(means_dataset, model)\n",
        "\n",
        "    # Convert this into a boolean map\n",
        "    mlp_outputs_and_posns_to_keep = get_mlp_outputs_and_posns_to_keep(means_dataset, model, circuit, seq_pos_to_keep)\n",
        "\n",
        "    # Get a hook function which will patch in the mean z values for each head, at\n",
        "    # all positions which aren't important for the circuit\n",
        "    hook_fn = partial(\n",
        "        hook_fn_mask_mlp_out,\n",
        "        mlp_outputs_and_posns_to_keep=mlp_outputs_and_posns_to_keep,\n",
        "        means=means\n",
        "    )\n",
        "\n",
        "    # Apply hook\n",
        "    model.add_hook(lambda name: name.endswith(\"mlp_out\"), hook_fn, is_permanent=True)\n",
        "\n",
        "    return model"
      ],
      "metadata": {
        "id": "sJlawX18v-yD"
      },
      "execution_count": 70,
      "outputs": []
    },
    {
      "cell_type": "code",
      "source": [
        "def mean_ablate_by_lst_MLP(lst, model, orig_score, print_output=True):\n",
        "    CIRCUIT = {\n",
        "        \"number mover\": lst,\n",
        "        # \"number mover 4\": lst,\n",
        "        \"number mover 3\": lst,\n",
        "        \"number mover 2\": lst,\n",
        "        \"number mover 1\": lst,\n",
        "    }\n",
        "\n",
        "    SEQ_POS_TO_KEEP = {\n",
        "        \"number mover\": \"end\",\n",
        "        # \"number mover 4\": \"S4\",\n",
        "        \"number mover 3\": \"S3\",\n",
        "        \"number mover 2\": \"S2\",\n",
        "        \"number mover 1\": \"S1\",\n",
        "    }\n",
        "\n",
        "    model.reset_hooks(including_permanent=True)  #must do this after running with mean ablation hook\n",
        "\n",
        "    # ioi_logits_original, ioi_cache = model.run_with_cache(dataset.toks)\n",
        "\n",
        "    model = add_mean_ablation_hook_MLP(model, means_dataset=dataset_2, circuit=CIRCUIT, seq_pos_to_keep=SEQ_POS_TO_KEEP)\n",
        "    new_logits = model(dataset.toks)\n",
        "\n",
        "    # orig_score = logits_to_ave_logit_diff_2(ioi_logits_original, dataset)\n",
        "    new_score = logits_to_ave_logit_diff(new_logits, dataset)\n",
        "    if print_output:\n",
        "        # print(f\"Average logit difference (IOI dataset, using entire model): {orig_score:.4f}\")\n",
        "        # print(f\"Average logit difference (IOI dataset, only using circuit): {new_score:.4f}\")\n",
        "        print(f\"Average logit difference (circuit / full) %: {100 * new_score / orig_score:.4f}\")\n",
        "    # return new_score\n",
        "    return 100 * new_score / orig_score"
      ],
      "metadata": {
        "id": "Ko6itvH15NtO"
      },
      "execution_count": 71,
      "outputs": []
    },
    {
      "cell_type": "code",
      "source": [
        "lst = [layer for layer in range(12) if layer !=9]\n",
        "perc_of_orig = mean_ablate_by_lst_MLP(lst, model, orig_score, print_output=False).item()\n",
        "perc_of_orig"
      ],
      "metadata": {
        "id": "NDt2mk245r94"
      },
      "execution_count": null,
      "outputs": []
    },
    {
      "cell_type": "code",
      "source": [
        "for i in range(12):\n",
        "    lst = [layer for layer in range(12) if layer != i]\n",
        "    perc_of_orig = mean_ablate_by_lst_MLP(lst, model, orig_score, print_output=False).item()\n",
        "    print(i, perc_of_orig)"
      ],
      "metadata": {
        "id": "I9SR5ETh6BWw"
      },
      "execution_count": null,
      "outputs": []
    },
    {
      "cell_type": "code",
      "source": [
        "mlp_to_not_ablate = [0, 1, 2, 4, 6, 9, 10, 11]\n",
        "perc_of_orig = mean_ablate_by_lst_MLP(mlp_to_not_ablate, model, orig_score, print_output=False).item()\n",
        "print(perc_of_orig)"
      ],
      "metadata": {
        "id": "kszdCRW_6cmS"
      },
      "execution_count": null,
      "outputs": []
    },
    {
      "cell_type": "code",
      "source": [
        "mlp_to_not_ablate = [0, 1, 2, 3, 4, 5, 6, 7, 8, 9]\n",
        "perc_of_orig = mean_ablate_by_lst_MLP(mlp_to_not_ablate, model, orig_score, print_output=False).item()\n",
        "print(perc_of_orig)"
      ],
      "metadata": {
        "id": "LkydYsX97OUc"
      },
      "execution_count": null,
      "outputs": []
    },
    {
      "cell_type": "code",
      "source": [
        "mlp_to_not_ablate = [0, 1, 2, 3, 4, 5, 6, 7, 8, 9, 10]\n",
        "perc_of_orig = mean_ablate_by_lst_MLP(mlp_to_not_ablate, model, orig_score, print_output=False).item()\n",
        "print(perc_of_orig)"
      ],
      "metadata": {
        "id": "Vg_k9Vfw7vY2"
      },
      "execution_count": null,
      "outputs": []
    },
    {
      "cell_type": "code",
      "source": [
        "mlp_to_not_ablate = [0, 8, 9, 10, 11]\n",
        "perc_of_orig = mean_ablate_by_lst_MLP(mlp_to_not_ablate, model, orig_score, print_output=False).item()\n",
        "print(perc_of_orig)"
      ],
      "metadata": {
        "id": "1ZTAj7twGVrT"
      },
      "execution_count": null,
      "outputs": []
    },
    {
      "cell_type": "markdown",
      "source": [
        "# ablate model and run"
      ],
      "metadata": {
        "id": "WWceCS9oY6PZ"
      }
    },
    {
      "cell_type": "code",
      "source": [
        "def test_prompt(\n",
        "    prompt: str,\n",
        "    answer: str,\n",
        "    model,  # Can't give type hint due to circular imports\n",
        "    prepend_space_to_answer: Optional[bool] = True,\n",
        "    print_details: Optional[bool] = True,\n",
        "    prepend_bos: Optional[bool] = USE_DEFAULT_VALUE,\n",
        "    top_k: Optional[int] = 10,\n",
        ") -> None:\n",
        "    \"\"\"Test if the Model Can Give the Correct Answer to a Prompt.\n",
        "\n",
        "    Intended for exploratory analysis. Prints out the performance on the answer (rank, logit, prob),\n",
        "    as well as the top k tokens. Works for multi-token prompts and multi-token answers.\n",
        "\n",
        "    Warning:\n",
        "\n",
        "    This will print the results (it does not return them).\n",
        "\n",
        "    Examples:\n",
        "\n",
        "    >>> from transformer_lens import HookedTransformer, utils\n",
        "    >>> model = HookedTransformer.from_pretrained(\"tiny-stories-1M\")\n",
        "    Loaded pretrained model tiny-stories-1M into HookedTransformer\n",
        "\n",
        "    >>> prompt = \"Why did the elephant cross the\"\n",
        "    >>> answer = \"road\"\n",
        "    >>> utils.test_prompt(prompt, answer, model)\n",
        "    Tokenized prompt: ['<|endoftext|>', 'Why', ' did', ' the', ' elephant', ' cross', ' the']\n",
        "    Tokenized answer: [' road']\n",
        "    Performance on answer token:\n",
        "    Rank: 2        Logit: 14.24 Prob:  3.51% Token: | road|\n",
        "    Top 0th token. Logit: 14.51 Prob:  4.59% Token: | ground|\n",
        "    Top 1th token. Logit: 14.41 Prob:  4.18% Token: | tree|\n",
        "    Top 2th token. Logit: 14.24 Prob:  3.51% Token: | road|\n",
        "    Top 3th token. Logit: 14.22 Prob:  3.45% Token: | car|\n",
        "    Top 4th token. Logit: 13.92 Prob:  2.55% Token: | river|\n",
        "    Top 5th token. Logit: 13.79 Prob:  2.25% Token: | street|\n",
        "    Top 6th token. Logit: 13.77 Prob:  2.21% Token: | k|\n",
        "    Top 7th token. Logit: 13.75 Prob:  2.16% Token: | hill|\n",
        "    Top 8th token. Logit: 13.64 Prob:  1.92% Token: | swing|\n",
        "    Top 9th token. Logit: 13.46 Prob:  1.61% Token: | park|\n",
        "    Ranks of the answer tokens: [(' road', 2)]\n",
        "\n",
        "    Args:\n",
        "        prompt:\n",
        "            The prompt string, e.g. \"Why did the elephant cross the\".\n",
        "        answer:\n",
        "            The answer, e.g. \"road\". Note that if you set prepend_space_to_answer to False, you need\n",
        "            to think about if you have a space before the answer here (as e.g. in this example the\n",
        "            answer may really be \" road\" if the prompt ends without a trailing space).\n",
        "        model:\n",
        "            The model.\n",
        "        prepend_space_to_answer:\n",
        "            Whether or not to prepend a space to the answer. Note this will only ever prepend a\n",
        "            space if the answer doesn't already start with one.\n",
        "        print_details:\n",
        "            Print the prompt (as a string but broken up by token), answer and top k tokens (all\n",
        "            with logit, rank and probability).\n",
        "        prepend_bos:\n",
        "            Overrides self.cfg.default_prepend_bos if set. Whether to prepend\n",
        "            the BOS token to the input (applicable when input is a string). Models generally learn\n",
        "            to use the BOS token as a resting place for attention heads (i.e. a way for them to be\n",
        "            \"turned off\"). This therefore often improves performance slightly.\n",
        "        top_k:\n",
        "            Top k tokens to print details of (when print_details is set to True).\n",
        "\n",
        "    Returns:\n",
        "        None (just prints the results directly).\n",
        "    \"\"\"\n",
        "    if prepend_space_to_answer and not answer.startswith(\" \"):\n",
        "        answer = \" \" + answer\n",
        "    # GPT-2 often treats the first token weirdly, so lets give it a resting position\n",
        "    prompt_tokens = model.to_tokens(prompt, prepend_bos=prepend_bos)\n",
        "    answer_tokens = model.to_tokens(answer, prepend_bos=False)\n",
        "    tokens = torch.cat((prompt_tokens, answer_tokens), dim=1)\n",
        "    prompt_str_tokens = model.to_str_tokens(prompt, prepend_bos=prepend_bos)\n",
        "    answer_str_tokens = model.to_str_tokens(answer, prepend_bos=False)\n",
        "    prompt_length = len(prompt_str_tokens)\n",
        "    answer_length = len(answer_str_tokens)\n",
        "    if print_details:\n",
        "        print(\"Tokenized prompt:\", prompt_str_tokens)\n",
        "        print(\"Tokenized answer:\", answer_str_tokens)\n",
        "    logits = remove_batch_dim(model(tokens))\n",
        "    probs = logits.softmax(dim=-1)\n",
        "    answer_ranks = []\n",
        "    for index in range(prompt_length, prompt_length + answer_length):\n",
        "        answer_token = tokens[0, index]\n",
        "        answer_str_token = answer_str_tokens[index - prompt_length]\n",
        "        # Offset by 1 because models predict the NEXT token\n",
        "        token_probs = probs[index - 1]\n",
        "        sorted_token_probs, sorted_token_values = token_probs.sort(descending=True)\n",
        "        # Janky way to get the index of the token in the sorted list - I couldn't find a better way?\n",
        "        correct_rank = torch.arange(len(sorted_token_values))[\n",
        "            (sorted_token_values == answer_token).cpu()\n",
        "        ].item()\n",
        "        answer_ranks.append((answer_str_token, correct_rank))\n",
        "        if print_details:\n",
        "            # String formatting syntax - the first number gives the number of characters to pad to, the second number gives the number of decimal places.\n",
        "            # rprint gives rich text printing\n",
        "            rprint(\n",
        "                f\"Performance on answer token:\\n[b]Rank: {correct_rank: <8} Logit: {logits[index-1, answer_token].item():5.2f} Prob: {token_probs[answer_token].item():6.2%} Token: |{answer_str_token}|[/b]\"\n",
        "            )\n",
        "            for i in range(top_k):\n",
        "                print(\n",
        "                    f\"Top {i}th token. Logit: {logits[index-1, sorted_token_values[i]].item():5.2f} Prob: {sorted_token_probs[i].item():6.2%} Token: |{model.to_string(sorted_token_values[i])}|\"\n",
        "                )\n",
        "    rprint(f\"[b]Ranks of the answer tokens:[/b] {answer_ranks}\")"
      ],
      "metadata": {
        "id": "6OfqM2mkaT5A"
      },
      "execution_count": null,
      "outputs": []
    },
    {
      "cell_type": "code",
      "source": [
        "test_prompt(\n",
        "    prompt = \"1 2 3 4\",\n",
        "    answer: \" 5\",\n",
        "    model,\n",
        "    prepend_space_to_answer= True,\n",
        "    print_details = True,\n",
        "    prepend_bos = True,\n",
        "    top_k = 10,\n",
        ")"
      ],
      "metadata": {
        "id": "htAmfQQQaWlG"
      },
      "execution_count": null,
      "outputs": []
    },
    {
      "cell_type": "code",
      "source": [
        "model.reset_hooks(including_permanent=True)  #must do this after running with mean ablation hook\n"
      ],
      "metadata": {
        "id": "rclHQHT54SFR"
      },
      "execution_count": 104,
      "outputs": []
    },
    {
      "cell_type": "markdown",
      "source": [
        "The hook operates on the seq len of the means dataset (which has 4 tokens). Thus, don't prepend or add the answer to it, else that's two extra tokens!"
      ],
      "metadata": {
        "id": "Fi7s-Sax5ms1"
      }
    },
    {
      "cell_type": "code",
      "source": [
        "# if prepend_space_to_answer and not answer.startswith(\" \"):\n",
        "#     answer = \" \" + answer\n",
        "# GPT-2 often treats the first token weirdly, so lets give it a resting position\n",
        "prompt_tokens = model.to_tokens(prompt, prepend_bos=False)\n",
        "answer_tokens = model.to_tokens(answer, prepend_bos=False)\n",
        "# tokens = torch.cat((prompt_tokens, answer_tokens), dim=1)\n",
        "prompt_str_tokens = model.to_str_tokens(prompt, prepend_bos=False)\n",
        "answer_str_tokens = model.to_str_tokens(answer, prepend_bos=False)\n",
        "prompt_length = len(prompt_str_tokens)\n",
        "answer_length = len(answer_str_tokens)\n",
        "\n",
        "print(\"Tokenized prompt:\", prompt_str_tokens)\n",
        "print(\"Tokenized answer:\", answer_str_tokens)\n",
        "logits = remove_batch_dim(model(prompt_tokens))\n",
        "probs = logits.softmax(dim=-1)"
      ],
      "metadata": {
        "colab": {
          "base_uri": "https://localhost:8080/"
        },
        "id": "TwCEVPQq4tOn",
        "outputId": "74ad45d3-647b-4732-d16f-e60666c19fb4"
      },
      "execution_count": 105,
      "outputs": [
        {
          "output_type": "stream",
          "name": "stdout",
          "text": [
            "Tokenized prompt: ['1', ' 2', ' 3', ' 4']\n",
            "Tokenized answer: [' 5']\n"
          ]
        }
      ]
    },
    {
      "cell_type": "code",
      "source": [
        "sorted_token_values == answer_token"
      ],
      "metadata": {
        "colab": {
          "base_uri": "https://localhost:8080/"
        },
        "id": "Ypn6oFSa6XSo",
        "outputId": "a5d79a36-6f9c-4ecd-dafb-3f626150fb3b"
      },
      "execution_count": 108,
      "outputs": [
        {
          "output_type": "execute_result",
          "data": {
            "text/plain": [
              "tensor([ True, False, False,  ..., False, False, False])"
            ]
          },
          "metadata": {},
          "execution_count": 108
        }
      ]
    },
    {
      "cell_type": "code",
      "source": [
        "sorted_token_values.size()"
      ],
      "metadata": {
        "colab": {
          "base_uri": "https://localhost:8080/"
        },
        "id": "zJ5xZLUP7DlO",
        "outputId": "29212af6-2e71-4a9c-9a5e-3fa313de16bb"
      },
      "execution_count": 109,
      "outputs": [
        {
          "output_type": "execute_result",
          "data": {
            "text/plain": [
              "torch.Size([50257])"
            ]
          },
          "metadata": {},
          "execution_count": 109
        }
      ]
    },
    {
      "cell_type": "code",
      "source": [
        "torch.arange(len(sorted_token_values))"
      ],
      "metadata": {
        "colab": {
          "base_uri": "https://localhost:8080/"
        },
        "id": "OvqryAbE6rN_",
        "outputId": "a14c8b23-5546-46c8-9cec-874c5082ac69"
      },
      "execution_count": 103,
      "outputs": [
        {
          "output_type": "execute_result",
          "data": {
            "text/plain": [
              "tensor([0, 1, 2, 3])"
            ]
          },
          "metadata": {},
          "execution_count": 103
        }
      ]
    },
    {
      "cell_type": "code",
      "source": [
        "top_k = 6\n",
        "\n",
        "answer_ranks = []\n",
        "for index in range(prompt_length, prompt_length + answer_length):\n",
        "    answer_token = tokens[0, index]\n",
        "    answer_str_token = answer_str_tokens[index - prompt_length]\n",
        "    # Offset by 1 because models predict the NEXT token\n",
        "    token_probs = probs[index - 1]\n",
        "    sorted_token_probs, sorted_token_values = token_probs.sort(descending=True) # sorted_token_values are the indices; the indices correspond to token num of vocab\n",
        "    # Janky way to get the index of the token in the sorted list - I couldn't find a better way?\n",
        "    correct_rank = torch.arange(len(sorted_token_values))[\n",
        "        (sorted_token_values == answer_token).cpu()\n",
        "    ].item()\n",
        "    answer_ranks.append((answer_str_token, correct_rank))\n",
        "\n",
        "    # String formatting syntax - the first number gives the number of characters to pad to, the second number gives the number of decimal places.\n",
        "    # rprint gives rich text printing\n",
        "    print(\n",
        "        f\"Performance on answer token:\\n[b]Rank: {correct_rank: <8} Logit: {logits[index-1, answer_token].item():5.2f} Prob: {token_probs[answer_token].item():6.2%} Token: |{answer_str_token}|[/b]\"\n",
        "    )\n",
        "    for i in range(top_k):\n",
        "        print(\n",
        "            f\"Top {i}th token. Logit: {logits[index-1, sorted_token_values[i]].item():5.2f} Prob: {sorted_token_probs[i].item():6.2%} Token: |{model.to_string(sorted_token_values[i])}|\"\n",
        "        )\n",
        "print(f\"[b]Ranks of the answer tokens:[/b] {answer_ranks}\")"
      ],
      "metadata": {
        "colab": {
          "base_uri": "https://localhost:8080/"
        },
        "id": "LNJW2mxx5jT-",
        "outputId": "aed60501-92d3-4a45-e5e6-1d698390992b"
      },
      "execution_count": 107,
      "outputs": [
        {
          "output_type": "stream",
          "name": "stdout",
          "text": [
            "Performance on answer token:\n",
            "[b]Rank: 0        Logit: 16.81 Prob: 92.39% Token: | 5|[/b]\n",
            "Top 0th token. Logit: 16.81 Prob: 92.39% Token: | 5|\n",
            "Top 1th token. Logit: 11.62 Prob:  0.51% Token: | 4|\n",
            "Top 2th token. Logit: 11.34 Prob:  0.39% Token: | 1|\n",
            "Top 3th token. Logit: 11.23 Prob:  0.35% Token: | 6|\n",
            "Top 4th token. Logit: 11.10 Prob:  0.30% Token: | 3|\n",
            "Top 5th token. Logit: 10.88 Prob:  0.24% Token: | 0|\n",
            "[b]Ranks of the answer tokens:[/b] [(' 5', 0)]\n"
          ]
        }
      ]
    },
    {
      "cell_type": "markdown",
      "source": [
        "Now ablate"
      ],
      "metadata": {
        "id": "rb5xuOOPF0A4"
      }
    },
    {
      "cell_type": "code",
      "source": [
        "prompts_list_2 = generate_prompts_list_corr(1, 101)\n",
        "# prompts_list_2 = generate_prompts_list_corr(1, 2)\n",
        "dataset_2 = Dataset(prompts_list_2, pos_dict, model.tokenizer, S1_is_first=True)"
      ],
      "metadata": {
        "id": "L-GFdNsIF-CU"
      },
      "execution_count": 161,
      "outputs": []
    },
    {
      "cell_type": "code",
      "source": [
        "means = compute_means_by_template_MLP(dataset_2, model)\n",
        "mlp_outputs_and_posns_to_keep = get_mlp_outputs_and_posns_to_keep(dataset_2, model, CIRCUIT, SEQ_POS_TO_KEEP)\n",
        "means.size()"
      ],
      "metadata": {
        "colab": {
          "base_uri": "https://localhost:8080/"
        },
        "id": "UToVh5yDGUf4",
        "outputId": "db521de4-3d97-45b9-9d3c-47d4ec621b70"
      },
      "execution_count": 167,
      "outputs": [
        {
          "output_type": "execute_result",
          "data": {
            "text/plain": [
              "torch.Size([12, 100, 4, 768])"
            ]
          },
          "metadata": {},
          "execution_count": 167
        }
      ]
    },
    {
      "cell_type": "code",
      "source": [
        "model.reset_hooks(including_permanent=True)  #must do this after running with mean ablation hook\n",
        "\n",
        "# Get a hook function which will patch in the mean MLP output values for each MLP layer, at\n",
        "# all positions which aren't important for the circuit\n",
        "hook_fn = partial(\n",
        "    hook_fn_mask_mlp_out,\n",
        "    mlp_outputs_and_posns_to_keep = mlp_outputs_and_posns_to_keep,\n",
        "    means=means\n",
        ")\n",
        "\n",
        "# Apply hook\n",
        "model.add_hook(lambda name: name.endswith(\"mlp_out\"), hook_fn, is_permanent=True)\n",
        "\n",
        "# new_logits = model(dataset.toks)\n",
        "# # new_logits.size()\n",
        "\n",
        "# new_score = logits_to_ave_logit_diff(new_logits, dataset)\n",
        "\n",
        "# print(f\"Average logit difference (dataset, using entire model): {orig_score:.4f}\")\n",
        "# print(f\"Average logit difference (dataset, only using circuit): {new_score:.4f}\")\n",
        "# print(f\"Average logit difference (circuit / full) %: {100 * new_score / orig_score:.4f}\")"
      ],
      "metadata": {
        "id": "VXnloXIP7Lm8"
      },
      "execution_count": 168,
      "outputs": []
    },
    {
      "cell_type": "code",
      "source": [
        "example_prompt = \"1 2 3 4\"\n",
        "example_answer = \" 5\"\n",
        "utils.test_prompt(example_prompt, example_answer, model, prepend_bos=True)"
      ],
      "metadata": {
        "colab": {
          "base_uri": "https://localhost:8080/",
          "height": 409
        },
        "outputId": "d5a5cfd6-68d9-49b8-f63b-ca2bbd59dff5",
        "id": "UD4YqZY17Lm9"
      },
      "execution_count": 163,
      "outputs": [
        {
          "output_type": "stream",
          "name": "stdout",
          "text": [
            "Tokenized prompt: ['<|endoftext|>', '1', ' 2', ' 3', ' 4']\n",
            "Tokenized answer: [' 5']\n"
          ]
        },
        {
          "output_type": "error",
          "ename": "RuntimeError",
          "evalue": "ignored",
          "traceback": [
            "\u001b[0;31m---------------------------------------------------------------------------\u001b[0m",
            "\u001b[0;31mRuntimeError\u001b[0m                              Traceback (most recent call last)",
            "\u001b[0;32m<ipython-input-163-5361d296e9ed>\u001b[0m in \u001b[0;36m<cell line: 3>\u001b[0;34m()\u001b[0m\n\u001b[1;32m      1\u001b[0m \u001b[0mexample_prompt\u001b[0m \u001b[0;34m=\u001b[0m \u001b[0;34m\"1 2 3 4\"\u001b[0m\u001b[0;34m\u001b[0m\u001b[0;34m\u001b[0m\u001b[0m\n\u001b[1;32m      2\u001b[0m \u001b[0mexample_answer\u001b[0m \u001b[0;34m=\u001b[0m \u001b[0;34m\" 5\"\u001b[0m\u001b[0;34m\u001b[0m\u001b[0;34m\u001b[0m\u001b[0m\n\u001b[0;32m----> 3\u001b[0;31m \u001b[0mutils\u001b[0m\u001b[0;34m.\u001b[0m\u001b[0mtest_prompt\u001b[0m\u001b[0;34m(\u001b[0m\u001b[0mexample_prompt\u001b[0m\u001b[0;34m,\u001b[0m \u001b[0mexample_answer\u001b[0m\u001b[0;34m,\u001b[0m \u001b[0mmodel\u001b[0m\u001b[0;34m,\u001b[0m \u001b[0mprepend_bos\u001b[0m\u001b[0;34m=\u001b[0m\u001b[0;32mTrue\u001b[0m\u001b[0;34m)\u001b[0m\u001b[0;34m\u001b[0m\u001b[0;34m\u001b[0m\u001b[0m\n\u001b[0m",
            "\u001b[0;32m/usr/local/lib/python3.10/dist-packages/transformer_lens/utils.py\u001b[0m in \u001b[0;36mtest_prompt\u001b[0;34m(prompt, answer, model, prepend_space_to_answer, print_details, prepend_bos, top_k)\u001b[0m\n\u001b[1;32m    684\u001b[0m         \u001b[0mprint\u001b[0m\u001b[0;34m(\u001b[0m\u001b[0;34m\"Tokenized prompt:\"\u001b[0m\u001b[0;34m,\u001b[0m \u001b[0mprompt_str_tokens\u001b[0m\u001b[0;34m)\u001b[0m\u001b[0;34m\u001b[0m\u001b[0;34m\u001b[0m\u001b[0m\n\u001b[1;32m    685\u001b[0m         \u001b[0mprint\u001b[0m\u001b[0;34m(\u001b[0m\u001b[0;34m\"Tokenized answer:\"\u001b[0m\u001b[0;34m,\u001b[0m \u001b[0manswer_str_tokens\u001b[0m\u001b[0;34m)\u001b[0m\u001b[0;34m\u001b[0m\u001b[0;34m\u001b[0m\u001b[0m\n\u001b[0;32m--> 686\u001b[0;31m     \u001b[0mlogits\u001b[0m \u001b[0;34m=\u001b[0m \u001b[0mremove_batch_dim\u001b[0m\u001b[0;34m(\u001b[0m\u001b[0mmodel\u001b[0m\u001b[0;34m(\u001b[0m\u001b[0mtokens\u001b[0m\u001b[0;34m)\u001b[0m\u001b[0;34m)\u001b[0m\u001b[0;34m\u001b[0m\u001b[0;34m\u001b[0m\u001b[0m\n\u001b[0m\u001b[1;32m    687\u001b[0m     \u001b[0mprobs\u001b[0m \u001b[0;34m=\u001b[0m \u001b[0mlogits\u001b[0m\u001b[0;34m.\u001b[0m\u001b[0msoftmax\u001b[0m\u001b[0;34m(\u001b[0m\u001b[0mdim\u001b[0m\u001b[0;34m=\u001b[0m\u001b[0;34m-\u001b[0m\u001b[0;36m1\u001b[0m\u001b[0;34m)\u001b[0m\u001b[0;34m\u001b[0m\u001b[0;34m\u001b[0m\u001b[0m\n\u001b[1;32m    688\u001b[0m     \u001b[0manswer_ranks\u001b[0m \u001b[0;34m=\u001b[0m \u001b[0;34m[\u001b[0m\u001b[0;34m]\u001b[0m\u001b[0;34m\u001b[0m\u001b[0;34m\u001b[0m\u001b[0m\n",
            "\u001b[0;32m/usr/local/lib/python3.10/dist-packages/torch/nn/modules/module.py\u001b[0m in \u001b[0;36m_wrapped_call_impl\u001b[0;34m(self, *args, **kwargs)\u001b[0m\n\u001b[1;32m   1516\u001b[0m             \u001b[0;32mreturn\u001b[0m \u001b[0mself\u001b[0m\u001b[0;34m.\u001b[0m\u001b[0m_compiled_call_impl\u001b[0m\u001b[0;34m(\u001b[0m\u001b[0;34m*\u001b[0m\u001b[0margs\u001b[0m\u001b[0;34m,\u001b[0m \u001b[0;34m**\u001b[0m\u001b[0mkwargs\u001b[0m\u001b[0;34m)\u001b[0m  \u001b[0;31m# type: ignore[misc]\u001b[0m\u001b[0;34m\u001b[0m\u001b[0;34m\u001b[0m\u001b[0m\n\u001b[1;32m   1517\u001b[0m         \u001b[0;32melse\u001b[0m\u001b[0;34m:\u001b[0m\u001b[0;34m\u001b[0m\u001b[0;34m\u001b[0m\u001b[0m\n\u001b[0;32m-> 1518\u001b[0;31m             \u001b[0;32mreturn\u001b[0m \u001b[0mself\u001b[0m\u001b[0;34m.\u001b[0m\u001b[0m_call_impl\u001b[0m\u001b[0;34m(\u001b[0m\u001b[0;34m*\u001b[0m\u001b[0margs\u001b[0m\u001b[0;34m,\u001b[0m \u001b[0;34m**\u001b[0m\u001b[0mkwargs\u001b[0m\u001b[0;34m)\u001b[0m\u001b[0;34m\u001b[0m\u001b[0;34m\u001b[0m\u001b[0m\n\u001b[0m\u001b[1;32m   1519\u001b[0m \u001b[0;34m\u001b[0m\u001b[0m\n\u001b[1;32m   1520\u001b[0m     \u001b[0;32mdef\u001b[0m \u001b[0m_call_impl\u001b[0m\u001b[0;34m(\u001b[0m\u001b[0mself\u001b[0m\u001b[0;34m,\u001b[0m \u001b[0;34m*\u001b[0m\u001b[0margs\u001b[0m\u001b[0;34m,\u001b[0m \u001b[0;34m**\u001b[0m\u001b[0mkwargs\u001b[0m\u001b[0;34m)\u001b[0m\u001b[0;34m:\u001b[0m\u001b[0;34m\u001b[0m\u001b[0;34m\u001b[0m\u001b[0m\n",
            "\u001b[0;32m/usr/local/lib/python3.10/dist-packages/torch/nn/modules/module.py\u001b[0m in \u001b[0;36m_call_impl\u001b[0;34m(self, *args, **kwargs)\u001b[0m\n\u001b[1;32m   1525\u001b[0m                 \u001b[0;32mor\u001b[0m \u001b[0m_global_backward_pre_hooks\u001b[0m \u001b[0;32mor\u001b[0m \u001b[0m_global_backward_hooks\u001b[0m\u001b[0;34m\u001b[0m\u001b[0;34m\u001b[0m\u001b[0m\n\u001b[1;32m   1526\u001b[0m                 or _global_forward_hooks or _global_forward_pre_hooks):\n\u001b[0;32m-> 1527\u001b[0;31m             \u001b[0;32mreturn\u001b[0m \u001b[0mforward_call\u001b[0m\u001b[0;34m(\u001b[0m\u001b[0;34m*\u001b[0m\u001b[0margs\u001b[0m\u001b[0;34m,\u001b[0m \u001b[0;34m**\u001b[0m\u001b[0mkwargs\u001b[0m\u001b[0;34m)\u001b[0m\u001b[0;34m\u001b[0m\u001b[0;34m\u001b[0m\u001b[0m\n\u001b[0m\u001b[1;32m   1528\u001b[0m \u001b[0;34m\u001b[0m\u001b[0m\n\u001b[1;32m   1529\u001b[0m         \u001b[0;32mtry\u001b[0m\u001b[0;34m:\u001b[0m\u001b[0;34m\u001b[0m\u001b[0;34m\u001b[0m\u001b[0m\n",
            "\u001b[0;32m/usr/local/lib/python3.10/dist-packages/transformer_lens/HookedTransformer.py\u001b[0m in \u001b[0;36mforward\u001b[0;34m(self, input, return_type, loss_per_token, prepend_bos, padding_side, start_at_layer, tokens, shortformer_pos_embed, attention_mask, stop_at_layer, past_kv_cache)\u001b[0m\n\u001b[1;32m    553\u001b[0m                     )\n\u001b[1;32m    554\u001b[0m \u001b[0;34m\u001b[0m\u001b[0m\n\u001b[0;32m--> 555\u001b[0;31m                 residual = block(\n\u001b[0m\u001b[1;32m    556\u001b[0m                     \u001b[0mresidual\u001b[0m\u001b[0;34m,\u001b[0m\u001b[0;34m\u001b[0m\u001b[0;34m\u001b[0m\u001b[0m\n\u001b[1;32m    557\u001b[0m                     \u001b[0;31m# Cache contains a list of HookedTransformerKeyValueCache objects, one for each\u001b[0m\u001b[0;34m\u001b[0m\u001b[0;34m\u001b[0m\u001b[0m\n",
            "\u001b[0;32m/usr/local/lib/python3.10/dist-packages/torch/nn/modules/module.py\u001b[0m in \u001b[0;36m_wrapped_call_impl\u001b[0;34m(self, *args, **kwargs)\u001b[0m\n\u001b[1;32m   1516\u001b[0m             \u001b[0;32mreturn\u001b[0m \u001b[0mself\u001b[0m\u001b[0;34m.\u001b[0m\u001b[0m_compiled_call_impl\u001b[0m\u001b[0;34m(\u001b[0m\u001b[0;34m*\u001b[0m\u001b[0margs\u001b[0m\u001b[0;34m,\u001b[0m \u001b[0;34m**\u001b[0m\u001b[0mkwargs\u001b[0m\u001b[0;34m)\u001b[0m  \u001b[0;31m# type: ignore[misc]\u001b[0m\u001b[0;34m\u001b[0m\u001b[0;34m\u001b[0m\u001b[0m\n\u001b[1;32m   1517\u001b[0m         \u001b[0;32melse\u001b[0m\u001b[0;34m:\u001b[0m\u001b[0;34m\u001b[0m\u001b[0;34m\u001b[0m\u001b[0m\n\u001b[0;32m-> 1518\u001b[0;31m             \u001b[0;32mreturn\u001b[0m \u001b[0mself\u001b[0m\u001b[0;34m.\u001b[0m\u001b[0m_call_impl\u001b[0m\u001b[0;34m(\u001b[0m\u001b[0;34m*\u001b[0m\u001b[0margs\u001b[0m\u001b[0;34m,\u001b[0m \u001b[0;34m**\u001b[0m\u001b[0mkwargs\u001b[0m\u001b[0;34m)\u001b[0m\u001b[0;34m\u001b[0m\u001b[0;34m\u001b[0m\u001b[0m\n\u001b[0m\u001b[1;32m   1519\u001b[0m \u001b[0;34m\u001b[0m\u001b[0m\n\u001b[1;32m   1520\u001b[0m     \u001b[0;32mdef\u001b[0m \u001b[0m_call_impl\u001b[0m\u001b[0;34m(\u001b[0m\u001b[0mself\u001b[0m\u001b[0;34m,\u001b[0m \u001b[0;34m*\u001b[0m\u001b[0margs\u001b[0m\u001b[0;34m,\u001b[0m \u001b[0;34m**\u001b[0m\u001b[0mkwargs\u001b[0m\u001b[0;34m)\u001b[0m\u001b[0;34m:\u001b[0m\u001b[0;34m\u001b[0m\u001b[0;34m\u001b[0m\u001b[0m\n",
            "\u001b[0;32m/usr/local/lib/python3.10/dist-packages/torch/nn/modules/module.py\u001b[0m in \u001b[0;36m_call_impl\u001b[0;34m(self, *args, **kwargs)\u001b[0m\n\u001b[1;32m   1525\u001b[0m                 \u001b[0;32mor\u001b[0m \u001b[0m_global_backward_pre_hooks\u001b[0m \u001b[0;32mor\u001b[0m \u001b[0m_global_backward_hooks\u001b[0m\u001b[0;34m\u001b[0m\u001b[0;34m\u001b[0m\u001b[0m\n\u001b[1;32m   1526\u001b[0m                 or _global_forward_hooks or _global_forward_pre_hooks):\n\u001b[0;32m-> 1527\u001b[0;31m             \u001b[0;32mreturn\u001b[0m \u001b[0mforward_call\u001b[0m\u001b[0;34m(\u001b[0m\u001b[0;34m*\u001b[0m\u001b[0margs\u001b[0m\u001b[0;34m,\u001b[0m \u001b[0;34m**\u001b[0m\u001b[0mkwargs\u001b[0m\u001b[0;34m)\u001b[0m\u001b[0;34m\u001b[0m\u001b[0;34m\u001b[0m\u001b[0m\n\u001b[0m\u001b[1;32m   1528\u001b[0m \u001b[0;34m\u001b[0m\u001b[0m\n\u001b[1;32m   1529\u001b[0m         \u001b[0;32mtry\u001b[0m\u001b[0;34m:\u001b[0m\u001b[0;34m\u001b[0m\u001b[0;34m\u001b[0m\u001b[0m\n",
            "\u001b[0;32m/usr/local/lib/python3.10/dist-packages/transformer_lens/components.py\u001b[0m in \u001b[0;36mforward\u001b[0;34m(self, resid_pre, shortformer_pos_embed, past_kv_cache_entry, attention_mask)\u001b[0m\n\u001b[1;32m   1207\u001b[0m             )\n\u001b[1;32m   1208\u001b[0m             \u001b[0mnormalized_resid_mid\u001b[0m \u001b[0;34m=\u001b[0m \u001b[0mself\u001b[0m\u001b[0;34m.\u001b[0m\u001b[0mln2\u001b[0m\u001b[0;34m(\u001b[0m\u001b[0mmlp_in\u001b[0m\u001b[0;34m)\u001b[0m\u001b[0;34m\u001b[0m\u001b[0;34m\u001b[0m\u001b[0m\n\u001b[0;32m-> 1209\u001b[0;31m             mlp_out = self.hook_mlp_out(\n\u001b[0m\u001b[1;32m   1210\u001b[0m                 \u001b[0mself\u001b[0m\u001b[0;34m.\u001b[0m\u001b[0mmlp\u001b[0m\u001b[0;34m(\u001b[0m\u001b[0mnormalized_resid_mid\u001b[0m\u001b[0;34m)\u001b[0m\u001b[0;34m\u001b[0m\u001b[0;34m\u001b[0m\u001b[0m\n\u001b[1;32m   1211\u001b[0m             )  # [batch, pos, d_model]\n",
            "\u001b[0;32m/usr/local/lib/python3.10/dist-packages/torch/nn/modules/module.py\u001b[0m in \u001b[0;36m_wrapped_call_impl\u001b[0;34m(self, *args, **kwargs)\u001b[0m\n\u001b[1;32m   1516\u001b[0m             \u001b[0;32mreturn\u001b[0m \u001b[0mself\u001b[0m\u001b[0;34m.\u001b[0m\u001b[0m_compiled_call_impl\u001b[0m\u001b[0;34m(\u001b[0m\u001b[0;34m*\u001b[0m\u001b[0margs\u001b[0m\u001b[0;34m,\u001b[0m \u001b[0;34m**\u001b[0m\u001b[0mkwargs\u001b[0m\u001b[0;34m)\u001b[0m  \u001b[0;31m# type: ignore[misc]\u001b[0m\u001b[0;34m\u001b[0m\u001b[0;34m\u001b[0m\u001b[0m\n\u001b[1;32m   1517\u001b[0m         \u001b[0;32melse\u001b[0m\u001b[0;34m:\u001b[0m\u001b[0;34m\u001b[0m\u001b[0;34m\u001b[0m\u001b[0m\n\u001b[0;32m-> 1518\u001b[0;31m             \u001b[0;32mreturn\u001b[0m \u001b[0mself\u001b[0m\u001b[0;34m.\u001b[0m\u001b[0m_call_impl\u001b[0m\u001b[0;34m(\u001b[0m\u001b[0;34m*\u001b[0m\u001b[0margs\u001b[0m\u001b[0;34m,\u001b[0m \u001b[0;34m**\u001b[0m\u001b[0mkwargs\u001b[0m\u001b[0;34m)\u001b[0m\u001b[0;34m\u001b[0m\u001b[0;34m\u001b[0m\u001b[0m\n\u001b[0m\u001b[1;32m   1519\u001b[0m \u001b[0;34m\u001b[0m\u001b[0m\n\u001b[1;32m   1520\u001b[0m     \u001b[0;32mdef\u001b[0m \u001b[0m_call_impl\u001b[0m\u001b[0;34m(\u001b[0m\u001b[0mself\u001b[0m\u001b[0;34m,\u001b[0m \u001b[0;34m*\u001b[0m\u001b[0margs\u001b[0m\u001b[0;34m,\u001b[0m \u001b[0;34m**\u001b[0m\u001b[0mkwargs\u001b[0m\u001b[0;34m)\u001b[0m\u001b[0;34m:\u001b[0m\u001b[0;34m\u001b[0m\u001b[0;34m\u001b[0m\u001b[0m\n",
            "\u001b[0;32m/usr/local/lib/python3.10/dist-packages/torch/nn/modules/module.py\u001b[0m in \u001b[0;36m_call_impl\u001b[0;34m(self, *args, **kwargs)\u001b[0m\n\u001b[1;32m   1579\u001b[0m                         \u001b[0mhook_result\u001b[0m \u001b[0;34m=\u001b[0m \u001b[0mhook\u001b[0m\u001b[0;34m(\u001b[0m\u001b[0mself\u001b[0m\u001b[0;34m,\u001b[0m \u001b[0margs\u001b[0m\u001b[0;34m,\u001b[0m \u001b[0mkwargs\u001b[0m\u001b[0;34m,\u001b[0m \u001b[0mresult\u001b[0m\u001b[0;34m)\u001b[0m\u001b[0;34m\u001b[0m\u001b[0;34m\u001b[0m\u001b[0m\n\u001b[1;32m   1580\u001b[0m                     \u001b[0;32melse\u001b[0m\u001b[0;34m:\u001b[0m\u001b[0;34m\u001b[0m\u001b[0;34m\u001b[0m\u001b[0m\n\u001b[0;32m-> 1581\u001b[0;31m                         \u001b[0mhook_result\u001b[0m \u001b[0;34m=\u001b[0m \u001b[0mhook\u001b[0m\u001b[0;34m(\u001b[0m\u001b[0mself\u001b[0m\u001b[0;34m,\u001b[0m \u001b[0margs\u001b[0m\u001b[0;34m,\u001b[0m \u001b[0mresult\u001b[0m\u001b[0;34m)\u001b[0m\u001b[0;34m\u001b[0m\u001b[0;34m\u001b[0m\u001b[0m\n\u001b[0m\u001b[1;32m   1582\u001b[0m \u001b[0;34m\u001b[0m\u001b[0m\n\u001b[1;32m   1583\u001b[0m                     \u001b[0;32mif\u001b[0m \u001b[0mhook_result\u001b[0m \u001b[0;32mis\u001b[0m \u001b[0;32mnot\u001b[0m \u001b[0;32mNone\u001b[0m\u001b[0;34m:\u001b[0m\u001b[0;34m\u001b[0m\u001b[0;34m\u001b[0m\u001b[0m\n",
            "\u001b[0;32m/usr/local/lib/python3.10/dist-packages/transformer_lens/hook_points.py\u001b[0m in \u001b[0;36mfull_hook\u001b[0;34m(module, module_input, module_output)\u001b[0m\n\u001b[1;32m     63\u001b[0m \u001b[0;34m\u001b[0m\u001b[0m\n\u001b[1;32m     64\u001b[0m             \u001b[0;32mdef\u001b[0m \u001b[0mfull_hook\u001b[0m\u001b[0;34m(\u001b[0m\u001b[0mmodule\u001b[0m\u001b[0;34m,\u001b[0m \u001b[0mmodule_input\u001b[0m\u001b[0;34m,\u001b[0m \u001b[0mmodule_output\u001b[0m\u001b[0;34m)\u001b[0m\u001b[0;34m:\u001b[0m\u001b[0;34m\u001b[0m\u001b[0;34m\u001b[0m\u001b[0m\n\u001b[0;32m---> 65\u001b[0;31m                 \u001b[0;32mreturn\u001b[0m \u001b[0mhook\u001b[0m\u001b[0;34m(\u001b[0m\u001b[0mmodule_output\u001b[0m\u001b[0;34m,\u001b[0m \u001b[0mhook\u001b[0m\u001b[0;34m=\u001b[0m\u001b[0mself\u001b[0m\u001b[0;34m)\u001b[0m\u001b[0;34m\u001b[0m\u001b[0;34m\u001b[0m\u001b[0m\n\u001b[0m\u001b[1;32m     66\u001b[0m \u001b[0;34m\u001b[0m\u001b[0m\n\u001b[1;32m     67\u001b[0m             full_hook.__name__ = (\n",
            "\u001b[0;32m<ipython-input-65-f99588862349>\u001b[0m in \u001b[0;36mhook_fn_mask_mlp_out\u001b[0;34m(mlp_out, hook, mlp_outputs_and_posns_to_keep, means)\u001b[0m\n\u001b[1;32m     20\u001b[0m \u001b[0;34m\u001b[0m\u001b[0m\n\u001b[1;32m     21\u001b[0m     \u001b[0;31m# Set MLP output values to the mean where necessary\u001b[0m\u001b[0;34m\u001b[0m\u001b[0;34m\u001b[0m\u001b[0m\n\u001b[0;32m---> 22\u001b[0;31m     \u001b[0mmlp_out\u001b[0m \u001b[0;34m=\u001b[0m \u001b[0mt\u001b[0m\u001b[0;34m.\u001b[0m\u001b[0mwhere\u001b[0m\u001b[0;34m(\u001b[0m\u001b[0mmask_for_this_layer\u001b[0m\u001b[0;34m,\u001b[0m \u001b[0mmlp_out\u001b[0m\u001b[0;34m,\u001b[0m \u001b[0mmeans\u001b[0m\u001b[0;34m[\u001b[0m\u001b[0mhook\u001b[0m\u001b[0;34m.\u001b[0m\u001b[0mlayer\u001b[0m\u001b[0;34m(\u001b[0m\u001b[0;34m)\u001b[0m\u001b[0;34m]\u001b[0m\u001b[0;34m)\u001b[0m\u001b[0;34m\u001b[0m\u001b[0;34m\u001b[0m\u001b[0m\n\u001b[0m\u001b[1;32m     23\u001b[0m \u001b[0;34m\u001b[0m\u001b[0m\n\u001b[1;32m     24\u001b[0m     \u001b[0;32mreturn\u001b[0m \u001b[0mmlp_out\u001b[0m\u001b[0;34m\u001b[0m\u001b[0;34m\u001b[0m\u001b[0m\n",
            "\u001b[0;31mRuntimeError\u001b[0m: The size of tensor a (4) must match the size of tensor b (6) at non-singleton dimension 1"
          ]
        }
      ]
    },
    {
      "cell_type": "markdown",
      "source": [
        "The hook operates on the seq len of the means dataset (which has 4 tokens). Thus, don't prepend or add the answer to it, else that's two extra tokens!"
      ],
      "metadata": {
        "id": "minv9O9k7Lm9"
      }
    },
    {
      "cell_type": "code",
      "source": [
        "# if prepend_space_to_answer and not answer.startswith(\" \"):\n",
        "#     answer = \" \" + answer\n",
        "# GPT-2 often treats the first token weirdly, so lets give it a resting position\n",
        "prompt_tokens = model.to_tokens(prompt, prepend_bos=False)\n",
        "answer_tokens = model.to_tokens(answer, prepend_bos=False)\n",
        "# tokens = torch.cat((prompt_tokens, answer_tokens), dim=1)\n",
        "prompt_str_tokens = model.to_str_tokens(prompt, prepend_bos=False)\n",
        "answer_str_tokens = model.to_str_tokens(answer, prepend_bos=False)\n",
        "prompt_length = len(prompt_str_tokens)\n",
        "answer_length = len(answer_str_tokens)\n",
        "\n",
        "print(\"Tokenized prompt:\", prompt_str_tokens)\n",
        "print(\"Tokenized answer:\", answer_str_tokens)\n",
        "logits = remove_batch_dim(model(prompt_tokens))\n",
        "probs = logits.softmax(dim=-1)"
      ],
      "metadata": {
        "colab": {
          "base_uri": "https://localhost:8080/"
        },
        "outputId": "304d1c88-d1c9-497c-e0d2-e491cc25b743",
        "id": "-ektM8N67Lm9"
      },
      "execution_count": 169,
      "outputs": [
        {
          "output_type": "stream",
          "name": "stdout",
          "text": [
            "Tokenized prompt: ['1', ' 2', ' 3', ' 4']\n",
            "Tokenized answer: [' 5']\n"
          ]
        }
      ]
    },
    {
      "cell_type": "code",
      "source": [
        "model(prompt_tokens).size()"
      ],
      "metadata": {
        "colab": {
          "base_uri": "https://localhost:8080/"
        },
        "id": "GG5ENwkS8DEB",
        "outputId": "906da9e6-e0d9-4798-c06e-059360967a15"
      },
      "execution_count": 170,
      "outputs": [
        {
          "output_type": "execute_result",
          "data": {
            "text/plain": [
              "torch.Size([100, 4, 50257])"
            ]
          },
          "metadata": {},
          "execution_count": 170
        }
      ]
    },
    {
      "cell_type": "code",
      "source": [
        "model(prompt_tokens)"
      ],
      "metadata": {
        "colab": {
          "base_uri": "https://localhost:8080/"
        },
        "id": "3tcoLWtfGbcV",
        "outputId": "0cbb8d16-4323-40f3-ac83-16a81de5b21f"
      },
      "execution_count": 171,
      "outputs": [
        {
          "output_type": "execute_result",
          "data": {
            "text/plain": [
              "tensor([[[ 6.4608,  7.1757,  4.3962,  ..., -1.8263, -1.4242,  6.6071],\n",
              "         [ 6.2839,  6.9597,  6.1193,  ..., -2.6598, -2.3497,  5.4537],\n",
              "         [ 7.2966,  7.5133,  7.4807,  ..., -4.5196, -3.8830,  7.8436],\n",
              "         [ 5.7633,  5.9721,  6.7874,  ..., -3.4285, -3.1000,  7.7140]],\n",
              "\n",
              "        [[ 6.4608,  7.1757,  4.3962,  ..., -1.8263, -1.4242,  6.6071],\n",
              "         [ 6.2839,  6.9597,  6.1193,  ..., -2.6598, -2.3497,  5.4537],\n",
              "         [ 7.2966,  7.5133,  7.4807,  ..., -4.5196, -3.8830,  7.8436],\n",
              "         [ 5.7633,  5.9721,  6.7874,  ..., -3.4285, -3.1000,  7.7140]],\n",
              "\n",
              "        [[ 6.4608,  7.1757,  4.3962,  ..., -1.8263, -1.4242,  6.6071],\n",
              "         [ 6.2839,  6.9597,  6.1193,  ..., -2.6598, -2.3497,  5.4537],\n",
              "         [ 7.2966,  7.5133,  7.4807,  ..., -4.5196, -3.8830,  7.8436],\n",
              "         [ 5.7633,  5.9721,  6.7874,  ..., -3.4285, -3.1000,  7.7140]],\n",
              "\n",
              "        ...,\n",
              "\n",
              "        [[ 6.4608,  7.1757,  4.3962,  ..., -1.8263, -1.4242,  6.6071],\n",
              "         [ 6.2839,  6.9597,  6.1193,  ..., -2.6598, -2.3497,  5.4537],\n",
              "         [ 7.2966,  7.5133,  7.4807,  ..., -4.5196, -3.8830,  7.8436],\n",
              "         [ 5.7633,  5.9721,  6.7874,  ..., -3.4285, -3.1000,  7.7140]],\n",
              "\n",
              "        [[ 6.4608,  7.1757,  4.3962,  ..., -1.8263, -1.4242,  6.6071],\n",
              "         [ 6.2839,  6.9597,  6.1193,  ..., -2.6598, -2.3497,  5.4537],\n",
              "         [ 7.2966,  7.5133,  7.4807,  ..., -4.5196, -3.8830,  7.8436],\n",
              "         [ 5.7633,  5.9721,  6.7874,  ..., -3.4285, -3.1000,  7.7140]],\n",
              "\n",
              "        [[ 6.4608,  7.1757,  4.3962,  ..., -1.8263, -1.4242,  6.6071],\n",
              "         [ 6.2839,  6.9597,  6.1193,  ..., -2.6598, -2.3497,  5.4537],\n",
              "         [ 7.2966,  7.5133,  7.4807,  ..., -4.5196, -3.8830,  7.8436],\n",
              "         [ 5.7633,  5.9721,  6.7874,  ..., -3.4285, -3.1000,  7.7140]]])"
            ]
          },
          "metadata": {},
          "execution_count": 171
        }
      ]
    },
    {
      "cell_type": "code",
      "source": [
        "logits.size()"
      ],
      "metadata": {
        "colab": {
          "base_uri": "https://localhost:8080/"
        },
        "id": "g0PwB3Jv7xUj",
        "outputId": "0058e8ca-21ae-4bbc-d73b-6f58f37f67bc"
      },
      "execution_count": 166,
      "outputs": [
        {
          "output_type": "execute_result",
          "data": {
            "text/plain": [
              "torch.Size([4, 50257])"
            ]
          },
          "metadata": {},
          "execution_count": 166
        }
      ]
    },
    {
      "cell_type": "markdown",
      "source": [
        "The issue here is that means dataset has batche size 100, so logits has 100. But why does this only happen after adding the hook?"
      ],
      "metadata": {
        "id": "jvc9pR5q70wo"
      }
    },
    {
      "cell_type": "code",
      "source": [
        "top_k = 6\n",
        "\n",
        "answer_ranks = []\n",
        "for index in range(prompt_length, prompt_length + answer_length):\n",
        "    answer_token = tokens[0, index]\n",
        "    answer_str_token = answer_str_tokens[index - prompt_length]\n",
        "    # Offset by 1 because models predict the NEXT token\n",
        "    token_probs = probs[index - 1]\n",
        "    sorted_token_probs, sorted_token_values = token_probs.sort(descending=True) # sorted_token_values are the indices; the indices correspond to token num of vocab\n",
        "    break\n",
        "sorted_token_values == answer_token"
      ],
      "metadata": {
        "colab": {
          "base_uri": "https://localhost:8080/"
        },
        "outputId": "f79c97b5-cce3-4f25-d1eb-59d6e2677fe6",
        "id": "f7ujGcN-7Lm9"
      },
      "execution_count": 114,
      "outputs": [
        {
          "output_type": "execute_result",
          "data": {
            "text/plain": [
              "tensor([[False, False, False,  ..., False, False, False],\n",
              "        [False, False, False,  ..., False, False, False],\n",
              "        [False, False, False,  ..., False, False, False],\n",
              "        [ True, False, False,  ..., False, False, False]])"
            ]
          },
          "metadata": {},
          "execution_count": 114
        }
      ]
    },
    {
      "cell_type": "code",
      "source": [
        "probs.size()"
      ],
      "metadata": {
        "colab": {
          "base_uri": "https://localhost:8080/"
        },
        "id": "sY8cgGWy7n68",
        "outputId": "699bc575-f2de-4f66-dd83-9bd0b69c7149"
      },
      "execution_count": 116,
      "outputs": [
        {
          "output_type": "execute_result",
          "data": {
            "text/plain": [
              "torch.Size([100, 4, 50257])"
            ]
          },
          "metadata": {},
          "execution_count": 116
        }
      ]
    },
    {
      "cell_type": "code",
      "source": [
        "sorted_token_values.size()"
      ],
      "metadata": {
        "colab": {
          "base_uri": "https://localhost:8080/"
        },
        "outputId": "991bdfd2-2a97-4758-9fab-505aace55d14",
        "id": "F2AE_8OR7Lm-"
      },
      "execution_count": 115,
      "outputs": [
        {
          "output_type": "execute_result",
          "data": {
            "text/plain": [
              "torch.Size([4, 50257])"
            ]
          },
          "metadata": {},
          "execution_count": 115
        }
      ]
    },
    {
      "cell_type": "code",
      "source": [
        "torch.arange(len(sorted_token_values))"
      ],
      "metadata": {
        "colab": {
          "base_uri": "https://localhost:8080/"
        },
        "outputId": "a14c8b23-5546-46c8-9cec-874c5082ac69",
        "id": "tqyJ6CMu7Lm-"
      },
      "execution_count": null,
      "outputs": [
        {
          "output_type": "execute_result",
          "data": {
            "text/plain": [
              "tensor([0, 1, 2, 3])"
            ]
          },
          "metadata": {},
          "execution_count": 103
        }
      ]
    },
    {
      "cell_type": "code",
      "source": [
        "top_k = 6\n",
        "\n",
        "answer_ranks = []\n",
        "for index in range(prompt_length, prompt_length + answer_length):\n",
        "    answer_token = tokens[0, index]\n",
        "    answer_str_token = answer_str_tokens[index - prompt_length]\n",
        "    # Offset by 1 because models predict the NEXT token\n",
        "    token_probs = probs[index - 1]\n",
        "    sorted_token_probs, sorted_token_values = token_probs.sort(descending=True) # sorted_token_values are the indices; the indices correspond to token num of vocab\n",
        "    # Janky way to get the index of the token in the sorted list - I couldn't find a better way?\n",
        "    correct_rank = torch.arange(len(sorted_token_values))[\n",
        "        (sorted_token_values == answer_token).cpu()\n",
        "    ].item()\n",
        "    answer_ranks.append((answer_str_token, correct_rank))\n",
        "\n",
        "    # String formatting syntax - the first number gives the number of characters to pad to, the second number gives the number of decimal places.\n",
        "    # rprint gives rich text printing\n",
        "    print(\n",
        "        f\"Performance on answer token:\\n[b]Rank: {correct_rank: <8} Logit: {logits[index-1, answer_token].item():5.2f} Prob: {token_probs[answer_token].item():6.2%} Token: |{answer_str_token}|[/b]\"\n",
        "    )\n",
        "    for i in range(top_k):\n",
        "        print(\n",
        "            f\"Top {i}th token. Logit: {logits[index-1, sorted_token_values[i]].item():5.2f} Prob: {sorted_token_probs[i].item():6.2%} Token: |{model.to_string(sorted_token_values[i])}|\"\n",
        "        )\n",
        "print(f\"[b]Ranks of the answer tokens:[/b] {answer_ranks}\")"
      ],
      "metadata": {
        "colab": {
          "base_uri": "https://localhost:8080/"
        },
        "outputId": "aed60501-92d3-4a45-e5e6-1d698390992b",
        "id": "1qJPl5a57Lm-"
      },
      "execution_count": null,
      "outputs": [
        {
          "output_type": "stream",
          "name": "stdout",
          "text": [
            "Performance on answer token:\n",
            "[b]Rank: 0        Logit: 16.81 Prob: 92.39% Token: | 5|[/b]\n",
            "Top 0th token. Logit: 16.81 Prob: 92.39% Token: | 5|\n",
            "Top 1th token. Logit: 11.62 Prob:  0.51% Token: | 4|\n",
            "Top 2th token. Logit: 11.34 Prob:  0.39% Token: | 1|\n",
            "Top 3th token. Logit: 11.23 Prob:  0.35% Token: | 6|\n",
            "Top 4th token. Logit: 11.10 Prob:  0.30% Token: | 3|\n",
            "Top 5th token. Logit: 10.88 Prob:  0.24% Token: | 0|\n",
            "[b]Ranks of the answer tokens:[/b] [(' 5', 0)]\n"
          ]
        }
      ]
    },
    {
      "cell_type": "markdown",
      "source": [
        "## try dataset means of size 1"
      ],
      "metadata": {
        "id": "Jbir4u-A9IYg"
      }
    },
    {
      "cell_type": "code",
      "source": [
        "# prompts_list_2 = generate_prompts_list_corr(1, 101)\n",
        "prompts_list_2 = generate_prompts_list_corr(1, 2)\n",
        "dataset_2 = Dataset(prompts_list_2, pos_dict, model.tokenizer, S1_is_first=True)"
      ],
      "metadata": {
        "id": "9VZFrM8tGAor"
      },
      "execution_count": null,
      "outputs": []
    },
    {
      "cell_type": "code",
      "source": [
        "dataset_2.toks"
      ],
      "metadata": {
        "colab": {
          "base_uri": "https://localhost:8080/"
        },
        "id": "EIxG6s2I-Bxf",
        "outputId": "694e1ba2-9a48-4b13-af2b-daa5fc22ec81"
      },
      "execution_count": 138,
      "outputs": [
        {
          "output_type": "execute_result",
          "data": {
            "text/plain": [
              "tensor([[5999, 8684, 6073, 1802]], dtype=torch.int32)"
            ]
          },
          "metadata": {},
          "execution_count": 138
        }
      ]
    },
    {
      "cell_type": "code",
      "source": [
        "means = compute_means_by_template_MLP(dataset_2, model)\n",
        "means.size()"
      ],
      "metadata": {
        "colab": {
          "base_uri": "https://localhost:8080/"
        },
        "id": "irYDBZN--Mnm",
        "outputId": "6355924a-2166-4200-fa0a-51d631da821b"
      },
      "execution_count": 139,
      "outputs": [
        {
          "output_type": "execute_result",
          "data": {
            "text/plain": [
              "torch.Size([12, 1, 4, 768])"
            ]
          },
          "metadata": {},
          "execution_count": 139
        }
      ]
    },
    {
      "cell_type": "markdown",
      "source": [
        "Heavily depends on means to get logit size. Look at this return value: it depends on batch!"
      ],
      "metadata": {
        "id": "F2hyrMSX-O27"
      }
    },
    {
      "cell_type": "code",
      "source": [
        "# def hook_fn_mask_mlp_out(\n",
        "#     mlp_out: Float[Tensor, \"batch seq d_mlp\"],\n",
        "#     hook: HookPoint,\n",
        "#     mlp_outputs_and_posns_to_keep: Dict[int, Bool[Tensor, \"batch seq\"]],\n",
        "#     means: Float[Tensor, \"layer batch seq d_mlp\"],\n",
        "# ) -> Float[Tensor, \"batch seq d_mlp\"]:"
      ],
      "metadata": {
        "id": "4N0kxUfHD7ts"
      },
      "execution_count": null,
      "outputs": []
    },
    {
      "cell_type": "markdown",
      "source": [
        "get_mlp_outputs... has:\n",
        "\n",
        "mask = t.zeros(size=(batch, seq))"
      ],
      "metadata": {
        "id": "RvrA3cSXEZ8Z"
      }
    },
    {
      "cell_type": "markdown",
      "source": [
        "So mlp_out has dim of batch. How is it even able to run on a batch 1 input then to get logits? Look at the logits:\n"
      ],
      "metadata": {
        "id": "MHDf_PUXFZmd"
      }
    },
    {
      "cell_type": "markdown",
      "source": [
        "![image.png](data:image/png;base64,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)"
      ],
      "metadata": {
        "id": "gmWcR_e9GtW5"
      }
    },
    {
      "cell_type": "markdown",
      "source": [
        "It's clearly broadcasting the same batch 1 input 100 times. So we just have to choose 1."
      ],
      "metadata": {
        "id": "keDG6BpIG1oc"
      }
    },
    {
      "cell_type": "code",
      "source": [
        "lst = list(range(9))\n",
        "\n",
        "CIRCUIT = {\n",
        "    \"number mover\": lst,\n",
        "    # \"number mover 4\": lst,\n",
        "    \"number mover 3\": lst,\n",
        "    \"number mover 2\": lst,\n",
        "    \"number mover 1\": lst,\n",
        "}\n",
        "\n",
        "SEQ_POS_TO_KEEP = {\n",
        "    \"number mover\": \"end\",\n",
        "    # \"number mover 4\": \"S4\",\n",
        "    \"number mover 3\": \"S3\",\n",
        "    \"number mover 2\": \"S2\",\n",
        "    \"number mover 1\": \"S1\",\n",
        "}"
      ],
      "metadata": {
        "id": "V06TRL2P_Iq2"
      },
      "execution_count": 150,
      "outputs": []
    },
    {
      "cell_type": "code",
      "source": [
        "mlp_outputs_and_posns_to_keep = get_mlp_outputs_and_posns_to_keep(dataset_2, model, CIRCUIT, SEQ_POS_TO_KEEP)"
      ],
      "metadata": {
        "id": "KSS9puW29Trb"
      },
      "execution_count": 151,
      "outputs": []
    },
    {
      "cell_type": "code",
      "source": [
        "model.reset_hooks(including_permanent=True)  #must do this after running with mean ablation hook\n",
        "\n",
        "# Get a hook function which will patch in the mean MLP output values for each MLP layer, at\n",
        "# all positions which aren't important for the circuit\n",
        "hook_fn = partial(\n",
        "    hook_fn_mask_mlp_out,\n",
        "    mlp_outputs_and_posns_to_keep = mlp_outputs_and_posns_to_keep,\n",
        "    means=means\n",
        ")\n",
        "\n",
        "# Apply hook\n",
        "model.add_hook(lambda name: name.endswith(\"mlp_out\"), hook_fn, is_permanent=True)\n",
        "\n",
        "# new_logits = model(dataset.toks)\n",
        "# # new_logits.size()\n",
        "\n",
        "# new_score = logits_to_ave_logit_diff(new_logits, dataset)\n",
        "\n",
        "# print(f\"Average logit difference (dataset, using entire model): {orig_score:.4f}\")\n",
        "# print(f\"Average logit difference (dataset, only using circuit): {new_score:.4f}\")\n",
        "# print(f\"Average logit difference (circuit / full) %: {100 * new_score / orig_score:.4f}\")"
      ],
      "metadata": {
        "id": "ZIrHf_3L9KJ1"
      },
      "execution_count": 152,
      "outputs": []
    },
    {
      "cell_type": "code",
      "source": [
        "# if prepend_space_to_answer and not answer.startswith(\" \"):\n",
        "#     answer = \" \" + answer\n",
        "# GPT-2 often treats the first token weirdly, so lets give it a resting position\n",
        "prompt_tokens = model.to_tokens(prompt, prepend_bos=False)\n",
        "answer_tokens = model.to_tokens(answer, prepend_bos=False)\n",
        "# tokens = torch.cat((prompt_tokens, answer_tokens), dim=1)\n",
        "prompt_str_tokens = model.to_str_tokens(prompt, prepend_bos=False)\n",
        "answer_str_tokens = model.to_str_tokens(answer, prepend_bos=False)\n",
        "prompt_length = len(prompt_str_tokens)\n",
        "answer_length = len(answer_str_tokens)\n",
        "\n",
        "print(\"Tokenized prompt:\", prompt_str_tokens)\n",
        "print(\"Tokenized answer:\", answer_str_tokens)\n",
        "logits = remove_batch_dim(model(prompt_tokens))\n",
        "probs = logits.softmax(dim=-1)"
      ],
      "metadata": {
        "colab": {
          "base_uri": "https://localhost:8080/"
        },
        "outputId": "dc9bdff5-6768-425f-a805-2c60d361035f",
        "id": "8ZyBy4dg9KJ8"
      },
      "execution_count": 153,
      "outputs": [
        {
          "output_type": "stream",
          "name": "stdout",
          "text": [
            "Tokenized prompt: ['1', ' 2', ' 3', ' 4']\n",
            "Tokenized answer: [' 5']\n"
          ]
        }
      ]
    },
    {
      "cell_type": "code",
      "source": [
        "model(prompt_tokens).size()"
      ],
      "metadata": {
        "colab": {
          "base_uri": "https://localhost:8080/"
        },
        "outputId": "3bc8d062-a310-4adf-9556-07812969390c",
        "id": "kpngP9ls9KJ8"
      },
      "execution_count": 154,
      "outputs": [
        {
          "output_type": "execute_result",
          "data": {
            "text/plain": [
              "torch.Size([1, 4, 50257])"
            ]
          },
          "metadata": {},
          "execution_count": 154
        }
      ]
    },
    {
      "cell_type": "code",
      "source": [
        "logits.size()"
      ],
      "metadata": {
        "colab": {
          "base_uri": "https://localhost:8080/"
        },
        "outputId": "541cc79c-9502-455e-d21e-688227510c04",
        "id": "QJhYGil79KJ8"
      },
      "execution_count": 144,
      "outputs": [
        {
          "output_type": "execute_result",
          "data": {
            "text/plain": [
              "torch.Size([4, 50257])"
            ]
          },
          "metadata": {},
          "execution_count": 144
        }
      ]
    },
    {
      "cell_type": "markdown",
      "source": [
        "The issue here is that means dataset has batche size 100, so logits has 100. But why does this only happen after adding the hook?"
      ],
      "metadata": {
        "id": "nSVY-bmp9KJ8"
      }
    },
    {
      "cell_type": "code",
      "source": [
        "top_k = 6\n",
        "\n",
        "answer_ranks = []\n",
        "for index in range(prompt_length, prompt_length + answer_length):\n",
        "    answer_token = tokens[0, index]\n",
        "    answer_str_token = answer_str_tokens[index - prompt_length]\n",
        "    # Offset by 1 because models predict the NEXT token\n",
        "    token_probs = probs[index - 1]\n",
        "    sorted_token_probs, sorted_token_values = token_probs.sort(descending=True) # sorted_token_values are the indices; the indices correspond to token num of vocab\n",
        "    break\n",
        "sorted_token_values == answer_token"
      ],
      "metadata": {
        "colab": {
          "base_uri": "https://localhost:8080/"
        },
        "outputId": "8e353e23-056f-4af6-9739-59b9477b62e2",
        "id": "TRnHMtRo9KJ8"
      },
      "execution_count": 155,
      "outputs": [
        {
          "output_type": "execute_result",
          "data": {
            "text/plain": [
              "tensor([False,  True, False,  ..., False, False, False])"
            ]
          },
          "metadata": {},
          "execution_count": 155
        }
      ]
    },
    {
      "cell_type": "code",
      "source": [
        "probs.size()"
      ],
      "metadata": {
        "colab": {
          "base_uri": "https://localhost:8080/"
        },
        "outputId": "8cc57af1-d0fe-4bda-81fd-568afff4944b",
        "id": "11hylh0q9KJ8"
      },
      "execution_count": 148,
      "outputs": [
        {
          "output_type": "execute_result",
          "data": {
            "text/plain": [
              "torch.Size([4, 50257])"
            ]
          },
          "metadata": {},
          "execution_count": 148
        }
      ]
    },
    {
      "cell_type": "code",
      "source": [
        "sorted_token_values.size()"
      ],
      "metadata": {
        "colab": {
          "base_uri": "https://localhost:8080/"
        },
        "outputId": "18e03947-8764-4d76-a41e-322ce095e53b",
        "id": "33hLFk9m9KJ8"
      },
      "execution_count": 147,
      "outputs": [
        {
          "output_type": "execute_result",
          "data": {
            "text/plain": [
              "torch.Size([50257])"
            ]
          },
          "metadata": {},
          "execution_count": 147
        }
      ]
    },
    {
      "cell_type": "code",
      "source": [
        "torch.arange(len(sorted_token_values))"
      ],
      "metadata": {
        "colab": {
          "base_uri": "https://localhost:8080/"
        },
        "outputId": "7fb89de5-7fd7-4c95-be84-d97d2bb30024",
        "id": "CTAnW9ek9KJ8"
      },
      "execution_count": 146,
      "outputs": [
        {
          "output_type": "execute_result",
          "data": {
            "text/plain": [
              "tensor([    0,     1,     2,  ..., 50254, 50255, 50256])"
            ]
          },
          "metadata": {},
          "execution_count": 146
        }
      ]
    },
    {
      "cell_type": "code",
      "source": [
        "top_k = 6\n",
        "\n",
        "answer_ranks = []\n",
        "for index in range(prompt_length, prompt_length + answer_length):\n",
        "    answer_token = tokens[0, index]\n",
        "    answer_str_token = answer_str_tokens[index - prompt_length]\n",
        "    # Offset by 1 because models predict the NEXT token\n",
        "    token_probs = probs[index - 1]\n",
        "    sorted_token_probs, sorted_token_values = token_probs.sort(descending=True) # sorted_token_values are the indices; the indices correspond to token num of vocab\n",
        "    # Janky way to get the index of the token in the sorted list - I couldn't find a better way?\n",
        "    correct_rank = torch.arange(len(sorted_token_values))[\n",
        "        (sorted_token_values == answer_token).cpu()\n",
        "    ].item()\n",
        "    answer_ranks.append((answer_str_token, correct_rank))\n",
        "\n",
        "    # String formatting syntax - the first number gives the number of characters to pad to, the second number gives the number of decimal places.\n",
        "    # rprint gives rich text printing\n",
        "    print(\n",
        "        f\"Performance on answer token:\\n[b]Rank: {correct_rank: <8} Logit: {logits[index-1, answer_token].item():5.2f} Prob: {token_probs[answer_token].item():6.2%} Token: |{answer_str_token}|[/b]\"\n",
        "    )\n",
        "    for i in range(top_k):\n",
        "        print(\n",
        "            f\"Top {i}th token. Logit: {logits[index-1, sorted_token_values[i]].item():5.2f} Prob: {sorted_token_probs[i].item():6.2%} Token: |{model.to_string(sorted_token_values[i])}|\"\n",
        "        )\n",
        "print(f\"[b]Ranks of the answer tokens:[/b] {answer_ranks}\")"
      ],
      "metadata": {
        "colab": {
          "base_uri": "https://localhost:8080/"
        },
        "outputId": "3089c7b3-9a23-45c0-dd0c-4c9616820280",
        "id": "wdyEmWcf9KJ8"
      },
      "execution_count": 156,
      "outputs": [
        {
          "output_type": "stream",
          "name": "stdout",
          "text": [
            "Performance on answer token:\n",
            "[b]Rank: 1        Logit: 14.38 Prob: 16.97% Token: | 5|[/b]\n",
            "Top 0th token. Logit: 14.86 Prob: 27.48% Token: | 4|\n",
            "Top 1th token. Logit: 14.38 Prob: 16.97% Token: | 5|\n",
            "Top 2th token. Logit: 13.88 Prob: 10.32% Token: | 3|\n",
            "Top 3th token. Logit: 13.54 Prob:  7.37% Token: | 6|\n",
            "Top 4th token. Logit: 13.54 Prob:  7.34% Token: | 1|\n",
            "Top 5th token. Logit: 13.08 Prob:  4.62% Token: | 2|\n",
            "[b]Ranks of the answer tokens:[/b] [(' 5', 1)]\n"
          ]
        }
      ]
    },
    {
      "cell_type": "markdown",
      "source": [
        "We see that MLP ablation of MLPs 10 and 11 messes it up so that it chooses 4, but doesn't choose 5."
      ],
      "metadata": {
        "id": "ly8UPUl-_Tdw"
      }
    },
    {
      "cell_type": "markdown",
      "source": [
        "# MLP and Head together"
      ],
      "metadata": {
        "id": "DlpH0Wib-v1j"
      }
    },
    {
      "cell_type": "code",
      "source": [
        "def get_heads_and_posns_to_keep(\n",
        "    means_dataset: Dataset,\n",
        "    model: HookedTransformer,\n",
        "    circuit: Dict[str, List[Tuple[int, int]]],\n",
        "    seq_pos_to_keep: Dict[str, str],\n",
        ") -> Dict[int, Bool[Tensor, \"batch seq head\"]]:\n",
        "    '''\n",
        "    Returns a dictionary mapping layers to a boolean mask giving the indices of the\n",
        "    z output which *shouldn't* be mean-ablated.\n",
        "\n",
        "    The output of this function will be used for the hook function that does ablation.\n",
        "    '''\n",
        "    heads_and_posns_to_keep = {}\n",
        "    batch, seq, n_heads = len(means_dataset), means_dataset.max_len, model.cfg.n_heads\n",
        "\n",
        "    for layer in range(model.cfg.n_layers):\n",
        "\n",
        "        mask = t.zeros(size=(batch, seq, n_heads))\n",
        "\n",
        "        for (head_type, head_list) in circuit.items():\n",
        "            seq_pos = seq_pos_to_keep[head_type]\n",
        "            indices = means_dataset.word_idx[seq_pos] # modify this for key vs query pos. curr, this is query\n",
        "            for (layer_idx, head_idx) in head_list:\n",
        "                if layer_idx == layer:\n",
        "                    mask[:, indices, head_idx] = 1\n",
        "\n",
        "        heads_and_posns_to_keep[layer] = mask.bool()\n",
        "\n",
        "    return heads_and_posns_to_keep\n",
        "\n",
        "def hook_fn_mask_z(\n",
        "    z: Float[Tensor, \"batch seq head d_head\"],\n",
        "    hook: HookPoint,\n",
        "    heads_and_posns_to_keep: Dict[int, Bool[Tensor, \"batch seq head\"]],\n",
        "    means: Float[Tensor, \"layer batch seq head d_head\"],\n",
        ") -> Float[Tensor, \"batch seq head d_head\"]:\n",
        "    '''\n",
        "    Hook function which masks the z output of a transformer head.\n",
        "\n",
        "    heads_and_posns_to_keep\n",
        "        Dict created with the get_heads_and_posns_to_keep function. This tells\n",
        "        us where to mask.\n",
        "\n",
        "    means\n",
        "        Tensor of mean z values of the means_dataset over each group of prompts\n",
        "        with the same template. This tells us what values to mask with.\n",
        "    '''\n",
        "    # Get the mask for this layer, and add d_head=1 dimension so it broadcasts correctly\n",
        "    mask_for_this_layer = heads_and_posns_to_keep[hook.layer()].unsqueeze(-1).to(z.device)\n",
        "\n",
        "    # Set z values to the mean\n",
        "    z = t.where(mask_for_this_layer, z, means[hook.layer()])\n",
        "\n",
        "    return z\n",
        "\n",
        "def compute_means_by_template(\n",
        "    means_dataset: Dataset,\n",
        "    model: HookedTransformer\n",
        ") -> Float[Tensor, \"layer batch seq head_idx d_head\"]:\n",
        "    '''\n",
        "    Returns the mean of each head's output over the means dataset. This mean is\n",
        "    computed separately for each group of prompts with the same template (these\n",
        "    are given by means_dataset.groups).\n",
        "    '''\n",
        "    # Cache the outputs of every head\n",
        "    _, means_cache = model.run_with_cache(\n",
        "        means_dataset.toks.long(),\n",
        "        return_type=None,\n",
        "        names_filter=lambda name: name.endswith(\"z\"),\n",
        "    )\n",
        "    # Create tensor to store means\n",
        "    n_layers, n_heads, d_head = model.cfg.n_layers, model.cfg.n_heads, model.cfg.d_head\n",
        "    batch, seq_len = len(means_dataset), means_dataset.max_len\n",
        "    means = t.zeros(size=(n_layers, batch, seq_len, n_heads, d_head), device=model.cfg.device)\n",
        "\n",
        "    # Get set of different templates for this data\n",
        "    for layer in range(model.cfg.n_layers):\n",
        "        z_for_this_layer: Float[Tensor, \"batch seq head d_head\"] = means_cache[utils.get_act_name(\"z\", layer)]\n",
        "        for template_group in means_dataset.groups:\n",
        "            z_for_this_template = z_for_this_layer[template_group]\n",
        "            z_means_for_this_template = einops.reduce(z_for_this_template, \"batch seq head d_head -> seq head d_head\", \"mean\")\n",
        "            means[layer, template_group] = z_means_for_this_template\n",
        "\n",
        "    return means\n",
        "\n",
        "def add_mean_ablation_hook(\n",
        "    model: HookedTransformer,\n",
        "    means_dataset: Dataset,\n",
        "    circuit: Dict[str, List[Tuple[int, int]]] = CIRCUIT,\n",
        "    seq_pos_to_keep: Dict[str, str] = SEQ_POS_TO_KEEP,\n",
        "    is_permanent: bool = True,\n",
        ") -> HookedTransformer:\n",
        "    '''\n",
        "    Adds a permanent hook to the model, which ablates according to the circuit and\n",
        "    seq_pos_to_keep dictionaries.\n",
        "\n",
        "    In other words, when the model is run on ioi_dataset, every head's output will\n",
        "    be replaced with the mean over means_dataset for sequences with the same template,\n",
        "    except for a subset of heads and sequence positions as specified by the circuit\n",
        "    and seq_pos_to_keep dicts.\n",
        "    '''\n",
        "\n",
        "    model.reset_hooks(including_permanent=True)\n",
        "\n",
        "    # Compute the mean of each head's output on the ABC dataset, grouped by template\n",
        "    means = compute_means_by_template(means_dataset, model)\n",
        "\n",
        "    # Convert this into a boolean map\n",
        "    heads_and_posns_to_keep = get_heads_and_posns_to_keep(means_dataset, model, circuit, seq_pos_to_keep)\n",
        "\n",
        "    # Get a hook function which will patch in the mean z values for each head, at\n",
        "    # all positions which aren't important for the circuit\n",
        "    hook_fn = partial(\n",
        "        hook_fn_mask_z,\n",
        "        heads_and_posns_to_keep=heads_and_posns_to_keep,\n",
        "        means=means\n",
        "    )\n",
        "\n",
        "    # Apply hook\n",
        "    model.add_hook(lambda name: name.endswith(\"z\"), hook_fn, is_permanent=is_permanent)\n",
        "\n",
        "    return model"
      ],
      "metadata": {
        "id": "cE7xLtws_Pnt"
      },
      "execution_count": null,
      "outputs": []
    },
    {
      "cell_type": "code",
      "source": [
        "def add_mean_ablation_hook_MLP_head(\n",
        "    model: HookedTransformer,\n",
        "    means_dataset: Dataset,\n",
        "    heads_lst, mlp_lst,\n",
        "    is_permanent: bool = True,\n",
        ") -> HookedTransformer:\n",
        "    CIRCUIT = {\n",
        "        \"number mover\": heads_lst,\n",
        "        \"number mover 3\": heads_lst,\n",
        "        \"number mover 2\": heads_lst,\n",
        "        \"number mover 1\": heads_lst,\n",
        "    }\n",
        "\n",
        "    SEQ_POS_TO_KEEP = {\n",
        "        \"number mover\": \"end\",\n",
        "        \"number mover 3\": \"S3\",\n",
        "        \"number mover 2\": \"S2\",\n",
        "        \"number mover 1\": \"S1\",\n",
        "    }\n",
        "\n",
        "    model.reset_hooks(including_permanent=True)\n",
        "\n",
        "    # Compute the mean of each head's output on the ABC dataset, grouped by template\n",
        "    means = compute_means_by_template(means_dataset, model)\n",
        "\n",
        "    # Convert this into a boolean map\n",
        "    heads_and_posns_to_keep = get_heads_and_posns_to_keep(means_dataset, model, CIRCUIT, SEQ_POS_TO_KEEP)\n",
        "\n",
        "    # Get a hook function which will patch in the mean z values for each head, at\n",
        "    # all positions which aren't important for the circuit\n",
        "    hook_fn = partial(\n",
        "        hook_fn_mask_z,\n",
        "        heads_and_posns_to_keep=heads_and_posns_to_keep,\n",
        "        means=means\n",
        "    )\n",
        "\n",
        "    # Apply hook\n",
        "    model.add_hook(lambda name: name.endswith(\"z\"), hook_fn, is_permanent=is_permanent)\n",
        "\n",
        "    ########################\n",
        "    CIRCUIT = {\n",
        "        \"number mover\": mlp_lst,\n",
        "        \"number mover 3\": mlp_lst,\n",
        "        \"number mover 2\": mlp_lst,\n",
        "        \"number mover 1\": mlp_lst,\n",
        "    }\n",
        "\n",
        "    SEQ_POS_TO_KEEP = {\n",
        "        \"number mover\": \"end\",\n",
        "        \"number mover 3\": \"S3\",\n",
        "        \"number mover 2\": \"S2\",\n",
        "        \"number mover 1\": \"S1\",\n",
        "    }\n",
        "\n",
        "    # Compute the mean of each head's output on the ABC dataset, grouped by template\n",
        "    means = compute_means_by_template_MLP(means_dataset, model)\n",
        "\n",
        "    # Convert this into a boolean map\n",
        "    mlp_outputs_and_posns_to_keep = get_mlp_outputs_and_posns_to_keep(means_dataset, model, CIRCUIT, SEQ_POS_TO_KEEP)\n",
        "\n",
        "    # Get a hook function which will patch in the mean z values for each head, at\n",
        "    # all positions which aren't important for the circuit\n",
        "    hook_fn = partial(\n",
        "        hook_fn_mask_mlp_out,\n",
        "        mlp_outputs_and_posns_to_keep=mlp_outputs_and_posns_to_keep,\n",
        "        means=means\n",
        "    )\n",
        "\n",
        "    # Apply hook\n",
        "    model.add_hook(lambda name: name.endswith(\"mlp_out\"), hook_fn, is_permanent=True)\n",
        "\n",
        "    return model"
      ],
      "metadata": {
        "id": "mnGaDWe__CyA"
      },
      "execution_count": null,
      "outputs": []
    },
    {
      "cell_type": "code",
      "source": [
        "heads_not_ablate = [(layer, head) for layer in range(12) for head in range(12)]\n",
        "mlps_not_ablate = [0, 1, 2, 3, 4, 5, 6, 7, 8, 9, 10, 11]\n",
        "\n",
        "model = add_mean_ablation_hook_MLP_head(model, dataset_2, heads_not_ablate, mlps_not_ablate)\n",
        "new_logits = model(dataset.toks)\n",
        "new_score = logits_to_ave_logit_diff(new_logits, dataset)\n",
        "print(f\"Average logit difference (circuit / full) %: {100 * new_score / orig_score:.4f}\")"
      ],
      "metadata": {
        "colab": {
          "base_uri": "https://localhost:8080/"
        },
        "id": "pfjSc0rEALmb",
        "outputId": "7e431e77-4b03-4dba-9972-8f4a6acc2980"
      },
      "execution_count": null,
      "outputs": [
        {
          "output_type": "stream",
          "name": "stdout",
          "text": [
            "Average logit difference (circuit / full) %: 100.0000\n"
          ]
        }
      ]
    },
    {
      "cell_type": "code",
      "source": [
        "# get rid of last layer\n",
        "\n",
        "heads_not_ablate = [(layer, head) for layer in range(11) for head in range(12)]\n",
        "mlps_not_ablate = [0, 1, 2, 3, 4, 5, 6, 7, 8, 9, 10]\n",
        "\n",
        "model = add_mean_ablation_hook_MLP_head(model, dataset_2, heads_not_ablate, mlps_not_ablate)\n",
        "new_logits = model(dataset.toks)\n",
        "new_score = logits_to_ave_logit_diff(new_logits, dataset)\n",
        "print(f\"Average logit difference (circuit / full) %: {100 * new_score / orig_score:.4f}\")"
      ],
      "metadata": {
        "colab": {
          "base_uri": "https://localhost:8080/"
        },
        "id": "RHbM_oeSAsbO",
        "outputId": "2be3386d-d558-4d8c-8ed5-9c4c10946a4f"
      },
      "execution_count": null,
      "outputs": [
        {
          "output_type": "stream",
          "name": "stdout",
          "text": [
            "Average logit difference (circuit / full) %: 74.3485\n"
          ]
        }
      ]
    },
    {
      "cell_type": "code",
      "source": [
        "# get rid of heads in L11\n",
        "\n",
        "heads_not_ablate = [(layer, head) for layer in range(11) for head in range(12)]\n",
        "mlps_not_ablate = [0, 1, 2, 3, 4, 5, 6, 7, 8, 9, 10, 11]\n",
        "\n",
        "model = add_mean_ablation_hook_MLP_head(model, dataset_2, heads_not_ablate, mlps_not_ablate)\n",
        "new_logits = model(dataset.toks)\n",
        "new_score = logits_to_ave_logit_diff(new_logits, dataset)\n",
        "print(f\"Average logit difference (circuit / full) %: {100 * new_score / orig_score:.4f}\")"
      ],
      "metadata": {
        "colab": {
          "base_uri": "https://localhost:8080/"
        },
        "id": "9ps_SUBDB4Zj",
        "outputId": "821ca894-7447-461b-a42f-62253a6b3556"
      },
      "execution_count": null,
      "outputs": [
        {
          "output_type": "stream",
          "name": "stdout",
          "text": [
            "Average logit difference (circuit / full) %: 99.3207\n"
          ]
        }
      ]
    },
    {
      "cell_type": "markdown",
      "source": [
        "Try ablating by orig dataset mean"
      ],
      "metadata": {
        "id": "XZnNkMQQCGDk"
      }
    },
    {
      "cell_type": "code",
      "source": [
        "# get rid of heads in L11\n",
        "\n",
        "heads_not_ablate = [(layer, head) for layer in range(10) for head in range(10)]\n",
        "mlps_not_ablate = [0, 1, 2, 3, 4, 5, 6, 7, 8, 9]\n",
        "\n",
        "model = add_mean_ablation_hook_MLP_head(model, dataset, heads_not_ablate, mlps_not_ablate)\n",
        "new_logits = model(dataset.toks)\n",
        "new_score = logits_to_ave_logit_diff(new_logits, dataset)\n",
        "print(f\"Average logit difference (circuit / full) %: {100 * new_score / orig_score:.4f}\")"
      ],
      "metadata": {
        "colab": {
          "base_uri": "https://localhost:8080/"
        },
        "id": "6Qa7WXKJCJZx",
        "outputId": "626d15ab-35e2-486f-fb12-59b411179443"
      },
      "execution_count": null,
      "outputs": [
        {
          "output_type": "stream",
          "name": "stdout",
          "text": [
            "Average logit difference (circuit / full) %: 30.9183\n"
          ]
        }
      ]
    },
    {
      "cell_type": "markdown",
      "source": [
        "# Head Ablation Expm Functions"
      ],
      "metadata": {
        "id": "BHHvz84w70vh"
      }
    },
    {
      "cell_type": "code",
      "source": [
        "# model.reset_hooks(including_permanent=True)\n",
        "# ioi_logits_original, ioi_cache = model.run_with_cache(dataset.toks)\n",
        "# orig_score = logits_to_ave_logit_diff(ioi_logits_original, dataset)"
      ],
      "metadata": {
        "id": "OI3FcmpMaNxB"
      },
      "execution_count": null,
      "outputs": []
    },
    {
      "cell_type": "code",
      "source": [
        "def mean_ablate_by_lst(lst, model, orig_score, print_output=True):\n",
        "    CIRCUIT = {\n",
        "        \"number mover\": lst,\n",
        "        # \"number mover 4\": lst,\n",
        "        \"number mover 3\": lst,\n",
        "        \"number mover 2\": lst,\n",
        "        \"number mover 1\": lst,\n",
        "    }\n",
        "\n",
        "    SEQ_POS_TO_KEEP = {\n",
        "        \"number mover\": \"end\",\n",
        "        # \"number mover 4\": \"S4\",\n",
        "        \"number mover 3\": \"S3\",\n",
        "        \"number mover 2\": \"S2\",\n",
        "        \"number mover 1\": \"S1\",\n",
        "    }\n",
        "\n",
        "    model.reset_hooks(including_permanent=True)  #must do this after running with mean ablation hook\n",
        "\n",
        "    # ioi_logits_original, ioi_cache = model.run_with_cache(dataset.toks)\n",
        "\n",
        "    model = ioi_circuit_extraction.add_mean_ablation_hook(model, means_dataset=dataset_2, circuit=CIRCUIT, seq_pos_to_keep=SEQ_POS_TO_KEEP)\n",
        "    ioi_logits_minimal = model(dataset.toks)\n",
        "\n",
        "    # orig_score = logits_to_ave_logit_diff_2(ioi_logits_original, dataset)\n",
        "    new_score = logits_to_ave_logit_diff(ioi_logits_minimal, dataset)\n",
        "    if print_output:\n",
        "        # print(f\"Average logit difference (IOI dataset, using entire model): {orig_score:.4f}\")\n",
        "        # print(f\"Average logit difference (IOI dataset, only using circuit): {new_score:.4f}\")\n",
        "        print(f\"Average logit difference (circuit / full) %: {100 * new_score / orig_score:.4f}\")\n",
        "    # return new_score\n",
        "    return 100 * new_score / orig_score"
      ],
      "metadata": {
        "id": "QLK5m1Ps70vh"
      },
      "execution_count": null,
      "outputs": []
    },
    {
      "cell_type": "code",
      "source": [
        "def find_circuit_forw(curr_circuit=None, orig_score=100, threshold=10):\n",
        "    # threshold is T, a %. if performance is less than T%, allow its removal\n",
        "    if curr_circuit == []:\n",
        "        # Start with full circuit\n",
        "        curr_circuit = [(layer, head) for layer in range(12) for head in range(12)]\n",
        "\n",
        "    for layer in range(0, 12):\n",
        "        for head in range(12):\n",
        "            if (layer, head) not in curr_circuit:\n",
        "                continue\n",
        "\n",
        "            # Copying the curr_circuit so we can iterate over one and modify the other\n",
        "            copy_circuit = curr_circuit.copy()\n",
        "\n",
        "            # Temporarily removing the current tuple from the copied circuit\n",
        "            copy_circuit.remove((layer, head))\n",
        "\n",
        "            new_score = mean_ablate_by_lst(copy_circuit, model, orig_score, print_output=False).item()\n",
        "\n",
        "            # print((layer,head), new_score)\n",
        "            # If the result is less than the threshold, remove the tuple from the original list\n",
        "            if (100 - new_score) < threshold:\n",
        "                curr_circuit.remove((layer, head))\n",
        "\n",
        "                print(\"\\nRemoved:\", (layer, head))\n",
        "                print(new_score)\n",
        "\n",
        "    return curr_circuit, new_score"
      ],
      "metadata": {
        "id": "ybrqaAul70vi"
      },
      "execution_count": null,
      "outputs": []
    },
    {
      "cell_type": "code",
      "source": [
        "def find_circuit_backw(curr_circuit=None, orig_score=100, threshold=10):\n",
        "    # threshold is T, a %. if performance is less than T%, allow its removal\n",
        "    if curr_circuit == []:\n",
        "        # Start with full circuit\n",
        "        curr_circuit = [(layer, head) for layer in range(12) for head in range(12)]\n",
        "\n",
        "    for layer in range(11, -1, -1):  # go thru all heads in a layer first\n",
        "        for head in range(12):\n",
        "            if (layer, head) not in curr_circuit:\n",
        "                continue\n",
        "\n",
        "            # Copying the curr_circuit so we can iterate over one and modify the other\n",
        "            copy_circuit = curr_circuit.copy()\n",
        "\n",
        "            # Temporarily removing the current tuple from the copied circuit\n",
        "            copy_circuit.remove((layer, head))\n",
        "\n",
        "            new_score = mean_ablate_by_lst(copy_circuit, model, orig_score, print_output=False).item()\n",
        "\n",
        "            # If the result is less than the threshold, remove the tuple from the original list\n",
        "            if (100 - new_score) < threshold:\n",
        "                curr_circuit.remove((layer, head))\n",
        "\n",
        "                print(\"\\nRemoved:\", (layer, head))\n",
        "                print(new_score)\n",
        "\n",
        "    return curr_circuit, new_score"
      ],
      "metadata": {
        "id": "p7jLJcMH70vi"
      },
      "execution_count": null,
      "outputs": []
    }
  ]
}